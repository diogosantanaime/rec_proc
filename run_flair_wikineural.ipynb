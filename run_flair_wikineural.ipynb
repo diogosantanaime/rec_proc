{
  "nbformat": 4,
  "nbformat_minor": 0,
  "metadata": {
    "colab": {
      "provenance": [],
      "gpuType": "T4",
      "authorship_tag": "ABX9TyNnMskIkh2zI7s5rP21nDPj",
      "include_colab_link": true
    },
    "kernelspec": {
      "name": "python3",
      "display_name": "Python 3"
    },
    "language_info": {
      "name": "python"
    }
  },
  "cells": [
    {
      "cell_type": "markdown",
      "metadata": {
        "id": "view-in-github",
        "colab_type": "text"
      },
      "source": [
        "<a href=\"https://colab.research.google.com/github/diogosantanaime/rec_proc/blob/main/run_flair_wikineural.ipynb\" target=\"_parent\"><img src=\"https://colab.research.google.com/assets/colab-badge.svg\" alt=\"Open In Colab\"/></a>"
      ]
    },
    {
      "cell_type": "code",
      "source": [
        "!pip install flair"
      ],
      "metadata": {
        "colab": {
          "base_uri": "https://localhost:8080/",
          "height": 1000
        },
        "id": "zaR6LK5HLXwM",
        "outputId": "96b2fcf9-799f-4599-e96c-cab04a29dd8f"
      },
      "execution_count": 1,
      "outputs": [
        {
          "output_type": "stream",
          "name": "stdout",
          "text": [
            "Looking in indexes: https://pypi.org/simple, https://us-python.pkg.dev/colab-wheels/public/simple/\n",
            "Collecting flair\n",
            "  Downloading flair-0.12.2-py3-none-any.whl (373 kB)\n",
            "\u001b[2K     \u001b[90m━━━━━━━━━━━━━━━━━━━━━━━━━━━━━━━━━━━━━━\u001b[0m \u001b[32m373.1/373.1 kB\u001b[0m \u001b[31m15.3 MB/s\u001b[0m eta \u001b[36m0:00:00\u001b[0m\n",
            "\u001b[?25hRequirement already satisfied: python-dateutil>=2.6.1 in /usr/local/lib/python3.10/dist-packages (from flair) (2.8.2)\n",
            "Requirement already satisfied: torch!=1.8,>=1.5.0 in /usr/local/lib/python3.10/dist-packages (from flair) (2.0.1+cu118)\n",
            "Requirement already satisfied: gensim>=3.8.0 in /usr/local/lib/python3.10/dist-packages (from flair) (4.3.1)\n",
            "Requirement already satisfied: tqdm>=4.26.0 in /usr/local/lib/python3.10/dist-packages (from flair) (4.65.0)\n",
            "Collecting segtok>=1.5.7 (from flair)\n",
            "  Downloading segtok-1.5.11-py3-none-any.whl (24 kB)\n",
            "Requirement already satisfied: matplotlib>=2.2.3 in /usr/local/lib/python3.10/dist-packages (from flair) (3.7.1)\n",
            "Collecting mpld3==0.3 (from flair)\n",
            "  Downloading mpld3-0.3.tar.gz (788 kB)\n",
            "\u001b[2K     \u001b[90m━━━━━━━━━━━━━━━━━━━━━━━━━━━━━━━━━━━━━━\u001b[0m \u001b[32m788.5/788.5 kB\u001b[0m \u001b[31m43.3 MB/s\u001b[0m eta \u001b[36m0:00:00\u001b[0m\n",
            "\u001b[?25h  Preparing metadata (setup.py) ... \u001b[?25l\u001b[?25hdone\n",
            "Requirement already satisfied: scikit-learn>=0.21.3 in /usr/local/lib/python3.10/dist-packages (from flair) (1.2.2)\n",
            "Collecting sqlitedict>=1.6.0 (from flair)\n",
            "  Downloading sqlitedict-2.1.0.tar.gz (21 kB)\n",
            "  Preparing metadata (setup.py) ... \u001b[?25l\u001b[?25hdone\n",
            "Collecting deprecated>=1.2.4 (from flair)\n",
            "  Downloading Deprecated-1.2.14-py2.py3-none-any.whl (9.6 kB)\n",
            "Requirement already satisfied: hyperopt>=0.2.7 in /usr/local/lib/python3.10/dist-packages (from flair) (0.2.7)\n",
            "Collecting boto3 (from flair)\n",
            "  Downloading boto3-1.26.143-py3-none-any.whl (135 kB)\n",
            "\u001b[2K     \u001b[90m━━━━━━━━━━━━━━━━━━━━━━━━━━━━━━━━━━━━━━\u001b[0m \u001b[32m135.6/135.6 kB\u001b[0m \u001b[31m16.0 MB/s\u001b[0m eta \u001b[36m0:00:00\u001b[0m\n",
            "\u001b[?25hCollecting transformers[sentencepiece]>=4.18.0 (from flair)\n",
            "  Downloading transformers-4.29.2-py3-none-any.whl (7.1 MB)\n",
            "\u001b[2K     \u001b[90m━━━━━━━━━━━━━━━━━━━━━━━━━━━━━━━━━━━━━━━━\u001b[0m \u001b[32m7.1/7.1 MB\u001b[0m \u001b[31m123.9 MB/s\u001b[0m eta \u001b[36m0:00:00\u001b[0m\n",
            "\u001b[?25hCollecting bpemb>=0.3.2 (from flair)\n",
            "  Downloading bpemb-0.3.4-py3-none-any.whl (19 kB)\n",
            "Requirement already satisfied: regex in /usr/local/lib/python3.10/dist-packages (from flair) (2022.10.31)\n",
            "Requirement already satisfied: tabulate in /usr/local/lib/python3.10/dist-packages (from flair) (0.8.10)\n",
            "Collecting langdetect (from flair)\n",
            "  Downloading langdetect-1.0.9.tar.gz (981 kB)\n",
            "\u001b[2K     \u001b[90m━━━━━━━━━━━━━━━━━━━━━━━━━━━━━━━━━━━━━━\u001b[0m \u001b[32m981.5/981.5 kB\u001b[0m \u001b[31m77.4 MB/s\u001b[0m eta \u001b[36m0:00:00\u001b[0m\n",
            "\u001b[?25h  Preparing metadata (setup.py) ... \u001b[?25l\u001b[?25hdone\n",
            "Requirement already satisfied: lxml in /usr/local/lib/python3.10/dist-packages (from flair) (4.9.2)\n",
            "Collecting ftfy (from flair)\n",
            "  Downloading ftfy-6.1.1-py3-none-any.whl (53 kB)\n",
            "\u001b[2K     \u001b[90m━━━━━━━━━━━━━━━━━━━━━━━━━━━━━━━━━━━━━━━━\u001b[0m \u001b[32m53.1/53.1 kB\u001b[0m \u001b[31m7.6 MB/s\u001b[0m eta \u001b[36m0:00:00\u001b[0m\n",
            "\u001b[?25hCollecting janome (from flair)\n",
            "  Downloading Janome-0.4.2-py2.py3-none-any.whl (19.7 MB)\n",
            "\u001b[2K     \u001b[90m━━━━━━━━━━━━━━━━━━━━━━━━━━━━━━━━━━━━━━━━\u001b[0m \u001b[32m19.7/19.7 MB\u001b[0m \u001b[31m87.3 MB/s\u001b[0m eta \u001b[36m0:00:00\u001b[0m\n",
            "\u001b[?25hCollecting gdown==4.4.0 (from flair)\n",
            "  Downloading gdown-4.4.0.tar.gz (14 kB)\n",
            "  Installing build dependencies ... \u001b[?25l\u001b[?25hdone\n",
            "  Getting requirements to build wheel ... \u001b[?25l\u001b[?25hdone\n",
            "  Preparing metadata (pyproject.toml) ... \u001b[?25l\u001b[?25hdone\n",
            "Collecting huggingface-hub>=0.10.0 (from flair)\n",
            "  Downloading huggingface_hub-0.14.1-py3-none-any.whl (224 kB)\n",
            "\u001b[2K     \u001b[90m━━━━━━━━━━━━━━━━━━━━━━━━━━━━━━━━━━━━━━\u001b[0m \u001b[32m224.5/224.5 kB\u001b[0m \u001b[31m26.9 MB/s\u001b[0m eta \u001b[36m0:00:00\u001b[0m\n",
            "\u001b[?25hCollecting conllu>=4.0 (from flair)\n",
            "  Downloading conllu-4.5.2-py2.py3-none-any.whl (16 kB)\n",
            "Requirement already satisfied: more-itertools in /usr/local/lib/python3.10/dist-packages (from flair) (9.1.0)\n",
            "Collecting wikipedia-api (from flair)\n",
            "  Downloading Wikipedia_API-0.5.8-py3-none-any.whl (13 kB)\n",
            "Collecting pptree (from flair)\n",
            "  Downloading pptree-3.1.tar.gz (3.0 kB)\n",
            "  Preparing metadata (setup.py) ... \u001b[?25l\u001b[?25hdone\n",
            "Collecting pytorch-revgrad (from flair)\n",
            "  Downloading pytorch_revgrad-0.2.0-py3-none-any.whl (4.6 kB)\n",
            "Collecting transformer-smaller-training-vocab>=0.2.1 (from flair)\n",
            "  Downloading transformer_smaller_training_vocab-0.2.4-py3-none-any.whl (13 kB)\n",
            "Requirement already satisfied: filelock in /usr/local/lib/python3.10/dist-packages (from gdown==4.4.0->flair) (3.12.0)\n",
            "Requirement already satisfied: requests[socks] in /usr/local/lib/python3.10/dist-packages (from gdown==4.4.0->flair) (2.27.1)\n",
            "Requirement already satisfied: six in /usr/local/lib/python3.10/dist-packages (from gdown==4.4.0->flair) (1.16.0)\n",
            "Requirement already satisfied: beautifulsoup4 in /usr/local/lib/python3.10/dist-packages (from gdown==4.4.0->flair) (4.11.2)\n",
            "Requirement already satisfied: numpy in /usr/local/lib/python3.10/dist-packages (from bpemb>=0.3.2->flair) (1.22.4)\n",
            "Collecting sentencepiece (from bpemb>=0.3.2->flair)\n",
            "  Downloading sentencepiece-0.1.99-cp310-cp310-manylinux_2_17_x86_64.manylinux2014_x86_64.whl (1.3 MB)\n",
            "\u001b[2K     \u001b[90m━━━━━━━━━━━━━━━━━━━━━━━━━━━━━━━━━━━━━━━━\u001b[0m \u001b[32m1.3/1.3 MB\u001b[0m \u001b[31m93.7 MB/s\u001b[0m eta \u001b[36m0:00:00\u001b[0m\n",
            "\u001b[?25hRequirement already satisfied: wrapt<2,>=1.10 in /usr/local/lib/python3.10/dist-packages (from deprecated>=1.2.4->flair) (1.14.1)\n",
            "Requirement already satisfied: scipy>=1.7.0 in /usr/local/lib/python3.10/dist-packages (from gensim>=3.8.0->flair) (1.10.1)\n",
            "Requirement already satisfied: smart-open>=1.8.1 in /usr/local/lib/python3.10/dist-packages (from gensim>=3.8.0->flair) (6.3.0)\n",
            "Requirement already satisfied: fsspec in /usr/local/lib/python3.10/dist-packages (from huggingface-hub>=0.10.0->flair) (2023.4.0)\n",
            "Requirement already satisfied: pyyaml>=5.1 in /usr/local/lib/python3.10/dist-packages (from huggingface-hub>=0.10.0->flair) (6.0)\n",
            "Requirement already satisfied: typing-extensions>=3.7.4.3 in /usr/local/lib/python3.10/dist-packages (from huggingface-hub>=0.10.0->flair) (4.5.0)\n",
            "Requirement already satisfied: packaging>=20.9 in /usr/local/lib/python3.10/dist-packages (from huggingface-hub>=0.10.0->flair) (23.1)\n",
            "Requirement already satisfied: networkx>=2.2 in /usr/local/lib/python3.10/dist-packages (from hyperopt>=0.2.7->flair) (3.1)\n",
            "Requirement already satisfied: future in /usr/local/lib/python3.10/dist-packages (from hyperopt>=0.2.7->flair) (0.18.3)\n",
            "Requirement already satisfied: cloudpickle in /usr/local/lib/python3.10/dist-packages (from hyperopt>=0.2.7->flair) (2.2.1)\n",
            "Requirement already satisfied: py4j in /usr/local/lib/python3.10/dist-packages (from hyperopt>=0.2.7->flair) (0.10.9.7)\n",
            "Requirement already satisfied: contourpy>=1.0.1 in /usr/local/lib/python3.10/dist-packages (from matplotlib>=2.2.3->flair) (1.0.7)\n",
            "Requirement already satisfied: cycler>=0.10 in /usr/local/lib/python3.10/dist-packages (from matplotlib>=2.2.3->flair) (0.11.0)\n",
            "Requirement already satisfied: fonttools>=4.22.0 in /usr/local/lib/python3.10/dist-packages (from matplotlib>=2.2.3->flair) (4.39.3)\n",
            "Requirement already satisfied: kiwisolver>=1.0.1 in /usr/local/lib/python3.10/dist-packages (from matplotlib>=2.2.3->flair) (1.4.4)\n",
            "Requirement already satisfied: pillow>=6.2.0 in /usr/local/lib/python3.10/dist-packages (from matplotlib>=2.2.3->flair) (8.4.0)\n",
            "Requirement already satisfied: pyparsing>=2.3.1 in /usr/local/lib/python3.10/dist-packages (from matplotlib>=2.2.3->flair) (3.0.9)\n",
            "Requirement already satisfied: joblib>=1.1.1 in /usr/local/lib/python3.10/dist-packages (from scikit-learn>=0.21.3->flair) (1.2.0)\n",
            "Requirement already satisfied: threadpoolctl>=2.0.0 in /usr/local/lib/python3.10/dist-packages (from scikit-learn>=0.21.3->flair) (3.1.0)\n",
            "Requirement already satisfied: sympy in /usr/local/lib/python3.10/dist-packages (from torch!=1.8,>=1.5.0->flair) (1.11.1)\n",
            "Requirement already satisfied: jinja2 in /usr/local/lib/python3.10/dist-packages (from torch!=1.8,>=1.5.0->flair) (3.1.2)\n",
            "Requirement already satisfied: triton==2.0.0 in /usr/local/lib/python3.10/dist-packages (from torch!=1.8,>=1.5.0->flair) (2.0.0)\n",
            "Requirement already satisfied: cmake in /usr/local/lib/python3.10/dist-packages (from triton==2.0.0->torch!=1.8,>=1.5.0->flair) (3.25.2)\n",
            "Requirement already satisfied: lit in /usr/local/lib/python3.10/dist-packages (from triton==2.0.0->torch!=1.8,>=1.5.0->flair) (16.0.5)\n",
            "Collecting datasets<3.0.0,>=2.0.0 (from transformer-smaller-training-vocab>=0.2.1->flair)\n",
            "  Downloading datasets-2.12.0-py3-none-any.whl (474 kB)\n",
            "\u001b[2K     \u001b[90m━━━━━━━━━━━━━━━━━━━━━━━━━━━━━━━━━━━━━━\u001b[0m \u001b[32m474.6/474.6 kB\u001b[0m \u001b[31m51.4 MB/s\u001b[0m eta \u001b[36m0:00:00\u001b[0m\n",
            "\u001b[?25hCollecting tokenizers!=0.11.3,<0.14,>=0.11.1 (from transformers[sentencepiece]>=4.18.0->flair)\n",
            "  Downloading tokenizers-0.13.3-cp310-cp310-manylinux_2_17_x86_64.manylinux2014_x86_64.whl (7.8 MB)\n",
            "\u001b[2K     \u001b[90m━━━━━━━━━━━━━━━━━━━━━━━━━━━━━━━━━━━━━━━━\u001b[0m \u001b[32m7.8/7.8 MB\u001b[0m \u001b[31m123.2 MB/s\u001b[0m eta \u001b[36m0:00:00\u001b[0m\n",
            "\u001b[?25hCollecting protobuf<=3.20.2 (from transformers[sentencepiece]>=4.18.0->flair)\n",
            "  Downloading protobuf-3.20.2-cp310-cp310-manylinux_2_12_x86_64.manylinux2010_x86_64.whl (1.1 MB)\n",
            "\u001b[2K     \u001b[90m━━━━━━━━━━━━━━━━━━━━━━━━━━━━━━━━━━━━━━━━\u001b[0m \u001b[32m1.1/1.1 MB\u001b[0m \u001b[31m72.9 MB/s\u001b[0m eta \u001b[36m0:00:00\u001b[0m\n",
            "\u001b[?25hCollecting botocore<1.30.0,>=1.29.143 (from boto3->flair)\n",
            "  Downloading botocore-1.29.143-py3-none-any.whl (10.8 MB)\n",
            "\u001b[2K     \u001b[90m━━━━━━━━━━━━━━━━━━━━━━━━━━━━━━━━━━━━━━━\u001b[0m \u001b[32m10.8/10.8 MB\u001b[0m \u001b[31m110.2 MB/s\u001b[0m eta \u001b[36m0:00:00\u001b[0m\n",
            "\u001b[?25hCollecting jmespath<2.0.0,>=0.7.1 (from boto3->flair)\n",
            "  Downloading jmespath-1.0.1-py3-none-any.whl (20 kB)\n",
            "Collecting s3transfer<0.7.0,>=0.6.0 (from boto3->flair)\n",
            "  Downloading s3transfer-0.6.1-py3-none-any.whl (79 kB)\n",
            "\u001b[2K     \u001b[90m━━━━━━━━━━━━━━━━━━━━━━━━━━━━━━━━━━━━━━━━\u001b[0m \u001b[32m79.8/79.8 kB\u001b[0m \u001b[31m11.3 MB/s\u001b[0m eta \u001b[36m0:00:00\u001b[0m\n",
            "\u001b[?25hRequirement already satisfied: wcwidth>=0.2.5 in /usr/local/lib/python3.10/dist-packages (from ftfy->flair) (0.2.6)\n",
            "Requirement already satisfied: urllib3<1.27,>=1.25.4 in /usr/local/lib/python3.10/dist-packages (from botocore<1.30.0,>=1.29.143->boto3->flair) (1.26.15)\n",
            "Requirement already satisfied: pyarrow>=8.0.0 in /usr/local/lib/python3.10/dist-packages (from datasets<3.0.0,>=2.0.0->transformer-smaller-training-vocab>=0.2.1->flair) (9.0.0)\n",
            "Collecting dill<0.3.7,>=0.3.0 (from datasets<3.0.0,>=2.0.0->transformer-smaller-training-vocab>=0.2.1->flair)\n",
            "  Downloading dill-0.3.6-py3-none-any.whl (110 kB)\n",
            "\u001b[2K     \u001b[90m━━━━━━━━━━━━━━━━━━━━━━━━━━━━━━━━━━━━━━\u001b[0m \u001b[32m110.5/110.5 kB\u001b[0m \u001b[31m15.8 MB/s\u001b[0m eta \u001b[36m0:00:00\u001b[0m\n",
            "\u001b[?25hRequirement already satisfied: pandas in /usr/local/lib/python3.10/dist-packages (from datasets<3.0.0,>=2.0.0->transformer-smaller-training-vocab>=0.2.1->flair) (1.5.3)\n",
            "Collecting xxhash (from datasets<3.0.0,>=2.0.0->transformer-smaller-training-vocab>=0.2.1->flair)\n",
            "  Downloading xxhash-3.2.0-cp310-cp310-manylinux_2_17_x86_64.manylinux2014_x86_64.whl (212 kB)\n",
            "\u001b[2K     \u001b[90m━━━━━━━━━━━━━━━━━━━━━━━━━━━━━━━━━━━━━━\u001b[0m \u001b[32m212.5/212.5 kB\u001b[0m \u001b[31m27.5 MB/s\u001b[0m eta \u001b[36m0:00:00\u001b[0m\n",
            "\u001b[?25hCollecting multiprocess (from datasets<3.0.0,>=2.0.0->transformer-smaller-training-vocab>=0.2.1->flair)\n",
            "  Downloading multiprocess-0.70.14-py310-none-any.whl (134 kB)\n",
            "\u001b[2K     \u001b[90m━━━━━━━━━━━━━━━━━━━━━━━━━━━━━━━━━━━━━━\u001b[0m \u001b[32m134.3/134.3 kB\u001b[0m \u001b[31m18.6 MB/s\u001b[0m eta \u001b[36m0:00:00\u001b[0m\n",
            "\u001b[?25hCollecting aiohttp (from datasets<3.0.0,>=2.0.0->transformer-smaller-training-vocab>=0.2.1->flair)\n",
            "  Downloading aiohttp-3.8.4-cp310-cp310-manylinux_2_17_x86_64.manylinux2014_x86_64.whl (1.0 MB)\n",
            "\u001b[2K     \u001b[90m━━━━━━━━━━━━━━━━━━━━━━━━━━━━━━━━━━━━━━━━\u001b[0m \u001b[32m1.0/1.0 MB\u001b[0m \u001b[31m79.6 MB/s\u001b[0m eta \u001b[36m0:00:00\u001b[0m\n",
            "\u001b[?25hCollecting responses<0.19 (from datasets<3.0.0,>=2.0.0->transformer-smaller-training-vocab>=0.2.1->flair)\n",
            "  Downloading responses-0.18.0-py3-none-any.whl (38 kB)\n",
            "Requirement already satisfied: certifi>=2017.4.17 in /usr/local/lib/python3.10/dist-packages (from requests[socks]->gdown==4.4.0->flair) (2022.12.7)\n",
            "Requirement already satisfied: charset-normalizer~=2.0.0 in /usr/local/lib/python3.10/dist-packages (from requests[socks]->gdown==4.4.0->flair) (2.0.12)\n",
            "Requirement already satisfied: idna<4,>=2.5 in /usr/local/lib/python3.10/dist-packages (from requests[socks]->gdown==4.4.0->flair) (3.4)\n",
            "Collecting accelerate>=0.19.0 (from transformers[sentencepiece]>=4.18.0->flair)\n",
            "  Downloading accelerate-0.19.0-py3-none-any.whl (219 kB)\n",
            "\u001b[2K     \u001b[90m━━━━━━━━━━━━━━━━━━━━━━━━━━━━━━━━━━━━━━\u001b[0m \u001b[32m219.1/219.1 kB\u001b[0m \u001b[31m28.8 MB/s\u001b[0m eta \u001b[36m0:00:00\u001b[0m\n",
            "\u001b[?25hRequirement already satisfied: soupsieve>1.2 in /usr/local/lib/python3.10/dist-packages (from beautifulsoup4->gdown==4.4.0->flair) (2.4.1)\n",
            "Requirement already satisfied: MarkupSafe>=2.0 in /usr/local/lib/python3.10/dist-packages (from jinja2->torch!=1.8,>=1.5.0->flair) (2.1.2)\n",
            "Requirement already satisfied: PySocks!=1.5.7,>=1.5.6 in /usr/local/lib/python3.10/dist-packages (from requests[socks]->gdown==4.4.0->flair) (1.7.1)\n",
            "Requirement already satisfied: mpmath>=0.19 in /usr/local/lib/python3.10/dist-packages (from sympy->torch!=1.8,>=1.5.0->flair) (1.3.0)\n",
            "Requirement already satisfied: psutil in /usr/local/lib/python3.10/dist-packages (from accelerate>=0.19.0->transformers[sentencepiece]>=4.18.0->flair) (5.9.5)\n",
            "Requirement already satisfied: attrs>=17.3.0 in /usr/local/lib/python3.10/dist-packages (from aiohttp->datasets<3.0.0,>=2.0.0->transformer-smaller-training-vocab>=0.2.1->flair) (23.1.0)\n",
            "Collecting multidict<7.0,>=4.5 (from aiohttp->datasets<3.0.0,>=2.0.0->transformer-smaller-training-vocab>=0.2.1->flair)\n",
            "  Downloading multidict-6.0.4-cp310-cp310-manylinux_2_17_x86_64.manylinux2014_x86_64.whl (114 kB)\n",
            "\u001b[2K     \u001b[90m━━━━━━━━━━━━━━━━━━━━━━━━━━━━━━━━━━━━━━\u001b[0m \u001b[32m114.5/114.5 kB\u001b[0m \u001b[31m18.1 MB/s\u001b[0m eta \u001b[36m0:00:00\u001b[0m\n",
            "\u001b[?25hCollecting async-timeout<5.0,>=4.0.0a3 (from aiohttp->datasets<3.0.0,>=2.0.0->transformer-smaller-training-vocab>=0.2.1->flair)\n",
            "  Downloading async_timeout-4.0.2-py3-none-any.whl (5.8 kB)\n",
            "Collecting yarl<2.0,>=1.0 (from aiohttp->datasets<3.0.0,>=2.0.0->transformer-smaller-training-vocab>=0.2.1->flair)\n",
            "  Downloading yarl-1.9.2-cp310-cp310-manylinux_2_17_x86_64.manylinux2014_x86_64.whl (268 kB)\n",
            "\u001b[2K     \u001b[90m━━━━━━━━━━━━━━━━━━━━━━━━━━━━━━━━━━━━━━\u001b[0m \u001b[32m268.8/268.8 kB\u001b[0m \u001b[31m31.5 MB/s\u001b[0m eta \u001b[36m0:00:00\u001b[0m\n",
            "\u001b[?25hCollecting frozenlist>=1.1.1 (from aiohttp->datasets<3.0.0,>=2.0.0->transformer-smaller-training-vocab>=0.2.1->flair)\n",
            "  Downloading frozenlist-1.3.3-cp310-cp310-manylinux_2_5_x86_64.manylinux1_x86_64.manylinux_2_17_x86_64.manylinux2014_x86_64.whl (149 kB)\n",
            "\u001b[2K     \u001b[90m━━━━━━━━━━━━━━━━━━━━━━━━━━━━━━━━━━━━━━\u001b[0m \u001b[32m149.6/149.6 kB\u001b[0m \u001b[31m18.0 MB/s\u001b[0m eta \u001b[36m0:00:00\u001b[0m\n",
            "\u001b[?25hCollecting aiosignal>=1.1.2 (from aiohttp->datasets<3.0.0,>=2.0.0->transformer-smaller-training-vocab>=0.2.1->flair)\n",
            "  Downloading aiosignal-1.3.1-py3-none-any.whl (7.6 kB)\n",
            "Requirement already satisfied: pytz>=2020.1 in /usr/local/lib/python3.10/dist-packages (from pandas->datasets<3.0.0,>=2.0.0->transformer-smaller-training-vocab>=0.2.1->flair) (2022.7.1)\n",
            "Building wheels for collected packages: gdown, mpld3, sqlitedict, langdetect, pptree\n",
            "  Building wheel for gdown (pyproject.toml) ... \u001b[?25l\u001b[?25hdone\n",
            "  Created wheel for gdown: filename=gdown-4.4.0-py3-none-any.whl size=14759 sha256=e7489b009cb7ed6010c31819d65379153b322f6b082a769b09ecde74b3667970\n",
            "  Stored in directory: /root/.cache/pip/wheels/03/0b/3f/6ddf67a417a5b400b213b0bb772a50276c199a386b12c06bfc\n",
            "  Building wheel for mpld3 (setup.py) ... \u001b[?25l\u001b[?25hdone\n",
            "  Created wheel for mpld3: filename=mpld3-0.3-py3-none-any.whl size=116685 sha256=bdf4d46ed0d99d099c9d029e7a6ad855fea6dcc7bdf9faf18d2c5adb9aeb701f\n",
            "  Stored in directory: /root/.cache/pip/wheels/9c/92/f7/45d9aac5dcfb1c2a1761a272365599cc7ba1050ce211a3fd9a\n",
            "  Building wheel for sqlitedict (setup.py) ... \u001b[?25l\u001b[?25hdone\n",
            "  Created wheel for sqlitedict: filename=sqlitedict-2.1.0-py3-none-any.whl size=16863 sha256=d72b42e1b90080e5de52e3ef93b0ed60a8b6e4be41ff5131041211fe0b27a2c6\n",
            "  Stored in directory: /root/.cache/pip/wheels/79/d6/e7/304e0e6cb2221022c26d8161f7c23cd4f259a9e41e8bbcfabd\n",
            "  Building wheel for langdetect (setup.py) ... \u001b[?25l\u001b[?25hdone\n",
            "  Created wheel for langdetect: filename=langdetect-1.0.9-py3-none-any.whl size=993224 sha256=84eae65c17513f6b9d6c408b220b0e363f36655f63454ae6e3f89077c161a48c\n",
            "  Stored in directory: /root/.cache/pip/wheels/95/03/7d/59ea870c70ce4e5a370638b5462a7711ab78fba2f655d05106\n",
            "  Building wheel for pptree (setup.py) ... \u001b[?25l\u001b[?25hdone\n",
            "  Created wheel for pptree: filename=pptree-3.1-py3-none-any.whl size=4609 sha256=769cc9daab08286e920cdf5f2324835607d284e7483fe9d10e7a2141ab5d3f1f\n",
            "  Stored in directory: /root/.cache/pip/wheels/9f/b6/0e/6f26eb9e6eb53ff2107a7888d72b5a6a597593956113037828\n",
            "Successfully built gdown mpld3 sqlitedict langdetect pptree\n",
            "Installing collected packages: tokenizers, sqlitedict, sentencepiece, pptree, mpld3, janome, xxhash, segtok, protobuf, multidict, langdetect, jmespath, ftfy, frozenlist, dill, deprecated, conllu, async-timeout, yarl, wikipedia-api, responses, multiprocess, huggingface-hub, botocore, aiosignal, transformers, s3transfer, gdown, bpemb, aiohttp, boto3, datasets, accelerate, transformer-smaller-training-vocab, pytorch-revgrad, flair\n",
            "  Attempting uninstall: protobuf\n",
            "    Found existing installation: protobuf 3.20.3\n",
            "    Uninstalling protobuf-3.20.3:\n",
            "      Successfully uninstalled protobuf-3.20.3\n",
            "  Attempting uninstall: gdown\n",
            "    Found existing installation: gdown 4.6.6\n",
            "    Uninstalling gdown-4.6.6:\n",
            "      Successfully uninstalled gdown-4.6.6\n",
            "\u001b[31mERROR: pip's dependency resolver does not currently take into account all the packages that are installed. This behaviour is the source of the following dependency conflicts.\n",
            "tensorflow 2.12.0 requires protobuf!=4.21.0,!=4.21.1,!=4.21.2,!=4.21.3,!=4.21.4,!=4.21.5,<5.0.0dev,>=3.20.3, but you have protobuf 3.20.2 which is incompatible.\n",
            "tensorflow-metadata 1.13.1 requires protobuf<5,>=3.20.3, but you have protobuf 3.20.2 which is incompatible.\u001b[0m\u001b[31m\n",
            "\u001b[0mSuccessfully installed accelerate-0.19.0 aiohttp-3.8.4 aiosignal-1.3.1 async-timeout-4.0.2 boto3-1.26.143 botocore-1.29.143 bpemb-0.3.4 conllu-4.5.2 datasets-2.12.0 deprecated-1.2.14 dill-0.3.6 flair-0.12.2 frozenlist-1.3.3 ftfy-6.1.1 gdown-4.4.0 huggingface-hub-0.14.1 janome-0.4.2 jmespath-1.0.1 langdetect-1.0.9 mpld3-0.3 multidict-6.0.4 multiprocess-0.70.14 pptree-3.1 protobuf-3.20.2 pytorch-revgrad-0.2.0 responses-0.18.0 s3transfer-0.6.1 segtok-1.5.11 sentencepiece-0.1.99 sqlitedict-2.1.0 tokenizers-0.13.3 transformer-smaller-training-vocab-0.2.4 transformers-4.29.2 wikipedia-api-0.5.8 xxhash-3.2.0 yarl-1.9.2\n"
          ]
        },
        {
          "output_type": "display_data",
          "data": {
            "application/vnd.colab-display-data+json": {
              "pip_warning": {
                "packages": [
                  "google"
                ]
              }
            }
          },
          "metadata": {}
        }
      ]
    },
    {
      "cell_type": "code",
      "source": [
        "import os\n",
        "import requests\n",
        "import matplotlib.pyplot as plt\n",
        "import random\n",
        "\n",
        "from flair.datasets import ColumnCorpus\n",
        "from flair.data import Corpus\n",
        "from flair.embeddings import WordEmbeddings, StackedEmbeddings, TokenEmbeddings, FlairEmbeddings\n",
        "from typing import List\n",
        "from flair.models import SequenceTagger\n",
        "from flair.trainers import ModelTrainer\n",
        "from flair.optim import SGDW"
      ],
      "metadata": {
        "id": "9Bvb0EONKucO"
      },
      "execution_count": 2,
      "outputs": []
    },
    {
      "cell_type": "code",
      "execution_count": 3,
      "metadata": {
        "colab": {
          "base_uri": "https://localhost:8080/"
        },
        "id": "a8q7HVngKevY",
        "outputId": "10fbe520-9a0e-4338-f16a-3e6da57f3e7d"
      },
      "outputs": [
        {
          "output_type": "stream",
          "name": "stdout",
          "text": [
            "train.conllu baixado com sucesso.\n",
            "test.conllu baixado com sucesso.\n",
            "val.conllu baixado com sucesso.\n"
          ]
        }
      ],
      "source": [
        "# URL base do diretório no GitHub\n",
        "base_url = 'https://github.com/Babelscape/wikineural/raw/master/data/wikineural/en'\n",
        "\n",
        "# Pasta de destino para salvar os arquivos\n",
        "destination_folder = '.'\n",
        "\n",
        "# Lista de arquivos para download\n",
        "file_list = [\n",
        "    'train.conllu',\n",
        "    'test.conllu',\n",
        "    'val.conllu'\n",
        "]\n",
        "\n",
        "# Cria a pasta de destino, se não existir\n",
        "os.makedirs(destination_folder, exist_ok=True)\n",
        "\n",
        "# Faz o download dos arquivos\n",
        "for file_name in file_list:\n",
        "    url = f'{base_url}/{file_name}'\n",
        "    response = requests.get(url, allow_redirects=True)\n",
        "    file_path = os.path.join(destination_folder, file_name)\n",
        "    with open(file_path, 'wb') as file:\n",
        "        file.write(response.content)\n",
        "    print(f'{file_name} baixado com sucesso.')\n",
        "\n",
        "# Define os caminhos dos arquivos no formato local\n",
        "train_file = os.path.join(destination_folder, 'train.conllu')\n",
        "test_file = os.path.join(destination_folder, 'test.conllu')\n",
        "dev_file = os.path.join(destination_folder, 'val.conllu')"
      ]
    },
    {
      "cell_type": "code",
      "source": [
        "# Define um dicionário de mapeamento das colunas do corpus\n",
        "columns = {0 : 'id', 1 : 'text', 2 : 'label'}\n",
        "\n",
        "# Define o caminho para a pasta de dados do corpus\n",
        "data_folder = '.'\n",
        "\n",
        "# Cria um objeto Corpus usando a classe ColumnCorpus\n",
        "# Passa o caminho da pasta de dados, o dicionário de colunas e os arquivos de treinamento, teste e desenvolvimento\n",
        "corpus: Corpus = ColumnCorpus(data_folder, columns,\n",
        "                              train_file = 'train.conllu',\n",
        "                              test_file = 'test.conllu',\n",
        "                              dev_file = 'val.conllu')"
      ],
      "metadata": {
        "colab": {
          "base_uri": "https://localhost:8080/"
        },
        "id": "BLhWDfNdLLfD",
        "outputId": "82b1303a-dc01-4aec-b843-74d98983fdbf"
      },
      "execution_count": 4,
      "outputs": [
        {
          "output_type": "stream",
          "name": "stdout",
          "text": [
            "2023-05-31 17:27:51,358 Reading data from .\n",
            "2023-05-31 17:27:51,360 Train: train.conllu\n",
            "2023-05-31 17:27:51,363 Dev: val.conllu\n",
            "2023-05-31 17:27:51,365 Test: test.conllu\n"
          ]
        }
      ]
    },
    {
      "cell_type": "code",
      "source": [
        "# Imprime o número de sentenças no conjunto de treinamento\n",
        "print(\"Número de sentenças de treinamento:\", len(corpus.train))\n",
        "\n",
        "# Imprime o número de sentenças no conjunto de teste\n",
        "print(\"Número de sentenças de teste:\", len(corpus.test))\n",
        "\n",
        "# Imprime o número de sentenças no conjunto de desenvolvimento\n",
        "print(\"Número de sentenças de desenvolvimento:\", len(corpus.dev))"
      ],
      "metadata": {
        "colab": {
          "base_uri": "https://localhost:8080/"
        },
        "id": "mAJ4g2ezX9Ao",
        "outputId": "74fc31fe-6a2d-4d26-efdd-06d8b34f973e"
      },
      "execution_count": 5,
      "outputs": [
        {
          "output_type": "stream",
          "name": "stdout",
          "text": [
            "Número de sentenças de treinamento: 92720\n",
            "Número de sentenças de teste: 11597\n",
            "Número de sentenças de desenvolvimento: 11590\n"
          ]
        }
      ]
    },
    {
      "cell_type": "code",
      "source": [
        "# Define o limite de sentenças para cada conjunto\n",
        "train_limit = 14000\n",
        "test_limit = 3500\n",
        "dev_limit = 3500\n",
        "\n",
        "# Lista para armazenar as sentenças selecionadas\n",
        "train_sentences = []\n",
        "test_sentences = []\n",
        "dev_sentences = []\n",
        "\n",
        "# Contadores para o número de sentenças em cada conjunto\n",
        "train_count = 0\n",
        "test_count = 0\n",
        "dev_count = 0\n",
        "\n",
        "# Percorre as sentenças do conjunto de treinamento\n",
        "for sentence in corpus.train:\n",
        "    # Verifica se o rótulo não é \"<unk>\"\n",
        "    if sentence.labels[0].value != '<unk>':\n",
        "        # Adiciona a sentença ao conjunto de treinamento\n",
        "        train_sentences.append(sentence)\n",
        "        train_count += 1\n",
        "\n",
        "        # Verifica se atingiu o limite de sentenças do conjunto de treinamento\n",
        "        if train_count == train_limit:\n",
        "            break\n",
        "\n",
        "# Percorre as sentenças do conjunto de teste\n",
        "for sentence in corpus.test:\n",
        "    # Verifica se o rótulo não é \"<unk>\"\n",
        "    if sentence.labels[0].value != '<unk>':\n",
        "        # Adiciona a sentença ao conjunto de teste\n",
        "        test_sentences.append(sentence)\n",
        "        test_count += 1\n",
        "\n",
        "        # Verifica se atingiu o limite de sentenças do conjunto de teste\n",
        "        if test_count == test_limit:\n",
        "            break\n",
        "\n",
        "# Percorre as sentenças do conjunto de validação\n",
        "for sentence in corpus.dev:\n",
        "    # Verifica se o rótulo não é \"<unk>\"\n",
        "    if sentence.labels[0].value != '<unk>':\n",
        "        # Adiciona a sentença ao conjunto de validação\n",
        "        dev_sentences.append(sentence)\n",
        "        dev_count += 1\n",
        "\n",
        "        # Verifica se atingiu o limite de sentenças do conjunto de validação\n",
        "        if dev_count == dev_limit:\n",
        "            break\n",
        "\n",
        "# Embaralha os conjuntos de treinamento, teste e validação\n",
        "random.shuffle(train_sentences)\n",
        "random.shuffle(test_sentences)\n",
        "random.shuffle(dev_sentences)\n",
        "\n",
        "# Define os subconjuntos finais com base nos limites\n",
        "train_subset = train_sentences[:train_limit]\n",
        "test_subset = test_sentences[:test_limit]\n",
        "dev_subset = dev_sentences[:dev_limit]"
      ],
      "metadata": {
        "id": "iFNN_sBXXdxc"
      },
      "execution_count": 6,
      "outputs": []
    },
    {
      "cell_type": "code",
      "source": [
        "# Combine os conjuntos de dados em um único corpus\n",
        "combined_corpus = Corpus(train=train_subset, dev=dev_subset, test=test_subset)\n",
        "\n",
        "# Verifique o número de sentenças em cada conjunto do corpus combinado\n",
        "print(\"Número de sentenças de treinamento:\", len(combined_corpus.train))\n",
        "print(\"Número de sentenças de teste:\", len(combined_corpus.test))\n",
        "print(\"Número de sentenças de desenvolvimento:\", len(combined_corpus.dev))"
      ],
      "metadata": {
        "colab": {
          "base_uri": "https://localhost:8080/"
        },
        "id": "HUUEill_X4zA",
        "outputId": "3996f024-7dfe-4337-bf72-0192d627a05f"
      },
      "execution_count": 7,
      "outputs": [
        {
          "output_type": "stream",
          "name": "stdout",
          "text": [
            "Número de sentenças de treinamento: 14000\n",
            "Número de sentenças de teste: 3500\n",
            "Número de sentenças de desenvolvimento: 3500\n"
          ]
        }
      ]
    },
    {
      "cell_type": "code",
      "source": [
        "# Obtém o dicionário de rótulos do corpus\n",
        "label_dictionary = combined_corpus.make_label_dictionary('label')\n",
        "\n",
        "# Inicializa o dicionário de contagem de rótulos\n",
        "label_counts = {}\n",
        "\n",
        "# Percorre os exemplos de treinamento e conta os rótulos\n",
        "for sentence in combined_corpus.train:\n",
        "    for label in sentence.get_labels('label'):\n",
        "        label_counts[label.value] = label_counts.get(label.value, 0) + 1\n",
        "\n",
        "# Verifica se o rótulo '<unk>' está presente e define sua contagem como 0 se não estiver\n",
        "if '<unk>' not in label_counts:\n",
        "    label_counts['<unk>'] = 0\n",
        "\n",
        "# Extrai os rótulos e as contagens\n",
        "labels = label_dictionary.get_items()\n",
        "counts = [label_counts[label] for label in labels]\n",
        "\n",
        "# Plota o gráfico de barras da distribuição dos rótulos\n",
        "plt.figure(figsize=(10, 6))\n",
        "plt.bar(labels, counts)\n",
        "plt.xlabel('Rótulos')\n",
        "plt.ylabel('Contagem')\n",
        "plt.title('Distribuição dos Rótulos no Corpus')\n",
        "plt.xticks(rotation=45)\n",
        "plt.tight_layout()\n",
        "plt.show()"
      ],
      "metadata": {
        "colab": {
          "base_uri": "https://localhost:8080/",
          "height": 652
        },
        "id": "s6-isKmOOcpv",
        "outputId": "8f39d5ca-91c8-4890-91de-91235f58c6fd"
      },
      "execution_count": 8,
      "outputs": [
        {
          "output_type": "stream",
          "name": "stdout",
          "text": [
            "2023-05-31 17:28:54,712 Computing label dictionary. Progress:\n"
          ]
        },
        {
          "output_type": "stream",
          "name": "stderr",
          "text": [
            "14000it [00:00, 41097.80it/s]"
          ]
        },
        {
          "output_type": "stream",
          "name": "stdout",
          "text": [
            "2023-05-31 17:28:55,102 Dictionary created for label 'label' with 5 values: LOC (seen 8494 times), MISC (seen 6143 times), PER (seen 6075 times), ORG (seen 3494 times)\n"
          ]
        },
        {
          "output_type": "stream",
          "name": "stderr",
          "text": [
            "\n"
          ]
        },
        {
          "output_type": "display_data",
          "data": {
            "text/plain": [
              "<Figure size 1000x600 with 1 Axes>"
            ],
            "image/png": "[encoded data removed]"
          },
          "metadata": {}
        }
      ]
    },
    {
      "cell_type": "code",
      "source": [
        "# Inicializa o dicionário de contagem de rótulos para cada conjunto\n",
        "train_label_counts = {}\n",
        "test_label_counts = {}\n",
        "dev_label_counts = {}\n",
        "\n",
        "# Percorre os exemplos de treinamento e conta os rótulos\n",
        "for sentence in combined_corpus.train:\n",
        "    for label in sentence.get_labels('label'):\n",
        "        train_label_counts[label.value] = train_label_counts.get(label.value, 0) + 1\n",
        "\n",
        "# Percorre os exemplos de teste e conta os rótulos\n",
        "for sentence in combined_corpus.test:\n",
        "    for label in sentence.get_labels('label'):\n",
        "        test_label_counts[label.value] = test_label_counts.get(label.value, 0) + 1\n",
        "\n",
        "# Percorre os exemplos de validação e conta os rótulos\n",
        "for sentence in combined_corpus.dev:\n",
        "    for label in sentence.get_labels('label'):\n",
        "        dev_label_counts[label.value] = dev_label_counts.get(label.value, 0) + 1\n",
        "\n",
        "# Verifica se o rótulo '<unk>' está presente e define sua contagem como 0 se não estiver para cada conjunto\n",
        "for label_counts in [train_label_counts, test_label_counts, dev_label_counts]:\n",
        "    if '<unk>' not in label_counts:\n",
        "        label_counts['<unk>'] = 0\n",
        "\n",
        "# Extrai os rótulos e as contagens para cada conjunto\n",
        "train_labels = label_dictionary.get_items()\n",
        "train_counts = [train_label_counts[label] for label in train_labels]\n",
        "\n",
        "test_labels = label_dictionary.get_items()\n",
        "test_counts = [test_label_counts[label] for label in test_labels]\n",
        "\n",
        "dev_labels = label_dictionary.get_items()\n",
        "dev_counts = [dev_label_counts[label] for label in dev_labels]\n",
        "\n",
        "# Plota o gráfico de barras da distribuição dos rótulos para cada conjunto\n",
        "fig, axs = plt.subplots(3, 1, figsize=(10, 18))\n",
        "\n",
        "axs[0].bar(train_labels, train_counts)\n",
        "axs[0].set_xlabel('Rótulos')\n",
        "axs[0].set_ylabel('Contagem')\n",
        "axs[0].set_title('Distribuição dos Rótulos - Treinamento')\n",
        "axs[0].tick_params(axis='x', rotation=45)\n",
        "\n",
        "axs[1].bar(test_labels, test_counts)\n",
        "axs[1].set_xlabel('Rótulos')\n",
        "axs[1].set_ylabel('Contagem')\n",
        "axs[1].set_title('Distribuição dos Rótulos - Teste')\n",
        "axs[1].tick_params(axis='x', rotation=45)\n",
        "\n",
        "axs[2].bar(dev_labels, dev_counts)\n",
        "axs[2].set_xlabel('Rótulos')\n",
        "axs[2].set_ylabel('Contagem')\n",
        "axs[2].set_title('Distribuição dos Rótulos - Validação')\n",
        "axs[2].tick_params(axis='x', rotation=45)\n",
        "\n",
        "plt.tight_layout()\n",
        "plt.show()"
      ],
      "metadata": {
        "colab": {
          "base_uri": "https://localhost:8080/",
          "height": 1000
        },
        "id": "MEafBpMgOulY",
        "outputId": "cb71c0df-24eb-48a8-ccd3-c8227f9db117"
      },
      "execution_count": 9,
      "outputs": [
        {
          "output_type": "display_data",
          "data": {
            "text/plain": [
              "<Figure size 1000x1800 with 3 Axes>"
            ],
            "image/png": "[encoded data removed]"
          },
          "metadata": {}
        }
      ]
    },
    {
      "cell_type": "code",
      "source": [
        "# Define o tipo de tag\n",
        "tag_type = 'label'\n",
        "\n",
        "# Cria um dicionário de tags usando o corpus combinado\n",
        "tag_dictionary = combined_corpus.make_label_dictionary(label_type=tag_type)\n",
        "\n",
        "# Define os tipos de embeddings desejados\n",
        "embedding_types: List[TokenEmbeddings] = [\n",
        "    #WordEmbeddings('glove'),\n",
        "    FlairEmbeddings('news-forward'),\n",
        "    FlairEmbeddings('news-backward'),\n",
        "]\n",
        "\n",
        "# Cria as embeddings empilhadas\n",
        "embeddings: StackedEmbeddings = StackedEmbeddings(embeddings=embedding_types)\n",
        "\n"
      ],
      "metadata": {
        "colab": {
          "base_uri": "https://localhost:8080/"
        },
        "id": "zRX8PMR6PlLq",
        "outputId": "7b84bdff-7c88-4f9d-e93c-3b162dd6f36d"
      },
      "execution_count": 10,
      "outputs": [
        {
          "output_type": "stream",
          "name": "stdout",
          "text": [
            "2023-05-31 17:28:56,095 Computing label dictionary. Progress:\n"
          ]
        },
        {
          "output_type": "stream",
          "name": "stderr",
          "text": [
            "14000it [00:00, 53629.13it/s]"
          ]
        },
        {
          "output_type": "stream",
          "name": "stdout",
          "text": [
            "2023-05-31 17:28:56,363 Dictionary created for label 'label' with 5 values: LOC (seen 8494 times), MISC (seen 6143 times), PER (seen 6075 times), ORG (seen 3494 times)\n"
          ]
        },
        {
          "output_type": "stream",
          "name": "stderr",
          "text": [
            "\n"
          ]
        },
        {
          "output_type": "stream",
          "name": "stdout",
          "text": [
            "2023-05-31 17:28:56,458 https://flair.informatik.hu-berlin.de/resources/embeddings/flair/news-forward-0.4.1.pt not found in cache, downloading to /tmp/tmps0hysmuh\n"
          ]
        },
        {
          "output_type": "stream",
          "name": "stderr",
          "text": [
            "100%|██████████| 69.7M/69.7M [00:01<00:00, 39.4MB/s]"
          ]
        },
        {
          "output_type": "stream",
          "name": "stdout",
          "text": [
            "2023-05-31 17:28:58,378 copying /tmp/tmps0hysmuh to cache at /root/.flair/embeddings/news-forward-0.4.1.pt\n",
            "2023-05-31 17:28:58,435 removing temp file /tmp/tmps0hysmuh\n"
          ]
        },
        {
          "output_type": "stream",
          "name": "stderr",
          "text": [
            "\n"
          ]
        },
        {
          "output_type": "stream",
          "name": "stdout",
          "text": [
            "2023-05-31 17:29:10,462 https://flair.informatik.hu-berlin.de/resources/embeddings/flair/news-backward-0.4.1.pt not found in cache, downloading to /tmp/tmps3bhw4jg\n"
          ]
        },
        {
          "output_type": "stream",
          "name": "stderr",
          "text": [
            "100%|██████████| 69.7M/69.7M [00:01<00:00, 36.7MB/s]"
          ]
        },
        {
          "output_type": "stream",
          "name": "stdout",
          "text": [
            "2023-05-31 17:29:12,535 copying /tmp/tmps3bhw4jg to cache at /root/.flair/embeddings/news-backward-0.4.1.pt\n"
          ]
        },
        {
          "output_type": "stream",
          "name": "stderr",
          "text": [
            "\n"
          ]
        },
        {
          "output_type": "stream",
          "name": "stdout",
          "text": [
            "2023-05-31 17:29:12,590 removing temp file /tmp/tmps3bhw4jg\n"
          ]
        }
      ]
    },
    {
      "cell_type": "code",
      "source": [
        "# Acesse os tipos de tags presentes no dicionário\n",
        "tag_types = tag_dictionary.get_items()\n",
        "\n",
        "# Imprima os tipos de tags\n",
        "print(\"Tipos de tags:\")\n",
        "for tag in tag_types:\n",
        "    print(tag)"
      ],
      "metadata": {
        "colab": {
          "base_uri": "https://localhost:8080/"
        },
        "id": "wvbYngJrZPGv",
        "outputId": "4cf7ec3a-c95a-4032-ba03-2e4ee74acbe7"
      },
      "execution_count": 11,
      "outputs": [
        {
          "output_type": "stream",
          "name": "stdout",
          "text": [
            "Tipos de tags:\n",
            "<unk>\n",
            "LOC\n",
            "MISC\n",
            "PER\n",
            "ORG\n"
          ]
        }
      ]
    },
    {
      "cell_type": "code",
      "source": [
        "# Imprime a primeira sentença do conjunto de treinamento convertida em uma sequência de texto com as tags anotadas.\n",
        "print('\\nTrain: ', combined_corpus.train[0].to_tagged_string('label'))\n",
        "\n",
        "# Imprime a primeira sentença do conjunto de desenvolvimento convertida em uma sequência de texto com as tags anotadas.\n",
        "print('Dev: ', combined_corpus.dev[0].to_tagged_string('label'))\n",
        "\n",
        "# Imprime a primeira sentença do conjunto de teste convertida em uma sequência de texto com as tags anotadas.\n",
        "print('Test: ', combined_corpus.test[0].to_tagged_string('label'))"
      ],
      "metadata": {
        "colab": {
          "base_uri": "https://localhost:8080/"
        },
        "id": "ZfBsryjAQMpS",
        "outputId": "b6d282cb-e3e3-4e6d-a7a6-b1f8024fcbd5"
      },
      "execution_count": 12,
      "outputs": [
        {
          "output_type": "stream",
          "name": "stdout",
          "text": [
            "\n",
            "Train:  Sentence[25]: \"There is a large and highly unusual statue of the head of Vladimir Lenin in the central square : the largest in the world .\" → [\"Vladimir Lenin\"/PER]\n",
            "Dev:  Sentence[56]: \"It is customary to have stations in the centre of a city built very deep , not only to minimise disruption , but also , because of the Cold War threat , they were built to double as bomb shelters , and many old stations do feature provisions such as blast doors and air filters .\" → [\"Cold War\"/MISC]\n",
            "Test:  Sentence[30]: \"On Rotten Tomatoes , \" Ocean 's 11 \" holds a rating of 48 % , based on 31 reviews , with an average rating of 5.33 / 10 .\" → [\"Rotten Tomatoes\"/MISC]\n"
          ]
        }
      ]
    },
    {
      "cell_type": "code",
      "source": [
        "# Importa a classe SequenceTagger do Flair\n",
        "\n",
        "tagger : SequenceTagger = SequenceTagger(hidden_size=256,\n",
        "                                       embeddings=embeddings,\n",
        "                                       tag_dictionary=tag_dictionary,\n",
        "                                       tag_type=tag_type,\n",
        "                                       use_crf=True)\n",
        "\n",
        "# Cria uma instância de SequenceTagger com os seguintes parâmetros:\n",
        "# - hidden_size: Especifica a dimensão do espaço oculto do modelo.\n",
        "# - embeddings: Passa o objeto embeddings que contém as embeddings de tokens definidas anteriormente.\n",
        "# - tag_dictionary: Passa o dicionário de tags criado a partir do corpus usando o método make_tag_dictionary().\n",
        "# - tag_type: Especifica o tipo de tag que o modelo irá prever.\n",
        "# - use_crf: Especifica se o modelo deve usar um Conditional Random Field (CRF) para realizar a anotação de sequência."
      ],
      "metadata": {
        "colab": {
          "base_uri": "https://localhost:8080/"
        },
        "id": "9c8ybvcNQTZh",
        "outputId": "b30b21ae-fca7-44df-ff6f-54c24a77d116"
      },
      "execution_count": 13,
      "outputs": [
        {
          "output_type": "stream",
          "name": "stdout",
          "text": [
            "2023-05-31 17:29:12,839 SequenceTagger predicts: Dictionary with 17 tags: O, S-LOC, B-LOC, E-LOC, I-LOC, S-MISC, B-MISC, E-MISC, I-MISC, S-PER, B-PER, E-PER, I-PER, S-ORG, B-ORG, E-ORG, I-ORG\n"
          ]
        }
      ]
    },
    {
      "cell_type": "code",
      "source": [
        "# Treinamento do modelo\n",
        "\n",
        "trainer: ModelTrainer = ModelTrainer(tagger, combined_corpus)\n",
        "trainer.train('resources/taggers/flair-wikineural',\n",
        "              learning_rate=0.1,  # Taxa de aprendizado\n",
        "              mini_batch_size=32,  # Tamanho do mini-batch\n",
        "              optimizer=SGDW,  # Otimizador\n",
        "              max_epochs=30)  # Número máximo de épocas"
      ],
      "metadata": {
        "colab": {
          "base_uri": "https://localhost:8080/"
        },
        "id": "eykj7LKa1j81",
        "outputId": "0df22137-a124-4d6f-d4eb-8374a8dfda66"
      },
      "execution_count": 14,
      "outputs": [
        {
          "output_type": "stream",
          "name": "stdout",
          "text": [
            "2023-05-31 17:29:13,077 ----------------------------------------------------------------------------------------------------\n",
            "2023-05-31 17:29:13,078 Model: \"SequenceTagger(\n",
            "  (embeddings): StackedEmbeddings(\n",
            "    (list_embedding_0): FlairEmbeddings(\n",
            "      (lm): LanguageModel(\n",
            "        (drop): Dropout(p=0.05, inplace=False)\n",
            "        (encoder): Embedding(300, 100)\n",
            "        (rnn): LSTM(100, 2048)\n",
            "      )\n",
            "    )\n",
            "    (list_embedding_1): FlairEmbeddings(\n",
            "      (lm): LanguageModel(\n",
            "        (drop): Dropout(p=0.05, inplace=False)\n",
            "        (encoder): Embedding(300, 100)\n",
            "        (rnn): LSTM(100, 2048)\n",
            "      )\n",
            "    )\n",
            "  )\n",
            "  (word_dropout): WordDropout(p=0.05)\n",
            "  (locked_dropout): LockedDropout(p=0.5)\n",
            "  (embedding2nn): Linear(in_features=4096, out_features=4096, bias=True)\n",
            "  (rnn): LSTM(4096, 256, batch_first=True, bidirectional=True)\n",
            "  (linear): Linear(in_features=512, out_features=19, bias=True)\n",
            "  (loss_function): ViterbiLoss()\n",
            "  (crf): CRF()\n",
            ")\"\n",
            "2023-05-31 17:29:13,082 ----------------------------------------------------------------------------------------------------\n",
            "2023-05-31 17:29:13,083 Corpus: \"Corpus: 14000 train + 3500 dev + 3500 test sentences\"\n",
            "2023-05-31 17:29:13,085 ----------------------------------------------------------------------------------------------------\n",
            "2023-05-31 17:29:13,086 Parameters:\n",
            "2023-05-31 17:29:13,087  - learning_rate: \"0.100000\"\n",
            "2023-05-31 17:29:13,088  - mini_batch_size: \"32\"\n",
            "2023-05-31 17:29:13,090  - patience: \"3\"\n",
            "2023-05-31 17:29:13,091  - anneal_factor: \"0.5\"\n",
            "2023-05-31 17:29:13,098  - max_epochs: \"30\"\n",
            "2023-05-31 17:29:13,100  - shuffle: \"True\"\n",
            "2023-05-31 17:29:13,101  - train_with_dev: \"False\"\n",
            "2023-05-31 17:29:13,102  - batch_growth_annealing: \"False\"\n",
            "2023-05-31 17:29:13,106 ----------------------------------------------------------------------------------------------------\n",
            "2023-05-31 17:29:13,107 Model training base path: \"resources/taggers/flair-wikineural\"\n",
            "2023-05-31 17:29:13,110 ----------------------------------------------------------------------------------------------------\n",
            "2023-05-31 17:29:13,111 Device: cuda:0\n",
            "2023-05-31 17:29:13,112 ----------------------------------------------------------------------------------------------------\n",
            "2023-05-31 17:29:13,115 Embeddings storage mode: cpu\n",
            "2023-05-31 17:29:13,118 ----------------------------------------------------------------------------------------------------\n"
          ]
        },
        {
          "output_type": "stream",
          "name": "stderr",
          "text": [
            "/usr/local/lib/python3.10/dist-packages/flair/optim.py:132: UserWarning: This overload of add_ is deprecated:\n",
            "\tadd_(Number alpha, Tensor other)\n",
            "Consider using one of the following signatures instead:\n",
            "\tadd_(Tensor other, *, Number alpha) (Triggered internally at ../torch/csrc/utils/python_arg_parser.cpp:1485.)\n",
            "  p.data.add_(-group[\"lr\"], d_p)\n"
          ]
        },
        {
          "output_type": "stream",
          "name": "stdout",
          "text": [
            "2023-05-31 17:29:30,866 epoch 1 - iter 43/438 - loss 0.60947719 - time (sec): 17.75 - samples/sec: 1822.78 - lr: 0.100000\n",
            "2023-05-31 17:29:50,604 epoch 1 - iter 86/438 - loss 0.41983186 - time (sec): 37.48 - samples/sec: 1735.25 - lr: 0.100000\n",
            "2023-05-31 17:30:10,945 epoch 1 - iter 129/438 - loss 0.33332942 - time (sec): 57.83 - samples/sec: 1700.13 - lr: 0.100000\n",
            "2023-05-31 17:30:30,383 epoch 1 - iter 172/438 - loss 0.28342494 - time (sec): 77.26 - samples/sec: 1698.01 - lr: 0.100000\n",
            "2023-05-31 17:30:51,061 epoch 1 - iter 215/438 - loss 0.25116582 - time (sec): 97.94 - samples/sec: 1678.53 - lr: 0.100000\n",
            "2023-05-31 17:31:10,397 epoch 1 - iter 258/438 - loss 0.22780956 - time (sec): 117.28 - samples/sec: 1679.62 - lr: 0.100000\n",
            "2023-05-31 17:31:32,273 epoch 1 - iter 301/438 - loss 0.21030351 - time (sec): 139.15 - samples/sec: 1654.64 - lr: 0.100000\n",
            "2023-05-31 17:31:51,877 epoch 1 - iter 344/438 - loss 0.19667397 - time (sec): 158.76 - samples/sec: 1657.90 - lr: 0.100000\n",
            "2023-05-31 17:32:12,294 epoch 1 - iter 387/438 - loss 0.18573862 - time (sec): 179.17 - samples/sec: 1651.33 - lr: 0.100000\n",
            "2023-05-31 17:32:32,875 epoch 1 - iter 430/438 - loss 0.17648280 - time (sec): 199.76 - samples/sec: 1649.19 - lr: 0.100000\n",
            "2023-05-31 17:32:36,972 ----------------------------------------------------------------------------------------------------\n",
            "2023-05-31 17:32:36,974 EPOCH 1 done: loss 0.1749 - lr 0.100000\n"
          ]
        },
        {
          "output_type": "stream",
          "name": "stderr",
          "text": [
            "100%|██████████| 110/110 [01:04<00:00,  1.71it/s]"
          ]
        },
        {
          "output_type": "stream",
          "name": "stdout",
          "text": [
            "2023-05-31 17:33:41,488 Evaluating as a multi-label problem: False\n",
            "2023-05-31 17:33:41,542 DEV : loss 0.06970632076263428 - f1-score (micro avg)  0.7922\n"
          ]
        },
        {
          "output_type": "stream",
          "name": "stderr",
          "text": [
            "\n"
          ]
        },
        {
          "output_type": "stream",
          "name": "stdout",
          "text": [
            "2023-05-31 17:33:41,781 BAD EPOCHS (no improvement): 0\n",
            "2023-05-31 17:33:41,783 saving best model\n",
            "2023-05-31 17:33:42,267 ----------------------------------------------------------------------------------------------------\n",
            "2023-05-31 17:33:47,704 epoch 2 - iter 43/438 - loss 0.09415284 - time (sec): 5.44 - samples/sec: 6019.32 - lr: 0.100000\n",
            "2023-05-31 17:33:53,279 epoch 2 - iter 86/438 - loss 0.09103178 - time (sec): 11.01 - samples/sec: 5911.21 - lr: 0.100000\n",
            "2023-05-31 17:33:58,609 epoch 2 - iter 129/438 - loss 0.08956326 - time (sec): 16.34 - samples/sec: 5959.99 - lr: 0.100000\n",
            "2023-05-31 17:34:04,694 epoch 2 - iter 172/438 - loss 0.08784311 - time (sec): 22.43 - samples/sec: 5837.92 - lr: 0.100000\n",
            "2023-05-31 17:34:10,022 epoch 2 - iter 215/438 - loss 0.08629667 - time (sec): 27.75 - samples/sec: 5890.57 - lr: 0.100000\n",
            "2023-05-31 17:34:15,582 epoch 2 - iter 258/438 - loss 0.08578773 - time (sec): 33.31 - samples/sec: 5914.64 - lr: 0.100000\n",
            "2023-05-31 17:34:21,120 epoch 2 - iter 301/438 - loss 0.08461807 - time (sec): 38.85 - samples/sec: 5903.78 - lr: 0.100000\n",
            "2023-05-31 17:34:26,530 epoch 2 - iter 344/438 - loss 0.08365473 - time (sec): 44.26 - samples/sec: 5946.27 - lr: 0.100000\n",
            "2023-05-31 17:34:31,825 epoch 2 - iter 387/438 - loss 0.08225758 - time (sec): 49.56 - samples/sec: 5975.16 - lr: 0.100000\n",
            "2023-05-31 17:34:37,407 epoch 2 - iter 430/438 - loss 0.08187618 - time (sec): 55.14 - samples/sec: 5971.50 - lr: 0.100000\n",
            "2023-05-31 17:34:38,378 ----------------------------------------------------------------------------------------------------\n",
            "2023-05-31 17:34:38,379 EPOCH 2 done: loss 0.0817 - lr 0.100000\n"
          ]
        },
        {
          "output_type": "stream",
          "name": "stderr",
          "text": [
            "100%|██████████| 110/110 [00:20<00:00,  5.43it/s]"
          ]
        },
        {
          "output_type": "stream",
          "name": "stdout",
          "text": [
            "2023-05-31 17:34:58,660 Evaluating as a multi-label problem: False\n",
            "2023-05-31 17:34:58,708 DEV : loss 0.055137842893600464 - f1-score (micro avg)  0.8124\n"
          ]
        },
        {
          "output_type": "stream",
          "name": "stderr",
          "text": [
            "\n"
          ]
        },
        {
          "output_type": "stream",
          "name": "stdout",
          "text": [
            "2023-05-31 17:34:58,946 BAD EPOCHS (no improvement): 0\n",
            "2023-05-31 17:34:58,948 saving best model\n",
            "2023-05-31 17:34:59,440 ----------------------------------------------------------------------------------------------------\n",
            "2023-05-31 17:35:05,437 epoch 3 - iter 43/438 - loss 0.07631155 - time (sec): 6.00 - samples/sec: 5468.80 - lr: 0.100000\n",
            "2023-05-31 17:35:11,077 epoch 3 - iter 86/438 - loss 0.07399180 - time (sec): 11.64 - samples/sec: 5624.70 - lr: 0.100000\n",
            "2023-05-31 17:35:16,715 epoch 3 - iter 129/438 - loss 0.07270608 - time (sec): 17.27 - samples/sec: 5718.62 - lr: 0.100000\n",
            "2023-05-31 17:35:22,245 epoch 3 - iter 172/438 - loss 0.07343325 - time (sec): 22.80 - samples/sec: 5790.34 - lr: 0.100000\n",
            "2023-05-31 17:35:27,750 epoch 3 - iter 215/438 - loss 0.07133854 - time (sec): 28.31 - samples/sec: 5816.24 - lr: 0.100000\n",
            "2023-05-31 17:35:33,069 epoch 3 - iter 258/438 - loss 0.07066915 - time (sec): 33.63 - samples/sec: 5864.27 - lr: 0.100000\n",
            "2023-05-31 17:35:38,565 epoch 3 - iter 301/438 - loss 0.06978059 - time (sec): 39.12 - samples/sec: 5872.98 - lr: 0.100000\n",
            "2023-05-31 17:35:44,022 epoch 3 - iter 344/438 - loss 0.06986252 - time (sec): 44.58 - samples/sec: 5887.03 - lr: 0.100000\n",
            "2023-05-31 17:35:49,578 epoch 3 - iter 387/438 - loss 0.06913302 - time (sec): 50.14 - samples/sec: 5904.11 - lr: 0.100000\n",
            "2023-05-31 17:35:55,352 epoch 3 - iter 430/438 - loss 0.06849545 - time (sec): 55.91 - samples/sec: 5897.21 - lr: 0.100000\n",
            "2023-05-31 17:35:56,328 ----------------------------------------------------------------------------------------------------\n",
            "2023-05-31 17:35:56,330 EPOCH 3 done: loss 0.0683 - lr 0.100000\n"
          ]
        },
        {
          "output_type": "stream",
          "name": "stderr",
          "text": [
            "100%|██████████| 110/110 [00:20<00:00,  5.45it/s]"
          ]
        },
        {
          "output_type": "stream",
          "name": "stdout",
          "text": [
            "2023-05-31 17:36:16,530 Evaluating as a multi-label problem: False\n",
            "2023-05-31 17:36:16,577 DEV : loss 0.05064845085144043 - f1-score (micro avg)  0.819\n"
          ]
        },
        {
          "output_type": "stream",
          "name": "stderr",
          "text": [
            "\n"
          ]
        },
        {
          "output_type": "stream",
          "name": "stdout",
          "text": [
            "2023-05-31 17:36:16,801 BAD EPOCHS (no improvement): 0\n",
            "2023-05-31 17:36:16,803 saving best model\n",
            "2023-05-31 17:36:17,310 ----------------------------------------------------------------------------------------------------\n",
            "2023-05-31 17:36:22,871 epoch 4 - iter 43/438 - loss 0.06464226 - time (sec): 5.56 - samples/sec: 5860.71 - lr: 0.100000\n",
            "2023-05-31 17:36:28,701 epoch 4 - iter 86/438 - loss 0.06248356 - time (sec): 11.39 - samples/sec: 5762.36 - lr: 0.100000\n",
            "2023-05-31 17:36:33,984 epoch 4 - iter 129/438 - loss 0.06182171 - time (sec): 16.67 - samples/sec: 5897.46 - lr: 0.100000\n",
            "2023-05-31 17:36:39,445 epoch 4 - iter 172/438 - loss 0.06067235 - time (sec): 22.13 - samples/sec: 5935.70 - lr: 0.100000\n",
            "2023-05-31 17:36:44,816 epoch 4 - iter 215/438 - loss 0.06099103 - time (sec): 27.50 - samples/sec: 5946.70 - lr: 0.100000\n",
            "2023-05-31 17:36:50,235 epoch 4 - iter 258/438 - loss 0.06107639 - time (sec): 32.92 - samples/sec: 5976.94 - lr: 0.100000\n",
            "2023-05-31 17:36:55,901 epoch 4 - iter 301/438 - loss 0.06149619 - time (sec): 38.59 - samples/sec: 5975.73 - lr: 0.100000\n",
            "2023-05-31 17:37:01,549 epoch 4 - iter 344/438 - loss 0.06140009 - time (sec): 44.24 - samples/sec: 5967.49 - lr: 0.100000\n",
            "2023-05-31 17:37:06,988 epoch 4 - iter 387/438 - loss 0.06093705 - time (sec): 49.68 - samples/sec: 5975.32 - lr: 0.100000\n",
            "2023-05-31 17:37:12,222 epoch 4 - iter 430/438 - loss 0.06053270 - time (sec): 54.91 - samples/sec: 5999.36 - lr: 0.100000\n",
            "2023-05-31 17:37:13,135 ----------------------------------------------------------------------------------------------------\n",
            "2023-05-31 17:37:13,137 EPOCH 4 done: loss 0.0606 - lr 0.100000\n"
          ]
        },
        {
          "output_type": "stream",
          "name": "stderr",
          "text": [
            "100%|██████████| 110/110 [00:20<00:00,  5.33it/s]"
          ]
        },
        {
          "output_type": "stream",
          "name": "stdout",
          "text": [
            "2023-05-31 17:37:33,808 Evaluating as a multi-label problem: False\n",
            "2023-05-31 17:37:33,865 DEV : loss 0.04570441693067551 - f1-score (micro avg)  0.8433\n"
          ]
        },
        {
          "output_type": "stream",
          "name": "stderr",
          "text": [
            "\n"
          ]
        },
        {
          "output_type": "stream",
          "name": "stdout",
          "text": [
            "2023-05-31 17:37:34,105 BAD EPOCHS (no improvement): 0\n",
            "2023-05-31 17:37:34,107 saving best model\n",
            "2023-05-31 17:37:34,615 ----------------------------------------------------------------------------------------------------\n",
            "2023-05-31 17:37:40,059 epoch 5 - iter 43/438 - loss 0.05609153 - time (sec): 5.44 - samples/sec: 6133.65 - lr: 0.100000\n",
            "2023-05-31 17:37:45,264 epoch 5 - iter 86/438 - loss 0.05600296 - time (sec): 10.65 - samples/sec: 6208.39 - lr: 0.100000\n",
            "2023-05-31 17:37:51,047 epoch 5 - iter 129/438 - loss 0.05423299 - time (sec): 16.43 - samples/sec: 6038.59 - lr: 0.100000\n",
            "2023-05-31 17:37:56,904 epoch 5 - iter 172/438 - loss 0.05412165 - time (sec): 22.29 - samples/sec: 5950.00 - lr: 0.100000\n",
            "2023-05-31 17:38:02,447 epoch 5 - iter 215/438 - loss 0.05411748 - time (sec): 27.83 - samples/sec: 5938.16 - lr: 0.100000\n",
            "2023-05-31 17:38:07,902 epoch 5 - iter 258/438 - loss 0.05455246 - time (sec): 33.28 - samples/sec: 5951.75 - lr: 0.100000\n",
            "2023-05-31 17:38:13,173 epoch 5 - iter 301/438 - loss 0.05510198 - time (sec): 38.56 - samples/sec: 5975.15 - lr: 0.100000\n",
            "2023-05-31 17:38:19,079 epoch 5 - iter 344/438 - loss 0.05540526 - time (sec): 44.46 - samples/sec: 5927.69 - lr: 0.100000\n",
            "2023-05-31 17:38:24,345 epoch 5 - iter 387/438 - loss 0.05508962 - time (sec): 49.73 - samples/sec: 5967.69 - lr: 0.100000\n",
            "2023-05-31 17:38:30,229 epoch 5 - iter 430/438 - loss 0.05573889 - time (sec): 55.61 - samples/sec: 5927.70 - lr: 0.100000\n",
            "2023-05-31 17:38:31,091 ----------------------------------------------------------------------------------------------------\n",
            "2023-05-31 17:38:31,092 EPOCH 5 done: loss 0.0555 - lr 0.100000\n"
          ]
        },
        {
          "output_type": "stream",
          "name": "stderr",
          "text": [
            "100%|██████████| 110/110 [00:20<00:00,  5.34it/s]"
          ]
        },
        {
          "output_type": "stream",
          "name": "stdout",
          "text": [
            "2023-05-31 17:38:51,711 Evaluating as a multi-label problem: False\n",
            "2023-05-31 17:38:51,766 DEV : loss 0.043715305626392365 - f1-score (micro avg)  0.8494\n"
          ]
        },
        {
          "output_type": "stream",
          "name": "stderr",
          "text": [
            "\n"
          ]
        },
        {
          "output_type": "stream",
          "name": "stdout",
          "text": [
            "2023-05-31 17:38:52,003 BAD EPOCHS (no improvement): 0\n",
            "2023-05-31 17:38:52,005 saving best model\n",
            "2023-05-31 17:38:52,542 ----------------------------------------------------------------------------------------------------\n",
            "2023-05-31 17:38:58,857 epoch 6 - iter 43/438 - loss 0.05004825 - time (sec): 6.31 - samples/sec: 5330.46 - lr: 0.100000\n",
            "2023-05-31 17:39:04,693 epoch 6 - iter 86/438 - loss 0.05181225 - time (sec): 12.15 - samples/sec: 5490.27 - lr: 0.100000\n",
            "2023-05-31 17:39:10,348 epoch 6 - iter 129/438 - loss 0.05179535 - time (sec): 17.80 - samples/sec: 5632.03 - lr: 0.100000\n",
            "2023-05-31 17:39:15,662 epoch 6 - iter 172/438 - loss 0.05209010 - time (sec): 23.12 - samples/sec: 5749.29 - lr: 0.100000\n",
            "2023-05-31 17:39:21,624 epoch 6 - iter 215/438 - loss 0.05195244 - time (sec): 29.08 - samples/sec: 5713.44 - lr: 0.100000\n",
            "2023-05-31 17:39:26,922 epoch 6 - iter 258/438 - loss 0.05277580 - time (sec): 34.38 - samples/sec: 5766.82 - lr: 0.100000\n",
            "2023-05-31 17:39:32,761 epoch 6 - iter 301/438 - loss 0.05284080 - time (sec): 40.22 - samples/sec: 5752.36 - lr: 0.100000\n",
            "2023-05-31 17:39:38,402 epoch 6 - iter 344/438 - loss 0.05215537 - time (sec): 45.86 - samples/sec: 5773.49 - lr: 0.100000\n",
            "2023-05-31 17:39:44,023 epoch 6 - iter 387/438 - loss 0.05207241 - time (sec): 51.48 - samples/sec: 5779.69 - lr: 0.100000\n",
            "2023-05-31 17:39:49,234 epoch 6 - iter 430/438 - loss 0.05187001 - time (sec): 56.69 - samples/sec: 5813.66 - lr: 0.100000\n",
            "2023-05-31 17:39:50,202 ----------------------------------------------------------------------------------------------------\n",
            "2023-05-31 17:39:50,204 EPOCH 6 done: loss 0.0516 - lr 0.100000\n"
          ]
        },
        {
          "output_type": "stream",
          "name": "stderr",
          "text": [
            "100%|██████████| 110/110 [00:20<00:00,  5.40it/s]"
          ]
        },
        {
          "output_type": "stream",
          "name": "stdout",
          "text": [
            "2023-05-31 17:40:10,608 Evaluating as a multi-label problem: False\n",
            "2023-05-31 17:40:10,675 DEV : loss 0.04221685230731964 - f1-score (micro avg)  0.8502\n"
          ]
        },
        {
          "output_type": "stream",
          "name": "stderr",
          "text": [
            "\n"
          ]
        },
        {
          "output_type": "stream",
          "name": "stdout",
          "text": [
            "2023-05-31 17:40:10,919 BAD EPOCHS (no improvement): 0\n",
            "2023-05-31 17:40:10,921 saving best model\n",
            "2023-05-31 17:40:11,446 ----------------------------------------------------------------------------------------------------\n",
            "2023-05-31 17:40:17,247 epoch 7 - iter 43/438 - loss 0.04739026 - time (sec): 5.80 - samples/sec: 5752.94 - lr: 0.100000\n",
            "2023-05-31 17:40:22,893 epoch 7 - iter 86/438 - loss 0.04639270 - time (sec): 11.44 - samples/sec: 5788.08 - lr: 0.100000\n",
            "2023-05-31 17:40:28,612 epoch 7 - iter 129/438 - loss 0.04766087 - time (sec): 17.16 - samples/sec: 5767.02 - lr: 0.100000\n",
            "2023-05-31 17:40:34,180 epoch 7 - iter 172/438 - loss 0.04784825 - time (sec): 22.73 - samples/sec: 5789.57 - lr: 0.100000\n",
            "2023-05-31 17:40:40,036 epoch 7 - iter 215/438 - loss 0.04814148 - time (sec): 28.59 - samples/sec: 5742.24 - lr: 0.100000\n",
            "2023-05-31 17:40:45,618 epoch 7 - iter 258/438 - loss 0.04807829 - time (sec): 34.17 - samples/sec: 5766.29 - lr: 0.100000\n",
            "2023-05-31 17:40:51,682 epoch 7 - iter 301/438 - loss 0.04824811 - time (sec): 40.23 - samples/sec: 5729.15 - lr: 0.100000\n",
            "2023-05-31 17:40:57,197 epoch 7 - iter 344/438 - loss 0.04821922 - time (sec): 45.75 - samples/sec: 5758.79 - lr: 0.100000\n",
            "2023-05-31 17:41:02,549 epoch 7 - iter 387/438 - loss 0.04831922 - time (sec): 51.10 - samples/sec: 5799.75 - lr: 0.100000\n",
            "2023-05-31 17:41:07,964 epoch 7 - iter 430/438 - loss 0.04850757 - time (sec): 56.52 - samples/sec: 5830.47 - lr: 0.100000\n",
            "2023-05-31 17:41:08,896 ----------------------------------------------------------------------------------------------------\n",
            "2023-05-31 17:41:08,898 EPOCH 7 done: loss 0.0485 - lr 0.100000\n"
          ]
        },
        {
          "output_type": "stream",
          "name": "stderr",
          "text": [
            "100%|██████████| 110/110 [00:21<00:00,  5.23it/s]"
          ]
        },
        {
          "output_type": "stream",
          "name": "stdout",
          "text": [
            "2023-05-31 17:41:29,954 Evaluating as a multi-label problem: False\n",
            "2023-05-31 17:41:30,002 DEV : loss 0.04199768975377083 - f1-score (micro avg)  0.854\n"
          ]
        },
        {
          "output_type": "stream",
          "name": "stderr",
          "text": [
            "\n"
          ]
        },
        {
          "output_type": "stream",
          "name": "stdout",
          "text": [
            "2023-05-31 17:41:30,244 BAD EPOCHS (no improvement): 0\n",
            "2023-05-31 17:41:30,246 saving best model\n",
            "2023-05-31 17:41:30,758 ----------------------------------------------------------------------------------------------------\n",
            "2023-05-31 17:41:36,438 epoch 8 - iter 43/438 - loss 0.04217385 - time (sec): 5.68 - samples/sec: 5786.47 - lr: 0.100000\n",
            "2023-05-31 17:41:41,916 epoch 8 - iter 86/438 - loss 0.04434910 - time (sec): 11.15 - samples/sec: 5970.81 - lr: 0.100000\n",
            "2023-05-31 17:41:47,500 epoch 8 - iter 129/438 - loss 0.04634958 - time (sec): 16.74 - samples/sec: 5909.61 - lr: 0.100000\n",
            "2023-05-31 17:41:53,039 epoch 8 - iter 172/438 - loss 0.04570168 - time (sec): 22.28 - samples/sec: 5944.19 - lr: 0.100000\n",
            "2023-05-31 17:41:58,293 epoch 8 - iter 215/438 - loss 0.04683562 - time (sec): 27.53 - samples/sec: 5981.19 - lr: 0.100000\n",
            "2023-05-31 17:42:03,746 epoch 8 - iter 258/438 - loss 0.04697641 - time (sec): 32.98 - samples/sec: 5988.58 - lr: 0.100000\n",
            "2023-05-31 17:42:09,349 epoch 8 - iter 301/438 - loss 0.04672086 - time (sec): 38.59 - samples/sec: 5964.90 - lr: 0.100000\n",
            "2023-05-31 17:42:14,848 epoch 8 - iter 344/438 - loss 0.04656776 - time (sec): 44.09 - samples/sec: 5971.44 - lr: 0.100000\n",
            "2023-05-31 17:42:20,526 epoch 8 - iter 387/438 - loss 0.04654762 - time (sec): 49.76 - samples/sec: 5958.98 - lr: 0.100000\n",
            "2023-05-31 17:42:25,958 epoch 8 - iter 430/438 - loss 0.04653360 - time (sec): 55.20 - samples/sec: 5973.52 - lr: 0.100000\n",
            "2023-05-31 17:42:26,859 ----------------------------------------------------------------------------------------------------\n",
            "2023-05-31 17:42:26,860 EPOCH 8 done: loss 0.0465 - lr 0.100000\n"
          ]
        },
        {
          "output_type": "stream",
          "name": "stderr",
          "text": [
            "100%|██████████| 110/110 [00:30<00:00,  3.58it/s]"
          ]
        },
        {
          "output_type": "stream",
          "name": "stdout",
          "text": [
            "2023-05-31 17:42:57,607 Evaluating as a multi-label problem: False\n",
            "2023-05-31 17:42:57,659 DEV : loss 0.04054354503750801 - f1-score (micro avg)  0.8626\n"
          ]
        },
        {
          "output_type": "stream",
          "name": "stderr",
          "text": [
            "\n"
          ]
        },
        {
          "output_type": "stream",
          "name": "stdout",
          "text": [
            "2023-05-31 17:42:57,902 BAD EPOCHS (no improvement): 0\n",
            "2023-05-31 17:42:57,904 saving best model\n",
            "2023-05-31 17:42:58,395 ----------------------------------------------------------------------------------------------------\n",
            "2023-05-31 17:43:04,261 epoch 9 - iter 43/438 - loss 0.04501226 - time (sec): 5.86 - samples/sec: 5697.84 - lr: 0.100000\n",
            "2023-05-31 17:43:09,941 epoch 9 - iter 86/438 - loss 0.04390365 - time (sec): 11.54 - samples/sec: 5740.16 - lr: 0.100000\n",
            "2023-05-31 17:43:15,969 epoch 9 - iter 129/438 - loss 0.04453866 - time (sec): 17.57 - samples/sec: 5658.82 - lr: 0.100000\n",
            "2023-05-31 17:43:21,407 epoch 9 - iter 172/438 - loss 0.04399103 - time (sec): 23.01 - samples/sec: 5749.33 - lr: 0.100000\n",
            "2023-05-31 17:43:26,833 epoch 9 - iter 215/438 - loss 0.04381486 - time (sec): 28.44 - samples/sec: 5794.13 - lr: 0.100000\n",
            "2023-05-31 17:43:32,165 epoch 9 - iter 258/438 - loss 0.04410199 - time (sec): 33.77 - samples/sec: 5846.75 - lr: 0.100000\n",
            "2023-05-31 17:43:37,597 epoch 9 - iter 301/438 - loss 0.04397457 - time (sec): 39.20 - samples/sec: 5872.55 - lr: 0.100000\n",
            "2023-05-31 17:43:43,044 epoch 9 - iter 344/438 - loss 0.04432896 - time (sec): 44.65 - samples/sec: 5900.63 - lr: 0.100000\n",
            "2023-05-31 17:43:48,517 epoch 9 - iter 387/438 - loss 0.04413494 - time (sec): 50.12 - samples/sec: 5921.61 - lr: 0.100000\n",
            "2023-05-31 17:43:54,004 epoch 9 - iter 430/438 - loss 0.04400867 - time (sec): 55.61 - samples/sec: 5926.96 - lr: 0.100000\n",
            "2023-05-31 17:43:55,128 ----------------------------------------------------------------------------------------------------\n",
            "2023-05-31 17:43:55,130 EPOCH 9 done: loss 0.0440 - lr 0.100000\n"
          ]
        },
        {
          "output_type": "stream",
          "name": "stderr",
          "text": [
            "100%|██████████| 110/110 [00:19<00:00,  5.59it/s]"
          ]
        },
        {
          "output_type": "stream",
          "name": "stdout",
          "text": [
            "2023-05-31 17:44:14,821 Evaluating as a multi-label problem: False\n",
            "2023-05-31 17:44:14,879 DEV : loss 0.03966616466641426 - f1-score (micro avg)  0.8596\n"
          ]
        },
        {
          "output_type": "stream",
          "name": "stderr",
          "text": [
            "\n"
          ]
        },
        {
          "output_type": "stream",
          "name": "stdout",
          "text": [
            "2023-05-31 17:44:15,128 BAD EPOCHS (no improvement): 1\n",
            "2023-05-31 17:44:15,131 ----------------------------------------------------------------------------------------------------\n",
            "2023-05-31 17:44:20,927 epoch 10 - iter 43/438 - loss 0.04361040 - time (sec): 5.80 - samples/sec: 5633.59 - lr: 0.100000\n",
            "2023-05-31 17:44:26,565 epoch 10 - iter 86/438 - loss 0.04147709 - time (sec): 11.43 - samples/sec: 5744.56 - lr: 0.100000\n",
            "2023-05-31 17:44:31,911 epoch 10 - iter 129/438 - loss 0.04170984 - time (sec): 16.78 - samples/sec: 5899.72 - lr: 0.100000\n",
            "2023-05-31 17:44:37,458 epoch 10 - iter 172/438 - loss 0.04149065 - time (sec): 22.33 - samples/sec: 5906.37 - lr: 0.100000\n",
            "2023-05-31 17:44:43,263 epoch 10 - iter 215/438 - loss 0.04134710 - time (sec): 28.13 - samples/sec: 5871.24 - lr: 0.100000\n",
            "2023-05-31 17:44:48,700 epoch 10 - iter 258/438 - loss 0.04159476 - time (sec): 33.57 - samples/sec: 5891.13 - lr: 0.100000\n",
            "2023-05-31 17:44:54,330 epoch 10 - iter 301/438 - loss 0.04180566 - time (sec): 39.20 - samples/sec: 5907.60 - lr: 0.100000\n",
            "2023-05-31 17:44:59,867 epoch 10 - iter 344/438 - loss 0.04175188 - time (sec): 44.74 - samples/sec: 5901.71 - lr: 0.100000\n",
            "2023-05-31 17:45:05,352 epoch 10 - iter 387/438 - loss 0.04187832 - time (sec): 50.22 - samples/sec: 5911.03 - lr: 0.100000\n",
            "2023-05-31 17:45:10,922 epoch 10 - iter 430/438 - loss 0.04201556 - time (sec): 55.79 - samples/sec: 5910.91 - lr: 0.100000\n",
            "2023-05-31 17:45:11,866 ----------------------------------------------------------------------------------------------------\n",
            "2023-05-31 17:45:11,868 EPOCH 10 done: loss 0.0420 - lr 0.100000\n"
          ]
        },
        {
          "output_type": "stream",
          "name": "stderr",
          "text": [
            "100%|██████████| 110/110 [00:20<00:00,  5.43it/s]"
          ]
        },
        {
          "output_type": "stream",
          "name": "stdout",
          "text": [
            "2023-05-31 17:45:32,160 Evaluating as a multi-label problem: False\n",
            "2023-05-31 17:45:32,206 DEV : loss 0.0371476411819458 - f1-score (micro avg)  0.8682\n"
          ]
        },
        {
          "output_type": "stream",
          "name": "stderr",
          "text": [
            "\n"
          ]
        },
        {
          "output_type": "stream",
          "name": "stdout",
          "text": [
            "2023-05-31 17:45:32,427 BAD EPOCHS (no improvement): 0\n",
            "2023-05-31 17:45:32,429 saving best model\n",
            "2023-05-31 17:45:32,983 ----------------------------------------------------------------------------------------------------\n",
            "2023-05-31 17:45:38,552 epoch 11 - iter 43/438 - loss 0.04113357 - time (sec): 5.57 - samples/sec: 5812.88 - lr: 0.100000\n",
            "2023-05-31 17:45:44,303 epoch 11 - iter 86/438 - loss 0.04056860 - time (sec): 11.32 - samples/sec: 5787.59 - lr: 0.100000\n",
            "2023-05-31 17:45:50,001 epoch 11 - iter 129/438 - loss 0.04053833 - time (sec): 17.02 - samples/sec: 5786.98 - lr: 0.100000\n",
            "2023-05-31 17:45:55,431 epoch 11 - iter 172/438 - loss 0.04025440 - time (sec): 22.45 - samples/sec: 5866.19 - lr: 0.100000\n",
            "2023-05-31 17:46:00,856 epoch 11 - iter 215/438 - loss 0.03992538 - time (sec): 27.87 - samples/sec: 5920.65 - lr: 0.100000\n",
            "2023-05-31 17:46:06,456 epoch 11 - iter 258/438 - loss 0.04037000 - time (sec): 33.47 - samples/sec: 5905.73 - lr: 0.100000\n",
            "2023-05-31 17:46:11,969 epoch 11 - iter 301/438 - loss 0.03988016 - time (sec): 38.98 - samples/sec: 5913.00 - lr: 0.100000\n",
            "2023-05-31 17:46:17,528 epoch 11 - iter 344/438 - loss 0.03993663 - time (sec): 44.54 - samples/sec: 5911.77 - lr: 0.100000\n",
            "2023-05-31 17:46:22,793 epoch 11 - iter 387/438 - loss 0.04009148 - time (sec): 49.81 - samples/sec: 5935.13 - lr: 0.100000\n",
            "2023-05-31 17:46:28,702 epoch 11 - iter 430/438 - loss 0.04024277 - time (sec): 55.72 - samples/sec: 5911.67 - lr: 0.100000\n",
            "2023-05-31 17:46:29,760 ----------------------------------------------------------------------------------------------------\n",
            "2023-05-31 17:46:29,762 EPOCH 11 done: loss 0.0403 - lr 0.100000\n"
          ]
        },
        {
          "output_type": "stream",
          "name": "stderr",
          "text": [
            "100%|██████████| 110/110 [00:20<00:00,  5.31it/s]"
          ]
        },
        {
          "output_type": "stream",
          "name": "stdout",
          "text": [
            "2023-05-31 17:46:50,487 Evaluating as a multi-label problem: False\n",
            "2023-05-31 17:46:50,536 DEV : loss 0.04037047550082207 - f1-score (micro avg)  0.8635\n"
          ]
        },
        {
          "output_type": "stream",
          "name": "stderr",
          "text": [
            "\n"
          ]
        },
        {
          "output_type": "stream",
          "name": "stdout",
          "text": [
            "2023-05-31 17:46:50,762 BAD EPOCHS (no improvement): 1\n",
            "2023-05-31 17:46:50,764 ----------------------------------------------------------------------------------------------------\n",
            "2023-05-31 17:46:56,262 epoch 12 - iter 43/438 - loss 0.03809724 - time (sec): 5.50 - samples/sec: 5911.67 - lr: 0.100000\n",
            "2023-05-31 17:47:01,929 epoch 12 - iter 86/438 - loss 0.03838176 - time (sec): 11.16 - samples/sec: 5904.68 - lr: 0.100000\n",
            "2023-05-31 17:47:07,315 epoch 12 - iter 129/438 - loss 0.03909607 - time (sec): 16.55 - samples/sec: 5982.47 - lr: 0.100000\n",
            "2023-05-31 17:47:12,743 epoch 12 - iter 172/438 - loss 0.03909316 - time (sec): 21.98 - samples/sec: 6008.16 - lr: 0.100000\n",
            "2023-05-31 17:47:18,211 epoch 12 - iter 215/438 - loss 0.03834164 - time (sec): 27.45 - samples/sec: 6030.50 - lr: 0.100000\n",
            "2023-05-31 17:47:24,399 epoch 12 - iter 258/438 - loss 0.03785367 - time (sec): 33.63 - samples/sec: 5926.54 - lr: 0.100000\n",
            "2023-05-31 17:47:29,998 epoch 12 - iter 301/438 - loss 0.03787285 - time (sec): 39.23 - samples/sec: 5905.88 - lr: 0.100000\n",
            "2023-05-31 17:47:35,497 epoch 12 - iter 344/438 - loss 0.03826601 - time (sec): 44.73 - samples/sec: 5906.19 - lr: 0.100000\n",
            "2023-05-31 17:47:41,096 epoch 12 - iter 387/438 - loss 0.03846200 - time (sec): 50.33 - samples/sec: 5907.08 - lr: 0.100000\n",
            "2023-05-31 17:47:46,416 epoch 12 - iter 430/438 - loss 0.03869170 - time (sec): 55.65 - samples/sec: 5917.32 - lr: 0.100000\n",
            "2023-05-31 17:47:47,545 ----------------------------------------------------------------------------------------------------\n",
            "2023-05-31 17:47:47,548 EPOCH 12 done: loss 0.0387 - lr 0.100000\n"
          ]
        },
        {
          "output_type": "stream",
          "name": "stderr",
          "text": [
            "100%|██████████| 110/110 [00:20<00:00,  5.47it/s]"
          ]
        },
        {
          "output_type": "stream",
          "name": "stdout",
          "text": [
            "2023-05-31 17:48:07,685 Evaluating as a multi-label problem: False\n",
            "2023-05-31 17:48:07,733 DEV : loss 0.03889809548854828 - f1-score (micro avg)  0.8613\n"
          ]
        },
        {
          "output_type": "stream",
          "name": "stderr",
          "text": [
            "\n"
          ]
        },
        {
          "output_type": "stream",
          "name": "stdout",
          "text": [
            "2023-05-31 17:48:07,963 BAD EPOCHS (no improvement): 2\n",
            "2023-05-31 17:48:07,965 ----------------------------------------------------------------------------------------------------\n",
            "2023-05-31 17:48:13,881 epoch 13 - iter 43/438 - loss 0.03618050 - time (sec): 5.91 - samples/sec: 5630.28 - lr: 0.100000\n",
            "2023-05-31 17:48:19,496 epoch 13 - iter 86/438 - loss 0.03416497 - time (sec): 11.53 - samples/sec: 5716.71 - lr: 0.100000\n",
            "2023-05-31 17:48:25,056 epoch 13 - iter 129/438 - loss 0.03616714 - time (sec): 17.09 - samples/sec: 5792.04 - lr: 0.100000\n",
            "2023-05-31 17:48:30,408 epoch 13 - iter 172/438 - loss 0.03656697 - time (sec): 22.44 - samples/sec: 5859.78 - lr: 0.100000\n",
            "2023-05-31 17:48:35,865 epoch 13 - iter 215/438 - loss 0.03702466 - time (sec): 27.90 - samples/sec: 5881.48 - lr: 0.100000\n",
            "2023-05-31 17:48:41,376 epoch 13 - iter 258/438 - loss 0.03699304 - time (sec): 33.41 - samples/sec: 5891.63 - lr: 0.100000\n",
            "2023-05-31 17:48:46,991 epoch 13 - iter 301/438 - loss 0.03730243 - time (sec): 39.02 - samples/sec: 5877.44 - lr: 0.100000\n",
            "2023-05-31 17:48:52,939 epoch 13 - iter 344/438 - loss 0.03709759 - time (sec): 44.97 - samples/sec: 5829.20 - lr: 0.100000\n",
            "2023-05-31 17:48:58,682 epoch 13 - iter 387/438 - loss 0.03747156 - time (sec): 50.72 - samples/sec: 5828.77 - lr: 0.100000\n",
            "2023-05-31 17:49:04,602 epoch 13 - iter 430/438 - loss 0.03725125 - time (sec): 56.64 - samples/sec: 5809.54 - lr: 0.100000\n",
            "2023-05-31 17:49:05,658 ----------------------------------------------------------------------------------------------------\n",
            "2023-05-31 17:49:05,660 EPOCH 13 done: loss 0.0373 - lr 0.100000\n"
          ]
        },
        {
          "output_type": "stream",
          "name": "stderr",
          "text": [
            "100%|██████████| 110/110 [00:20<00:00,  5.29it/s]"
          ]
        },
        {
          "output_type": "stream",
          "name": "stdout",
          "text": [
            "2023-05-31 17:49:26,471 Evaluating as a multi-label problem: False\n",
            "2023-05-31 17:49:26,520 DEV : loss 0.03731432184576988 - f1-score (micro avg)  0.87\n"
          ]
        },
        {
          "output_type": "stream",
          "name": "stderr",
          "text": [
            "\n"
          ]
        },
        {
          "output_type": "stream",
          "name": "stdout",
          "text": [
            "2023-05-31 17:49:26,766 BAD EPOCHS (no improvement): 0\n",
            "2023-05-31 17:49:26,768 saving best model\n",
            "2023-05-31 17:49:27,278 ----------------------------------------------------------------------------------------------------\n",
            "2023-05-31 17:49:32,797 epoch 14 - iter 43/438 - loss 0.03497747 - time (sec): 5.52 - samples/sec: 5871.25 - lr: 0.100000\n",
            "2023-05-31 17:49:38,190 epoch 14 - iter 86/438 - loss 0.03548869 - time (sec): 10.91 - samples/sec: 5952.20 - lr: 0.100000\n",
            "2023-05-31 17:49:43,713 epoch 14 - iter 129/438 - loss 0.03576385 - time (sec): 16.43 - samples/sec: 5937.26 - lr: 0.100000\n",
            "2023-05-31 17:49:49,311 epoch 14 - iter 172/438 - loss 0.03595129 - time (sec): 22.03 - samples/sec: 5894.72 - lr: 0.100000\n",
            "2023-05-31 17:49:54,838 epoch 14 - iter 215/438 - loss 0.03571175 - time (sec): 27.56 - samples/sec: 5945.29 - lr: 0.100000\n",
            "2023-05-31 17:50:00,470 epoch 14 - iter 258/438 - loss 0.03582118 - time (sec): 33.19 - samples/sec: 5924.76 - lr: 0.100000\n",
            "2023-05-31 17:50:06,345 epoch 14 - iter 301/438 - loss 0.03557736 - time (sec): 39.06 - samples/sec: 5894.11 - lr: 0.100000\n",
            "2023-05-31 17:50:11,906 epoch 14 - iter 344/438 - loss 0.03581238 - time (sec): 44.63 - samples/sec: 5895.03 - lr: 0.100000\n",
            "2023-05-31 17:50:17,544 epoch 14 - iter 387/438 - loss 0.03585026 - time (sec): 50.26 - samples/sec: 5889.15 - lr: 0.100000\n",
            "2023-05-31 17:50:23,126 epoch 14 - iter 430/438 - loss 0.03598768 - time (sec): 55.85 - samples/sec: 5894.21 - lr: 0.100000\n",
            "2023-05-31 17:50:24,140 ----------------------------------------------------------------------------------------------------\n",
            "2023-05-31 17:50:24,141 EPOCH 14 done: loss 0.0359 - lr 0.100000\n"
          ]
        },
        {
          "output_type": "stream",
          "name": "stderr",
          "text": [
            "100%|██████████| 110/110 [00:20<00:00,  5.40it/s]"
          ]
        },
        {
          "output_type": "stream",
          "name": "stdout",
          "text": [
            "2023-05-31 17:50:44,550 Evaluating as a multi-label problem: False\n",
            "2023-05-31 17:50:44,604 DEV : loss 0.039340950548648834 - f1-score (micro avg)  0.8678\n"
          ]
        },
        {
          "output_type": "stream",
          "name": "stderr",
          "text": [
            "\n"
          ]
        },
        {
          "output_type": "stream",
          "name": "stdout",
          "text": [
            "2023-05-31 17:50:44,829 BAD EPOCHS (no improvement): 1\n",
            "2023-05-31 17:50:44,831 ----------------------------------------------------------------------------------------------------\n",
            "2023-05-31 17:50:50,627 epoch 15 - iter 43/438 - loss 0.03441440 - time (sec): 5.79 - samples/sec: 5764.28 - lr: 0.100000\n",
            "2023-05-31 17:50:56,210 epoch 15 - iter 86/438 - loss 0.03312483 - time (sec): 11.38 - samples/sec: 5858.85 - lr: 0.100000\n",
            "2023-05-31 17:51:01,574 epoch 15 - iter 129/438 - loss 0.03463428 - time (sec): 16.74 - samples/sec: 5958.83 - lr: 0.100000\n",
            "2023-05-31 17:51:06,784 epoch 15 - iter 172/438 - loss 0.03421253 - time (sec): 21.95 - samples/sec: 6004.71 - lr: 0.100000\n",
            "2023-05-31 17:51:12,264 epoch 15 - iter 215/438 - loss 0.03460041 - time (sec): 27.43 - samples/sec: 6004.96 - lr: 0.100000\n",
            "2023-05-31 17:51:17,703 epoch 15 - iter 258/438 - loss 0.03451590 - time (sec): 32.87 - samples/sec: 6014.42 - lr: 0.100000\n",
            "2023-05-31 17:51:23,036 epoch 15 - iter 301/438 - loss 0.03414382 - time (sec): 38.20 - samples/sec: 6036.44 - lr: 0.100000\n",
            "2023-05-31 17:51:28,602 epoch 15 - iter 344/438 - loss 0.03407556 - time (sec): 43.77 - samples/sec: 6016.34 - lr: 0.100000\n",
            "2023-05-31 17:51:34,387 epoch 15 - iter 387/438 - loss 0.03417851 - time (sec): 49.55 - samples/sec: 5986.20 - lr: 0.100000\n",
            "2023-05-31 17:51:39,989 epoch 15 - iter 430/438 - loss 0.03430371 - time (sec): 55.16 - samples/sec: 5968.24 - lr: 0.100000\n",
            "2023-05-31 17:51:40,929 ----------------------------------------------------------------------------------------------------\n",
            "2023-05-31 17:51:40,931 EPOCH 15 done: loss 0.0343 - lr 0.100000\n"
          ]
        },
        {
          "output_type": "stream",
          "name": "stderr",
          "text": [
            "100%|██████████| 110/110 [00:30<00:00,  3.59it/s]"
          ]
        },
        {
          "output_type": "stream",
          "name": "stdout",
          "text": [
            "2023-05-31 17:52:11,612 Evaluating as a multi-label problem: False\n",
            "2023-05-31 17:52:11,667 DEV : loss 0.04010123386979103 - f1-score (micro avg)  0.869\n"
          ]
        },
        {
          "output_type": "stream",
          "name": "stderr",
          "text": [
            "\n"
          ]
        },
        {
          "output_type": "stream",
          "name": "stdout",
          "text": [
            "2023-05-31 17:52:11,919 BAD EPOCHS (no improvement): 2\n",
            "2023-05-31 17:52:11,921 ----------------------------------------------------------------------------------------------------\n",
            "2023-05-31 17:52:17,783 epoch 16 - iter 43/438 - loss 0.03578983 - time (sec): 5.86 - samples/sec: 5672.27 - lr: 0.100000\n",
            "2023-05-31 17:52:23,134 epoch 16 - iter 86/438 - loss 0.03460271 - time (sec): 11.21 - samples/sec: 5898.83 - lr: 0.100000\n",
            "2023-05-31 17:52:28,529 epoch 16 - iter 129/438 - loss 0.03360248 - time (sec): 16.61 - samples/sec: 5973.75 - lr: 0.100000\n",
            "2023-05-31 17:52:34,319 epoch 16 - iter 172/438 - loss 0.03348686 - time (sec): 22.40 - samples/sec: 5909.31 - lr: 0.100000\n",
            "2023-05-31 17:52:39,449 epoch 16 - iter 215/438 - loss 0.03322132 - time (sec): 27.53 - samples/sec: 5988.65 - lr: 0.100000\n",
            "2023-05-31 17:52:45,168 epoch 16 - iter 258/438 - loss 0.03297777 - time (sec): 33.25 - samples/sec: 5948.50 - lr: 0.100000\n",
            "2023-05-31 17:52:50,795 epoch 16 - iter 301/438 - loss 0.03312174 - time (sec): 38.87 - samples/sec: 5932.36 - lr: 0.100000\n",
            "2023-05-31 17:52:56,177 epoch 16 - iter 344/438 - loss 0.03318057 - time (sec): 44.25 - samples/sec: 5952.53 - lr: 0.100000\n",
            "2023-05-31 17:53:01,263 epoch 16 - iter 387/438 - loss 0.03344644 - time (sec): 49.34 - samples/sec: 5995.94 - lr: 0.100000\n",
            "2023-05-31 17:53:06,848 epoch 16 - iter 430/438 - loss 0.03341121 - time (sec): 54.93 - samples/sec: 5998.53 - lr: 0.100000\n",
            "2023-05-31 17:53:07,955 ----------------------------------------------------------------------------------------------------\n",
            "2023-05-31 17:53:07,957 EPOCH 16 done: loss 0.0336 - lr 0.100000\n"
          ]
        },
        {
          "output_type": "stream",
          "name": "stderr",
          "text": [
            "100%|██████████| 110/110 [00:20<00:00,  5.42it/s]"
          ]
        },
        {
          "output_type": "stream",
          "name": "stdout",
          "text": [
            "2023-05-31 17:53:28,289 Evaluating as a multi-label problem: False\n",
            "2023-05-31 17:53:28,337 DEV : loss 0.037404805421829224 - f1-score (micro avg)  0.8722\n"
          ]
        },
        {
          "output_type": "stream",
          "name": "stderr",
          "text": [
            "\n"
          ]
        },
        {
          "output_type": "stream",
          "name": "stdout",
          "text": [
            "2023-05-31 17:53:28,594 BAD EPOCHS (no improvement): 0\n",
            "2023-05-31 17:53:28,598 saving best model\n",
            "2023-05-31 17:53:29,100 ----------------------------------------------------------------------------------------------------\n",
            "2023-05-31 17:53:35,141 epoch 17 - iter 43/438 - loss 0.02939761 - time (sec): 6.04 - samples/sec: 5443.31 - lr: 0.100000\n",
            "2023-05-31 17:53:40,710 epoch 17 - iter 86/438 - loss 0.02977912 - time (sec): 11.61 - samples/sec: 5633.95 - lr: 0.100000\n",
            "2023-05-31 17:53:46,477 epoch 17 - iter 129/438 - loss 0.03130101 - time (sec): 17.38 - samples/sec: 5678.11 - lr: 0.100000\n",
            "2023-05-31 17:53:52,141 epoch 17 - iter 172/438 - loss 0.03104305 - time (sec): 23.04 - samples/sec: 5723.66 - lr: 0.100000\n",
            "2023-05-31 17:53:57,629 epoch 17 - iter 215/438 - loss 0.03118339 - time (sec): 28.53 - samples/sec: 5786.53 - lr: 0.100000\n",
            "2023-05-31 17:54:02,964 epoch 17 - iter 258/438 - loss 0.03140214 - time (sec): 33.86 - samples/sec: 5832.99 - lr: 0.100000\n",
            "2023-05-31 17:54:08,590 epoch 17 - iter 301/438 - loss 0.03151417 - time (sec): 39.49 - samples/sec: 5840.83 - lr: 0.100000\n",
            "2023-05-31 17:54:14,151 epoch 17 - iter 344/438 - loss 0.03212250 - time (sec): 45.05 - samples/sec: 5850.79 - lr: 0.100000\n",
            "2023-05-31 17:54:19,833 epoch 17 - iter 387/438 - loss 0.03209182 - time (sec): 50.73 - samples/sec: 5853.62 - lr: 0.100000\n",
            "2023-05-31 17:54:25,012 epoch 17 - iter 430/438 - loss 0.03194457 - time (sec): 55.91 - samples/sec: 5894.70 - lr: 0.100000\n",
            "2023-05-31 17:54:25,980 ----------------------------------------------------------------------------------------------------\n",
            "2023-05-31 17:54:25,982 EPOCH 17 done: loss 0.0320 - lr 0.100000\n"
          ]
        },
        {
          "output_type": "stream",
          "name": "stderr",
          "text": [
            "100%|██████████| 110/110 [00:20<00:00,  5.28it/s]"
          ]
        },
        {
          "output_type": "stream",
          "name": "stdout",
          "text": [
            "2023-05-31 17:54:46,846 Evaluating as a multi-label problem: False\n",
            "2023-05-31 17:54:46,900 DEV : loss 0.03779932111501694 - f1-score (micro avg)  0.8784\n"
          ]
        },
        {
          "output_type": "stream",
          "name": "stderr",
          "text": [
            "\n"
          ]
        },
        {
          "output_type": "stream",
          "name": "stdout",
          "text": [
            "2023-05-31 17:54:47,129 BAD EPOCHS (no improvement): 0\n",
            "2023-05-31 17:54:47,131 saving best model\n",
            "2023-05-31 17:54:47,605 ----------------------------------------------------------------------------------------------------\n",
            "2023-05-31 17:54:53,319 epoch 18 - iter 43/438 - loss 0.03384944 - time (sec): 5.71 - samples/sec: 5774.41 - lr: 0.100000\n",
            "2023-05-31 17:54:58,768 epoch 18 - iter 86/438 - loss 0.03262402 - time (sec): 11.16 - samples/sec: 5873.15 - lr: 0.100000\n",
            "2023-05-31 17:55:04,209 epoch 18 - iter 129/438 - loss 0.03211468 - time (sec): 16.60 - samples/sec: 5889.13 - lr: 0.100000\n",
            "2023-05-31 17:55:09,601 epoch 18 - iter 172/438 - loss 0.03253892 - time (sec): 21.99 - samples/sec: 5929.34 - lr: 0.100000\n",
            "2023-05-31 17:55:14,934 epoch 18 - iter 215/438 - loss 0.03260560 - time (sec): 27.33 - samples/sec: 5975.44 - lr: 0.100000\n",
            "2023-05-31 17:55:20,545 epoch 18 - iter 258/438 - loss 0.03257363 - time (sec): 32.94 - samples/sec: 5955.31 - lr: 0.100000\n",
            "2023-05-31 17:55:26,180 epoch 18 - iter 301/438 - loss 0.03295047 - time (sec): 38.57 - samples/sec: 5940.87 - lr: 0.100000\n",
            "2023-05-31 17:55:32,072 epoch 18 - iter 344/438 - loss 0.03285387 - time (sec): 44.46 - samples/sec: 5898.32 - lr: 0.100000\n",
            "2023-05-31 17:55:38,205 epoch 18 - iter 387/438 - loss 0.03254631 - time (sec): 50.60 - samples/sec: 5857.55 - lr: 0.100000\n",
            "2023-05-31 17:55:44,034 epoch 18 - iter 430/438 - loss 0.03230078 - time (sec): 56.43 - samples/sec: 5841.76 - lr: 0.100000\n",
            "2023-05-31 17:55:45,046 ----------------------------------------------------------------------------------------------------\n",
            "2023-05-31 17:55:45,048 EPOCH 18 done: loss 0.0322 - lr 0.100000\n"
          ]
        },
        {
          "output_type": "stream",
          "name": "stderr",
          "text": [
            "100%|██████████| 110/110 [00:20<00:00,  5.37it/s]"
          ]
        },
        {
          "output_type": "stream",
          "name": "stdout",
          "text": [
            "2023-05-31 17:56:05,542 Evaluating as a multi-label problem: False\n",
            "2023-05-31 17:56:05,591 DEV : loss 0.03956102207303047 - f1-score (micro avg)  0.8746\n"
          ]
        },
        {
          "output_type": "stream",
          "name": "stderr",
          "text": [
            "\n"
          ]
        },
        {
          "output_type": "stream",
          "name": "stdout",
          "text": [
            "2023-05-31 17:56:05,844 BAD EPOCHS (no improvement): 1\n",
            "2023-05-31 17:56:05,846 ----------------------------------------------------------------------------------------------------\n",
            "2023-05-31 17:56:11,282 epoch 19 - iter 43/438 - loss 0.02793507 - time (sec): 5.44 - samples/sec: 6049.84 - lr: 0.100000\n",
            "2023-05-31 17:56:17,032 epoch 19 - iter 86/438 - loss 0.02762184 - time (sec): 11.18 - samples/sec: 5925.18 - lr: 0.100000\n",
            "2023-05-31 17:56:22,183 epoch 19 - iter 129/438 - loss 0.02845768 - time (sec): 16.34 - samples/sec: 6026.44 - lr: 0.100000\n",
            "2023-05-31 17:56:27,937 epoch 19 - iter 172/438 - loss 0.02906568 - time (sec): 22.09 - samples/sec: 5948.96 - lr: 0.100000\n",
            "2023-05-31 17:56:33,532 epoch 19 - iter 215/438 - loss 0.02938836 - time (sec): 27.68 - samples/sec: 5941.00 - lr: 0.100000\n",
            "2023-05-31 17:56:39,178 epoch 19 - iter 258/438 - loss 0.02994691 - time (sec): 33.33 - samples/sec: 5922.59 - lr: 0.100000\n",
            "2023-05-31 17:56:45,168 epoch 19 - iter 301/438 - loss 0.02993230 - time (sec): 39.32 - samples/sec: 5863.99 - lr: 0.100000\n",
            "2023-05-31 17:56:50,994 epoch 19 - iter 344/438 - loss 0.02992558 - time (sec): 45.15 - samples/sec: 5847.50 - lr: 0.100000\n",
            "2023-05-31 17:56:56,722 epoch 19 - iter 387/438 - loss 0.03021956 - time (sec): 50.87 - samples/sec: 5831.81 - lr: 0.100000\n",
            "2023-05-31 17:57:02,040 epoch 19 - iter 430/438 - loss 0.03009267 - time (sec): 56.19 - samples/sec: 5857.82 - lr: 0.100000\n",
            "2023-05-31 17:57:03,199 ----------------------------------------------------------------------------------------------------\n",
            "2023-05-31 17:57:03,201 EPOCH 19 done: loss 0.0300 - lr 0.100000\n"
          ]
        },
        {
          "output_type": "stream",
          "name": "stderr",
          "text": [
            "100%|██████████| 110/110 [00:20<00:00,  5.31it/s]"
          ]
        },
        {
          "output_type": "stream",
          "name": "stdout",
          "text": [
            "2023-05-31 17:57:23,942 Evaluating as a multi-label problem: False\n",
            "2023-05-31 17:57:23,993 DEV : loss 0.03815709799528122 - f1-score (micro avg)  0.8749\n"
          ]
        },
        {
          "output_type": "stream",
          "name": "stderr",
          "text": [
            "\n"
          ]
        },
        {
          "output_type": "stream",
          "name": "stdout",
          "text": [
            "2023-05-31 17:57:24,254 BAD EPOCHS (no improvement): 2\n",
            "2023-05-31 17:57:24,256 ----------------------------------------------------------------------------------------------------\n",
            "2023-05-31 17:57:30,052 epoch 20 - iter 43/438 - loss 0.02840612 - time (sec): 5.80 - samples/sec: 5669.51 - lr: 0.100000\n",
            "2023-05-31 17:57:35,455 epoch 20 - iter 86/438 - loss 0.02839994 - time (sec): 11.20 - samples/sec: 5800.30 - lr: 0.100000\n",
            "2023-05-31 17:57:40,951 epoch 20 - iter 129/438 - loss 0.02803542 - time (sec): 16.69 - samples/sec: 5865.03 - lr: 0.100000\n",
            "2023-05-31 17:57:46,694 epoch 20 - iter 172/438 - loss 0.02816730 - time (sec): 22.44 - samples/sec: 5821.52 - lr: 0.100000\n",
            "2023-05-31 17:57:51,942 epoch 20 - iter 215/438 - loss 0.02822808 - time (sec): 27.68 - samples/sec: 5915.71 - lr: 0.100000\n",
            "2023-05-31 17:57:57,239 epoch 20 - iter 258/438 - loss 0.02843515 - time (sec): 32.98 - samples/sec: 5962.52 - lr: 0.100000\n",
            "2023-05-31 17:58:02,921 epoch 20 - iter 301/438 - loss 0.02849907 - time (sec): 38.66 - samples/sec: 5948.08 - lr: 0.100000\n",
            "2023-05-31 17:58:08,510 epoch 20 - iter 344/438 - loss 0.02857526 - time (sec): 44.25 - samples/sec: 5933.76 - lr: 0.100000\n",
            "2023-05-31 17:58:14,496 epoch 20 - iter 387/438 - loss 0.02898046 - time (sec): 50.24 - samples/sec: 5893.88 - lr: 0.100000\n",
            "2023-05-31 17:58:19,935 epoch 20 - iter 430/438 - loss 0.02911971 - time (sec): 55.68 - samples/sec: 5913.06 - lr: 0.100000\n",
            "2023-05-31 17:58:20,900 ----------------------------------------------------------------------------------------------------\n",
            "2023-05-31 17:58:20,901 EPOCH 20 done: loss 0.0292 - lr 0.100000\n"
          ]
        },
        {
          "output_type": "stream",
          "name": "stderr",
          "text": [
            "100%|██████████| 110/110 [00:20<00:00,  5.42it/s]"
          ]
        },
        {
          "output_type": "stream",
          "name": "stdout",
          "text": [
            "2023-05-31 17:58:41,228 Evaluating as a multi-label problem: False\n",
            "2023-05-31 17:58:41,278 DEV : loss 0.038006845861673355 - f1-score (micro avg)  0.875\n"
          ]
        },
        {
          "output_type": "stream",
          "name": "stderr",
          "text": [
            "\n"
          ]
        },
        {
          "output_type": "stream",
          "name": "stdout",
          "text": [
            "2023-05-31 17:58:41,506 BAD EPOCHS (no improvement): 3\n",
            "2023-05-31 17:58:41,507 ----------------------------------------------------------------------------------------------------\n",
            "2023-05-31 17:58:47,127 epoch 21 - iter 43/438 - loss 0.03069622 - time (sec): 5.62 - samples/sec: 5842.06 - lr: 0.100000\n",
            "2023-05-31 17:58:53,239 epoch 21 - iter 86/438 - loss 0.02928386 - time (sec): 11.73 - samples/sec: 5649.28 - lr: 0.100000\n",
            "2023-05-31 17:58:58,987 epoch 21 - iter 129/438 - loss 0.03017488 - time (sec): 17.48 - samples/sec: 5704.28 - lr: 0.100000\n",
            "2023-05-31 17:59:04,456 epoch 21 - iter 172/438 - loss 0.03031320 - time (sec): 22.95 - samples/sec: 5776.29 - lr: 0.100000\n",
            "2023-05-31 17:59:10,017 epoch 21 - iter 215/438 - loss 0.03027844 - time (sec): 28.51 - samples/sec: 5801.22 - lr: 0.100000\n",
            "2023-05-31 17:59:15,630 epoch 21 - iter 258/438 - loss 0.03018805 - time (sec): 34.12 - samples/sec: 5814.38 - lr: 0.100000\n",
            "2023-05-31 17:59:21,048 epoch 21 - iter 301/438 - loss 0.02975962 - time (sec): 39.54 - samples/sec: 5842.59 - lr: 0.100000\n",
            "2023-05-31 17:59:26,171 epoch 21 - iter 344/438 - loss 0.02942444 - time (sec): 44.66 - samples/sec: 5896.26 - lr: 0.100000\n",
            "2023-05-31 17:59:31,851 epoch 21 - iter 387/438 - loss 0.02927616 - time (sec): 50.34 - samples/sec: 5887.60 - lr: 0.100000\n",
            "2023-05-31 17:59:37,587 epoch 21 - iter 430/438 - loss 0.02937293 - time (sec): 56.08 - samples/sec: 5873.66 - lr: 0.100000\n",
            "2023-05-31 17:59:38,665 ----------------------------------------------------------------------------------------------------\n",
            "2023-05-31 17:59:38,667 EPOCH 21 done: loss 0.0295 - lr 0.100000\n"
          ]
        },
        {
          "output_type": "stream",
          "name": "stderr",
          "text": [
            "100%|██████████| 110/110 [00:20<00:00,  5.31it/s]"
          ]
        },
        {
          "output_type": "stream",
          "name": "stdout",
          "text": [
            "2023-05-31 17:59:59,421 Evaluating as a multi-label problem: False\n",
            "2023-05-31 17:59:59,471 DEV : loss 0.03796042874455452 - f1-score (micro avg)  0.8754\n"
          ]
        },
        {
          "output_type": "stream",
          "name": "stderr",
          "text": [
            "\n"
          ]
        },
        {
          "output_type": "stream",
          "name": "stdout",
          "text": [
            "2023-05-31 17:59:59,720 Epoch    21: reducing learning rate of group 0 to 5.0000e-02.\n",
            "2023-05-31 17:59:59,722 BAD EPOCHS (no improvement): 4\n",
            "2023-05-31 17:59:59,724 ----------------------------------------------------------------------------------------------------\n",
            "2023-05-31 18:00:05,321 epoch 22 - iter 43/438 - loss 0.02540743 - time (sec): 5.59 - samples/sec: 5837.69 - lr: 0.050000\n",
            "2023-05-31 18:00:11,391 epoch 22 - iter 86/438 - loss 0.02556033 - time (sec): 11.66 - samples/sec: 5641.53 - lr: 0.050000\n",
            "2023-05-31 18:00:16,784 epoch 22 - iter 129/438 - loss 0.02570362 - time (sec): 17.06 - samples/sec: 5772.20 - lr: 0.050000\n",
            "2023-05-31 18:00:22,260 epoch 22 - iter 172/438 - loss 0.02601279 - time (sec): 22.53 - samples/sec: 5815.79 - lr: 0.050000\n",
            "2023-05-31 18:00:28,037 epoch 22 - iter 215/438 - loss 0.02589085 - time (sec): 28.31 - samples/sec: 5791.32 - lr: 0.050000\n",
            "2023-05-31 18:00:33,254 epoch 22 - iter 258/438 - loss 0.02529036 - time (sec): 33.53 - samples/sec: 5882.70 - lr: 0.050000\n",
            "2023-05-31 18:00:38,788 epoch 22 - iter 301/438 - loss 0.02569288 - time (sec): 39.06 - samples/sec: 5887.13 - lr: 0.050000\n",
            "2023-05-31 18:00:44,146 epoch 22 - iter 344/438 - loss 0.02550383 - time (sec): 44.42 - samples/sec: 5916.88 - lr: 0.050000\n",
            "2023-05-31 18:00:50,068 epoch 22 - iter 387/438 - loss 0.02570294 - time (sec): 50.34 - samples/sec: 5895.49 - lr: 0.050000\n",
            "2023-05-31 18:00:55,432 epoch 22 - iter 430/438 - loss 0.02600091 - time (sec): 55.71 - samples/sec: 5907.32 - lr: 0.050000\n",
            "2023-05-31 18:00:56,445 ----------------------------------------------------------------------------------------------------\n",
            "2023-05-31 18:00:56,446 EPOCH 22 done: loss 0.0260 - lr 0.050000\n"
          ]
        },
        {
          "output_type": "stream",
          "name": "stderr",
          "text": [
            "100%|██████████| 110/110 [00:31<00:00,  3.53it/s]"
          ]
        },
        {
          "output_type": "stream",
          "name": "stdout",
          "text": [
            "2023-05-31 18:01:27,621 Evaluating as a multi-label problem: False\n",
            "2023-05-31 18:01:27,671 DEV : loss 0.03687196224927902 - f1-score (micro avg)  0.8799\n"
          ]
        },
        {
          "output_type": "stream",
          "name": "stderr",
          "text": [
            "\n"
          ]
        },
        {
          "output_type": "stream",
          "name": "stdout",
          "text": [
            "2023-05-31 18:01:27,911 BAD EPOCHS (no improvement): 0\n",
            "2023-05-31 18:01:27,914 saving best model\n",
            "2023-05-31 18:01:33,356 ----------------------------------------------------------------------------------------------------\n",
            "2023-05-31 18:01:38,918 epoch 23 - iter 43/438 - loss 0.02469538 - time (sec): 5.56 - samples/sec: 5742.46 - lr: 0.050000\n",
            "2023-05-31 18:01:44,933 epoch 23 - iter 86/438 - loss 0.02465896 - time (sec): 11.57 - samples/sec: 5660.86 - lr: 0.050000\n",
            "2023-05-31 18:01:50,246 epoch 23 - iter 129/438 - loss 0.02512674 - time (sec): 16.89 - samples/sec: 5819.19 - lr: 0.050000\n",
            "2023-05-31 18:01:55,657 epoch 23 - iter 172/438 - loss 0.02534263 - time (sec): 22.30 - samples/sec: 5861.25 - lr: 0.050000\n",
            "2023-05-31 18:02:01,119 epoch 23 - iter 215/438 - loss 0.02492367 - time (sec): 27.76 - samples/sec: 5896.32 - lr: 0.050000\n",
            "2023-05-31 18:02:06,563 epoch 23 - iter 258/438 - loss 0.02506579 - time (sec): 33.20 - samples/sec: 5927.00 - lr: 0.050000\n",
            "2023-05-31 18:02:12,159 epoch 23 - iter 301/438 - loss 0.02543551 - time (sec): 38.80 - samples/sec: 5912.12 - lr: 0.050000\n",
            "2023-05-31 18:02:18,013 epoch 23 - iter 344/438 - loss 0.02519489 - time (sec): 44.65 - samples/sec: 5893.40 - lr: 0.050000\n",
            "2023-05-31 18:02:24,081 epoch 23 - iter 387/438 - loss 0.02543388 - time (sec): 50.72 - samples/sec: 5823.42 - lr: 0.050000\n",
            "2023-05-31 18:02:29,959 epoch 23 - iter 430/438 - loss 0.02543595 - time (sec): 56.60 - samples/sec: 5818.16 - lr: 0.050000\n",
            "2023-05-31 18:02:30,970 ----------------------------------------------------------------------------------------------------\n",
            "2023-05-31 18:02:30,971 EPOCH 23 done: loss 0.0254 - lr 0.050000\n"
          ]
        },
        {
          "output_type": "stream",
          "name": "stderr",
          "text": [
            "100%|██████████| 110/110 [00:20<00:00,  5.31it/s]"
          ]
        },
        {
          "output_type": "stream",
          "name": "stdout",
          "text": [
            "2023-05-31 18:02:51,723 Evaluating as a multi-label problem: False\n",
            "2023-05-31 18:02:51,777 DEV : loss 0.037908751517534256 - f1-score (micro avg)  0.8804\n"
          ]
        },
        {
          "output_type": "stream",
          "name": "stderr",
          "text": [
            "\n"
          ]
        },
        {
          "output_type": "stream",
          "name": "stdout",
          "text": [
            "2023-05-31 18:02:52,020 BAD EPOCHS (no improvement): 0\n",
            "2023-05-31 18:02:52,022 saving best model\n",
            "2023-05-31 18:02:52,514 ----------------------------------------------------------------------------------------------------\n",
            "2023-05-31 18:02:58,197 epoch 24 - iter 43/438 - loss 0.02333654 - time (sec): 5.68 - samples/sec: 5787.66 - lr: 0.050000\n",
            "2023-05-31 18:03:03,585 epoch 24 - iter 86/438 - loss 0.02289387 - time (sec): 11.07 - samples/sec: 5921.43 - lr: 0.050000\n",
            "2023-05-31 18:03:09,099 epoch 24 - iter 129/438 - loss 0.02305459 - time (sec): 16.58 - samples/sec: 5962.28 - lr: 0.050000\n",
            "2023-05-31 18:03:14,652 epoch 24 - iter 172/438 - loss 0.02290890 - time (sec): 22.14 - samples/sec: 5958.31 - lr: 0.050000\n",
            "2023-05-31 18:03:20,075 epoch 24 - iter 215/438 - loss 0.02314612 - time (sec): 27.56 - samples/sec: 5956.26 - lr: 0.050000\n",
            "2023-05-31 18:03:25,945 epoch 24 - iter 258/438 - loss 0.02346486 - time (sec): 33.43 - samples/sec: 5911.35 - lr: 0.050000\n",
            "2023-05-31 18:03:31,327 epoch 24 - iter 301/438 - loss 0.02359467 - time (sec): 38.81 - samples/sec: 5939.26 - lr: 0.050000\n",
            "2023-05-31 18:03:36,842 epoch 24 - iter 344/438 - loss 0.02368538 - time (sec): 44.33 - samples/sec: 5952.89 - lr: 0.050000\n",
            "2023-05-31 18:03:42,490 epoch 24 - iter 387/438 - loss 0.02371735 - time (sec): 49.97 - samples/sec: 5930.76 - lr: 0.050000\n",
            "2023-05-31 18:03:48,133 epoch 24 - iter 430/438 - loss 0.02377857 - time (sec): 55.62 - samples/sec: 5923.20 - lr: 0.050000\n",
            "2023-05-31 18:03:49,095 ----------------------------------------------------------------------------------------------------\n",
            "2023-05-31 18:03:49,098 EPOCH 24 done: loss 0.0237 - lr 0.050000\n"
          ]
        },
        {
          "output_type": "stream",
          "name": "stderr",
          "text": [
            "100%|██████████| 110/110 [00:20<00:00,  5.39it/s]"
          ]
        },
        {
          "output_type": "stream",
          "name": "stdout",
          "text": [
            "2023-05-31 18:04:09,532 Evaluating as a multi-label problem: False\n",
            "2023-05-31 18:04:09,586 DEV : loss 0.038148801773786545 - f1-score (micro avg)  0.8803\n"
          ]
        },
        {
          "output_type": "stream",
          "name": "stderr",
          "text": [
            "\n"
          ]
        },
        {
          "output_type": "stream",
          "name": "stdout",
          "text": [
            "2023-05-31 18:04:09,848 BAD EPOCHS (no improvement): 1\n",
            "2023-05-31 18:04:09,851 ----------------------------------------------------------------------------------------------------\n",
            "2023-05-31 18:04:15,478 epoch 25 - iter 43/438 - loss 0.02411467 - time (sec): 5.62 - samples/sec: 5903.53 - lr: 0.050000\n",
            "2023-05-31 18:04:21,066 epoch 25 - iter 86/438 - loss 0.02368129 - time (sec): 11.21 - samples/sec: 5825.36 - lr: 0.050000\n",
            "2023-05-31 18:04:26,848 epoch 25 - iter 129/438 - loss 0.02396407 - time (sec): 17.00 - samples/sec: 5762.83 - lr: 0.050000\n",
            "2023-05-31 18:04:32,388 epoch 25 - iter 172/438 - loss 0.02357404 - time (sec): 22.53 - samples/sec: 5815.34 - lr: 0.050000\n",
            "2023-05-31 18:04:37,775 epoch 25 - iter 215/438 - loss 0.02372137 - time (sec): 27.92 - samples/sec: 5852.91 - lr: 0.050000\n",
            "2023-05-31 18:04:43,388 epoch 25 - iter 258/438 - loss 0.02349590 - time (sec): 33.53 - samples/sec: 5868.74 - lr: 0.050000\n",
            "2023-05-31 18:04:48,878 epoch 25 - iter 301/438 - loss 0.02336793 - time (sec): 39.02 - samples/sec: 5893.64 - lr: 0.050000\n",
            "2023-05-31 18:04:54,536 epoch 25 - iter 344/438 - loss 0.02310711 - time (sec): 44.68 - samples/sec: 5887.28 - lr: 0.050000\n",
            "2023-05-31 18:05:00,576 epoch 25 - iter 387/438 - loss 0.02320554 - time (sec): 50.72 - samples/sec: 5844.28 - lr: 0.050000\n",
            "2023-05-31 18:05:06,212 epoch 25 - iter 430/438 - loss 0.02338835 - time (sec): 56.36 - samples/sec: 5844.83 - lr: 0.050000\n",
            "2023-05-31 18:05:07,171 ----------------------------------------------------------------------------------------------------\n",
            "2023-05-31 18:05:07,173 EPOCH 25 done: loss 0.0234 - lr 0.050000\n"
          ]
        },
        {
          "output_type": "stream",
          "name": "stderr",
          "text": [
            "100%|██████████| 110/110 [00:20<00:00,  5.39it/s]"
          ]
        },
        {
          "output_type": "stream",
          "name": "stdout",
          "text": [
            "2023-05-31 18:05:27,612 Evaluating as a multi-label problem: False\n",
            "2023-05-31 18:05:27,662 DEV : loss 0.038152895867824554 - f1-score (micro avg)  0.882\n"
          ]
        },
        {
          "output_type": "stream",
          "name": "stderr",
          "text": [
            "\n"
          ]
        },
        {
          "output_type": "stream",
          "name": "stdout",
          "text": [
            "2023-05-31 18:05:27,894 BAD EPOCHS (no improvement): 0\n",
            "2023-05-31 18:05:27,896 saving best model\n",
            "2023-05-31 18:05:28,428 ----------------------------------------------------------------------------------------------------\n",
            "2023-05-31 18:05:34,030 epoch 26 - iter 43/438 - loss 0.02367574 - time (sec): 5.60 - samples/sec: 5842.41 - lr: 0.050000\n",
            "2023-05-31 18:05:39,700 epoch 26 - iter 86/438 - loss 0.02284581 - time (sec): 11.27 - samples/sec: 5892.61 - lr: 0.050000\n",
            "2023-05-31 18:05:45,285 epoch 26 - iter 129/438 - loss 0.02298886 - time (sec): 16.85 - samples/sec: 5866.17 - lr: 0.050000\n",
            "2023-05-31 18:05:50,858 epoch 26 - iter 172/438 - loss 0.02313374 - time (sec): 22.43 - samples/sec: 5900.55 - lr: 0.050000\n",
            "2023-05-31 18:05:56,417 epoch 26 - iter 215/438 - loss 0.02259675 - time (sec): 27.99 - samples/sec: 5900.19 - lr: 0.050000\n",
            "2023-05-31 18:06:01,633 epoch 26 - iter 258/438 - loss 0.02239111 - time (sec): 33.20 - samples/sec: 5951.58 - lr: 0.050000\n",
            "2023-05-31 18:06:07,429 epoch 26 - iter 301/438 - loss 0.02283209 - time (sec): 39.00 - samples/sec: 5929.41 - lr: 0.050000\n",
            "2023-05-31 18:06:12,693 epoch 26 - iter 344/438 - loss 0.02276638 - time (sec): 44.26 - samples/sec: 5957.53 - lr: 0.050000\n",
            "2023-05-31 18:06:18,352 epoch 26 - iter 387/438 - loss 0.02280584 - time (sec): 49.92 - samples/sec: 5935.07 - lr: 0.050000\n",
            "2023-05-31 18:06:23,878 epoch 26 - iter 430/438 - loss 0.02257700 - time (sec): 55.45 - samples/sec: 5939.99 - lr: 0.050000\n",
            "2023-05-31 18:06:24,774 ----------------------------------------------------------------------------------------------------\n",
            "2023-05-31 18:06:24,776 EPOCH 26 done: loss 0.0225 - lr 0.050000\n"
          ]
        },
        {
          "output_type": "stream",
          "name": "stderr",
          "text": [
            "100%|██████████| 110/110 [00:20<00:00,  5.34it/s]"
          ]
        },
        {
          "output_type": "stream",
          "name": "stdout",
          "text": [
            "2023-05-31 18:06:45,419 Evaluating as a multi-label problem: False\n",
            "2023-05-31 18:06:45,471 DEV : loss 0.038522038608789444 - f1-score (micro avg)  0.8819\n"
          ]
        },
        {
          "output_type": "stream",
          "name": "stderr",
          "text": [
            "\n"
          ]
        },
        {
          "output_type": "stream",
          "name": "stdout",
          "text": [
            "2023-05-31 18:06:45,724 BAD EPOCHS (no improvement): 1\n",
            "2023-05-31 18:06:45,726 ----------------------------------------------------------------------------------------------------\n",
            "2023-05-31 18:06:51,364 epoch 27 - iter 43/438 - loss 0.01974022 - time (sec): 5.64 - samples/sec: 5821.74 - lr: 0.050000\n",
            "2023-05-31 18:06:56,913 epoch 27 - iter 86/438 - loss 0.02075933 - time (sec): 11.18 - samples/sec: 5891.55 - lr: 0.050000\n",
            "2023-05-31 18:07:02,522 epoch 27 - iter 129/438 - loss 0.02146421 - time (sec): 16.79 - samples/sec: 5877.02 - lr: 0.050000\n",
            "2023-05-31 18:07:08,200 epoch 27 - iter 172/438 - loss 0.02185468 - time (sec): 22.47 - samples/sec: 5857.28 - lr: 0.050000\n",
            "2023-05-31 18:07:13,876 epoch 27 - iter 215/438 - loss 0.02249515 - time (sec): 28.15 - samples/sec: 5846.27 - lr: 0.050000\n",
            "2023-05-31 18:07:19,354 epoch 27 - iter 258/438 - loss 0.02266655 - time (sec): 33.63 - samples/sec: 5878.32 - lr: 0.050000\n",
            "2023-05-31 18:07:24,931 epoch 27 - iter 301/438 - loss 0.02220274 - time (sec): 39.20 - samples/sec: 5892.61 - lr: 0.050000\n",
            "2023-05-31 18:07:30,229 epoch 27 - iter 344/438 - loss 0.02233704 - time (sec): 44.50 - samples/sec: 5927.75 - lr: 0.050000\n",
            "2023-05-31 18:07:35,557 epoch 27 - iter 387/438 - loss 0.02229131 - time (sec): 49.83 - samples/sec: 5945.19 - lr: 0.050000\n",
            "2023-05-31 18:07:41,210 epoch 27 - iter 430/438 - loss 0.02255207 - time (sec): 55.48 - samples/sec: 5935.73 - lr: 0.050000\n",
            "2023-05-31 18:07:42,336 ----------------------------------------------------------------------------------------------------\n",
            "2023-05-31 18:07:42,338 EPOCH 27 done: loss 0.0225 - lr 0.050000\n"
          ]
        },
        {
          "output_type": "stream",
          "name": "stderr",
          "text": [
            "100%|██████████| 110/110 [00:20<00:00,  5.46it/s]"
          ]
        },
        {
          "output_type": "stream",
          "name": "stdout",
          "text": [
            "2023-05-31 18:08:02,525 Evaluating as a multi-label problem: False\n",
            "2023-05-31 18:08:02,582 DEV : loss 0.03795759379863739 - f1-score (micro avg)  0.8842\n"
          ]
        },
        {
          "output_type": "stream",
          "name": "stderr",
          "text": [
            "\n"
          ]
        },
        {
          "output_type": "stream",
          "name": "stdout",
          "text": [
            "2023-05-31 18:08:02,830 BAD EPOCHS (no improvement): 0\n",
            "2023-05-31 18:08:02,832 saving best model\n",
            "2023-05-31 18:08:03,391 ----------------------------------------------------------------------------------------------------\n",
            "2023-05-31 18:08:09,254 epoch 28 - iter 43/438 - loss 0.02161796 - time (sec): 5.86 - samples/sec: 5588.96 - lr: 0.050000\n",
            "2023-05-31 18:08:15,458 epoch 28 - iter 86/438 - loss 0.02078294 - time (sec): 12.07 - samples/sec: 5510.54 - lr: 0.050000\n",
            "2023-05-31 18:08:21,146 epoch 28 - iter 129/438 - loss 0.02104570 - time (sec): 17.75 - samples/sec: 5600.15 - lr: 0.050000\n",
            "2023-05-31 18:08:26,536 epoch 28 - iter 172/438 - loss 0.02099690 - time (sec): 23.14 - samples/sec: 5724.56 - lr: 0.050000\n",
            "2023-05-31 18:08:31,994 epoch 28 - iter 215/438 - loss 0.02098022 - time (sec): 28.60 - samples/sec: 5785.24 - lr: 0.050000\n",
            "2023-05-31 18:08:37,597 epoch 28 - iter 258/438 - loss 0.02137120 - time (sec): 34.20 - samples/sec: 5801.15 - lr: 0.050000\n",
            "2023-05-31 18:08:43,116 epoch 28 - iter 301/438 - loss 0.02164063 - time (sec): 39.72 - samples/sec: 5831.71 - lr: 0.050000\n",
            "2023-05-31 18:08:48,460 epoch 28 - iter 344/438 - loss 0.02165616 - time (sec): 45.07 - samples/sec: 5856.66 - lr: 0.050000\n",
            "2023-05-31 18:08:54,000 epoch 28 - iter 387/438 - loss 0.02152039 - time (sec): 50.61 - samples/sec: 5870.68 - lr: 0.050000\n",
            "2023-05-31 18:08:59,710 epoch 28 - iter 430/438 - loss 0.02136234 - time (sec): 56.32 - samples/sec: 5852.76 - lr: 0.050000\n",
            "2023-05-31 18:09:00,652 ----------------------------------------------------------------------------------------------------\n",
            "2023-05-31 18:09:00,654 EPOCH 28 done: loss 0.0214 - lr 0.050000\n"
          ]
        },
        {
          "output_type": "stream",
          "name": "stderr",
          "text": [
            "100%|██████████| 110/110 [00:20<00:00,  5.29it/s]"
          ]
        },
        {
          "output_type": "stream",
          "name": "stdout",
          "text": [
            "2023-05-31 18:09:21,460 Evaluating as a multi-label problem: False\n",
            "2023-05-31 18:09:21,512 DEV : loss 0.03827093169093132 - f1-score (micro avg)  0.8808\n"
          ]
        },
        {
          "output_type": "stream",
          "name": "stderr",
          "text": [
            "\n"
          ]
        },
        {
          "output_type": "stream",
          "name": "stdout",
          "text": [
            "2023-05-31 18:09:21,756 BAD EPOCHS (no improvement): 1\n",
            "2023-05-31 18:09:21,758 ----------------------------------------------------------------------------------------------------\n",
            "2023-05-31 18:09:27,485 epoch 29 - iter 43/438 - loss 0.01915926 - time (sec): 5.72 - samples/sec: 5623.81 - lr: 0.050000\n",
            "2023-05-31 18:09:33,232 epoch 29 - iter 86/438 - loss 0.01940166 - time (sec): 11.47 - samples/sec: 5676.28 - lr: 0.050000\n",
            "2023-05-31 18:09:38,693 epoch 29 - iter 129/438 - loss 0.01979753 - time (sec): 16.93 - samples/sec: 5772.43 - lr: 0.050000\n",
            "2023-05-31 18:09:44,091 epoch 29 - iter 172/438 - loss 0.02010759 - time (sec): 22.33 - samples/sec: 5856.18 - lr: 0.050000\n",
            "2023-05-31 18:09:49,802 epoch 29 - iter 215/438 - loss 0.02013339 - time (sec): 28.04 - samples/sec: 5836.92 - lr: 0.050000\n",
            "2023-05-31 18:09:55,066 epoch 29 - iter 258/438 - loss 0.02005014 - time (sec): 33.31 - samples/sec: 5883.57 - lr: 0.050000\n",
            "2023-05-31 18:10:00,339 epoch 29 - iter 301/438 - loss 0.02044815 - time (sec): 38.58 - samples/sec: 5923.31 - lr: 0.050000\n",
            "2023-05-31 18:10:06,226 epoch 29 - iter 344/438 - loss 0.02055905 - time (sec): 44.47 - samples/sec: 5893.12 - lr: 0.050000\n",
            "2023-05-31 18:10:12,051 epoch 29 - iter 387/438 - loss 0.02072591 - time (sec): 50.29 - samples/sec: 5880.16 - lr: 0.050000\n",
            "2023-05-31 18:10:17,715 epoch 29 - iter 430/438 - loss 0.02070316 - time (sec): 55.96 - samples/sec: 5882.14 - lr: 0.050000\n",
            "2023-05-31 18:10:18,914 ----------------------------------------------------------------------------------------------------\n",
            "2023-05-31 18:10:18,915 EPOCH 29 done: loss 0.0207 - lr 0.050000\n"
          ]
        },
        {
          "output_type": "stream",
          "name": "stderr",
          "text": [
            "100%|██████████| 110/110 [00:20<00:00,  5.39it/s]"
          ]
        },
        {
          "output_type": "stream",
          "name": "stdout",
          "text": [
            "2023-05-31 18:10:39,364 Evaluating as a multi-label problem: False\n",
            "2023-05-31 18:10:39,416 DEV : loss 0.03946412727236748 - f1-score (micro avg)  0.8812\n"
          ]
        },
        {
          "output_type": "stream",
          "name": "stderr",
          "text": [
            "\n"
          ]
        },
        {
          "output_type": "stream",
          "name": "stdout",
          "text": [
            "2023-05-31 18:10:39,674 BAD EPOCHS (no improvement): 2\n",
            "2023-05-31 18:10:39,676 ----------------------------------------------------------------------------------------------------\n",
            "2023-05-31 18:10:56,060 epoch 30 - iter 43/438 - loss 0.02095702 - time (sec): 16.38 - samples/sec: 1973.27 - lr: 0.050000\n",
            "2023-05-31 18:11:01,245 epoch 30 - iter 86/438 - loss 0.02030137 - time (sec): 21.57 - samples/sec: 3028.68 - lr: 0.050000\n",
            "2023-05-31 18:11:06,786 epoch 30 - iter 129/438 - loss 0.02047881 - time (sec): 27.11 - samples/sec: 3626.95 - lr: 0.050000\n",
            "2023-05-31 18:11:12,081 epoch 30 - iter 172/438 - loss 0.02127196 - time (sec): 32.40 - samples/sec: 4035.11 - lr: 0.050000\n",
            "2023-05-31 18:11:17,603 epoch 30 - iter 215/438 - loss 0.02134097 - time (sec): 37.93 - samples/sec: 4312.51 - lr: 0.050000\n",
            "2023-05-31 18:11:23,199 epoch 30 - iter 258/438 - loss 0.02078077 - time (sec): 43.52 - samples/sec: 4519.92 - lr: 0.050000\n",
            "2023-05-31 18:11:28,809 epoch 30 - iter 301/438 - loss 0.02069584 - time (sec): 49.13 - samples/sec: 4684.42 - lr: 0.050000\n",
            "2023-05-31 18:11:34,636 epoch 30 - iter 344/438 - loss 0.02067891 - time (sec): 54.96 - samples/sec: 4795.10 - lr: 0.050000\n",
            "2023-05-31 18:11:40,294 epoch 30 - iter 387/438 - loss 0.02077781 - time (sec): 60.62 - samples/sec: 4898.59 - lr: 0.050000\n",
            "2023-05-31 18:11:45,672 epoch 30 - iter 430/438 - loss 0.02092175 - time (sec): 65.99 - samples/sec: 4992.23 - lr: 0.050000\n",
            "2023-05-31 18:11:46,803 ----------------------------------------------------------------------------------------------------\n",
            "2023-05-31 18:11:46,805 EPOCH 30 done: loss 0.0209 - lr 0.050000\n"
          ]
        },
        {
          "output_type": "stream",
          "name": "stderr",
          "text": [
            "100%|██████████| 110/110 [00:20<00:00,  5.49it/s]"
          ]
        },
        {
          "output_type": "stream",
          "name": "stdout",
          "text": [
            "2023-05-31 18:12:06,870 Evaluating as a multi-label problem: False\n",
            "2023-05-31 18:12:06,923 DEV : loss 0.040213339030742645 - f1-score (micro avg)  0.8811\n"
          ]
        },
        {
          "output_type": "stream",
          "name": "stderr",
          "text": [
            "\n"
          ]
        },
        {
          "output_type": "stream",
          "name": "stdout",
          "text": [
            "2023-05-31 18:12:07,184 BAD EPOCHS (no improvement): 3\n",
            "2023-05-31 18:12:07,707 ----------------------------------------------------------------------------------------------------\n",
            "2023-05-31 18:12:08,526 SequenceTagger predicts: Dictionary with 19 tags: O, S-LOC, B-LOC, E-LOC, I-LOC, S-MISC, B-MISC, E-MISC, I-MISC, S-PER, B-PER, E-PER, I-PER, S-ORG, B-ORG, E-ORG, I-ORG, <START>, <STOP>\n"
          ]
        },
        {
          "output_type": "stream",
          "name": "stderr",
          "text": [
            "100%|██████████| 110/110 [00:46<00:00,  2.38it/s]"
          ]
        },
        {
          "output_type": "stream",
          "name": "stdout",
          "text": [
            "2023-05-31 18:12:55,029 Evaluating as a multi-label problem: False\n",
            "2023-05-31 18:12:55,078 0.8768\t0.8753\t0.8761\t0.8467\n",
            "2023-05-31 18:12:55,080 \n",
            "Results:\n",
            "- F-score (micro) 0.8761\n",
            "- F-score (macro) 0.8722\n",
            "- Accuracy 0.8467\n",
            "\n",
            "By class:\n",
            "              precision    recall  f1-score   support\n",
            "\n",
            "         LOC     0.9258    0.8897    0.9074      1740\n",
            "         PER     0.8904    0.9369    0.9130      1552\n",
            "        MISC     0.8160    0.8194    0.8177      1440\n",
            "         ORG     0.8619    0.8395    0.8505      1115\n",
            "\n",
            "   micro avg     0.8768    0.8753    0.8761      5847\n",
            "   macro avg     0.8735    0.8714    0.8722      5847\n",
            "weighted avg     0.8772    0.8753    0.8760      5847\n",
            "\n",
            "2023-05-31 18:12:55,082 ----------------------------------------------------------------------------------------------------\n"
          ]
        },
        {
          "output_type": "stream",
          "name": "stderr",
          "text": [
            "\n"
          ]
        },
        {
          "output_type": "execute_result",
          "data": {
            "text/plain": [
              "{'test_score': 0.8760698390962,\n",
              " 'dev_score_history': [0.7921509179720397,\n",
              "  0.8123830583432556,\n",
              "  0.8190006798096532,\n",
              "  0.8432772395036546,\n",
              "  0.8494077834179358,\n",
              "  0.8502349423323367,\n",
              "  0.8539631297255968,\n",
              "  0.8625673479859745,\n",
              "  0.8595969044986818,\n",
              "  0.868230277185501,\n",
              "  0.8634599156118142,\n",
              "  0.861255429690827,\n",
              "  0.8699597637188596,\n",
              "  0.8677811550151976,\n",
              "  0.8689864352514955,\n",
              "  0.8722226951562101,\n",
              "  0.878416109653947,\n",
              "  0.8745877378435517,\n",
              "  0.8749255002128565,\n",
              "  0.8750426184793727,\n",
              "  0.875352413498505,\n",
              "  0.8799319727891157,\n",
              "  0.8803884818538081,\n",
              "  0.8802852776362711,\n",
              "  0.882017207598603,\n",
              "  0.881857616738964,\n",
              "  0.8842159032862251,\n",
              "  0.8807698858797479,\n",
              "  0.8811889596602973,\n",
              "  0.881053525913339],\n",
              " 'train_loss_history': [0.17489418577179025,\n",
              "  0.08169401039918575,\n",
              "  0.06828381666427993,\n",
              "  0.060565164405895065,\n",
              "  0.05553547581275527,\n",
              "  0.05162219411524388,\n",
              "  0.04849491693489381,\n",
              "  0.04650610173621367,\n",
              "  0.04399168863551353,\n",
              "  0.042046167104575205,\n",
              "  0.04031608108169842,\n",
              "  0.038673791490831985,\n",
              "  0.03731086438083443,\n",
              "  0.03589616026138021,\n",
              "  0.03425918632500291,\n",
              "  0.03359744488244622,\n",
              "  0.031987808181515094,\n",
              "  0.032199002382904914,\n",
              "  0.03002931945451345,\n",
              "  0.02915718647585154,\n",
              "  0.029487526214378095,\n",
              "  0.02599234135534791,\n",
              "  0.02542504637569849,\n",
              "  0.023737605041644665,\n",
              "  0.023394006030122736,\n",
              "  0.02250169133666431,\n",
              "  0.022535116300285363,\n",
              "  0.021403568019959754,\n",
              "  0.020684860650081148,\n",
              "  0.020884816080743735],\n",
              " 'dev_loss_history': [0.06970632076263428,\n",
              "  0.055137842893600464,\n",
              "  0.05064845085144043,\n",
              "  0.04570441693067551,\n",
              "  0.043715305626392365,\n",
              "  0.04221685230731964,\n",
              "  0.04199768975377083,\n",
              "  0.04054354503750801,\n",
              "  0.03966616466641426,\n",
              "  0.0371476411819458,\n",
              "  0.04037047550082207,\n",
              "  0.03889809548854828,\n",
              "  0.03731432184576988,\n",
              "  0.039340950548648834,\n",
              "  0.04010123386979103,\n",
              "  0.037404805421829224,\n",
              "  0.03779932111501694,\n",
              "  0.03956102207303047,\n",
              "  0.03815709799528122,\n",
              "  0.038006845861673355,\n",
              "  0.03796042874455452,\n",
              "  0.03687196224927902,\n",
              "  0.037908751517534256,\n",
              "  0.038148801773786545,\n",
              "  0.038152895867824554,\n",
              "  0.038522038608789444,\n",
              "  0.03795759379863739,\n",
              "  0.03827093169093132,\n",
              "  0.03946412727236748,\n",
              "  0.040213339030742645]}"
            ]
          },
          "metadata": {},
          "execution_count": 14
        }
      ]
    }
  ]
}