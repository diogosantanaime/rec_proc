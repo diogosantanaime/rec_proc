{
 "cells": [
  {
   "cell_type": "code",
   "execution_count": null,
   "metadata": {},
   "outputs": [
    {
     "name": "stdout",
     "output_type": "stream",
     "text": [
      "Version Python: 3.8.10\n"
     ]
    }
   ],
   "source": [
    "# Versão da Linguagem Python\n",
    "from platform import python_version\n",
    "print('Versão da Linguagem Python Usada Neste Jupyter Notebook:', python_version())"
   ]
  },
  {
   "attachments": {},
   "cell_type": "markdown",
   "metadata": {},
   "source": [
    "Instalação do package datasets"
   ]
  },
  {
   "cell_type": "code",
   "execution_count": 4,
   "metadata": {},
   "outputs": [
    {
     "name": "stdout",
     "output_type": "stream",
     "text": [
      "Collecting datasets\n",
      "  Using cached datasets-2.11.0-py3-none-any.whl (468 kB)\n",
      "Requirement already satisfied: numpy>=1.17 in /mnt/d/projetos/python/reconhecimento_processos/.venv/lib/python3.8/site-packages (from datasets) (1.24.2)\n",
      "Requirement already satisfied: xxhash in /mnt/d/projetos/python/reconhecimento_processos/.venv/lib/python3.8/site-packages (from datasets) (3.2.0)\n",
      "Requirement already satisfied: packaging in /mnt/d/projetos/python/reconhecimento_processos/.venv/lib/python3.8/site-packages (from datasets) (23.1)\n",
      "Requirement already satisfied: dill<0.3.7,>=0.3.0 in /mnt/d/projetos/python/reconhecimento_processos/.venv/lib/python3.8/site-packages (from datasets) (0.3.6)\n",
      "Requirement already satisfied: tqdm>=4.62.1 in /mnt/d/projetos/python/reconhecimento_processos/.venv/lib/python3.8/site-packages (from datasets) (4.65.0)\n",
      "Collecting multiprocess\n",
      "  Using cached multiprocess-0.70.14-py38-none-any.whl (132 kB)\n",
      "Collecting aiohttp\n",
      "  Using cached aiohttp-3.8.4-cp38-cp38-manylinux_2_17_x86_64.manylinux2014_x86_64.whl (1.0 MB)\n",
      "Requirement already satisfied: pyyaml>=5.1 in /mnt/d/projetos/python/reconhecimento_processos/.venv/lib/python3.8/site-packages (from datasets) (6.0)\n",
      "Collecting responses<0.19\n",
      "  Using cached responses-0.18.0-py3-none-any.whl (38 kB)\n",
      "Requirement already satisfied: pyarrow>=8.0.0 in /mnt/d/projetos/python/reconhecimento_processos/.venv/lib/python3.8/site-packages (from datasets) (11.0.0)\n",
      "Collecting huggingface-hub<1.0.0,>=0.11.0\n",
      "  Using cached huggingface_hub-0.13.4-py3-none-any.whl (200 kB)\n",
      "Requirement already satisfied: pandas in /mnt/d/projetos/python/reconhecimento_processos/.venv/lib/python3.8/site-packages (from datasets) (2.0.0)\n",
      "Requirement already satisfied: fsspec[http]>=2021.11.1 in /mnt/d/projetos/python/reconhecimento_processos/.venv/lib/python3.8/site-packages (from datasets) (2023.4.0)\n",
      "Requirement already satisfied: requests>=2.19.0 in /mnt/d/projetos/python/reconhecimento_processos/.venv/lib/python3.8/site-packages (from datasets) (2.28.2)\n",
      "Requirement already satisfied: attrs>=17.3.0 in /mnt/d/projetos/python/reconhecimento_processos/.venv/lib/python3.8/site-packages (from aiohttp->datasets) (22.2.0)\n",
      "Requirement already satisfied: multidict<7.0,>=4.5 in /mnt/d/projetos/python/reconhecimento_processos/.venv/lib/python3.8/site-packages (from aiohttp->datasets) (6.0.4)\n",
      "Requirement already satisfied: async-timeout<5.0,>=4.0.0a3 in /mnt/d/projetos/python/reconhecimento_processos/.venv/lib/python3.8/site-packages (from aiohttp->datasets) (4.0.2)\n",
      "Requirement already satisfied: charset-normalizer<4.0,>=2.0 in /mnt/d/projetos/python/reconhecimento_processos/.venv/lib/python3.8/site-packages (from aiohttp->datasets) (3.1.0)\n",
      "Collecting aiosignal>=1.1.2\n",
      "  Using cached aiosignal-1.3.1-py3-none-any.whl (7.6 kB)\n",
      "Requirement already satisfied: yarl<2.0,>=1.0 in /mnt/d/projetos/python/reconhecimento_processos/.venv/lib/python3.8/site-packages (from aiohttp->datasets) (1.8.2)\n",
      "Requirement already satisfied: frozenlist>=1.1.1 in /mnt/d/projetos/python/reconhecimento_processos/.venv/lib/python3.8/site-packages (from aiohttp->datasets) (1.3.3)\n",
      "Requirement already satisfied: typing-extensions>=3.7.4.3 in /mnt/d/projetos/python/reconhecimento_processos/.venv/lib/python3.8/site-packages (from huggingface-hub<1.0.0,>=0.11.0->datasets) (4.5.0)\n",
      "Requirement already satisfied: filelock in /mnt/d/projetos/python/reconhecimento_processos/.venv/lib/python3.8/site-packages (from huggingface-hub<1.0.0,>=0.11.0->datasets) (3.11.0)\n",
      "Requirement already satisfied: idna<4,>=2.5 in /mnt/d/projetos/python/reconhecimento_processos/.venv/lib/python3.8/site-packages (from requests>=2.19.0->datasets) (3.4)\n",
      "Requirement already satisfied: certifi>=2017.4.17 in /mnt/d/projetos/python/reconhecimento_processos/.venv/lib/python3.8/site-packages (from requests>=2.19.0->datasets) (2022.12.7)\n",
      "Requirement already satisfied: urllib3<1.27,>=1.21.1 in /mnt/d/projetos/python/reconhecimento_processos/.venv/lib/python3.8/site-packages (from requests>=2.19.0->datasets) (1.26.15)\n",
      "Requirement already satisfied: python-dateutil>=2.8.2 in /mnt/d/projetos/python/reconhecimento_processos/.venv/lib/python3.8/site-packages (from pandas->datasets) (2.8.2)\n",
      "Requirement already satisfied: pytz>=2020.1 in /mnt/d/projetos/python/reconhecimento_processos/.venv/lib/python3.8/site-packages (from pandas->datasets) (2023.3)\n",
      "Requirement already satisfied: tzdata>=2022.1 in /mnt/d/projetos/python/reconhecimento_processos/.venv/lib/python3.8/site-packages (from pandas->datasets) (2023.3)\n",
      "Requirement already satisfied: six>=1.5 in /mnt/d/projetos/python/reconhecimento_processos/.venv/lib/python3.8/site-packages (from python-dateutil>=2.8.2->pandas->datasets) (1.16.0)\n",
      "Installing collected packages: multiprocess, aiosignal, responses, huggingface-hub, aiohttp, datasets\n",
      "Successfully installed aiohttp-3.8.4 aiosignal-1.3.1 datasets-2.11.0 huggingface-hub-0.13.4 multiprocess-0.70.14 responses-0.18.0\n",
      "Note: you may need to restart the kernel to use updated packages.\n"
     ]
    }
   ],
   "source": [
    "pip install datasets"
   ]
  },
  {
   "attachments": {},
   "cell_type": "markdown",
   "metadata": {},
   "source": [
    "Leitura dos dados contidos no dataset: PROCESS EXTRACTION FROM TEXT (PET)\n",
    "\n",
    "Dataset disponível em: https://huggingface.co/datasets/patriziobellan/PET#token-classification-task\n",
    "\n",
    "Documentação disponível em: https://pdi.fbk.eu/pet-dataset/"
   ]
  },
  {
   "cell_type": "code",
   "execution_count": 5,
   "metadata": {},
   "outputs": [
    {
     "name": "stderr",
     "output_type": "stream",
     "text": [
      "/mnt/d/projetos/python/reconhecimento_processos/.venv/lib/python3.8/site-packages/tqdm/auto.py:21: TqdmWarning: IProgress not found. Please update jupyter and ipywidgets. See https://ipywidgets.readthedocs.io/en/stable/user_install.html\n",
      "  from .autonotebook import tqdm as notebook_tqdm\n",
      "Found cached dataset pet (/home/diogo/.cache/huggingface/datasets/patriziobellan___pet/token-classification/1.0.1/38434e2af57af533c400c8975f37e43c08bb77739085a3c026a862b2efb668d2)\n"
     ]
    },
    {
     "name": "stdout",
     "output_type": "stream",
     "text": [
      "\n",
      "\n",
      " _______ _     _ _______       _____  _______ _______      ______  _______ _______ _______ _______ _______ _______\n",
      "    |    |_____| |______      |_____] |______    |         |     \\ |_____|    |    |_____| |______ |______    |   \n",
      "    |    |     | |______      |       |______    |         |_____/ |     |    |    |     | ______| |______    |   \n",
      "                                                                                                                  \n",
      "Discover more at: [https://pdi.fbk.eu/pet-dataset/]\n",
      "\n"
     ]
    },
    {
     "name": "stderr",
     "output_type": "stream",
     "text": [
      "100%|██████████| 1/1 [00:00<00:00,  8.31it/s]\n",
      "Found cached dataset pet (/home/diogo/.cache/huggingface/datasets/patriziobellan___pet/relations-extraction/1.0.1/38434e2af57af533c400c8975f37e43c08bb77739085a3c026a862b2efb668d2)\n"
     ]
    },
    {
     "name": "stdout",
     "output_type": "stream",
     "text": [
      "\n",
      "\n",
      " _______ _     _ _______       _____  _______ _______      ______  _______ _______ _______ _______ _______ _______\n",
      "    |    |_____| |______      |_____] |______    |         |     \\ |_____|    |    |_____| |______ |______    |   \n",
      "    |    |     | |______      |       |______    |         |_____/ |     |    |    |     | ______| |______    |   \n",
      "                                                                                                                  \n",
      "Discover more at: [https://pdi.fbk.eu/pet-dataset/]\n",
      "\n"
     ]
    },
    {
     "name": "stderr",
     "output_type": "stream",
     "text": [
      "100%|██████████| 1/1 [00:00<00:00, 281.23it/s]\n"
     ]
    }
   ],
   "source": [
    "# Leitura do dataset\n",
    "from datasets import load_dataset\n",
    "token_classification = load_dataset(\"patriziobellan/PET\", name='token-classification')\n",
    "relations_extraction = load_dataset(\"patriziobellan/PET\", name='relations-extraction')"
   ]
  },
  {
   "attachments": {},
   "cell_type": "markdown",
   "metadata": {},
   "source": [
    "Estrutura dos datasets: token-classification e relations-extraction"
   ]
  },
  {
   "cell_type": "code",
   "execution_count": 6,
   "metadata": {},
   "outputs": [
    {
     "data": {
      "text/plain": [
       "(DatasetDict({\n",
       "     test: Dataset({\n",
       "         features: ['document name', 'sentence-ID', 'tokens', 'ner-tags'],\n",
       "         num_rows: 417\n",
       "     })\n",
       " }),\n",
       " DatasetDict({\n",
       "     test: Dataset({\n",
       "         features: ['document name', 'tokens', 'tokens-IDs', 'ner_tags', 'sentence-IDs', 'relations'],\n",
       "         num_rows: 45\n",
       "     })\n",
       " }))"
      ]
     },
     "execution_count": 6,
     "metadata": {},
     "output_type": "execute_result"
    }
   ],
   "source": [
    "token_classification, relations_extraction"
   ]
  },
  {
   "attachments": {},
   "cell_type": "markdown",
   "metadata": {},
   "source": [
    "Montagem do arquivo CONLL.txt a partir do dataset: relations-extraction"
   ]
  },
  {
   "cell_type": "code",
   "execution_count": 8,
   "metadata": {},
   "outputs": [],
   "source": [
    "# Create file CONLL\n",
    "tokens = sum(relations_extraction['test']['tokens'], [])\n",
    "ner_tags = sum(relations_extraction['test']['ner_tags'], [])\n",
    "list_CONLL = list(zip(tokens, ner_tags))\n",
    "\n",
    "with open('../data/CONLL.txt', 'w') as file:\n",
    "  for t in list_CONLL:\n",
    "    line =  ' '.join(t) + '\\n'\n",
    "    file.write(line)"
   ]
  },
  {
   "attachments": {},
   "cell_type": "markdown",
   "metadata": {},
   "source": [
    "Montagem do arquivo sentence.txt com as frases do dataset."
   ]
  },
  {
   "cell_type": "code",
   "execution_count": 8,
   "metadata": {},
   "outputs": [],
   "source": [
    "# Create file sentence\n",
    "list_tokens = token_classification['test']['tokens']\n",
    "\n",
    "with open('../data/sentences.txt', 'w') as file:\n",
    "  for tokens in list_tokens:\n",
    "    line = ' '.join(tokens).replace(' .', '') + '.\\n'\n",
    "    file.write(line)"
   ]
  }
 ],
 "metadata": {
  "kernelspec": {
   "display_name": "Python 3",
   "language": "python",
   "name": "python3"
  },
  "language_info": {
   "codemirror_mode": {
    "name": "ipython",
    "version": 3
   },
   "file_extension": ".py",
   "mimetype": "text/x-python",
   "name": "python",
   "nbconvert_exporter": "python",
   "pygments_lexer": "ipython3",
   "version": "3.8.10"
  },
  "orig_nbformat": 4,
  "vscode": {
   "interpreter": {
    "hash": "916dbcbb3f70747c44a77c7bcd40155683ae19c65e1c03b4aa3499c5328201f1"
   }
  }
 },
 "nbformat": 4,
 "nbformat_minor": 2
}
