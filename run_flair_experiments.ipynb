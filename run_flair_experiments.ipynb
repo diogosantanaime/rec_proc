{
  "nbformat": 4,
  "nbformat_minor": 0,
  "metadata": {
    "colab": {
      "provenance": [],
      "machine_shape": "hm",
      "gpuType": "T4",
      "mount_file_id": "1C73tW6G2SfRSN4mR7olwC1sRoODxYk8n",
      "authorship_tag": "ABX9TyMivuHZJVAjDsLWz5f8WE6m",
      "include_colab_link": true
    },
    "kernelspec": {
      "name": "python3",
      "display_name": "Python 3"
    },
    "language_info": {
      "name": "python"
    },
    "accelerator": "GPU",
    "widgets": {
      "application/vnd.jupyter.widget-state+json": {
        "be69bc53f9294dfd9547f14b7bfb97ba": {
          "model_module": "@jupyter-widgets/controls",
          "model_name": "HBoxModel",
          "model_module_version": "1.5.0",
          "state": {
            "_dom_classes": [],
            "_model_module": "@jupyter-widgets/controls",
            "_model_module_version": "1.5.0",
            "_model_name": "HBoxModel",
            "_view_count": null,
            "_view_module": "@jupyter-widgets/controls",
            "_view_module_version": "1.5.0",
            "_view_name": "HBoxView",
            "box_style": "",
            "children": [
              "IPY_MODEL_9943ee68e85a4cc299279382a850b86c",
              "IPY_MODEL_770f0228763743798dac91c935e713fb",
              "IPY_MODEL_a7e8d02db54c40d2a211d49147163373"
            ],
            "layout": "IPY_MODEL_4790d890393441e190486dd661377746"
          }
        },
        "9943ee68e85a4cc299279382a850b86c": {
          "model_module": "@jupyter-widgets/controls",
          "model_name": "HTMLModel",
          "model_module_version": "1.5.0",
          "state": {
            "_dom_classes": [],
            "_model_module": "@jupyter-widgets/controls",
            "_model_module_version": "1.5.0",
            "_model_name": "HTMLModel",
            "_view_count": null,
            "_view_module": "@jupyter-widgets/controls",
            "_view_module_version": "1.5.0",
            "_view_name": "HTMLView",
            "description": "",
            "description_tooltip": null,
            "layout": "IPY_MODEL_00b663f263ff4cc49d7fc39f63e91306",
            "placeholder": "​",
            "style": "IPY_MODEL_6f3736a637d9448e9bf3601746d7a97c",
            "value": "Downloading (…)lve/main/config.json: 100%"
          }
        },
        "770f0228763743798dac91c935e713fb": {
          "model_module": "@jupyter-widgets/controls",
          "model_name": "FloatProgressModel",
          "model_module_version": "1.5.0",
          "state": {
            "_dom_classes": [],
            "_model_module": "@jupyter-widgets/controls",
            "_model_module_version": "1.5.0",
            "_model_name": "FloatProgressModel",
            "_view_count": null,
            "_view_module": "@jupyter-widgets/controls",
            "_view_module_version": "1.5.0",
            "_view_name": "ProgressView",
            "bar_style": "success",
            "description": "",
            "description_tooltip": null,
            "layout": "IPY_MODEL_e0f27ff6d1d2459c9b5179692868a91c",
            "max": 481,
            "min": 0,
            "orientation": "horizontal",
            "style": "IPY_MODEL_89073d48e1034970acd306a215fb6c2e",
            "value": 481
          }
        },
        "a7e8d02db54c40d2a211d49147163373": {
          "model_module": "@jupyter-widgets/controls",
          "model_name": "HTMLModel",
          "model_module_version": "1.5.0",
          "state": {
            "_dom_classes": [],
            "_model_module": "@jupyter-widgets/controls",
            "_model_module_version": "1.5.0",
            "_model_name": "HTMLModel",
            "_view_count": null,
            "_view_module": "@jupyter-widgets/controls",
            "_view_module_version": "1.5.0",
            "_view_name": "HTMLView",
            "description": "",
            "description_tooltip": null,
            "layout": "IPY_MODEL_ec3991d10a3a4dec9c253f5417f0b209",
            "placeholder": "​",
            "style": "IPY_MODEL_ddacbde960664114ab4f0f0dbbcd4566",
            "value": " 481/481 [00:00&lt;00:00, 36.6kB/s]"
          }
        },
        "4790d890393441e190486dd661377746": {
          "model_module": "@jupyter-widgets/base",
          "model_name": "LayoutModel",
          "model_module_version": "1.2.0",
          "state": {
            "_model_module": "@jupyter-widgets/base",
            "_model_module_version": "1.2.0",
            "_model_name": "LayoutModel",
            "_view_count": null,
            "_view_module": "@jupyter-widgets/base",
            "_view_module_version": "1.2.0",
            "_view_name": "LayoutView",
            "align_content": null,
            "align_items": null,
            "align_self": null,
            "border": null,
            "bottom": null,
            "display": null,
            "flex": null,
            "flex_flow": null,
            "grid_area": null,
            "grid_auto_columns": null,
            "grid_auto_flow": null,
            "grid_auto_rows": null,
            "grid_column": null,
            "grid_gap": null,
            "grid_row": null,
            "grid_template_areas": null,
            "grid_template_columns": null,
            "grid_template_rows": null,
            "height": null,
            "justify_content": null,
            "justify_items": null,
            "left": null,
            "margin": null,
            "max_height": null,
            "max_width": null,
            "min_height": null,
            "min_width": null,
            "object_fit": null,
            "object_position": null,
            "order": null,
            "overflow": null,
            "overflow_x": null,
            "overflow_y": null,
            "padding": null,
            "right": null,
            "top": null,
            "visibility": null,
            "width": null
          }
        },
        "00b663f263ff4cc49d7fc39f63e91306": {
          "model_module": "@jupyter-widgets/base",
          "model_name": "LayoutModel",
          "model_module_version": "1.2.0",
          "state": {
            "_model_module": "@jupyter-widgets/base",
            "_model_module_version": "1.2.0",
            "_model_name": "LayoutModel",
            "_view_count": null,
            "_view_module": "@jupyter-widgets/base",
            "_view_module_version": "1.2.0",
            "_view_name": "LayoutView",
            "align_content": null,
            "align_items": null,
            "align_self": null,
            "border": null,
            "bottom": null,
            "display": null,
            "flex": null,
            "flex_flow": null,
            "grid_area": null,
            "grid_auto_columns": null,
            "grid_auto_flow": null,
            "grid_auto_rows": null,
            "grid_column": null,
            "grid_gap": null,
            "grid_row": null,
            "grid_template_areas": null,
            "grid_template_columns": null,
            "grid_template_rows": null,
            "height": null,
            "justify_content": null,
            "justify_items": null,
            "left": null,
            "margin": null,
            "max_height": null,
            "max_width": null,
            "min_height": null,
            "min_width": null,
            "object_fit": null,
            "object_position": null,
            "order": null,
            "overflow": null,
            "overflow_x": null,
            "overflow_y": null,
            "padding": null,
            "right": null,
            "top": null,
            "visibility": null,
            "width": null
          }
        },
        "6f3736a637d9448e9bf3601746d7a97c": {
          "model_module": "@jupyter-widgets/controls",
          "model_name": "DescriptionStyleModel",
          "model_module_version": "1.5.0",
          "state": {
            "_model_module": "@jupyter-widgets/controls",
            "_model_module_version": "1.5.0",
            "_model_name": "DescriptionStyleModel",
            "_view_count": null,
            "_view_module": "@jupyter-widgets/base",
            "_view_module_version": "1.2.0",
            "_view_name": "StyleView",
            "description_width": ""
          }
        },
        "e0f27ff6d1d2459c9b5179692868a91c": {
          "model_module": "@jupyter-widgets/base",
          "model_name": "LayoutModel",
          "model_module_version": "1.2.0",
          "state": {
            "_model_module": "@jupyter-widgets/base",
            "_model_module_version": "1.2.0",
            "_model_name": "LayoutModel",
            "_view_count": null,
            "_view_module": "@jupyter-widgets/base",
            "_view_module_version": "1.2.0",
            "_view_name": "LayoutView",
            "align_content": null,
            "align_items": null,
            "align_self": null,
            "border": null,
            "bottom": null,
            "display": null,
            "flex": null,
            "flex_flow": null,
            "grid_area": null,
            "grid_auto_columns": null,
            "grid_auto_flow": null,
            "grid_auto_rows": null,
            "grid_column": null,
            "grid_gap": null,
            "grid_row": null,
            "grid_template_areas": null,
            "grid_template_columns": null,
            "grid_template_rows": null,
            "height": null,
            "justify_content": null,
            "justify_items": null,
            "left": null,
            "margin": null,
            "max_height": null,
            "max_width": null,
            "min_height": null,
            "min_width": null,
            "object_fit": null,
            "object_position": null,
            "order": null,
            "overflow": null,
            "overflow_x": null,
            "overflow_y": null,
            "padding": null,
            "right": null,
            "top": null,
            "visibility": null,
            "width": null
          }
        },
        "89073d48e1034970acd306a215fb6c2e": {
          "model_module": "@jupyter-widgets/controls",
          "model_name": "ProgressStyleModel",
          "model_module_version": "1.5.0",
          "state": {
            "_model_module": "@jupyter-widgets/controls",
            "_model_module_version": "1.5.0",
            "_model_name": "ProgressStyleModel",
            "_view_count": null,
            "_view_module": "@jupyter-widgets/base",
            "_view_module_version": "1.2.0",
            "_view_name": "StyleView",
            "bar_color": null,
            "description_width": ""
          }
        },
        "ec3991d10a3a4dec9c253f5417f0b209": {
          "model_module": "@jupyter-widgets/base",
          "model_name": "LayoutModel",
          "model_module_version": "1.2.0",
          "state": {
            "_model_module": "@jupyter-widgets/base",
            "_model_module_version": "1.2.0",
            "_model_name": "LayoutModel",
            "_view_count": null,
            "_view_module": "@jupyter-widgets/base",
            "_view_module_version": "1.2.0",
            "_view_name": "LayoutView",
            "align_content": null,
            "align_items": null,
            "align_self": null,
            "border": null,
            "bottom": null,
            "display": null,
            "flex": null,
            "flex_flow": null,
            "grid_area": null,
            "grid_auto_columns": null,
            "grid_auto_flow": null,
            "grid_auto_rows": null,
            "grid_column": null,
            "grid_gap": null,
            "grid_row": null,
            "grid_template_areas": null,
            "grid_template_columns": null,
            "grid_template_rows": null,
            "height": null,
            "justify_content": null,
            "justify_items": null,
            "left": null,
            "margin": null,
            "max_height": null,
            "max_width": null,
            "min_height": null,
            "min_width": null,
            "object_fit": null,
            "object_position": null,
            "order": null,
            "overflow": null,
            "overflow_x": null,
            "overflow_y": null,
            "padding": null,
            "right": null,
            "top": null,
            "visibility": null,
            "width": null
          }
        },
        "ddacbde960664114ab4f0f0dbbcd4566": {
          "model_module": "@jupyter-widgets/controls",
          "model_name": "DescriptionStyleModel",
          "model_module_version": "1.5.0",
          "state": {
            "_model_module": "@jupyter-widgets/controls",
            "_model_module_version": "1.5.0",
            "_model_name": "DescriptionStyleModel",
            "_view_count": null,
            "_view_module": "@jupyter-widgets/base",
            "_view_module_version": "1.2.0",
            "_view_name": "StyleView",
            "description_width": ""
          }
        },
        "381f5f8f178b4d3a94f8b4ed7aef0866": {
          "model_module": "@jupyter-widgets/controls",
          "model_name": "HBoxModel",
          "model_module_version": "1.5.0",
          "state": {
            "_dom_classes": [],
            "_model_module": "@jupyter-widgets/controls",
            "_model_module_version": "1.5.0",
            "_model_name": "HBoxModel",
            "_view_count": null,
            "_view_module": "@jupyter-widgets/controls",
            "_view_module_version": "1.5.0",
            "_view_name": "HBoxView",
            "box_style": "",
            "children": [
              "IPY_MODEL_e251a3de2b8148ed968725785e820329",
              "IPY_MODEL_29feb09af3bc4f6ba37c0835e36318a8",
              "IPY_MODEL_0f9127fb2d07470f852329726b6eca05"
            ],
            "layout": "IPY_MODEL_4876e994745940bda0141eb27a6f39c6"
          }
        },
        "e251a3de2b8148ed968725785e820329": {
          "model_module": "@jupyter-widgets/controls",
          "model_name": "HTMLModel",
          "model_module_version": "1.5.0",
          "state": {
            "_dom_classes": [],
            "_model_module": "@jupyter-widgets/controls",
            "_model_module_version": "1.5.0",
            "_model_name": "HTMLModel",
            "_view_count": null,
            "_view_module": "@jupyter-widgets/controls",
            "_view_module_version": "1.5.0",
            "_view_name": "HTMLView",
            "description": "",
            "description_tooltip": null,
            "layout": "IPY_MODEL_95c4895fc269422f97f357d0d9944f37",
            "placeholder": "​",
            "style": "IPY_MODEL_ab56aa364f4542b28faeb6bdaf76ec06",
            "value": "Downloading (…)olve/main/vocab.json: 100%"
          }
        },
        "29feb09af3bc4f6ba37c0835e36318a8": {
          "model_module": "@jupyter-widgets/controls",
          "model_name": "FloatProgressModel",
          "model_module_version": "1.5.0",
          "state": {
            "_dom_classes": [],
            "_model_module": "@jupyter-widgets/controls",
            "_model_module_version": "1.5.0",
            "_model_name": "FloatProgressModel",
            "_view_count": null,
            "_view_module": "@jupyter-widgets/controls",
            "_view_module_version": "1.5.0",
            "_view_name": "ProgressView",
            "bar_style": "success",
            "description": "",
            "description_tooltip": null,
            "layout": "IPY_MODEL_f0d9737644c44cc2a49603c41d3aceb2",
            "max": 898823,
            "min": 0,
            "orientation": "horizontal",
            "style": "IPY_MODEL_dc4cdd8b2fb6497e83f810d54ee05b19",
            "value": 898823
          }
        },
        "0f9127fb2d07470f852329726b6eca05": {
          "model_module": "@jupyter-widgets/controls",
          "model_name": "HTMLModel",
          "model_module_version": "1.5.0",
          "state": {
            "_dom_classes": [],
            "_model_module": "@jupyter-widgets/controls",
            "_model_module_version": "1.5.0",
            "_model_name": "HTMLModel",
            "_view_count": null,
            "_view_module": "@jupyter-widgets/controls",
            "_view_module_version": "1.5.0",
            "_view_name": "HTMLView",
            "description": "",
            "description_tooltip": null,
            "layout": "IPY_MODEL_d32db27f46564eecb84957547c028508",
            "placeholder": "​",
            "style": "IPY_MODEL_abdd8c74a5bb440189c02bdc26aecbb2",
            "value": " 899k/899k [00:00&lt;00:00, 38.0MB/s]"
          }
        },
        "4876e994745940bda0141eb27a6f39c6": {
          "model_module": "@jupyter-widgets/base",
          "model_name": "LayoutModel",
          "model_module_version": "1.2.0",
          "state": {
            "_model_module": "@jupyter-widgets/base",
            "_model_module_version": "1.2.0",
            "_model_name": "LayoutModel",
            "_view_count": null,
            "_view_module": "@jupyter-widgets/base",
            "_view_module_version": "1.2.0",
            "_view_name": "LayoutView",
            "align_content": null,
            "align_items": null,
            "align_self": null,
            "border": null,
            "bottom": null,
            "display": null,
            "flex": null,
            "flex_flow": null,
            "grid_area": null,
            "grid_auto_columns": null,
            "grid_auto_flow": null,
            "grid_auto_rows": null,
            "grid_column": null,
            "grid_gap": null,
            "grid_row": null,
            "grid_template_areas": null,
            "grid_template_columns": null,
            "grid_template_rows": null,
            "height": null,
            "justify_content": null,
            "justify_items": null,
            "left": null,
            "margin": null,
            "max_height": null,
            "max_width": null,
            "min_height": null,
            "min_width": null,
            "object_fit": null,
            "object_position": null,
            "order": null,
            "overflow": null,
            "overflow_x": null,
            "overflow_y": null,
            "padding": null,
            "right": null,
            "top": null,
            "visibility": null,
            "width": null
          }
        },
        "95c4895fc269422f97f357d0d9944f37": {
          "model_module": "@jupyter-widgets/base",
          "model_name": "LayoutModel",
          "model_module_version": "1.2.0",
          "state": {
            "_model_module": "@jupyter-widgets/base",
            "_model_module_version": "1.2.0",
            "_model_name": "LayoutModel",
            "_view_count": null,
            "_view_module": "@jupyter-widgets/base",
            "_view_module_version": "1.2.0",
            "_view_name": "LayoutView",
            "align_content": null,
            "align_items": null,
            "align_self": null,
            "border": null,
            "bottom": null,
            "display": null,
            "flex": null,
            "flex_flow": null,
            "grid_area": null,
            "grid_auto_columns": null,
            "grid_auto_flow": null,
            "grid_auto_rows": null,
            "grid_column": null,
            "grid_gap": null,
            "grid_row": null,
            "grid_template_areas": null,
            "grid_template_columns": null,
            "grid_template_rows": null,
            "height": null,
            "justify_content": null,
            "justify_items": null,
            "left": null,
            "margin": null,
            "max_height": null,
            "max_width": null,
            "min_height": null,
            "min_width": null,
            "object_fit": null,
            "object_position": null,
            "order": null,
            "overflow": null,
            "overflow_x": null,
            "overflow_y": null,
            "padding": null,
            "right": null,
            "top": null,
            "visibility": null,
            "width": null
          }
        },
        "ab56aa364f4542b28faeb6bdaf76ec06": {
          "model_module": "@jupyter-widgets/controls",
          "model_name": "DescriptionStyleModel",
          "model_module_version": "1.5.0",
          "state": {
            "_model_module": "@jupyter-widgets/controls",
            "_model_module_version": "1.5.0",
            "_model_name": "DescriptionStyleModel",
            "_view_count": null,
            "_view_module": "@jupyter-widgets/base",
            "_view_module_version": "1.2.0",
            "_view_name": "StyleView",
            "description_width": ""
          }
        },
        "f0d9737644c44cc2a49603c41d3aceb2": {
          "model_module": "@jupyter-widgets/base",
          "model_name": "LayoutModel",
          "model_module_version": "1.2.0",
          "state": {
            "_model_module": "@jupyter-widgets/base",
            "_model_module_version": "1.2.0",
            "_model_name": "LayoutModel",
            "_view_count": null,
            "_view_module": "@jupyter-widgets/base",
            "_view_module_version": "1.2.0",
            "_view_name": "LayoutView",
            "align_content": null,
            "align_items": null,
            "align_self": null,
            "border": null,
            "bottom": null,
            "display": null,
            "flex": null,
            "flex_flow": null,
            "grid_area": null,
            "grid_auto_columns": null,
            "grid_auto_flow": null,
            "grid_auto_rows": null,
            "grid_column": null,
            "grid_gap": null,
            "grid_row": null,
            "grid_template_areas": null,
            "grid_template_columns": null,
            "grid_template_rows": null,
            "height": null,
            "justify_content": null,
            "justify_items": null,
            "left": null,
            "margin": null,
            "max_height": null,
            "max_width": null,
            "min_height": null,
            "min_width": null,
            "object_fit": null,
            "object_position": null,
            "order": null,
            "overflow": null,
            "overflow_x": null,
            "overflow_y": null,
            "padding": null,
            "right": null,
            "top": null,
            "visibility": null,
            "width": null
          }
        },
        "dc4cdd8b2fb6497e83f810d54ee05b19": {
          "model_module": "@jupyter-widgets/controls",
          "model_name": "ProgressStyleModel",
          "model_module_version": "1.5.0",
          "state": {
            "_model_module": "@jupyter-widgets/controls",
            "_model_module_version": "1.5.0",
            "_model_name": "ProgressStyleModel",
            "_view_count": null,
            "_view_module": "@jupyter-widgets/base",
            "_view_module_version": "1.2.0",
            "_view_name": "StyleView",
            "bar_color": null,
            "description_width": ""
          }
        },
        "d32db27f46564eecb84957547c028508": {
          "model_module": "@jupyter-widgets/base",
          "model_name": "LayoutModel",
          "model_module_version": "1.2.0",
          "state": {
            "_model_module": "@jupyter-widgets/base",
            "_model_module_version": "1.2.0",
            "_model_name": "LayoutModel",
            "_view_count": null,
            "_view_module": "@jupyter-widgets/base",
            "_view_module_version": "1.2.0",
            "_view_name": "LayoutView",
            "align_content": null,
            "align_items": null,
            "align_self": null,
            "border": null,
            "bottom": null,
            "display": null,
            "flex": null,
            "flex_flow": null,
            "grid_area": null,
            "grid_auto_columns": null,
            "grid_auto_flow": null,
            "grid_auto_rows": null,
            "grid_column": null,
            "grid_gap": null,
            "grid_row": null,
            "grid_template_areas": null,
            "grid_template_columns": null,
            "grid_template_rows": null,
            "height": null,
            "justify_content": null,
            "justify_items": null,
            "left": null,
            "margin": null,
            "max_height": null,
            "max_width": null,
            "min_height": null,
            "min_width": null,
            "object_fit": null,
            "object_position": null,
            "order": null,
            "overflow": null,
            "overflow_x": null,
            "overflow_y": null,
            "padding": null,
            "right": null,
            "top": null,
            "visibility": null,
            "width": null
          }
        },
        "abdd8c74a5bb440189c02bdc26aecbb2": {
          "model_module": "@jupyter-widgets/controls",
          "model_name": "DescriptionStyleModel",
          "model_module_version": "1.5.0",
          "state": {
            "_model_module": "@jupyter-widgets/controls",
            "_model_module_version": "1.5.0",
            "_model_name": "DescriptionStyleModel",
            "_view_count": null,
            "_view_module": "@jupyter-widgets/base",
            "_view_module_version": "1.2.0",
            "_view_name": "StyleView",
            "description_width": ""
          }
        },
        "0d278dff46e1457281f635b7a88f491d": {
          "model_module": "@jupyter-widgets/controls",
          "model_name": "HBoxModel",
          "model_module_version": "1.5.0",
          "state": {
            "_dom_classes": [],
            "_model_module": "@jupyter-widgets/controls",
            "_model_module_version": "1.5.0",
            "_model_name": "HBoxModel",
            "_view_count": null,
            "_view_module": "@jupyter-widgets/controls",
            "_view_module_version": "1.5.0",
            "_view_name": "HBoxView",
            "box_style": "",
            "children": [
              "IPY_MODEL_da9a70f7d65c44bd80f90b769a8321d2",
              "IPY_MODEL_e0655ca629e5404599a153e99380cf29",
              "IPY_MODEL_559ef22545224f63bb8ed1e210d613df"
            ],
            "layout": "IPY_MODEL_3359280c0ed447e580d13b7b2050f668"
          }
        },
        "da9a70f7d65c44bd80f90b769a8321d2": {
          "model_module": "@jupyter-widgets/controls",
          "model_name": "HTMLModel",
          "model_module_version": "1.5.0",
          "state": {
            "_dom_classes": [],
            "_model_module": "@jupyter-widgets/controls",
            "_model_module_version": "1.5.0",
            "_model_name": "HTMLModel",
            "_view_count": null,
            "_view_module": "@jupyter-widgets/controls",
            "_view_module_version": "1.5.0",
            "_view_name": "HTMLView",
            "description": "",
            "description_tooltip": null,
            "layout": "IPY_MODEL_e3872acad9ed4dd1ad180a875e7f902b",
            "placeholder": "​",
            "style": "IPY_MODEL_d56a627b67a2414d9b90217ac401871e",
            "value": "Downloading (…)olve/main/merges.txt: 100%"
          }
        },
        "e0655ca629e5404599a153e99380cf29": {
          "model_module": "@jupyter-widgets/controls",
          "model_name": "FloatProgressModel",
          "model_module_version": "1.5.0",
          "state": {
            "_dom_classes": [],
            "_model_module": "@jupyter-widgets/controls",
            "_model_module_version": "1.5.0",
            "_model_name": "FloatProgressModel",
            "_view_count": null,
            "_view_module": "@jupyter-widgets/controls",
            "_view_module_version": "1.5.0",
            "_view_name": "ProgressView",
            "bar_style": "success",
            "description": "",
            "description_tooltip": null,
            "layout": "IPY_MODEL_d971c4b5905a454fa43ae72bf9ecaf03",
            "max": 456318,
            "min": 0,
            "orientation": "horizontal",
            "style": "IPY_MODEL_7bec9baf5edb4c1da1aa65ed4980be33",
            "value": 456318
          }
        },
        "559ef22545224f63bb8ed1e210d613df": {
          "model_module": "@jupyter-widgets/controls",
          "model_name": "HTMLModel",
          "model_module_version": "1.5.0",
          "state": {
            "_dom_classes": [],
            "_model_module": "@jupyter-widgets/controls",
            "_model_module_version": "1.5.0",
            "_model_name": "HTMLModel",
            "_view_count": null,
            "_view_module": "@jupyter-widgets/controls",
            "_view_module_version": "1.5.0",
            "_view_name": "HTMLView",
            "description": "",
            "description_tooltip": null,
            "layout": "IPY_MODEL_7a38d3a29ce04dfaa7c01cbb3d08d178",
            "placeholder": "​",
            "style": "IPY_MODEL_cfa7b456a9204787a6574f42ec9fe652",
            "value": " 456k/456k [00:00&lt;00:00, 31.2MB/s]"
          }
        },
        "3359280c0ed447e580d13b7b2050f668": {
          "model_module": "@jupyter-widgets/base",
          "model_name": "LayoutModel",
          "model_module_version": "1.2.0",
          "state": {
            "_model_module": "@jupyter-widgets/base",
            "_model_module_version": "1.2.0",
            "_model_name": "LayoutModel",
            "_view_count": null,
            "_view_module": "@jupyter-widgets/base",
            "_view_module_version": "1.2.0",
            "_view_name": "LayoutView",
            "align_content": null,
            "align_items": null,
            "align_self": null,
            "border": null,
            "bottom": null,
            "display": null,
            "flex": null,
            "flex_flow": null,
            "grid_area": null,
            "grid_auto_columns": null,
            "grid_auto_flow": null,
            "grid_auto_rows": null,
            "grid_column": null,
            "grid_gap": null,
            "grid_row": null,
            "grid_template_areas": null,
            "grid_template_columns": null,
            "grid_template_rows": null,
            "height": null,
            "justify_content": null,
            "justify_items": null,
            "left": null,
            "margin": null,
            "max_height": null,
            "max_width": null,
            "min_height": null,
            "min_width": null,
            "object_fit": null,
            "object_position": null,
            "order": null,
            "overflow": null,
            "overflow_x": null,
            "overflow_y": null,
            "padding": null,
            "right": null,
            "top": null,
            "visibility": null,
            "width": null
          }
        },
        "e3872acad9ed4dd1ad180a875e7f902b": {
          "model_module": "@jupyter-widgets/base",
          "model_name": "LayoutModel",
          "model_module_version": "1.2.0",
          "state": {
            "_model_module": "@jupyter-widgets/base",
            "_model_module_version": "1.2.0",
            "_model_name": "LayoutModel",
            "_view_count": null,
            "_view_module": "@jupyter-widgets/base",
            "_view_module_version": "1.2.0",
            "_view_name": "LayoutView",
            "align_content": null,
            "align_items": null,
            "align_self": null,
            "border": null,
            "bottom": null,
            "display": null,
            "flex": null,
            "flex_flow": null,
            "grid_area": null,
            "grid_auto_columns": null,
            "grid_auto_flow": null,
            "grid_auto_rows": null,
            "grid_column": null,
            "grid_gap": null,
            "grid_row": null,
            "grid_template_areas": null,
            "grid_template_columns": null,
            "grid_template_rows": null,
            "height": null,
            "justify_content": null,
            "justify_items": null,
            "left": null,
            "margin": null,
            "max_height": null,
            "max_width": null,
            "min_height": null,
            "min_width": null,
            "object_fit": null,
            "object_position": null,
            "order": null,
            "overflow": null,
            "overflow_x": null,
            "overflow_y": null,
            "padding": null,
            "right": null,
            "top": null,
            "visibility": null,
            "width": null
          }
        },
        "d56a627b67a2414d9b90217ac401871e": {
          "model_module": "@jupyter-widgets/controls",
          "model_name": "DescriptionStyleModel",
          "model_module_version": "1.5.0",
          "state": {
            "_model_module": "@jupyter-widgets/controls",
            "_model_module_version": "1.5.0",
            "_model_name": "DescriptionStyleModel",
            "_view_count": null,
            "_view_module": "@jupyter-widgets/base",
            "_view_module_version": "1.2.0",
            "_view_name": "StyleView",
            "description_width": ""
          }
        },
        "d971c4b5905a454fa43ae72bf9ecaf03": {
          "model_module": "@jupyter-widgets/base",
          "model_name": "LayoutModel",
          "model_module_version": "1.2.0",
          "state": {
            "_model_module": "@jupyter-widgets/base",
            "_model_module_version": "1.2.0",
            "_model_name": "LayoutModel",
            "_view_count": null,
            "_view_module": "@jupyter-widgets/base",
            "_view_module_version": "1.2.0",
            "_view_name": "LayoutView",
            "align_content": null,
            "align_items": null,
            "align_self": null,
            "border": null,
            "bottom": null,
            "display": null,
            "flex": null,
            "flex_flow": null,
            "grid_area": null,
            "grid_auto_columns": null,
            "grid_auto_flow": null,
            "grid_auto_rows": null,
            "grid_column": null,
            "grid_gap": null,
            "grid_row": null,
            "grid_template_areas": null,
            "grid_template_columns": null,
            "grid_template_rows": null,
            "height": null,
            "justify_content": null,
            "justify_items": null,
            "left": null,
            "margin": null,
            "max_height": null,
            "max_width": null,
            "min_height": null,
            "min_width": null,
            "object_fit": null,
            "object_position": null,
            "order": null,
            "overflow": null,
            "overflow_x": null,
            "overflow_y": null,
            "padding": null,
            "right": null,
            "top": null,
            "visibility": null,
            "width": null
          }
        },
        "7bec9baf5edb4c1da1aa65ed4980be33": {
          "model_module": "@jupyter-widgets/controls",
          "model_name": "ProgressStyleModel",
          "model_module_version": "1.5.0",
          "state": {
            "_model_module": "@jupyter-widgets/controls",
            "_model_module_version": "1.5.0",
            "_model_name": "ProgressStyleModel",
            "_view_count": null,
            "_view_module": "@jupyter-widgets/base",
            "_view_module_version": "1.2.0",
            "_view_name": "StyleView",
            "bar_color": null,
            "description_width": ""
          }
        },
        "7a38d3a29ce04dfaa7c01cbb3d08d178": {
          "model_module": "@jupyter-widgets/base",
          "model_name": "LayoutModel",
          "model_module_version": "1.2.0",
          "state": {
            "_model_module": "@jupyter-widgets/base",
            "_model_module_version": "1.2.0",
            "_model_name": "LayoutModel",
            "_view_count": null,
            "_view_module": "@jupyter-widgets/base",
            "_view_module_version": "1.2.0",
            "_view_name": "LayoutView",
            "align_content": null,
            "align_items": null,
            "align_self": null,
            "border": null,
            "bottom": null,
            "display": null,
            "flex": null,
            "flex_flow": null,
            "grid_area": null,
            "grid_auto_columns": null,
            "grid_auto_flow": null,
            "grid_auto_rows": null,
            "grid_column": null,
            "grid_gap": null,
            "grid_row": null,
            "grid_template_areas": null,
            "grid_template_columns": null,
            "grid_template_rows": null,
            "height": null,
            "justify_content": null,
            "justify_items": null,
            "left": null,
            "margin": null,
            "max_height": null,
            "max_width": null,
            "min_height": null,
            "min_width": null,
            "object_fit": null,
            "object_position": null,
            "order": null,
            "overflow": null,
            "overflow_x": null,
            "overflow_y": null,
            "padding": null,
            "right": null,
            "top": null,
            "visibility": null,
            "width": null
          }
        },
        "cfa7b456a9204787a6574f42ec9fe652": {
          "model_module": "@jupyter-widgets/controls",
          "model_name": "DescriptionStyleModel",
          "model_module_version": "1.5.0",
          "state": {
            "_model_module": "@jupyter-widgets/controls",
            "_model_module_version": "1.5.0",
            "_model_name": "DescriptionStyleModel",
            "_view_count": null,
            "_view_module": "@jupyter-widgets/base",
            "_view_module_version": "1.2.0",
            "_view_name": "StyleView",
            "description_width": ""
          }
        },
        "92c7fd22e2b944049e30ca2d34e0b486": {
          "model_module": "@jupyter-widgets/controls",
          "model_name": "HBoxModel",
          "model_module_version": "1.5.0",
          "state": {
            "_dom_classes": [],
            "_model_module": "@jupyter-widgets/controls",
            "_model_module_version": "1.5.0",
            "_model_name": "HBoxModel",
            "_view_count": null,
            "_view_module": "@jupyter-widgets/controls",
            "_view_module_version": "1.5.0",
            "_view_name": "HBoxView",
            "box_style": "",
            "children": [
              "IPY_MODEL_8b7335ddecdd4613bfdbd812ad7a25c4",
              "IPY_MODEL_a4eae77d7abe42aa900b2fd560bbe934",
              "IPY_MODEL_bfdde2a19622472cbd593011c0b6a431"
            ],
            "layout": "IPY_MODEL_8a480eaf893147fb9458160a3699510c"
          }
        },
        "8b7335ddecdd4613bfdbd812ad7a25c4": {
          "model_module": "@jupyter-widgets/controls",
          "model_name": "HTMLModel",
          "model_module_version": "1.5.0",
          "state": {
            "_dom_classes": [],
            "_model_module": "@jupyter-widgets/controls",
            "_model_module_version": "1.5.0",
            "_model_name": "HTMLModel",
            "_view_count": null,
            "_view_module": "@jupyter-widgets/controls",
            "_view_module_version": "1.5.0",
            "_view_name": "HTMLView",
            "description": "",
            "description_tooltip": null,
            "layout": "IPY_MODEL_5851767e50984874ae153fda22232eb7",
            "placeholder": "​",
            "style": "IPY_MODEL_414af97432154599b3c6290b1eda6579",
            "value": "Downloading (…)/main/tokenizer.json: 100%"
          }
        },
        "a4eae77d7abe42aa900b2fd560bbe934": {
          "model_module": "@jupyter-widgets/controls",
          "model_name": "FloatProgressModel",
          "model_module_version": "1.5.0",
          "state": {
            "_dom_classes": [],
            "_model_module": "@jupyter-widgets/controls",
            "_model_module_version": "1.5.0",
            "_model_name": "FloatProgressModel",
            "_view_count": null,
            "_view_module": "@jupyter-widgets/controls",
            "_view_module_version": "1.5.0",
            "_view_name": "ProgressView",
            "bar_style": "success",
            "description": "",
            "description_tooltip": null,
            "layout": "IPY_MODEL_3f10cdbc3b7d4236b4adf9de4839494b",
            "max": 1355863,
            "min": 0,
            "orientation": "horizontal",
            "style": "IPY_MODEL_27a24ca7c80b4e9b9090c2d747119e67",
            "value": 1355863
          }
        },
        "bfdde2a19622472cbd593011c0b6a431": {
          "model_module": "@jupyter-widgets/controls",
          "model_name": "HTMLModel",
          "model_module_version": "1.5.0",
          "state": {
            "_dom_classes": [],
            "_model_module": "@jupyter-widgets/controls",
            "_model_module_version": "1.5.0",
            "_model_name": "HTMLModel",
            "_view_count": null,
            "_view_module": "@jupyter-widgets/controls",
            "_view_module_version": "1.5.0",
            "_view_name": "HTMLView",
            "description": "",
            "description_tooltip": null,
            "layout": "IPY_MODEL_65845839722f45cba2f219c421532acf",
            "placeholder": "​",
            "style": "IPY_MODEL_4dc564993ddf4e95a744575d1305cf97",
            "value": " 1.36M/1.36M [00:00&lt;00:00, 2.17MB/s]"
          }
        },
        "8a480eaf893147fb9458160a3699510c": {
          "model_module": "@jupyter-widgets/base",
          "model_name": "LayoutModel",
          "model_module_version": "1.2.0",
          "state": {
            "_model_module": "@jupyter-widgets/base",
            "_model_module_version": "1.2.0",
            "_model_name": "LayoutModel",
            "_view_count": null,
            "_view_module": "@jupyter-widgets/base",
            "_view_module_version": "1.2.0",
            "_view_name": "LayoutView",
            "align_content": null,
            "align_items": null,
            "align_self": null,
            "border": null,
            "bottom": null,
            "display": null,
            "flex": null,
            "flex_flow": null,
            "grid_area": null,
            "grid_auto_columns": null,
            "grid_auto_flow": null,
            "grid_auto_rows": null,
            "grid_column": null,
            "grid_gap": null,
            "grid_row": null,
            "grid_template_areas": null,
            "grid_template_columns": null,
            "grid_template_rows": null,
            "height": null,
            "justify_content": null,
            "justify_items": null,
            "left": null,
            "margin": null,
            "max_height": null,
            "max_width": null,
            "min_height": null,
            "min_width": null,
            "object_fit": null,
            "object_position": null,
            "order": null,
            "overflow": null,
            "overflow_x": null,
            "overflow_y": null,
            "padding": null,
            "right": null,
            "top": null,
            "visibility": null,
            "width": null
          }
        },
        "5851767e50984874ae153fda22232eb7": {
          "model_module": "@jupyter-widgets/base",
          "model_name": "LayoutModel",
          "model_module_version": "1.2.0",
          "state": {
            "_model_module": "@jupyter-widgets/base",
            "_model_module_version": "1.2.0",
            "_model_name": "LayoutModel",
            "_view_count": null,
            "_view_module": "@jupyter-widgets/base",
            "_view_module_version": "1.2.0",
            "_view_name": "LayoutView",
            "align_content": null,
            "align_items": null,
            "align_self": null,
            "border": null,
            "bottom": null,
            "display": null,
            "flex": null,
            "flex_flow": null,
            "grid_area": null,
            "grid_auto_columns": null,
            "grid_auto_flow": null,
            "grid_auto_rows": null,
            "grid_column": null,
            "grid_gap": null,
            "grid_row": null,
            "grid_template_areas": null,
            "grid_template_columns": null,
            "grid_template_rows": null,
            "height": null,
            "justify_content": null,
            "justify_items": null,
            "left": null,
            "margin": null,
            "max_height": null,
            "max_width": null,
            "min_height": null,
            "min_width": null,
            "object_fit": null,
            "object_position": null,
            "order": null,
            "overflow": null,
            "overflow_x": null,
            "overflow_y": null,
            "padding": null,
            "right": null,
            "top": null,
            "visibility": null,
            "width": null
          }
        },
        "414af97432154599b3c6290b1eda6579": {
          "model_module": "@jupyter-widgets/controls",
          "model_name": "DescriptionStyleModel",
          "model_module_version": "1.5.0",
          "state": {
            "_model_module": "@jupyter-widgets/controls",
            "_model_module_version": "1.5.0",
            "_model_name": "DescriptionStyleModel",
            "_view_count": null,
            "_view_module": "@jupyter-widgets/base",
            "_view_module_version": "1.2.0",
            "_view_name": "StyleView",
            "description_width": ""
          }
        },
        "3f10cdbc3b7d4236b4adf9de4839494b": {
          "model_module": "@jupyter-widgets/base",
          "model_name": "LayoutModel",
          "model_module_version": "1.2.0",
          "state": {
            "_model_module": "@jupyter-widgets/base",
            "_model_module_version": "1.2.0",
            "_model_name": "LayoutModel",
            "_view_count": null,
            "_view_module": "@jupyter-widgets/base",
            "_view_module_version": "1.2.0",
            "_view_name": "LayoutView",
            "align_content": null,
            "align_items": null,
            "align_self": null,
            "border": null,
            "bottom": null,
            "display": null,
            "flex": null,
            "flex_flow": null,
            "grid_area": null,
            "grid_auto_columns": null,
            "grid_auto_flow": null,
            "grid_auto_rows": null,
            "grid_column": null,
            "grid_gap": null,
            "grid_row": null,
            "grid_template_areas": null,
            "grid_template_columns": null,
            "grid_template_rows": null,
            "height": null,
            "justify_content": null,
            "justify_items": null,
            "left": null,
            "margin": null,
            "max_height": null,
            "max_width": null,
            "min_height": null,
            "min_width": null,
            "object_fit": null,
            "object_position": null,
            "order": null,
            "overflow": null,
            "overflow_x": null,
            "overflow_y": null,
            "padding": null,
            "right": null,
            "top": null,
            "visibility": null,
            "width": null
          }
        },
        "27a24ca7c80b4e9b9090c2d747119e67": {
          "model_module": "@jupyter-widgets/controls",
          "model_name": "ProgressStyleModel",
          "model_module_version": "1.5.0",
          "state": {
            "_model_module": "@jupyter-widgets/controls",
            "_model_module_version": "1.5.0",
            "_model_name": "ProgressStyleModel",
            "_view_count": null,
            "_view_module": "@jupyter-widgets/base",
            "_view_module_version": "1.2.0",
            "_view_name": "StyleView",
            "bar_color": null,
            "description_width": ""
          }
        },
        "65845839722f45cba2f219c421532acf": {
          "model_module": "@jupyter-widgets/base",
          "model_name": "LayoutModel",
          "model_module_version": "1.2.0",
          "state": {
            "_model_module": "@jupyter-widgets/base",
            "_model_module_version": "1.2.0",
            "_model_name": "LayoutModel",
            "_view_count": null,
            "_view_module": "@jupyter-widgets/base",
            "_view_module_version": "1.2.0",
            "_view_name": "LayoutView",
            "align_content": null,
            "align_items": null,
            "align_self": null,
            "border": null,
            "bottom": null,
            "display": null,
            "flex": null,
            "flex_flow": null,
            "grid_area": null,
            "grid_auto_columns": null,
            "grid_auto_flow": null,
            "grid_auto_rows": null,
            "grid_column": null,
            "grid_gap": null,
            "grid_row": null,
            "grid_template_areas": null,
            "grid_template_columns": null,
            "grid_template_rows": null,
            "height": null,
            "justify_content": null,
            "justify_items": null,
            "left": null,
            "margin": null,
            "max_height": null,
            "max_width": null,
            "min_height": null,
            "min_width": null,
            "object_fit": null,
            "object_position": null,
            "order": null,
            "overflow": null,
            "overflow_x": null,
            "overflow_y": null,
            "padding": null,
            "right": null,
            "top": null,
            "visibility": null,
            "width": null
          }
        },
        "4dc564993ddf4e95a744575d1305cf97": {
          "model_module": "@jupyter-widgets/controls",
          "model_name": "DescriptionStyleModel",
          "model_module_version": "1.5.0",
          "state": {
            "_model_module": "@jupyter-widgets/controls",
            "_model_module_version": "1.5.0",
            "_model_name": "DescriptionStyleModel",
            "_view_count": null,
            "_view_module": "@jupyter-widgets/base",
            "_view_module_version": "1.2.0",
            "_view_name": "StyleView",
            "description_width": ""
          }
        },
        "7c284173e0654deeb3c786e5d970c15c": {
          "model_module": "@jupyter-widgets/controls",
          "model_name": "HBoxModel",
          "model_module_version": "1.5.0",
          "state": {
            "_dom_classes": [],
            "_model_module": "@jupyter-widgets/controls",
            "_model_module_version": "1.5.0",
            "_model_name": "HBoxModel",
            "_view_count": null,
            "_view_module": "@jupyter-widgets/controls",
            "_view_module_version": "1.5.0",
            "_view_name": "HBoxView",
            "box_style": "",
            "children": [
              "IPY_MODEL_9f7a3fd0f13a4c11b0f3e32e3b40c377",
              "IPY_MODEL_698308f5cfb84688acdd9970fcd8a498",
              "IPY_MODEL_baceebb9b800428dbcb82dfee22529bb"
            ],
            "layout": "IPY_MODEL_9d66730cc2e14624944f5c1701d696a3"
          }
        },
        "9f7a3fd0f13a4c11b0f3e32e3b40c377": {
          "model_module": "@jupyter-widgets/controls",
          "model_name": "HTMLModel",
          "model_module_version": "1.5.0",
          "state": {
            "_dom_classes": [],
            "_model_module": "@jupyter-widgets/controls",
            "_model_module_version": "1.5.0",
            "_model_name": "HTMLModel",
            "_view_count": null,
            "_view_module": "@jupyter-widgets/controls",
            "_view_module_version": "1.5.0",
            "_view_name": "HTMLView",
            "description": "",
            "description_tooltip": null,
            "layout": "IPY_MODEL_87949780507748aba452de753b57915f",
            "placeholder": "​",
            "style": "IPY_MODEL_09be6977fbb34c2e957c4c45c2d0878d",
            "value": "Downloading model.safetensors: 100%"
          }
        },
        "698308f5cfb84688acdd9970fcd8a498": {
          "model_module": "@jupyter-widgets/controls",
          "model_name": "FloatProgressModel",
          "model_module_version": "1.5.0",
          "state": {
            "_dom_classes": [],
            "_model_module": "@jupyter-widgets/controls",
            "_model_module_version": "1.5.0",
            "_model_name": "FloatProgressModel",
            "_view_count": null,
            "_view_module": "@jupyter-widgets/controls",
            "_view_module_version": "1.5.0",
            "_view_name": "ProgressView",
            "bar_style": "success",
            "description": "",
            "description_tooltip": null,
            "layout": "IPY_MODEL_76b8724c4dea488aab55701a560993ec",
            "max": 498818054,
            "min": 0,
            "orientation": "horizontal",
            "style": "IPY_MODEL_bc478a567b3f4059a8c7a07b04bbf73f",
            "value": 498818054
          }
        },
        "baceebb9b800428dbcb82dfee22529bb": {
          "model_module": "@jupyter-widgets/controls",
          "model_name": "HTMLModel",
          "model_module_version": "1.5.0",
          "state": {
            "_dom_classes": [],
            "_model_module": "@jupyter-widgets/controls",
            "_model_module_version": "1.5.0",
            "_model_name": "HTMLModel",
            "_view_count": null,
            "_view_module": "@jupyter-widgets/controls",
            "_view_module_version": "1.5.0",
            "_view_name": "HTMLView",
            "description": "",
            "description_tooltip": null,
            "layout": "IPY_MODEL_3858f326fabc4cb0b3328f4c6df14ba6",
            "placeholder": "​",
            "style": "IPY_MODEL_bba17f279fad450f91c22e01f53a4e19",
            "value": " 499M/499M [00:02&lt;00:00, 168MB/s]"
          }
        },
        "9d66730cc2e14624944f5c1701d696a3": {
          "model_module": "@jupyter-widgets/base",
          "model_name": "LayoutModel",
          "model_module_version": "1.2.0",
          "state": {
            "_model_module": "@jupyter-widgets/base",
            "_model_module_version": "1.2.0",
            "_model_name": "LayoutModel",
            "_view_count": null,
            "_view_module": "@jupyter-widgets/base",
            "_view_module_version": "1.2.0",
            "_view_name": "LayoutView",
            "align_content": null,
            "align_items": null,
            "align_self": null,
            "border": null,
            "bottom": null,
            "display": null,
            "flex": null,
            "flex_flow": null,
            "grid_area": null,
            "grid_auto_columns": null,
            "grid_auto_flow": null,
            "grid_auto_rows": null,
            "grid_column": null,
            "grid_gap": null,
            "grid_row": null,
            "grid_template_areas": null,
            "grid_template_columns": null,
            "grid_template_rows": null,
            "height": null,
            "justify_content": null,
            "justify_items": null,
            "left": null,
            "margin": null,
            "max_height": null,
            "max_width": null,
            "min_height": null,
            "min_width": null,
            "object_fit": null,
            "object_position": null,
            "order": null,
            "overflow": null,
            "overflow_x": null,
            "overflow_y": null,
            "padding": null,
            "right": null,
            "top": null,
            "visibility": null,
            "width": null
          }
        },
        "87949780507748aba452de753b57915f": {
          "model_module": "@jupyter-widgets/base",
          "model_name": "LayoutModel",
          "model_module_version": "1.2.0",
          "state": {
            "_model_module": "@jupyter-widgets/base",
            "_model_module_version": "1.2.0",
            "_model_name": "LayoutModel",
            "_view_count": null,
            "_view_module": "@jupyter-widgets/base",
            "_view_module_version": "1.2.0",
            "_view_name": "LayoutView",
            "align_content": null,
            "align_items": null,
            "align_self": null,
            "border": null,
            "bottom": null,
            "display": null,
            "flex": null,
            "flex_flow": null,
            "grid_area": null,
            "grid_auto_columns": null,
            "grid_auto_flow": null,
            "grid_auto_rows": null,
            "grid_column": null,
            "grid_gap": null,
            "grid_row": null,
            "grid_template_areas": null,
            "grid_template_columns": null,
            "grid_template_rows": null,
            "height": null,
            "justify_content": null,
            "justify_items": null,
            "left": null,
            "margin": null,
            "max_height": null,
            "max_width": null,
            "min_height": null,
            "min_width": null,
            "object_fit": null,
            "object_position": null,
            "order": null,
            "overflow": null,
            "overflow_x": null,
            "overflow_y": null,
            "padding": null,
            "right": null,
            "top": null,
            "visibility": null,
            "width": null
          }
        },
        "09be6977fbb34c2e957c4c45c2d0878d": {
          "model_module": "@jupyter-widgets/controls",
          "model_name": "DescriptionStyleModel",
          "model_module_version": "1.5.0",
          "state": {
            "_model_module": "@jupyter-widgets/controls",
            "_model_module_version": "1.5.0",
            "_model_name": "DescriptionStyleModel",
            "_view_count": null,
            "_view_module": "@jupyter-widgets/base",
            "_view_module_version": "1.2.0",
            "_view_name": "StyleView",
            "description_width": ""
          }
        },
        "76b8724c4dea488aab55701a560993ec": {
          "model_module": "@jupyter-widgets/base",
          "model_name": "LayoutModel",
          "model_module_version": "1.2.0",
          "state": {
            "_model_module": "@jupyter-widgets/base",
            "_model_module_version": "1.2.0",
            "_model_name": "LayoutModel",
            "_view_count": null,
            "_view_module": "@jupyter-widgets/base",
            "_view_module_version": "1.2.0",
            "_view_name": "LayoutView",
            "align_content": null,
            "align_items": null,
            "align_self": null,
            "border": null,
            "bottom": null,
            "display": null,
            "flex": null,
            "flex_flow": null,
            "grid_area": null,
            "grid_auto_columns": null,
            "grid_auto_flow": null,
            "grid_auto_rows": null,
            "grid_column": null,
            "grid_gap": null,
            "grid_row": null,
            "grid_template_areas": null,
            "grid_template_columns": null,
            "grid_template_rows": null,
            "height": null,
            "justify_content": null,
            "justify_items": null,
            "left": null,
            "margin": null,
            "max_height": null,
            "max_width": null,
            "min_height": null,
            "min_width": null,
            "object_fit": null,
            "object_position": null,
            "order": null,
            "overflow": null,
            "overflow_x": null,
            "overflow_y": null,
            "padding": null,
            "right": null,
            "top": null,
            "visibility": null,
            "width": null
          }
        },
        "bc478a567b3f4059a8c7a07b04bbf73f": {
          "model_module": "@jupyter-widgets/controls",
          "model_name": "ProgressStyleModel",
          "model_module_version": "1.5.0",
          "state": {
            "_model_module": "@jupyter-widgets/controls",
            "_model_module_version": "1.5.0",
            "_model_name": "ProgressStyleModel",
            "_view_count": null,
            "_view_module": "@jupyter-widgets/base",
            "_view_module_version": "1.2.0",
            "_view_name": "StyleView",
            "bar_color": null,
            "description_width": ""
          }
        },
        "3858f326fabc4cb0b3328f4c6df14ba6": {
          "model_module": "@jupyter-widgets/base",
          "model_name": "LayoutModel",
          "model_module_version": "1.2.0",
          "state": {
            "_model_module": "@jupyter-widgets/base",
            "_model_module_version": "1.2.0",
            "_model_name": "LayoutModel",
            "_view_count": null,
            "_view_module": "@jupyter-widgets/base",
            "_view_module_version": "1.2.0",
            "_view_name": "LayoutView",
            "align_content": null,
            "align_items": null,
            "align_self": null,
            "border": null,
            "bottom": null,
            "display": null,
            "flex": null,
            "flex_flow": null,
            "grid_area": null,
            "grid_auto_columns": null,
            "grid_auto_flow": null,
            "grid_auto_rows": null,
            "grid_column": null,
            "grid_gap": null,
            "grid_row": null,
            "grid_template_areas": null,
            "grid_template_columns": null,
            "grid_template_rows": null,
            "height": null,
            "justify_content": null,
            "justify_items": null,
            "left": null,
            "margin": null,
            "max_height": null,
            "max_width": null,
            "min_height": null,
            "min_width": null,
            "object_fit": null,
            "object_position": null,
            "order": null,
            "overflow": null,
            "overflow_x": null,
            "overflow_y": null,
            "padding": null,
            "right": null,
            "top": null,
            "visibility": null,
            "width": null
          }
        },
        "bba17f279fad450f91c22e01f53a4e19": {
          "model_module": "@jupyter-widgets/controls",
          "model_name": "DescriptionStyleModel",
          "model_module_version": "1.5.0",
          "state": {
            "_model_module": "@jupyter-widgets/controls",
            "_model_module_version": "1.5.0",
            "_model_name": "DescriptionStyleModel",
            "_view_count": null,
            "_view_module": "@jupyter-widgets/base",
            "_view_module_version": "1.2.0",
            "_view_name": "StyleView",
            "description_width": ""
          }
        },
        "7b9b60e9b2d94432a43a2ddf6c04f4c6": {
          "model_module": "@jupyter-widgets/controls",
          "model_name": "HBoxModel",
          "model_module_version": "1.5.0",
          "state": {
            "_dom_classes": [],
            "_model_module": "@jupyter-widgets/controls",
            "_model_module_version": "1.5.0",
            "_model_name": "HBoxModel",
            "_view_count": null,
            "_view_module": "@jupyter-widgets/controls",
            "_view_module_version": "1.5.0",
            "_view_name": "HBoxView",
            "box_style": "",
            "children": [
              "IPY_MODEL_1f9a413ebdb848e2bdd023c097ed92af",
              "IPY_MODEL_cedc90f5883e43e1b3ab02bb150df818",
              "IPY_MODEL_81c86c5a35654ea1879f4f9591fe03d7"
            ],
            "layout": "IPY_MODEL_563aebbc7a7140aea92a9e5effff065b"
          }
        },
        "1f9a413ebdb848e2bdd023c097ed92af": {
          "model_module": "@jupyter-widgets/controls",
          "model_name": "HTMLModel",
          "model_module_version": "1.5.0",
          "state": {
            "_dom_classes": [],
            "_model_module": "@jupyter-widgets/controls",
            "_model_module_version": "1.5.0",
            "_model_name": "HTMLModel",
            "_view_count": null,
            "_view_module": "@jupyter-widgets/controls",
            "_view_module_version": "1.5.0",
            "_view_name": "HTMLView",
            "description": "",
            "description_tooltip": null,
            "layout": "IPY_MODEL_43315194e1144ad2bfed61d349fec023",
            "placeholder": "​",
            "style": "IPY_MODEL_4d16b4749dda4d5a9b1a6f798dbdffdb",
            "value": "Downloading (…)okenizer_config.json: 100%"
          }
        },
        "cedc90f5883e43e1b3ab02bb150df818": {
          "model_module": "@jupyter-widgets/controls",
          "model_name": "FloatProgressModel",
          "model_module_version": "1.5.0",
          "state": {
            "_dom_classes": [],
            "_model_module": "@jupyter-widgets/controls",
            "_model_module_version": "1.5.0",
            "_model_name": "FloatProgressModel",
            "_view_count": null,
            "_view_module": "@jupyter-widgets/controls",
            "_view_module_version": "1.5.0",
            "_view_name": "ProgressView",
            "bar_style": "success",
            "description": "",
            "description_tooltip": null,
            "layout": "IPY_MODEL_d930594f1ab64c77b09ff5ab8bfa27c4",
            "max": 28,
            "min": 0,
            "orientation": "horizontal",
            "style": "IPY_MODEL_08bb1422d0e64fbda4a6337fe15cdb59",
            "value": 28
          }
        },
        "81c86c5a35654ea1879f4f9591fe03d7": {
          "model_module": "@jupyter-widgets/controls",
          "model_name": "HTMLModel",
          "model_module_version": "1.5.0",
          "state": {
            "_dom_classes": [],
            "_model_module": "@jupyter-widgets/controls",
            "_model_module_version": "1.5.0",
            "_model_name": "HTMLModel",
            "_view_count": null,
            "_view_module": "@jupyter-widgets/controls",
            "_view_module_version": "1.5.0",
            "_view_name": "HTMLView",
            "description": "",
            "description_tooltip": null,
            "layout": "IPY_MODEL_97b3f78d70704553b1e26f927ff6954c",
            "placeholder": "​",
            "style": "IPY_MODEL_23a285b7633049129c0b1bb7396b5004",
            "value": " 28.0/28.0 [00:00&lt;00:00, 2.28kB/s]"
          }
        },
        "563aebbc7a7140aea92a9e5effff065b": {
          "model_module": "@jupyter-widgets/base",
          "model_name": "LayoutModel",
          "model_module_version": "1.2.0",
          "state": {
            "_model_module": "@jupyter-widgets/base",
            "_model_module_version": "1.2.0",
            "_model_name": "LayoutModel",
            "_view_count": null,
            "_view_module": "@jupyter-widgets/base",
            "_view_module_version": "1.2.0",
            "_view_name": "LayoutView",
            "align_content": null,
            "align_items": null,
            "align_self": null,
            "border": null,
            "bottom": null,
            "display": null,
            "flex": null,
            "flex_flow": null,
            "grid_area": null,
            "grid_auto_columns": null,
            "grid_auto_flow": null,
            "grid_auto_rows": null,
            "grid_column": null,
            "grid_gap": null,
            "grid_row": null,
            "grid_template_areas": null,
            "grid_template_columns": null,
            "grid_template_rows": null,
            "height": null,
            "justify_content": null,
            "justify_items": null,
            "left": null,
            "margin": null,
            "max_height": null,
            "max_width": null,
            "min_height": null,
            "min_width": null,
            "object_fit": null,
            "object_position": null,
            "order": null,
            "overflow": null,
            "overflow_x": null,
            "overflow_y": null,
            "padding": null,
            "right": null,
            "top": null,
            "visibility": null,
            "width": null
          }
        },
        "43315194e1144ad2bfed61d349fec023": {
          "model_module": "@jupyter-widgets/base",
          "model_name": "LayoutModel",
          "model_module_version": "1.2.0",
          "state": {
            "_model_module": "@jupyter-widgets/base",
            "_model_module_version": "1.2.0",
            "_model_name": "LayoutModel",
            "_view_count": null,
            "_view_module": "@jupyter-widgets/base",
            "_view_module_version": "1.2.0",
            "_view_name": "LayoutView",
            "align_content": null,
            "align_items": null,
            "align_self": null,
            "border": null,
            "bottom": null,
            "display": null,
            "flex": null,
            "flex_flow": null,
            "grid_area": null,
            "grid_auto_columns": null,
            "grid_auto_flow": null,
            "grid_auto_rows": null,
            "grid_column": null,
            "grid_gap": null,
            "grid_row": null,
            "grid_template_areas": null,
            "grid_template_columns": null,
            "grid_template_rows": null,
            "height": null,
            "justify_content": null,
            "justify_items": null,
            "left": null,
            "margin": null,
            "max_height": null,
            "max_width": null,
            "min_height": null,
            "min_width": null,
            "object_fit": null,
            "object_position": null,
            "order": null,
            "overflow": null,
            "overflow_x": null,
            "overflow_y": null,
            "padding": null,
            "right": null,
            "top": null,
            "visibility": null,
            "width": null
          }
        },
        "4d16b4749dda4d5a9b1a6f798dbdffdb": {
          "model_module": "@jupyter-widgets/controls",
          "model_name": "DescriptionStyleModel",
          "model_module_version": "1.5.0",
          "state": {
            "_model_module": "@jupyter-widgets/controls",
            "_model_module_version": "1.5.0",
            "_model_name": "DescriptionStyleModel",
            "_view_count": null,
            "_view_module": "@jupyter-widgets/base",
            "_view_module_version": "1.2.0",
            "_view_name": "StyleView",
            "description_width": ""
          }
        },
        "d930594f1ab64c77b09ff5ab8bfa27c4": {
          "model_module": "@jupyter-widgets/base",
          "model_name": "LayoutModel",
          "model_module_version": "1.2.0",
          "state": {
            "_model_module": "@jupyter-widgets/base",
            "_model_module_version": "1.2.0",
            "_model_name": "LayoutModel",
            "_view_count": null,
            "_view_module": "@jupyter-widgets/base",
            "_view_module_version": "1.2.0",
            "_view_name": "LayoutView",
            "align_content": null,
            "align_items": null,
            "align_self": null,
            "border": null,
            "bottom": null,
            "display": null,
            "flex": null,
            "flex_flow": null,
            "grid_area": null,
            "grid_auto_columns": null,
            "grid_auto_flow": null,
            "grid_auto_rows": null,
            "grid_column": null,
            "grid_gap": null,
            "grid_row": null,
            "grid_template_areas": null,
            "grid_template_columns": null,
            "grid_template_rows": null,
            "height": null,
            "justify_content": null,
            "justify_items": null,
            "left": null,
            "margin": null,
            "max_height": null,
            "max_width": null,
            "min_height": null,
            "min_width": null,
            "object_fit": null,
            "object_position": null,
            "order": null,
            "overflow": null,
            "overflow_x": null,
            "overflow_y": null,
            "padding": null,
            "right": null,
            "top": null,
            "visibility": null,
            "width": null
          }
        },
        "08bb1422d0e64fbda4a6337fe15cdb59": {
          "model_module": "@jupyter-widgets/controls",
          "model_name": "ProgressStyleModel",
          "model_module_version": "1.5.0",
          "state": {
            "_model_module": "@jupyter-widgets/controls",
            "_model_module_version": "1.5.0",
            "_model_name": "ProgressStyleModel",
            "_view_count": null,
            "_view_module": "@jupyter-widgets/base",
            "_view_module_version": "1.2.0",
            "_view_name": "StyleView",
            "bar_color": null,
            "description_width": ""
          }
        },
        "97b3f78d70704553b1e26f927ff6954c": {
          "model_module": "@jupyter-widgets/base",
          "model_name": "LayoutModel",
          "model_module_version": "1.2.0",
          "state": {
            "_model_module": "@jupyter-widgets/base",
            "_model_module_version": "1.2.0",
            "_model_name": "LayoutModel",
            "_view_count": null,
            "_view_module": "@jupyter-widgets/base",
            "_view_module_version": "1.2.0",
            "_view_name": "LayoutView",
            "align_content": null,
            "align_items": null,
            "align_self": null,
            "border": null,
            "bottom": null,
            "display": null,
            "flex": null,
            "flex_flow": null,
            "grid_area": null,
            "grid_auto_columns": null,
            "grid_auto_flow": null,
            "grid_auto_rows": null,
            "grid_column": null,
            "grid_gap": null,
            "grid_row": null,
            "grid_template_areas": null,
            "grid_template_columns": null,
            "grid_template_rows": null,
            "height": null,
            "justify_content": null,
            "justify_items": null,
            "left": null,
            "margin": null,
            "max_height": null,
            "max_width": null,
            "min_height": null,
            "min_width": null,
            "object_fit": null,
            "object_position": null,
            "order": null,
            "overflow": null,
            "overflow_x": null,
            "overflow_y": null,
            "padding": null,
            "right": null,
            "top": null,
            "visibility": null,
            "width": null
          }
        },
        "23a285b7633049129c0b1bb7396b5004": {
          "model_module": "@jupyter-widgets/controls",
          "model_name": "DescriptionStyleModel",
          "model_module_version": "1.5.0",
          "state": {
            "_model_module": "@jupyter-widgets/controls",
            "_model_module_version": "1.5.0",
            "_model_name": "DescriptionStyleModel",
            "_view_count": null,
            "_view_module": "@jupyter-widgets/base",
            "_view_module_version": "1.2.0",
            "_view_name": "StyleView",
            "description_width": ""
          }
        },
        "dc1f1e7f5fc049a9a45a871ab18088b3": {
          "model_module": "@jupyter-widgets/controls",
          "model_name": "HBoxModel",
          "model_module_version": "1.5.0",
          "state": {
            "_dom_classes": [],
            "_model_module": "@jupyter-widgets/controls",
            "_model_module_version": "1.5.0",
            "_model_name": "HBoxModel",
            "_view_count": null,
            "_view_module": "@jupyter-widgets/controls",
            "_view_module_version": "1.5.0",
            "_view_name": "HBoxView",
            "box_style": "",
            "children": [
              "IPY_MODEL_e7b0970329484e18a543f844852c9275",
              "IPY_MODEL_09964487ff7842fa9d74373a008611a4",
              "IPY_MODEL_aee58ecaeaf2429f81d75e3c88da597f"
            ],
            "layout": "IPY_MODEL_6ace67d7efaa42b094c7f4245fd420a5"
          }
        },
        "e7b0970329484e18a543f844852c9275": {
          "model_module": "@jupyter-widgets/controls",
          "model_name": "HTMLModel",
          "model_module_version": "1.5.0",
          "state": {
            "_dom_classes": [],
            "_model_module": "@jupyter-widgets/controls",
            "_model_module_version": "1.5.0",
            "_model_name": "HTMLModel",
            "_view_count": null,
            "_view_module": "@jupyter-widgets/controls",
            "_view_module_version": "1.5.0",
            "_view_name": "HTMLView",
            "description": "",
            "description_tooltip": null,
            "layout": "IPY_MODEL_dadd72503fe748f5ba1db6403c0115f0",
            "placeholder": "​",
            "style": "IPY_MODEL_32534188606c4427824a946ea61dcb55",
            "value": "Downloading (…)lve/main/config.json: 100%"
          }
        },
        "09964487ff7842fa9d74373a008611a4": {
          "model_module": "@jupyter-widgets/controls",
          "model_name": "FloatProgressModel",
          "model_module_version": "1.5.0",
          "state": {
            "_dom_classes": [],
            "_model_module": "@jupyter-widgets/controls",
            "_model_module_version": "1.5.0",
            "_model_name": "FloatProgressModel",
            "_view_count": null,
            "_view_module": "@jupyter-widgets/controls",
            "_view_module_version": "1.5.0",
            "_view_name": "ProgressView",
            "bar_style": "success",
            "description": "",
            "description_tooltip": null,
            "layout": "IPY_MODEL_698d77123edc4ed3b6b744116e052452",
            "max": 570,
            "min": 0,
            "orientation": "horizontal",
            "style": "IPY_MODEL_3591ea3ec680496caecd983bb6dfb554",
            "value": 570
          }
        },
        "aee58ecaeaf2429f81d75e3c88da597f": {
          "model_module": "@jupyter-widgets/controls",
          "model_name": "HTMLModel",
          "model_module_version": "1.5.0",
          "state": {
            "_dom_classes": [],
            "_model_module": "@jupyter-widgets/controls",
            "_model_module_version": "1.5.0",
            "_model_name": "HTMLModel",
            "_view_count": null,
            "_view_module": "@jupyter-widgets/controls",
            "_view_module_version": "1.5.0",
            "_view_name": "HTMLView",
            "description": "",
            "description_tooltip": null,
            "layout": "IPY_MODEL_01552b5cdcdf4f08a1aafee2abc8668f",
            "placeholder": "​",
            "style": "IPY_MODEL_56a5df76ed1b4669a8dcd4caec9aa71a",
            "value": " 570/570 [00:00&lt;00:00, 44.6kB/s]"
          }
        },
        "6ace67d7efaa42b094c7f4245fd420a5": {
          "model_module": "@jupyter-widgets/base",
          "model_name": "LayoutModel",
          "model_module_version": "1.2.0",
          "state": {
            "_model_module": "@jupyter-widgets/base",
            "_model_module_version": "1.2.0",
            "_model_name": "LayoutModel",
            "_view_count": null,
            "_view_module": "@jupyter-widgets/base",
            "_view_module_version": "1.2.0",
            "_view_name": "LayoutView",
            "align_content": null,
            "align_items": null,
            "align_self": null,
            "border": null,
            "bottom": null,
            "display": null,
            "flex": null,
            "flex_flow": null,
            "grid_area": null,
            "grid_auto_columns": null,
            "grid_auto_flow": null,
            "grid_auto_rows": null,
            "grid_column": null,
            "grid_gap": null,
            "grid_row": null,
            "grid_template_areas": null,
            "grid_template_columns": null,
            "grid_template_rows": null,
            "height": null,
            "justify_content": null,
            "justify_items": null,
            "left": null,
            "margin": null,
            "max_height": null,
            "max_width": null,
            "min_height": null,
            "min_width": null,
            "object_fit": null,
            "object_position": null,
            "order": null,
            "overflow": null,
            "overflow_x": null,
            "overflow_y": null,
            "padding": null,
            "right": null,
            "top": null,
            "visibility": null,
            "width": null
          }
        },
        "dadd72503fe748f5ba1db6403c0115f0": {
          "model_module": "@jupyter-widgets/base",
          "model_name": "LayoutModel",
          "model_module_version": "1.2.0",
          "state": {
            "_model_module": "@jupyter-widgets/base",
            "_model_module_version": "1.2.0",
            "_model_name": "LayoutModel",
            "_view_count": null,
            "_view_module": "@jupyter-widgets/base",
            "_view_module_version": "1.2.0",
            "_view_name": "LayoutView",
            "align_content": null,
            "align_items": null,
            "align_self": null,
            "border": null,
            "bottom": null,
            "display": null,
            "flex": null,
            "flex_flow": null,
            "grid_area": null,
            "grid_auto_columns": null,
            "grid_auto_flow": null,
            "grid_auto_rows": null,
            "grid_column": null,
            "grid_gap": null,
            "grid_row": null,
            "grid_template_areas": null,
            "grid_template_columns": null,
            "grid_template_rows": null,
            "height": null,
            "justify_content": null,
            "justify_items": null,
            "left": null,
            "margin": null,
            "max_height": null,
            "max_width": null,
            "min_height": null,
            "min_width": null,
            "object_fit": null,
            "object_position": null,
            "order": null,
            "overflow": null,
            "overflow_x": null,
            "overflow_y": null,
            "padding": null,
            "right": null,
            "top": null,
            "visibility": null,
            "width": null
          }
        },
        "32534188606c4427824a946ea61dcb55": {
          "model_module": "@jupyter-widgets/controls",
          "model_name": "DescriptionStyleModel",
          "model_module_version": "1.5.0",
          "state": {
            "_model_module": "@jupyter-widgets/controls",
            "_model_module_version": "1.5.0",
            "_model_name": "DescriptionStyleModel",
            "_view_count": null,
            "_view_module": "@jupyter-widgets/base",
            "_view_module_version": "1.2.0",
            "_view_name": "StyleView",
            "description_width": ""
          }
        },
        "698d77123edc4ed3b6b744116e052452": {
          "model_module": "@jupyter-widgets/base",
          "model_name": "LayoutModel",
          "model_module_version": "1.2.0",
          "state": {
            "_model_module": "@jupyter-widgets/base",
            "_model_module_version": "1.2.0",
            "_model_name": "LayoutModel",
            "_view_count": null,
            "_view_module": "@jupyter-widgets/base",
            "_view_module_version": "1.2.0",
            "_view_name": "LayoutView",
            "align_content": null,
            "align_items": null,
            "align_self": null,
            "border": null,
            "bottom": null,
            "display": null,
            "flex": null,
            "flex_flow": null,
            "grid_area": null,
            "grid_auto_columns": null,
            "grid_auto_flow": null,
            "grid_auto_rows": null,
            "grid_column": null,
            "grid_gap": null,
            "grid_row": null,
            "grid_template_areas": null,
            "grid_template_columns": null,
            "grid_template_rows": null,
            "height": null,
            "justify_content": null,
            "justify_items": null,
            "left": null,
            "margin": null,
            "max_height": null,
            "max_width": null,
            "min_height": null,
            "min_width": null,
            "object_fit": null,
            "object_position": null,
            "order": null,
            "overflow": null,
            "overflow_x": null,
            "overflow_y": null,
            "padding": null,
            "right": null,
            "top": null,
            "visibility": null,
            "width": null
          }
        },
        "3591ea3ec680496caecd983bb6dfb554": {
          "model_module": "@jupyter-widgets/controls",
          "model_name": "ProgressStyleModel",
          "model_module_version": "1.5.0",
          "state": {
            "_model_module": "@jupyter-widgets/controls",
            "_model_module_version": "1.5.0",
            "_model_name": "ProgressStyleModel",
            "_view_count": null,
            "_view_module": "@jupyter-widgets/base",
            "_view_module_version": "1.2.0",
            "_view_name": "StyleView",
            "bar_color": null,
            "description_width": ""
          }
        },
        "01552b5cdcdf4f08a1aafee2abc8668f": {
          "model_module": "@jupyter-widgets/base",
          "model_name": "LayoutModel",
          "model_module_version": "1.2.0",
          "state": {
            "_model_module": "@jupyter-widgets/base",
            "_model_module_version": "1.2.0",
            "_model_name": "LayoutModel",
            "_view_count": null,
            "_view_module": "@jupyter-widgets/base",
            "_view_module_version": "1.2.0",
            "_view_name": "LayoutView",
            "align_content": null,
            "align_items": null,
            "align_self": null,
            "border": null,
            "bottom": null,
            "display": null,
            "flex": null,
            "flex_flow": null,
            "grid_area": null,
            "grid_auto_columns": null,
            "grid_auto_flow": null,
            "grid_auto_rows": null,
            "grid_column": null,
            "grid_gap": null,
            "grid_row": null,
            "grid_template_areas": null,
            "grid_template_columns": null,
            "grid_template_rows": null,
            "height": null,
            "justify_content": null,
            "justify_items": null,
            "left": null,
            "margin": null,
            "max_height": null,
            "max_width": null,
            "min_height": null,
            "min_width": null,
            "object_fit": null,
            "object_position": null,
            "order": null,
            "overflow": null,
            "overflow_x": null,
            "overflow_y": null,
            "padding": null,
            "right": null,
            "top": null,
            "visibility": null,
            "width": null
          }
        },
        "56a5df76ed1b4669a8dcd4caec9aa71a": {
          "model_module": "@jupyter-widgets/controls",
          "model_name": "DescriptionStyleModel",
          "model_module_version": "1.5.0",
          "state": {
            "_model_module": "@jupyter-widgets/controls",
            "_model_module_version": "1.5.0",
            "_model_name": "DescriptionStyleModel",
            "_view_count": null,
            "_view_module": "@jupyter-widgets/base",
            "_view_module_version": "1.2.0",
            "_view_name": "StyleView",
            "description_width": ""
          }
        },
        "fff56d19dad444aebefea60693de1597": {
          "model_module": "@jupyter-widgets/controls",
          "model_name": "HBoxModel",
          "model_module_version": "1.5.0",
          "state": {
            "_dom_classes": [],
            "_model_module": "@jupyter-widgets/controls",
            "_model_module_version": "1.5.0",
            "_model_name": "HBoxModel",
            "_view_count": null,
            "_view_module": "@jupyter-widgets/controls",
            "_view_module_version": "1.5.0",
            "_view_name": "HBoxView",
            "box_style": "",
            "children": [
              "IPY_MODEL_fdb24b90cc3f4c4394983694730920a7",
              "IPY_MODEL_795eb637322b4f14b1a28017dd2ce68e",
              "IPY_MODEL_a4fccb8487dd4f49851f042560670d93"
            ],
            "layout": "IPY_MODEL_c5ad940b434f4e0f9cc60582638c0be4"
          }
        },
        "fdb24b90cc3f4c4394983694730920a7": {
          "model_module": "@jupyter-widgets/controls",
          "model_name": "HTMLModel",
          "model_module_version": "1.5.0",
          "state": {
            "_dom_classes": [],
            "_model_module": "@jupyter-widgets/controls",
            "_model_module_version": "1.5.0",
            "_model_name": "HTMLModel",
            "_view_count": null,
            "_view_module": "@jupyter-widgets/controls",
            "_view_module_version": "1.5.0",
            "_view_name": "HTMLView",
            "description": "",
            "description_tooltip": null,
            "layout": "IPY_MODEL_84e3c7f512494250959841e1165866a4",
            "placeholder": "​",
            "style": "IPY_MODEL_2f7f5348b5ac4cda852e19143837a4f2",
            "value": "Downloading (…)solve/main/vocab.txt: 100%"
          }
        },
        "795eb637322b4f14b1a28017dd2ce68e": {
          "model_module": "@jupyter-widgets/controls",
          "model_name": "FloatProgressModel",
          "model_module_version": "1.5.0",
          "state": {
            "_dom_classes": [],
            "_model_module": "@jupyter-widgets/controls",
            "_model_module_version": "1.5.0",
            "_model_name": "FloatProgressModel",
            "_view_count": null,
            "_view_module": "@jupyter-widgets/controls",
            "_view_module_version": "1.5.0",
            "_view_name": "ProgressView",
            "bar_style": "success",
            "description": "",
            "description_tooltip": null,
            "layout": "IPY_MODEL_9d93ac3b96a847249a656bd05f419939",
            "max": 231508,
            "min": 0,
            "orientation": "horizontal",
            "style": "IPY_MODEL_09a2b5df3dff4a54b9097d44005bbc5b",
            "value": 231508
          }
        },
        "a4fccb8487dd4f49851f042560670d93": {
          "model_module": "@jupyter-widgets/controls",
          "model_name": "HTMLModel",
          "model_module_version": "1.5.0",
          "state": {
            "_dom_classes": [],
            "_model_module": "@jupyter-widgets/controls",
            "_model_module_version": "1.5.0",
            "_model_name": "HTMLModel",
            "_view_count": null,
            "_view_module": "@jupyter-widgets/controls",
            "_view_module_version": "1.5.0",
            "_view_name": "HTMLView",
            "description": "",
            "description_tooltip": null,
            "layout": "IPY_MODEL_18af8b0bc4fc4a8790bd7e2207447762",
            "placeholder": "​",
            "style": "IPY_MODEL_9b95828c5df545ebae8a3843fb4cdec1",
            "value": " 232k/232k [00:00&lt;00:00, 11.0MB/s]"
          }
        },
        "c5ad940b434f4e0f9cc60582638c0be4": {
          "model_module": "@jupyter-widgets/base",
          "model_name": "LayoutModel",
          "model_module_version": "1.2.0",
          "state": {
            "_model_module": "@jupyter-widgets/base",
            "_model_module_version": "1.2.0",
            "_model_name": "LayoutModel",
            "_view_count": null,
            "_view_module": "@jupyter-widgets/base",
            "_view_module_version": "1.2.0",
            "_view_name": "LayoutView",
            "align_content": null,
            "align_items": null,
            "align_self": null,
            "border": null,
            "bottom": null,
            "display": null,
            "flex": null,
            "flex_flow": null,
            "grid_area": null,
            "grid_auto_columns": null,
            "grid_auto_flow": null,
            "grid_auto_rows": null,
            "grid_column": null,
            "grid_gap": null,
            "grid_row": null,
            "grid_template_areas": null,
            "grid_template_columns": null,
            "grid_template_rows": null,
            "height": null,
            "justify_content": null,
            "justify_items": null,
            "left": null,
            "margin": null,
            "max_height": null,
            "max_width": null,
            "min_height": null,
            "min_width": null,
            "object_fit": null,
            "object_position": null,
            "order": null,
            "overflow": null,
            "overflow_x": null,
            "overflow_y": null,
            "padding": null,
            "right": null,
            "top": null,
            "visibility": null,
            "width": null
          }
        },
        "84e3c7f512494250959841e1165866a4": {
          "model_module": "@jupyter-widgets/base",
          "model_name": "LayoutModel",
          "model_module_version": "1.2.0",
          "state": {
            "_model_module": "@jupyter-widgets/base",
            "_model_module_version": "1.2.0",
            "_model_name": "LayoutModel",
            "_view_count": null,
            "_view_module": "@jupyter-widgets/base",
            "_view_module_version": "1.2.0",
            "_view_name": "LayoutView",
            "align_content": null,
            "align_items": null,
            "align_self": null,
            "border": null,
            "bottom": null,
            "display": null,
            "flex": null,
            "flex_flow": null,
            "grid_area": null,
            "grid_auto_columns": null,
            "grid_auto_flow": null,
            "grid_auto_rows": null,
            "grid_column": null,
            "grid_gap": null,
            "grid_row": null,
            "grid_template_areas": null,
            "grid_template_columns": null,
            "grid_template_rows": null,
            "height": null,
            "justify_content": null,
            "justify_items": null,
            "left": null,
            "margin": null,
            "max_height": null,
            "max_width": null,
            "min_height": null,
            "min_width": null,
            "object_fit": null,
            "object_position": null,
            "order": null,
            "overflow": null,
            "overflow_x": null,
            "overflow_y": null,
            "padding": null,
            "right": null,
            "top": null,
            "visibility": null,
            "width": null
          }
        },
        "2f7f5348b5ac4cda852e19143837a4f2": {
          "model_module": "@jupyter-widgets/controls",
          "model_name": "DescriptionStyleModel",
          "model_module_version": "1.5.0",
          "state": {
            "_model_module": "@jupyter-widgets/controls",
            "_model_module_version": "1.5.0",
            "_model_name": "DescriptionStyleModel",
            "_view_count": null,
            "_view_module": "@jupyter-widgets/base",
            "_view_module_version": "1.2.0",
            "_view_name": "StyleView",
            "description_width": ""
          }
        },
        "9d93ac3b96a847249a656bd05f419939": {
          "model_module": "@jupyter-widgets/base",
          "model_name": "LayoutModel",
          "model_module_version": "1.2.0",
          "state": {
            "_model_module": "@jupyter-widgets/base",
            "_model_module_version": "1.2.0",
            "_model_name": "LayoutModel",
            "_view_count": null,
            "_view_module": "@jupyter-widgets/base",
            "_view_module_version": "1.2.0",
            "_view_name": "LayoutView",
            "align_content": null,
            "align_items": null,
            "align_self": null,
            "border": null,
            "bottom": null,
            "display": null,
            "flex": null,
            "flex_flow": null,
            "grid_area": null,
            "grid_auto_columns": null,
            "grid_auto_flow": null,
            "grid_auto_rows": null,
            "grid_column": null,
            "grid_gap": null,
            "grid_row": null,
            "grid_template_areas": null,
            "grid_template_columns": null,
            "grid_template_rows": null,
            "height": null,
            "justify_content": null,
            "justify_items": null,
            "left": null,
            "margin": null,
            "max_height": null,
            "max_width": null,
            "min_height": null,
            "min_width": null,
            "object_fit": null,
            "object_position": null,
            "order": null,
            "overflow": null,
            "overflow_x": null,
            "overflow_y": null,
            "padding": null,
            "right": null,
            "top": null,
            "visibility": null,
            "width": null
          }
        },
        "09a2b5df3dff4a54b9097d44005bbc5b": {
          "model_module": "@jupyter-widgets/controls",
          "model_name": "ProgressStyleModel",
          "model_module_version": "1.5.0",
          "state": {
            "_model_module": "@jupyter-widgets/controls",
            "_model_module_version": "1.5.0",
            "_model_name": "ProgressStyleModel",
            "_view_count": null,
            "_view_module": "@jupyter-widgets/base",
            "_view_module_version": "1.2.0",
            "_view_name": "StyleView",
            "bar_color": null,
            "description_width": ""
          }
        },
        "18af8b0bc4fc4a8790bd7e2207447762": {
          "model_module": "@jupyter-widgets/base",
          "model_name": "LayoutModel",
          "model_module_version": "1.2.0",
          "state": {
            "_model_module": "@jupyter-widgets/base",
            "_model_module_version": "1.2.0",
            "_model_name": "LayoutModel",
            "_view_count": null,
            "_view_module": "@jupyter-widgets/base",
            "_view_module_version": "1.2.0",
            "_view_name": "LayoutView",
            "align_content": null,
            "align_items": null,
            "align_self": null,
            "border": null,
            "bottom": null,
            "display": null,
            "flex": null,
            "flex_flow": null,
            "grid_area": null,
            "grid_auto_columns": null,
            "grid_auto_flow": null,
            "grid_auto_rows": null,
            "grid_column": null,
            "grid_gap": null,
            "grid_row": null,
            "grid_template_areas": null,
            "grid_template_columns": null,
            "grid_template_rows": null,
            "height": null,
            "justify_content": null,
            "justify_items": null,
            "left": null,
            "margin": null,
            "max_height": null,
            "max_width": null,
            "min_height": null,
            "min_width": null,
            "object_fit": null,
            "object_position": null,
            "order": null,
            "overflow": null,
            "overflow_x": null,
            "overflow_y": null,
            "padding": null,
            "right": null,
            "top": null,
            "visibility": null,
            "width": null
          }
        },
        "9b95828c5df545ebae8a3843fb4cdec1": {
          "model_module": "@jupyter-widgets/controls",
          "model_name": "DescriptionStyleModel",
          "model_module_version": "1.5.0",
          "state": {
            "_model_module": "@jupyter-widgets/controls",
            "_model_module_version": "1.5.0",
            "_model_name": "DescriptionStyleModel",
            "_view_count": null,
            "_view_module": "@jupyter-widgets/base",
            "_view_module_version": "1.2.0",
            "_view_name": "StyleView",
            "description_width": ""
          }
        },
        "c0a5678f6b9249159c5681b9d6d1064f": {
          "model_module": "@jupyter-widgets/controls",
          "model_name": "HBoxModel",
          "model_module_version": "1.5.0",
          "state": {
            "_dom_classes": [],
            "_model_module": "@jupyter-widgets/controls",
            "_model_module_version": "1.5.0",
            "_model_name": "HBoxModel",
            "_view_count": null,
            "_view_module": "@jupyter-widgets/controls",
            "_view_module_version": "1.5.0",
            "_view_name": "HBoxView",
            "box_style": "",
            "children": [
              "IPY_MODEL_f33474b126c54eafba0aed53f81fec5f",
              "IPY_MODEL_92c109bff67d4532875d187c79f95f0a",
              "IPY_MODEL_14d975b40490493089535d003562eeeb"
            ],
            "layout": "IPY_MODEL_7487da4212af4854be767077eef0cec5"
          }
        },
        "f33474b126c54eafba0aed53f81fec5f": {
          "model_module": "@jupyter-widgets/controls",
          "model_name": "HTMLModel",
          "model_module_version": "1.5.0",
          "state": {
            "_dom_classes": [],
            "_model_module": "@jupyter-widgets/controls",
            "_model_module_version": "1.5.0",
            "_model_name": "HTMLModel",
            "_view_count": null,
            "_view_module": "@jupyter-widgets/controls",
            "_view_module_version": "1.5.0",
            "_view_name": "HTMLView",
            "description": "",
            "description_tooltip": null,
            "layout": "IPY_MODEL_436c3d8980d94906ac88b1c20cd6fc3f",
            "placeholder": "​",
            "style": "IPY_MODEL_1155d5c0d50d497299a1d3f83511147c",
            "value": "Downloading (…)/main/tokenizer.json: 100%"
          }
        },
        "92c109bff67d4532875d187c79f95f0a": {
          "model_module": "@jupyter-widgets/controls",
          "model_name": "FloatProgressModel",
          "model_module_version": "1.5.0",
          "state": {
            "_dom_classes": [],
            "_model_module": "@jupyter-widgets/controls",
            "_model_module_version": "1.5.0",
            "_model_name": "FloatProgressModel",
            "_view_count": null,
            "_view_module": "@jupyter-widgets/controls",
            "_view_module_version": "1.5.0",
            "_view_name": "ProgressView",
            "bar_style": "success",
            "description": "",
            "description_tooltip": null,
            "layout": "IPY_MODEL_9ee6dfd6c6fc450baa4e02cd9e17394b",
            "max": 466062,
            "min": 0,
            "orientation": "horizontal",
            "style": "IPY_MODEL_f5be1e38ef5f486ba069b5996cb0eef8",
            "value": 466062
          }
        },
        "14d975b40490493089535d003562eeeb": {
          "model_module": "@jupyter-widgets/controls",
          "model_name": "HTMLModel",
          "model_module_version": "1.5.0",
          "state": {
            "_dom_classes": [],
            "_model_module": "@jupyter-widgets/controls",
            "_model_module_version": "1.5.0",
            "_model_name": "HTMLModel",
            "_view_count": null,
            "_view_module": "@jupyter-widgets/controls",
            "_view_module_version": "1.5.0",
            "_view_name": "HTMLView",
            "description": "",
            "description_tooltip": null,
            "layout": "IPY_MODEL_06a35d394d154e548a3f69533ba44f79",
            "placeholder": "​",
            "style": "IPY_MODEL_1a9098ef604a48bda8b2f1fec2037de4",
            "value": " 466k/466k [00:00&lt;00:00, 739kB/s]"
          }
        },
        "7487da4212af4854be767077eef0cec5": {
          "model_module": "@jupyter-widgets/base",
          "model_name": "LayoutModel",
          "model_module_version": "1.2.0",
          "state": {
            "_model_module": "@jupyter-widgets/base",
            "_model_module_version": "1.2.0",
            "_model_name": "LayoutModel",
            "_view_count": null,
            "_view_module": "@jupyter-widgets/base",
            "_view_module_version": "1.2.0",
            "_view_name": "LayoutView",
            "align_content": null,
            "align_items": null,
            "align_self": null,
            "border": null,
            "bottom": null,
            "display": null,
            "flex": null,
            "flex_flow": null,
            "grid_area": null,
            "grid_auto_columns": null,
            "grid_auto_flow": null,
            "grid_auto_rows": null,
            "grid_column": null,
            "grid_gap": null,
            "grid_row": null,
            "grid_template_areas": null,
            "grid_template_columns": null,
            "grid_template_rows": null,
            "height": null,
            "justify_content": null,
            "justify_items": null,
            "left": null,
            "margin": null,
            "max_height": null,
            "max_width": null,
            "min_height": null,
            "min_width": null,
            "object_fit": null,
            "object_position": null,
            "order": null,
            "overflow": null,
            "overflow_x": null,
            "overflow_y": null,
            "padding": null,
            "right": null,
            "top": null,
            "visibility": null,
            "width": null
          }
        },
        "436c3d8980d94906ac88b1c20cd6fc3f": {
          "model_module": "@jupyter-widgets/base",
          "model_name": "LayoutModel",
          "model_module_version": "1.2.0",
          "state": {
            "_model_module": "@jupyter-widgets/base",
            "_model_module_version": "1.2.0",
            "_model_name": "LayoutModel",
            "_view_count": null,
            "_view_module": "@jupyter-widgets/base",
            "_view_module_version": "1.2.0",
            "_view_name": "LayoutView",
            "align_content": null,
            "align_items": null,
            "align_self": null,
            "border": null,
            "bottom": null,
            "display": null,
            "flex": null,
            "flex_flow": null,
            "grid_area": null,
            "grid_auto_columns": null,
            "grid_auto_flow": null,
            "grid_auto_rows": null,
            "grid_column": null,
            "grid_gap": null,
            "grid_row": null,
            "grid_template_areas": null,
            "grid_template_columns": null,
            "grid_template_rows": null,
            "height": null,
            "justify_content": null,
            "justify_items": null,
            "left": null,
            "margin": null,
            "max_height": null,
            "max_width": null,
            "min_height": null,
            "min_width": null,
            "object_fit": null,
            "object_position": null,
            "order": null,
            "overflow": null,
            "overflow_x": null,
            "overflow_y": null,
            "padding": null,
            "right": null,
            "top": null,
            "visibility": null,
            "width": null
          }
        },
        "1155d5c0d50d497299a1d3f83511147c": {
          "model_module": "@jupyter-widgets/controls",
          "model_name": "DescriptionStyleModel",
          "model_module_version": "1.5.0",
          "state": {
            "_model_module": "@jupyter-widgets/controls",
            "_model_module_version": "1.5.0",
            "_model_name": "DescriptionStyleModel",
            "_view_count": null,
            "_view_module": "@jupyter-widgets/base",
            "_view_module_version": "1.2.0",
            "_view_name": "StyleView",
            "description_width": ""
          }
        },
        "9ee6dfd6c6fc450baa4e02cd9e17394b": {
          "model_module": "@jupyter-widgets/base",
          "model_name": "LayoutModel",
          "model_module_version": "1.2.0",
          "state": {
            "_model_module": "@jupyter-widgets/base",
            "_model_module_version": "1.2.0",
            "_model_name": "LayoutModel",
            "_view_count": null,
            "_view_module": "@jupyter-widgets/base",
            "_view_module_version": "1.2.0",
            "_view_name": "LayoutView",
            "align_content": null,
            "align_items": null,
            "align_self": null,
            "border": null,
            "bottom": null,
            "display": null,
            "flex": null,
            "flex_flow": null,
            "grid_area": null,
            "grid_auto_columns": null,
            "grid_auto_flow": null,
            "grid_auto_rows": null,
            "grid_column": null,
            "grid_gap": null,
            "grid_row": null,
            "grid_template_areas": null,
            "grid_template_columns": null,
            "grid_template_rows": null,
            "height": null,
            "justify_content": null,
            "justify_items": null,
            "left": null,
            "margin": null,
            "max_height": null,
            "max_width": null,
            "min_height": null,
            "min_width": null,
            "object_fit": null,
            "object_position": null,
            "order": null,
            "overflow": null,
            "overflow_x": null,
            "overflow_y": null,
            "padding": null,
            "right": null,
            "top": null,
            "visibility": null,
            "width": null
          }
        },
        "f5be1e38ef5f486ba069b5996cb0eef8": {
          "model_module": "@jupyter-widgets/controls",
          "model_name": "ProgressStyleModel",
          "model_module_version": "1.5.0",
          "state": {
            "_model_module": "@jupyter-widgets/controls",
            "_model_module_version": "1.5.0",
            "_model_name": "ProgressStyleModel",
            "_view_count": null,
            "_view_module": "@jupyter-widgets/base",
            "_view_module_version": "1.2.0",
            "_view_name": "StyleView",
            "bar_color": null,
            "description_width": ""
          }
        },
        "06a35d394d154e548a3f69533ba44f79": {
          "model_module": "@jupyter-widgets/base",
          "model_name": "LayoutModel",
          "model_module_version": "1.2.0",
          "state": {
            "_model_module": "@jupyter-widgets/base",
            "_model_module_version": "1.2.0",
            "_model_name": "LayoutModel",
            "_view_count": null,
            "_view_module": "@jupyter-widgets/base",
            "_view_module_version": "1.2.0",
            "_view_name": "LayoutView",
            "align_content": null,
            "align_items": null,
            "align_self": null,
            "border": null,
            "bottom": null,
            "display": null,
            "flex": null,
            "flex_flow": null,
            "grid_area": null,
            "grid_auto_columns": null,
            "grid_auto_flow": null,
            "grid_auto_rows": null,
            "grid_column": null,
            "grid_gap": null,
            "grid_row": null,
            "grid_template_areas": null,
            "grid_template_columns": null,
            "grid_template_rows": null,
            "height": null,
            "justify_content": null,
            "justify_items": null,
            "left": null,
            "margin": null,
            "max_height": null,
            "max_width": null,
            "min_height": null,
            "min_width": null,
            "object_fit": null,
            "object_position": null,
            "order": null,
            "overflow": null,
            "overflow_x": null,
            "overflow_y": null,
            "padding": null,
            "right": null,
            "top": null,
            "visibility": null,
            "width": null
          }
        },
        "1a9098ef604a48bda8b2f1fec2037de4": {
          "model_module": "@jupyter-widgets/controls",
          "model_name": "DescriptionStyleModel",
          "model_module_version": "1.5.0",
          "state": {
            "_model_module": "@jupyter-widgets/controls",
            "_model_module_version": "1.5.0",
            "_model_name": "DescriptionStyleModel",
            "_view_count": null,
            "_view_module": "@jupyter-widgets/base",
            "_view_module_version": "1.2.0",
            "_view_name": "StyleView",
            "description_width": ""
          }
        },
        "def9eed8c3a746c999c6fc6f440bb24d": {
          "model_module": "@jupyter-widgets/controls",
          "model_name": "HBoxModel",
          "model_module_version": "1.5.0",
          "state": {
            "_dom_classes": [],
            "_model_module": "@jupyter-widgets/controls",
            "_model_module_version": "1.5.0",
            "_model_name": "HBoxModel",
            "_view_count": null,
            "_view_module": "@jupyter-widgets/controls",
            "_view_module_version": "1.5.0",
            "_view_name": "HBoxView",
            "box_style": "",
            "children": [
              "IPY_MODEL_96ce918bcbdb46d99343bf430251eb1e",
              "IPY_MODEL_684b587e1fd442b2b4fbbdec75afffa5",
              "IPY_MODEL_b2112c376b05465e96cf4cd55e571865"
            ],
            "layout": "IPY_MODEL_7009e2043eab493ebcde983246c8b849"
          }
        },
        "96ce918bcbdb46d99343bf430251eb1e": {
          "model_module": "@jupyter-widgets/controls",
          "model_name": "HTMLModel",
          "model_module_version": "1.5.0",
          "state": {
            "_dom_classes": [],
            "_model_module": "@jupyter-widgets/controls",
            "_model_module_version": "1.5.0",
            "_model_name": "HTMLModel",
            "_view_count": null,
            "_view_module": "@jupyter-widgets/controls",
            "_view_module_version": "1.5.0",
            "_view_name": "HTMLView",
            "description": "",
            "description_tooltip": null,
            "layout": "IPY_MODEL_5470641acc3747a9bf463c6436d244e5",
            "placeholder": "​",
            "style": "IPY_MODEL_3e67897c4539416ead9954e1f12d3480",
            "value": "Downloading model.safetensors: 100%"
          }
        },
        "684b587e1fd442b2b4fbbdec75afffa5": {
          "model_module": "@jupyter-widgets/controls",
          "model_name": "FloatProgressModel",
          "model_module_version": "1.5.0",
          "state": {
            "_dom_classes": [],
            "_model_module": "@jupyter-widgets/controls",
            "_model_module_version": "1.5.0",
            "_model_name": "FloatProgressModel",
            "_view_count": null,
            "_view_module": "@jupyter-widgets/controls",
            "_view_module_version": "1.5.0",
            "_view_name": "ProgressView",
            "bar_style": "success",
            "description": "",
            "description_tooltip": null,
            "layout": "IPY_MODEL_bdcddd114e314833823385c33c8b751d",
            "max": 440449768,
            "min": 0,
            "orientation": "horizontal",
            "style": "IPY_MODEL_9a35705caba24e82895ee47a09c44d97",
            "value": 440449768
          }
        },
        "b2112c376b05465e96cf4cd55e571865": {
          "model_module": "@jupyter-widgets/controls",
          "model_name": "HTMLModel",
          "model_module_version": "1.5.0",
          "state": {
            "_dom_classes": [],
            "_model_module": "@jupyter-widgets/controls",
            "_model_module_version": "1.5.0",
            "_model_name": "HTMLModel",
            "_view_count": null,
            "_view_module": "@jupyter-widgets/controls",
            "_view_module_version": "1.5.0",
            "_view_name": "HTMLView",
            "description": "",
            "description_tooltip": null,
            "layout": "IPY_MODEL_fe4065734a33471680d7dd3c61c58ceb",
            "placeholder": "​",
            "style": "IPY_MODEL_f8c8faf52c3448d9afb9e5adc375a1e7",
            "value": " 440M/440M [00:01&lt;00:00, 251MB/s]"
          }
        },
        "7009e2043eab493ebcde983246c8b849": {
          "model_module": "@jupyter-widgets/base",
          "model_name": "LayoutModel",
          "model_module_version": "1.2.0",
          "state": {
            "_model_module": "@jupyter-widgets/base",
            "_model_module_version": "1.2.0",
            "_model_name": "LayoutModel",
            "_view_count": null,
            "_view_module": "@jupyter-widgets/base",
            "_view_module_version": "1.2.0",
            "_view_name": "LayoutView",
            "align_content": null,
            "align_items": null,
            "align_self": null,
            "border": null,
            "bottom": null,
            "display": null,
            "flex": null,
            "flex_flow": null,
            "grid_area": null,
            "grid_auto_columns": null,
            "grid_auto_flow": null,
            "grid_auto_rows": null,
            "grid_column": null,
            "grid_gap": null,
            "grid_row": null,
            "grid_template_areas": null,
            "grid_template_columns": null,
            "grid_template_rows": null,
            "height": null,
            "justify_content": null,
            "justify_items": null,
            "left": null,
            "margin": null,
            "max_height": null,
            "max_width": null,
            "min_height": null,
            "min_width": null,
            "object_fit": null,
            "object_position": null,
            "order": null,
            "overflow": null,
            "overflow_x": null,
            "overflow_y": null,
            "padding": null,
            "right": null,
            "top": null,
            "visibility": null,
            "width": null
          }
        },
        "5470641acc3747a9bf463c6436d244e5": {
          "model_module": "@jupyter-widgets/base",
          "model_name": "LayoutModel",
          "model_module_version": "1.2.0",
          "state": {
            "_model_module": "@jupyter-widgets/base",
            "_model_module_version": "1.2.0",
            "_model_name": "LayoutModel",
            "_view_count": null,
            "_view_module": "@jupyter-widgets/base",
            "_view_module_version": "1.2.0",
            "_view_name": "LayoutView",
            "align_content": null,
            "align_items": null,
            "align_self": null,
            "border": null,
            "bottom": null,
            "display": null,
            "flex": null,
            "flex_flow": null,
            "grid_area": null,
            "grid_auto_columns": null,
            "grid_auto_flow": null,
            "grid_auto_rows": null,
            "grid_column": null,
            "grid_gap": null,
            "grid_row": null,
            "grid_template_areas": null,
            "grid_template_columns": null,
            "grid_template_rows": null,
            "height": null,
            "justify_content": null,
            "justify_items": null,
            "left": null,
            "margin": null,
            "max_height": null,
            "max_width": null,
            "min_height": null,
            "min_width": null,
            "object_fit": null,
            "object_position": null,
            "order": null,
            "overflow": null,
            "overflow_x": null,
            "overflow_y": null,
            "padding": null,
            "right": null,
            "top": null,
            "visibility": null,
            "width": null
          }
        },
        "3e67897c4539416ead9954e1f12d3480": {
          "model_module": "@jupyter-widgets/controls",
          "model_name": "DescriptionStyleModel",
          "model_module_version": "1.5.0",
          "state": {
            "_model_module": "@jupyter-widgets/controls",
            "_model_module_version": "1.5.0",
            "_model_name": "DescriptionStyleModel",
            "_view_count": null,
            "_view_module": "@jupyter-widgets/base",
            "_view_module_version": "1.2.0",
            "_view_name": "StyleView",
            "description_width": ""
          }
        },
        "bdcddd114e314833823385c33c8b751d": {
          "model_module": "@jupyter-widgets/base",
          "model_name": "LayoutModel",
          "model_module_version": "1.2.0",
          "state": {
            "_model_module": "@jupyter-widgets/base",
            "_model_module_version": "1.2.0",
            "_model_name": "LayoutModel",
            "_view_count": null,
            "_view_module": "@jupyter-widgets/base",
            "_view_module_version": "1.2.0",
            "_view_name": "LayoutView",
            "align_content": null,
            "align_items": null,
            "align_self": null,
            "border": null,
            "bottom": null,
            "display": null,
            "flex": null,
            "flex_flow": null,
            "grid_area": null,
            "grid_auto_columns": null,
            "grid_auto_flow": null,
            "grid_auto_rows": null,
            "grid_column": null,
            "grid_gap": null,
            "grid_row": null,
            "grid_template_areas": null,
            "grid_template_columns": null,
            "grid_template_rows": null,
            "height": null,
            "justify_content": null,
            "justify_items": null,
            "left": null,
            "margin": null,
            "max_height": null,
            "max_width": null,
            "min_height": null,
            "min_width": null,
            "object_fit": null,
            "object_position": null,
            "order": null,
            "overflow": null,
            "overflow_x": null,
            "overflow_y": null,
            "padding": null,
            "right": null,
            "top": null,
            "visibility": null,
            "width": null
          }
        },
        "9a35705caba24e82895ee47a09c44d97": {
          "model_module": "@jupyter-widgets/controls",
          "model_name": "ProgressStyleModel",
          "model_module_version": "1.5.0",
          "state": {
            "_model_module": "@jupyter-widgets/controls",
            "_model_module_version": "1.5.0",
            "_model_name": "ProgressStyleModel",
            "_view_count": null,
            "_view_module": "@jupyter-widgets/base",
            "_view_module_version": "1.2.0",
            "_view_name": "StyleView",
            "bar_color": null,
            "description_width": ""
          }
        },
        "fe4065734a33471680d7dd3c61c58ceb": {
          "model_module": "@jupyter-widgets/base",
          "model_name": "LayoutModel",
          "model_module_version": "1.2.0",
          "state": {
            "_model_module": "@jupyter-widgets/base",
            "_model_module_version": "1.2.0",
            "_model_name": "LayoutModel",
            "_view_count": null,
            "_view_module": "@jupyter-widgets/base",
            "_view_module_version": "1.2.0",
            "_view_name": "LayoutView",
            "align_content": null,
            "align_items": null,
            "align_self": null,
            "border": null,
            "bottom": null,
            "display": null,
            "flex": null,
            "flex_flow": null,
            "grid_area": null,
            "grid_auto_columns": null,
            "grid_auto_flow": null,
            "grid_auto_rows": null,
            "grid_column": null,
            "grid_gap": null,
            "grid_row": null,
            "grid_template_areas": null,
            "grid_template_columns": null,
            "grid_template_rows": null,
            "height": null,
            "justify_content": null,
            "justify_items": null,
            "left": null,
            "margin": null,
            "max_height": null,
            "max_width": null,
            "min_height": null,
            "min_width": null,
            "object_fit": null,
            "object_position": null,
            "order": null,
            "overflow": null,
            "overflow_x": null,
            "overflow_y": null,
            "padding": null,
            "right": null,
            "top": null,
            "visibility": null,
            "width": null
          }
        },
        "f8c8faf52c3448d9afb9e5adc375a1e7": {
          "model_module": "@jupyter-widgets/controls",
          "model_name": "DescriptionStyleModel",
          "model_module_version": "1.5.0",
          "state": {
            "_model_module": "@jupyter-widgets/controls",
            "_model_module_version": "1.5.0",
            "_model_name": "DescriptionStyleModel",
            "_view_count": null,
            "_view_module": "@jupyter-widgets/base",
            "_view_module_version": "1.2.0",
            "_view_name": "StyleView",
            "description_width": ""
          }
        },
        "9a881f8ddb2a4d82bd9a5c992923cb04": {
          "model_module": "@jupyter-widgets/controls",
          "model_name": "HBoxModel",
          "model_module_version": "1.5.0",
          "state": {
            "_dom_classes": [],
            "_model_module": "@jupyter-widgets/controls",
            "_model_module_version": "1.5.0",
            "_model_name": "HBoxModel",
            "_view_count": null,
            "_view_module": "@jupyter-widgets/controls",
            "_view_module_version": "1.5.0",
            "_view_name": "HBoxView",
            "box_style": "",
            "children": [
              "IPY_MODEL_6bb8974887b84211956d08c0d404d8e0",
              "IPY_MODEL_7fbe54aa90dc481ab964b4be36c56fd1",
              "IPY_MODEL_74fdc2b6e22f4f48b4e4b8c7faf39b6b"
            ],
            "layout": "IPY_MODEL_f1ed2de55e6e4a678cceffb7f6841ca2"
          }
        },
        "6bb8974887b84211956d08c0d404d8e0": {
          "model_module": "@jupyter-widgets/controls",
          "model_name": "HTMLModel",
          "model_module_version": "1.5.0",
          "state": {
            "_dom_classes": [],
            "_model_module": "@jupyter-widgets/controls",
            "_model_module_version": "1.5.0",
            "_model_name": "HTMLModel",
            "_view_count": null,
            "_view_module": "@jupyter-widgets/controls",
            "_view_module_version": "1.5.0",
            "_view_name": "HTMLView",
            "description": "",
            "description_tooltip": null,
            "layout": "IPY_MODEL_428dfbce1f774c62a9e7d8d56352df28",
            "placeholder": "​",
            "style": "IPY_MODEL_1c951294922b491590dd8254deb0104c",
            "value": "Downloading (…)okenizer_config.json: 100%"
          }
        },
        "7fbe54aa90dc481ab964b4be36c56fd1": {
          "model_module": "@jupyter-widgets/controls",
          "model_name": "FloatProgressModel",
          "model_module_version": "1.5.0",
          "state": {
            "_dom_classes": [],
            "_model_module": "@jupyter-widgets/controls",
            "_model_module_version": "1.5.0",
            "_model_name": "FloatProgressModel",
            "_view_count": null,
            "_view_module": "@jupyter-widgets/controls",
            "_view_module_version": "1.5.0",
            "_view_name": "ProgressView",
            "bar_style": "success",
            "description": "",
            "description_tooltip": null,
            "layout": "IPY_MODEL_40435845c682440c837b6c6eb17bbd6b",
            "max": 28,
            "min": 0,
            "orientation": "horizontal",
            "style": "IPY_MODEL_7df0e3d2e93b4bec859205f3df0c3d9d",
            "value": 28
          }
        },
        "74fdc2b6e22f4f48b4e4b8c7faf39b6b": {
          "model_module": "@jupyter-widgets/controls",
          "model_name": "HTMLModel",
          "model_module_version": "1.5.0",
          "state": {
            "_dom_classes": [],
            "_model_module": "@jupyter-widgets/controls",
            "_model_module_version": "1.5.0",
            "_model_name": "HTMLModel",
            "_view_count": null,
            "_view_module": "@jupyter-widgets/controls",
            "_view_module_version": "1.5.0",
            "_view_name": "HTMLView",
            "description": "",
            "description_tooltip": null,
            "layout": "IPY_MODEL_a360ea9f770a4a42aa0ff56cf87f68df",
            "placeholder": "​",
            "style": "IPY_MODEL_bf8bd0b015dd40ed8ac0ef7b8451afb1",
            "value": " 28.0/28.0 [00:00&lt;00:00, 2.11kB/s]"
          }
        },
        "f1ed2de55e6e4a678cceffb7f6841ca2": {
          "model_module": "@jupyter-widgets/base",
          "model_name": "LayoutModel",
          "model_module_version": "1.2.0",
          "state": {
            "_model_module": "@jupyter-widgets/base",
            "_model_module_version": "1.2.0",
            "_model_name": "LayoutModel",
            "_view_count": null,
            "_view_module": "@jupyter-widgets/base",
            "_view_module_version": "1.2.0",
            "_view_name": "LayoutView",
            "align_content": null,
            "align_items": null,
            "align_self": null,
            "border": null,
            "bottom": null,
            "display": null,
            "flex": null,
            "flex_flow": null,
            "grid_area": null,
            "grid_auto_columns": null,
            "grid_auto_flow": null,
            "grid_auto_rows": null,
            "grid_column": null,
            "grid_gap": null,
            "grid_row": null,
            "grid_template_areas": null,
            "grid_template_columns": null,
            "grid_template_rows": null,
            "height": null,
            "justify_content": null,
            "justify_items": null,
            "left": null,
            "margin": null,
            "max_height": null,
            "max_width": null,
            "min_height": null,
            "min_width": null,
            "object_fit": null,
            "object_position": null,
            "order": null,
            "overflow": null,
            "overflow_x": null,
            "overflow_y": null,
            "padding": null,
            "right": null,
            "top": null,
            "visibility": null,
            "width": null
          }
        },
        "428dfbce1f774c62a9e7d8d56352df28": {
          "model_module": "@jupyter-widgets/base",
          "model_name": "LayoutModel",
          "model_module_version": "1.2.0",
          "state": {
            "_model_module": "@jupyter-widgets/base",
            "_model_module_version": "1.2.0",
            "_model_name": "LayoutModel",
            "_view_count": null,
            "_view_module": "@jupyter-widgets/base",
            "_view_module_version": "1.2.0",
            "_view_name": "LayoutView",
            "align_content": null,
            "align_items": null,
            "align_self": null,
            "border": null,
            "bottom": null,
            "display": null,
            "flex": null,
            "flex_flow": null,
            "grid_area": null,
            "grid_auto_columns": null,
            "grid_auto_flow": null,
            "grid_auto_rows": null,
            "grid_column": null,
            "grid_gap": null,
            "grid_row": null,
            "grid_template_areas": null,
            "grid_template_columns": null,
            "grid_template_rows": null,
            "height": null,
            "justify_content": null,
            "justify_items": null,
            "left": null,
            "margin": null,
            "max_height": null,
            "max_width": null,
            "min_height": null,
            "min_width": null,
            "object_fit": null,
            "object_position": null,
            "order": null,
            "overflow": null,
            "overflow_x": null,
            "overflow_y": null,
            "padding": null,
            "right": null,
            "top": null,
            "visibility": null,
            "width": null
          }
        },
        "1c951294922b491590dd8254deb0104c": {
          "model_module": "@jupyter-widgets/controls",
          "model_name": "DescriptionStyleModel",
          "model_module_version": "1.5.0",
          "state": {
            "_model_module": "@jupyter-widgets/controls",
            "_model_module_version": "1.5.0",
            "_model_name": "DescriptionStyleModel",
            "_view_count": null,
            "_view_module": "@jupyter-widgets/base",
            "_view_module_version": "1.2.0",
            "_view_name": "StyleView",
            "description_width": ""
          }
        },
        "40435845c682440c837b6c6eb17bbd6b": {
          "model_module": "@jupyter-widgets/base",
          "model_name": "LayoutModel",
          "model_module_version": "1.2.0",
          "state": {
            "_model_module": "@jupyter-widgets/base",
            "_model_module_version": "1.2.0",
            "_model_name": "LayoutModel",
            "_view_count": null,
            "_view_module": "@jupyter-widgets/base",
            "_view_module_version": "1.2.0",
            "_view_name": "LayoutView",
            "align_content": null,
            "align_items": null,
            "align_self": null,
            "border": null,
            "bottom": null,
            "display": null,
            "flex": null,
            "flex_flow": null,
            "grid_area": null,
            "grid_auto_columns": null,
            "grid_auto_flow": null,
            "grid_auto_rows": null,
            "grid_column": null,
            "grid_gap": null,
            "grid_row": null,
            "grid_template_areas": null,
            "grid_template_columns": null,
            "grid_template_rows": null,
            "height": null,
            "justify_content": null,
            "justify_items": null,
            "left": null,
            "margin": null,
            "max_height": null,
            "max_width": null,
            "min_height": null,
            "min_width": null,
            "object_fit": null,
            "object_position": null,
            "order": null,
            "overflow": null,
            "overflow_x": null,
            "overflow_y": null,
            "padding": null,
            "right": null,
            "top": null,
            "visibility": null,
            "width": null
          }
        },
        "7df0e3d2e93b4bec859205f3df0c3d9d": {
          "model_module": "@jupyter-widgets/controls",
          "model_name": "ProgressStyleModel",
          "model_module_version": "1.5.0",
          "state": {
            "_model_module": "@jupyter-widgets/controls",
            "_model_module_version": "1.5.0",
            "_model_name": "ProgressStyleModel",
            "_view_count": null,
            "_view_module": "@jupyter-widgets/base",
            "_view_module_version": "1.2.0",
            "_view_name": "StyleView",
            "bar_color": null,
            "description_width": ""
          }
        },
        "a360ea9f770a4a42aa0ff56cf87f68df": {
          "model_module": "@jupyter-widgets/base",
          "model_name": "LayoutModel",
          "model_module_version": "1.2.0",
          "state": {
            "_model_module": "@jupyter-widgets/base",
            "_model_module_version": "1.2.0",
            "_model_name": "LayoutModel",
            "_view_count": null,
            "_view_module": "@jupyter-widgets/base",
            "_view_module_version": "1.2.0",
            "_view_name": "LayoutView",
            "align_content": null,
            "align_items": null,
            "align_self": null,
            "border": null,
            "bottom": null,
            "display": null,
            "flex": null,
            "flex_flow": null,
            "grid_area": null,
            "grid_auto_columns": null,
            "grid_auto_flow": null,
            "grid_auto_rows": null,
            "grid_column": null,
            "grid_gap": null,
            "grid_row": null,
            "grid_template_areas": null,
            "grid_template_columns": null,
            "grid_template_rows": null,
            "height": null,
            "justify_content": null,
            "justify_items": null,
            "left": null,
            "margin": null,
            "max_height": null,
            "max_width": null,
            "min_height": null,
            "min_width": null,
            "object_fit": null,
            "object_position": null,
            "order": null,
            "overflow": null,
            "overflow_x": null,
            "overflow_y": null,
            "padding": null,
            "right": null,
            "top": null,
            "visibility": null,
            "width": null
          }
        },
        "bf8bd0b015dd40ed8ac0ef7b8451afb1": {
          "model_module": "@jupyter-widgets/controls",
          "model_name": "DescriptionStyleModel",
          "model_module_version": "1.5.0",
          "state": {
            "_model_module": "@jupyter-widgets/controls",
            "_model_module_version": "1.5.0",
            "_model_name": "DescriptionStyleModel",
            "_view_count": null,
            "_view_module": "@jupyter-widgets/base",
            "_view_module_version": "1.2.0",
            "_view_name": "StyleView",
            "description_width": ""
          }
        },
        "a5641be9374b492fb23b28862eb9637d": {
          "model_module": "@jupyter-widgets/controls",
          "model_name": "HBoxModel",
          "model_module_version": "1.5.0",
          "state": {
            "_dom_classes": [],
            "_model_module": "@jupyter-widgets/controls",
            "_model_module_version": "1.5.0",
            "_model_name": "HBoxModel",
            "_view_count": null,
            "_view_module": "@jupyter-widgets/controls",
            "_view_module_version": "1.5.0",
            "_view_name": "HBoxView",
            "box_style": "",
            "children": [
              "IPY_MODEL_3e8bfe5d7dc24bc785ace3c358dc574c",
              "IPY_MODEL_3cc8dd52e1c14e109261304f4b50156a",
              "IPY_MODEL_66ee38c1ad0a41be8da8f4e9fc6b2d7c"
            ],
            "layout": "IPY_MODEL_f578c5f2e532455697a2e4e06d1bd00d"
          }
        },
        "3e8bfe5d7dc24bc785ace3c358dc574c": {
          "model_module": "@jupyter-widgets/controls",
          "model_name": "HTMLModel",
          "model_module_version": "1.5.0",
          "state": {
            "_dom_classes": [],
            "_model_module": "@jupyter-widgets/controls",
            "_model_module_version": "1.5.0",
            "_model_name": "HTMLModel",
            "_view_count": null,
            "_view_module": "@jupyter-widgets/controls",
            "_view_module_version": "1.5.0",
            "_view_name": "HTMLView",
            "description": "",
            "description_tooltip": null,
            "layout": "IPY_MODEL_72ed1b7404c240bea95ab5b0acb982d5",
            "placeholder": "​",
            "style": "IPY_MODEL_244b73328c5e42e5956edb2cd5228f8d",
            "value": "Downloading (…)lve/main/config.json: 100%"
          }
        },
        "3cc8dd52e1c14e109261304f4b50156a": {
          "model_module": "@jupyter-widgets/controls",
          "model_name": "FloatProgressModel",
          "model_module_version": "1.5.0",
          "state": {
            "_dom_classes": [],
            "_model_module": "@jupyter-widgets/controls",
            "_model_module_version": "1.5.0",
            "_model_name": "FloatProgressModel",
            "_view_count": null,
            "_view_module": "@jupyter-widgets/controls",
            "_view_module_version": "1.5.0",
            "_view_name": "ProgressView",
            "bar_style": "success",
            "description": "",
            "description_tooltip": null,
            "layout": "IPY_MODEL_6c0c39b0078446cbad54df26dd51da1a",
            "max": 571,
            "min": 0,
            "orientation": "horizontal",
            "style": "IPY_MODEL_90c41813abf94acd87498f55a759bdd3",
            "value": 571
          }
        },
        "66ee38c1ad0a41be8da8f4e9fc6b2d7c": {
          "model_module": "@jupyter-widgets/controls",
          "model_name": "HTMLModel",
          "model_module_version": "1.5.0",
          "state": {
            "_dom_classes": [],
            "_model_module": "@jupyter-widgets/controls",
            "_model_module_version": "1.5.0",
            "_model_name": "HTMLModel",
            "_view_count": null,
            "_view_module": "@jupyter-widgets/controls",
            "_view_module_version": "1.5.0",
            "_view_name": "HTMLView",
            "description": "",
            "description_tooltip": null,
            "layout": "IPY_MODEL_0799470a5a9e49bca20a2254d7936f4e",
            "placeholder": "​",
            "style": "IPY_MODEL_fd827c33ddb04033a590d1cd27a9c022",
            "value": " 571/571 [00:00&lt;00:00, 41.7kB/s]"
          }
        },
        "f578c5f2e532455697a2e4e06d1bd00d": {
          "model_module": "@jupyter-widgets/base",
          "model_name": "LayoutModel",
          "model_module_version": "1.2.0",
          "state": {
            "_model_module": "@jupyter-widgets/base",
            "_model_module_version": "1.2.0",
            "_model_name": "LayoutModel",
            "_view_count": null,
            "_view_module": "@jupyter-widgets/base",
            "_view_module_version": "1.2.0",
            "_view_name": "LayoutView",
            "align_content": null,
            "align_items": null,
            "align_self": null,
            "border": null,
            "bottom": null,
            "display": null,
            "flex": null,
            "flex_flow": null,
            "grid_area": null,
            "grid_auto_columns": null,
            "grid_auto_flow": null,
            "grid_auto_rows": null,
            "grid_column": null,
            "grid_gap": null,
            "grid_row": null,
            "grid_template_areas": null,
            "grid_template_columns": null,
            "grid_template_rows": null,
            "height": null,
            "justify_content": null,
            "justify_items": null,
            "left": null,
            "margin": null,
            "max_height": null,
            "max_width": null,
            "min_height": null,
            "min_width": null,
            "object_fit": null,
            "object_position": null,
            "order": null,
            "overflow": null,
            "overflow_x": null,
            "overflow_y": null,
            "padding": null,
            "right": null,
            "top": null,
            "visibility": null,
            "width": null
          }
        },
        "72ed1b7404c240bea95ab5b0acb982d5": {
          "model_module": "@jupyter-widgets/base",
          "model_name": "LayoutModel",
          "model_module_version": "1.2.0",
          "state": {
            "_model_module": "@jupyter-widgets/base",
            "_model_module_version": "1.2.0",
            "_model_name": "LayoutModel",
            "_view_count": null,
            "_view_module": "@jupyter-widgets/base",
            "_view_module_version": "1.2.0",
            "_view_name": "LayoutView",
            "align_content": null,
            "align_items": null,
            "align_self": null,
            "border": null,
            "bottom": null,
            "display": null,
            "flex": null,
            "flex_flow": null,
            "grid_area": null,
            "grid_auto_columns": null,
            "grid_auto_flow": null,
            "grid_auto_rows": null,
            "grid_column": null,
            "grid_gap": null,
            "grid_row": null,
            "grid_template_areas": null,
            "grid_template_columns": null,
            "grid_template_rows": null,
            "height": null,
            "justify_content": null,
            "justify_items": null,
            "left": null,
            "margin": null,
            "max_height": null,
            "max_width": null,
            "min_height": null,
            "min_width": null,
            "object_fit": null,
            "object_position": null,
            "order": null,
            "overflow": null,
            "overflow_x": null,
            "overflow_y": null,
            "padding": null,
            "right": null,
            "top": null,
            "visibility": null,
            "width": null
          }
        },
        "244b73328c5e42e5956edb2cd5228f8d": {
          "model_module": "@jupyter-widgets/controls",
          "model_name": "DescriptionStyleModel",
          "model_module_version": "1.5.0",
          "state": {
            "_model_module": "@jupyter-widgets/controls",
            "_model_module_version": "1.5.0",
            "_model_name": "DescriptionStyleModel",
            "_view_count": null,
            "_view_module": "@jupyter-widgets/base",
            "_view_module_version": "1.2.0",
            "_view_name": "StyleView",
            "description_width": ""
          }
        },
        "6c0c39b0078446cbad54df26dd51da1a": {
          "model_module": "@jupyter-widgets/base",
          "model_name": "LayoutModel",
          "model_module_version": "1.2.0",
          "state": {
            "_model_module": "@jupyter-widgets/base",
            "_model_module_version": "1.2.0",
            "_model_name": "LayoutModel",
            "_view_count": null,
            "_view_module": "@jupyter-widgets/base",
            "_view_module_version": "1.2.0",
            "_view_name": "LayoutView",
            "align_content": null,
            "align_items": null,
            "align_self": null,
            "border": null,
            "bottom": null,
            "display": null,
            "flex": null,
            "flex_flow": null,
            "grid_area": null,
            "grid_auto_columns": null,
            "grid_auto_flow": null,
            "grid_auto_rows": null,
            "grid_column": null,
            "grid_gap": null,
            "grid_row": null,
            "grid_template_areas": null,
            "grid_template_columns": null,
            "grid_template_rows": null,
            "height": null,
            "justify_content": null,
            "justify_items": null,
            "left": null,
            "margin": null,
            "max_height": null,
            "max_width": null,
            "min_height": null,
            "min_width": null,
            "object_fit": null,
            "object_position": null,
            "order": null,
            "overflow": null,
            "overflow_x": null,
            "overflow_y": null,
            "padding": null,
            "right": null,
            "top": null,
            "visibility": null,
            "width": null
          }
        },
        "90c41813abf94acd87498f55a759bdd3": {
          "model_module": "@jupyter-widgets/controls",
          "model_name": "ProgressStyleModel",
          "model_module_version": "1.5.0",
          "state": {
            "_model_module": "@jupyter-widgets/controls",
            "_model_module_version": "1.5.0",
            "_model_name": "ProgressStyleModel",
            "_view_count": null,
            "_view_module": "@jupyter-widgets/base",
            "_view_module_version": "1.2.0",
            "_view_name": "StyleView",
            "bar_color": null,
            "description_width": ""
          }
        },
        "0799470a5a9e49bca20a2254d7936f4e": {
          "model_module": "@jupyter-widgets/base",
          "model_name": "LayoutModel",
          "model_module_version": "1.2.0",
          "state": {
            "_model_module": "@jupyter-widgets/base",
            "_model_module_version": "1.2.0",
            "_model_name": "LayoutModel",
            "_view_count": null,
            "_view_module": "@jupyter-widgets/base",
            "_view_module_version": "1.2.0",
            "_view_name": "LayoutView",
            "align_content": null,
            "align_items": null,
            "align_self": null,
            "border": null,
            "bottom": null,
            "display": null,
            "flex": null,
            "flex_flow": null,
            "grid_area": null,
            "grid_auto_columns": null,
            "grid_auto_flow": null,
            "grid_auto_rows": null,
            "grid_column": null,
            "grid_gap": null,
            "grid_row": null,
            "grid_template_areas": null,
            "grid_template_columns": null,
            "grid_template_rows": null,
            "height": null,
            "justify_content": null,
            "justify_items": null,
            "left": null,
            "margin": null,
            "max_height": null,
            "max_width": null,
            "min_height": null,
            "min_width": null,
            "object_fit": null,
            "object_position": null,
            "order": null,
            "overflow": null,
            "overflow_x": null,
            "overflow_y": null,
            "padding": null,
            "right": null,
            "top": null,
            "visibility": null,
            "width": null
          }
        },
        "fd827c33ddb04033a590d1cd27a9c022": {
          "model_module": "@jupyter-widgets/controls",
          "model_name": "DescriptionStyleModel",
          "model_module_version": "1.5.0",
          "state": {
            "_model_module": "@jupyter-widgets/controls",
            "_model_module_version": "1.5.0",
            "_model_name": "DescriptionStyleModel",
            "_view_count": null,
            "_view_module": "@jupyter-widgets/base",
            "_view_module_version": "1.2.0",
            "_view_name": "StyleView",
            "description_width": ""
          }
        },
        "b13d2e5cd77a40d5b721fe42d777ba7a": {
          "model_module": "@jupyter-widgets/controls",
          "model_name": "HBoxModel",
          "model_module_version": "1.5.0",
          "state": {
            "_dom_classes": [],
            "_model_module": "@jupyter-widgets/controls",
            "_model_module_version": "1.5.0",
            "_model_name": "HBoxModel",
            "_view_count": null,
            "_view_module": "@jupyter-widgets/controls",
            "_view_module_version": "1.5.0",
            "_view_name": "HBoxView",
            "box_style": "",
            "children": [
              "IPY_MODEL_e5be22afcf10498083728c24929542d1",
              "IPY_MODEL_a97a341560ca4cbbb75a7623f2a0b259",
              "IPY_MODEL_9992cba9d787401cb1321bd1d904aded"
            ],
            "layout": "IPY_MODEL_abb57722373741de9ef23eb8022b51fe"
          }
        },
        "e5be22afcf10498083728c24929542d1": {
          "model_module": "@jupyter-widgets/controls",
          "model_name": "HTMLModel",
          "model_module_version": "1.5.0",
          "state": {
            "_dom_classes": [],
            "_model_module": "@jupyter-widgets/controls",
            "_model_module_version": "1.5.0",
            "_model_name": "HTMLModel",
            "_view_count": null,
            "_view_module": "@jupyter-widgets/controls",
            "_view_module_version": "1.5.0",
            "_view_name": "HTMLView",
            "description": "",
            "description_tooltip": null,
            "layout": "IPY_MODEL_52ad18da0b3d4b5e8298ea0933b506f4",
            "placeholder": "​",
            "style": "IPY_MODEL_12d9ee11b67b4e55ae0dfd4ea638c00c",
            "value": "Downloading (…)solve/main/vocab.txt: 100%"
          }
        },
        "a97a341560ca4cbbb75a7623f2a0b259": {
          "model_module": "@jupyter-widgets/controls",
          "model_name": "FloatProgressModel",
          "model_module_version": "1.5.0",
          "state": {
            "_dom_classes": [],
            "_model_module": "@jupyter-widgets/controls",
            "_model_module_version": "1.5.0",
            "_model_name": "FloatProgressModel",
            "_view_count": null,
            "_view_module": "@jupyter-widgets/controls",
            "_view_module_version": "1.5.0",
            "_view_name": "ProgressView",
            "bar_style": "success",
            "description": "",
            "description_tooltip": null,
            "layout": "IPY_MODEL_74273a71f82244c9a97ed3c8637de4fb",
            "max": 231508,
            "min": 0,
            "orientation": "horizontal",
            "style": "IPY_MODEL_44b56d05b239437b926a8941eb58ee66",
            "value": 231508
          }
        },
        "9992cba9d787401cb1321bd1d904aded": {
          "model_module": "@jupyter-widgets/controls",
          "model_name": "HTMLModel",
          "model_module_version": "1.5.0",
          "state": {
            "_dom_classes": [],
            "_model_module": "@jupyter-widgets/controls",
            "_model_module_version": "1.5.0",
            "_model_name": "HTMLModel",
            "_view_count": null,
            "_view_module": "@jupyter-widgets/controls",
            "_view_module_version": "1.5.0",
            "_view_name": "HTMLView",
            "description": "",
            "description_tooltip": null,
            "layout": "IPY_MODEL_a1f4026c3c8e4b4eab513832e8ab6dbd",
            "placeholder": "​",
            "style": "IPY_MODEL_dd1169d55fde453ab894841434d78471",
            "value": " 232k/232k [00:00&lt;00:00, 11.1MB/s]"
          }
        },
        "abb57722373741de9ef23eb8022b51fe": {
          "model_module": "@jupyter-widgets/base",
          "model_name": "LayoutModel",
          "model_module_version": "1.2.0",
          "state": {
            "_model_module": "@jupyter-widgets/base",
            "_model_module_version": "1.2.0",
            "_model_name": "LayoutModel",
            "_view_count": null,
            "_view_module": "@jupyter-widgets/base",
            "_view_module_version": "1.2.0",
            "_view_name": "LayoutView",
            "align_content": null,
            "align_items": null,
            "align_self": null,
            "border": null,
            "bottom": null,
            "display": null,
            "flex": null,
            "flex_flow": null,
            "grid_area": null,
            "grid_auto_columns": null,
            "grid_auto_flow": null,
            "grid_auto_rows": null,
            "grid_column": null,
            "grid_gap": null,
            "grid_row": null,
            "grid_template_areas": null,
            "grid_template_columns": null,
            "grid_template_rows": null,
            "height": null,
            "justify_content": null,
            "justify_items": null,
            "left": null,
            "margin": null,
            "max_height": null,
            "max_width": null,
            "min_height": null,
            "min_width": null,
            "object_fit": null,
            "object_position": null,
            "order": null,
            "overflow": null,
            "overflow_x": null,
            "overflow_y": null,
            "padding": null,
            "right": null,
            "top": null,
            "visibility": null,
            "width": null
          }
        },
        "52ad18da0b3d4b5e8298ea0933b506f4": {
          "model_module": "@jupyter-widgets/base",
          "model_name": "LayoutModel",
          "model_module_version": "1.2.0",
          "state": {
            "_model_module": "@jupyter-widgets/base",
            "_model_module_version": "1.2.0",
            "_model_name": "LayoutModel",
            "_view_count": null,
            "_view_module": "@jupyter-widgets/base",
            "_view_module_version": "1.2.0",
            "_view_name": "LayoutView",
            "align_content": null,
            "align_items": null,
            "align_self": null,
            "border": null,
            "bottom": null,
            "display": null,
            "flex": null,
            "flex_flow": null,
            "grid_area": null,
            "grid_auto_columns": null,
            "grid_auto_flow": null,
            "grid_auto_rows": null,
            "grid_column": null,
            "grid_gap": null,
            "grid_row": null,
            "grid_template_areas": null,
            "grid_template_columns": null,
            "grid_template_rows": null,
            "height": null,
            "justify_content": null,
            "justify_items": null,
            "left": null,
            "margin": null,
            "max_height": null,
            "max_width": null,
            "min_height": null,
            "min_width": null,
            "object_fit": null,
            "object_position": null,
            "order": null,
            "overflow": null,
            "overflow_x": null,
            "overflow_y": null,
            "padding": null,
            "right": null,
            "top": null,
            "visibility": null,
            "width": null
          }
        },
        "12d9ee11b67b4e55ae0dfd4ea638c00c": {
          "model_module": "@jupyter-widgets/controls",
          "model_name": "DescriptionStyleModel",
          "model_module_version": "1.5.0",
          "state": {
            "_model_module": "@jupyter-widgets/controls",
            "_model_module_version": "1.5.0",
            "_model_name": "DescriptionStyleModel",
            "_view_count": null,
            "_view_module": "@jupyter-widgets/base",
            "_view_module_version": "1.2.0",
            "_view_name": "StyleView",
            "description_width": ""
          }
        },
        "74273a71f82244c9a97ed3c8637de4fb": {
          "model_module": "@jupyter-widgets/base",
          "model_name": "LayoutModel",
          "model_module_version": "1.2.0",
          "state": {
            "_model_module": "@jupyter-widgets/base",
            "_model_module_version": "1.2.0",
            "_model_name": "LayoutModel",
            "_view_count": null,
            "_view_module": "@jupyter-widgets/base",
            "_view_module_version": "1.2.0",
            "_view_name": "LayoutView",
            "align_content": null,
            "align_items": null,
            "align_self": null,
            "border": null,
            "bottom": null,
            "display": null,
            "flex": null,
            "flex_flow": null,
            "grid_area": null,
            "grid_auto_columns": null,
            "grid_auto_flow": null,
            "grid_auto_rows": null,
            "grid_column": null,
            "grid_gap": null,
            "grid_row": null,
            "grid_template_areas": null,
            "grid_template_columns": null,
            "grid_template_rows": null,
            "height": null,
            "justify_content": null,
            "justify_items": null,
            "left": null,
            "margin": null,
            "max_height": null,
            "max_width": null,
            "min_height": null,
            "min_width": null,
            "object_fit": null,
            "object_position": null,
            "order": null,
            "overflow": null,
            "overflow_x": null,
            "overflow_y": null,
            "padding": null,
            "right": null,
            "top": null,
            "visibility": null,
            "width": null
          }
        },
        "44b56d05b239437b926a8941eb58ee66": {
          "model_module": "@jupyter-widgets/controls",
          "model_name": "ProgressStyleModel",
          "model_module_version": "1.5.0",
          "state": {
            "_model_module": "@jupyter-widgets/controls",
            "_model_module_version": "1.5.0",
            "_model_name": "ProgressStyleModel",
            "_view_count": null,
            "_view_module": "@jupyter-widgets/base",
            "_view_module_version": "1.2.0",
            "_view_name": "StyleView",
            "bar_color": null,
            "description_width": ""
          }
        },
        "a1f4026c3c8e4b4eab513832e8ab6dbd": {
          "model_module": "@jupyter-widgets/base",
          "model_name": "LayoutModel",
          "model_module_version": "1.2.0",
          "state": {
            "_model_module": "@jupyter-widgets/base",
            "_model_module_version": "1.2.0",
            "_model_name": "LayoutModel",
            "_view_count": null,
            "_view_module": "@jupyter-widgets/base",
            "_view_module_version": "1.2.0",
            "_view_name": "LayoutView",
            "align_content": null,
            "align_items": null,
            "align_self": null,
            "border": null,
            "bottom": null,
            "display": null,
            "flex": null,
            "flex_flow": null,
            "grid_area": null,
            "grid_auto_columns": null,
            "grid_auto_flow": null,
            "grid_auto_rows": null,
            "grid_column": null,
            "grid_gap": null,
            "grid_row": null,
            "grid_template_areas": null,
            "grid_template_columns": null,
            "grid_template_rows": null,
            "height": null,
            "justify_content": null,
            "justify_items": null,
            "left": null,
            "margin": null,
            "max_height": null,
            "max_width": null,
            "min_height": null,
            "min_width": null,
            "object_fit": null,
            "object_position": null,
            "order": null,
            "overflow": null,
            "overflow_x": null,
            "overflow_y": null,
            "padding": null,
            "right": null,
            "top": null,
            "visibility": null,
            "width": null
          }
        },
        "dd1169d55fde453ab894841434d78471": {
          "model_module": "@jupyter-widgets/controls",
          "model_name": "DescriptionStyleModel",
          "model_module_version": "1.5.0",
          "state": {
            "_model_module": "@jupyter-widgets/controls",
            "_model_module_version": "1.5.0",
            "_model_name": "DescriptionStyleModel",
            "_view_count": null,
            "_view_module": "@jupyter-widgets/base",
            "_view_module_version": "1.2.0",
            "_view_name": "StyleView",
            "description_width": ""
          }
        },
        "46d057ee55d74b9590dd96b9ca924881": {
          "model_module": "@jupyter-widgets/controls",
          "model_name": "HBoxModel",
          "model_module_version": "1.5.0",
          "state": {
            "_dom_classes": [],
            "_model_module": "@jupyter-widgets/controls",
            "_model_module_version": "1.5.0",
            "_model_name": "HBoxModel",
            "_view_count": null,
            "_view_module": "@jupyter-widgets/controls",
            "_view_module_version": "1.5.0",
            "_view_name": "HBoxView",
            "box_style": "",
            "children": [
              "IPY_MODEL_f09766e7efaf4794a32d22ca2d4996ef",
              "IPY_MODEL_b4700b6a160d49bb90f8dd01f19d78b6",
              "IPY_MODEL_c7e1f7816aea45f1a20e8fb2531a7e50"
            ],
            "layout": "IPY_MODEL_3ea22b18c3564340b68674ff05a5cc40"
          }
        },
        "f09766e7efaf4794a32d22ca2d4996ef": {
          "model_module": "@jupyter-widgets/controls",
          "model_name": "HTMLModel",
          "model_module_version": "1.5.0",
          "state": {
            "_dom_classes": [],
            "_model_module": "@jupyter-widgets/controls",
            "_model_module_version": "1.5.0",
            "_model_name": "HTMLModel",
            "_view_count": null,
            "_view_module": "@jupyter-widgets/controls",
            "_view_module_version": "1.5.0",
            "_view_name": "HTMLView",
            "description": "",
            "description_tooltip": null,
            "layout": "IPY_MODEL_f5b99872d09242e6915558ad63558c7e",
            "placeholder": "​",
            "style": "IPY_MODEL_f6311ea9bafa48c28b6cdef335fe8ed3",
            "value": "Downloading (…)/main/tokenizer.json: 100%"
          }
        },
        "b4700b6a160d49bb90f8dd01f19d78b6": {
          "model_module": "@jupyter-widgets/controls",
          "model_name": "FloatProgressModel",
          "model_module_version": "1.5.0",
          "state": {
            "_dom_classes": [],
            "_model_module": "@jupyter-widgets/controls",
            "_model_module_version": "1.5.0",
            "_model_name": "FloatProgressModel",
            "_view_count": null,
            "_view_module": "@jupyter-widgets/controls",
            "_view_module_version": "1.5.0",
            "_view_name": "ProgressView",
            "bar_style": "success",
            "description": "",
            "description_tooltip": null,
            "layout": "IPY_MODEL_24d643e47afd40508b3ffdcd65aaa74b",
            "max": 466062,
            "min": 0,
            "orientation": "horizontal",
            "style": "IPY_MODEL_a638d217dee643398d9b2ead8575c98f",
            "value": 466062
          }
        },
        "c7e1f7816aea45f1a20e8fb2531a7e50": {
          "model_module": "@jupyter-widgets/controls",
          "model_name": "HTMLModel",
          "model_module_version": "1.5.0",
          "state": {
            "_dom_classes": [],
            "_model_module": "@jupyter-widgets/controls",
            "_model_module_version": "1.5.0",
            "_model_name": "HTMLModel",
            "_view_count": null,
            "_view_module": "@jupyter-widgets/controls",
            "_view_module_version": "1.5.0",
            "_view_name": "HTMLView",
            "description": "",
            "description_tooltip": null,
            "layout": "IPY_MODEL_3f74372473ac4de991a934a109a8e675",
            "placeholder": "​",
            "style": "IPY_MODEL_d8d275af2cc04b8695eedb48297b23d2",
            "value": " 466k/466k [00:00&lt;00:00, 1.11MB/s]"
          }
        },
        "3ea22b18c3564340b68674ff05a5cc40": {
          "model_module": "@jupyter-widgets/base",
          "model_name": "LayoutModel",
          "model_module_version": "1.2.0",
          "state": {
            "_model_module": "@jupyter-widgets/base",
            "_model_module_version": "1.2.0",
            "_model_name": "LayoutModel",
            "_view_count": null,
            "_view_module": "@jupyter-widgets/base",
            "_view_module_version": "1.2.0",
            "_view_name": "LayoutView",
            "align_content": null,
            "align_items": null,
            "align_self": null,
            "border": null,
            "bottom": null,
            "display": null,
            "flex": null,
            "flex_flow": null,
            "grid_area": null,
            "grid_auto_columns": null,
            "grid_auto_flow": null,
            "grid_auto_rows": null,
            "grid_column": null,
            "grid_gap": null,
            "grid_row": null,
            "grid_template_areas": null,
            "grid_template_columns": null,
            "grid_template_rows": null,
            "height": null,
            "justify_content": null,
            "justify_items": null,
            "left": null,
            "margin": null,
            "max_height": null,
            "max_width": null,
            "min_height": null,
            "min_width": null,
            "object_fit": null,
            "object_position": null,
            "order": null,
            "overflow": null,
            "overflow_x": null,
            "overflow_y": null,
            "padding": null,
            "right": null,
            "top": null,
            "visibility": null,
            "width": null
          }
        },
        "f5b99872d09242e6915558ad63558c7e": {
          "model_module": "@jupyter-widgets/base",
          "model_name": "LayoutModel",
          "model_module_version": "1.2.0",
          "state": {
            "_model_module": "@jupyter-widgets/base",
            "_model_module_version": "1.2.0",
            "_model_name": "LayoutModel",
            "_view_count": null,
            "_view_module": "@jupyter-widgets/base",
            "_view_module_version": "1.2.0",
            "_view_name": "LayoutView",
            "align_content": null,
            "align_items": null,
            "align_self": null,
            "border": null,
            "bottom": null,
            "display": null,
            "flex": null,
            "flex_flow": null,
            "grid_area": null,
            "grid_auto_columns": null,
            "grid_auto_flow": null,
            "grid_auto_rows": null,
            "grid_column": null,
            "grid_gap": null,
            "grid_row": null,
            "grid_template_areas": null,
            "grid_template_columns": null,
            "grid_template_rows": null,
            "height": null,
            "justify_content": null,
            "justify_items": null,
            "left": null,
            "margin": null,
            "max_height": null,
            "max_width": null,
            "min_height": null,
            "min_width": null,
            "object_fit": null,
            "object_position": null,
            "order": null,
            "overflow": null,
            "overflow_x": null,
            "overflow_y": null,
            "padding": null,
            "right": null,
            "top": null,
            "visibility": null,
            "width": null
          }
        },
        "f6311ea9bafa48c28b6cdef335fe8ed3": {
          "model_module": "@jupyter-widgets/controls",
          "model_name": "DescriptionStyleModel",
          "model_module_version": "1.5.0",
          "state": {
            "_model_module": "@jupyter-widgets/controls",
            "_model_module_version": "1.5.0",
            "_model_name": "DescriptionStyleModel",
            "_view_count": null,
            "_view_module": "@jupyter-widgets/base",
            "_view_module_version": "1.2.0",
            "_view_name": "StyleView",
            "description_width": ""
          }
        },
        "24d643e47afd40508b3ffdcd65aaa74b": {
          "model_module": "@jupyter-widgets/base",
          "model_name": "LayoutModel",
          "model_module_version": "1.2.0",
          "state": {
            "_model_module": "@jupyter-widgets/base",
            "_model_module_version": "1.2.0",
            "_model_name": "LayoutModel",
            "_view_count": null,
            "_view_module": "@jupyter-widgets/base",
            "_view_module_version": "1.2.0",
            "_view_name": "LayoutView",
            "align_content": null,
            "align_items": null,
            "align_self": null,
            "border": null,
            "bottom": null,
            "display": null,
            "flex": null,
            "flex_flow": null,
            "grid_area": null,
            "grid_auto_columns": null,
            "grid_auto_flow": null,
            "grid_auto_rows": null,
            "grid_column": null,
            "grid_gap": null,
            "grid_row": null,
            "grid_template_areas": null,
            "grid_template_columns": null,
            "grid_template_rows": null,
            "height": null,
            "justify_content": null,
            "justify_items": null,
            "left": null,
            "margin": null,
            "max_height": null,
            "max_width": null,
            "min_height": null,
            "min_width": null,
            "object_fit": null,
            "object_position": null,
            "order": null,
            "overflow": null,
            "overflow_x": null,
            "overflow_y": null,
            "padding": null,
            "right": null,
            "top": null,
            "visibility": null,
            "width": null
          }
        },
        "a638d217dee643398d9b2ead8575c98f": {
          "model_module": "@jupyter-widgets/controls",
          "model_name": "ProgressStyleModel",
          "model_module_version": "1.5.0",
          "state": {
            "_model_module": "@jupyter-widgets/controls",
            "_model_module_version": "1.5.0",
            "_model_name": "ProgressStyleModel",
            "_view_count": null,
            "_view_module": "@jupyter-widgets/base",
            "_view_module_version": "1.2.0",
            "_view_name": "StyleView",
            "bar_color": null,
            "description_width": ""
          }
        },
        "3f74372473ac4de991a934a109a8e675": {
          "model_module": "@jupyter-widgets/base",
          "model_name": "LayoutModel",
          "model_module_version": "1.2.0",
          "state": {
            "_model_module": "@jupyter-widgets/base",
            "_model_module_version": "1.2.0",
            "_model_name": "LayoutModel",
            "_view_count": null,
            "_view_module": "@jupyter-widgets/base",
            "_view_module_version": "1.2.0",
            "_view_name": "LayoutView",
            "align_content": null,
            "align_items": null,
            "align_self": null,
            "border": null,
            "bottom": null,
            "display": null,
            "flex": null,
            "flex_flow": null,
            "grid_area": null,
            "grid_auto_columns": null,
            "grid_auto_flow": null,
            "grid_auto_rows": null,
            "grid_column": null,
            "grid_gap": null,
            "grid_row": null,
            "grid_template_areas": null,
            "grid_template_columns": null,
            "grid_template_rows": null,
            "height": null,
            "justify_content": null,
            "justify_items": null,
            "left": null,
            "margin": null,
            "max_height": null,
            "max_width": null,
            "min_height": null,
            "min_width": null,
            "object_fit": null,
            "object_position": null,
            "order": null,
            "overflow": null,
            "overflow_x": null,
            "overflow_y": null,
            "padding": null,
            "right": null,
            "top": null,
            "visibility": null,
            "width": null
          }
        },
        "d8d275af2cc04b8695eedb48297b23d2": {
          "model_module": "@jupyter-widgets/controls",
          "model_name": "DescriptionStyleModel",
          "model_module_version": "1.5.0",
          "state": {
            "_model_module": "@jupyter-widgets/controls",
            "_model_module_version": "1.5.0",
            "_model_name": "DescriptionStyleModel",
            "_view_count": null,
            "_view_module": "@jupyter-widgets/base",
            "_view_module_version": "1.2.0",
            "_view_name": "StyleView",
            "description_width": ""
          }
        },
        "684869cafe4240a3bbb6f9ac650ac45c": {
          "model_module": "@jupyter-widgets/controls",
          "model_name": "HBoxModel",
          "model_module_version": "1.5.0",
          "state": {
            "_dom_classes": [],
            "_model_module": "@jupyter-widgets/controls",
            "_model_module_version": "1.5.0",
            "_model_name": "HBoxModel",
            "_view_count": null,
            "_view_module": "@jupyter-widgets/controls",
            "_view_module_version": "1.5.0",
            "_view_name": "HBoxView",
            "box_style": "",
            "children": [
              "IPY_MODEL_d9012bb1b7a847c19541babc647512af",
              "IPY_MODEL_e766bcb99b694f84a15c4a537a9cc3c1",
              "IPY_MODEL_728e3d24fc184c5d84ead088e383a974"
            ],
            "layout": "IPY_MODEL_4abd36fff1f643c38c6480c60874ff2d"
          }
        },
        "d9012bb1b7a847c19541babc647512af": {
          "model_module": "@jupyter-widgets/controls",
          "model_name": "HTMLModel",
          "model_module_version": "1.5.0",
          "state": {
            "_dom_classes": [],
            "_model_module": "@jupyter-widgets/controls",
            "_model_module_version": "1.5.0",
            "_model_name": "HTMLModel",
            "_view_count": null,
            "_view_module": "@jupyter-widgets/controls",
            "_view_module_version": "1.5.0",
            "_view_name": "HTMLView",
            "description": "",
            "description_tooltip": null,
            "layout": "IPY_MODEL_15e1c21d103d43c086c839058922b624",
            "placeholder": "​",
            "style": "IPY_MODEL_606701444cb34fb09b01cf8b867fb17a",
            "value": "Downloading model.safetensors: 100%"
          }
        },
        "e766bcb99b694f84a15c4a537a9cc3c1": {
          "model_module": "@jupyter-widgets/controls",
          "model_name": "FloatProgressModel",
          "model_module_version": "1.5.0",
          "state": {
            "_dom_classes": [],
            "_model_module": "@jupyter-widgets/controls",
            "_model_module_version": "1.5.0",
            "_model_name": "FloatProgressModel",
            "_view_count": null,
            "_view_module": "@jupyter-widgets/controls",
            "_view_module_version": "1.5.0",
            "_view_name": "ProgressView",
            "bar_style": "success",
            "description": "",
            "description_tooltip": null,
            "layout": "IPY_MODEL_492859d663cd451ba57bca20bfc948b2",
            "max": 1344951957,
            "min": 0,
            "orientation": "horizontal",
            "style": "IPY_MODEL_d884ed30dd0b4b818668a7f748fd9f9f",
            "value": 1344951957
          }
        },
        "728e3d24fc184c5d84ead088e383a974": {
          "model_module": "@jupyter-widgets/controls",
          "model_name": "HTMLModel",
          "model_module_version": "1.5.0",
          "state": {
            "_dom_classes": [],
            "_model_module": "@jupyter-widgets/controls",
            "_model_module_version": "1.5.0",
            "_model_name": "HTMLModel",
            "_view_count": null,
            "_view_module": "@jupyter-widgets/controls",
            "_view_module_version": "1.5.0",
            "_view_name": "HTMLView",
            "description": "",
            "description_tooltip": null,
            "layout": "IPY_MODEL_0254aa9e0ac645ffbdc935b2c71ec9b3",
            "placeholder": "​",
            "style": "IPY_MODEL_b2c603cf620b4439aa7d455d94eec3b6",
            "value": " 1.34G/1.34G [00:06&lt;00:00, 282MB/s]"
          }
        },
        "4abd36fff1f643c38c6480c60874ff2d": {
          "model_module": "@jupyter-widgets/base",
          "model_name": "LayoutModel",
          "model_module_version": "1.2.0",
          "state": {
            "_model_module": "@jupyter-widgets/base",
            "_model_module_version": "1.2.0",
            "_model_name": "LayoutModel",
            "_view_count": null,
            "_view_module": "@jupyter-widgets/base",
            "_view_module_version": "1.2.0",
            "_view_name": "LayoutView",
            "align_content": null,
            "align_items": null,
            "align_self": null,
            "border": null,
            "bottom": null,
            "display": null,
            "flex": null,
            "flex_flow": null,
            "grid_area": null,
            "grid_auto_columns": null,
            "grid_auto_flow": null,
            "grid_auto_rows": null,
            "grid_column": null,
            "grid_gap": null,
            "grid_row": null,
            "grid_template_areas": null,
            "grid_template_columns": null,
            "grid_template_rows": null,
            "height": null,
            "justify_content": null,
            "justify_items": null,
            "left": null,
            "margin": null,
            "max_height": null,
            "max_width": null,
            "min_height": null,
            "min_width": null,
            "object_fit": null,
            "object_position": null,
            "order": null,
            "overflow": null,
            "overflow_x": null,
            "overflow_y": null,
            "padding": null,
            "right": null,
            "top": null,
            "visibility": null,
            "width": null
          }
        },
        "15e1c21d103d43c086c839058922b624": {
          "model_module": "@jupyter-widgets/base",
          "model_name": "LayoutModel",
          "model_module_version": "1.2.0",
          "state": {
            "_model_module": "@jupyter-widgets/base",
            "_model_module_version": "1.2.0",
            "_model_name": "LayoutModel",
            "_view_count": null,
            "_view_module": "@jupyter-widgets/base",
            "_view_module_version": "1.2.0",
            "_view_name": "LayoutView",
            "align_content": null,
            "align_items": null,
            "align_self": null,
            "border": null,
            "bottom": null,
            "display": null,
            "flex": null,
            "flex_flow": null,
            "grid_area": null,
            "grid_auto_columns": null,
            "grid_auto_flow": null,
            "grid_auto_rows": null,
            "grid_column": null,
            "grid_gap": null,
            "grid_row": null,
            "grid_template_areas": null,
            "grid_template_columns": null,
            "grid_template_rows": null,
            "height": null,
            "justify_content": null,
            "justify_items": null,
            "left": null,
            "margin": null,
            "max_height": null,
            "max_width": null,
            "min_height": null,
            "min_width": null,
            "object_fit": null,
            "object_position": null,
            "order": null,
            "overflow": null,
            "overflow_x": null,
            "overflow_y": null,
            "padding": null,
            "right": null,
            "top": null,
            "visibility": null,
            "width": null
          }
        },
        "606701444cb34fb09b01cf8b867fb17a": {
          "model_module": "@jupyter-widgets/controls",
          "model_name": "DescriptionStyleModel",
          "model_module_version": "1.5.0",
          "state": {
            "_model_module": "@jupyter-widgets/controls",
            "_model_module_version": "1.5.0",
            "_model_name": "DescriptionStyleModel",
            "_view_count": null,
            "_view_module": "@jupyter-widgets/base",
            "_view_module_version": "1.2.0",
            "_view_name": "StyleView",
            "description_width": ""
          }
        },
        "492859d663cd451ba57bca20bfc948b2": {
          "model_module": "@jupyter-widgets/base",
          "model_name": "LayoutModel",
          "model_module_version": "1.2.0",
          "state": {
            "_model_module": "@jupyter-widgets/base",
            "_model_module_version": "1.2.0",
            "_model_name": "LayoutModel",
            "_view_count": null,
            "_view_module": "@jupyter-widgets/base",
            "_view_module_version": "1.2.0",
            "_view_name": "LayoutView",
            "align_content": null,
            "align_items": null,
            "align_self": null,
            "border": null,
            "bottom": null,
            "display": null,
            "flex": null,
            "flex_flow": null,
            "grid_area": null,
            "grid_auto_columns": null,
            "grid_auto_flow": null,
            "grid_auto_rows": null,
            "grid_column": null,
            "grid_gap": null,
            "grid_row": null,
            "grid_template_areas": null,
            "grid_template_columns": null,
            "grid_template_rows": null,
            "height": null,
            "justify_content": null,
            "justify_items": null,
            "left": null,
            "margin": null,
            "max_height": null,
            "max_width": null,
            "min_height": null,
            "min_width": null,
            "object_fit": null,
            "object_position": null,
            "order": null,
            "overflow": null,
            "overflow_x": null,
            "overflow_y": null,
            "padding": null,
            "right": null,
            "top": null,
            "visibility": null,
            "width": null
          }
        },
        "d884ed30dd0b4b818668a7f748fd9f9f": {
          "model_module": "@jupyter-widgets/controls",
          "model_name": "ProgressStyleModel",
          "model_module_version": "1.5.0",
          "state": {
            "_model_module": "@jupyter-widgets/controls",
            "_model_module_version": "1.5.0",
            "_model_name": "ProgressStyleModel",
            "_view_count": null,
            "_view_module": "@jupyter-widgets/base",
            "_view_module_version": "1.2.0",
            "_view_name": "StyleView",
            "bar_color": null,
            "description_width": ""
          }
        },
        "0254aa9e0ac645ffbdc935b2c71ec9b3": {
          "model_module": "@jupyter-widgets/base",
          "model_name": "LayoutModel",
          "model_module_version": "1.2.0",
          "state": {
            "_model_module": "@jupyter-widgets/base",
            "_model_module_version": "1.2.0",
            "_model_name": "LayoutModel",
            "_view_count": null,
            "_view_module": "@jupyter-widgets/base",
            "_view_module_version": "1.2.0",
            "_view_name": "LayoutView",
            "align_content": null,
            "align_items": null,
            "align_self": null,
            "border": null,
            "bottom": null,
            "display": null,
            "flex": null,
            "flex_flow": null,
            "grid_area": null,
            "grid_auto_columns": null,
            "grid_auto_flow": null,
            "grid_auto_rows": null,
            "grid_column": null,
            "grid_gap": null,
            "grid_row": null,
            "grid_template_areas": null,
            "grid_template_columns": null,
            "grid_template_rows": null,
            "height": null,
            "justify_content": null,
            "justify_items": null,
            "left": null,
            "margin": null,
            "max_height": null,
            "max_width": null,
            "min_height": null,
            "min_width": null,
            "object_fit": null,
            "object_position": null,
            "order": null,
            "overflow": null,
            "overflow_x": null,
            "overflow_y": null,
            "padding": null,
            "right": null,
            "top": null,
            "visibility": null,
            "width": null
          }
        },
        "b2c603cf620b4439aa7d455d94eec3b6": {
          "model_module": "@jupyter-widgets/controls",
          "model_name": "DescriptionStyleModel",
          "model_module_version": "1.5.0",
          "state": {
            "_model_module": "@jupyter-widgets/controls",
            "_model_module_version": "1.5.0",
            "_model_name": "DescriptionStyleModel",
            "_view_count": null,
            "_view_module": "@jupyter-widgets/base",
            "_view_module_version": "1.2.0",
            "_view_name": "StyleView",
            "description_width": ""
          }
        }
      }
    }
  },
  "cells": [
    {
      "cell_type": "markdown",
      "metadata": {
        "id": "view-in-github",
        "colab_type": "text"
      },
      "source": [
        "<a href=\"https://colab.research.google.com/github/diogosantanaime/rec_proc/blob/main/run_flair_experiments.ipynb\" target=\"_parent\"><img src=\"https://colab.research.google.com/assets/colab-badge.svg\" alt=\"Open In Colab\"/></a>"
      ]
    },
    {
      "cell_type": "code",
      "execution_count": null,
      "metadata": {
        "colab": {
          "base_uri": "https://localhost:8080/"
        },
        "id": "DlZ-hxezgo_P",
        "outputId": "ffa1cb65-3288-479f-f8d8-aacdc8a4398f"
      },
      "outputs": [
        {
          "output_type": "stream",
          "name": "stdout",
          "text": [
            "Collecting flair\n",
            "  Using cached flair-0.12.2-py3-none-any.whl (373 kB)\n",
            "Requirement already satisfied: python-dateutil>=2.6.1 in /usr/local/lib/python3.10/dist-packages (from flair) (2.8.2)\n",
            "Requirement already satisfied: torch!=1.8,>=1.5.0 in /usr/local/lib/python3.10/dist-packages (from flair) (2.0.1+cu118)\n",
            "Requirement already satisfied: gensim>=3.8.0 in /usr/local/lib/python3.10/dist-packages (from flair) (4.3.1)\n",
            "Requirement already satisfied: tqdm>=4.26.0 in /usr/local/lib/python3.10/dist-packages (from flair) (4.65.0)\n",
            "Collecting segtok>=1.5.7 (from flair)\n",
            "  Using cached segtok-1.5.11-py3-none-any.whl (24 kB)\n",
            "Requirement already satisfied: matplotlib>=2.2.3 in /usr/local/lib/python3.10/dist-packages (from flair) (3.7.1)\n",
            "Collecting mpld3==0.3 (from flair)\n",
            "  Using cached mpld3-0.3-py3-none-any.whl\n",
            "Requirement already satisfied: scikit-learn>=0.21.3 in /usr/local/lib/python3.10/dist-packages (from flair) (1.2.2)\n",
            "Collecting sqlitedict>=1.6.0 (from flair)\n",
            "  Using cached sqlitedict-2.1.0-py3-none-any.whl\n",
            "Collecting deprecated>=1.2.4 (from flair)\n",
            "  Using cached Deprecated-1.2.14-py2.py3-none-any.whl (9.6 kB)\n",
            "Requirement already satisfied: hyperopt>=0.2.7 in /usr/local/lib/python3.10/dist-packages (from flair) (0.2.7)\n",
            "Collecting boto3 (from flair)\n",
            "  Using cached boto3-1.26.163-py3-none-any.whl (135 kB)\n",
            "Collecting transformers[sentencepiece]>=4.18.0 (from flair)\n",
            "  Using cached transformers-4.30.2-py3-none-any.whl (7.2 MB)\n",
            "Collecting bpemb>=0.3.2 (from flair)\n",
            "  Using cached bpemb-0.3.4-py3-none-any.whl (19 kB)\n",
            "Requirement already satisfied: regex in /usr/local/lib/python3.10/dist-packages (from flair) (2022.10.31)\n",
            "Requirement already satisfied: tabulate in /usr/local/lib/python3.10/dist-packages (from flair) (0.8.10)\n",
            "Collecting langdetect (from flair)\n",
            "  Using cached langdetect-1.0.9-py3-none-any.whl\n",
            "Requirement already satisfied: lxml in /usr/local/lib/python3.10/dist-packages (from flair) (4.9.2)\n",
            "Collecting ftfy (from flair)\n",
            "  Using cached ftfy-6.1.1-py3-none-any.whl (53 kB)\n",
            "Collecting janome (from flair)\n",
            "  Using cached Janome-0.4.2-py2.py3-none-any.whl (19.7 MB)\n",
            "Collecting gdown==4.4.0 (from flair)\n",
            "  Using cached gdown-4.4.0-py3-none-any.whl\n",
            "Requirement already satisfied: huggingface-hub>=0.10.0 in /usr/local/lib/python3.10/dist-packages (from flair) (0.15.1)\n",
            "Collecting conllu>=4.0 (from flair)\n",
            "  Using cached conllu-4.5.3-py2.py3-none-any.whl (16 kB)\n",
            "Requirement already satisfied: more-itertools in /usr/local/lib/python3.10/dist-packages (from flair) (9.1.0)\n",
            "Collecting wikipedia-api (from flair)\n",
            "  Using cached Wikipedia_API-0.5.8-py3-none-any.whl (13 kB)\n",
            "Collecting pptree (from flair)\n",
            "  Using cached pptree-3.1-py3-none-any.whl\n",
            "Collecting pytorch-revgrad (from flair)\n",
            "  Using cached pytorch_revgrad-0.2.0-py3-none-any.whl (4.6 kB)\n",
            "Collecting transformer-smaller-training-vocab>=0.2.1 (from flair)\n",
            "  Using cached transformer_smaller_training_vocab-0.2.4-py3-none-any.whl (13 kB)\n",
            "Requirement already satisfied: filelock in /usr/local/lib/python3.10/dist-packages (from gdown==4.4.0->flair) (3.12.2)\n",
            "Requirement already satisfied: requests[socks] in /usr/local/lib/python3.10/dist-packages (from gdown==4.4.0->flair) (2.27.1)\n",
            "Requirement already satisfied: six in /usr/local/lib/python3.10/dist-packages (from gdown==4.4.0->flair) (1.16.0)\n",
            "Requirement already satisfied: beautifulsoup4 in /usr/local/lib/python3.10/dist-packages (from gdown==4.4.0->flair) (4.11.2)\n",
            "Requirement already satisfied: numpy in /usr/local/lib/python3.10/dist-packages (from bpemb>=0.3.2->flair) (1.22.4)\n",
            "Collecting sentencepiece (from bpemb>=0.3.2->flair)\n",
            "  Using cached sentencepiece-0.1.99-cp310-cp310-manylinux_2_17_x86_64.manylinux2014_x86_64.whl (1.3 MB)\n",
            "Requirement already satisfied: wrapt<2,>=1.10 in /usr/local/lib/python3.10/dist-packages (from deprecated>=1.2.4->flair) (1.14.1)\n",
            "Requirement already satisfied: scipy>=1.7.0 in /usr/local/lib/python3.10/dist-packages (from gensim>=3.8.0->flair) (1.10.1)\n",
            "Requirement already satisfied: smart-open>=1.8.1 in /usr/local/lib/python3.10/dist-packages (from gensim>=3.8.0->flair) (6.3.0)\n",
            "Requirement already satisfied: fsspec in /usr/local/lib/python3.10/dist-packages (from huggingface-hub>=0.10.0->flair) (2023.6.0)\n",
            "Requirement already satisfied: pyyaml>=5.1 in /usr/local/lib/python3.10/dist-packages (from huggingface-hub>=0.10.0->flair) (6.0)\n",
            "Requirement already satisfied: typing-extensions>=3.7.4.3 in /usr/local/lib/python3.10/dist-packages (from huggingface-hub>=0.10.0->flair) (4.6.3)\n",
            "Requirement already satisfied: packaging>=20.9 in /usr/local/lib/python3.10/dist-packages (from huggingface-hub>=0.10.0->flair) (23.1)\n",
            "Requirement already satisfied: networkx>=2.2 in /usr/local/lib/python3.10/dist-packages (from hyperopt>=0.2.7->flair) (3.1)\n",
            "Requirement already satisfied: future in /usr/local/lib/python3.10/dist-packages (from hyperopt>=0.2.7->flair) (0.18.3)\n",
            "Requirement already satisfied: cloudpickle in /usr/local/lib/python3.10/dist-packages (from hyperopt>=0.2.7->flair) (2.2.1)\n",
            "Requirement already satisfied: py4j in /usr/local/lib/python3.10/dist-packages (from hyperopt>=0.2.7->flair) (0.10.9.7)\n",
            "Requirement already satisfied: contourpy>=1.0.1 in /usr/local/lib/python3.10/dist-packages (from matplotlib>=2.2.3->flair) (1.1.0)\n",
            "Requirement already satisfied: cycler>=0.10 in /usr/local/lib/python3.10/dist-packages (from matplotlib>=2.2.3->flair) (0.11.0)\n",
            "Requirement already satisfied: fonttools>=4.22.0 in /usr/local/lib/python3.10/dist-packages (from matplotlib>=2.2.3->flair) (4.40.0)\n",
            "Requirement already satisfied: kiwisolver>=1.0.1 in /usr/local/lib/python3.10/dist-packages (from matplotlib>=2.2.3->flair) (1.4.4)\n",
            "Requirement already satisfied: pillow>=6.2.0 in /usr/local/lib/python3.10/dist-packages (from matplotlib>=2.2.3->flair) (8.4.0)\n",
            "Requirement already satisfied: pyparsing>=2.3.1 in /usr/local/lib/python3.10/dist-packages (from matplotlib>=2.2.3->flair) (3.1.0)\n",
            "Requirement already satisfied: joblib>=1.1.1 in /usr/local/lib/python3.10/dist-packages (from scikit-learn>=0.21.3->flair) (1.2.0)\n",
            "Requirement already satisfied: threadpoolctl>=2.0.0 in /usr/local/lib/python3.10/dist-packages (from scikit-learn>=0.21.3->flair) (3.1.0)\n",
            "Requirement already satisfied: sympy in /usr/local/lib/python3.10/dist-packages (from torch!=1.8,>=1.5.0->flair) (1.11.1)\n",
            "Requirement already satisfied: jinja2 in /usr/local/lib/python3.10/dist-packages (from torch!=1.8,>=1.5.0->flair) (3.1.2)\n",
            "Requirement already satisfied: triton==2.0.0 in /usr/local/lib/python3.10/dist-packages (from torch!=1.8,>=1.5.0->flair) (2.0.0)\n",
            "Requirement already satisfied: cmake in /usr/local/lib/python3.10/dist-packages (from triton==2.0.0->torch!=1.8,>=1.5.0->flair) (3.25.2)\n",
            "Requirement already satisfied: lit in /usr/local/lib/python3.10/dist-packages (from triton==2.0.0->torch!=1.8,>=1.5.0->flair) (16.0.6)\n",
            "Requirement already satisfied: datasets<3.0.0,>=2.0.0 in /usr/local/lib/python3.10/dist-packages (from transformer-smaller-training-vocab>=0.2.1->flair) (2.13.1)\n",
            "Collecting tokenizers!=0.11.3,<0.14,>=0.11.1 (from transformers[sentencepiece]>=4.18.0->flair)\n",
            "  Using cached tokenizers-0.13.3-cp310-cp310-manylinux_2_17_x86_64.manylinux2014_x86_64.whl (7.8 MB)\n",
            "Collecting safetensors>=0.3.1 (from transformers[sentencepiece]>=4.18.0->flair)\n",
            "  Using cached safetensors-0.3.1-cp310-cp310-manylinux_2_17_x86_64.manylinux2014_x86_64.whl (1.3 MB)\n",
            "Requirement already satisfied: protobuf<=3.20.3 in /usr/local/lib/python3.10/dist-packages (from transformers[sentencepiece]>=4.18.0->flair) (3.20.3)\n",
            "Collecting botocore<1.30.0,>=1.29.163 (from boto3->flair)\n",
            "  Using cached botocore-1.29.163-py3-none-any.whl (11.0 MB)\n",
            "Collecting jmespath<2.0.0,>=0.7.1 (from boto3->flair)\n",
            "  Using cached jmespath-1.0.1-py3-none-any.whl (20 kB)\n",
            "Collecting s3transfer<0.7.0,>=0.6.0 (from boto3->flair)\n",
            "  Using cached s3transfer-0.6.1-py3-none-any.whl (79 kB)\n",
            "Requirement already satisfied: wcwidth>=0.2.5 in /usr/local/lib/python3.10/dist-packages (from ftfy->flair) (0.2.6)\n",
            "Requirement already satisfied: urllib3<1.27,>=1.25.4 in /usr/local/lib/python3.10/dist-packages (from botocore<1.30.0,>=1.29.163->boto3->flair) (1.26.16)\n",
            "Requirement already satisfied: pyarrow>=8.0.0 in /usr/local/lib/python3.10/dist-packages (from datasets<3.0.0,>=2.0.0->transformer-smaller-training-vocab>=0.2.1->flair) (9.0.0)\n",
            "Requirement already satisfied: dill<0.3.7,>=0.3.0 in /usr/local/lib/python3.10/dist-packages (from datasets<3.0.0,>=2.0.0->transformer-smaller-training-vocab>=0.2.1->flair) (0.3.6)\n",
            "Requirement already satisfied: pandas in /usr/local/lib/python3.10/dist-packages (from datasets<3.0.0,>=2.0.0->transformer-smaller-training-vocab>=0.2.1->flair) (1.5.3)\n",
            "Requirement already satisfied: xxhash in /usr/local/lib/python3.10/dist-packages (from datasets<3.0.0,>=2.0.0->transformer-smaller-training-vocab>=0.2.1->flair) (3.2.0)\n",
            "Requirement already satisfied: multiprocess in /usr/local/lib/python3.10/dist-packages (from datasets<3.0.0,>=2.0.0->transformer-smaller-training-vocab>=0.2.1->flair) (0.70.14)\n",
            "Requirement already satisfied: aiohttp in /usr/local/lib/python3.10/dist-packages (from datasets<3.0.0,>=2.0.0->transformer-smaller-training-vocab>=0.2.1->flair) (3.8.4)\n",
            "Requirement already satisfied: certifi>=2017.4.17 in /usr/local/lib/python3.10/dist-packages (from requests[socks]->gdown==4.4.0->flair) (2023.5.7)\n",
            "Requirement already satisfied: charset-normalizer~=2.0.0 in /usr/local/lib/python3.10/dist-packages (from requests[socks]->gdown==4.4.0->flair) (2.0.12)\n",
            "Requirement already satisfied: idna<4,>=2.5 in /usr/local/lib/python3.10/dist-packages (from requests[socks]->gdown==4.4.0->flair) (3.4)\n",
            "Collecting accelerate>=0.20.2 (from transformers[sentencepiece]>=4.18.0->flair)\n",
            "  Using cached accelerate-0.20.3-py3-none-any.whl (227 kB)\n",
            "Requirement already satisfied: soupsieve>1.2 in /usr/local/lib/python3.10/dist-packages (from beautifulsoup4->gdown==4.4.0->flair) (2.4.1)\n",
            "Requirement already satisfied: MarkupSafe>=2.0 in /usr/local/lib/python3.10/dist-packages (from jinja2->torch!=1.8,>=1.5.0->flair) (2.1.3)\n",
            "Requirement already satisfied: PySocks!=1.5.7,>=1.5.6 in /usr/local/lib/python3.10/dist-packages (from requests[socks]->gdown==4.4.0->flair) (1.7.1)\n",
            "Requirement already satisfied: mpmath>=0.19 in /usr/local/lib/python3.10/dist-packages (from sympy->torch!=1.8,>=1.5.0->flair) (1.3.0)\n",
            "Requirement already satisfied: psutil in /usr/local/lib/python3.10/dist-packages (from accelerate>=0.20.2->transformers[sentencepiece]>=4.18.0->flair) (5.9.5)\n",
            "Requirement already satisfied: attrs>=17.3.0 in /usr/local/lib/python3.10/dist-packages (from aiohttp->datasets<3.0.0,>=2.0.0->transformer-smaller-training-vocab>=0.2.1->flair) (23.1.0)\n",
            "Requirement already satisfied: multidict<7.0,>=4.5 in /usr/local/lib/python3.10/dist-packages (from aiohttp->datasets<3.0.0,>=2.0.0->transformer-smaller-training-vocab>=0.2.1->flair) (6.0.4)\n",
            "Requirement already satisfied: async-timeout<5.0,>=4.0.0a3 in /usr/local/lib/python3.10/dist-packages (from aiohttp->datasets<3.0.0,>=2.0.0->transformer-smaller-training-vocab>=0.2.1->flair) (4.0.2)\n",
            "Requirement already satisfied: yarl<2.0,>=1.0 in /usr/local/lib/python3.10/dist-packages (from aiohttp->datasets<3.0.0,>=2.0.0->transformer-smaller-training-vocab>=0.2.1->flair) (1.9.2)\n",
            "Requirement already satisfied: frozenlist>=1.1.1 in /usr/local/lib/python3.10/dist-packages (from aiohttp->datasets<3.0.0,>=2.0.0->transformer-smaller-training-vocab>=0.2.1->flair) (1.3.3)\n",
            "Requirement already satisfied: aiosignal>=1.1.2 in /usr/local/lib/python3.10/dist-packages (from aiohttp->datasets<3.0.0,>=2.0.0->transformer-smaller-training-vocab>=0.2.1->flair) (1.3.1)\n",
            "Requirement already satisfied: pytz>=2020.1 in /usr/local/lib/python3.10/dist-packages (from pandas->datasets<3.0.0,>=2.0.0->transformer-smaller-training-vocab>=0.2.1->flair) (2022.7.1)\n",
            "Installing collected packages: tokenizers, sqlitedict, sentencepiece, safetensors, pptree, mpld3, janome, segtok, langdetect, jmespath, ftfy, deprecated, conllu, wikipedia-api, botocore, transformers, s3transfer, gdown, bpemb, boto3, accelerate, transformer-smaller-training-vocab, pytorch-revgrad, flair\n",
            "  Attempting uninstall: gdown\n",
            "    Found existing installation: gdown 4.6.6\n",
            "    Uninstalling gdown-4.6.6:\n",
            "      Successfully uninstalled gdown-4.6.6\n",
            "Successfully installed accelerate-0.20.3 boto3-1.26.163 botocore-1.29.163 bpemb-0.3.4 conllu-4.5.3 deprecated-1.2.14 flair-0.12.2 ftfy-6.1.1 gdown-4.4.0 janome-0.4.2 jmespath-1.0.1 langdetect-1.0.9 mpld3-0.3 pptree-3.1 pytorch-revgrad-0.2.0 s3transfer-0.6.1 safetensors-0.3.1 segtok-1.5.11 sentencepiece-0.1.99 sqlitedict-2.1.0 tokenizers-0.13.3 transformer-smaller-training-vocab-0.2.4 transformers-4.30.2 wikipedia-api-0.5.8\n"
          ]
        }
      ],
      "source": [
        "# Instalação da biblioteca 'flair' usando o pip\n",
        "!pip install flair\n"
      ]
    },
    {
      "cell_type": "code",
      "source": [
        "import os\n",
        "import requests\n",
        "import matplotlib.pyplot as plt\n",
        "\n",
        "\n",
        "from flair.data import Corpus\n",
        "from flair.datasets import ColumnCorpus\n",
        "from flair.embeddings import WordEmbeddings, StackedEmbeddings, TokenEmbeddings, FlairEmbeddings, TransformerWordEmbeddings\n",
        "from typing import List\n",
        "from flair.models import SequenceTagger\n",
        "from flair.trainers import ModelTrainer\n",
        "from flair.optim import SGDW\n"
      ],
      "metadata": {
        "id": "ctw8VIRMiw99"
      },
      "execution_count": null,
      "outputs": []
    },
    {
      "cell_type": "code",
      "source": [
        "# Diretório onde estão os arquivos de treinamento, teste e validação\n",
        "data_folder = \"/content/drive/MyDrive/dataset\"\n",
        "\n",
        "columns = {0: \"text\", 1: \"ner\"}\n",
        "\n",
        "# Carrega os dados do PET Dataset em um objeto Corpus do Flair\n",
        "pet = ColumnCorpus(data_folder, columns,\n",
        "                      train_file=\"train_pet.txt\",\n",
        "                      test_file=\"test_pet.txt\",\n",
        "                      dev_file=\"val_pet.txt\")\n",
        "\n",
        "# Carrega os dados do Wikineural Dataset em um objeto Corpus do Flair\n",
        "wikineural = ColumnCorpus(data_folder, columns,\n",
        "                      train_file=\"train_wikineural.txt\",\n",
        "                      test_file=\"test_wikineural.txt\",\n",
        "                      dev_file=\"val_wikineural.txt\")\n",
        "\n",
        "# Carrega os dados do conll03 Dataset em um objeto Corpus do Flair\n",
        "conll03 = ColumnCorpus(data_folder, columns,\n",
        "                      train_file=\"train_conll03.txt\",\n",
        "                      test_file=\"test_conll03.txt\",\n",
        "                      dev_file=\"val_conll03.txt\")\n",
        "\n",
        "# Define a lista de corpus para o experimento\n",
        "corpus_dataset = [pet, wikineural, conll03]\n",
        "\n",
        "# Define o tipo de tag\n",
        "tag_type = 'ner'"
      ],
      "metadata": {
        "id": "Yq2Oe14HmWjH",
        "colab": {
          "base_uri": "https://localhost:8080/"
        },
        "outputId": "02e7d7f1-43ae-4ce7-d78c-674b09d143e2"
      },
      "execution_count": null,
      "outputs": [
        {
          "output_type": "stream",
          "name": "stdout",
          "text": [
            "2023-06-29 16:23:07,564 Reading data from /content/drive/MyDrive/dataset\n",
            "2023-06-29 16:23:07,566 Train: /content/drive/MyDrive/dataset/train_pet.txt\n",
            "2023-06-29 16:23:07,567 Dev: /content/drive/MyDrive/dataset/val_pet.txt\n",
            "2023-06-29 16:23:07,568 Test: /content/drive/MyDrive/dataset/test_pet.txt\n",
            "2023-06-29 16:23:10,083 Reading data from /content/drive/MyDrive/dataset\n",
            "2023-06-29 16:23:10,085 Train: /content/drive/MyDrive/dataset/train_wikineural.txt\n",
            "2023-06-29 16:23:10,088 Dev: /content/drive/MyDrive/dataset/val_wikineural.txt\n",
            "2023-06-29 16:23:10,090 Test: /content/drive/MyDrive/dataset/test_wikineural.txt\n",
            "2023-06-29 16:23:19,456 Reading data from /content/drive/MyDrive/dataset\n",
            "2023-06-29 16:23:19,458 Train: /content/drive/MyDrive/dataset/train_conll03.txt\n",
            "2023-06-29 16:23:19,459 Dev: /content/drive/MyDrive/dataset/val_conll03.txt\n",
            "2023-06-29 16:23:19,461 Test: /content/drive/MyDrive/dataset/test_conll03.txt\n"
          ]
        }
      ]
    },
    {
      "cell_type": "markdown",
      "source": [
        "bi-LSTM"
      ],
      "metadata": {
        "id": "FF2YoALFrCk1"
      }
    },
    {
      "cell_type": "code",
      "source": [
        "for corpus in corpus_dataset:\n",
        "    # Cria um dicionário de tags usando o corpus combinado\n",
        "    tag_dictionary = corpus.make_label_dictionary(label_type=tag_type)\n",
        "\n",
        "    # Define o tipo de embeddings desejado\n",
        "    embedding_types: List[TokenEmbeddings] = [\n",
        "        FlairEmbeddings('news-forward'),\n",
        "        FlairEmbeddings('news-backward'),\n",
        "    ]\n",
        "\n",
        "    # Cria as embeddings empilhadas\n",
        "    embeddings: StackedEmbeddings = StackedEmbeddings(embeddings=embedding_types)\n",
        "\n",
        "    # Criação de um objeto SequenceTagger\n",
        "    tagger: SequenceTagger = SequenceTagger(\n",
        "        hidden_size=256,                   # Tamanho da camada oculta do modelo\n",
        "        embeddings=embeddings,             # Embeddings utilizados como entrada para o modelo\n",
        "        tag_dictionary=tag_dictionary,     # Dicionário de rótulos utilizado pelo modelo\n",
        "        tag_type=tag_type,                 # Tipo de rótulo utilizado (por exemplo, NER)\n",
        "        use_crf=True                      # Indicação de uso do CRF (Conditional Random Field) para decodificar as sequências de rótulos\n",
        "    )\n",
        "\n",
        "    # Treino do modelo Flair\n",
        "    trainer: ModelTrainer = ModelTrainer(tagger, corpus)\n",
        "    trainer.train(\n",
        "        f'resources/biLSTM/taggers/{corpus}',   # Diretório para salvar os resultados do treinamento\n",
        "        learning_rate=0.1,                      # Taxa de aprendizado\n",
        "        mini_batch_size=32,                     # Tamanho do mini-batch\n",
        "        optimizer=SGDW,                         # Otimizador\n",
        "        max_epochs=10                           # Número máximo de épocas\n",
        "    )\n"
      ],
      "metadata": {
        "id": "TK-yx_f9rbv_",
        "colab": {
          "base_uri": "https://localhost:8080/"
        },
        "outputId": "138a0fd1-ee89-41ef-f3cf-2ed60f014aad"
      },
      "execution_count": null,
      "outputs": [
        {
          "output_type": "stream",
          "name": "stdout",
          "text": [
            "2023-06-29 12:21:27,363 Computing label dictionary. Progress:\n"
          ]
        },
        {
          "output_type": "stream",
          "name": "stderr",
          "text": [
            "333it [00:00, 34756.83it/s]"
          ]
        },
        {
          "output_type": "stream",
          "name": "stdout",
          "text": [
            "2023-06-29 12:21:27,408 Dictionary created for label 'ner' with 8 values: ActivityData (seen 402 times), Activity (seen 400 times), Actor (seen 373 times), XORGateway (seen 93 times), ConditionSpecification (seen 72 times), FurtherSpecification (seen 60 times), ANDGateway (seen 6 times)\n"
          ]
        },
        {
          "output_type": "stream",
          "name": "stderr",
          "text": [
            "\n"
          ]
        },
        {
          "output_type": "stream",
          "name": "stdout",
          "text": [
            "2023-06-29 12:21:28,748 https://flair.informatik.hu-berlin.de/resources/embeddings/flair/news-forward-0.4.1.pt not found in cache, downloading to /tmp/tmp023p4wki\n"
          ]
        },
        {
          "output_type": "stream",
          "name": "stderr",
          "text": [
            "100%|██████████| 69.7M/69.7M [00:06<00:00, 10.6MB/s]"
          ]
        },
        {
          "output_type": "stream",
          "name": "stdout",
          "text": [
            "2023-06-29 12:21:36,364 copying /tmp/tmp023p4wki to cache at /root/.flair/embeddings/news-forward-0.4.1.pt\n",
            "2023-06-29 12:21:36,414 removing temp file /tmp/tmp023p4wki\n"
          ]
        },
        {
          "output_type": "stream",
          "name": "stderr",
          "text": [
            "\n"
          ]
        },
        {
          "output_type": "stream",
          "name": "stdout",
          "text": [
            "2023-06-29 12:21:47,323 https://flair.informatik.hu-berlin.de/resources/embeddings/flair/news-backward-0.4.1.pt not found in cache, downloading to /tmp/tmpz7n1hqzv\n"
          ]
        },
        {
          "output_type": "stream",
          "name": "stderr",
          "text": [
            "100%|██████████| 69.7M/69.7M [00:07<00:00, 10.3MB/s]"
          ]
        },
        {
          "output_type": "stream",
          "name": "stdout",
          "text": [
            "2023-06-29 12:21:55,107 copying /tmp/tmpz7n1hqzv to cache at /root/.flair/embeddings/news-backward-0.4.1.pt\n",
            "2023-06-29 12:21:55,158 removing temp file /tmp/tmpz7n1hqzv\n"
          ]
        },
        {
          "output_type": "stream",
          "name": "stderr",
          "text": [
            "\n"
          ]
        },
        {
          "output_type": "stream",
          "name": "stdout",
          "text": [
            "2023-06-29 12:21:55,391 SequenceTagger predicts: Dictionary with 29 tags: O, S-ActivityData, B-ActivityData, E-ActivityData, I-ActivityData, S-Activity, B-Activity, E-Activity, I-Activity, S-Actor, B-Actor, E-Actor, I-Actor, S-XORGateway, B-XORGateway, E-XORGateway, I-XORGateway, S-ConditionSpecification, B-ConditionSpecification, E-ConditionSpecification, I-ConditionSpecification, S-FurtherSpecification, B-FurtherSpecification, E-FurtherSpecification, I-FurtherSpecification, S-ANDGateway, B-ANDGateway, E-ANDGateway, I-ANDGateway\n",
            "2023-06-29 12:21:55,618 ----------------------------------------------------------------------------------------------------\n",
            "2023-06-29 12:21:55,620 Model: \"SequenceTagger(\n",
            "  (embeddings): StackedEmbeddings(\n",
            "    (list_embedding_0): FlairEmbeddings(\n",
            "      (lm): LanguageModel(\n",
            "        (drop): Dropout(p=0.05, inplace=False)\n",
            "        (encoder): Embedding(300, 100)\n",
            "        (rnn): LSTM(100, 2048)\n",
            "      )\n",
            "    )\n",
            "    (list_embedding_1): FlairEmbeddings(\n",
            "      (lm): LanguageModel(\n",
            "        (drop): Dropout(p=0.05, inplace=False)\n",
            "        (encoder): Embedding(300, 100)\n",
            "        (rnn): LSTM(100, 2048)\n",
            "      )\n",
            "    )\n",
            "  )\n",
            "  (word_dropout): WordDropout(p=0.05)\n",
            "  (locked_dropout): LockedDropout(p=0.5)\n",
            "  (embedding2nn): Linear(in_features=4096, out_features=4096, bias=True)\n",
            "  (rnn): LSTM(4096, 256, batch_first=True, bidirectional=True)\n",
            "  (linear): Linear(in_features=512, out_features=31, bias=True)\n",
            "  (loss_function): ViterbiLoss()\n",
            "  (crf): CRF()\n",
            ")\"\n",
            "2023-06-29 12:21:55,621 ----------------------------------------------------------------------------------------------------\n",
            "2023-06-29 12:21:55,622 Corpus: \"Corpus: 333 train + 41 dev + 41 test sentences\"\n",
            "2023-06-29 12:21:55,625 ----------------------------------------------------------------------------------------------------\n",
            "2023-06-29 12:21:55,627 Parameters:\n",
            "2023-06-29 12:21:55,628  - learning_rate: \"0.100000\"\n",
            "2023-06-29 12:21:55,629  - mini_batch_size: \"32\"\n",
            "2023-06-29 12:21:55,630  - patience: \"3\"\n",
            "2023-06-29 12:21:55,633  - anneal_factor: \"0.5\"\n",
            "2023-06-29 12:21:55,635  - max_epochs: \"10\"\n",
            "2023-06-29 12:21:55,636  - shuffle: \"True\"\n",
            "2023-06-29 12:21:55,638  - train_with_dev: \"False\"\n",
            "2023-06-29 12:21:55,640  - batch_growth_annealing: \"False\"\n",
            "2023-06-29 12:21:55,641 ----------------------------------------------------------------------------------------------------\n",
            "2023-06-29 12:21:55,643 Model training base path: \"resources/biLSTM/taggers/Corpus: 333 train + 41 dev + 41 test sentences\"\n",
            "2023-06-29 12:21:55,645 ----------------------------------------------------------------------------------------------------\n",
            "2023-06-29 12:21:55,647 Device: cuda:0\n",
            "2023-06-29 12:21:55,648 ----------------------------------------------------------------------------------------------------\n",
            "2023-06-29 12:21:55,649 Embeddings storage mode: cpu\n",
            "2023-06-29 12:21:55,653 ----------------------------------------------------------------------------------------------------\n",
            "2023-06-29 12:21:56,458 epoch 1 - iter 1/11 - loss 4.07596465 - time (sec): 0.80 - samples/sec: 724.98 - lr: 0.100000\n"
          ]
        },
        {
          "output_type": "stream",
          "name": "stderr",
          "text": [
            "/usr/local/lib/python3.10/dist-packages/flair/optim.py:132: UserWarning: This overload of add_ is deprecated:\n",
            "\tadd_(Number alpha, Tensor other)\n",
            "Consider using one of the following signatures instead:\n",
            "\tadd_(Tensor other, *, Number alpha) (Triggered internally at ../torch/csrc/utils/python_arg_parser.cpp:1485.)\n",
            "  p.data.add_(-group[\"lr\"], d_p)\n"
          ]
        },
        {
          "output_type": "stream",
          "name": "stdout",
          "text": [
            "2023-06-29 12:21:56,850 epoch 1 - iter 2/11 - loss 3.87610577 - time (sec): 1.19 - samples/sec: 1017.10 - lr: 0.100000\n",
            "2023-06-29 12:21:57,258 epoch 1 - iter 3/11 - loss 3.67065225 - time (sec): 1.60 - samples/sec: 1117.32 - lr: 0.100000\n",
            "2023-06-29 12:21:57,543 epoch 1 - iter 4/11 - loss 3.52794966 - time (sec): 1.89 - samples/sec: 1281.30 - lr: 0.100000\n",
            "2023-06-29 12:21:57,827 epoch 1 - iter 5/11 - loss 3.35529550 - time (sec): 2.17 - samples/sec: 1375.13 - lr: 0.100000\n",
            "2023-06-29 12:21:58,163 epoch 1 - iter 6/11 - loss 3.27031985 - time (sec): 2.51 - samples/sec: 1404.46 - lr: 0.100000\n",
            "2023-06-29 12:21:58,585 epoch 1 - iter 7/11 - loss 3.17550676 - time (sec): 2.93 - samples/sec: 1400.70 - lr: 0.100000\n",
            "2023-06-29 12:21:59,019 epoch 1 - iter 8/11 - loss 3.10372646 - time (sec): 3.36 - samples/sec: 1387.11 - lr: 0.100000\n",
            "2023-06-29 12:21:59,360 epoch 1 - iter 9/11 - loss 3.07668153 - time (sec): 3.70 - samples/sec: 1424.72 - lr: 0.100000\n",
            "2023-06-29 12:21:59,635 epoch 1 - iter 10/11 - loss 3.04079095 - time (sec): 3.98 - samples/sec: 1453.22 - lr: 0.100000\n",
            "2023-06-29 12:21:59,835 epoch 1 - iter 11/11 - loss 3.01863168 - time (sec): 4.18 - samples/sec: 1445.75 - lr: 0.100000\n",
            "2023-06-29 12:21:59,838 ----------------------------------------------------------------------------------------------------\n",
            "2023-06-29 12:21:59,840 EPOCH 1 done: loss 3.0186 - lr 0.100000\n"
          ]
        },
        {
          "output_type": "stream",
          "name": "stderr",
          "text": [
            "100%|██████████| 2/2 [00:00<00:00,  3.68it/s]"
          ]
        },
        {
          "output_type": "stream",
          "name": "stdout",
          "text": [
            "2023-06-29 12:22:00,391 Evaluating as a multi-label problem: False\n",
            "2023-06-29 12:22:00,417 DEV : loss 2.494774341583252 - f1-score (micro avg)  0.0268\n",
            "2023-06-29 12:22:00,424 BAD EPOCHS (no improvement): 0\n",
            "2023-06-29 12:22:00,426 saving best model\n"
          ]
        },
        {
          "output_type": "stream",
          "name": "stderr",
          "text": [
            "\n"
          ]
        },
        {
          "output_type": "stream",
          "name": "stdout",
          "text": [
            "2023-06-29 12:22:00,946 ----------------------------------------------------------------------------------------------------\n",
            "2023-06-29 12:22:01,034 epoch 2 - iter 1/11 - loss 2.55745308 - time (sec): 0.09 - samples/sec: 6707.10 - lr: 0.100000\n",
            "2023-06-29 12:22:01,139 epoch 2 - iter 2/11 - loss 2.46871696 - time (sec): 0.19 - samples/sec: 6031.13 - lr: 0.100000\n",
            "2023-06-29 12:22:01,232 epoch 2 - iter 3/11 - loss 2.53165150 - time (sec): 0.28 - samples/sec: 6063.03 - lr: 0.100000\n",
            "2023-06-29 12:22:01,312 epoch 2 - iter 4/11 - loss 2.53690711 - time (sec): 0.36 - samples/sec: 6240.48 - lr: 0.100000\n",
            "2023-06-29 12:22:01,397 epoch 2 - iter 5/11 - loss 2.60435880 - time (sec): 0.45 - samples/sec: 6302.28 - lr: 0.100000\n",
            "2023-06-29 12:22:01,513 epoch 2 - iter 6/11 - loss 2.55684079 - time (sec): 0.56 - samples/sec: 6139.06 - lr: 0.100000\n",
            "2023-06-29 12:22:01,599 epoch 2 - iter 7/11 - loss 2.54623792 - time (sec): 0.65 - samples/sec: 6235.22 - lr: 0.100000\n",
            "2023-06-29 12:22:01,695 epoch 2 - iter 8/11 - loss 2.52125455 - time (sec): 0.75 - samples/sec: 6331.95 - lr: 0.100000\n",
            "2023-06-29 12:22:01,805 epoch 2 - iter 9/11 - loss 2.49562882 - time (sec): 0.86 - samples/sec: 6247.73 - lr: 0.100000\n",
            "2023-06-29 12:22:01,883 epoch 2 - iter 10/11 - loss 2.48581521 - time (sec): 0.93 - samples/sec: 6244.43 - lr: 0.100000\n",
            "2023-06-29 12:22:01,932 epoch 2 - iter 11/11 - loss 2.47861336 - time (sec): 0.98 - samples/sec: 6146.31 - lr: 0.100000\n",
            "2023-06-29 12:22:01,934 ----------------------------------------------------------------------------------------------------\n",
            "2023-06-29 12:22:01,935 EPOCH 2 done: loss 2.4786 - lr 0.100000\n"
          ]
        },
        {
          "output_type": "stream",
          "name": "stderr",
          "text": [
            "100%|██████████| 2/2 [00:00<00:00, 12.55it/s]"
          ]
        },
        {
          "output_type": "stream",
          "name": "stdout",
          "text": [
            "2023-06-29 12:22:02,103 Evaluating as a multi-label problem: False\n",
            "2023-06-29 12:22:02,117 DEV : loss 2.3401808738708496 - f1-score (micro avg)  0.0327\n",
            "2023-06-29 12:22:02,122 BAD EPOCHS (no improvement): 0\n",
            "2023-06-29 12:22:02,124 saving best model\n"
          ]
        },
        {
          "output_type": "stream",
          "name": "stderr",
          "text": [
            "\n"
          ]
        },
        {
          "output_type": "stream",
          "name": "stdout",
          "text": [
            "2023-06-29 12:22:02,685 ----------------------------------------------------------------------------------------------------\n",
            "2023-06-29 12:22:02,786 epoch 3 - iter 1/11 - loss 2.25950932 - time (sec): 0.10 - samples/sec: 6057.50 - lr: 0.100000\n",
            "2023-06-29 12:22:02,869 epoch 3 - iter 2/11 - loss 2.37493826 - time (sec): 0.18 - samples/sec: 6190.98 - lr: 0.100000\n",
            "2023-06-29 12:22:02,960 epoch 3 - iter 3/11 - loss 2.32370597 - time (sec): 0.27 - samples/sec: 6088.32 - lr: 0.100000\n",
            "2023-06-29 12:22:03,055 epoch 3 - iter 4/11 - loss 2.41748621 - time (sec): 0.37 - samples/sec: 6022.98 - lr: 0.100000\n",
            "2023-06-29 12:22:03,163 epoch 3 - iter 5/11 - loss 2.37773459 - time (sec): 0.48 - samples/sec: 6084.75 - lr: 0.100000\n",
            "2023-06-29 12:22:03,273 epoch 3 - iter 6/11 - loss 2.33356202 - time (sec): 0.59 - samples/sec: 5912.66 - lr: 0.100000\n",
            "2023-06-29 12:22:03,364 epoch 3 - iter 7/11 - loss 2.33146425 - time (sec): 0.68 - samples/sec: 6007.61 - lr: 0.100000\n",
            "2023-06-29 12:22:03,471 epoch 3 - iter 8/11 - loss 2.32972812 - time (sec): 0.78 - samples/sec: 5897.74 - lr: 0.100000\n",
            "2023-06-29 12:22:03,581 epoch 3 - iter 9/11 - loss 2.30345934 - time (sec): 0.89 - samples/sec: 5767.69 - lr: 0.100000\n",
            "2023-06-29 12:22:03,671 epoch 3 - iter 10/11 - loss 2.34741906 - time (sec): 0.98 - samples/sec: 5875.42 - lr: 0.100000\n",
            "2023-06-29 12:22:03,728 epoch 3 - iter 11/11 - loss 2.34160941 - time (sec): 1.04 - samples/sec: 5807.95 - lr: 0.100000\n",
            "2023-06-29 12:22:03,730 ----------------------------------------------------------------------------------------------------\n",
            "2023-06-29 12:22:03,731 EPOCH 3 done: loss 2.3416 - lr 0.100000\n"
          ]
        },
        {
          "output_type": "stream",
          "name": "stderr",
          "text": [
            "100%|██████████| 2/2 [00:00<00:00, 12.58it/s]"
          ]
        },
        {
          "output_type": "stream",
          "name": "stdout",
          "text": [
            "2023-06-29 12:22:03,898 Evaluating as a multi-label problem: False\n",
            "2023-06-29 12:22:03,915 DEV : loss 2.315054416656494 - f1-score (micro avg)  0.0\n",
            "2023-06-29 12:22:03,920 BAD EPOCHS (no improvement): 1\n",
            "2023-06-29 12:22:03,921 ----------------------------------------------------------------------------------------------------\n"
          ]
        },
        {
          "output_type": "stream",
          "name": "stderr",
          "text": [
            "\n"
          ]
        },
        {
          "output_type": "stream",
          "name": "stdout",
          "text": [
            "2023-06-29 12:22:04,010 epoch 4 - iter 1/11 - loss 2.02214694 - time (sec): 0.09 - samples/sec: 6154.31 - lr: 0.100000\n",
            "2023-06-29 12:22:04,097 epoch 4 - iter 2/11 - loss 2.27465363 - time (sec): 0.17 - samples/sec: 6600.16 - lr: 0.100000\n",
            "2023-06-29 12:22:04,200 epoch 4 - iter 3/11 - loss 2.32857604 - time (sec): 0.28 - samples/sec: 6355.94 - lr: 0.100000\n",
            "2023-06-29 12:22:04,287 epoch 4 - iter 4/11 - loss 2.29431216 - time (sec): 0.36 - samples/sec: 6292.68 - lr: 0.100000\n",
            "2023-06-29 12:22:04,405 epoch 4 - iter 5/11 - loss 2.22072788 - time (sec): 0.48 - samples/sec: 6113.95 - lr: 0.100000\n",
            "2023-06-29 12:22:04,494 epoch 4 - iter 6/11 - loss 2.21816752 - time (sec): 0.57 - samples/sec: 6072.15 - lr: 0.100000\n",
            "2023-06-29 12:22:04,593 epoch 4 - iter 7/11 - loss 2.19000517 - time (sec): 0.67 - samples/sec: 6081.91 - lr: 0.100000\n",
            "2023-06-29 12:22:04,709 epoch 4 - iter 8/11 - loss 2.18322636 - time (sec): 0.79 - samples/sec: 5953.60 - lr: 0.100000\n",
            "2023-06-29 12:22:04,819 epoch 4 - iter 9/11 - loss 2.19995263 - time (sec): 0.90 - samples/sec: 5907.03 - lr: 0.100000\n",
            "2023-06-29 12:22:04,901 epoch 4 - iter 10/11 - loss 2.20229061 - time (sec): 0.98 - samples/sec: 5965.77 - lr: 0.100000\n",
            "2023-06-29 12:22:04,952 epoch 4 - iter 11/11 - loss 2.19979572 - time (sec): 1.03 - samples/sec: 5871.42 - lr: 0.100000\n",
            "2023-06-29 12:22:04,955 ----------------------------------------------------------------------------------------------------\n",
            "2023-06-29 12:22:04,957 EPOCH 4 done: loss 2.1998 - lr 0.100000\n"
          ]
        },
        {
          "output_type": "stream",
          "name": "stderr",
          "text": [
            "100%|██████████| 2/2 [00:00<00:00, 12.93it/s]"
          ]
        },
        {
          "output_type": "stream",
          "name": "stdout",
          "text": [
            "2023-06-29 12:22:05,118 Evaluating as a multi-label problem: False\n",
            "2023-06-29 12:22:05,133 DEV : loss 2.1784143447875977 - f1-score (micro avg)  0.0327\n",
            "2023-06-29 12:22:05,138 BAD EPOCHS (no improvement): 0\n",
            "2023-06-29 12:22:05,139 ----------------------------------------------------------------------------------------------------\n"
          ]
        },
        {
          "output_type": "stream",
          "name": "stderr",
          "text": [
            "\n"
          ]
        },
        {
          "output_type": "stream",
          "name": "stdout",
          "text": [
            "2023-06-29 12:22:05,230 epoch 5 - iter 1/11 - loss 2.28735536 - time (sec): 0.09 - samples/sec: 6682.71 - lr: 0.100000\n",
            "2023-06-29 12:22:05,311 epoch 5 - iter 2/11 - loss 2.30423310 - time (sec): 0.17 - samples/sec: 6920.07 - lr: 0.100000\n",
            "2023-06-29 12:22:05,395 epoch 5 - iter 3/11 - loss 2.24075525 - time (sec): 0.25 - samples/sec: 6587.10 - lr: 0.100000\n",
            "2023-06-29 12:22:05,476 epoch 5 - iter 4/11 - loss 2.23605582 - time (sec): 0.34 - samples/sec: 6606.18 - lr: 0.100000\n",
            "2023-06-29 12:22:05,585 epoch 5 - iter 5/11 - loss 2.20309149 - time (sec): 0.44 - samples/sec: 6451.58 - lr: 0.100000\n",
            "2023-06-29 12:22:05,675 epoch 5 - iter 6/11 - loss 2.19866994 - time (sec): 0.53 - samples/sec: 6523.50 - lr: 0.100000\n",
            "2023-06-29 12:22:05,755 epoch 5 - iter 7/11 - loss 2.17207119 - time (sec): 0.61 - samples/sec: 6462.01 - lr: 0.100000\n",
            "2023-06-29 12:22:05,852 epoch 5 - iter 8/11 - loss 2.14704742 - time (sec): 0.71 - samples/sec: 6486.96 - lr: 0.100000\n",
            "2023-06-29 12:22:05,942 epoch 5 - iter 9/11 - loss 2.14659295 - time (sec): 0.80 - samples/sec: 6482.27 - lr: 0.100000\n",
            "2023-06-29 12:22:06,048 epoch 5 - iter 10/11 - loss 2.11336396 - time (sec): 0.91 - samples/sec: 6389.16 - lr: 0.100000\n",
            "2023-06-29 12:22:06,115 epoch 5 - iter 11/11 - loss 2.10721169 - time (sec): 0.97 - samples/sec: 6202.86 - lr: 0.100000\n",
            "2023-06-29 12:22:06,117 ----------------------------------------------------------------------------------------------------\n",
            "2023-06-29 12:22:06,119 EPOCH 5 done: loss 2.1072 - lr 0.100000\n"
          ]
        },
        {
          "output_type": "stream",
          "name": "stderr",
          "text": [
            "100%|██████████| 2/2 [00:00<00:00, 13.17it/s]"
          ]
        },
        {
          "output_type": "stream",
          "name": "stdout",
          "text": [
            "2023-06-29 12:22:06,277 Evaluating as a multi-label problem: False\n",
            "2023-06-29 12:22:06,292 DEV : loss 2.0896008014678955 - f1-score (micro avg)  0.0\n",
            "2023-06-29 12:22:06,299 BAD EPOCHS (no improvement): 1\n",
            "2023-06-29 12:22:06,301 ----------------------------------------------------------------------------------------------------\n"
          ]
        },
        {
          "output_type": "stream",
          "name": "stderr",
          "text": [
            "\n"
          ]
        },
        {
          "output_type": "stream",
          "name": "stdout",
          "text": [
            "2023-06-29 12:22:06,500 epoch 6 - iter 1/11 - loss 2.04974308 - time (sec): 0.20 - samples/sec: 2721.74 - lr: 0.100000\n",
            "2023-06-29 12:22:06,646 epoch 6 - iter 2/11 - loss 1.94105102 - time (sec): 0.34 - samples/sec: 3469.88 - lr: 0.100000\n",
            "2023-06-29 12:22:06,735 epoch 6 - iter 3/11 - loss 1.95488870 - time (sec): 0.43 - samples/sec: 3865.11 - lr: 0.100000\n",
            "2023-06-29 12:22:06,822 epoch 6 - iter 4/11 - loss 2.00782311 - time (sec): 0.52 - samples/sec: 4303.14 - lr: 0.100000\n",
            "2023-06-29 12:22:06,940 epoch 6 - iter 5/11 - loss 1.95901067 - time (sec): 0.64 - samples/sec: 4622.13 - lr: 0.100000\n",
            "2023-06-29 12:22:07,020 epoch 6 - iter 6/11 - loss 1.96616472 - time (sec): 0.72 - samples/sec: 4897.12 - lr: 0.100000\n",
            "2023-06-29 12:22:07,106 epoch 6 - iter 7/11 - loss 1.98833119 - time (sec): 0.80 - samples/sec: 5044.32 - lr: 0.100000\n",
            "2023-06-29 12:22:07,188 epoch 6 - iter 8/11 - loss 1.99674039 - time (sec): 0.88 - samples/sec: 5241.85 - lr: 0.100000\n",
            "2023-06-29 12:22:07,359 epoch 6 - iter 9/11 - loss 1.98005098 - time (sec): 1.06 - samples/sec: 4922.22 - lr: 0.100000\n",
            "2023-06-29 12:22:07,521 epoch 6 - iter 10/11 - loss 1.98992523 - time (sec): 1.22 - samples/sec: 4749.25 - lr: 0.100000\n",
            "2023-06-29 12:22:07,582 epoch 6 - iter 11/11 - loss 2.00318078 - time (sec): 1.28 - samples/sec: 4723.66 - lr: 0.100000\n",
            "2023-06-29 12:22:07,585 ----------------------------------------------------------------------------------------------------\n",
            "2023-06-29 12:22:07,586 EPOCH 6 done: loss 2.0032 - lr 0.100000\n"
          ]
        },
        {
          "output_type": "stream",
          "name": "stderr",
          "text": [
            "100%|██████████| 2/2 [00:00<00:00, 13.27it/s]"
          ]
        },
        {
          "output_type": "stream",
          "name": "stdout",
          "text": [
            "2023-06-29 12:22:07,743 Evaluating as a multi-label problem: False\n",
            "2023-06-29 12:22:07,757 DEV : loss 2.024792432785034 - f1-score (micro avg)  0.0214\n",
            "2023-06-29 12:22:07,761 BAD EPOCHS (no improvement): 2\n",
            "2023-06-29 12:22:07,763 ----------------------------------------------------------------------------------------------------\n"
          ]
        },
        {
          "output_type": "stream",
          "name": "stderr",
          "text": [
            "\n"
          ]
        },
        {
          "output_type": "stream",
          "name": "stdout",
          "text": [
            "2023-06-29 12:22:07,871 epoch 7 - iter 1/11 - loss 1.96793800 - time (sec): 0.11 - samples/sec: 5470.79 - lr: 0.100000\n",
            "2023-06-29 12:22:07,961 epoch 7 - iter 2/11 - loss 2.01324092 - time (sec): 0.20 - samples/sec: 6273.96 - lr: 0.100000\n",
            "2023-06-29 12:22:08,047 epoch 7 - iter 3/11 - loss 2.00726887 - time (sec): 0.28 - samples/sec: 6336.12 - lr: 0.100000\n",
            "2023-06-29 12:22:08,133 epoch 7 - iter 4/11 - loss 1.95255116 - time (sec): 0.37 - samples/sec: 6355.88 - lr: 0.100000\n",
            "2023-06-29 12:22:08,299 epoch 7 - iter 5/11 - loss 1.93090960 - time (sec): 0.53 - samples/sec: 5559.75 - lr: 0.100000\n",
            "2023-06-29 12:22:08,438 epoch 7 - iter 6/11 - loss 1.93738878 - time (sec): 0.67 - samples/sec: 5254.99 - lr: 0.100000\n",
            "2023-06-29 12:22:08,551 epoch 7 - iter 7/11 - loss 1.94644321 - time (sec): 0.79 - samples/sec: 5280.47 - lr: 0.100000\n",
            "2023-06-29 12:22:08,630 epoch 7 - iter 8/11 - loss 1.92991847 - time (sec): 0.87 - samples/sec: 5385.72 - lr: 0.100000\n",
            "2023-06-29 12:22:08,724 epoch 7 - iter 9/11 - loss 1.92422046 - time (sec): 0.96 - samples/sec: 5448.98 - lr: 0.100000\n",
            "2023-06-29 12:22:08,809 epoch 7 - iter 10/11 - loss 1.92272841 - time (sec): 1.04 - samples/sec: 5596.60 - lr: 0.100000\n",
            "2023-06-29 12:22:08,851 epoch 7 - iter 11/11 - loss 1.92157180 - time (sec): 1.09 - samples/sec: 5562.05 - lr: 0.100000\n",
            "2023-06-29 12:22:08,853 ----------------------------------------------------------------------------------------------------\n",
            "2023-06-29 12:22:08,854 EPOCH 7 done: loss 1.9216 - lr 0.100000\n"
          ]
        },
        {
          "output_type": "stream",
          "name": "stderr",
          "text": [
            "100%|██████████| 2/2 [00:00<00:00, 13.66it/s]"
          ]
        },
        {
          "output_type": "stream",
          "name": "stdout",
          "text": [
            "2023-06-29 12:22:09,008 Evaluating as a multi-label problem: False\n",
            "2023-06-29 12:22:09,021 DEV : loss 1.9129881858825684 - f1-score (micro avg)  0.0\n",
            "2023-06-29 12:22:09,026 BAD EPOCHS (no improvement): 3\n",
            "2023-06-29 12:22:09,028 ----------------------------------------------------------------------------------------------------\n"
          ]
        },
        {
          "output_type": "stream",
          "name": "stderr",
          "text": [
            "\n"
          ]
        },
        {
          "output_type": "stream",
          "name": "stdout",
          "text": [
            "2023-06-29 12:22:09,113 epoch 8 - iter 1/11 - loss 1.87953366 - time (sec): 0.08 - samples/sec: 7528.83 - lr: 0.100000\n",
            "2023-06-29 12:22:09,195 epoch 8 - iter 2/11 - loss 1.86675166 - time (sec): 0.17 - samples/sec: 7334.16 - lr: 0.100000\n",
            "2023-06-29 12:22:09,303 epoch 8 - iter 3/11 - loss 1.88927282 - time (sec): 0.27 - samples/sec: 6957.75 - lr: 0.100000\n",
            "2023-06-29 12:22:09,404 epoch 8 - iter 4/11 - loss 1.95803415 - time (sec): 0.38 - samples/sec: 6678.14 - lr: 0.100000\n",
            "2023-06-29 12:22:09,503 epoch 8 - iter 5/11 - loss 1.93544880 - time (sec): 0.47 - samples/sec: 6556.66 - lr: 0.100000\n",
            "2023-06-29 12:22:09,585 epoch 8 - iter 6/11 - loss 1.89619038 - time (sec): 0.56 - samples/sec: 6542.33 - lr: 0.100000\n",
            "2023-06-29 12:22:09,670 epoch 8 - iter 7/11 - loss 1.85303504 - time (sec): 0.64 - samples/sec: 6502.71 - lr: 0.100000\n",
            "2023-06-29 12:22:09,755 epoch 8 - iter 8/11 - loss 1.84486673 - time (sec): 0.73 - samples/sec: 6553.01 - lr: 0.100000\n",
            "2023-06-29 12:22:09,829 epoch 8 - iter 9/11 - loss 1.85730340 - time (sec): 0.80 - samples/sec: 6607.66 - lr: 0.100000\n",
            "2023-06-29 12:22:09,913 epoch 8 - iter 10/11 - loss 1.85644458 - time (sec): 0.88 - samples/sec: 6596.30 - lr: 0.100000\n",
            "2023-06-29 12:22:09,979 epoch 8 - iter 11/11 - loss 1.84637273 - time (sec): 0.95 - samples/sec: 6357.54 - lr: 0.100000\n",
            "2023-06-29 12:22:09,981 ----------------------------------------------------------------------------------------------------\n",
            "2023-06-29 12:22:09,983 EPOCH 8 done: loss 1.8464 - lr 0.100000\n"
          ]
        },
        {
          "output_type": "stream",
          "name": "stderr",
          "text": [
            "100%|██████████| 2/2 [00:00<00:00, 12.96it/s]"
          ]
        },
        {
          "output_type": "stream",
          "name": "stdout",
          "text": [
            "2023-06-29 12:22:10,145 Evaluating as a multi-label problem: False\n",
            "2023-06-29 12:22:10,158 DEV : loss 1.8976914882659912 - f1-score (micro avg)  0.0114\n",
            "2023-06-29 12:22:10,163 Epoch     8: reducing learning rate of group 0 to 5.0000e-02.\n",
            "2023-06-29 12:22:10,164 BAD EPOCHS (no improvement): 4\n",
            "2023-06-29 12:22:10,167 ----------------------------------------------------------------------------------------------------\n"
          ]
        },
        {
          "output_type": "stream",
          "name": "stderr",
          "text": [
            "\n"
          ]
        },
        {
          "output_type": "stream",
          "name": "stdout",
          "text": [
            "2023-06-29 12:22:10,275 epoch 9 - iter 1/11 - loss 1.74994885 - time (sec): 0.11 - samples/sec: 6007.19 - lr: 0.050000\n",
            "2023-06-29 12:22:10,365 epoch 9 - iter 2/11 - loss 1.71187626 - time (sec): 0.20 - samples/sec: 6353.14 - lr: 0.050000\n",
            "2023-06-29 12:22:10,455 epoch 9 - iter 3/11 - loss 1.70906362 - time (sec): 0.29 - samples/sec: 6185.61 - lr: 0.050000\n",
            "2023-06-29 12:22:10,537 epoch 9 - iter 4/11 - loss 1.67575136 - time (sec): 0.37 - samples/sec: 6270.54 - lr: 0.050000\n",
            "2023-06-29 12:22:10,624 epoch 9 - iter 5/11 - loss 1.66790219 - time (sec): 0.46 - samples/sec: 6249.25 - lr: 0.050000\n",
            "2023-06-29 12:22:10,729 epoch 9 - iter 6/11 - loss 1.64499713 - time (sec): 0.56 - samples/sec: 6227.98 - lr: 0.050000\n",
            "2023-06-29 12:22:10,811 epoch 9 - iter 7/11 - loss 1.66923748 - time (sec): 0.64 - samples/sec: 6338.48 - lr: 0.050000\n",
            "2023-06-29 12:22:10,892 epoch 9 - iter 8/11 - loss 1.65627596 - time (sec): 0.72 - samples/sec: 6352.53 - lr: 0.050000\n",
            "2023-06-29 12:22:10,974 epoch 9 - iter 9/11 - loss 1.69526733 - time (sec): 0.81 - samples/sec: 6472.20 - lr: 0.050000\n",
            "2023-06-29 12:22:11,071 epoch 9 - iter 10/11 - loss 1.70192211 - time (sec): 0.90 - samples/sec: 6362.54 - lr: 0.050000\n",
            "2023-06-29 12:22:11,130 epoch 9 - iter 11/11 - loss 1.71191914 - time (sec): 0.96 - samples/sec: 6284.59 - lr: 0.050000\n",
            "2023-06-29 12:22:11,131 ----------------------------------------------------------------------------------------------------\n",
            "2023-06-29 12:22:11,134 EPOCH 9 done: loss 1.7119 - lr 0.050000\n"
          ]
        },
        {
          "output_type": "stream",
          "name": "stderr",
          "text": [
            "100%|██████████| 2/2 [00:00<00:00, 12.59it/s]"
          ]
        },
        {
          "output_type": "stream",
          "name": "stdout",
          "text": [
            "2023-06-29 12:22:11,300 Evaluating as a multi-label problem: False\n",
            "2023-06-29 12:22:11,314 DEV : loss 1.7862573862075806 - f1-score (micro avg)  0.0\n",
            "2023-06-29 12:22:11,320 BAD EPOCHS (no improvement): 1\n",
            "2023-06-29 12:22:11,322 ----------------------------------------------------------------------------------------------------\n"
          ]
        },
        {
          "output_type": "stream",
          "name": "stderr",
          "text": [
            "\n"
          ]
        },
        {
          "output_type": "stream",
          "name": "stdout",
          "text": [
            "2023-06-29 12:22:11,432 epoch 10 - iter 1/11 - loss 1.75762773 - time (sec): 0.11 - samples/sec: 5745.79 - lr: 0.050000\n",
            "2023-06-29 12:22:11,507 epoch 10 - iter 2/11 - loss 1.74818052 - time (sec): 0.18 - samples/sec: 6060.91 - lr: 0.050000\n",
            "2023-06-29 12:22:11,597 epoch 10 - iter 3/11 - loss 1.73681990 - time (sec): 0.27 - samples/sec: 6119.21 - lr: 0.050000\n",
            "2023-06-29 12:22:11,691 epoch 10 - iter 4/11 - loss 1.63712730 - time (sec): 0.37 - samples/sec: 6186.46 - lr: 0.050000\n",
            "2023-06-29 12:22:11,795 epoch 10 - iter 5/11 - loss 1.63376174 - time (sec): 0.47 - samples/sec: 6080.92 - lr: 0.050000\n",
            "2023-06-29 12:22:11,906 epoch 10 - iter 6/11 - loss 1.65449193 - time (sec): 0.58 - samples/sec: 6078.96 - lr: 0.050000\n",
            "2023-06-29 12:22:12,010 epoch 10 - iter 7/11 - loss 1.62838799 - time (sec): 0.69 - samples/sec: 6057.98 - lr: 0.050000\n",
            "2023-06-29 12:22:12,093 epoch 10 - iter 8/11 - loss 1.60996401 - time (sec): 0.77 - samples/sec: 6164.07 - lr: 0.050000\n",
            "2023-06-29 12:22:12,177 epoch 10 - iter 9/11 - loss 1.63714046 - time (sec): 0.85 - samples/sec: 6171.12 - lr: 0.050000\n",
            "2023-06-29 12:22:12,260 epoch 10 - iter 10/11 - loss 1.64626882 - time (sec): 0.94 - samples/sec: 6176.71 - lr: 0.050000\n",
            "2023-06-29 12:22:12,312 epoch 10 - iter 11/11 - loss 1.65185092 - time (sec): 0.99 - samples/sec: 6109.75 - lr: 0.050000\n",
            "2023-06-29 12:22:12,314 ----------------------------------------------------------------------------------------------------\n",
            "2023-06-29 12:22:12,315 EPOCH 10 done: loss 1.6519 - lr 0.050000\n"
          ]
        },
        {
          "output_type": "stream",
          "name": "stderr",
          "text": [
            "100%|██████████| 2/2 [00:00<00:00, 12.86it/s]"
          ]
        },
        {
          "output_type": "stream",
          "name": "stdout",
          "text": [
            "2023-06-29 12:22:12,480 Evaluating as a multi-label problem: False\n",
            "2023-06-29 12:22:12,495 DEV : loss 1.75054931640625 - f1-score (micro avg)  0.0\n",
            "2023-06-29 12:22:12,501 BAD EPOCHS (no improvement): 2\n"
          ]
        },
        {
          "output_type": "stream",
          "name": "stderr",
          "text": [
            "\n"
          ]
        },
        {
          "output_type": "stream",
          "name": "stdout",
          "text": [
            "2023-06-29 12:22:12,955 ----------------------------------------------------------------------------------------------------\n",
            "2023-06-29 12:22:13,791 SequenceTagger predicts: Dictionary with 31 tags: O, S-ActivityData, B-ActivityData, E-ActivityData, I-ActivityData, S-Activity, B-Activity, E-Activity, I-Activity, S-Actor, B-Actor, E-Actor, I-Actor, S-XORGateway, B-XORGateway, E-XORGateway, I-XORGateway, S-ConditionSpecification, B-ConditionSpecification, E-ConditionSpecification, I-ConditionSpecification, S-FurtherSpecification, B-FurtherSpecification, E-FurtherSpecification, I-FurtherSpecification, S-ANDGateway, B-ANDGateway, E-ANDGateway, I-ANDGateway, <START>, <STOP>\n"
          ]
        },
        {
          "output_type": "stream",
          "name": "stderr",
          "text": [
            "100%|██████████| 2/2 [00:00<00:00,  4.04it/s]"
          ]
        },
        {
          "output_type": "stream",
          "name": "stdout",
          "text": [
            "2023-06-29 12:22:14,586 Evaluating as a multi-label problem: False\n",
            "2023-06-29 12:22:14,614 0.0732\t0.0308\t0.0433\t0.0236\n",
            "2023-06-29 12:22:14,617 \n",
            "Results:\n",
            "- F-score (micro) 0.0433\n",
            "- F-score (macro) 0.012\n",
            "- Accuracy 0.0236\n",
            "\n",
            "By class:\n",
            "                        precision    recall  f1-score   support\n",
            "\n",
            "          ActivityData     0.0732    0.0984    0.0839        61\n",
            "              Activity     0.0000    0.0000    0.0000        60\n",
            "                 Actor     0.0000    0.0000    0.0000        51\n",
            "            XORGateway     0.0000    0.0000    0.0000        10\n",
            "ConditionSpecification     0.0000    0.0000    0.0000         7\n",
            "  FurtherSpecification     0.0000    0.0000    0.0000         4\n",
            "            ANDGateway     0.0000    0.0000    0.0000         2\n",
            "\n",
            "             micro avg     0.0732    0.0308    0.0433       195\n",
            "             macro avg     0.0105    0.0141    0.0120       195\n",
            "          weighted avg     0.0229    0.0308    0.0263       195\n",
            "\n",
            "2023-06-29 12:22:14,619 ----------------------------------------------------------------------------------------------------\n",
            "2023-06-29 12:22:14,621 Computing label dictionary. Progress:\n"
          ]
        },
        {
          "output_type": "stream",
          "name": "stderr",
          "text": [
            "\n",
            "14000it [00:00, 41160.52it/s]"
          ]
        },
        {
          "output_type": "stream",
          "name": "stdout",
          "text": [
            "2023-06-29 12:22:14,972 Dictionary created for label 'ner' with 5 values: LOC (seen 8302 times), PER (seen 6286 times), MISC (seen 5873 times), ORG (seen 3664 times)\n"
          ]
        },
        {
          "output_type": "stream",
          "name": "stderr",
          "text": [
            "\n"
          ]
        },
        {
          "output_type": "stream",
          "name": "stdout",
          "text": [
            "2023-06-29 12:22:15,430 SequenceTagger predicts: Dictionary with 17 tags: O, S-LOC, B-LOC, E-LOC, I-LOC, S-PER, B-PER, E-PER, I-PER, S-MISC, B-MISC, E-MISC, I-MISC, S-ORG, B-ORG, E-ORG, I-ORG\n",
            "2023-06-29 12:22:15,647 ----------------------------------------------------------------------------------------------------\n",
            "2023-06-29 12:22:15,649 Model: \"SequenceTagger(\n",
            "  (embeddings): StackedEmbeddings(\n",
            "    (list_embedding_0): FlairEmbeddings(\n",
            "      (lm): LanguageModel(\n",
            "        (drop): Dropout(p=0.05, inplace=False)\n",
            "        (encoder): Embedding(300, 100)\n",
            "        (rnn): LSTM(100, 2048)\n",
            "      )\n",
            "    )\n",
            "    (list_embedding_1): FlairEmbeddings(\n",
            "      (lm): LanguageModel(\n",
            "        (drop): Dropout(p=0.05, inplace=False)\n",
            "        (encoder): Embedding(300, 100)\n",
            "        (rnn): LSTM(100, 2048)\n",
            "      )\n",
            "    )\n",
            "  )\n",
            "  (word_dropout): WordDropout(p=0.05)\n",
            "  (locked_dropout): LockedDropout(p=0.5)\n",
            "  (embedding2nn): Linear(in_features=4096, out_features=4096, bias=True)\n",
            "  (rnn): LSTM(4096, 256, batch_first=True, bidirectional=True)\n",
            "  (linear): Linear(in_features=512, out_features=19, bias=True)\n",
            "  (loss_function): ViterbiLoss()\n",
            "  (crf): CRF()\n",
            ")\"\n",
            "2023-06-29 12:22:15,651 ----------------------------------------------------------------------------------------------------\n",
            "2023-06-29 12:22:15,653 Corpus: \"Corpus: 14000 train + 3500 dev + 3500 test sentences\"\n",
            "2023-06-29 12:22:15,654 ----------------------------------------------------------------------------------------------------\n",
            "2023-06-29 12:22:15,656 Parameters:\n",
            "2023-06-29 12:22:15,658  - learning_rate: \"0.100000\"\n",
            "2023-06-29 12:22:15,659  - mini_batch_size: \"32\"\n",
            "2023-06-29 12:22:15,660  - patience: \"3\"\n",
            "2023-06-29 12:22:15,662  - anneal_factor: \"0.5\"\n",
            "2023-06-29 12:22:15,666  - max_epochs: \"10\"\n",
            "2023-06-29 12:22:15,667  - shuffle: \"True\"\n",
            "2023-06-29 12:22:15,669  - train_with_dev: \"False\"\n",
            "2023-06-29 12:22:15,671  - batch_growth_annealing: \"False\"\n",
            "2023-06-29 12:22:15,672 ----------------------------------------------------------------------------------------------------\n",
            "2023-06-29 12:22:15,675 Model training base path: \"resources/biLSTM/taggers/Corpus: 14000 train + 3500 dev + 3500 test sentences\"\n",
            "2023-06-29 12:22:15,676 ----------------------------------------------------------------------------------------------------\n",
            "2023-06-29 12:22:15,678 Device: cuda:0\n",
            "2023-06-29 12:22:15,679 ----------------------------------------------------------------------------------------------------\n",
            "2023-06-29 12:22:15,681 Embeddings storage mode: cpu\n",
            "2023-06-29 12:22:15,684 ----------------------------------------------------------------------------------------------------\n",
            "2023-06-29 12:22:36,772 epoch 1 - iter 43/438 - loss 0.59608281 - time (sec): 21.09 - samples/sec: 1562.50 - lr: 0.100000\n",
            "2023-06-29 12:22:58,816 epoch 1 - iter 86/438 - loss 0.41412192 - time (sec): 43.13 - samples/sec: 1509.37 - lr: 0.100000\n",
            "2023-06-29 12:23:20,799 epoch 1 - iter 129/438 - loss 0.32927748 - time (sec): 65.11 - samples/sec: 1493.00 - lr: 0.100000\n",
            "2023-06-29 12:23:44,142 epoch 1 - iter 172/438 - loss 0.27957173 - time (sec): 88.46 - samples/sec: 1461.79 - lr: 0.100000\n",
            "2023-06-29 12:24:05,571 epoch 1 - iter 215/438 - loss 0.24629493 - time (sec): 109.89 - samples/sec: 1474.30 - lr: 0.100000\n",
            "2023-06-29 12:24:28,054 epoch 1 - iter 258/438 - loss 0.22491498 - time (sec): 132.37 - samples/sec: 1463.57 - lr: 0.100000\n",
            "2023-06-29 12:24:51,429 epoch 1 - iter 301/438 - loss 0.20888420 - time (sec): 155.74 - samples/sec: 1450.97 - lr: 0.100000\n",
            "2023-06-29 12:25:13,700 epoch 1 - iter 344/438 - loss 0.19496907 - time (sec): 178.02 - samples/sec: 1455.89 - lr: 0.100000\n",
            "2023-06-29 12:25:36,416 epoch 1 - iter 387/438 - loss 0.18419751 - time (sec): 200.73 - samples/sec: 1453.94 - lr: 0.100000\n",
            "2023-06-29 12:25:59,903 epoch 1 - iter 430/438 - loss 0.17530280 - time (sec): 224.22 - samples/sec: 1450.12 - lr: 0.100000\n",
            "2023-06-29 12:26:03,636 ----------------------------------------------------------------------------------------------------\n",
            "2023-06-29 12:26:03,637 EPOCH 1 done: loss 0.1740 - lr 0.100000\n"
          ]
        },
        {
          "output_type": "stream",
          "name": "stderr",
          "text": [
            "100%|██████████| 110/110 [00:56<00:00,  1.94it/s]"
          ]
        },
        {
          "output_type": "stream",
          "name": "stdout",
          "text": [
            "2023-06-29 12:27:00,294 Evaluating as a multi-label problem: False\n",
            "2023-06-29 12:27:00,346 DEV : loss 0.07105907797813416 - f1-score (micro avg)  0.7718\n"
          ]
        },
        {
          "output_type": "stream",
          "name": "stderr",
          "text": [
            "\n"
          ]
        },
        {
          "output_type": "stream",
          "name": "stdout",
          "text": [
            "2023-06-29 12:27:00,605 BAD EPOCHS (no improvement): 0\n",
            "2023-06-29 12:27:00,607 saving best model\n",
            "2023-06-29 12:27:01,050 ----------------------------------------------------------------------------------------------------\n",
            "2023-06-29 12:27:06,271 epoch 2 - iter 43/438 - loss 0.09002286 - time (sec): 5.22 - samples/sec: 6261.81 - lr: 0.100000\n",
            "2023-06-29 12:27:11,647 epoch 2 - iter 86/438 - loss 0.08893877 - time (sec): 10.59 - samples/sec: 6143.81 - lr: 0.100000\n",
            "2023-06-29 12:27:19,226 epoch 2 - iter 129/438 - loss 0.08758975 - time (sec): 18.17 - samples/sec: 5393.00 - lr: 0.100000\n",
            "2023-06-29 12:27:24,715 epoch 2 - iter 172/438 - loss 0.08617378 - time (sec): 23.66 - samples/sec: 5517.49 - lr: 0.100000\n",
            "2023-06-29 12:27:30,058 epoch 2 - iter 215/438 - loss 0.08515950 - time (sec): 29.01 - samples/sec: 5618.81 - lr: 0.100000\n",
            "2023-06-29 12:27:35,492 epoch 2 - iter 258/438 - loss 0.08372923 - time (sec): 34.44 - samples/sec: 5684.28 - lr: 0.100000\n",
            "2023-06-29 12:27:41,089 epoch 2 - iter 301/438 - loss 0.08298931 - time (sec): 40.04 - samples/sec: 5699.95 - lr: 0.100000\n",
            "2023-06-29 12:27:46,335 epoch 2 - iter 344/438 - loss 0.08224538 - time (sec): 45.28 - samples/sec: 5763.17 - lr: 0.100000\n",
            "2023-06-29 12:27:51,569 epoch 2 - iter 387/438 - loss 0.08157737 - time (sec): 50.52 - samples/sec: 5803.52 - lr: 0.100000\n",
            "2023-06-29 12:27:56,891 epoch 2 - iter 430/438 - loss 0.08121493 - time (sec): 55.84 - samples/sec: 5823.08 - lr: 0.100000\n",
            "2023-06-29 12:27:57,784 ----------------------------------------------------------------------------------------------------\n",
            "2023-06-29 12:27:57,786 EPOCH 2 done: loss 0.0810 - lr 0.100000\n"
          ]
        },
        {
          "output_type": "stream",
          "name": "stderr",
          "text": [
            "100%|██████████| 110/110 [00:19<00:00,  5.62it/s]"
          ]
        },
        {
          "output_type": "stream",
          "name": "stdout",
          "text": [
            "2023-06-29 12:28:17,390 Evaluating as a multi-label problem: False\n",
            "2023-06-29 12:28:17,450 DEV : loss 0.05708377808332443 - f1-score (micro avg)  0.809\n"
          ]
        },
        {
          "output_type": "stream",
          "name": "stderr",
          "text": [
            "\n"
          ]
        },
        {
          "output_type": "stream",
          "name": "stdout",
          "text": [
            "2023-06-29 12:28:17,725 BAD EPOCHS (no improvement): 0\n",
            "2023-06-29 12:28:17,728 saving best model\n",
            "2023-06-29 12:28:18,243 ----------------------------------------------------------------------------------------------------\n",
            "2023-06-29 12:28:23,984 epoch 3 - iter 43/438 - loss 0.07548550 - time (sec): 5.74 - samples/sec: 5742.67 - lr: 0.100000\n",
            "2023-06-29 12:28:29,197 epoch 3 - iter 86/438 - loss 0.07196454 - time (sec): 10.95 - samples/sec: 5956.10 - lr: 0.100000\n",
            "2023-06-29 12:28:34,603 epoch 3 - iter 129/438 - loss 0.07125815 - time (sec): 16.36 - samples/sec: 5977.69 - lr: 0.100000\n",
            "2023-06-29 12:28:39,908 epoch 3 - iter 172/438 - loss 0.07038382 - time (sec): 21.66 - samples/sec: 6029.79 - lr: 0.100000\n",
            "2023-06-29 12:28:45,201 epoch 3 - iter 215/438 - loss 0.06939425 - time (sec): 26.96 - samples/sec: 6032.57 - lr: 0.100000\n",
            "2023-06-29 12:28:50,721 epoch 3 - iter 258/438 - loss 0.06937278 - time (sec): 32.47 - samples/sec: 5995.27 - lr: 0.100000\n",
            "2023-06-29 12:28:56,142 epoch 3 - iter 301/438 - loss 0.06960260 - time (sec): 37.90 - samples/sec: 6013.31 - lr: 0.100000\n",
            "2023-06-29 12:29:01,721 epoch 3 - iter 344/438 - loss 0.06916259 - time (sec): 43.48 - samples/sec: 5994.79 - lr: 0.100000\n",
            "2023-06-29 12:29:07,174 epoch 3 - iter 387/438 - loss 0.06840504 - time (sec): 48.93 - samples/sec: 5995.88 - lr: 0.100000\n",
            "2023-06-29 12:29:12,518 epoch 3 - iter 430/438 - loss 0.06828176 - time (sec): 54.27 - samples/sec: 5991.39 - lr: 0.100000\n",
            "2023-06-29 12:29:13,513 ----------------------------------------------------------------------------------------------------\n",
            "2023-06-29 12:29:13,515 EPOCH 3 done: loss 0.0681 - lr 0.100000\n"
          ]
        },
        {
          "output_type": "stream",
          "name": "stderr",
          "text": [
            "100%|██████████| 110/110 [00:21<00:00,  5.03it/s]"
          ]
        },
        {
          "output_type": "stream",
          "name": "stdout",
          "text": [
            "2023-06-29 12:29:35,431 Evaluating as a multi-label problem: False\n",
            "2023-06-29 12:29:35,490 DEV : loss 0.05184502154588699 - f1-score (micro avg)  0.8234\n"
          ]
        },
        {
          "output_type": "stream",
          "name": "stderr",
          "text": [
            "\n"
          ]
        },
        {
          "output_type": "stream",
          "name": "stdout",
          "text": [
            "2023-06-29 12:29:35,755 BAD EPOCHS (no improvement): 0\n",
            "2023-06-29 12:29:35,757 saving best model\n",
            "2023-06-29 12:29:36,282 ----------------------------------------------------------------------------------------------------\n",
            "2023-06-29 12:29:41,745 epoch 4 - iter 43/438 - loss 0.06013729 - time (sec): 5.46 - samples/sec: 5958.74 - lr: 0.100000\n",
            "2023-06-29 12:29:47,553 epoch 4 - iter 86/438 - loss 0.05925936 - time (sec): 11.27 - samples/sec: 5850.33 - lr: 0.100000\n",
            "2023-06-29 12:29:52,802 epoch 4 - iter 129/438 - loss 0.06079928 - time (sec): 16.52 - samples/sec: 5936.33 - lr: 0.100000\n",
            "2023-06-29 12:29:58,275 epoch 4 - iter 172/438 - loss 0.06028724 - time (sec): 21.99 - samples/sec: 5952.65 - lr: 0.100000\n",
            "2023-06-29 12:30:03,832 epoch 4 - iter 215/438 - loss 0.06064046 - time (sec): 27.55 - samples/sec: 5942.46 - lr: 0.100000\n",
            "2023-06-29 12:30:09,060 epoch 4 - iter 258/438 - loss 0.06100630 - time (sec): 32.78 - samples/sec: 5981.16 - lr: 0.100000\n",
            "2023-06-29 12:30:14,582 epoch 4 - iter 301/438 - loss 0.06093999 - time (sec): 38.30 - samples/sec: 5960.71 - lr: 0.100000\n",
            "2023-06-29 12:30:20,000 epoch 4 - iter 344/438 - loss 0.06113515 - time (sec): 43.72 - samples/sec: 5951.60 - lr: 0.100000\n",
            "2023-06-29 12:30:25,103 epoch 4 - iter 387/438 - loss 0.06141899 - time (sec): 48.82 - samples/sec: 5989.44 - lr: 0.100000\n",
            "2023-06-29 12:30:30,523 epoch 4 - iter 430/438 - loss 0.06128510 - time (sec): 54.24 - samples/sec: 5992.38 - lr: 0.100000\n",
            "2023-06-29 12:30:31,491 ----------------------------------------------------------------------------------------------------\n",
            "2023-06-29 12:30:31,493 EPOCH 4 done: loss 0.0611 - lr 0.100000\n"
          ]
        },
        {
          "output_type": "stream",
          "name": "stderr",
          "text": [
            "100%|██████████| 110/110 [00:21<00:00,  5.11it/s]"
          ]
        },
        {
          "output_type": "stream",
          "name": "stdout",
          "text": [
            "2023-06-29 12:30:53,067 Evaluating as a multi-label problem: False\n",
            "2023-06-29 12:30:53,125 DEV : loss 0.04997601360082626 - f1-score (micro avg)  0.8187\n"
          ]
        },
        {
          "output_type": "stream",
          "name": "stderr",
          "text": [
            "\n"
          ]
        },
        {
          "output_type": "stream",
          "name": "stdout",
          "text": [
            "2023-06-29 12:30:53,399 BAD EPOCHS (no improvement): 1\n",
            "2023-06-29 12:30:53,401 ----------------------------------------------------------------------------------------------------\n",
            "2023-06-29 12:30:58,828 epoch 5 - iter 43/438 - loss 0.05575012 - time (sec): 5.42 - samples/sec: 5983.30 - lr: 0.100000\n",
            "2023-06-29 12:31:03,838 epoch 5 - iter 86/438 - loss 0.05642319 - time (sec): 10.43 - samples/sec: 6175.08 - lr: 0.100000\n",
            "2023-06-29 12:31:09,253 epoch 5 - iter 129/438 - loss 0.05716213 - time (sec): 15.85 - samples/sec: 6130.52 - lr: 0.100000\n",
            "2023-06-29 12:31:14,388 epoch 5 - iter 172/438 - loss 0.05643120 - time (sec): 20.98 - samples/sec: 6136.21 - lr: 0.100000\n",
            "2023-06-29 12:31:19,734 epoch 5 - iter 215/438 - loss 0.05542835 - time (sec): 26.33 - samples/sec: 6147.34 - lr: 0.100000\n",
            "2023-06-29 12:31:25,307 epoch 5 - iter 258/438 - loss 0.05536942 - time (sec): 31.90 - samples/sec: 6100.61 - lr: 0.100000\n",
            "2023-06-29 12:31:30,857 epoch 5 - iter 301/438 - loss 0.05545617 - time (sec): 37.45 - samples/sec: 6058.86 - lr: 0.100000\n",
            "2023-06-29 12:31:36,258 epoch 5 - iter 344/438 - loss 0.05572210 - time (sec): 42.85 - samples/sec: 6071.43 - lr: 0.100000\n",
            "2023-06-29 12:31:41,679 epoch 5 - iter 387/438 - loss 0.05571580 - time (sec): 48.28 - samples/sec: 6059.47 - lr: 0.100000\n",
            "2023-06-29 12:31:46,642 epoch 5 - iter 430/438 - loss 0.05562170 - time (sec): 53.24 - samples/sec: 6103.90 - lr: 0.100000\n",
            "2023-06-29 12:31:47,662 ----------------------------------------------------------------------------------------------------\n",
            "2023-06-29 12:31:47,664 EPOCH 5 done: loss 0.0557 - lr 0.100000\n"
          ]
        },
        {
          "output_type": "stream",
          "name": "stderr",
          "text": [
            "100%|██████████| 110/110 [00:19<00:00,  5.59it/s]"
          ]
        },
        {
          "output_type": "stream",
          "name": "stdout",
          "text": [
            "2023-06-29 12:32:07,386 Evaluating as a multi-label problem: False\n",
            "2023-06-29 12:32:07,447 DEV : loss 0.04667744040489197 - f1-score (micro avg)  0.8342\n"
          ]
        },
        {
          "output_type": "stream",
          "name": "stderr",
          "text": [
            "\n"
          ]
        },
        {
          "output_type": "stream",
          "name": "stdout",
          "text": [
            "2023-06-29 12:32:07,749 BAD EPOCHS (no improvement): 0\n",
            "2023-06-29 12:32:07,751 saving best model\n",
            "2023-06-29 12:32:08,265 ----------------------------------------------------------------------------------------------------\n",
            "2023-06-29 12:32:13,755 epoch 6 - iter 43/438 - loss 0.05224683 - time (sec): 5.49 - samples/sec: 5889.67 - lr: 0.100000\n",
            "2023-06-29 12:32:19,178 epoch 6 - iter 86/438 - loss 0.04972004 - time (sec): 10.91 - samples/sec: 5972.21 - lr: 0.100000\n",
            "2023-06-29 12:32:24,297 epoch 6 - iter 129/438 - loss 0.04942326 - time (sec): 16.03 - samples/sec: 6054.68 - lr: 0.100000\n",
            "2023-06-29 12:32:29,798 epoch 6 - iter 172/438 - loss 0.04992077 - time (sec): 21.53 - samples/sec: 6042.88 - lr: 0.100000\n",
            "2023-06-29 12:32:35,082 epoch 6 - iter 215/438 - loss 0.05120654 - time (sec): 26.81 - samples/sec: 6045.58 - lr: 0.100000\n",
            "2023-06-29 12:32:40,458 epoch 6 - iter 258/438 - loss 0.05091436 - time (sec): 32.19 - samples/sec: 6049.56 - lr: 0.100000\n",
            "2023-06-29 12:32:45,601 epoch 6 - iter 301/438 - loss 0.05128865 - time (sec): 37.33 - samples/sec: 6092.66 - lr: 0.100000\n",
            "2023-06-29 12:32:51,079 epoch 6 - iter 344/438 - loss 0.05066093 - time (sec): 42.81 - samples/sec: 6077.85 - lr: 0.100000\n",
            "2023-06-29 12:32:56,289 epoch 6 - iter 387/438 - loss 0.05151498 - time (sec): 48.02 - samples/sec: 6087.08 - lr: 0.100000\n",
            "2023-06-29 12:33:01,758 epoch 6 - iter 430/438 - loss 0.05126076 - time (sec): 53.49 - samples/sec: 6078.80 - lr: 0.100000\n",
            "2023-06-29 12:33:02,745 ----------------------------------------------------------------------------------------------------\n",
            "2023-06-29 12:33:02,747 EPOCH 6 done: loss 0.0513 - lr 0.100000\n"
          ]
        },
        {
          "output_type": "stream",
          "name": "stderr",
          "text": [
            "100%|██████████| 110/110 [00:21<00:00,  5.15it/s]"
          ]
        },
        {
          "output_type": "stream",
          "name": "stdout",
          "text": [
            "2023-06-29 12:33:24,115 Evaluating as a multi-label problem: False\n",
            "2023-06-29 12:33:24,169 DEV : loss 0.043975818902254105 - f1-score (micro avg)  0.8448\n"
          ]
        },
        {
          "output_type": "stream",
          "name": "stderr",
          "text": [
            "\n"
          ]
        },
        {
          "output_type": "stream",
          "name": "stdout",
          "text": [
            "2023-06-29 12:33:24,432 BAD EPOCHS (no improvement): 0\n",
            "2023-06-29 12:33:24,434 saving best model\n",
            "2023-06-29 12:33:24,941 ----------------------------------------------------------------------------------------------------\n",
            "2023-06-29 12:33:30,651 epoch 7 - iter 43/438 - loss 0.04763089 - time (sec): 5.71 - samples/sec: 5747.96 - lr: 0.100000\n",
            "2023-06-29 12:33:35,743 epoch 7 - iter 86/438 - loss 0.04920363 - time (sec): 10.80 - samples/sec: 6094.16 - lr: 0.100000\n",
            "2023-06-29 12:33:41,112 epoch 7 - iter 129/438 - loss 0.04836396 - time (sec): 16.17 - samples/sec: 6094.49 - lr: 0.100000\n",
            "2023-06-29 12:33:46,673 epoch 7 - iter 172/438 - loss 0.04802663 - time (sec): 21.73 - samples/sec: 6049.53 - lr: 0.100000\n",
            "2023-06-29 12:33:51,677 epoch 7 - iter 215/438 - loss 0.04888527 - time (sec): 26.73 - samples/sec: 6101.20 - lr: 0.100000\n",
            "2023-06-29 12:33:57,085 epoch 7 - iter 258/438 - loss 0.04881771 - time (sec): 32.14 - samples/sec: 6078.30 - lr: 0.100000\n",
            "2023-06-29 12:34:02,251 epoch 7 - iter 301/438 - loss 0.04844770 - time (sec): 37.31 - samples/sec: 6094.71 - lr: 0.100000\n",
            "2023-06-29 12:34:07,681 epoch 7 - iter 344/438 - loss 0.04849077 - time (sec): 42.74 - samples/sec: 6092.66 - lr: 0.100000\n",
            "2023-06-29 12:34:13,157 epoch 7 - iter 387/438 - loss 0.04878309 - time (sec): 48.21 - samples/sec: 6070.92 - lr: 0.100000\n",
            "2023-06-29 12:34:18,233 epoch 7 - iter 430/438 - loss 0.04848293 - time (sec): 53.29 - samples/sec: 6096.05 - lr: 0.100000\n",
            "2023-06-29 12:34:19,198 ----------------------------------------------------------------------------------------------------\n",
            "2023-06-29 12:34:19,200 EPOCH 7 done: loss 0.0485 - lr 0.100000\n"
          ]
        },
        {
          "output_type": "stream",
          "name": "stderr",
          "text": [
            "100%|██████████| 110/110 [00:21<00:00,  5.09it/s]"
          ]
        },
        {
          "output_type": "stream",
          "name": "stdout",
          "text": [
            "2023-06-29 12:34:40,831 Evaluating as a multi-label problem: False\n",
            "2023-06-29 12:34:40,885 DEV : loss 0.041844889521598816 - f1-score (micro avg)  0.8472\n"
          ]
        },
        {
          "output_type": "stream",
          "name": "stderr",
          "text": [
            "\n"
          ]
        },
        {
          "output_type": "stream",
          "name": "stdout",
          "text": [
            "2023-06-29 12:34:41,157 BAD EPOCHS (no improvement): 0\n",
            "2023-06-29 12:34:41,159 saving best model\n",
            "2023-06-29 12:34:41,664 ----------------------------------------------------------------------------------------------------\n",
            "2023-06-29 12:34:47,351 epoch 8 - iter 43/438 - loss 0.04959765 - time (sec): 5.68 - samples/sec: 5753.36 - lr: 0.100000\n",
            "2023-06-29 12:34:52,511 epoch 8 - iter 86/438 - loss 0.04666426 - time (sec): 10.84 - samples/sec: 5959.54 - lr: 0.100000\n",
            "2023-06-29 12:34:57,691 epoch 8 - iter 129/438 - loss 0.04689244 - time (sec): 16.02 - samples/sec: 6062.05 - lr: 0.100000\n",
            "2023-06-29 12:35:02,599 epoch 8 - iter 172/438 - loss 0.04692171 - time (sec): 20.93 - samples/sec: 6148.77 - lr: 0.100000\n",
            "2023-06-29 12:35:07,976 epoch 8 - iter 215/438 - loss 0.04686872 - time (sec): 26.31 - samples/sec: 6126.69 - lr: 0.100000\n",
            "2023-06-29 12:35:13,482 epoch 8 - iter 258/438 - loss 0.04678819 - time (sec): 31.82 - samples/sec: 6110.49 - lr: 0.100000\n",
            "2023-06-29 12:35:18,604 epoch 8 - iter 301/438 - loss 0.04650578 - time (sec): 36.94 - samples/sec: 6151.47 - lr: 0.100000\n",
            "2023-06-29 12:35:24,272 epoch 8 - iter 344/438 - loss 0.04636253 - time (sec): 42.61 - samples/sec: 6094.07 - lr: 0.100000\n",
            "2023-06-29 12:35:29,432 epoch 8 - iter 387/438 - loss 0.04610862 - time (sec): 47.77 - samples/sec: 6111.46 - lr: 0.100000\n",
            "2023-06-29 12:35:34,723 epoch 8 - iter 430/438 - loss 0.04630731 - time (sec): 53.06 - samples/sec: 6128.35 - lr: 0.100000\n",
            "2023-06-29 12:35:35,714 ----------------------------------------------------------------------------------------------------\n",
            "2023-06-29 12:35:35,716 EPOCH 8 done: loss 0.0465 - lr 0.100000\n"
          ]
        },
        {
          "output_type": "stream",
          "name": "stderr",
          "text": [
            "100%|██████████| 110/110 [00:19<00:00,  5.70it/s]"
          ]
        },
        {
          "output_type": "stream",
          "name": "stdout",
          "text": [
            "2023-06-29 12:35:55,040 Evaluating as a multi-label problem: False\n",
            "2023-06-29 12:35:55,090 DEV : loss 0.04144621267914772 - f1-score (micro avg)  0.8525\n"
          ]
        },
        {
          "output_type": "stream",
          "name": "stderr",
          "text": [
            "\n"
          ]
        },
        {
          "output_type": "stream",
          "name": "stdout",
          "text": [
            "2023-06-29 12:35:55,353 BAD EPOCHS (no improvement): 0\n",
            "2023-06-29 12:35:55,355 saving best model\n",
            "2023-06-29 12:35:55,851 ----------------------------------------------------------------------------------------------------\n",
            "2023-06-29 12:36:01,377 epoch 9 - iter 43/438 - loss 0.04488458 - time (sec): 5.52 - samples/sec: 5868.18 - lr: 0.100000\n",
            "2023-06-29 12:36:06,664 epoch 9 - iter 86/438 - loss 0.04189933 - time (sec): 10.81 - samples/sec: 5966.41 - lr: 0.100000\n",
            "2023-06-29 12:36:11,699 epoch 9 - iter 129/438 - loss 0.04287306 - time (sec): 15.84 - samples/sec: 6113.09 - lr: 0.100000\n",
            "2023-06-29 12:36:17,022 epoch 9 - iter 172/438 - loss 0.04208757 - time (sec): 21.17 - samples/sec: 6110.92 - lr: 0.100000\n",
            "2023-06-29 12:36:22,301 epoch 9 - iter 215/438 - loss 0.04268215 - time (sec): 26.45 - samples/sec: 6103.00 - lr: 0.100000\n",
            "2023-06-29 12:36:27,717 epoch 9 - iter 258/438 - loss 0.04262630 - time (sec): 31.86 - samples/sec: 6114.82 - lr: 0.100000\n",
            "2023-06-29 12:36:33,007 epoch 9 - iter 301/438 - loss 0.04328293 - time (sec): 37.15 - samples/sec: 6101.56 - lr: 0.100000\n",
            "2023-06-29 12:36:37,993 epoch 9 - iter 344/438 - loss 0.04352382 - time (sec): 42.14 - samples/sec: 6144.19 - lr: 0.100000\n",
            "2023-06-29 12:36:43,371 epoch 9 - iter 387/438 - loss 0.04340081 - time (sec): 47.52 - samples/sec: 6141.56 - lr: 0.100000\n",
            "2023-06-29 12:36:48,842 epoch 9 - iter 430/438 - loss 0.04337948 - time (sec): 52.99 - samples/sec: 6128.72 - lr: 0.100000\n",
            "2023-06-29 12:36:49,805 ----------------------------------------------------------------------------------------------------\n",
            "2023-06-29 12:36:49,806 EPOCH 9 done: loss 0.0434 - lr 0.100000\n"
          ]
        },
        {
          "output_type": "stream",
          "name": "stderr",
          "text": [
            "100%|██████████| 110/110 [00:21<00:00,  5.15it/s]"
          ]
        },
        {
          "output_type": "stream",
          "name": "stdout",
          "text": [
            "2023-06-29 12:37:11,212 Evaluating as a multi-label problem: False\n",
            "2023-06-29 12:37:11,267 DEV : loss 0.03941752761602402 - f1-score (micro avg)  0.8586\n"
          ]
        },
        {
          "output_type": "stream",
          "name": "stderr",
          "text": [
            "\n"
          ]
        },
        {
          "output_type": "stream",
          "name": "stdout",
          "text": [
            "2023-06-29 12:37:11,532 BAD EPOCHS (no improvement): 0\n",
            "2023-06-29 12:37:11,535 saving best model\n",
            "2023-06-29 12:37:12,089 ----------------------------------------------------------------------------------------------------\n",
            "2023-06-29 12:37:17,736 epoch 10 - iter 43/438 - loss 0.03889168 - time (sec): 5.65 - samples/sec: 5712.00 - lr: 0.100000\n",
            "2023-06-29 12:37:22,917 epoch 10 - iter 86/438 - loss 0.04006259 - time (sec): 10.83 - samples/sec: 6016.45 - lr: 0.100000\n",
            "2023-06-29 12:37:28,339 epoch 10 - iter 129/438 - loss 0.03925752 - time (sec): 16.25 - samples/sec: 6025.60 - lr: 0.100000\n",
            "2023-06-29 12:37:33,542 epoch 10 - iter 172/438 - loss 0.04053789 - time (sec): 21.45 - samples/sec: 6086.52 - lr: 0.100000\n",
            "2023-06-29 12:37:38,876 epoch 10 - iter 215/438 - loss 0.04098538 - time (sec): 26.78 - samples/sec: 6089.75 - lr: 0.100000\n",
            "2023-06-29 12:37:44,224 epoch 10 - iter 258/438 - loss 0.04124994 - time (sec): 32.13 - samples/sec: 6090.73 - lr: 0.100000\n",
            "2023-06-29 12:37:49,426 epoch 10 - iter 301/438 - loss 0.04159278 - time (sec): 37.34 - samples/sec: 6123.76 - lr: 0.100000\n",
            "2023-06-29 12:37:54,457 epoch 10 - iter 344/438 - loss 0.04187610 - time (sec): 42.37 - samples/sec: 6149.12 - lr: 0.100000\n",
            "2023-06-29 12:37:59,516 epoch 10 - iter 387/438 - loss 0.04184958 - time (sec): 47.43 - samples/sec: 6171.51 - lr: 0.100000\n",
            "2023-06-29 12:38:04,649 epoch 10 - iter 430/438 - loss 0.04212141 - time (sec): 52.56 - samples/sec: 6188.77 - lr: 0.100000\n",
            "2023-06-29 12:38:05,549 ----------------------------------------------------------------------------------------------------\n",
            "2023-06-29 12:38:05,551 EPOCH 10 done: loss 0.0421 - lr 0.100000\n"
          ]
        },
        {
          "output_type": "stream",
          "name": "stderr",
          "text": [
            "100%|██████████| 110/110 [00:21<00:00,  5.10it/s]"
          ]
        },
        {
          "output_type": "stream",
          "name": "stdout",
          "text": [
            "2023-06-29 12:38:27,155 Evaluating as a multi-label problem: False\n",
            "2023-06-29 12:38:27,217 DEV : loss 0.04008624702692032 - f1-score (micro avg)  0.854\n"
          ]
        },
        {
          "output_type": "stream",
          "name": "stderr",
          "text": [
            "\n"
          ]
        },
        {
          "output_type": "stream",
          "name": "stdout",
          "text": [
            "2023-06-29 12:38:27,478 BAD EPOCHS (no improvement): 1\n",
            "2023-06-29 12:38:27,958 ----------------------------------------------------------------------------------------------------\n",
            "2023-06-29 12:38:28,754 SequenceTagger predicts: Dictionary with 19 tags: O, S-LOC, B-LOC, E-LOC, I-LOC, S-PER, B-PER, E-PER, I-PER, S-MISC, B-MISC, E-MISC, I-MISC, S-ORG, B-ORG, E-ORG, I-ORG, <START>, <STOP>\n"
          ]
        },
        {
          "output_type": "stream",
          "name": "stderr",
          "text": [
            "100%|██████████| 110/110 [00:52<00:00,  2.09it/s]\n"
          ]
        },
        {
          "output_type": "stream",
          "name": "stdout",
          "text": [
            "2023-06-29 12:39:21,706 Evaluating as a multi-label problem: False\n",
            "2023-06-29 12:39:21,762 0.8543\t0.8441\t0.8492\t0.8077\n",
            "2023-06-29 12:39:21,763 \n",
            "Results:\n",
            "- F-score (micro) 0.8492\n",
            "- F-score (macro) 0.8446\n",
            "- Accuracy 0.8077\n",
            "\n",
            "By class:\n",
            "              precision    recall  f1-score   support\n",
            "\n",
            "         LOC     0.8751    0.8742    0.8746      1772\n",
            "         PER     0.8760    0.9248    0.8998      1582\n",
            "        MISC     0.8022    0.7718    0.7867      1534\n",
            "         ORG     0.8580    0.7802    0.8173      1092\n",
            "\n",
            "   micro avg     0.8543    0.8441    0.8492      5980\n",
            "   macro avg     0.8528    0.8377    0.8446      5980\n",
            "weighted avg     0.8535    0.8441    0.8483      5980\n",
            "\n",
            "2023-06-29 12:39:21,764 ----------------------------------------------------------------------------------------------------\n",
            "2023-06-29 12:39:21,768 Computing label dictionary. Progress:\n"
          ]
        },
        {
          "output_type": "stream",
          "name": "stderr",
          "text": [
            "14041it [00:00, 51936.06it/s]"
          ]
        },
        {
          "output_type": "stream",
          "name": "stdout",
          "text": [
            "2023-06-29 12:39:22,044 Dictionary created for label 'ner' with 5 values: LOC (seen 7140 times), PER (seen 6600 times), ORG (seen 6321 times), MISC (seen 3438 times)\n"
          ]
        },
        {
          "output_type": "stream",
          "name": "stderr",
          "text": [
            "\n"
          ]
        },
        {
          "output_type": "stream",
          "name": "stdout",
          "text": [
            "2023-06-29 12:39:22,466 SequenceTagger predicts: Dictionary with 17 tags: O, S-LOC, B-LOC, E-LOC, I-LOC, S-PER, B-PER, E-PER, I-PER, S-ORG, B-ORG, E-ORG, I-ORG, S-MISC, B-MISC, E-MISC, I-MISC\n",
            "2023-06-29 12:39:22,681 ----------------------------------------------------------------------------------------------------\n",
            "2023-06-29 12:39:22,682 Model: \"SequenceTagger(\n",
            "  (embeddings): StackedEmbeddings(\n",
            "    (list_embedding_0): FlairEmbeddings(\n",
            "      (lm): LanguageModel(\n",
            "        (drop): Dropout(p=0.05, inplace=False)\n",
            "        (encoder): Embedding(300, 100)\n",
            "        (rnn): LSTM(100, 2048)\n",
            "      )\n",
            "    )\n",
            "    (list_embedding_1): FlairEmbeddings(\n",
            "      (lm): LanguageModel(\n",
            "        (drop): Dropout(p=0.05, inplace=False)\n",
            "        (encoder): Embedding(300, 100)\n",
            "        (rnn): LSTM(100, 2048)\n",
            "      )\n",
            "    )\n",
            "  )\n",
            "  (word_dropout): WordDropout(p=0.05)\n",
            "  (locked_dropout): LockedDropout(p=0.5)\n",
            "  (embedding2nn): Linear(in_features=4096, out_features=4096, bias=True)\n",
            "  (rnn): LSTM(4096, 256, batch_first=True, bidirectional=True)\n",
            "  (linear): Linear(in_features=512, out_features=19, bias=True)\n",
            "  (loss_function): ViterbiLoss()\n",
            "  (crf): CRF()\n",
            ")\"\n",
            "2023-06-29 12:39:22,683 ----------------------------------------------------------------------------------------------------\n",
            "2023-06-29 12:39:22,685 Corpus: \"Corpus: 14041 train + 3250 dev + 3453 test sentences\"\n",
            "2023-06-29 12:39:22,688 ----------------------------------------------------------------------------------------------------\n",
            "2023-06-29 12:39:22,689 Parameters:\n",
            "2023-06-29 12:39:22,691  - learning_rate: \"0.100000\"\n",
            "2023-06-29 12:39:22,693  - mini_batch_size: \"32\"\n",
            "2023-06-29 12:39:22,695  - patience: \"3\"\n",
            "2023-06-29 12:39:22,696  - anneal_factor: \"0.5\"\n",
            "2023-06-29 12:39:22,698  - max_epochs: \"10\"\n",
            "2023-06-29 12:39:22,700  - shuffle: \"True\"\n",
            "2023-06-29 12:39:22,701  - train_with_dev: \"False\"\n",
            "2023-06-29 12:39:22,702  - batch_growth_annealing: \"False\"\n",
            "2023-06-29 12:39:22,704 ----------------------------------------------------------------------------------------------------\n",
            "2023-06-29 12:39:22,706 Model training base path: \"resources/biLSTM/taggers/Corpus: 14041 train + 3250 dev + 3453 test sentences\"\n",
            "2023-06-29 12:39:22,707 ----------------------------------------------------------------------------------------------------\n",
            "2023-06-29 12:39:22,709 Device: cuda:0\n",
            "2023-06-29 12:39:22,710 ----------------------------------------------------------------------------------------------------\n",
            "2023-06-29 12:39:22,711 Embeddings storage mode: cpu\n",
            "2023-06-29 12:39:22,712 ----------------------------------------------------------------------------------------------------\n",
            "2023-06-29 12:39:35,993 epoch 1 - iter 43/439 - loss 0.71823162 - time (sec): 13.28 - samples/sec: 1436.54 - lr: 0.100000\n",
            "2023-06-29 12:39:50,148 epoch 1 - iter 86/439 - loss 0.52064603 - time (sec): 27.44 - samples/sec: 1397.92 - lr: 0.100000\n",
            "2023-06-29 12:40:02,367 epoch 1 - iter 129/439 - loss 0.43137452 - time (sec): 39.65 - samples/sec: 1411.07 - lr: 0.100000\n",
            "2023-06-29 12:40:12,731 epoch 1 - iter 172/439 - loss 0.37814408 - time (sec): 50.02 - samples/sec: 1450.23 - lr: 0.100000\n",
            "2023-06-29 12:40:24,284 epoch 1 - iter 215/439 - loss 0.33943014 - time (sec): 61.57 - samples/sec: 1456.19 - lr: 0.100000\n",
            "2023-06-29 12:40:38,692 epoch 1 - iter 258/439 - loss 0.30202833 - time (sec): 75.98 - samples/sec: 1469.37 - lr: 0.100000\n",
            "2023-06-29 12:40:53,405 epoch 1 - iter 301/439 - loss 0.27864878 - time (sec): 90.69 - samples/sec: 1459.34 - lr: 0.100000\n",
            "2023-06-29 12:41:06,990 epoch 1 - iter 344/439 - loss 0.26324564 - time (sec): 104.28 - samples/sec: 1453.00 - lr: 0.100000\n",
            "2023-06-29 12:41:23,761 epoch 1 - iter 387/439 - loss 0.24379999 - time (sec): 121.05 - samples/sec: 1453.57 - lr: 0.100000\n",
            "2023-06-29 12:41:40,551 epoch 1 - iter 430/439 - loss 0.22805867 - time (sec): 137.84 - samples/sec: 1449.13 - lr: 0.100000\n",
            "2023-06-29 12:41:43,241 ----------------------------------------------------------------------------------------------------\n",
            "2023-06-29 12:41:43,243 EPOCH 1 done: loss 0.2268 - lr 0.100000\n"
          ]
        },
        {
          "output_type": "stream",
          "name": "stderr",
          "text": [
            "100%|██████████| 102/102 [00:37<00:00,  2.69it/s]"
          ]
        },
        {
          "output_type": "stream",
          "name": "stdout",
          "text": [
            "2023-06-29 12:42:21,213 Evaluating as a multi-label problem: False\n",
            "2023-06-29 12:42:21,268 DEV : loss 0.08046218007802963 - f1-score (micro avg)  0.8519\n"
          ]
        },
        {
          "output_type": "stream",
          "name": "stderr",
          "text": [
            "\n"
          ]
        },
        {
          "output_type": "stream",
          "name": "stdout",
          "text": [
            "2023-06-29 12:42:21,476 BAD EPOCHS (no improvement): 0\n",
            "2023-06-29 12:42:21,480 saving best model\n",
            "2023-06-29 12:42:22,036 ----------------------------------------------------------------------------------------------------\n",
            "2023-06-29 12:42:25,812 epoch 2 - iter 43/439 - loss 0.11557849 - time (sec): 3.77 - samples/sec: 5118.30 - lr: 0.100000\n",
            "2023-06-29 12:42:29,671 epoch 2 - iter 86/439 - loss 0.11288881 - time (sec): 7.63 - samples/sec: 5137.83 - lr: 0.100000\n",
            "2023-06-29 12:42:33,607 epoch 2 - iter 129/439 - loss 0.10869261 - time (sec): 11.57 - samples/sec: 5102.47 - lr: 0.100000\n",
            "2023-06-29 12:42:37,595 epoch 2 - iter 172/439 - loss 0.10896142 - time (sec): 15.56 - samples/sec: 5060.59 - lr: 0.100000\n",
            "2023-06-29 12:42:41,481 epoch 2 - iter 215/439 - loss 0.10752386 - time (sec): 19.44 - samples/sec: 5064.04 - lr: 0.100000\n",
            "2023-06-29 12:42:45,271 epoch 2 - iter 258/439 - loss 0.10670571 - time (sec): 23.23 - samples/sec: 5109.67 - lr: 0.100000\n",
            "2023-06-29 12:42:49,248 epoch 2 - iter 301/439 - loss 0.10586134 - time (sec): 27.21 - samples/sec: 5099.83 - lr: 0.100000\n",
            "2023-06-29 12:42:53,281 epoch 2 - iter 344/439 - loss 0.10435035 - time (sec): 31.24 - samples/sec: 5085.83 - lr: 0.100000\n",
            "2023-06-29 12:42:57,246 epoch 2 - iter 387/439 - loss 0.10243094 - time (sec): 35.21 - samples/sec: 5097.41 - lr: 0.100000\n",
            "2023-06-29 12:43:01,119 epoch 2 - iter 430/439 - loss 0.10062671 - time (sec): 39.08 - samples/sec: 5110.40 - lr: 0.100000\n",
            "2023-06-29 12:43:01,920 ----------------------------------------------------------------------------------------------------\n",
            "2023-06-29 12:43:01,922 EPOCH 2 done: loss 0.1007 - lr 0.100000\n"
          ]
        },
        {
          "output_type": "stream",
          "name": "stderr",
          "text": [
            "100%|██████████| 102/102 [00:16<00:00,  6.29it/s]"
          ]
        },
        {
          "output_type": "stream",
          "name": "stdout",
          "text": [
            "2023-06-29 12:43:18,166 Evaluating as a multi-label problem: False\n",
            "2023-06-29 12:43:18,224 DEV : loss 0.052419207990169525 - f1-score (micro avg)  0.9028\n"
          ]
        },
        {
          "output_type": "stream",
          "name": "stderr",
          "text": [
            "\n"
          ]
        },
        {
          "output_type": "stream",
          "name": "stdout",
          "text": [
            "2023-06-29 12:43:18,421 BAD EPOCHS (no improvement): 0\n",
            "2023-06-29 12:43:18,423 saving best model\n",
            "2023-06-29 12:43:19,031 ----------------------------------------------------------------------------------------------------\n",
            "2023-06-29 12:43:23,025 epoch 3 - iter 43/439 - loss 0.07781677 - time (sec): 3.99 - samples/sec: 4929.68 - lr: 0.100000\n",
            "2023-06-29 12:43:26,887 epoch 3 - iter 86/439 - loss 0.08400170 - time (sec): 7.85 - samples/sec: 5085.56 - lr: 0.100000\n",
            "2023-06-29 12:43:30,847 epoch 3 - iter 129/439 - loss 0.08351224 - time (sec): 11.81 - samples/sec: 5100.13 - lr: 0.100000\n",
            "2023-06-29 12:43:34,996 epoch 3 - iter 172/439 - loss 0.08041721 - time (sec): 15.96 - samples/sec: 5054.66 - lr: 0.100000\n",
            "2023-06-29 12:43:38,768 epoch 3 - iter 215/439 - loss 0.08000199 - time (sec): 19.73 - samples/sec: 5065.73 - lr: 0.100000\n",
            "2023-06-29 12:43:42,685 epoch 3 - iter 258/439 - loss 0.07882128 - time (sec): 23.65 - samples/sec: 5067.11 - lr: 0.100000\n",
            "2023-06-29 12:43:46,863 epoch 3 - iter 301/439 - loss 0.07917154 - time (sec): 27.83 - samples/sec: 5036.07 - lr: 0.100000\n",
            "2023-06-29 12:43:50,887 epoch 3 - iter 344/439 - loss 0.07840294 - time (sec): 31.85 - samples/sec: 5037.82 - lr: 0.100000\n",
            "2023-06-29 12:43:54,805 epoch 3 - iter 387/439 - loss 0.07810450 - time (sec): 35.77 - samples/sec: 5034.20 - lr: 0.100000\n",
            "2023-06-29 12:43:58,889 epoch 3 - iter 430/439 - loss 0.07673769 - time (sec): 39.86 - samples/sec: 5015.72 - lr: 0.100000\n",
            "2023-06-29 12:43:59,700 ----------------------------------------------------------------------------------------------------\n",
            "2023-06-29 12:43:59,702 EPOCH 3 done: loss 0.0763 - lr 0.100000\n"
          ]
        },
        {
          "output_type": "stream",
          "name": "stderr",
          "text": [
            "100%|██████████| 102/102 [00:13<00:00,  7.65it/s]"
          ]
        },
        {
          "output_type": "stream",
          "name": "stdout",
          "text": [
            "2023-06-29 12:44:13,068 Evaluating as a multi-label problem: False\n",
            "2023-06-29 12:44:13,126 DEV : loss 0.04673841968178749 - f1-score (micro avg)  0.9105\n"
          ]
        },
        {
          "output_type": "stream",
          "name": "stderr",
          "text": [
            "\n"
          ]
        },
        {
          "output_type": "stream",
          "name": "stdout",
          "text": [
            "2023-06-29 12:44:13,323 BAD EPOCHS (no improvement): 0\n",
            "2023-06-29 12:44:13,326 saving best model\n",
            "2023-06-29 12:44:13,956 ----------------------------------------------------------------------------------------------------\n",
            "2023-06-29 12:44:18,091 epoch 4 - iter 43/439 - loss 0.06992866 - time (sec): 4.13 - samples/sec: 4867.86 - lr: 0.100000\n",
            "2023-06-29 12:44:21,920 epoch 4 - iter 86/439 - loss 0.06838815 - time (sec): 7.96 - samples/sec: 4967.65 - lr: 0.100000\n",
            "2023-06-29 12:44:25,815 epoch 4 - iter 129/439 - loss 0.06897657 - time (sec): 11.86 - samples/sec: 4979.57 - lr: 0.100000\n",
            "2023-06-29 12:44:30,018 epoch 4 - iter 172/439 - loss 0.06840419 - time (sec): 16.06 - samples/sec: 4945.32 - lr: 0.100000\n",
            "2023-06-29 12:44:33,916 epoch 4 - iter 215/439 - loss 0.06800930 - time (sec): 19.96 - samples/sec: 4977.10 - lr: 0.100000\n",
            "2023-06-29 12:44:37,747 epoch 4 - iter 258/439 - loss 0.06662510 - time (sec): 23.79 - samples/sec: 5010.20 - lr: 0.100000\n",
            "2023-06-29 12:44:41,848 epoch 4 - iter 301/439 - loss 0.06626893 - time (sec): 27.89 - samples/sec: 5005.51 - lr: 0.100000\n",
            "2023-06-29 12:44:45,764 epoch 4 - iter 344/439 - loss 0.06585643 - time (sec): 31.80 - samples/sec: 5000.03 - lr: 0.100000\n",
            "2023-06-29 12:44:49,654 epoch 4 - iter 387/439 - loss 0.06573767 - time (sec): 35.69 - samples/sec: 5024.70 - lr: 0.100000\n",
            "2023-06-29 12:44:53,631 epoch 4 - iter 430/439 - loss 0.06556336 - time (sec): 39.67 - samples/sec: 5034.88 - lr: 0.100000\n",
            "2023-06-29 12:44:54,408 ----------------------------------------------------------------------------------------------------\n",
            "2023-06-29 12:44:54,410 EPOCH 4 done: loss 0.0653 - lr 0.100000\n"
          ]
        },
        {
          "output_type": "stream",
          "name": "stderr",
          "text": [
            "100%|██████████| 102/102 [00:13<00:00,  7.58it/s]"
          ]
        },
        {
          "output_type": "stream",
          "name": "stdout",
          "text": [
            "2023-06-29 12:45:07,895 Evaluating as a multi-label problem: False\n",
            "2023-06-29 12:45:07,948 DEV : loss 0.043339259922504425 - f1-score (micro avg)  0.9181\n"
          ]
        },
        {
          "output_type": "stream",
          "name": "stderr",
          "text": [
            "\n"
          ]
        },
        {
          "output_type": "stream",
          "name": "stdout",
          "text": [
            "2023-06-29 12:45:08,145 BAD EPOCHS (no improvement): 0\n",
            "2023-06-29 12:45:08,147 saving best model\n",
            "2023-06-29 12:45:08,784 ----------------------------------------------------------------------------------------------------\n",
            "2023-06-29 12:45:13,025 epoch 5 - iter 43/439 - loss 0.05695307 - time (sec): 4.24 - samples/sec: 4817.10 - lr: 0.100000\n",
            "2023-06-29 12:45:16,942 epoch 5 - iter 86/439 - loss 0.05690127 - time (sec): 8.15 - samples/sec: 4964.34 - lr: 0.100000\n",
            "2023-06-29 12:45:20,979 epoch 5 - iter 129/439 - loss 0.05417468 - time (sec): 12.19 - samples/sec: 5041.41 - lr: 0.100000\n",
            "2023-06-29 12:45:25,044 epoch 5 - iter 172/439 - loss 0.05581355 - time (sec): 16.26 - samples/sec: 4995.34 - lr: 0.100000\n",
            "2023-06-29 12:45:29,120 epoch 5 - iter 215/439 - loss 0.05595693 - time (sec): 20.33 - samples/sec: 5000.60 - lr: 0.100000\n",
            "2023-06-29 12:45:32,956 epoch 5 - iter 258/439 - loss 0.05607840 - time (sec): 24.17 - samples/sec: 5024.64 - lr: 0.100000\n",
            "2023-06-29 12:45:36,864 epoch 5 - iter 301/439 - loss 0.05626601 - time (sec): 28.08 - samples/sec: 5019.16 - lr: 0.100000\n",
            "2023-06-29 12:45:40,947 epoch 5 - iter 344/439 - loss 0.05631153 - time (sec): 32.16 - samples/sec: 4992.44 - lr: 0.100000\n",
            "2023-06-29 12:45:44,788 epoch 5 - iter 387/439 - loss 0.05603256 - time (sec): 36.00 - samples/sec: 4998.04 - lr: 0.100000\n",
            "2023-06-29 12:45:48,535 epoch 5 - iter 430/439 - loss 0.05606465 - time (sec): 39.75 - samples/sec: 5017.88 - lr: 0.100000\n",
            "2023-06-29 12:45:49,319 ----------------------------------------------------------------------------------------------------\n",
            "2023-06-29 12:45:49,320 EPOCH 5 done: loss 0.0561 - lr 0.100000\n"
          ]
        },
        {
          "output_type": "stream",
          "name": "stderr",
          "text": [
            "100%|██████████| 102/102 [00:16<00:00,  6.29it/s]"
          ]
        },
        {
          "output_type": "stream",
          "name": "stdout",
          "text": [
            "2023-06-29 12:46:05,561 Evaluating as a multi-label problem: False\n",
            "2023-06-29 12:46:05,621 DEV : loss 0.03610670939087868 - f1-score (micro avg)  0.9301\n"
          ]
        },
        {
          "output_type": "stream",
          "name": "stderr",
          "text": [
            "\n"
          ]
        },
        {
          "output_type": "stream",
          "name": "stdout",
          "text": [
            "2023-06-29 12:46:05,838 BAD EPOCHS (no improvement): 0\n",
            "2023-06-29 12:46:05,840 saving best model\n",
            "2023-06-29 12:46:06,454 ----------------------------------------------------------------------------------------------------\n",
            "2023-06-29 12:46:10,562 epoch 6 - iter 43/439 - loss 0.05146249 - time (sec): 4.11 - samples/sec: 4791.39 - lr: 0.100000\n",
            "2023-06-29 12:46:14,574 epoch 6 - iter 86/439 - loss 0.05238935 - time (sec): 8.12 - samples/sec: 4929.67 - lr: 0.100000\n",
            "2023-06-29 12:46:18,465 epoch 6 - iter 129/439 - loss 0.05215242 - time (sec): 12.01 - samples/sec: 4977.52 - lr: 0.100000\n",
            "2023-06-29 12:46:22,626 epoch 6 - iter 172/439 - loss 0.05213691 - time (sec): 16.17 - samples/sec: 4928.28 - lr: 0.100000\n",
            "2023-06-29 12:46:26,381 epoch 6 - iter 215/439 - loss 0.05187087 - time (sec): 19.92 - samples/sec: 4960.30 - lr: 0.100000\n",
            "2023-06-29 12:46:30,384 epoch 6 - iter 258/439 - loss 0.05205985 - time (sec): 23.93 - samples/sec: 4988.84 - lr: 0.100000\n",
            "2023-06-29 12:46:34,455 epoch 6 - iter 301/439 - loss 0.05131055 - time (sec): 28.00 - samples/sec: 4997.74 - lr: 0.100000\n",
            "2023-06-29 12:46:38,645 epoch 6 - iter 344/439 - loss 0.05123684 - time (sec): 32.19 - samples/sec: 4970.83 - lr: 0.100000\n",
            "2023-06-29 12:46:42,571 epoch 6 - iter 387/439 - loss 0.05161848 - time (sec): 36.11 - samples/sec: 4997.05 - lr: 0.100000\n",
            "2023-06-29 12:46:46,357 epoch 6 - iter 430/439 - loss 0.05148235 - time (sec): 39.90 - samples/sec: 5002.73 - lr: 0.100000\n",
            "2023-06-29 12:46:47,159 ----------------------------------------------------------------------------------------------------\n",
            "2023-06-29 12:46:47,161 EPOCH 6 done: loss 0.0514 - lr 0.100000\n"
          ]
        },
        {
          "output_type": "stream",
          "name": "stderr",
          "text": [
            "100%|██████████| 102/102 [00:13<00:00,  7.61it/s]"
          ]
        },
        {
          "output_type": "stream",
          "name": "stdout",
          "text": [
            "2023-06-29 12:47:00,594 Evaluating as a multi-label problem: False\n",
            "2023-06-29 12:47:00,653 DEV : loss 0.03550270199775696 - f1-score (micro avg)  0.9303\n"
          ]
        },
        {
          "output_type": "stream",
          "name": "stderr",
          "text": [
            "\n"
          ]
        },
        {
          "output_type": "stream",
          "name": "stdout",
          "text": [
            "2023-06-29 12:47:00,856 BAD EPOCHS (no improvement): 0\n",
            "2023-06-29 12:47:00,858 saving best model\n",
            "2023-06-29 12:47:01,552 ----------------------------------------------------------------------------------------------------\n",
            "2023-06-29 12:47:05,787 epoch 7 - iter 43/439 - loss 0.04813179 - time (sec): 4.23 - samples/sec: 4840.31 - lr: 0.100000\n",
            "2023-06-29 12:47:09,639 epoch 7 - iter 86/439 - loss 0.04793395 - time (sec): 8.09 - samples/sec: 4969.15 - lr: 0.100000\n",
            "2023-06-29 12:47:13,372 epoch 7 - iter 129/439 - loss 0.04802948 - time (sec): 11.82 - samples/sec: 5022.68 - lr: 0.100000\n",
            "2023-06-29 12:47:17,313 epoch 7 - iter 172/439 - loss 0.04770927 - time (sec): 15.76 - samples/sec: 5020.22 - lr: 0.100000\n",
            "2023-06-29 12:47:21,251 epoch 7 - iter 215/439 - loss 0.04727895 - time (sec): 19.70 - samples/sec: 5042.57 - lr: 0.100000\n",
            "2023-06-29 12:47:25,137 epoch 7 - iter 258/439 - loss 0.04677018 - time (sec): 23.58 - samples/sec: 5085.85 - lr: 0.100000\n",
            "2023-06-29 12:47:29,005 epoch 7 - iter 301/439 - loss 0.04672816 - time (sec): 27.45 - samples/sec: 5124.67 - lr: 0.100000\n",
            "2023-06-29 12:47:33,024 epoch 7 - iter 344/439 - loss 0.04658416 - time (sec): 31.47 - samples/sec: 5077.06 - lr: 0.100000\n",
            "2023-06-29 12:47:36,867 epoch 7 - iter 387/439 - loss 0.04658607 - time (sec): 35.31 - samples/sec: 5075.80 - lr: 0.100000\n",
            "2023-06-29 12:47:40,743 epoch 7 - iter 430/439 - loss 0.04656001 - time (sec): 39.19 - samples/sec: 5095.53 - lr: 0.100000\n",
            "2023-06-29 12:47:41,512 ----------------------------------------------------------------------------------------------------\n",
            "2023-06-29 12:47:41,513 EPOCH 7 done: loss 0.0467 - lr 0.100000\n"
          ]
        },
        {
          "output_type": "stream",
          "name": "stderr",
          "text": [
            "100%|██████████| 102/102 [00:13<00:00,  7.68it/s]"
          ]
        },
        {
          "output_type": "stream",
          "name": "stdout",
          "text": [
            "2023-06-29 12:47:54,815 Evaluating as a multi-label problem: False\n",
            "2023-06-29 12:47:54,868 DEV : loss 0.03325732797384262 - f1-score (micro avg)  0.938\n"
          ]
        },
        {
          "output_type": "stream",
          "name": "stderr",
          "text": [
            "\n"
          ]
        },
        {
          "output_type": "stream",
          "name": "stdout",
          "text": [
            "2023-06-29 12:47:55,056 BAD EPOCHS (no improvement): 0\n",
            "2023-06-29 12:47:55,058 saving best model\n",
            "2023-06-29 12:47:55,685 ----------------------------------------------------------------------------------------------------\n",
            "2023-06-29 12:47:59,943 epoch 8 - iter 43/439 - loss 0.04556439 - time (sec): 4.25 - samples/sec: 4674.36 - lr: 0.100000\n",
            "2023-06-29 12:48:03,801 epoch 8 - iter 86/439 - loss 0.04476519 - time (sec): 8.11 - samples/sec: 4879.25 - lr: 0.100000\n",
            "2023-06-29 12:48:07,530 epoch 8 - iter 129/439 - loss 0.04368607 - time (sec): 11.84 - samples/sec: 5013.49 - lr: 0.100000\n",
            "2023-06-29 12:48:11,261 epoch 8 - iter 172/439 - loss 0.04424203 - time (sec): 15.57 - samples/sec: 5085.99 - lr: 0.100000\n",
            "2023-06-29 12:48:15,415 epoch 8 - iter 215/439 - loss 0.04344215 - time (sec): 19.73 - samples/sec: 5060.29 - lr: 0.100000\n",
            "2023-06-29 12:48:19,165 epoch 8 - iter 258/439 - loss 0.04306941 - time (sec): 23.48 - samples/sec: 5095.08 - lr: 0.100000\n",
            "2023-06-29 12:48:23,034 epoch 8 - iter 301/439 - loss 0.04252527 - time (sec): 27.35 - samples/sec: 5106.94 - lr: 0.100000\n",
            "2023-06-29 12:48:26,906 epoch 8 - iter 344/439 - loss 0.04212540 - time (sec): 31.22 - samples/sec: 5096.63 - lr: 0.100000\n",
            "2023-06-29 12:48:30,950 epoch 8 - iter 387/439 - loss 0.04200935 - time (sec): 35.26 - samples/sec: 5098.61 - lr: 0.100000\n",
            "2023-06-29 12:48:34,750 epoch 8 - iter 430/439 - loss 0.04260473 - time (sec): 39.06 - samples/sec: 5108.49 - lr: 0.100000\n",
            "2023-06-29 12:48:35,544 ----------------------------------------------------------------------------------------------------\n",
            "2023-06-29 12:48:35,546 EPOCH 8 done: loss 0.0424 - lr 0.100000\n"
          ]
        },
        {
          "output_type": "stream",
          "name": "stderr",
          "text": [
            "100%|██████████| 102/102 [00:15<00:00,  6.42it/s]"
          ]
        },
        {
          "output_type": "stream",
          "name": "stdout",
          "text": [
            "2023-06-29 12:48:51,459 Evaluating as a multi-label problem: False\n",
            "2023-06-29 12:48:51,510 DEV : loss 0.0327528677880764 - f1-score (micro avg)  0.9423\n"
          ]
        },
        {
          "output_type": "stream",
          "name": "stderr",
          "text": [
            "\n"
          ]
        },
        {
          "output_type": "stream",
          "name": "stdout",
          "text": [
            "2023-06-29 12:48:51,691 BAD EPOCHS (no improvement): 0\n",
            "2023-06-29 12:48:51,694 saving best model\n",
            "2023-06-29 12:48:52,311 ----------------------------------------------------------------------------------------------------\n",
            "2023-06-29 12:48:56,571 epoch 9 - iter 43/439 - loss 0.03768802 - time (sec): 4.26 - samples/sec: 4891.84 - lr: 0.100000\n",
            "2023-06-29 12:49:00,433 epoch 9 - iter 86/439 - loss 0.03850997 - time (sec): 8.12 - samples/sec: 5058.15 - lr: 0.100000\n",
            "2023-06-29 12:49:04,230 epoch 9 - iter 129/439 - loss 0.03878154 - time (sec): 11.92 - samples/sec: 5103.69 - lr: 0.100000\n",
            "2023-06-29 12:49:08,127 epoch 9 - iter 172/439 - loss 0.03907917 - time (sec): 15.82 - samples/sec: 5103.59 - lr: 0.100000\n",
            "2023-06-29 12:49:12,140 epoch 9 - iter 215/439 - loss 0.03957303 - time (sec): 19.83 - samples/sec: 5074.13 - lr: 0.100000\n",
            "2023-06-29 12:49:16,043 epoch 9 - iter 258/439 - loss 0.04001516 - time (sec): 23.73 - samples/sec: 5093.64 - lr: 0.100000\n",
            "2023-06-29 12:49:19,933 epoch 9 - iter 301/439 - loss 0.03967098 - time (sec): 27.62 - samples/sec: 5076.35 - lr: 0.100000\n",
            "2023-06-29 12:49:23,937 epoch 9 - iter 344/439 - loss 0.04036289 - time (sec): 31.63 - samples/sec: 5065.47 - lr: 0.100000\n",
            "2023-06-29 12:49:27,853 epoch 9 - iter 387/439 - loss 0.04079816 - time (sec): 35.54 - samples/sec: 5060.49 - lr: 0.100000\n",
            "2023-06-29 12:49:31,713 epoch 9 - iter 430/439 - loss 0.04085660 - time (sec): 39.40 - samples/sec: 5062.41 - lr: 0.100000\n",
            "2023-06-29 12:49:32,495 ----------------------------------------------------------------------------------------------------\n",
            "2023-06-29 12:49:32,497 EPOCH 9 done: loss 0.0410 - lr 0.100000\n"
          ]
        },
        {
          "output_type": "stream",
          "name": "stderr",
          "text": [
            "100%|██████████| 102/102 [00:13<00:00,  7.56it/s]"
          ]
        },
        {
          "output_type": "stream",
          "name": "stdout",
          "text": [
            "2023-06-29 12:49:46,007 Evaluating as a multi-label problem: False\n",
            "2023-06-29 12:49:46,060 DEV : loss 0.03205692395567894 - f1-score (micro avg)  0.9405\n"
          ]
        },
        {
          "output_type": "stream",
          "name": "stderr",
          "text": [
            "\n"
          ]
        },
        {
          "output_type": "stream",
          "name": "stdout",
          "text": [
            "2023-06-29 12:49:46,239 BAD EPOCHS (no improvement): 1\n",
            "2023-06-29 12:49:46,241 ----------------------------------------------------------------------------------------------------\n",
            "2023-06-29 12:49:50,178 epoch 10 - iter 43/439 - loss 0.03895002 - time (sec): 3.94 - samples/sec: 4857.28 - lr: 0.100000\n",
            "2023-06-29 12:49:54,263 epoch 10 - iter 86/439 - loss 0.03899243 - time (sec): 8.02 - samples/sec: 4912.72 - lr: 0.100000\n",
            "2023-06-29 12:49:58,064 epoch 10 - iter 129/439 - loss 0.03850809 - time (sec): 11.82 - samples/sec: 5009.15 - lr: 0.100000\n",
            "2023-06-29 12:50:02,101 epoch 10 - iter 172/439 - loss 0.03813402 - time (sec): 15.86 - samples/sec: 5065.75 - lr: 0.100000\n",
            "2023-06-29 12:50:06,149 epoch 10 - iter 215/439 - loss 0.03815666 - time (sec): 19.91 - samples/sec: 5065.61 - lr: 0.100000\n",
            "2023-06-29 12:50:10,002 epoch 10 - iter 258/439 - loss 0.03799916 - time (sec): 23.76 - samples/sec: 5091.11 - lr: 0.100000\n",
            "2023-06-29 12:50:13,791 epoch 10 - iter 301/439 - loss 0.03731726 - time (sec): 27.55 - samples/sec: 5107.19 - lr: 0.100000\n",
            "2023-06-29 12:50:17,715 epoch 10 - iter 344/439 - loss 0.03706472 - time (sec): 31.47 - samples/sec: 5091.16 - lr: 0.100000\n",
            "2023-06-29 12:50:21,841 epoch 10 - iter 387/439 - loss 0.03687098 - time (sec): 35.60 - samples/sec: 5053.33 - lr: 0.100000\n",
            "2023-06-29 12:50:25,724 epoch 10 - iter 430/439 - loss 0.03719920 - time (sec): 39.48 - samples/sec: 5052.63 - lr: 0.100000\n",
            "2023-06-29 12:50:26,552 ----------------------------------------------------------------------------------------------------\n",
            "2023-06-29 12:50:26,554 EPOCH 10 done: loss 0.0372 - lr 0.100000\n"
          ]
        },
        {
          "output_type": "stream",
          "name": "stderr",
          "text": [
            "100%|██████████| 102/102 [00:13<00:00,  7.56it/s]"
          ]
        },
        {
          "output_type": "stream",
          "name": "stdout",
          "text": [
            "2023-06-29 12:50:40,078 Evaluating as a multi-label problem: False\n",
            "2023-06-29 12:50:40,128 DEV : loss 0.03218387812376022 - f1-score (micro avg)  0.9441\n"
          ]
        },
        {
          "output_type": "stream",
          "name": "stderr",
          "text": [
            "\n"
          ]
        },
        {
          "output_type": "stream",
          "name": "stdout",
          "text": [
            "2023-06-29 12:50:40,310 BAD EPOCHS (no improvement): 0\n",
            "2023-06-29 12:50:40,312 saving best model\n",
            "2023-06-29 12:50:41,897 ----------------------------------------------------------------------------------------------------\n",
            "2023-06-29 12:50:42,699 SequenceTagger predicts: Dictionary with 19 tags: O, S-LOC, B-LOC, E-LOC, I-LOC, S-PER, B-PER, E-PER, I-PER, S-ORG, B-ORG, E-ORG, I-ORG, S-MISC, B-MISC, E-MISC, I-MISC, <START>, <STOP>\n"
          ]
        },
        {
          "output_type": "stream",
          "name": "stderr",
          "text": [
            "100%|██████████| 108/108 [00:33<00:00,  3.21it/s]"
          ]
        },
        {
          "output_type": "stream",
          "name": "stdout",
          "text": [
            "2023-06-29 12:51:16,687 Evaluating as a multi-label problem: False\n",
            "2023-06-29 12:51:16,736 0.9106\t0.9017\t0.9061\t0.8678\n",
            "2023-06-29 12:51:16,737 \n",
            "Results:\n",
            "- F-score (micro) 0.9061\n",
            "- F-score (macro) 0.8924\n",
            "- Accuracy 0.8678\n",
            "\n",
            "By class:\n",
            "              precision    recall  f1-score   support\n",
            "\n",
            "         LOC     0.9284    0.9167    0.9225      1668\n",
            "         ORG     0.8844    0.8754    0.8799      1661\n",
            "         PER     0.9550    0.9592    0.9571      1617\n",
            "        MISC     0.8245    0.7963    0.8101       702\n",
            "\n",
            "   micro avg     0.9106    0.9017    0.9061      5648\n",
            "   macro avg     0.8981    0.8869    0.8924      5648\n",
            "weighted avg     0.9102    0.9017    0.9059      5648\n",
            "\n",
            "2023-06-29 12:51:16,740 ----------------------------------------------------------------------------------------------------\n"
          ]
        },
        {
          "output_type": "stream",
          "name": "stderr",
          "text": [
            "\n"
          ]
        }
      ]
    },
    {
      "cell_type": "markdown",
      "source": [
        "Glove"
      ],
      "metadata": {
        "id": "u3qPwu4Mtk4i"
      }
    },
    {
      "cell_type": "code",
      "source": [
        "for corpus in corpus_dataset:\n",
        "    # Cria um dicionário de tags usando o corpus combinado\n",
        "    tag_dictionary = corpus.make_label_dictionary(label_type=tag_type)\n",
        "\n",
        "    # Define o tipo de embedding desejado\n",
        "    embeddings = WordEmbeddings('glove')\n",
        "\n",
        "    # Criação de um objeto SequenceTagger\n",
        "    tagger: SequenceTagger = SequenceTagger(\n",
        "        hidden_size=256,                   # Tamanho da camada oculta do modelo\n",
        "        embeddings=embeddings,             # Embeddings utilizados como entrada para o modelo\n",
        "        tag_dictionary=tag_dictionary,     # Dicionário de rótulos utilizado pelo modelo\n",
        "        tag_type=tag_type,                 # Tipo de rótulo utilizado (por exemplo, NER)\n",
        "        use_crf=True                      # Indicação de uso do CRF (Conditional Random Field) para decodificar as sequências de rótulos\n",
        "    )\n",
        "\n",
        "    # Treino do modelo Flair\n",
        "    trainer: ModelTrainer = ModelTrainer(tagger, corpus)\n",
        "    trainer.train(\n",
        "        f'resources/glove/taggers/{corpus}',   # Diretório para salvar os resultados do treinamento\n",
        "        learning_rate=0.1,                      # Taxa de aprendizado\n",
        "        mini_batch_size=32,                     # Tamanho do mini-batch\n",
        "        optimizer=SGDW,                         # Otimizador\n",
        "        max_epochs=10                           # Número máximo de épocas\n",
        "    )\n"
      ],
      "metadata": {
        "id": "16yCpcWKtg1V",
        "colab": {
          "base_uri": "https://localhost:8080/"
        },
        "outputId": "f35ddd05-8f5e-4609-d5fb-70cd9858dd2e"
      },
      "execution_count": null,
      "outputs": [
        {
          "output_type": "stream",
          "name": "stdout",
          "text": [
            "2023-06-29 12:51:16,751 Computing label dictionary. Progress:\n"
          ]
        },
        {
          "output_type": "stream",
          "name": "stderr",
          "text": [
            "333it [00:00, 31288.15it/s]"
          ]
        },
        {
          "output_type": "stream",
          "name": "stdout",
          "text": [
            "2023-06-29 12:51:16,768 Dictionary created for label 'ner' with 8 values: ActivityData (seen 402 times), Activity (seen 400 times), Actor (seen 373 times), XORGateway (seen 93 times), ConditionSpecification (seen 72 times), FurtherSpecification (seen 60 times), ANDGateway (seen 6 times)\n"
          ]
        },
        {
          "output_type": "stream",
          "name": "stderr",
          "text": [
            "\n"
          ]
        },
        {
          "output_type": "stream",
          "name": "stdout",
          "text": [
            "2023-06-29 12:51:17,780 https://flair.informatik.hu-berlin.de/resources/embeddings/token/glove.gensim.vectors.npy not found in cache, downloading to /tmp/tmpv6h96aiv\n"
          ]
        },
        {
          "output_type": "stream",
          "name": "stderr",
          "text": [
            "100%|██████████| 153M/153M [00:13<00:00, 12.0MB/s]"
          ]
        },
        {
          "output_type": "stream",
          "name": "stdout",
          "text": [
            "2023-06-29 12:51:31,795 copying /tmp/tmpv6h96aiv to cache at /root/.flair/embeddings/glove.gensim.vectors.npy\n"
          ]
        },
        {
          "output_type": "stream",
          "name": "stderr",
          "text": [
            "\n"
          ]
        },
        {
          "output_type": "stream",
          "name": "stdout",
          "text": [
            "2023-06-29 12:51:32,096 removing temp file /tmp/tmpv6h96aiv\n",
            "2023-06-29 12:51:32,811 https://flair.informatik.hu-berlin.de/resources/embeddings/token/glove.gensim not found in cache, downloading to /tmp/tmphb1rhiof\n"
          ]
        },
        {
          "output_type": "stream",
          "name": "stderr",
          "text": [
            "100%|██████████| 20.5M/20.5M [00:03<00:00, 6.60MB/s]"
          ]
        },
        {
          "output_type": "stream",
          "name": "stdout",
          "text": [
            "2023-06-29 12:51:36,789 copying /tmp/tmphb1rhiof to cache at /root/.flair/embeddings/glove.gensim\n",
            "2023-06-29 12:51:36,806 removing temp file /tmp/tmphb1rhiof\n"
          ]
        },
        {
          "output_type": "stream",
          "name": "stderr",
          "text": [
            "\n"
          ]
        },
        {
          "output_type": "stream",
          "name": "stdout",
          "text": [
            "2023-06-29 12:51:40,347 SequenceTagger predicts: Dictionary with 29 tags: O, S-ActivityData, B-ActivityData, E-ActivityData, I-ActivityData, S-Activity, B-Activity, E-Activity, I-Activity, S-Actor, B-Actor, E-Actor, I-Actor, S-XORGateway, B-XORGateway, E-XORGateway, I-XORGateway, S-ConditionSpecification, B-ConditionSpecification, E-ConditionSpecification, I-ConditionSpecification, S-FurtherSpecification, B-FurtherSpecification, E-FurtherSpecification, I-FurtherSpecification, S-ANDGateway, B-ANDGateway, E-ANDGateway, I-ANDGateway\n",
            "2023-06-29 12:51:40,362 ----------------------------------------------------------------------------------------------------\n",
            "2023-06-29 12:51:40,364 Model: \"SequenceTagger(\n",
            "  (embeddings): WordEmbeddings(\n",
            "    'glove'\n",
            "    (embedding): Embedding(400001, 100)\n",
            "  )\n",
            "  (word_dropout): WordDropout(p=0.05)\n",
            "  (locked_dropout): LockedDropout(p=0.5)\n",
            "  (embedding2nn): Linear(in_features=100, out_features=100, bias=True)\n",
            "  (rnn): LSTM(100, 256, batch_first=True, bidirectional=True)\n",
            "  (linear): Linear(in_features=512, out_features=31, bias=True)\n",
            "  (loss_function): ViterbiLoss()\n",
            "  (crf): CRF()\n",
            ")\"\n",
            "2023-06-29 12:51:40,366 ----------------------------------------------------------------------------------------------------\n",
            "2023-06-29 12:51:40,368 Corpus: \"Corpus: 333 train + 41 dev + 41 test sentences\"\n",
            "2023-06-29 12:51:40,369 ----------------------------------------------------------------------------------------------------\n",
            "2023-06-29 12:51:40,370 Parameters:\n",
            "2023-06-29 12:51:40,371  - learning_rate: \"0.100000\"\n",
            "2023-06-29 12:51:40,373  - mini_batch_size: \"32\"\n",
            "2023-06-29 12:51:40,378  - patience: \"3\"\n",
            "2023-06-29 12:51:40,379  - anneal_factor: \"0.5\"\n",
            "2023-06-29 12:51:40,380  - max_epochs: \"10\"\n",
            "2023-06-29 12:51:40,381  - shuffle: \"True\"\n",
            "2023-06-29 12:51:40,385  - train_with_dev: \"False\"\n",
            "2023-06-29 12:51:40,386  - batch_growth_annealing: \"False\"\n",
            "2023-06-29 12:51:40,387 ----------------------------------------------------------------------------------------------------\n",
            "2023-06-29 12:51:40,389 Model training base path: \"resources/glove/taggers/Corpus: 333 train + 41 dev + 41 test sentences\"\n",
            "2023-06-29 12:51:40,391 ----------------------------------------------------------------------------------------------------\n",
            "2023-06-29 12:51:40,392 Device: cuda:0\n",
            "2023-06-29 12:51:40,393 ----------------------------------------------------------------------------------------------------\n",
            "2023-06-29 12:51:40,396 Embeddings storage mode: cpu\n",
            "2023-06-29 12:51:40,398 ----------------------------------------------------------------------------------------------------\n",
            "2023-06-29 12:51:40,490 epoch 1 - iter 1/11 - loss 3.58059074 - time (sec): 0.09 - samples/sec: 6384.78 - lr: 0.100000\n",
            "2023-06-29 12:51:40,577 epoch 1 - iter 2/11 - loss 3.34534967 - time (sec): 0.18 - samples/sec: 6813.68 - lr: 0.100000\n",
            "2023-06-29 12:51:40,659 epoch 1 - iter 3/11 - loss 3.10954948 - time (sec): 0.26 - samples/sec: 6873.44 - lr: 0.100000\n",
            "2023-06-29 12:51:40,730 epoch 1 - iter 4/11 - loss 2.98173724 - time (sec): 0.33 - samples/sec: 7310.02 - lr: 0.100000\n",
            "2023-06-29 12:51:40,805 epoch 1 - iter 5/11 - loss 2.85981778 - time (sec): 0.41 - samples/sec: 7346.84 - lr: 0.100000\n",
            "2023-06-29 12:51:40,881 epoch 1 - iter 6/11 - loss 2.82817252 - time (sec): 0.48 - samples/sec: 7303.69 - lr: 0.100000\n",
            "2023-06-29 12:51:40,991 epoch 1 - iter 7/11 - loss 2.76639982 - time (sec): 0.59 - samples/sec: 6934.88 - lr: 0.100000\n",
            "2023-06-29 12:51:41,090 epoch 1 - iter 8/11 - loss 2.72859890 - time (sec): 0.69 - samples/sec: 6748.78 - lr: 0.100000\n",
            "2023-06-29 12:51:41,160 epoch 1 - iter 9/11 - loss 2.71629118 - time (sec): 0.76 - samples/sec: 6938.69 - lr: 0.100000\n",
            "2023-06-29 12:51:41,226 epoch 1 - iter 10/11 - loss 2.69423837 - time (sec): 0.83 - samples/sec: 6989.13 - lr: 0.100000\n",
            "2023-06-29 12:51:41,269 epoch 1 - iter 11/11 - loss 2.67804858 - time (sec): 0.87 - samples/sec: 6945.56 - lr: 0.100000\n",
            "2023-06-29 12:51:41,271 ----------------------------------------------------------------------------------------------------\n",
            "2023-06-29 12:51:41,273 EPOCH 1 done: loss 2.6780 - lr 0.100000\n"
          ]
        },
        {
          "output_type": "stream",
          "name": "stderr",
          "text": [
            "100%|██████████| 2/2 [00:00<00:00, 12.48it/s]"
          ]
        },
        {
          "output_type": "stream",
          "name": "stdout",
          "text": [
            "2023-06-29 12:51:41,441 Evaluating as a multi-label problem: False\n",
            "2023-06-29 12:51:41,456 DEV : loss 2.3100924491882324 - f1-score (micro avg)  0.0\n",
            "2023-06-29 12:51:41,463 BAD EPOCHS (no improvement): 0\n",
            "2023-06-29 12:51:41,464 saving best model\n"
          ]
        },
        {
          "output_type": "stream",
          "name": "stderr",
          "text": [
            "\n"
          ]
        },
        {
          "output_type": "stream",
          "name": "stdout",
          "text": [
            "2023-06-29 12:51:42,112 ----------------------------------------------------------------------------------------------------\n",
            "2023-06-29 12:51:42,190 epoch 2 - iter 1/11 - loss 2.40942039 - time (sec): 0.08 - samples/sec: 8000.78 - lr: 0.100000\n",
            "2023-06-29 12:51:42,252 epoch 2 - iter 2/11 - loss 2.39223246 - time (sec): 0.14 - samples/sec: 8666.13 - lr: 0.100000\n",
            "2023-06-29 12:51:42,316 epoch 2 - iter 3/11 - loss 2.41244791 - time (sec): 0.20 - samples/sec: 8784.44 - lr: 0.100000\n",
            "2023-06-29 12:51:42,390 epoch 2 - iter 4/11 - loss 2.37056228 - time (sec): 0.28 - samples/sec: 8338.99 - lr: 0.100000\n",
            "2023-06-29 12:51:42,458 epoch 2 - iter 5/11 - loss 2.38068919 - time (sec): 0.34 - samples/sec: 8435.98 - lr: 0.100000\n",
            "2023-06-29 12:51:42,530 epoch 2 - iter 6/11 - loss 2.36896489 - time (sec): 0.42 - samples/sec: 8364.32 - lr: 0.100000\n",
            "2023-06-29 12:51:42,614 epoch 2 - iter 7/11 - loss 2.30105409 - time (sec): 0.50 - samples/sec: 8256.73 - lr: 0.100000\n",
            "2023-06-29 12:51:42,679 epoch 2 - iter 8/11 - loss 2.29529134 - time (sec): 0.56 - samples/sec: 8240.52 - lr: 0.100000\n",
            "2023-06-29 12:51:42,762 epoch 2 - iter 9/11 - loss 2.31125081 - time (sec): 0.65 - samples/sec: 8131.56 - lr: 0.100000\n",
            "2023-06-29 12:51:42,835 epoch 2 - iter 10/11 - loss 2.28319125 - time (sec): 0.72 - samples/sec: 8077.88 - lr: 0.100000\n",
            "2023-06-29 12:51:42,882 epoch 2 - iter 11/11 - loss 2.27794970 - time (sec): 0.77 - samples/sec: 7872.32 - lr: 0.100000\n",
            "2023-06-29 12:51:42,884 ----------------------------------------------------------------------------------------------------\n",
            "2023-06-29 12:51:42,885 EPOCH 2 done: loss 2.2779 - lr 0.100000\n"
          ]
        },
        {
          "output_type": "stream",
          "name": "stderr",
          "text": [
            "100%|██████████| 2/2 [00:00<00:00, 12.95it/s]"
          ]
        },
        {
          "output_type": "stream",
          "name": "stdout",
          "text": [
            "2023-06-29 12:51:43,049 Evaluating as a multi-label problem: False\n",
            "2023-06-29 12:51:43,063 DEV : loss 2.249908208847046 - f1-score (micro avg)  0.0\n",
            "2023-06-29 12:51:43,069 BAD EPOCHS (no improvement): 0\n",
            "2023-06-29 12:51:43,071 ----------------------------------------------------------------------------------------------------\n"
          ]
        },
        {
          "output_type": "stream",
          "name": "stderr",
          "text": [
            "\n"
          ]
        },
        {
          "output_type": "stream",
          "name": "stdout",
          "text": [
            "2023-06-29 12:51:43,143 epoch 3 - iter 1/11 - loss 2.23694312 - time (sec): 0.07 - samples/sec: 9209.29 - lr: 0.100000\n",
            "2023-06-29 12:51:43,217 epoch 3 - iter 2/11 - loss 2.13866299 - time (sec): 0.15 - samples/sec: 8429.66 - lr: 0.100000\n",
            "2023-06-29 12:51:43,280 epoch 3 - iter 3/11 - loss 2.15853829 - time (sec): 0.21 - samples/sec: 8376.07 - lr: 0.100000\n",
            "2023-06-29 12:51:43,343 epoch 3 - iter 4/11 - loss 2.16058565 - time (sec): 0.27 - samples/sec: 8475.86 - lr: 0.100000\n",
            "2023-06-29 12:51:43,410 epoch 3 - iter 5/11 - loss 2.14979485 - time (sec): 0.34 - samples/sec: 8437.28 - lr: 0.100000\n",
            "2023-06-29 12:51:43,477 epoch 3 - iter 6/11 - loss 2.18506881 - time (sec): 0.40 - samples/sec: 8438.53 - lr: 0.100000\n",
            "2023-06-29 12:51:43,560 epoch 3 - iter 7/11 - loss 2.19693820 - time (sec): 0.49 - samples/sec: 8156.32 - lr: 0.100000\n",
            "2023-06-29 12:51:43,636 epoch 3 - iter 8/11 - loss 2.18749918 - time (sec): 0.56 - samples/sec: 8131.76 - lr: 0.100000\n",
            "2023-06-29 12:51:43,717 epoch 3 - iter 9/11 - loss 2.17543920 - time (sec): 0.64 - samples/sec: 8125.12 - lr: 0.100000\n",
            "2023-06-29 12:51:43,793 epoch 3 - iter 10/11 - loss 2.14877797 - time (sec): 0.72 - samples/sec: 8070.74 - lr: 0.100000\n",
            "2023-06-29 12:51:43,833 epoch 3 - iter 11/11 - loss 2.15208534 - time (sec): 0.76 - samples/sec: 7937.91 - lr: 0.100000\n",
            "2023-06-29 12:51:43,836 ----------------------------------------------------------------------------------------------------\n",
            "2023-06-29 12:51:43,837 EPOCH 3 done: loss 2.1521 - lr 0.100000\n"
          ]
        },
        {
          "output_type": "stream",
          "name": "stderr",
          "text": [
            "100%|██████████| 2/2 [00:00<00:00, 13.37it/s]"
          ]
        },
        {
          "output_type": "stream",
          "name": "stdout",
          "text": [
            "2023-06-29 12:51:43,994 Evaluating as a multi-label problem: False\n",
            "2023-06-29 12:51:44,008 DEV : loss 2.0731563568115234 - f1-score (micro avg)  0.0\n",
            "2023-06-29 12:51:44,014 BAD EPOCHS (no improvement): 0\n",
            "2023-06-29 12:51:44,016 ----------------------------------------------------------------------------------------------------\n"
          ]
        },
        {
          "output_type": "stream",
          "name": "stderr",
          "text": [
            "\n"
          ]
        },
        {
          "output_type": "stream",
          "name": "stdout",
          "text": [
            "2023-06-29 12:51:44,109 epoch 4 - iter 1/11 - loss 1.90503623 - time (sec): 0.09 - samples/sec: 6802.91 - lr: 0.100000\n",
            "2023-06-29 12:51:44,179 epoch 4 - iter 2/11 - loss 2.05048851 - time (sec): 0.16 - samples/sec: 7879.57 - lr: 0.100000\n",
            "2023-06-29 12:51:44,242 epoch 4 - iter 3/11 - loss 2.07868863 - time (sec): 0.22 - samples/sec: 8123.72 - lr: 0.100000\n",
            "2023-06-29 12:51:44,331 epoch 4 - iter 4/11 - loss 2.07242879 - time (sec): 0.31 - samples/sec: 7697.14 - lr: 0.100000\n",
            "2023-06-29 12:51:44,394 epoch 4 - iter 5/11 - loss 2.01920975 - time (sec): 0.38 - samples/sec: 7788.54 - lr: 0.100000\n",
            "2023-06-29 12:51:44,463 epoch 4 - iter 6/11 - loss 2.03234588 - time (sec): 0.45 - samples/sec: 7765.54 - lr: 0.100000\n",
            "2023-06-29 12:51:44,543 epoch 4 - iter 7/11 - loss 1.99778389 - time (sec): 0.53 - samples/sec: 7660.37 - lr: 0.100000\n",
            "2023-06-29 12:51:44,602 epoch 4 - iter 8/11 - loss 2.02606494 - time (sec): 0.58 - samples/sec: 7857.77 - lr: 0.100000\n",
            "2023-06-29 12:51:44,676 epoch 4 - iter 9/11 - loss 2.02988925 - time (sec): 0.66 - samples/sec: 7854.84 - lr: 0.100000\n",
            "2023-06-29 12:51:44,737 epoch 4 - iter 10/11 - loss 2.04086363 - time (sec): 0.72 - samples/sec: 8103.75 - lr: 0.100000\n",
            "2023-06-29 12:51:44,778 epoch 4 - iter 11/11 - loss 2.03875576 - time (sec): 0.76 - samples/sec: 7957.80 - lr: 0.100000\n",
            "2023-06-29 12:51:44,780 ----------------------------------------------------------------------------------------------------\n",
            "2023-06-29 12:51:44,782 EPOCH 4 done: loss 2.0388 - lr 0.100000\n"
          ]
        },
        {
          "output_type": "stream",
          "name": "stderr",
          "text": [
            "100%|██████████| 2/2 [00:00<00:00, 13.64it/s]"
          ]
        },
        {
          "output_type": "stream",
          "name": "stdout",
          "text": [
            "2023-06-29 12:51:44,935 Evaluating as a multi-label problem: False\n",
            "2023-06-29 12:51:44,949 DEV : loss 2.054790735244751 - f1-score (micro avg)  0.0\n",
            "2023-06-29 12:51:44,954 BAD EPOCHS (no improvement): 0\n",
            "2023-06-29 12:51:44,955 ----------------------------------------------------------------------------------------------------\n"
          ]
        },
        {
          "output_type": "stream",
          "name": "stderr",
          "text": [
            "\n"
          ]
        },
        {
          "output_type": "stream",
          "name": "stdout",
          "text": [
            "2023-06-29 12:51:45,020 epoch 5 - iter 1/11 - loss 2.03975684 - time (sec): 0.06 - samples/sec: 9850.04 - lr: 0.100000\n",
            "2023-06-29 12:51:45,096 epoch 5 - iter 2/11 - loss 2.07278483 - time (sec): 0.14 - samples/sec: 8676.35 - lr: 0.100000\n",
            "2023-06-29 12:51:45,154 epoch 5 - iter 3/11 - loss 2.05092156 - time (sec): 0.20 - samples/sec: 8933.17 - lr: 0.100000\n",
            "2023-06-29 12:51:45,213 epoch 5 - iter 4/11 - loss 1.99993809 - time (sec): 0.26 - samples/sec: 8982.27 - lr: 0.100000\n",
            "2023-06-29 12:51:45,292 epoch 5 - iter 5/11 - loss 1.99081297 - time (sec): 0.34 - samples/sec: 8749.53 - lr: 0.100000\n",
            "2023-06-29 12:51:45,354 epoch 5 - iter 6/11 - loss 1.99742877 - time (sec): 0.40 - samples/sec: 8718.89 - lr: 0.100000\n",
            "2023-06-29 12:51:45,417 epoch 5 - iter 7/11 - loss 1.99970747 - time (sec): 0.46 - samples/sec: 8549.07 - lr: 0.100000\n",
            "2023-06-29 12:51:45,490 epoch 5 - iter 8/11 - loss 1.98867290 - time (sec): 0.53 - samples/sec: 8554.93 - lr: 0.100000\n",
            "2023-06-29 12:51:45,552 epoch 5 - iter 9/11 - loss 1.98816414 - time (sec): 0.60 - samples/sec: 8666.87 - lr: 0.100000\n",
            "2023-06-29 12:51:45,628 epoch 5 - iter 10/11 - loss 1.97137302 - time (sec): 0.67 - samples/sec: 8631.40 - lr: 0.100000\n",
            "2023-06-29 12:51:45,672 epoch 5 - iter 11/11 - loss 1.96503927 - time (sec): 0.72 - samples/sec: 8438.61 - lr: 0.100000\n",
            "2023-06-29 12:51:45,674 ----------------------------------------------------------------------------------------------------\n",
            "2023-06-29 12:51:45,675 EPOCH 5 done: loss 1.9650 - lr 0.100000\n"
          ]
        },
        {
          "output_type": "stream",
          "name": "stderr",
          "text": [
            "100%|██████████| 2/2 [00:00<00:00, 14.36it/s]"
          ]
        },
        {
          "output_type": "stream",
          "name": "stdout",
          "text": [
            "2023-06-29 12:51:45,822 Evaluating as a multi-label problem: False\n",
            "2023-06-29 12:51:45,836 DEV : loss 1.9525202512741089 - f1-score (micro avg)  0.0\n",
            "2023-06-29 12:51:45,841 BAD EPOCHS (no improvement): 0\n",
            "2023-06-29 12:51:45,843 ----------------------------------------------------------------------------------------------------\n"
          ]
        },
        {
          "output_type": "stream",
          "name": "stderr",
          "text": [
            "\n"
          ]
        },
        {
          "output_type": "stream",
          "name": "stdout",
          "text": [
            "2023-06-29 12:51:45,899 epoch 6 - iter 1/11 - loss 1.95120035 - time (sec): 0.06 - samples/sec: 10043.91 - lr: 0.100000\n",
            "2023-06-29 12:51:45,976 epoch 6 - iter 2/11 - loss 1.96984462 - time (sec): 0.13 - samples/sec: 8703.60 - lr: 0.100000\n",
            "2023-06-29 12:51:46,042 epoch 6 - iter 3/11 - loss 1.87897770 - time (sec): 0.20 - samples/sec: 8651.82 - lr: 0.100000\n",
            "2023-06-29 12:51:46,101 epoch 6 - iter 4/11 - loss 1.85890948 - time (sec): 0.26 - samples/sec: 8892.47 - lr: 0.100000\n",
            "2023-06-29 12:51:46,177 epoch 6 - iter 5/11 - loss 1.90218289 - time (sec): 0.33 - samples/sec: 8556.80 - lr: 0.100000\n",
            "2023-06-29 12:51:46,241 epoch 6 - iter 6/11 - loss 1.93777886 - time (sec): 0.40 - samples/sec: 8707.05 - lr: 0.100000\n",
            "2023-06-29 12:51:46,304 epoch 6 - iter 7/11 - loss 1.91519982 - time (sec): 0.46 - samples/sec: 8768.95 - lr: 0.100000\n",
            "2023-06-29 12:51:46,377 epoch 6 - iter 8/11 - loss 1.89006817 - time (sec): 0.53 - samples/sec: 8643.51 - lr: 0.100000\n",
            "2023-06-29 12:51:46,438 epoch 6 - iter 9/11 - loss 1.88291961 - time (sec): 0.59 - samples/sec: 8717.47 - lr: 0.100000\n",
            "2023-06-29 12:51:46,515 epoch 6 - iter 10/11 - loss 1.87786077 - time (sec): 0.67 - samples/sec: 8632.13 - lr: 0.100000\n",
            "2023-06-29 12:51:46,556 epoch 6 - iter 11/11 - loss 1.89105003 - time (sec): 0.71 - samples/sec: 8478.83 - lr: 0.100000\n",
            "2023-06-29 12:51:46,558 ----------------------------------------------------------------------------------------------------\n",
            "2023-06-29 12:51:46,560 EPOCH 6 done: loss 1.8911 - lr 0.100000\n"
          ]
        },
        {
          "output_type": "stream",
          "name": "stderr",
          "text": [
            "100%|██████████| 2/2 [00:00<00:00, 13.59it/s]"
          ]
        },
        {
          "output_type": "stream",
          "name": "stdout",
          "text": [
            "2023-06-29 12:51:46,714 Evaluating as a multi-label problem: False\n",
            "2023-06-29 12:51:46,728 DEV : loss 1.909122347831726 - f1-score (micro avg)  0.0\n",
            "2023-06-29 12:51:46,734 BAD EPOCHS (no improvement): 0\n",
            "2023-06-29 12:51:46,736 ----------------------------------------------------------------------------------------------------\n"
          ]
        },
        {
          "output_type": "stream",
          "name": "stderr",
          "text": [
            "\n"
          ]
        },
        {
          "output_type": "stream",
          "name": "stdout",
          "text": [
            "2023-06-29 12:51:46,800 epoch 7 - iter 1/11 - loss 2.00678377 - time (sec): 0.06 - samples/sec: 8959.24 - lr: 0.100000\n",
            "2023-06-29 12:51:46,856 epoch 7 - iter 2/11 - loss 1.89951195 - time (sec): 0.12 - samples/sec: 9007.39 - lr: 0.100000\n",
            "2023-06-29 12:51:46,922 epoch 7 - iter 3/11 - loss 1.90639282 - time (sec): 0.19 - samples/sec: 9048.44 - lr: 0.100000\n",
            "2023-06-29 12:51:46,985 epoch 7 - iter 4/11 - loss 1.90727582 - time (sec): 0.25 - samples/sec: 9164.28 - lr: 0.100000\n",
            "2023-06-29 12:51:47,051 epoch 7 - iter 5/11 - loss 1.86796025 - time (sec): 0.31 - samples/sec: 9217.00 - lr: 0.100000\n",
            "2023-06-29 12:51:47,130 epoch 7 - iter 6/11 - loss 1.85495947 - time (sec): 0.39 - samples/sec: 8887.01 - lr: 0.100000\n",
            "2023-06-29 12:51:47,187 epoch 7 - iter 7/11 - loss 1.82706494 - time (sec): 0.45 - samples/sec: 8953.48 - lr: 0.100000\n",
            "2023-06-29 12:51:47,263 epoch 7 - iter 8/11 - loss 1.84299219 - time (sec): 0.53 - samples/sec: 8810.55 - lr: 0.100000\n",
            "2023-06-29 12:51:47,336 epoch 7 - iter 9/11 - loss 1.84167838 - time (sec): 0.60 - samples/sec: 8733.96 - lr: 0.100000\n",
            "2023-06-29 12:51:47,395 epoch 7 - iter 10/11 - loss 1.82023308 - time (sec): 0.66 - samples/sec: 8840.38 - lr: 0.100000\n",
            "2023-06-29 12:51:47,431 epoch 7 - iter 11/11 - loss 1.81420225 - time (sec): 0.69 - samples/sec: 8706.59 - lr: 0.100000\n",
            "2023-06-29 12:51:47,433 ----------------------------------------------------------------------------------------------------\n",
            "2023-06-29 12:51:47,435 EPOCH 7 done: loss 1.8142 - lr 0.100000\n"
          ]
        },
        {
          "output_type": "stream",
          "name": "stderr",
          "text": [
            "100%|██████████| 2/2 [00:00<00:00, 14.06it/s]"
          ]
        },
        {
          "output_type": "stream",
          "name": "stdout",
          "text": [
            "2023-06-29 12:51:47,584 Evaluating as a multi-label problem: False\n",
            "2023-06-29 12:51:47,597 DEV : loss 1.7768877744674683 - f1-score (micro avg)  0.0\n",
            "2023-06-29 12:51:47,603 BAD EPOCHS (no improvement): 0\n",
            "2023-06-29 12:51:47,604 ----------------------------------------------------------------------------------------------------\n"
          ]
        },
        {
          "output_type": "stream",
          "name": "stderr",
          "text": [
            "\n"
          ]
        },
        {
          "output_type": "stream",
          "name": "stdout",
          "text": [
            "2023-06-29 12:51:47,667 epoch 8 - iter 1/11 - loss 1.67443349 - time (sec): 0.06 - samples/sec: 8803.71 - lr: 0.100000\n",
            "2023-06-29 12:51:47,730 epoch 8 - iter 2/11 - loss 1.58721852 - time (sec): 0.12 - samples/sec: 8869.05 - lr: 0.100000\n",
            "2023-06-29 12:51:47,791 epoch 8 - iter 3/11 - loss 1.67273992 - time (sec): 0.19 - samples/sec: 9162.48 - lr: 0.100000\n",
            "2023-06-29 12:51:47,852 epoch 8 - iter 4/11 - loss 1.68422229 - time (sec): 0.25 - samples/sec: 9285.80 - lr: 0.100000\n",
            "2023-06-29 12:51:47,906 epoch 8 - iter 5/11 - loss 1.70297938 - time (sec): 0.30 - samples/sec: 9361.39 - lr: 0.100000\n",
            "2023-06-29 12:51:47,962 epoch 8 - iter 6/11 - loss 1.68462671 - time (sec): 0.36 - samples/sec: 9283.97 - lr: 0.100000\n",
            "2023-06-29 12:51:48,032 epoch 8 - iter 7/11 - loss 1.68459258 - time (sec): 0.43 - samples/sec: 9136.21 - lr: 0.100000\n",
            "2023-06-29 12:51:48,106 epoch 8 - iter 8/11 - loss 1.68211573 - time (sec): 0.50 - samples/sec: 8926.42 - lr: 0.100000\n",
            "2023-06-29 12:51:48,192 epoch 8 - iter 9/11 - loss 1.68947943 - time (sec): 0.59 - samples/sec: 8785.53 - lr: 0.100000\n",
            "2023-06-29 12:51:48,271 epoch 8 - iter 10/11 - loss 1.69329699 - time (sec): 0.67 - samples/sec: 8693.77 - lr: 0.100000\n",
            "2023-06-29 12:51:48,315 epoch 8 - iter 11/11 - loss 1.70573541 - time (sec): 0.71 - samples/sec: 8515.49 - lr: 0.100000\n",
            "2023-06-29 12:51:48,318 ----------------------------------------------------------------------------------------------------\n",
            "2023-06-29 12:51:48,320 EPOCH 8 done: loss 1.7057 - lr 0.100000\n"
          ]
        },
        {
          "output_type": "stream",
          "name": "stderr",
          "text": [
            "100%|██████████| 2/2 [00:00<00:00, 13.46it/s]"
          ]
        },
        {
          "output_type": "stream",
          "name": "stdout",
          "text": [
            "2023-06-29 12:51:48,475 Evaluating as a multi-label problem: False\n",
            "2023-06-29 12:51:48,487 DEV : loss 1.6994410753250122 - f1-score (micro avg)  0.0\n",
            "2023-06-29 12:51:48,493 BAD EPOCHS (no improvement): 0\n",
            "2023-06-29 12:51:48,495 ----------------------------------------------------------------------------------------------------\n"
          ]
        },
        {
          "output_type": "stream",
          "name": "stderr",
          "text": [
            "\n"
          ]
        },
        {
          "output_type": "stream",
          "name": "stdout",
          "text": [
            "2023-06-29 12:51:48,560 epoch 9 - iter 1/11 - loss 1.67238551 - time (sec): 0.06 - samples/sec: 9620.21 - lr: 0.100000\n",
            "2023-06-29 12:51:48,637 epoch 9 - iter 2/11 - loss 1.72997436 - time (sec): 0.14 - samples/sec: 8372.93 - lr: 0.100000\n",
            "2023-06-29 12:51:48,712 epoch 9 - iter 3/11 - loss 1.65080848 - time (sec): 0.22 - samples/sec: 8268.50 - lr: 0.100000\n",
            "2023-06-29 12:51:48,775 epoch 9 - iter 4/11 - loss 1.68040919 - time (sec): 0.28 - samples/sec: 8424.79 - lr: 0.100000\n",
            "2023-06-29 12:51:48,836 epoch 9 - iter 5/11 - loss 1.66729343 - time (sec): 0.34 - samples/sec: 8752.28 - lr: 0.100000\n",
            "2023-06-29 12:51:48,902 epoch 9 - iter 6/11 - loss 1.66661629 - time (sec): 0.41 - samples/sec: 8603.79 - lr: 0.100000\n",
            "2023-06-29 12:51:48,981 epoch 9 - iter 7/11 - loss 1.63743335 - time (sec): 0.48 - samples/sec: 8557.34 - lr: 0.100000\n",
            "2023-06-29 12:51:49,036 epoch 9 - iter 8/11 - loss 1.66224196 - time (sec): 0.54 - samples/sec: 8661.10 - lr: 0.100000\n",
            "2023-06-29 12:51:49,098 epoch 9 - iter 9/11 - loss 1.66027963 - time (sec): 0.60 - samples/sec: 8699.60 - lr: 0.100000\n",
            "2023-06-29 12:51:49,162 epoch 9 - iter 10/11 - loss 1.65015487 - time (sec): 0.67 - samples/sec: 8716.81 - lr: 0.100000\n",
            "2023-06-29 12:51:49,205 epoch 9 - iter 11/11 - loss 1.64592850 - time (sec): 0.71 - samples/sec: 8517.91 - lr: 0.100000\n",
            "2023-06-29 12:51:49,207 ----------------------------------------------------------------------------------------------------\n",
            "2023-06-29 12:51:49,209 EPOCH 9 done: loss 1.6459 - lr 0.100000\n"
          ]
        },
        {
          "output_type": "stream",
          "name": "stderr",
          "text": [
            "100%|██████████| 2/2 [00:00<00:00, 14.43it/s]"
          ]
        },
        {
          "output_type": "stream",
          "name": "stdout",
          "text": [
            "2023-06-29 12:51:49,355 Evaluating as a multi-label problem: False\n",
            "2023-06-29 12:51:49,368 DEV : loss 1.6723712682724 - f1-score (micro avg)  0.0\n",
            "2023-06-29 12:51:49,374 BAD EPOCHS (no improvement): 0\n",
            "2023-06-29 12:51:49,375 ----------------------------------------------------------------------------------------------------\n"
          ]
        },
        {
          "output_type": "stream",
          "name": "stderr",
          "text": [
            "\n"
          ]
        },
        {
          "output_type": "stream",
          "name": "stdout",
          "text": [
            "2023-06-29 12:51:49,437 epoch 10 - iter 1/11 - loss 1.71190231 - time (sec): 0.06 - samples/sec: 8001.89 - lr: 0.100000\n",
            "2023-06-29 12:51:49,512 epoch 10 - iter 2/11 - loss 1.64536382 - time (sec): 0.14 - samples/sec: 7881.54 - lr: 0.100000\n",
            "2023-06-29 12:51:49,572 epoch 10 - iter 3/11 - loss 1.68748722 - time (sec): 0.20 - samples/sec: 8040.90 - lr: 0.100000\n",
            "2023-06-29 12:51:49,641 epoch 10 - iter 4/11 - loss 1.60478543 - time (sec): 0.26 - samples/sec: 8518.06 - lr: 0.100000\n",
            "2023-06-29 12:51:49,709 epoch 10 - iter 5/11 - loss 1.58512805 - time (sec): 0.33 - samples/sec: 8586.68 - lr: 0.100000\n",
            "2023-06-29 12:51:49,788 epoch 10 - iter 6/11 - loss 1.58035372 - time (sec): 0.41 - samples/sec: 8443.79 - lr: 0.100000\n",
            "2023-06-29 12:51:49,850 epoch 10 - iter 7/11 - loss 1.57698765 - time (sec): 0.47 - samples/sec: 8566.77 - lr: 0.100000\n",
            "2023-06-29 12:51:49,932 epoch 10 - iter 8/11 - loss 1.56590728 - time (sec): 0.56 - samples/sec: 8485.70 - lr: 0.100000\n",
            "2023-06-29 12:51:49,988 epoch 10 - iter 9/11 - loss 1.58533130 - time (sec): 0.61 - samples/sec: 8550.57 - lr: 0.100000\n",
            "2023-06-29 12:51:50,056 epoch 10 - iter 10/11 - loss 1.59175906 - time (sec): 0.68 - samples/sec: 8571.18 - lr: 0.100000\n",
            "2023-06-29 12:51:50,112 epoch 10 - iter 11/11 - loss 1.59040188 - time (sec): 0.74 - samples/sec: 8213.04 - lr: 0.100000\n",
            "2023-06-29 12:51:50,115 ----------------------------------------------------------------------------------------------------\n",
            "2023-06-29 12:51:50,116 EPOCH 10 done: loss 1.5904 - lr 0.100000\n"
          ]
        },
        {
          "output_type": "stream",
          "name": "stderr",
          "text": [
            "100%|██████████| 2/2 [00:00<00:00, 13.80it/s]"
          ]
        },
        {
          "output_type": "stream",
          "name": "stdout",
          "text": [
            "2023-06-29 12:51:50,267 Evaluating as a multi-label problem: False\n",
            "2023-06-29 12:51:50,281 DEV : loss 1.579336404800415 - f1-score (micro avg)  0.0\n",
            "2023-06-29 12:51:50,287 BAD EPOCHS (no improvement): 0\n"
          ]
        },
        {
          "output_type": "stream",
          "name": "stderr",
          "text": [
            "\n"
          ]
        },
        {
          "output_type": "stream",
          "name": "stdout",
          "text": [
            "2023-06-29 12:51:50,918 ----------------------------------------------------------------------------------------------------\n",
            "2023-06-29 12:51:51,466 SequenceTagger predicts: Dictionary with 31 tags: O, S-ActivityData, B-ActivityData, E-ActivityData, I-ActivityData, S-Activity, B-Activity, E-Activity, I-Activity, S-Actor, B-Actor, E-Actor, I-Actor, S-XORGateway, B-XORGateway, E-XORGateway, I-XORGateway, S-ConditionSpecification, B-ConditionSpecification, E-ConditionSpecification, I-ConditionSpecification, S-FurtherSpecification, B-FurtherSpecification, E-FurtherSpecification, I-FurtherSpecification, S-ANDGateway, B-ANDGateway, E-ANDGateway, I-ANDGateway, <START>, <STOP>\n"
          ]
        },
        {
          "output_type": "stream",
          "name": "stderr",
          "text": [
            "100%|██████████| 2/2 [00:00<00:00, 18.95it/s]"
          ]
        },
        {
          "output_type": "stream",
          "name": "stdout",
          "text": [
            "2023-06-29 12:51:51,670 Evaluating as a multi-label problem: False\n",
            "2023-06-29 12:51:51,683 0.0\t0.0\t0.0\t0.0\n",
            "2023-06-29 12:51:51,684 \n",
            "Results:\n",
            "- F-score (micro) 0.0\n",
            "- F-score (macro) 0.0\n",
            "- Accuracy 0.0\n",
            "\n",
            "By class:\n",
            "                        precision    recall  f1-score   support\n",
            "\n",
            "          ActivityData     0.0000    0.0000    0.0000      61.0\n",
            "              Activity     0.0000    0.0000    0.0000      60.0\n",
            "                 Actor     0.0000    0.0000    0.0000      51.0\n",
            "            XORGateway     0.0000    0.0000    0.0000      10.0\n",
            "ConditionSpecification     0.0000    0.0000    0.0000       7.0\n",
            "  FurtherSpecification     0.0000    0.0000    0.0000       4.0\n",
            "            ANDGateway     0.0000    0.0000    0.0000       2.0\n",
            "\n",
            "             micro avg     0.0000    0.0000    0.0000     195.0\n",
            "             macro avg     0.0000    0.0000    0.0000     195.0\n",
            "          weighted avg     0.0000    0.0000    0.0000     195.0\n",
            "\n",
            "2023-06-29 12:51:51,686 ----------------------------------------------------------------------------------------------------\n",
            "2023-06-29 12:51:51,689 Computing label dictionary. Progress:\n"
          ]
        },
        {
          "output_type": "stream",
          "name": "stderr",
          "text": [
            "\n",
            "14000it [00:00, 53243.57it/s]"
          ]
        },
        {
          "output_type": "stream",
          "name": "stdout",
          "text": [
            "2023-06-29 12:51:51,959 Dictionary created for label 'ner' with 5 values: LOC (seen 8302 times), PER (seen 6286 times), MISC (seen 5873 times), ORG (seen 3664 times)\n"
          ]
        },
        {
          "output_type": "stream",
          "name": "stderr",
          "text": [
            "\n"
          ]
        },
        {
          "output_type": "stream",
          "name": "stdout",
          "text": [
            "2023-06-29 12:51:56,095 SequenceTagger predicts: Dictionary with 17 tags: O, S-LOC, B-LOC, E-LOC, I-LOC, S-PER, B-PER, E-PER, I-PER, S-MISC, B-MISC, E-MISC, I-MISC, S-ORG, B-ORG, E-ORG, I-ORG\n",
            "2023-06-29 12:51:56,109 ----------------------------------------------------------------------------------------------------\n",
            "2023-06-29 12:51:56,112 Model: \"SequenceTagger(\n",
            "  (embeddings): WordEmbeddings(\n",
            "    'glove'\n",
            "    (embedding): Embedding(400001, 100)\n",
            "  )\n",
            "  (word_dropout): WordDropout(p=0.05)\n",
            "  (locked_dropout): LockedDropout(p=0.5)\n",
            "  (embedding2nn): Linear(in_features=100, out_features=100, bias=True)\n",
            "  (rnn): LSTM(100, 256, batch_first=True, bidirectional=True)\n",
            "  (linear): Linear(in_features=512, out_features=19, bias=True)\n",
            "  (loss_function): ViterbiLoss()\n",
            "  (crf): CRF()\n",
            ")\"\n",
            "2023-06-29 12:51:56,113 ----------------------------------------------------------------------------------------------------\n",
            "2023-06-29 12:51:56,116 Corpus: \"Corpus: 14000 train + 3500 dev + 3500 test sentences\"\n",
            "2023-06-29 12:51:56,117 ----------------------------------------------------------------------------------------------------\n",
            "2023-06-29 12:51:56,119 Parameters:\n",
            "2023-06-29 12:51:56,121  - learning_rate: \"0.100000\"\n",
            "2023-06-29 12:51:56,126  - mini_batch_size: \"32\"\n",
            "2023-06-29 12:51:56,127  - patience: \"3\"\n",
            "2023-06-29 12:51:56,130  - anneal_factor: \"0.5\"\n",
            "2023-06-29 12:51:56,132  - max_epochs: \"10\"\n",
            "2023-06-29 12:51:56,135  - shuffle: \"True\"\n",
            "2023-06-29 12:51:56,137  - train_with_dev: \"False\"\n",
            "2023-06-29 12:51:56,138  - batch_growth_annealing: \"False\"\n",
            "2023-06-29 12:51:56,140 ----------------------------------------------------------------------------------------------------\n",
            "2023-06-29 12:51:56,142 Model training base path: \"resources/glove/taggers/Corpus: 14000 train + 3500 dev + 3500 test sentences\"\n",
            "2023-06-29 12:51:56,143 ----------------------------------------------------------------------------------------------------\n",
            "2023-06-29 12:51:56,145 Device: cuda:0\n",
            "2023-06-29 12:51:56,146 ----------------------------------------------------------------------------------------------------\n",
            "2023-06-29 12:51:56,147 Embeddings storage mode: cpu\n",
            "2023-06-29 12:51:56,150 ----------------------------------------------------------------------------------------------------\n",
            "2023-06-29 12:52:00,419 epoch 1 - iter 43/438 - loss 0.87207434 - time (sec): 4.27 - samples/sec: 7722.53 - lr: 0.100000\n",
            "2023-06-29 12:52:04,451 epoch 1 - iter 86/438 - loss 0.71005409 - time (sec): 8.30 - samples/sec: 7844.49 - lr: 0.100000\n",
            "2023-06-29 12:52:09,020 epoch 1 - iter 129/438 - loss 0.62076916 - time (sec): 12.87 - samples/sec: 7554.89 - lr: 0.100000\n",
            "2023-06-29 12:52:13,404 epoch 1 - iter 172/438 - loss 0.56227759 - time (sec): 17.25 - samples/sec: 7495.08 - lr: 0.100000\n",
            "2023-06-29 12:52:17,435 epoch 1 - iter 215/438 - loss 0.51797717 - time (sec): 21.28 - samples/sec: 7611.93 - lr: 0.100000\n",
            "2023-06-29 12:52:21,585 epoch 1 - iter 258/438 - loss 0.48623509 - time (sec): 25.43 - samples/sec: 7617.16 - lr: 0.100000\n",
            "2023-06-29 12:52:25,962 epoch 1 - iter 301/438 - loss 0.46184763 - time (sec): 29.81 - samples/sec: 7580.72 - lr: 0.100000\n",
            "2023-06-29 12:52:30,281 epoch 1 - iter 344/438 - loss 0.43906455 - time (sec): 34.13 - samples/sec: 7593.92 - lr: 0.100000\n",
            "2023-06-29 12:52:34,383 epoch 1 - iter 387/438 - loss 0.42071669 - time (sec): 38.23 - samples/sec: 7633.75 - lr: 0.100000\n",
            "2023-06-29 12:52:38,835 epoch 1 - iter 430/438 - loss 0.40458971 - time (sec): 42.68 - samples/sec: 7617.65 - lr: 0.100000\n",
            "2023-06-29 12:52:39,593 ----------------------------------------------------------------------------------------------------\n",
            "2023-06-29 12:52:39,596 EPOCH 1 done: loss 0.4022 - lr 0.100000\n"
          ]
        },
        {
          "output_type": "stream",
          "name": "stderr",
          "text": [
            "100%|██████████| 110/110 [00:20<00:00,  5.49it/s]"
          ]
        },
        {
          "output_type": "stream",
          "name": "stdout",
          "text": [
            "2023-06-29 12:52:59,648 Evaluating as a multi-label problem: False\n",
            "2023-06-29 12:52:59,704 DEV : loss 0.18895773589611053 - f1-score (micro avg)  0.5286\n"
          ]
        },
        {
          "output_type": "stream",
          "name": "stderr",
          "text": [
            "\n"
          ]
        },
        {
          "output_type": "stream",
          "name": "stdout",
          "text": [
            "2023-06-29 12:53:00,046 BAD EPOCHS (no improvement): 0\n",
            "2023-06-29 12:53:00,048 saving best model\n",
            "2023-06-29 12:53:00,651 ----------------------------------------------------------------------------------------------------\n",
            "2023-06-29 12:53:04,416 epoch 2 - iter 43/438 - loss 0.25373208 - time (sec): 3.76 - samples/sec: 8588.12 - lr: 0.100000\n",
            "2023-06-29 12:53:08,330 epoch 2 - iter 86/438 - loss 0.24406850 - time (sec): 7.68 - samples/sec: 8435.82 - lr: 0.100000\n",
            "2023-06-29 12:53:12,112 epoch 2 - iter 129/438 - loss 0.24248070 - time (sec): 11.46 - samples/sec: 8471.01 - lr: 0.100000\n",
            "2023-06-29 12:53:15,873 epoch 2 - iter 172/438 - loss 0.23724125 - time (sec): 15.22 - samples/sec: 8507.68 - lr: 0.100000\n",
            "2023-06-29 12:53:19,660 epoch 2 - iter 215/438 - loss 0.23251044 - time (sec): 19.01 - samples/sec: 8515.96 - lr: 0.100000\n",
            "2023-06-29 12:53:23,623 epoch 2 - iter 258/438 - loss 0.22889811 - time (sec): 22.97 - samples/sec: 8473.09 - lr: 0.100000\n",
            "2023-06-29 12:53:27,249 epoch 2 - iter 301/438 - loss 0.22681927 - time (sec): 26.60 - samples/sec: 8525.34 - lr: 0.100000\n",
            "2023-06-29 12:53:31,188 epoch 2 - iter 344/438 - loss 0.22402527 - time (sec): 30.53 - samples/sec: 8506.27 - lr: 0.100000\n",
            "2023-06-29 12:53:35,161 epoch 2 - iter 387/438 - loss 0.22118874 - time (sec): 34.51 - samples/sec: 8476.11 - lr: 0.100000\n",
            "2023-06-29 12:53:39,054 epoch 2 - iter 430/438 - loss 0.21964893 - time (sec): 38.40 - samples/sec: 8461.18 - lr: 0.100000\n",
            "2023-06-29 12:53:39,751 ----------------------------------------------------------------------------------------------------\n",
            "2023-06-29 12:53:39,753 EPOCH 2 done: loss 0.2189 - lr 0.100000\n"
          ]
        },
        {
          "output_type": "stream",
          "name": "stderr",
          "text": [
            "100%|██████████| 110/110 [00:16<00:00,  6.84it/s]\n"
          ]
        },
        {
          "output_type": "stream",
          "name": "stdout",
          "text": [
            "2023-06-29 12:53:55,867 Evaluating as a multi-label problem: False\n",
            "2023-06-29 12:53:55,927 DEV : loss 0.15001189708709717 - f1-score (micro avg)  0.6003\n",
            "2023-06-29 12:53:56,262 BAD EPOCHS (no improvement): 0\n",
            "2023-06-29 12:53:56,264 saving best model\n",
            "2023-06-29 12:53:56,869 ----------------------------------------------------------------------------------------------------\n",
            "2023-06-29 12:54:00,408 epoch 3 - iter 43/438 - loss 0.20083224 - time (sec): 3.54 - samples/sec: 9032.32 - lr: 0.100000\n",
            "2023-06-29 12:54:04,427 epoch 3 - iter 86/438 - loss 0.19643016 - time (sec): 7.56 - samples/sec: 8471.86 - lr: 0.100000\n",
            "2023-06-29 12:54:08,231 epoch 3 - iter 129/438 - loss 0.19567212 - time (sec): 11.36 - samples/sec: 8471.13 - lr: 0.100000\n",
            "2023-06-29 12:54:11,878 epoch 3 - iter 172/438 - loss 0.19473116 - time (sec): 15.01 - samples/sec: 8573.83 - lr: 0.100000\n",
            "2023-06-29 12:54:15,566 epoch 3 - iter 215/438 - loss 0.19358837 - time (sec): 18.70 - samples/sec: 8616.08 - lr: 0.100000\n",
            "2023-06-29 12:54:19,807 epoch 3 - iter 258/438 - loss 0.19207614 - time (sec): 22.94 - samples/sec: 8470.55 - lr: 0.100000\n",
            "2023-06-29 12:54:23,706 epoch 3 - iter 301/438 - loss 0.18929080 - time (sec): 26.84 - samples/sec: 8463.67 - lr: 0.100000\n",
            "2023-06-29 12:54:27,427 epoch 3 - iter 344/438 - loss 0.18847270 - time (sec): 30.56 - samples/sec: 8495.05 - lr: 0.100000\n",
            "2023-06-29 12:54:31,310 epoch 3 - iter 387/438 - loss 0.18720192 - time (sec): 34.44 - samples/sec: 8489.93 - lr: 0.100000\n",
            "2023-06-29 12:54:35,310 epoch 3 - iter 430/438 - loss 0.18655436 - time (sec): 38.44 - samples/sec: 8459.96 - lr: 0.100000\n",
            "2023-06-29 12:54:35,941 ----------------------------------------------------------------------------------------------------\n",
            "2023-06-29 12:54:35,943 EPOCH 3 done: loss 0.1865 - lr 0.100000\n"
          ]
        },
        {
          "output_type": "stream",
          "name": "stderr",
          "text": [
            "100%|██████████| 110/110 [00:16<00:00,  6.80it/s]\n"
          ]
        },
        {
          "output_type": "stream",
          "name": "stdout",
          "text": [
            "2023-06-29 12:54:52,144 Evaluating as a multi-label problem: False\n",
            "2023-06-29 12:54:52,200 DEV : loss 0.11711146682500839 - f1-score (micro avg)  0.6766\n",
            "2023-06-29 12:54:52,545 BAD EPOCHS (no improvement): 0\n",
            "2023-06-29 12:54:52,547 saving best model\n",
            "2023-06-29 12:54:53,189 ----------------------------------------------------------------------------------------------------\n",
            "2023-06-29 12:54:56,906 epoch 4 - iter 43/438 - loss 0.17921371 - time (sec): 3.72 - samples/sec: 8680.19 - lr: 0.100000\n",
            "2023-06-29 12:55:00,960 epoch 4 - iter 86/438 - loss 0.17737602 - time (sec): 7.77 - samples/sec: 8275.21 - lr: 0.100000\n",
            "2023-06-29 12:55:04,637 epoch 4 - iter 129/438 - loss 0.17612357 - time (sec): 11.45 - samples/sec: 8404.38 - lr: 0.100000\n",
            "2023-06-29 12:55:08,594 epoch 4 - iter 172/438 - loss 0.17477508 - time (sec): 15.40 - samples/sec: 8364.06 - lr: 0.100000\n",
            "2023-06-29 12:55:12,429 epoch 4 - iter 215/438 - loss 0.17390912 - time (sec): 19.24 - samples/sec: 8382.61 - lr: 0.100000\n",
            "2023-06-29 12:55:16,555 epoch 4 - iter 258/438 - loss 0.17454716 - time (sec): 23.36 - samples/sec: 8331.73 - lr: 0.100000\n",
            "2023-06-29 12:55:20,403 epoch 4 - iter 301/438 - loss 0.17309594 - time (sec): 27.21 - samples/sec: 8367.18 - lr: 0.100000\n",
            "2023-06-29 12:55:24,026 epoch 4 - iter 344/438 - loss 0.17313247 - time (sec): 30.83 - samples/sec: 8418.11 - lr: 0.100000\n",
            "2023-06-29 12:55:28,033 epoch 4 - iter 387/438 - loss 0.17223880 - time (sec): 34.84 - samples/sec: 8393.04 - lr: 0.100000\n",
            "2023-06-29 12:55:31,882 epoch 4 - iter 430/438 - loss 0.17154816 - time (sec): 38.69 - samples/sec: 8398.01 - lr: 0.100000\n",
            "2023-06-29 12:55:32,525 ----------------------------------------------------------------------------------------------------\n",
            "2023-06-29 12:55:32,527 EPOCH 4 done: loss 0.1714 - lr 0.100000\n"
          ]
        },
        {
          "output_type": "stream",
          "name": "stderr",
          "text": [
            "100%|██████████| 110/110 [00:19<00:00,  5.72it/s]\n"
          ]
        },
        {
          "output_type": "stream",
          "name": "stdout",
          "text": [
            "2023-06-29 12:55:51,772 Evaluating as a multi-label problem: False\n",
            "2023-06-29 12:55:51,831 DEV : loss 0.11076603084802628 - f1-score (micro avg)  0.6969\n",
            "2023-06-29 12:55:52,167 BAD EPOCHS (no improvement): 0\n",
            "2023-06-29 12:55:52,169 saving best model\n",
            "2023-06-29 12:55:52,771 ----------------------------------------------------------------------------------------------------\n",
            "2023-06-29 12:55:56,670 epoch 5 - iter 43/438 - loss 0.15703621 - time (sec): 3.90 - samples/sec: 8281.06 - lr: 0.100000\n",
            "2023-06-29 12:56:00,553 epoch 5 - iter 86/438 - loss 0.15747994 - time (sec): 7.78 - samples/sec: 8275.46 - lr: 0.100000\n",
            "2023-06-29 12:56:04,489 epoch 5 - iter 129/438 - loss 0.15986827 - time (sec): 11.72 - samples/sec: 8263.93 - lr: 0.100000\n",
            "2023-06-29 12:56:08,468 epoch 5 - iter 172/438 - loss 0.15971616 - time (sec): 15.69 - samples/sec: 8230.68 - lr: 0.100000\n",
            "2023-06-29 12:56:12,378 epoch 5 - iter 215/438 - loss 0.16037707 - time (sec): 19.60 - samples/sec: 8225.49 - lr: 0.100000\n",
            "2023-06-29 12:56:16,156 epoch 5 - iter 258/438 - loss 0.16053737 - time (sec): 23.38 - samples/sec: 8305.84 - lr: 0.100000\n",
            "2023-06-29 12:56:19,976 epoch 5 - iter 301/438 - loss 0.16101017 - time (sec): 27.20 - samples/sec: 8311.95 - lr: 0.100000\n",
            "2023-06-29 12:56:23,984 epoch 5 - iter 344/438 - loss 0.16014679 - time (sec): 31.21 - samples/sec: 8308.11 - lr: 0.100000\n",
            "2023-06-29 12:56:27,818 epoch 5 - iter 387/438 - loss 0.16014613 - time (sec): 35.04 - samples/sec: 8333.41 - lr: 0.100000\n",
            "2023-06-29 12:56:31,615 epoch 5 - iter 430/438 - loss 0.16005303 - time (sec): 38.84 - samples/sec: 8373.71 - lr: 0.100000\n",
            "2023-06-29 12:56:32,264 ----------------------------------------------------------------------------------------------------\n",
            "2023-06-29 12:56:32,265 EPOCH 5 done: loss 0.1599 - lr 0.100000\n"
          ]
        },
        {
          "output_type": "stream",
          "name": "stderr",
          "text": [
            "100%|██████████| 110/110 [00:16<00:00,  6.74it/s]\n"
          ]
        },
        {
          "output_type": "stream",
          "name": "stdout",
          "text": [
            "2023-06-29 12:56:48,615 Evaluating as a multi-label problem: False\n",
            "2023-06-29 12:56:48,673 DEV : loss 0.10659915208816528 - f1-score (micro avg)  0.706\n",
            "2023-06-29 12:56:49,025 BAD EPOCHS (no improvement): 0\n",
            "2023-06-29 12:56:49,027 saving best model\n",
            "2023-06-29 12:56:49,648 ----------------------------------------------------------------------------------------------------\n",
            "2023-06-29 12:56:53,618 epoch 6 - iter 43/438 - loss 0.15633594 - time (sec): 3.97 - samples/sec: 8092.31 - lr: 0.100000\n",
            "2023-06-29 12:56:57,500 epoch 6 - iter 86/438 - loss 0.15636335 - time (sec): 7.85 - samples/sec: 8323.82 - lr: 0.100000\n",
            "2023-06-29 12:57:01,443 epoch 6 - iter 129/438 - loss 0.15482478 - time (sec): 11.79 - samples/sec: 8294.56 - lr: 0.100000\n",
            "2023-06-29 12:57:05,302 epoch 6 - iter 172/438 - loss 0.15376312 - time (sec): 15.65 - samples/sec: 8384.23 - lr: 0.100000\n",
            "2023-06-29 12:57:09,270 epoch 6 - iter 215/438 - loss 0.15317250 - time (sec): 19.62 - samples/sec: 8336.06 - lr: 0.100000\n",
            "2023-06-29 12:57:13,015 epoch 6 - iter 258/438 - loss 0.15424130 - time (sec): 23.36 - samples/sec: 8386.21 - lr: 0.100000\n",
            "2023-06-29 12:57:16,722 epoch 6 - iter 301/438 - loss 0.15384541 - time (sec): 27.07 - samples/sec: 8436.27 - lr: 0.100000\n",
            "2023-06-29 12:57:20,840 epoch 6 - iter 344/438 - loss 0.15382975 - time (sec): 31.19 - samples/sec: 8367.75 - lr: 0.100000\n",
            "2023-06-29 12:57:24,746 epoch 6 - iter 387/438 - loss 0.15420413 - time (sec): 35.10 - samples/sec: 8361.18 - lr: 0.100000\n",
            "2023-06-29 12:57:28,446 epoch 6 - iter 430/438 - loss 0.15432232 - time (sec): 38.80 - samples/sec: 8389.82 - lr: 0.100000\n",
            "2023-06-29 12:57:29,079 ----------------------------------------------------------------------------------------------------\n",
            "2023-06-29 12:57:29,081 EPOCH 6 done: loss 0.1542 - lr 0.100000\n"
          ]
        },
        {
          "output_type": "stream",
          "name": "stderr",
          "text": [
            "100%|██████████| 110/110 [00:19<00:00,  5.64it/s]"
          ]
        },
        {
          "output_type": "stream",
          "name": "stdout",
          "text": [
            "2023-06-29 12:57:48,606 Evaluating as a multi-label problem: False\n",
            "2023-06-29 12:57:48,672 DEV : loss 0.09561962634325027 - f1-score (micro avg)  0.724\n"
          ]
        },
        {
          "output_type": "stream",
          "name": "stderr",
          "text": [
            "\n"
          ]
        },
        {
          "output_type": "stream",
          "name": "stdout",
          "text": [
            "2023-06-29 12:57:49,032 BAD EPOCHS (no improvement): 0\n",
            "2023-06-29 12:57:49,034 saving best model\n",
            "2023-06-29 12:57:50,216 ----------------------------------------------------------------------------------------------------\n",
            "2023-06-29 12:57:54,128 epoch 7 - iter 43/438 - loss 0.14944872 - time (sec): 3.91 - samples/sec: 8294.29 - lr: 0.100000\n",
            "2023-06-29 12:57:57,831 epoch 7 - iter 86/438 - loss 0.14789211 - time (sec): 7.61 - samples/sec: 8519.52 - lr: 0.100000\n",
            "2023-06-29 12:58:01,724 epoch 7 - iter 129/438 - loss 0.15101206 - time (sec): 11.51 - samples/sec: 8492.96 - lr: 0.100000\n",
            "2023-06-29 12:58:05,871 epoch 7 - iter 172/438 - loss 0.14935614 - time (sec): 15.65 - samples/sec: 8348.45 - lr: 0.100000\n",
            "2023-06-29 12:58:09,592 epoch 7 - iter 215/438 - loss 0.14939873 - time (sec): 19.37 - samples/sec: 8435.68 - lr: 0.100000\n",
            "2023-06-29 12:58:13,355 epoch 7 - iter 258/438 - loss 0.14902970 - time (sec): 23.14 - samples/sec: 8451.29 - lr: 0.100000\n",
            "2023-06-29 12:58:17,179 epoch 7 - iter 301/438 - loss 0.14901635 - time (sec): 26.96 - samples/sec: 8438.61 - lr: 0.100000\n",
            "2023-06-29 12:58:21,319 epoch 7 - iter 344/438 - loss 0.14813284 - time (sec): 31.10 - samples/sec: 8363.62 - lr: 0.100000\n",
            "2023-06-29 12:58:25,289 epoch 7 - iter 387/438 - loss 0.14764094 - time (sec): 35.07 - samples/sec: 8355.41 - lr: 0.100000\n",
            "2023-06-29 12:58:29,012 epoch 7 - iter 430/438 - loss 0.14755173 - time (sec): 38.79 - samples/sec: 8385.80 - lr: 0.100000\n",
            "2023-06-29 12:58:29,657 ----------------------------------------------------------------------------------------------------\n",
            "2023-06-29 12:58:29,659 EPOCH 7 done: loss 0.1476 - lr 0.100000\n"
          ]
        },
        {
          "output_type": "stream",
          "name": "stderr",
          "text": [
            "100%|██████████| 110/110 [00:16<00:00,  6.75it/s]"
          ]
        },
        {
          "output_type": "stream",
          "name": "stdout",
          "text": [
            "2023-06-29 12:58:45,989 Evaluating as a multi-label problem: False\n",
            "2023-06-29 12:58:46,047 DEV : loss 0.09361535310745239 - f1-score (micro avg)  0.7331\n"
          ]
        },
        {
          "output_type": "stream",
          "name": "stderr",
          "text": [
            "\n"
          ]
        },
        {
          "output_type": "stream",
          "name": "stdout",
          "text": [
            "2023-06-29 12:58:46,411 BAD EPOCHS (no improvement): 0\n",
            "2023-06-29 12:58:46,414 saving best model\n",
            "2023-06-29 12:58:47,123 ----------------------------------------------------------------------------------------------------\n",
            "2023-06-29 12:58:51,026 epoch 8 - iter 43/438 - loss 0.15181387 - time (sec): 3.90 - samples/sec: 8480.26 - lr: 0.100000\n",
            "2023-06-29 12:58:54,600 epoch 8 - iter 86/438 - loss 0.14490708 - time (sec): 7.47 - samples/sec: 8708.03 - lr: 0.100000\n",
            "2023-06-29 12:58:58,608 epoch 8 - iter 129/438 - loss 0.14425729 - time (sec): 11.48 - samples/sec: 8453.57 - lr: 0.100000\n",
            "2023-06-29 12:59:02,667 epoch 8 - iter 172/438 - loss 0.14396977 - time (sec): 15.54 - samples/sec: 8335.84 - lr: 0.100000\n",
            "2023-06-29 12:59:06,445 epoch 8 - iter 215/438 - loss 0.14390169 - time (sec): 19.32 - samples/sec: 8377.26 - lr: 0.100000\n",
            "2023-06-29 12:59:10,201 epoch 8 - iter 258/438 - loss 0.14319900 - time (sec): 23.08 - samples/sec: 8436.06 - lr: 0.100000\n",
            "2023-06-29 12:59:14,062 epoch 8 - iter 301/438 - loss 0.14384536 - time (sec): 26.94 - samples/sec: 8435.33 - lr: 0.100000\n",
            "2023-06-29 12:59:17,954 epoch 8 - iter 344/438 - loss 0.14312388 - time (sec): 30.83 - samples/sec: 8422.37 - lr: 0.100000\n",
            "2023-06-29 12:59:21,896 epoch 8 - iter 387/438 - loss 0.14361395 - time (sec): 34.77 - samples/sec: 8422.59 - lr: 0.100000\n",
            "2023-06-29 12:59:25,410 epoch 8 - iter 430/438 - loss 0.14369517 - time (sec): 38.29 - samples/sec: 8499.53 - lr: 0.100000\n",
            "2023-06-29 12:59:26,155 ----------------------------------------------------------------------------------------------------\n",
            "2023-06-29 12:59:26,157 EPOCH 8 done: loss 0.1440 - lr 0.100000\n"
          ]
        },
        {
          "output_type": "stream",
          "name": "stderr",
          "text": [
            "100%|██████████| 110/110 [00:16<00:00,  6.68it/s]"
          ]
        },
        {
          "output_type": "stream",
          "name": "stdout",
          "text": [
            "2023-06-29 12:59:42,662 Evaluating as a multi-label problem: False\n",
            "2023-06-29 12:59:42,721 DEV : loss 0.0893675908446312 - f1-score (micro avg)  0.7446\n"
          ]
        },
        {
          "output_type": "stream",
          "name": "stderr",
          "text": [
            "\n"
          ]
        },
        {
          "output_type": "stream",
          "name": "stdout",
          "text": [
            "2023-06-29 12:59:43,082 BAD EPOCHS (no improvement): 0\n",
            "2023-06-29 12:59:43,085 saving best model\n",
            "2023-06-29 12:59:43,715 ----------------------------------------------------------------------------------------------------\n",
            "2023-06-29 12:59:47,479 epoch 9 - iter 43/438 - loss 0.13882869 - time (sec): 3.76 - samples/sec: 8613.04 - lr: 0.100000\n",
            "2023-06-29 12:59:51,376 epoch 9 - iter 86/438 - loss 0.14019141 - time (sec): 7.66 - samples/sec: 8471.86 - lr: 0.100000\n",
            "2023-06-29 12:59:55,351 epoch 9 - iter 129/438 - loss 0.14146386 - time (sec): 11.63 - samples/sec: 8361.87 - lr: 0.100000\n",
            "2023-06-29 12:59:59,331 epoch 9 - iter 172/438 - loss 0.14089378 - time (sec): 15.61 - samples/sec: 8349.67 - lr: 0.100000\n",
            "2023-06-29 13:00:03,213 epoch 9 - iter 215/438 - loss 0.14006281 - time (sec): 19.50 - samples/sec: 8370.86 - lr: 0.100000\n",
            "2023-06-29 13:00:06,953 epoch 9 - iter 258/438 - loss 0.14093803 - time (sec): 23.24 - samples/sec: 8405.19 - lr: 0.100000\n",
            "2023-06-29 13:00:10,851 epoch 9 - iter 301/438 - loss 0.14059689 - time (sec): 27.13 - samples/sec: 8401.38 - lr: 0.100000\n",
            "2023-06-29 13:00:14,603 epoch 9 - iter 344/438 - loss 0.14078159 - time (sec): 30.89 - samples/sec: 8436.87 - lr: 0.100000\n",
            "2023-06-29 13:00:18,519 epoch 9 - iter 387/438 - loss 0.14050328 - time (sec): 34.80 - samples/sec: 8433.45 - lr: 0.100000\n",
            "2023-06-29 13:00:22,323 epoch 9 - iter 430/438 - loss 0.14055603 - time (sec): 38.61 - samples/sec: 8422.79 - lr: 0.100000\n",
            "2023-06-29 13:00:23,038 ----------------------------------------------------------------------------------------------------\n",
            "2023-06-29 13:00:23,040 EPOCH 9 done: loss 0.1405 - lr 0.100000\n"
          ]
        },
        {
          "output_type": "stream",
          "name": "stderr",
          "text": [
            "100%|██████████| 110/110 [00:19<00:00,  5.62it/s]\n"
          ]
        },
        {
          "output_type": "stream",
          "name": "stdout",
          "text": [
            "2023-06-29 13:00:42,648 Evaluating as a multi-label problem: False\n",
            "2023-06-29 13:00:42,706 DEV : loss 0.08991850912570953 - f1-score (micro avg)  0.7436\n",
            "2023-06-29 13:00:43,071 BAD EPOCHS (no improvement): 1\n",
            "2023-06-29 13:00:43,073 ----------------------------------------------------------------------------------------------------\n",
            "2023-06-29 13:00:46,825 epoch 10 - iter 43/438 - loss 0.13525866 - time (sec): 3.75 - samples/sec: 8550.65 - lr: 0.100000\n",
            "2023-06-29 13:00:50,765 epoch 10 - iter 86/438 - loss 0.13385617 - time (sec): 7.69 - samples/sec: 8424.00 - lr: 0.100000\n",
            "2023-06-29 13:00:54,834 epoch 10 - iter 129/438 - loss 0.13616267 - time (sec): 11.76 - samples/sec: 8265.05 - lr: 0.100000\n",
            "2023-06-29 13:00:58,628 epoch 10 - iter 172/438 - loss 0.13548166 - time (sec): 15.55 - samples/sec: 8342.92 - lr: 0.100000\n",
            "2023-06-29 13:01:02,576 epoch 10 - iter 215/438 - loss 0.13689291 - time (sec): 19.50 - samples/sec: 8298.44 - lr: 0.100000\n",
            "2023-06-29 13:01:06,678 epoch 10 - iter 258/438 - loss 0.13613897 - time (sec): 23.60 - samples/sec: 8246.25 - lr: 0.100000\n",
            "2023-06-29 13:01:10,544 epoch 10 - iter 301/438 - loss 0.13627641 - time (sec): 27.47 - samples/sec: 8257.18 - lr: 0.100000\n",
            "2023-06-29 13:01:14,314 epoch 10 - iter 344/438 - loss 0.13612441 - time (sec): 31.24 - samples/sec: 8317.64 - lr: 0.100000\n",
            "2023-06-29 13:01:18,015 epoch 10 - iter 387/438 - loss 0.13584180 - time (sec): 34.94 - samples/sec: 8372.36 - lr: 0.100000\n",
            "2023-06-29 13:01:22,268 epoch 10 - iter 430/438 - loss 0.13600810 - time (sec): 39.19 - samples/sec: 8301.21 - lr: 0.100000\n",
            "2023-06-29 13:01:22,914 ----------------------------------------------------------------------------------------------------\n",
            "2023-06-29 13:01:22,916 EPOCH 10 done: loss 0.1360 - lr 0.100000\n"
          ]
        },
        {
          "output_type": "stream",
          "name": "stderr",
          "text": [
            "100%|██████████| 110/110 [00:16<00:00,  6.73it/s]\n"
          ]
        },
        {
          "output_type": "stream",
          "name": "stdout",
          "text": [
            "2023-06-29 13:01:39,281 Evaluating as a multi-label problem: False\n",
            "2023-06-29 13:01:39,342 DEV : loss 0.08285213261842728 - f1-score (micro avg)  0.76\n",
            "2023-06-29 13:01:39,697 BAD EPOCHS (no improvement): 0\n",
            "2023-06-29 13:01:39,700 saving best model\n",
            "2023-06-29 13:01:44,047 ----------------------------------------------------------------------------------------------------\n",
            "2023-06-29 13:01:44,604 SequenceTagger predicts: Dictionary with 19 tags: O, S-LOC, B-LOC, E-LOC, I-LOC, S-PER, B-PER, E-PER, I-PER, S-MISC, B-MISC, E-MISC, I-MISC, S-ORG, B-ORG, E-ORG, I-ORG, <START>, <STOP>\n"
          ]
        },
        {
          "output_type": "stream",
          "name": "stderr",
          "text": [
            "100%|██████████| 110/110 [00:14<00:00,  7.46it/s]"
          ]
        },
        {
          "output_type": "stream",
          "name": "stdout",
          "text": [
            "2023-06-29 13:01:59,485 Evaluating as a multi-label problem: False\n"
          ]
        },
        {
          "output_type": "stream",
          "name": "stderr",
          "text": [
            "\n"
          ]
        },
        {
          "output_type": "stream",
          "name": "stdout",
          "text": [
            "2023-06-29 13:01:59,546 0.8244\t0.7129\t0.7646\t0.6447\n",
            "2023-06-29 13:01:59,548 \n",
            "Results:\n",
            "- F-score (micro) 0.7646\n",
            "- F-score (macro) 0.7546\n",
            "- Accuracy 0.6447\n",
            "\n",
            "By class:\n",
            "              precision    recall  f1-score   support\n",
            "\n",
            "         LOC     0.8260    0.7556    0.7893      1772\n",
            "         PER     0.8967    0.8502    0.8728      1582\n",
            "        MISC     0.7712    0.5756    0.6592      1534\n",
            "         ORG     0.7691    0.6374    0.6970      1092\n",
            "\n",
            "   micro avg     0.8244    0.7129    0.7646      5980\n",
            "   macro avg     0.8157    0.7047    0.7546      5980\n",
            "weighted avg     0.8202    0.7129    0.7612      5980\n",
            "\n",
            "2023-06-29 13:01:59,550 ----------------------------------------------------------------------------------------------------\n",
            "2023-06-29 13:01:59,553 Computing label dictionary. Progress:\n"
          ]
        },
        {
          "output_type": "stream",
          "name": "stderr",
          "text": [
            "14041it [00:00, 45329.50it/s]"
          ]
        },
        {
          "output_type": "stream",
          "name": "stdout",
          "text": [
            "2023-06-29 13:01:59,868 Dictionary created for label 'ner' with 5 values: LOC (seen 7140 times), PER (seen 6600 times), ORG (seen 6321 times), MISC (seen 3438 times)\n"
          ]
        },
        {
          "output_type": "stream",
          "name": "stderr",
          "text": [
            "\n"
          ]
        },
        {
          "output_type": "stream",
          "name": "stdout",
          "text": [
            "2023-06-29 13:02:03,944 SequenceTagger predicts: Dictionary with 17 tags: O, S-LOC, B-LOC, E-LOC, I-LOC, S-PER, B-PER, E-PER, I-PER, S-ORG, B-ORG, E-ORG, I-ORG, S-MISC, B-MISC, E-MISC, I-MISC\n",
            "2023-06-29 13:02:03,958 ----------------------------------------------------------------------------------------------------\n",
            "2023-06-29 13:02:03,960 Model: \"SequenceTagger(\n",
            "  (embeddings): WordEmbeddings(\n",
            "    'glove'\n",
            "    (embedding): Embedding(400001, 100)\n",
            "  )\n",
            "  (word_dropout): WordDropout(p=0.05)\n",
            "  (locked_dropout): LockedDropout(p=0.5)\n",
            "  (embedding2nn): Linear(in_features=100, out_features=100, bias=True)\n",
            "  (rnn): LSTM(100, 256, batch_first=True, bidirectional=True)\n",
            "  (linear): Linear(in_features=512, out_features=19, bias=True)\n",
            "  (loss_function): ViterbiLoss()\n",
            "  (crf): CRF()\n",
            ")\"\n",
            "2023-06-29 13:02:03,962 ----------------------------------------------------------------------------------------------------\n",
            "2023-06-29 13:02:03,964 Corpus: \"Corpus: 14041 train + 3250 dev + 3453 test sentences\"\n",
            "2023-06-29 13:02:03,966 ----------------------------------------------------------------------------------------------------\n",
            "2023-06-29 13:02:03,968 Parameters:\n",
            "2023-06-29 13:02:03,971  - learning_rate: \"0.100000\"\n",
            "2023-06-29 13:02:03,972  - mini_batch_size: \"32\"\n",
            "2023-06-29 13:02:03,974  - patience: \"3\"\n",
            "2023-06-29 13:02:03,976  - anneal_factor: \"0.5\"\n",
            "2023-06-29 13:02:03,979  - max_epochs: \"10\"\n",
            "2023-06-29 13:02:03,980  - shuffle: \"True\"\n",
            "2023-06-29 13:02:03,982  - train_with_dev: \"False\"\n",
            "2023-06-29 13:02:03,985  - batch_growth_annealing: \"False\"\n",
            "2023-06-29 13:02:03,987 ----------------------------------------------------------------------------------------------------\n",
            "2023-06-29 13:02:03,988 Model training base path: \"resources/glove/taggers/Corpus: 14041 train + 3250 dev + 3453 test sentences\"\n",
            "2023-06-29 13:02:03,990 ----------------------------------------------------------------------------------------------------\n",
            "2023-06-29 13:02:03,991 Device: cuda:0\n",
            "2023-06-29 13:02:03,992 ----------------------------------------------------------------------------------------------------\n",
            "2023-06-29 13:02:03,996 Embeddings storage mode: cpu\n",
            "2023-06-29 13:02:03,997 ----------------------------------------------------------------------------------------------------\n",
            "2023-06-29 13:02:06,704 epoch 1 - iter 43/439 - loss 1.11228113 - time (sec): 2.70 - samples/sec: 7053.07 - lr: 0.100000\n",
            "2023-06-29 13:02:09,374 epoch 1 - iter 86/439 - loss 0.87560624 - time (sec): 5.37 - samples/sec: 7136.75 - lr: 0.100000\n",
            "2023-06-29 13:02:11,797 epoch 1 - iter 129/439 - loss 0.77195745 - time (sec): 7.80 - samples/sec: 7176.05 - lr: 0.100000\n",
            "2023-06-29 13:02:13,957 epoch 1 - iter 172/439 - loss 0.70045433 - time (sec): 9.96 - samples/sec: 7284.76 - lr: 0.100000\n",
            "2023-06-29 13:02:16,364 epoch 1 - iter 215/439 - loss 0.64058632 - time (sec): 12.36 - samples/sec: 7251.21 - lr: 0.100000\n",
            "2023-06-29 13:02:19,404 epoch 1 - iter 258/439 - loss 0.58959282 - time (sec): 15.40 - samples/sec: 7247.17 - lr: 0.100000\n",
            "2023-06-29 13:02:22,202 epoch 1 - iter 301/439 - loss 0.55384343 - time (sec): 18.20 - samples/sec: 7271.20 - lr: 0.100000\n",
            "2023-06-29 13:02:24,785 epoch 1 - iter 344/439 - loss 0.52993282 - time (sec): 20.79 - samples/sec: 7289.57 - lr: 0.100000\n",
            "2023-06-29 13:02:27,910 epoch 1 - iter 387/439 - loss 0.50505672 - time (sec): 23.91 - samples/sec: 7358.86 - lr: 0.100000\n",
            "2023-06-29 13:02:31,172 epoch 1 - iter 430/439 - loss 0.47957496 - time (sec): 27.17 - samples/sec: 7350.91 - lr: 0.100000\n",
            "2023-06-29 13:02:31,742 ----------------------------------------------------------------------------------------------------\n",
            "2023-06-29 13:02:31,744 EPOCH 1 done: loss 0.4769 - lr 0.100000\n"
          ]
        },
        {
          "output_type": "stream",
          "name": "stderr",
          "text": [
            "100%|██████████| 102/102 [00:11<00:00,  8.83it/s]"
          ]
        },
        {
          "output_type": "stream",
          "name": "stdout",
          "text": [
            "2023-06-29 13:02:43,319 Evaluating as a multi-label problem: False\n",
            "2023-06-29 13:02:43,380 DEV : loss 0.23102740943431854 - f1-score (micro avg)  0.6662\n"
          ]
        },
        {
          "output_type": "stream",
          "name": "stderr",
          "text": [
            "\n"
          ]
        },
        {
          "output_type": "stream",
          "name": "stdout",
          "text": [
            "2023-06-29 13:02:43,646 BAD EPOCHS (no improvement): 0\n",
            "2023-06-29 13:02:43,648 saving best model\n",
            "2023-06-29 13:02:44,332 ----------------------------------------------------------------------------------------------------\n",
            "2023-06-29 13:02:47,146 epoch 2 - iter 43/439 - loss 0.28729647 - time (sec): 2.81 - samples/sec: 7041.82 - lr: 0.100000\n",
            "2023-06-29 13:02:49,817 epoch 2 - iter 86/439 - loss 0.28712617 - time (sec): 5.48 - samples/sec: 7141.03 - lr: 0.100000\n",
            "2023-06-29 13:02:52,634 epoch 2 - iter 129/439 - loss 0.27862289 - time (sec): 8.30 - samples/sec: 7079.84 - lr: 0.100000\n",
            "2023-06-29 13:02:55,545 epoch 2 - iter 172/439 - loss 0.27307501 - time (sec): 11.21 - samples/sec: 7031.56 - lr: 0.100000\n",
            "2023-06-29 13:02:58,543 epoch 2 - iter 215/439 - loss 0.26905240 - time (sec): 14.21 - samples/sec: 7018.92 - lr: 0.100000\n",
            "2023-06-29 13:03:01,590 epoch 2 - iter 258/439 - loss 0.26525905 - time (sec): 17.26 - samples/sec: 6924.72 - lr: 0.100000\n",
            "2023-06-29 13:03:04,477 epoch 2 - iter 301/439 - loss 0.26247121 - time (sec): 20.14 - samples/sec: 6922.47 - lr: 0.100000\n",
            "2023-06-29 13:03:07,301 epoch 2 - iter 344/439 - loss 0.26013860 - time (sec): 22.97 - samples/sec: 6949.18 - lr: 0.100000\n",
            "2023-06-29 13:03:10,083 epoch 2 - iter 387/439 - loss 0.25686949 - time (sec): 25.75 - samples/sec: 6954.49 - lr: 0.100000\n",
            "2023-06-29 13:03:13,077 epoch 2 - iter 430/439 - loss 0.25329632 - time (sec): 28.74 - samples/sec: 6943.76 - lr: 0.100000\n",
            "2023-06-29 13:03:13,711 ----------------------------------------------------------------------------------------------------\n",
            "2023-06-29 13:03:13,713 EPOCH 2 done: loss 0.2523 - lr 0.100000\n"
          ]
        },
        {
          "output_type": "stream",
          "name": "stderr",
          "text": [
            "100%|██████████| 102/102 [00:11<00:00,  9.19it/s]"
          ]
        },
        {
          "output_type": "stream",
          "name": "stdout",
          "text": [
            "2023-06-29 13:03:24,840 Evaluating as a multi-label problem: False\n",
            "2023-06-29 13:03:24,896 DEV : loss 0.1610555499792099 - f1-score (micro avg)  0.7763\n"
          ]
        },
        {
          "output_type": "stream",
          "name": "stderr",
          "text": [
            "\n"
          ]
        },
        {
          "output_type": "stream",
          "name": "stdout",
          "text": [
            "2023-06-29 13:03:25,136 BAD EPOCHS (no improvement): 0\n",
            "2023-06-29 13:03:25,138 saving best model\n",
            "2023-06-29 13:03:25,866 ----------------------------------------------------------------------------------------------------\n",
            "2023-06-29 13:03:29,064 epoch 3 - iter 43/439 - loss 0.21870297 - time (sec): 3.18 - samples/sec: 6324.00 - lr: 0.100000\n",
            "2023-06-29 13:03:31,963 epoch 3 - iter 86/439 - loss 0.21854188 - time (sec): 6.08 - samples/sec: 6582.90 - lr: 0.100000\n",
            "2023-06-29 13:03:34,832 epoch 3 - iter 129/439 - loss 0.21435136 - time (sec): 8.95 - samples/sec: 6745.77 - lr: 0.100000\n",
            "2023-06-29 13:03:37,685 epoch 3 - iter 172/439 - loss 0.21312381 - time (sec): 11.80 - samples/sec: 6821.10 - lr: 0.100000\n",
            "2023-06-29 13:03:40,618 epoch 3 - iter 215/439 - loss 0.21290648 - time (sec): 14.73 - samples/sec: 6825.91 - lr: 0.100000\n",
            "2023-06-29 13:03:43,717 epoch 3 - iter 258/439 - loss 0.21124845 - time (sec): 17.83 - samples/sec: 6779.26 - lr: 0.100000\n",
            "2023-06-29 13:03:46,484 epoch 3 - iter 301/439 - loss 0.20919818 - time (sec): 20.60 - samples/sec: 6795.48 - lr: 0.100000\n",
            "2023-06-29 13:03:49,371 epoch 3 - iter 344/439 - loss 0.20757428 - time (sec): 23.49 - samples/sec: 6847.11 - lr: 0.100000\n",
            "2023-06-29 13:03:52,171 epoch 3 - iter 387/439 - loss 0.20711884 - time (sec): 26.29 - samples/sec: 6864.53 - lr: 0.100000\n",
            "2023-06-29 13:03:55,212 epoch 3 - iter 430/439 - loss 0.20680292 - time (sec): 29.33 - samples/sec: 6811.45 - lr: 0.100000\n",
            "2023-06-29 13:03:55,828 ----------------------------------------------------------------------------------------------------\n",
            "2023-06-29 13:03:55,829 EPOCH 3 done: loss 0.2065 - lr 0.100000\n"
          ]
        },
        {
          "output_type": "stream",
          "name": "stderr",
          "text": [
            "100%|██████████| 102/102 [00:14<00:00,  7.07it/s]"
          ]
        },
        {
          "output_type": "stream",
          "name": "stdout",
          "text": [
            "2023-06-29 13:04:10,283 Evaluating as a multi-label problem: False\n",
            "2023-06-29 13:04:10,344 DEV : loss 0.11162485182285309 - f1-score (micro avg)  0.8303\n"
          ]
        },
        {
          "output_type": "stream",
          "name": "stderr",
          "text": [
            "\n"
          ]
        },
        {
          "output_type": "stream",
          "name": "stdout",
          "text": [
            "2023-06-29 13:04:10,600 BAD EPOCHS (no improvement): 0\n",
            "2023-06-29 13:04:10,602 saving best model\n",
            "2023-06-29 13:04:11,320 ----------------------------------------------------------------------------------------------------\n",
            "2023-06-29 13:04:14,251 epoch 4 - iter 43/439 - loss 0.19140150 - time (sec): 2.93 - samples/sec: 7103.33 - lr: 0.100000\n",
            "2023-06-29 13:04:17,157 epoch 4 - iter 86/439 - loss 0.18657540 - time (sec): 5.84 - samples/sec: 7008.36 - lr: 0.100000\n",
            "2023-06-29 13:04:20,119 epoch 4 - iter 129/439 - loss 0.18851863 - time (sec): 8.80 - samples/sec: 6893.04 - lr: 0.100000\n",
            "2023-06-29 13:04:22,951 epoch 4 - iter 172/439 - loss 0.18698074 - time (sec): 11.63 - samples/sec: 6878.95 - lr: 0.100000\n",
            "2023-06-29 13:04:25,939 epoch 4 - iter 215/439 - loss 0.18607580 - time (sec): 14.62 - samples/sec: 6827.50 - lr: 0.100000\n",
            "2023-06-29 13:04:28,704 epoch 4 - iter 258/439 - loss 0.18655076 - time (sec): 17.38 - samples/sec: 6909.71 - lr: 0.100000\n",
            "2023-06-29 13:04:31,550 epoch 4 - iter 301/439 - loss 0.18416137 - time (sec): 20.23 - samples/sec: 6917.25 - lr: 0.100000\n",
            "2023-06-29 13:04:34,363 epoch 4 - iter 344/439 - loss 0.18349703 - time (sec): 23.04 - samples/sec: 6926.86 - lr: 0.100000\n",
            "2023-06-29 13:04:37,339 epoch 4 - iter 387/439 - loss 0.18270752 - time (sec): 26.02 - samples/sec: 6898.88 - lr: 0.100000\n",
            "2023-06-29 13:04:40,356 epoch 4 - iter 430/439 - loss 0.18274095 - time (sec): 29.03 - samples/sec: 6868.78 - lr: 0.100000\n",
            "2023-06-29 13:04:40,942 ----------------------------------------------------------------------------------------------------\n",
            "2023-06-29 13:04:40,944 EPOCH 4 done: loss 0.1828 - lr 0.100000\n"
          ]
        },
        {
          "output_type": "stream",
          "name": "stderr",
          "text": [
            "100%|██████████| 102/102 [00:11<00:00,  9.13it/s]"
          ]
        },
        {
          "output_type": "stream",
          "name": "stdout",
          "text": [
            "2023-06-29 13:04:52,144 Evaluating as a multi-label problem: False\n",
            "2023-06-29 13:04:52,205 DEV : loss 0.1006004586815834 - f1-score (micro avg)  0.8441\n"
          ]
        },
        {
          "output_type": "stream",
          "name": "stderr",
          "text": [
            "\n"
          ]
        },
        {
          "output_type": "stream",
          "name": "stdout",
          "text": [
            "2023-06-29 13:04:52,454 BAD EPOCHS (no improvement): 0\n",
            "2023-06-29 13:04:52,456 saving best model\n",
            "2023-06-29 13:04:53,183 ----------------------------------------------------------------------------------------------------\n",
            "2023-06-29 13:04:56,208 epoch 5 - iter 43/439 - loss 0.17368411 - time (sec): 3.02 - samples/sec: 6632.29 - lr: 0.100000\n",
            "2023-06-29 13:04:59,123 epoch 5 - iter 86/439 - loss 0.17522653 - time (sec): 5.94 - samples/sec: 6839.12 - lr: 0.100000\n",
            "2023-06-29 13:05:01,995 epoch 5 - iter 129/439 - loss 0.17655215 - time (sec): 8.81 - samples/sec: 6822.15 - lr: 0.100000\n",
            "2023-06-29 13:05:04,826 epoch 5 - iter 172/439 - loss 0.17462997 - time (sec): 11.64 - samples/sec: 6863.69 - lr: 0.100000\n",
            "2023-06-29 13:05:07,984 epoch 5 - iter 215/439 - loss 0.17399158 - time (sec): 14.80 - samples/sec: 6736.63 - lr: 0.100000\n",
            "2023-06-29 13:05:10,813 epoch 5 - iter 258/439 - loss 0.17228417 - time (sec): 17.63 - samples/sec: 6765.67 - lr: 0.100000\n",
            "2023-06-29 13:05:13,664 epoch 5 - iter 301/439 - loss 0.17223795 - time (sec): 20.48 - samples/sec: 6784.28 - lr: 0.100000\n",
            "2023-06-29 13:05:16,527 epoch 5 - iter 344/439 - loss 0.17190267 - time (sec): 23.34 - samples/sec: 6814.10 - lr: 0.100000\n",
            "2023-06-29 13:05:19,566 epoch 5 - iter 387/439 - loss 0.17257365 - time (sec): 26.38 - samples/sec: 6808.04 - lr: 0.100000\n",
            "2023-06-29 13:05:22,590 epoch 5 - iter 430/439 - loss 0.17137434 - time (sec): 29.40 - samples/sec: 6789.82 - lr: 0.100000\n",
            "2023-06-29 13:05:23,154 ----------------------------------------------------------------------------------------------------\n",
            "2023-06-29 13:05:23,156 EPOCH 5 done: loss 0.1716 - lr 0.100000\n"
          ]
        },
        {
          "output_type": "stream",
          "name": "stderr",
          "text": [
            "100%|██████████| 102/102 [00:11<00:00,  9.10it/s]"
          ]
        },
        {
          "output_type": "stream",
          "name": "stdout",
          "text": [
            "2023-06-29 13:05:34,394 Evaluating as a multi-label problem: False\n",
            "2023-06-29 13:05:34,459 DEV : loss 0.0915757343173027 - f1-score (micro avg)  0.8583\n"
          ]
        },
        {
          "output_type": "stream",
          "name": "stderr",
          "text": [
            "\n"
          ]
        },
        {
          "output_type": "stream",
          "name": "stdout",
          "text": [
            "2023-06-29 13:05:34,721 BAD EPOCHS (no improvement): 0\n",
            "2023-06-29 13:05:34,724 saving best model\n",
            "2023-06-29 13:05:35,434 ----------------------------------------------------------------------------------------------------\n",
            "2023-06-29 13:05:38,460 epoch 6 - iter 43/439 - loss 0.16180761 - time (sec): 3.02 - samples/sec: 6678.25 - lr: 0.100000\n",
            "2023-06-29 13:05:41,223 epoch 6 - iter 86/439 - loss 0.16165518 - time (sec): 5.79 - samples/sec: 6902.72 - lr: 0.100000\n",
            "2023-06-29 13:05:43,993 epoch 6 - iter 129/439 - loss 0.16118964 - time (sec): 8.56 - samples/sec: 7010.60 - lr: 0.100000\n",
            "2023-06-29 13:05:46,908 epoch 6 - iter 172/439 - loss 0.16297392 - time (sec): 11.47 - samples/sec: 6958.01 - lr: 0.100000\n",
            "2023-06-29 13:05:49,917 epoch 6 - iter 215/439 - loss 0.16327448 - time (sec): 14.48 - samples/sec: 6861.51 - lr: 0.100000\n",
            "2023-06-29 13:05:52,886 epoch 6 - iter 258/439 - loss 0.16235460 - time (sec): 17.45 - samples/sec: 6863.43 - lr: 0.100000\n",
            "2023-06-29 13:05:55,831 epoch 6 - iter 301/439 - loss 0.16280310 - time (sec): 20.39 - samples/sec: 6836.58 - lr: 0.100000\n",
            "2023-06-29 13:05:58,803 epoch 6 - iter 344/439 - loss 0.16201418 - time (sec): 23.37 - samples/sec: 6835.08 - lr: 0.100000\n",
            "2023-06-29 13:06:01,720 epoch 6 - iter 387/439 - loss 0.16090049 - time (sec): 26.28 - samples/sec: 6827.91 - lr: 0.100000\n",
            "2023-06-29 13:06:04,805 epoch 6 - iter 430/439 - loss 0.16011108 - time (sec): 29.37 - samples/sec: 6794.73 - lr: 0.100000\n",
            "2023-06-29 13:06:05,379 ----------------------------------------------------------------------------------------------------\n",
            "2023-06-29 13:06:05,381 EPOCH 6 done: loss 0.1602 - lr 0.100000\n"
          ]
        },
        {
          "output_type": "stream",
          "name": "stderr",
          "text": [
            "100%|██████████| 102/102 [00:11<00:00,  9.22it/s]"
          ]
        },
        {
          "output_type": "stream",
          "name": "stdout",
          "text": [
            "2023-06-29 13:06:16,470 Evaluating as a multi-label problem: False\n",
            "2023-06-29 13:06:16,526 DEV : loss 0.08335093408823013 - f1-score (micro avg)  0.8643\n"
          ]
        },
        {
          "output_type": "stream",
          "name": "stderr",
          "text": [
            "\n"
          ]
        },
        {
          "output_type": "stream",
          "name": "stdout",
          "text": [
            "2023-06-29 13:06:16,767 BAD EPOCHS (no improvement): 0\n",
            "2023-06-29 13:06:16,771 saving best model\n",
            "2023-06-29 13:06:17,497 ----------------------------------------------------------------------------------------------------\n",
            "2023-06-29 13:06:20,432 epoch 7 - iter 43/439 - loss 0.15375855 - time (sec): 2.93 - samples/sec: 6649.86 - lr: 0.100000\n",
            "2023-06-29 13:06:23,237 epoch 7 - iter 86/439 - loss 0.15643322 - time (sec): 5.74 - samples/sec: 6871.47 - lr: 0.100000\n",
            "2023-06-29 13:06:26,072 epoch 7 - iter 129/439 - loss 0.15244096 - time (sec): 8.57 - samples/sec: 6943.63 - lr: 0.100000\n",
            "2023-06-29 13:06:28,848 epoch 7 - iter 172/439 - loss 0.15211646 - time (sec): 11.35 - samples/sec: 7002.68 - lr: 0.100000\n",
            "2023-06-29 13:06:31,774 epoch 7 - iter 215/439 - loss 0.15405887 - time (sec): 14.27 - samples/sec: 6941.07 - lr: 0.100000\n",
            "2023-06-29 13:06:34,793 epoch 7 - iter 258/439 - loss 0.15246370 - time (sec): 17.29 - samples/sec: 6933.87 - lr: 0.100000\n",
            "2023-06-29 13:06:37,575 epoch 7 - iter 301/439 - loss 0.15228318 - time (sec): 20.08 - samples/sec: 6962.96 - lr: 0.100000\n",
            "2023-06-29 13:06:40,430 epoch 7 - iter 344/439 - loss 0.15188665 - time (sec): 22.93 - samples/sec: 6987.27 - lr: 0.100000\n",
            "2023-06-29 13:06:43,243 epoch 7 - iter 387/439 - loss 0.15323080 - time (sec): 25.74 - samples/sec: 6977.97 - lr: 0.100000\n",
            "2023-06-29 13:06:46,207 epoch 7 - iter 430/439 - loss 0.15280818 - time (sec): 28.71 - samples/sec: 6949.06 - lr: 0.100000\n",
            "2023-06-29 13:06:46,853 ----------------------------------------------------------------------------------------------------\n",
            "2023-06-29 13:06:46,856 EPOCH 7 done: loss 0.1526 - lr 0.100000\n"
          ]
        },
        {
          "output_type": "stream",
          "name": "stderr",
          "text": [
            "100%|██████████| 102/102 [00:14<00:00,  7.06it/s]"
          ]
        },
        {
          "output_type": "stream",
          "name": "stdout",
          "text": [
            "2023-06-29 13:07:01,340 Evaluating as a multi-label problem: False\n",
            "2023-06-29 13:07:01,401 DEV : loss 0.08562230318784714 - f1-score (micro avg)  0.8664\n"
          ]
        },
        {
          "output_type": "stream",
          "name": "stderr",
          "text": [
            "\n"
          ]
        },
        {
          "output_type": "stream",
          "name": "stdout",
          "text": [
            "2023-06-29 13:07:01,643 BAD EPOCHS (no improvement): 0\n",
            "2023-06-29 13:07:01,646 saving best model\n",
            "2023-06-29 13:07:02,311 ----------------------------------------------------------------------------------------------------\n",
            "2023-06-29 13:07:05,147 epoch 8 - iter 43/439 - loss 0.15299661 - time (sec): 2.83 - samples/sec: 7038.36 - lr: 0.100000\n",
            "2023-06-29 13:07:07,980 epoch 8 - iter 86/439 - loss 0.15111469 - time (sec): 5.67 - samples/sec: 7051.55 - lr: 0.100000\n",
            "2023-06-29 13:07:10,850 epoch 8 - iter 129/439 - loss 0.15096950 - time (sec): 8.54 - samples/sec: 6996.43 - lr: 0.100000\n",
            "2023-06-29 13:07:13,862 epoch 8 - iter 172/439 - loss 0.14884490 - time (sec): 11.55 - samples/sec: 6861.31 - lr: 0.100000\n",
            "2023-06-29 13:07:16,742 epoch 8 - iter 215/439 - loss 0.14888811 - time (sec): 14.43 - samples/sec: 6869.42 - lr: 0.100000\n",
            "2023-06-29 13:07:19,683 epoch 8 - iter 258/439 - loss 0.14881322 - time (sec): 17.37 - samples/sec: 6892.59 - lr: 0.100000\n",
            "2023-06-29 13:07:22,534 epoch 8 - iter 301/439 - loss 0.14823537 - time (sec): 20.22 - samples/sec: 6905.33 - lr: 0.100000\n",
            "2023-06-29 13:07:25,429 epoch 8 - iter 344/439 - loss 0.14847233 - time (sec): 23.12 - samples/sec: 6907.51 - lr: 0.100000\n",
            "2023-06-29 13:07:28,416 epoch 8 - iter 387/439 - loss 0.14786378 - time (sec): 26.10 - samples/sec: 6874.62 - lr: 0.100000\n",
            "2023-06-29 13:07:31,384 epoch 8 - iter 430/439 - loss 0.14707234 - time (sec): 29.07 - samples/sec: 6862.44 - lr: 0.100000\n",
            "2023-06-29 13:07:32,013 ----------------------------------------------------------------------------------------------------\n",
            "2023-06-29 13:07:32,015 EPOCH 8 done: loss 0.1469 - lr 0.100000\n"
          ]
        },
        {
          "output_type": "stream",
          "name": "stderr",
          "text": [
            "100%|██████████| 102/102 [00:11<00:00,  9.00it/s]"
          ]
        },
        {
          "output_type": "stream",
          "name": "stdout",
          "text": [
            "2023-06-29 13:07:43,378 Evaluating as a multi-label problem: False\n",
            "2023-06-29 13:07:43,440 DEV : loss 0.07995565235614777 - f1-score (micro avg)  0.8756\n"
          ]
        },
        {
          "output_type": "stream",
          "name": "stderr",
          "text": [
            "\n"
          ]
        },
        {
          "output_type": "stream",
          "name": "stdout",
          "text": [
            "2023-06-29 13:07:43,700 BAD EPOCHS (no improvement): 0\n",
            "2023-06-29 13:07:43,703 saving best model\n",
            "2023-06-29 13:07:44,349 ----------------------------------------------------------------------------------------------------\n",
            "2023-06-29 13:07:47,155 epoch 9 - iter 43/439 - loss 0.14929082 - time (sec): 2.80 - samples/sec: 6970.26 - lr: 0.100000\n",
            "2023-06-29 13:07:50,022 epoch 9 - iter 86/439 - loss 0.14386800 - time (sec): 5.67 - samples/sec: 7026.42 - lr: 0.100000\n",
            "2023-06-29 13:07:52,850 epoch 9 - iter 129/439 - loss 0.14454380 - time (sec): 8.50 - samples/sec: 7030.48 - lr: 0.100000\n",
            "2023-06-29 13:07:55,777 epoch 9 - iter 172/439 - loss 0.14435234 - time (sec): 11.43 - samples/sec: 6966.14 - lr: 0.100000\n",
            "2023-06-29 13:07:58,829 epoch 9 - iter 215/439 - loss 0.14290815 - time (sec): 14.48 - samples/sec: 6865.98 - lr: 0.100000\n",
            "2023-06-29 13:08:01,685 epoch 9 - iter 258/439 - loss 0.14195791 - time (sec): 17.34 - samples/sec: 6887.19 - lr: 0.100000\n",
            "2023-06-29 13:08:04,557 epoch 9 - iter 301/439 - loss 0.14223732 - time (sec): 20.21 - samples/sec: 6894.20 - lr: 0.100000\n",
            "2023-06-29 13:08:07,347 epoch 9 - iter 344/439 - loss 0.14236703 - time (sec): 23.00 - samples/sec: 6970.51 - lr: 0.100000\n",
            "2023-06-29 13:08:10,343 epoch 9 - iter 387/439 - loss 0.14140991 - time (sec): 25.99 - samples/sec: 6931.31 - lr: 0.100000\n",
            "2023-06-29 13:08:13,225 epoch 9 - iter 430/439 - loss 0.14182975 - time (sec): 28.88 - samples/sec: 6916.29 - lr: 0.100000\n",
            "2023-06-29 13:08:13,781 ----------------------------------------------------------------------------------------------------\n",
            "2023-06-29 13:08:13,784 EPOCH 9 done: loss 0.1417 - lr 0.100000\n"
          ]
        },
        {
          "output_type": "stream",
          "name": "stderr",
          "text": [
            "100%|██████████| 102/102 [00:11<00:00,  8.99it/s]"
          ]
        },
        {
          "output_type": "stream",
          "name": "stdout",
          "text": [
            "2023-06-29 13:08:25,154 Evaluating as a multi-label problem: False\n",
            "2023-06-29 13:08:25,210 DEV : loss 0.07668104767799377 - f1-score (micro avg)  0.8796\n"
          ]
        },
        {
          "output_type": "stream",
          "name": "stderr",
          "text": [
            "\n"
          ]
        },
        {
          "output_type": "stream",
          "name": "stdout",
          "text": [
            "2023-06-29 13:08:25,453 BAD EPOCHS (no improvement): 0\n",
            "2023-06-29 13:08:25,456 saving best model\n",
            "2023-06-29 13:08:26,157 ----------------------------------------------------------------------------------------------------\n",
            "2023-06-29 13:08:29,009 epoch 10 - iter 43/439 - loss 0.13832825 - time (sec): 2.85 - samples/sec: 6849.08 - lr: 0.100000\n",
            "2023-06-29 13:08:31,898 epoch 10 - iter 86/439 - loss 0.13858837 - time (sec): 5.74 - samples/sec: 6892.36 - lr: 0.100000\n",
            "2023-06-29 13:08:34,921 epoch 10 - iter 129/439 - loss 0.13794601 - time (sec): 8.76 - samples/sec: 6874.50 - lr: 0.100000\n",
            "2023-06-29 13:08:37,951 epoch 10 - iter 172/439 - loss 0.13751095 - time (sec): 11.79 - samples/sec: 6807.20 - lr: 0.100000\n",
            "2023-06-29 13:08:41,049 epoch 10 - iter 215/439 - loss 0.13809746 - time (sec): 14.89 - samples/sec: 6728.37 - lr: 0.100000\n",
            "2023-06-29 13:08:43,879 epoch 10 - iter 258/439 - loss 0.13863555 - time (sec): 17.72 - samples/sec: 6771.14 - lr: 0.100000\n",
            "2023-06-29 13:08:46,707 epoch 10 - iter 301/439 - loss 0.13888753 - time (sec): 20.55 - samples/sec: 6807.07 - lr: 0.100000\n",
            "2023-06-29 13:08:49,594 epoch 10 - iter 344/439 - loss 0.13843039 - time (sec): 23.44 - samples/sec: 6819.13 - lr: 0.100000\n",
            "2023-06-29 13:08:52,476 epoch 10 - iter 387/439 - loss 0.13736739 - time (sec): 26.32 - samples/sec: 6827.72 - lr: 0.100000\n",
            "2023-06-29 13:08:55,459 epoch 10 - iter 430/439 - loss 0.13658153 - time (sec): 29.30 - samples/sec: 6818.91 - lr: 0.100000\n",
            "2023-06-29 13:08:56,038 ----------------------------------------------------------------------------------------------------\n",
            "2023-06-29 13:08:56,040 EPOCH 10 done: loss 0.1360 - lr 0.100000\n"
          ]
        },
        {
          "output_type": "stream",
          "name": "stderr",
          "text": [
            "100%|██████████| 102/102 [00:11<00:00,  9.04it/s]"
          ]
        },
        {
          "output_type": "stream",
          "name": "stdout",
          "text": [
            "2023-06-29 13:09:07,350 Evaluating as a multi-label problem: False\n",
            "2023-06-29 13:09:07,412 DEV : loss 0.08322510123252869 - f1-score (micro avg)  0.8761\n"
          ]
        },
        {
          "output_type": "stream",
          "name": "stderr",
          "text": [
            "\n"
          ]
        },
        {
          "output_type": "stream",
          "name": "stdout",
          "text": [
            "2023-06-29 13:09:07,655 BAD EPOCHS (no improvement): 1\n",
            "2023-06-29 13:09:08,324 ----------------------------------------------------------------------------------------------------\n",
            "2023-06-29 13:09:08,868 SequenceTagger predicts: Dictionary with 19 tags: O, S-LOC, B-LOC, E-LOC, I-LOC, S-PER, B-PER, E-PER, I-PER, S-ORG, B-ORG, E-ORG, I-ORG, S-MISC, B-MISC, E-MISC, I-MISC, <START>, <STOP>\n"
          ]
        },
        {
          "output_type": "stream",
          "name": "stderr",
          "text": [
            "100%|██████████| 108/108 [00:10<00:00, 10.79it/s]"
          ]
        },
        {
          "output_type": "stream",
          "name": "stdout",
          "text": [
            "2023-06-29 13:09:18,992 Evaluating as a multi-label problem: False\n",
            "2023-06-29 13:09:19,050 0.8769\t0.815\t0.8448\t0.7529\n",
            "2023-06-29 13:09:19,052 \n",
            "Results:\n",
            "- F-score (micro) 0.8448\n",
            "- F-score (macro) 0.8245\n",
            "- Accuracy 0.7529\n",
            "\n",
            "By class:\n",
            "              precision    recall  f1-score   support\n",
            "\n",
            "         LOC     0.8418    0.8993    0.8696      1668\n",
            "         PER     0.9337    0.8967    0.9148      1617\n",
            "         ORG     0.8833    0.7243    0.7959      1661\n",
            "        MISC     0.8152    0.6410    0.7177       702\n",
            "\n",
            "   micro avg     0.8769    0.8150    0.8448      5648\n",
            "   macro avg     0.8685    0.7903    0.8245      5648\n",
            "weighted avg     0.8770    0.8150    0.8420      5648\n",
            "\n",
            "2023-06-29 13:09:19,053 ----------------------------------------------------------------------------------------------------\n"
          ]
        },
        {
          "output_type": "stream",
          "name": "stderr",
          "text": [
            "\n"
          ]
        }
      ]
    },
    {
      "cell_type": "markdown",
      "source": [
        "RoBERTa"
      ],
      "metadata": {
        "id": "i6w9a5HL1DOR"
      }
    },
    {
      "cell_type": "code",
      "source": [
        "for corpus in corpus_dataset:\n",
        "    # Cria um dicionário de tags usando o corpus combinado\n",
        "    tag_dictionary = corpus.make_label_dictionary(label_type=tag_type)\n",
        "\n",
        "    # Define o tipo de embedding desejado\n",
        "    embeddings = TransformerWordEmbeddings(\"roberta-base\", layers=\"all\", layer_mean=True)\n",
        "\n",
        "    # Criação de um objeto SequenceTagger\n",
        "    tagger: SequenceTagger = SequenceTagger(\n",
        "        hidden_size=256,                   # Tamanho da camada oculta do modelo\n",
        "        embeddings=embeddings,             # Embeddings utilizados como entrada para o modelo\n",
        "        tag_dictionary=tag_dictionary,     # Dicionário de rótulos utilizado pelo modelo\n",
        "        tag_type=tag_type,                 # Tipo de rótulo utilizado (por exemplo, NER)\n",
        "        use_crf=True                      # Indicação de uso do CRF (Conditional Random Field) para decodificar as sequências de rótulos\n",
        "    )\n",
        "\n",
        "    # Treino do modelo Flair\n",
        "    trainer: ModelTrainer = ModelTrainer(tagger, corpus)\n",
        "    trainer.train(\n",
        "        f'resources/roberta/taggers/{corpus}',    # Diretório para salvar os resultados do treinamento\n",
        "        learning_rate=0.1,                        # Taxa de aprendizado\n",
        "        mini_batch_size=32,                       # Tamanho do mini-batch\n",
        "        optimizer=SGDW,                           # Otimizador\n",
        "        max_epochs=10                             # Número máximo de épocas\n",
        "    )\n"
      ],
      "metadata": {
        "id": "P9kB3Oz6uy44",
        "colab": {
          "base_uri": "https://localhost:8080/",
          "height": 1000,
          "referenced_widgets": [
            "be69bc53f9294dfd9547f14b7bfb97ba",
            "9943ee68e85a4cc299279382a850b86c",
            "770f0228763743798dac91c935e713fb",
            "a7e8d02db54c40d2a211d49147163373",
            "4790d890393441e190486dd661377746",
            "00b663f263ff4cc49d7fc39f63e91306",
            "6f3736a637d9448e9bf3601746d7a97c",
            "e0f27ff6d1d2459c9b5179692868a91c",
            "89073d48e1034970acd306a215fb6c2e",
            "ec3991d10a3a4dec9c253f5417f0b209",
            "ddacbde960664114ab4f0f0dbbcd4566",
            "381f5f8f178b4d3a94f8b4ed7aef0866",
            "e251a3de2b8148ed968725785e820329",
            "29feb09af3bc4f6ba37c0835e36318a8",
            "0f9127fb2d07470f852329726b6eca05",
            "4876e994745940bda0141eb27a6f39c6",
            "95c4895fc269422f97f357d0d9944f37",
            "ab56aa364f4542b28faeb6bdaf76ec06",
            "f0d9737644c44cc2a49603c41d3aceb2",
            "dc4cdd8b2fb6497e83f810d54ee05b19",
            "d32db27f46564eecb84957547c028508",
            "abdd8c74a5bb440189c02bdc26aecbb2",
            "0d278dff46e1457281f635b7a88f491d",
            "da9a70f7d65c44bd80f90b769a8321d2",
            "e0655ca629e5404599a153e99380cf29",
            "559ef22545224f63bb8ed1e210d613df",
            "3359280c0ed447e580d13b7b2050f668",
            "e3872acad9ed4dd1ad180a875e7f902b",
            "d56a627b67a2414d9b90217ac401871e",
            "d971c4b5905a454fa43ae72bf9ecaf03",
            "7bec9baf5edb4c1da1aa65ed4980be33",
            "7a38d3a29ce04dfaa7c01cbb3d08d178",
            "cfa7b456a9204787a6574f42ec9fe652",
            "92c7fd22e2b944049e30ca2d34e0b486",
            "8b7335ddecdd4613bfdbd812ad7a25c4",
            "a4eae77d7abe42aa900b2fd560bbe934",
            "bfdde2a19622472cbd593011c0b6a431",
            "8a480eaf893147fb9458160a3699510c",
            "5851767e50984874ae153fda22232eb7",
            "414af97432154599b3c6290b1eda6579",
            "3f10cdbc3b7d4236b4adf9de4839494b",
            "27a24ca7c80b4e9b9090c2d747119e67",
            "65845839722f45cba2f219c421532acf",
            "4dc564993ddf4e95a744575d1305cf97",
            "7c284173e0654deeb3c786e5d970c15c",
            "9f7a3fd0f13a4c11b0f3e32e3b40c377",
            "698308f5cfb84688acdd9970fcd8a498",
            "baceebb9b800428dbcb82dfee22529bb",
            "9d66730cc2e14624944f5c1701d696a3",
            "87949780507748aba452de753b57915f",
            "09be6977fbb34c2e957c4c45c2d0878d",
            "76b8724c4dea488aab55701a560993ec",
            "bc478a567b3f4059a8c7a07b04bbf73f",
            "3858f326fabc4cb0b3328f4c6df14ba6",
            "bba17f279fad450f91c22e01f53a4e19"
          ]
        },
        "outputId": "c0c722fb-3523-48ff-e152-c4181a9f3570"
      },
      "execution_count": null,
      "outputs": [
        {
          "output_type": "stream",
          "name": "stdout",
          "text": [
            "2023-06-29 13:09:19,068 Computing label dictionary. Progress:\n"
          ]
        },
        {
          "output_type": "stream",
          "name": "stderr",
          "text": [
            "333it [00:00, 29406.14it/s]"
          ]
        },
        {
          "output_type": "stream",
          "name": "stdout",
          "text": [
            "2023-06-29 13:09:19,087 Dictionary created for label 'ner' with 8 values: ActivityData (seen 402 times), Activity (seen 400 times), Actor (seen 373 times), XORGateway (seen 93 times), ConditionSpecification (seen 72 times), FurtherSpecification (seen 60 times), ANDGateway (seen 6 times)\n"
          ]
        },
        {
          "output_type": "stream",
          "name": "stderr",
          "text": [
            "\n"
          ]
        },
        {
          "output_type": "display_data",
          "data": {
            "text/plain": [
              "Downloading (…)lve/main/config.json:   0%|          | 0.00/481 [00:00<?, ?B/s]"
            ],
            "application/vnd.jupyter.widget-view+json": {
              "version_major": 2,
              "version_minor": 0,
              "model_id": "be69bc53f9294dfd9547f14b7bfb97ba"
            }
          },
          "metadata": {}
        },
        {
          "output_type": "display_data",
          "data": {
            "text/plain": [
              "Downloading (…)olve/main/vocab.json:   0%|          | 0.00/899k [00:00<?, ?B/s]"
            ],
            "application/vnd.jupyter.widget-view+json": {
              "version_major": 2,
              "version_minor": 0,
              "model_id": "381f5f8f178b4d3a94f8b4ed7aef0866"
            }
          },
          "metadata": {}
        },
        {
          "output_type": "display_data",
          "data": {
            "text/plain": [
              "Downloading (…)olve/main/merges.txt:   0%|          | 0.00/456k [00:00<?, ?B/s]"
            ],
            "application/vnd.jupyter.widget-view+json": {
              "version_major": 2,
              "version_minor": 0,
              "model_id": "0d278dff46e1457281f635b7a88f491d"
            }
          },
          "metadata": {}
        },
        {
          "output_type": "display_data",
          "data": {
            "text/plain": [
              "Downloading (…)/main/tokenizer.json:   0%|          | 0.00/1.36M [00:00<?, ?B/s]"
            ],
            "application/vnd.jupyter.widget-view+json": {
              "version_major": 2,
              "version_minor": 0,
              "model_id": "92c7fd22e2b944049e30ca2d34e0b486"
            }
          },
          "metadata": {}
        },
        {
          "output_type": "display_data",
          "data": {
            "text/plain": [
              "Downloading model.safetensors:   0%|          | 0.00/499M [00:00<?, ?B/s]"
            ],
            "application/vnd.jupyter.widget-view+json": {
              "version_major": 2,
              "version_minor": 0,
              "model_id": "7c284173e0654deeb3c786e5d970c15c"
            }
          },
          "metadata": {}
        },
        {
          "output_type": "stream",
          "name": "stdout",
          "text": [
            "2023-06-29 13:09:27,848 SequenceTagger predicts: Dictionary with 29 tags: O, S-ActivityData, B-ActivityData, E-ActivityData, I-ActivityData, S-Activity, B-Activity, E-Activity, I-Activity, S-Actor, B-Actor, E-Actor, I-Actor, S-XORGateway, B-XORGateway, E-XORGateway, I-XORGateway, S-ConditionSpecification, B-ConditionSpecification, E-ConditionSpecification, I-ConditionSpecification, S-FurtherSpecification, B-FurtherSpecification, E-FurtherSpecification, I-FurtherSpecification, S-ANDGateway, B-ANDGateway, E-ANDGateway, I-ANDGateway\n",
            "2023-06-29 13:09:27,877 ----------------------------------------------------------------------------------------------------\n",
            "2023-06-29 13:09:27,879 Model: \"SequenceTagger(\n",
            "  (embeddings): TransformerWordEmbeddings(\n",
            "    (model): RobertaModel(\n",
            "      (embeddings): RobertaEmbeddings(\n",
            "        (word_embeddings): Embedding(50266, 768)\n",
            "        (position_embeddings): Embedding(514, 768, padding_idx=1)\n",
            "        (token_type_embeddings): Embedding(1, 768)\n",
            "        (LayerNorm): LayerNorm((768,), eps=1e-05, elementwise_affine=True)\n",
            "        (dropout): Dropout(p=0.1, inplace=False)\n",
            "      )\n",
            "      (encoder): RobertaEncoder(\n",
            "        (layer): ModuleList(\n",
            "          (0-11): 12 x RobertaLayer(\n",
            "            (attention): RobertaAttention(\n",
            "              (self): RobertaSelfAttention(\n",
            "                (query): Linear(in_features=768, out_features=768, bias=True)\n",
            "                (key): Linear(in_features=768, out_features=768, bias=True)\n",
            "                (value): Linear(in_features=768, out_features=768, bias=True)\n",
            "                (dropout): Dropout(p=0.1, inplace=False)\n",
            "              )\n",
            "              (output): RobertaSelfOutput(\n",
            "                (dense): Linear(in_features=768, out_features=768, bias=True)\n",
            "                (LayerNorm): LayerNorm((768,), eps=1e-05, elementwise_affine=True)\n",
            "                (dropout): Dropout(p=0.1, inplace=False)\n",
            "              )\n",
            "            )\n",
            "            (intermediate): RobertaIntermediate(\n",
            "              (dense): Linear(in_features=768, out_features=3072, bias=True)\n",
            "              (intermediate_act_fn): GELUActivation()\n",
            "            )\n",
            "            (output): RobertaOutput(\n",
            "              (dense): Linear(in_features=3072, out_features=768, bias=True)\n",
            "              (LayerNorm): LayerNorm((768,), eps=1e-05, elementwise_affine=True)\n",
            "              (dropout): Dropout(p=0.1, inplace=False)\n",
            "            )\n",
            "          )\n",
            "        )\n",
            "      )\n",
            "      (pooler): RobertaPooler(\n",
            "        (dense): Linear(in_features=768, out_features=768, bias=True)\n",
            "        (activation): Tanh()\n",
            "      )\n",
            "    )\n",
            "  )\n",
            "  (word_dropout): WordDropout(p=0.05)\n",
            "  (locked_dropout): LockedDropout(p=0.5)\n",
            "  (embedding2nn): Linear(in_features=768, out_features=768, bias=True)\n",
            "  (rnn): LSTM(768, 256, batch_first=True, bidirectional=True)\n",
            "  (linear): Linear(in_features=512, out_features=31, bias=True)\n",
            "  (loss_function): ViterbiLoss()\n",
            "  (crf): CRF()\n",
            ")\"\n",
            "2023-06-29 13:09:27,880 ----------------------------------------------------------------------------------------------------\n",
            "2023-06-29 13:09:27,881 Corpus: \"Corpus: 333 train + 41 dev + 41 test sentences\"\n",
            "2023-06-29 13:09:27,885 ----------------------------------------------------------------------------------------------------\n",
            "2023-06-29 13:09:27,887 Parameters:\n",
            "2023-06-29 13:09:27,888  - learning_rate: \"0.100000\"\n",
            "2023-06-29 13:09:27,889  - mini_batch_size: \"32\"\n",
            "2023-06-29 13:09:27,892  - patience: \"3\"\n",
            "2023-06-29 13:09:27,893  - anneal_factor: \"0.5\"\n",
            "2023-06-29 13:09:27,895  - max_epochs: \"10\"\n",
            "2023-06-29 13:09:27,896  - shuffle: \"True\"\n",
            "2023-06-29 13:09:27,898  - train_with_dev: \"False\"\n",
            "2023-06-29 13:09:27,899  - batch_growth_annealing: \"False\"\n",
            "2023-06-29 13:09:27,901 ----------------------------------------------------------------------------------------------------\n",
            "2023-06-29 13:09:27,902 Model training base path: \"resources/roberta/taggers/Corpus: 333 train + 41 dev + 41 test sentences\"\n",
            "2023-06-29 13:09:27,905 ----------------------------------------------------------------------------------------------------\n",
            "2023-06-29 13:09:27,909 Device: cuda:0\n",
            "2023-06-29 13:09:27,910 ----------------------------------------------------------------------------------------------------\n",
            "2023-06-29 13:09:27,912 Embeddings storage mode: cpu\n",
            "2023-06-29 13:09:27,913 ----------------------------------------------------------------------------------------------------\n",
            "2023-06-29 13:09:28,347 epoch 1 - iter 1/11 - loss 3.65598489 - time (sec): 0.43 - samples/sec: 1347.88 - lr: 0.100000\n",
            "2023-06-29 13:09:28,722 epoch 1 - iter 2/11 - loss 3.29463554 - time (sec): 0.81 - samples/sec: 1505.44 - lr: 0.100000\n",
            "2023-06-29 13:09:29,131 epoch 1 - iter 3/11 - loss 3.08687365 - time (sec): 1.22 - samples/sec: 1473.81 - lr: 0.100000\n",
            "2023-06-29 13:09:29,474 epoch 1 - iter 4/11 - loss 3.07517245 - time (sec): 1.56 - samples/sec: 1552.13 - lr: 0.100000\n",
            "2023-06-29 13:09:29,774 epoch 1 - iter 5/11 - loss 2.98424512 - time (sec): 1.86 - samples/sec: 1606.46 - lr: 0.100000\n",
            "2023-06-29 13:09:30,092 epoch 1 - iter 6/11 - loss 3.00577803 - time (sec): 2.18 - samples/sec: 1617.67 - lr: 0.100000\n",
            "2023-06-29 13:09:30,517 epoch 1 - iter 7/11 - loss 2.95512811 - time (sec): 2.60 - samples/sec: 1577.19 - lr: 0.100000\n",
            "2023-06-29 13:09:30,943 epoch 1 - iter 8/11 - loss 2.93520468 - time (sec): 3.03 - samples/sec: 1541.19 - lr: 0.100000\n",
            "2023-06-29 13:09:31,263 epoch 1 - iter 9/11 - loss 2.97877117 - time (sec): 3.35 - samples/sec: 1576.70 - lr: 0.100000\n",
            "2023-06-29 13:09:31,567 epoch 1 - iter 10/11 - loss 2.97363701 - time (sec): 3.65 - samples/sec: 1583.68 - lr: 0.100000\n",
            "2023-06-29 13:09:31,712 epoch 1 - iter 11/11 - loss 2.94928426 - time (sec): 3.80 - samples/sec: 1591.73 - lr: 0.100000\n",
            "2023-06-29 13:09:31,714 ----------------------------------------------------------------------------------------------------\n",
            "2023-06-29 13:09:31,717 EPOCH 1 done: loss 2.9493 - lr 0.100000\n"
          ]
        },
        {
          "output_type": "stream",
          "name": "stderr",
          "text": [
            "100%|██████████| 2/2 [00:00<00:00,  7.68it/s]"
          ]
        },
        {
          "output_type": "stream",
          "name": "stdout",
          "text": [
            "2023-06-29 13:09:31,986 Evaluating as a multi-label problem: False\n",
            "2023-06-29 13:09:32,002 DEV : loss 2.7703917026519775 - f1-score (micro avg)  0.0285\n",
            "2023-06-29 13:09:32,009 BAD EPOCHS (no improvement): 0\n",
            "2023-06-29 13:09:32,011 saving best model\n"
          ]
        },
        {
          "output_type": "stream",
          "name": "stderr",
          "text": [
            "\n"
          ]
        },
        {
          "output_type": "stream",
          "name": "stdout",
          "text": [
            "2023-06-29 13:09:33,804 ----------------------------------------------------------------------------------------------------\n",
            "2023-06-29 13:09:34,198 epoch 2 - iter 1/11 - loss 2.63508314 - time (sec): 0.39 - samples/sec: 1423.69 - lr: 0.100000\n",
            "2023-06-29 13:09:34,518 epoch 2 - iter 2/11 - loss 2.69839416 - time (sec): 0.71 - samples/sec: 1591.81 - lr: 0.100000\n",
            "2023-06-29 13:09:34,964 epoch 2 - iter 3/11 - loss 2.68909650 - time (sec): 1.16 - samples/sec: 1461.71 - lr: 0.100000\n",
            "2023-06-29 13:09:35,339 epoch 2 - iter 4/11 - loss 2.67319173 - time (sec): 1.53 - samples/sec: 1485.62 - lr: 0.100000\n",
            "2023-06-29 13:09:35,781 epoch 2 - iter 5/11 - loss 2.66445952 - time (sec): 1.98 - samples/sec: 1409.68 - lr: 0.100000\n",
            "2023-06-29 13:09:36,130 epoch 2 - iter 6/11 - loss 2.66287356 - time (sec): 2.33 - samples/sec: 1441.19 - lr: 0.100000\n",
            "2023-06-29 13:09:36,466 epoch 2 - iter 7/11 - loss 2.66169804 - time (sec): 2.66 - samples/sec: 1486.72 - lr: 0.100000\n",
            "2023-06-29 13:09:36,777 epoch 2 - iter 8/11 - loss 2.66321616 - time (sec): 2.97 - samples/sec: 1521.17 - lr: 0.100000\n",
            "2023-06-29 13:09:37,196 epoch 2 - iter 9/11 - loss 2.63616479 - time (sec): 3.39 - samples/sec: 1526.68 - lr: 0.100000\n",
            "2023-06-29 13:09:37,509 epoch 2 - iter 10/11 - loss 2.64005475 - time (sec): 3.70 - samples/sec: 1559.40 - lr: 0.100000\n",
            "2023-06-29 13:09:37,653 epoch 2 - iter 11/11 - loss 2.65623075 - time (sec): 3.85 - samples/sec: 1570.72 - lr: 0.100000\n",
            "2023-06-29 13:09:37,656 ----------------------------------------------------------------------------------------------------\n",
            "2023-06-29 13:09:37,657 EPOCH 2 done: loss 2.6562 - lr 0.100000\n"
          ]
        },
        {
          "output_type": "stream",
          "name": "stderr",
          "text": [
            "100%|██████████| 2/2 [00:00<00:00,  8.45it/s]"
          ]
        },
        {
          "output_type": "stream",
          "name": "stdout",
          "text": [
            "2023-06-29 13:09:37,901 Evaluating as a multi-label problem: False\n",
            "2023-06-29 13:09:37,916 DEV : loss 2.4964418411254883 - f1-score (micro avg)  0.0\n",
            "2023-06-29 13:09:37,923 BAD EPOCHS (no improvement): 1\n",
            "2023-06-29 13:09:37,925 ----------------------------------------------------------------------------------------------------\n"
          ]
        },
        {
          "output_type": "stream",
          "name": "stderr",
          "text": [
            "\n"
          ]
        },
        {
          "output_type": "stream",
          "name": "stdout",
          "text": [
            "2023-06-29 13:09:38,253 epoch 3 - iter 1/11 - loss 2.59850037 - time (sec): 0.33 - samples/sec: 1695.19 - lr: 0.100000\n",
            "2023-06-29 13:09:38,602 epoch 3 - iter 2/11 - loss 2.69764626 - time (sec): 0.67 - samples/sec: 1756.09 - lr: 0.100000\n",
            "2023-06-29 13:09:38,979 epoch 3 - iter 3/11 - loss 2.58463472 - time (sec): 1.05 - samples/sec: 1663.11 - lr: 0.100000\n",
            "2023-06-29 13:09:39,414 epoch 3 - iter 4/11 - loss 2.60530866 - time (sec): 1.49 - samples/sec: 1637.18 - lr: 0.100000\n",
            "2023-06-29 13:09:39,778 epoch 3 - iter 5/11 - loss 2.54823245 - time (sec): 1.85 - samples/sec: 1603.63 - lr: 0.100000\n",
            "2023-06-29 13:09:40,100 epoch 3 - iter 6/11 - loss 2.52429264 - time (sec): 2.17 - samples/sec: 1643.34 - lr: 0.100000\n",
            "2023-06-29 13:09:40,420 epoch 3 - iter 7/11 - loss 2.50259536 - time (sec): 2.49 - samples/sec: 1655.42 - lr: 0.100000\n",
            "2023-06-29 13:09:40,735 epoch 3 - iter 8/11 - loss 2.49982387 - time (sec): 2.81 - samples/sec: 1667.84 - lr: 0.100000\n",
            "2023-06-29 13:09:41,156 epoch 3 - iter 9/11 - loss 2.46578013 - time (sec): 3.23 - samples/sec: 1622.96 - lr: 0.100000\n",
            "2023-06-29 13:09:41,479 epoch 3 - iter 10/11 - loss 2.46289775 - time (sec): 3.55 - samples/sec: 1639.47 - lr: 0.100000\n",
            "2023-06-29 13:09:41,614 epoch 3 - iter 11/11 - loss 2.48697888 - time (sec): 3.69 - samples/sec: 1638.96 - lr: 0.100000\n",
            "2023-06-29 13:09:41,616 ----------------------------------------------------------------------------------------------------\n",
            "2023-06-29 13:09:41,618 EPOCH 3 done: loss 2.4870 - lr 0.100000\n"
          ]
        },
        {
          "output_type": "stream",
          "name": "stderr",
          "text": [
            "100%|██████████| 2/2 [00:00<00:00,  8.51it/s]"
          ]
        },
        {
          "output_type": "stream",
          "name": "stdout",
          "text": [
            "2023-06-29 13:09:41,860 Evaluating as a multi-label problem: False\n",
            "2023-06-29 13:09:41,874 DEV : loss 2.5000405311584473 - f1-score (micro avg)  0.0\n",
            "2023-06-29 13:09:41,882 BAD EPOCHS (no improvement): 2\n",
            "2023-06-29 13:09:41,883 ----------------------------------------------------------------------------------------------------\n"
          ]
        },
        {
          "output_type": "stream",
          "name": "stderr",
          "text": [
            "\n"
          ]
        },
        {
          "output_type": "stream",
          "name": "stdout",
          "text": [
            "2023-06-29 13:09:42,293 epoch 4 - iter 1/11 - loss 2.24465209 - time (sec): 0.41 - samples/sec: 1210.82 - lr: 0.100000\n",
            "2023-06-29 13:09:42,726 epoch 4 - iter 2/11 - loss 2.32681266 - time (sec): 0.84 - samples/sec: 1306.88 - lr: 0.100000\n",
            "2023-06-29 13:09:43,032 epoch 4 - iter 3/11 - loss 2.38303755 - time (sec): 1.15 - samples/sec: 1454.45 - lr: 0.100000\n",
            "2023-06-29 13:09:43,323 epoch 4 - iter 4/11 - loss 2.37461275 - time (sec): 1.44 - samples/sec: 1500.01 - lr: 0.100000\n",
            "2023-06-29 13:09:43,654 epoch 4 - iter 5/11 - loss 2.45691605 - time (sec): 1.77 - samples/sec: 1545.54 - lr: 0.100000\n",
            "2023-06-29 13:09:43,980 epoch 4 - iter 6/11 - loss 2.38958667 - time (sec): 2.10 - samples/sec: 1593.64 - lr: 0.100000\n",
            "2023-06-29 13:09:44,293 epoch 4 - iter 7/11 - loss 2.39609931 - time (sec): 2.41 - samples/sec: 1632.21 - lr: 0.100000\n",
            "2023-06-29 13:09:44,738 epoch 4 - iter 8/11 - loss 2.40209370 - time (sec): 2.85 - samples/sec: 1613.11 - lr: 0.100000\n",
            "2023-06-29 13:09:45,066 epoch 4 - iter 9/11 - loss 2.42131717 - time (sec): 3.18 - samples/sec: 1640.01 - lr: 0.100000\n",
            "2023-06-29 13:09:45,415 epoch 4 - iter 10/11 - loss 2.41223266 - time (sec): 3.53 - samples/sec: 1644.26 - lr: 0.100000\n",
            "2023-06-29 13:09:45,561 epoch 4 - iter 11/11 - loss 2.39671640 - time (sec): 3.68 - samples/sec: 1643.62 - lr: 0.100000\n",
            "2023-06-29 13:09:45,564 ----------------------------------------------------------------------------------------------------\n",
            "2023-06-29 13:09:45,566 EPOCH 4 done: loss 2.3967 - lr 0.100000\n"
          ]
        },
        {
          "output_type": "stream",
          "name": "stderr",
          "text": [
            "100%|██████████| 2/2 [00:00<00:00,  8.21it/s]"
          ]
        },
        {
          "output_type": "stream",
          "name": "stdout",
          "text": [
            "2023-06-29 13:09:45,817 Evaluating as a multi-label problem: False\n",
            "2023-06-29 13:09:45,831 DEV : loss 2.2954115867614746 - f1-score (micro avg)  0.0\n",
            "2023-06-29 13:09:45,839 BAD EPOCHS (no improvement): 3\n",
            "2023-06-29 13:09:45,841 ----------------------------------------------------------------------------------------------------\n"
          ]
        },
        {
          "output_type": "stream",
          "name": "stderr",
          "text": [
            "\n"
          ]
        },
        {
          "output_type": "stream",
          "name": "stdout",
          "text": [
            "2023-06-29 13:09:46,158 epoch 5 - iter 1/11 - loss 2.12210024 - time (sec): 0.32 - samples/sec: 1953.88 - lr: 0.100000\n",
            "2023-06-29 13:09:46,599 epoch 5 - iter 2/11 - loss 2.20759202 - time (sec): 0.76 - samples/sec: 1584.41 - lr: 0.100000\n",
            "2023-06-29 13:09:46,927 epoch 5 - iter 3/11 - loss 2.33525562 - time (sec): 1.08 - samples/sec: 1572.26 - lr: 0.100000\n",
            "2023-06-29 13:09:47,255 epoch 5 - iter 4/11 - loss 2.34853034 - time (sec): 1.41 - samples/sec: 1636.17 - lr: 0.100000\n",
            "2023-06-29 13:09:47,577 epoch 5 - iter 5/11 - loss 2.34449248 - time (sec): 1.73 - samples/sec: 1700.04 - lr: 0.100000\n",
            "2023-06-29 13:09:48,020 epoch 5 - iter 6/11 - loss 2.34953318 - time (sec): 2.18 - samples/sec: 1630.05 - lr: 0.100000\n",
            "2023-06-29 13:09:48,333 epoch 5 - iter 7/11 - loss 2.35151270 - time (sec): 2.49 - samples/sec: 1626.79 - lr: 0.100000\n",
            "2023-06-29 13:09:48,718 epoch 5 - iter 8/11 - loss 2.36798576 - time (sec): 2.88 - samples/sec: 1612.44 - lr: 0.100000\n",
            "2023-06-29 13:09:49,053 epoch 5 - iter 9/11 - loss 2.33098496 - time (sec): 3.21 - samples/sec: 1617.81 - lr: 0.100000\n",
            "2023-06-29 13:09:49,363 epoch 5 - iter 10/11 - loss 2.32510001 - time (sec): 3.52 - samples/sec: 1635.96 - lr: 0.100000\n",
            "2023-06-29 13:09:49,541 epoch 5 - iter 11/11 - loss 2.32138724 - time (sec): 3.70 - samples/sec: 1634.05 - lr: 0.100000\n",
            "2023-06-29 13:09:49,544 ----------------------------------------------------------------------------------------------------\n",
            "2023-06-29 13:09:49,546 EPOCH 5 done: loss 2.3214 - lr 0.100000\n"
          ]
        },
        {
          "output_type": "stream",
          "name": "stderr",
          "text": [
            "100%|██████████| 2/2 [00:00<00:00,  7.84it/s]"
          ]
        },
        {
          "output_type": "stream",
          "name": "stdout",
          "text": [
            "2023-06-29 13:09:49,810 Evaluating as a multi-label problem: False\n",
            "2023-06-29 13:09:49,830 DEV : loss 2.339817523956299 - f1-score (micro avg)  0.0\n",
            "2023-06-29 13:09:49,841 Epoch     5: reducing learning rate of group 0 to 5.0000e-02.\n",
            "2023-06-29 13:09:49,843 BAD EPOCHS (no improvement): 4\n",
            "2023-06-29 13:09:49,844 ----------------------------------------------------------------------------------------------------\n"
          ]
        },
        {
          "output_type": "stream",
          "name": "stderr",
          "text": [
            "\n"
          ]
        },
        {
          "output_type": "stream",
          "name": "stdout",
          "text": [
            "2023-06-29 13:09:50,171 epoch 6 - iter 1/11 - loss 2.61314893 - time (sec): 0.33 - samples/sec: 1609.32 - lr: 0.050000\n",
            "2023-06-29 13:09:50,501 epoch 6 - iter 2/11 - loss 2.16805990 - time (sec): 0.66 - samples/sec: 1722.28 - lr: 0.050000\n",
            "2023-06-29 13:09:50,962 epoch 6 - iter 3/11 - loss 2.17114990 - time (sec): 1.12 - samples/sec: 1553.32 - lr: 0.050000\n",
            "2023-06-29 13:09:51,279 epoch 6 - iter 4/11 - loss 2.17470154 - time (sec): 1.43 - samples/sec: 1611.82 - lr: 0.050000\n",
            "2023-06-29 13:09:51,596 epoch 6 - iter 5/11 - loss 2.22795713 - time (sec): 1.75 - samples/sec: 1611.04 - lr: 0.050000\n",
            "2023-06-29 13:09:51,964 epoch 6 - iter 6/11 - loss 2.18786667 - time (sec): 2.12 - samples/sec: 1628.74 - lr: 0.050000\n",
            "2023-06-29 13:09:52,348 epoch 6 - iter 7/11 - loss 2.20908211 - time (sec): 2.50 - samples/sec: 1633.24 - lr: 0.050000\n",
            "2023-06-29 13:09:52,648 epoch 6 - iter 8/11 - loss 2.21664785 - time (sec): 2.80 - samples/sec: 1636.71 - lr: 0.050000\n",
            "2023-06-29 13:09:53,090 epoch 6 - iter 9/11 - loss 2.19387670 - time (sec): 3.24 - samples/sec: 1610.47 - lr: 0.050000\n",
            "2023-06-29 13:09:53,415 epoch 6 - iter 10/11 - loss 2.18112493 - time (sec): 3.57 - samples/sec: 1612.05 - lr: 0.050000\n",
            "2023-06-29 13:09:53,599 epoch 6 - iter 11/11 - loss 2.16707013 - time (sec): 3.75 - samples/sec: 1610.15 - lr: 0.050000\n",
            "2023-06-29 13:09:53,602 ----------------------------------------------------------------------------------------------------\n",
            "2023-06-29 13:09:53,604 EPOCH 6 done: loss 2.1671 - lr 0.050000\n"
          ]
        },
        {
          "output_type": "stream",
          "name": "stderr",
          "text": [
            "100%|██████████| 2/2 [00:00<00:00,  8.37it/s]"
          ]
        },
        {
          "output_type": "stream",
          "name": "stdout",
          "text": [
            "2023-06-29 13:09:53,850 Evaluating as a multi-label problem: False\n",
            "2023-06-29 13:09:53,864 DEV : loss 2.1689343452453613 - f1-score (micro avg)  0.0\n",
            "2023-06-29 13:09:53,872 BAD EPOCHS (no improvement): 1\n",
            "2023-06-29 13:09:53,874 ----------------------------------------------------------------------------------------------------\n"
          ]
        },
        {
          "output_type": "stream",
          "name": "stderr",
          "text": [
            "\n"
          ]
        },
        {
          "output_type": "stream",
          "name": "stdout",
          "text": [
            "2023-06-29 13:09:54,194 epoch 7 - iter 1/11 - loss 2.35687041 - time (sec): 0.32 - samples/sec: 2048.48 - lr: 0.050000\n",
            "2023-06-29 13:09:54,522 epoch 7 - iter 2/11 - loss 2.32025654 - time (sec): 0.65 - samples/sec: 1876.15 - lr: 0.050000\n",
            "2023-06-29 13:09:54,945 epoch 7 - iter 3/11 - loss 2.17140906 - time (sec): 1.07 - samples/sec: 1747.00 - lr: 0.050000\n",
            "2023-06-29 13:09:55,254 epoch 7 - iter 4/11 - loss 2.16612130 - time (sec): 1.38 - samples/sec: 1739.23 - lr: 0.050000\n",
            "2023-06-29 13:09:55,565 epoch 7 - iter 5/11 - loss 2.13606316 - time (sec): 1.69 - samples/sec: 1718.82 - lr: 0.050000\n",
            "2023-06-29 13:09:55,916 epoch 7 - iter 6/11 - loss 2.14276517 - time (sec): 2.04 - samples/sec: 1714.82 - lr: 0.050000\n",
            "2023-06-29 13:09:56,362 epoch 7 - iter 7/11 - loss 2.12568471 - time (sec): 2.49 - samples/sec: 1653.90 - lr: 0.050000\n",
            "2023-06-29 13:09:56,745 epoch 7 - iter 8/11 - loss 2.11939646 - time (sec): 2.87 - samples/sec: 1625.21 - lr: 0.050000\n",
            "2023-06-29 13:09:57,189 epoch 7 - iter 9/11 - loss 2.09854639 - time (sec): 3.31 - samples/sec: 1589.11 - lr: 0.050000\n",
            "2023-06-29 13:09:57,520 epoch 7 - iter 10/11 - loss 2.10175448 - time (sec): 3.64 - samples/sec: 1592.37 - lr: 0.050000\n",
            "2023-06-29 13:09:57,661 epoch 7 - iter 11/11 - loss 2.09705186 - time (sec): 3.79 - samples/sec: 1596.01 - lr: 0.050000\n",
            "2023-06-29 13:09:57,664 ----------------------------------------------------------------------------------------------------\n",
            "2023-06-29 13:09:57,666 EPOCH 7 done: loss 2.0971 - lr 0.050000\n"
          ]
        },
        {
          "output_type": "stream",
          "name": "stderr",
          "text": [
            "100%|██████████| 2/2 [00:00<00:00,  8.15it/s]"
          ]
        },
        {
          "output_type": "stream",
          "name": "stdout",
          "text": [
            "2023-06-29 13:09:57,918 Evaluating as a multi-label problem: False\n",
            "2023-06-29 13:09:57,931 DEV : loss 2.139028549194336 - f1-score (micro avg)  0.0\n",
            "2023-06-29 13:09:57,941 BAD EPOCHS (no improvement): 2\n",
            "2023-06-29 13:09:57,943 ----------------------------------------------------------------------------------------------------\n"
          ]
        },
        {
          "output_type": "stream",
          "name": "stderr",
          "text": [
            "\n"
          ]
        },
        {
          "output_type": "stream",
          "name": "stdout",
          "text": [
            "2023-06-29 13:09:58,320 epoch 8 - iter 1/11 - loss 2.05784475 - time (sec): 0.38 - samples/sec: 1510.29 - lr: 0.050000\n",
            "2023-06-29 13:09:58,650 epoch 8 - iter 2/11 - loss 2.30863932 - time (sec): 0.71 - samples/sec: 1654.64 - lr: 0.050000\n",
            "2023-06-29 13:09:58,973 epoch 8 - iter 3/11 - loss 2.13099987 - time (sec): 1.03 - samples/sec: 1655.08 - lr: 0.050000\n",
            "2023-06-29 13:09:59,417 epoch 8 - iter 4/11 - loss 2.12693480 - time (sec): 1.47 - samples/sec: 1605.65 - lr: 0.050000\n",
            "2023-06-29 13:09:59,776 epoch 8 - iter 5/11 - loss 2.12407286 - time (sec): 1.83 - samples/sec: 1594.94 - lr: 0.050000\n",
            "2023-06-29 13:10:00,109 epoch 8 - iter 6/11 - loss 2.12548334 - time (sec): 2.16 - samples/sec: 1598.85 - lr: 0.050000\n",
            "2023-06-29 13:10:00,543 epoch 8 - iter 7/11 - loss 2.12041744 - time (sec): 2.60 - samples/sec: 1588.26 - lr: 0.050000\n",
            "2023-06-29 13:10:00,966 epoch 8 - iter 8/11 - loss 2.07990678 - time (sec): 3.02 - samples/sec: 1554.58 - lr: 0.050000\n",
            "2023-06-29 13:10:01,318 epoch 8 - iter 9/11 - loss 2.07525852 - time (sec): 3.37 - samples/sec: 1557.04 - lr: 0.050000\n",
            "2023-06-29 13:10:01,625 epoch 8 - iter 10/11 - loss 2.06427831 - time (sec): 3.68 - samples/sec: 1570.77 - lr: 0.050000\n",
            "2023-06-29 13:10:01,771 epoch 8 - iter 11/11 - loss 2.07354365 - time (sec): 3.83 - samples/sec: 1579.31 - lr: 0.050000\n",
            "2023-06-29 13:10:01,774 ----------------------------------------------------------------------------------------------------\n",
            "2023-06-29 13:10:01,776 EPOCH 8 done: loss 2.0735 - lr 0.050000\n"
          ]
        },
        {
          "output_type": "stream",
          "name": "stderr",
          "text": [
            "100%|██████████| 2/2 [00:00<00:00,  7.75it/s]"
          ]
        },
        {
          "output_type": "stream",
          "name": "stdout",
          "text": [
            "2023-06-29 13:10:02,042 Evaluating as a multi-label problem: False\n",
            "2023-06-29 13:10:02,056 DEV : loss 2.0874431133270264 - f1-score (micro avg)  0.0\n",
            "2023-06-29 13:10:02,065 BAD EPOCHS (no improvement): 3\n",
            "2023-06-29 13:10:02,067 ----------------------------------------------------------------------------------------------------\n"
          ]
        },
        {
          "output_type": "stream",
          "name": "stderr",
          "text": [
            "\n"
          ]
        },
        {
          "output_type": "stream",
          "name": "stdout",
          "text": [
            "2023-06-29 13:10:02,427 epoch 9 - iter 1/11 - loss 2.03253425 - time (sec): 0.36 - samples/sec: 1762.74 - lr: 0.050000\n",
            "2023-06-29 13:10:02,770 epoch 9 - iter 2/11 - loss 2.05967745 - time (sec): 0.70 - samples/sec: 1714.21 - lr: 0.050000\n",
            "2023-06-29 13:10:03,101 epoch 9 - iter 3/11 - loss 2.03918022 - time (sec): 1.03 - samples/sec: 1738.57 - lr: 0.050000\n",
            "2023-06-29 13:10:03,548 epoch 9 - iter 4/11 - loss 1.98316820 - time (sec): 1.48 - samples/sec: 1626.09 - lr: 0.050000\n",
            "2023-06-29 13:10:03,885 epoch 9 - iter 5/11 - loss 2.04772084 - time (sec): 1.82 - samples/sec: 1668.55 - lr: 0.050000\n",
            "2023-06-29 13:10:04,196 epoch 9 - iter 6/11 - loss 2.05066182 - time (sec): 2.13 - samples/sec: 1650.92 - lr: 0.050000\n",
            "2023-06-29 13:10:04,639 epoch 9 - iter 7/11 - loss 2.03131023 - time (sec): 2.57 - samples/sec: 1597.25 - lr: 0.050000\n",
            "2023-06-29 13:10:04,962 epoch 9 - iter 8/11 - loss 2.02293882 - time (sec): 2.89 - samples/sec: 1610.55 - lr: 0.050000\n",
            "2023-06-29 13:10:05,345 epoch 9 - iter 9/11 - loss 2.03857635 - time (sec): 3.28 - samples/sec: 1610.04 - lr: 0.050000\n",
            "2023-06-29 13:10:05,697 epoch 9 - iter 10/11 - loss 2.04425896 - time (sec): 3.63 - samples/sec: 1601.44 - lr: 0.050000\n",
            "2023-06-29 13:10:05,833 epoch 9 - iter 11/11 - loss 2.03216489 - time (sec): 3.76 - samples/sec: 1605.31 - lr: 0.050000\n",
            "2023-06-29 13:10:05,836 ----------------------------------------------------------------------------------------------------\n",
            "2023-06-29 13:10:05,837 EPOCH 9 done: loss 2.0322 - lr 0.050000\n"
          ]
        },
        {
          "output_type": "stream",
          "name": "stderr",
          "text": [
            "100%|██████████| 2/2 [00:00<00:00,  8.11it/s]"
          ]
        },
        {
          "output_type": "stream",
          "name": "stdout",
          "text": [
            "2023-06-29 13:10:06,090 Evaluating as a multi-label problem: False\n",
            "2023-06-29 13:10:06,104 DEV : loss 2.0441107749938965 - f1-score (micro avg)  0.0\n",
            "2023-06-29 13:10:06,112 Epoch     9: reducing learning rate of group 0 to 2.5000e-02.\n",
            "2023-06-29 13:10:06,114 BAD EPOCHS (no improvement): 4\n",
            "2023-06-29 13:10:06,116 ----------------------------------------------------------------------------------------------------\n"
          ]
        },
        {
          "output_type": "stream",
          "name": "stderr",
          "text": [
            "\n"
          ]
        },
        {
          "output_type": "stream",
          "name": "stdout",
          "text": [
            "2023-06-29 13:10:06,435 epoch 10 - iter 1/11 - loss 1.82276224 - time (sec): 0.32 - samples/sec: 1804.07 - lr: 0.025000\n",
            "2023-06-29 13:10:06,866 epoch 10 - iter 2/11 - loss 1.85363698 - time (sec): 0.75 - samples/sec: 1594.14 - lr: 0.025000\n",
            "2023-06-29 13:10:07,152 epoch 10 - iter 3/11 - loss 1.87970099 - time (sec): 1.03 - samples/sec: 1610.33 - lr: 0.025000\n",
            "2023-06-29 13:10:07,461 epoch 10 - iter 4/11 - loss 1.92939997 - time (sec): 1.34 - samples/sec: 1648.29 - lr: 0.025000\n",
            "2023-06-29 13:10:07,819 epoch 10 - iter 5/11 - loss 1.98167686 - time (sec): 1.70 - samples/sec: 1651.69 - lr: 0.025000\n",
            "2023-06-29 13:10:08,197 epoch 10 - iter 6/11 - loss 1.97598942 - time (sec): 2.08 - samples/sec: 1630.55 - lr: 0.025000\n",
            "2023-06-29 13:10:08,529 epoch 10 - iter 7/11 - loss 1.96222970 - time (sec): 2.41 - samples/sec: 1643.60 - lr: 0.025000\n",
            "2023-06-29 13:10:08,847 epoch 10 - iter 8/11 - loss 1.96898583 - time (sec): 2.73 - samples/sec: 1645.92 - lr: 0.025000\n",
            "2023-06-29 13:10:09,301 epoch 10 - iter 9/11 - loss 1.94526230 - time (sec): 3.18 - samples/sec: 1628.79 - lr: 0.025000\n",
            "2023-06-29 13:10:09,655 epoch 10 - iter 10/11 - loss 1.94936309 - time (sec): 3.54 - samples/sec: 1637.90 - lr: 0.025000\n",
            "2023-06-29 13:10:09,793 epoch 10 - iter 11/11 - loss 1.95508484 - time (sec): 3.67 - samples/sec: 1644.62 - lr: 0.025000\n",
            "2023-06-29 13:10:09,796 ----------------------------------------------------------------------------------------------------\n",
            "2023-06-29 13:10:09,797 EPOCH 10 done: loss 1.9551 - lr 0.025000\n"
          ]
        },
        {
          "output_type": "stream",
          "name": "stderr",
          "text": [
            "100%|██████████| 2/2 [00:00<00:00,  8.24it/s]"
          ]
        },
        {
          "output_type": "stream",
          "name": "stdout",
          "text": [
            "2023-06-29 13:10:10,047 Evaluating as a multi-label problem: False\n",
            "2023-06-29 13:10:10,061 DEV : loss 2.023725986480713 - f1-score (micro avg)  0.0\n",
            "2023-06-29 13:10:10,068 BAD EPOCHS (no improvement): 1\n"
          ]
        },
        {
          "output_type": "stream",
          "name": "stderr",
          "text": [
            "\n"
          ]
        },
        {
          "output_type": "stream",
          "name": "stdout",
          "text": [
            "2023-06-29 13:10:11,845 ----------------------------------------------------------------------------------------------------\n",
            "2023-06-29 13:10:15,717 SequenceTagger predicts: Dictionary with 31 tags: O, S-ActivityData, B-ActivityData, E-ActivityData, I-ActivityData, S-Activity, B-Activity, E-Activity, I-Activity, S-Actor, B-Actor, E-Actor, I-Actor, S-XORGateway, B-XORGateway, E-XORGateway, I-XORGateway, S-ConditionSpecification, B-ConditionSpecification, E-ConditionSpecification, I-ConditionSpecification, S-FurtherSpecification, B-FurtherSpecification, E-FurtherSpecification, I-FurtherSpecification, S-ANDGateway, B-ANDGateway, E-ANDGateway, I-ANDGateway, <START>, <STOP>\n"
          ]
        },
        {
          "output_type": "stream",
          "name": "stderr",
          "text": [
            "100%|██████████| 2/2 [00:00<00:00,  7.40it/s]"
          ]
        },
        {
          "output_type": "stream",
          "name": "stdout",
          "text": [
            "2023-06-29 13:10:16,181 Evaluating as a multi-label problem: False\n",
            "2023-06-29 13:10:16,198 0.0211\t0.0769\t0.0331\t0.018\n",
            "2023-06-29 13:10:16,199 \n",
            "Results:\n",
            "- F-score (micro) 0.0331\n",
            "- F-score (macro) 0.0263\n",
            "- Accuracy 0.018\n",
            "\n",
            "By class:\n",
            "                        precision    recall  f1-score   support\n",
            "\n",
            "          ActivityData     0.0104    0.1148    0.0191        61\n",
            "              Activity     0.2162    0.1333    0.1649        60\n",
            "                 Actor     0.0000    0.0000    0.0000        51\n",
            "            XORGateway     0.0000    0.0000    0.0000        10\n",
            "ConditionSpecification     0.0000    0.0000    0.0000         7\n",
            "  FurtherSpecification     0.0000    0.0000    0.0000         4\n",
            "            ANDGateway     0.0000    0.0000    0.0000         2\n",
            "\n",
            "             micro avg     0.0211    0.0769    0.0331       195\n",
            "             macro avg     0.0324    0.0354    0.0263       195\n",
            "          weighted avg     0.0698    0.0769    0.0567       195\n",
            "\n",
            "2023-06-29 13:10:16,200 ----------------------------------------------------------------------------------------------------\n",
            "2023-06-29 13:10:16,205 Computing label dictionary. Progress:\n"
          ]
        },
        {
          "output_type": "stream",
          "name": "stderr",
          "text": [
            "\n",
            "14000it [00:00, 49296.12it/s]"
          ]
        },
        {
          "output_type": "stream",
          "name": "stdout",
          "text": [
            "2023-06-29 13:10:16,501 Dictionary created for label 'ner' with 5 values: LOC (seen 8302 times), PER (seen 6286 times), MISC (seen 5873 times), ORG (seen 3664 times)\n"
          ]
        },
        {
          "output_type": "stream",
          "name": "stderr",
          "text": [
            "\n"
          ]
        },
        {
          "output_type": "stream",
          "name": "stdout",
          "text": [
            "2023-06-29 13:10:19,509 SequenceTagger predicts: Dictionary with 17 tags: O, S-LOC, B-LOC, E-LOC, I-LOC, S-PER, B-PER, E-PER, I-PER, S-MISC, B-MISC, E-MISC, I-MISC, S-ORG, B-ORG, E-ORG, I-ORG\n",
            "2023-06-29 13:10:19,537 ----------------------------------------------------------------------------------------------------\n",
            "2023-06-29 13:10:19,541 Model: \"SequenceTagger(\n",
            "  (embeddings): TransformerWordEmbeddings(\n",
            "    (model): RobertaModel(\n",
            "      (embeddings): RobertaEmbeddings(\n",
            "        (word_embeddings): Embedding(50266, 768)\n",
            "        (position_embeddings): Embedding(514, 768, padding_idx=1)\n",
            "        (token_type_embeddings): Embedding(1, 768)\n",
            "        (LayerNorm): LayerNorm((768,), eps=1e-05, elementwise_affine=True)\n",
            "        (dropout): Dropout(p=0.1, inplace=False)\n",
            "      )\n",
            "      (encoder): RobertaEncoder(\n",
            "        (layer): ModuleList(\n",
            "          (0-11): 12 x RobertaLayer(\n",
            "            (attention): RobertaAttention(\n",
            "              (self): RobertaSelfAttention(\n",
            "                (query): Linear(in_features=768, out_features=768, bias=True)\n",
            "                (key): Linear(in_features=768, out_features=768, bias=True)\n",
            "                (value): Linear(in_features=768, out_features=768, bias=True)\n",
            "                (dropout): Dropout(p=0.1, inplace=False)\n",
            "              )\n",
            "              (output): RobertaSelfOutput(\n",
            "                (dense): Linear(in_features=768, out_features=768, bias=True)\n",
            "                (LayerNorm): LayerNorm((768,), eps=1e-05, elementwise_affine=True)\n",
            "                (dropout): Dropout(p=0.1, inplace=False)\n",
            "              )\n",
            "            )\n",
            "            (intermediate): RobertaIntermediate(\n",
            "              (dense): Linear(in_features=768, out_features=3072, bias=True)\n",
            "              (intermediate_act_fn): GELUActivation()\n",
            "            )\n",
            "            (output): RobertaOutput(\n",
            "              (dense): Linear(in_features=3072, out_features=768, bias=True)\n",
            "              (LayerNorm): LayerNorm((768,), eps=1e-05, elementwise_affine=True)\n",
            "              (dropout): Dropout(p=0.1, inplace=False)\n",
            "            )\n",
            "          )\n",
            "        )\n",
            "      )\n",
            "      (pooler): RobertaPooler(\n",
            "        (dense): Linear(in_features=768, out_features=768, bias=True)\n",
            "        (activation): Tanh()\n",
            "      )\n",
            "    )\n",
            "  )\n",
            "  (word_dropout): WordDropout(p=0.05)\n",
            "  (locked_dropout): LockedDropout(p=0.5)\n",
            "  (embedding2nn): Linear(in_features=768, out_features=768, bias=True)\n",
            "  (rnn): LSTM(768, 256, batch_first=True, bidirectional=True)\n",
            "  (linear): Linear(in_features=512, out_features=19, bias=True)\n",
            "  (loss_function): ViterbiLoss()\n",
            "  (crf): CRF()\n",
            ")\"\n",
            "2023-06-29 13:10:19,542 ----------------------------------------------------------------------------------------------------\n",
            "2023-06-29 13:10:19,544 Corpus: \"Corpus: 14000 train + 3500 dev + 3500 test sentences\"\n",
            "2023-06-29 13:10:19,545 ----------------------------------------------------------------------------------------------------\n",
            "2023-06-29 13:10:19,549 Parameters:\n",
            "2023-06-29 13:10:19,550  - learning_rate: \"0.100000\"\n",
            "2023-06-29 13:10:19,551  - mini_batch_size: \"32\"\n",
            "2023-06-29 13:10:19,554  - patience: \"3\"\n",
            "2023-06-29 13:10:19,555  - anneal_factor: \"0.5\"\n",
            "2023-06-29 13:10:19,557  - max_epochs: \"10\"\n",
            "2023-06-29 13:10:19,558  - shuffle: \"True\"\n",
            "2023-06-29 13:10:19,561  - train_with_dev: \"False\"\n",
            "2023-06-29 13:10:19,562  - batch_growth_annealing: \"False\"\n",
            "2023-06-29 13:10:19,566 ----------------------------------------------------------------------------------------------------\n",
            "2023-06-29 13:10:19,567 Model training base path: \"resources/roberta/taggers/Corpus: 14000 train + 3500 dev + 3500 test sentences\"\n",
            "2023-06-29 13:10:19,568 ----------------------------------------------------------------------------------------------------\n",
            "2023-06-29 13:10:19,569 Device: cuda:0\n",
            "2023-06-29 13:10:19,572 ----------------------------------------------------------------------------------------------------\n",
            "2023-06-29 13:10:19,573 Embeddings storage mode: cpu\n",
            "2023-06-29 13:10:19,575 ----------------------------------------------------------------------------------------------------\n",
            "2023-06-29 13:10:42,206 epoch 1 - iter 43/438 - loss 1.01179805 - time (sec): 22.63 - samples/sec: 1456.05 - lr: 0.100000\n",
            "2023-06-29 13:11:04,177 epoch 1 - iter 86/438 - loss 0.74852909 - time (sec): 44.60 - samples/sec: 1459.66 - lr: 0.100000\n",
            "2023-06-29 13:11:25,892 epoch 1 - iter 129/438 - loss 0.60963300 - time (sec): 66.31 - samples/sec: 1465.97 - lr: 0.100000\n",
            "2023-06-29 13:11:48,088 epoch 1 - iter 172/438 - loss 0.51975677 - time (sec): 88.51 - samples/sec: 1460.93 - lr: 0.100000\n",
            "2023-06-29 13:12:10,015 epoch 1 - iter 215/438 - loss 0.45628012 - time (sec): 110.44 - samples/sec: 1466.94 - lr: 0.100000\n",
            "2023-06-29 13:12:32,454 epoch 1 - iter 258/438 - loss 0.41071048 - time (sec): 132.88 - samples/sec: 1457.98 - lr: 0.100000\n",
            "2023-06-29 13:12:55,039 epoch 1 - iter 301/438 - loss 0.37622367 - time (sec): 155.46 - samples/sec: 1453.62 - lr: 0.100000\n",
            "2023-06-29 13:13:17,936 epoch 1 - iter 344/438 - loss 0.34703645 - time (sec): 178.36 - samples/sec: 1453.08 - lr: 0.100000\n",
            "2023-06-29 13:13:40,590 epoch 1 - iter 387/438 - loss 0.32423198 - time (sec): 201.01 - samples/sec: 1451.90 - lr: 0.100000\n",
            "2023-06-29 13:14:04,081 epoch 1 - iter 430/438 - loss 0.30464025 - time (sec): 224.50 - samples/sec: 1448.27 - lr: 0.100000\n",
            "2023-06-29 13:14:07,697 ----------------------------------------------------------------------------------------------------\n",
            "2023-06-29 13:14:07,699 EPOCH 1 done: loss 0.3016 - lr 0.100000\n"
          ]
        },
        {
          "output_type": "stream",
          "name": "stderr",
          "text": [
            "100%|██████████| 110/110 [00:30<00:00,  3.64it/s]"
          ]
        },
        {
          "output_type": "stream",
          "name": "stdout",
          "text": [
            "2023-06-29 13:14:37,962 Evaluating as a multi-label problem: False\n",
            "2023-06-29 13:14:38,021 DEV : loss 0.09369628131389618 - f1-score (micro avg)  0.7798\n"
          ]
        },
        {
          "output_type": "stream",
          "name": "stderr",
          "text": [
            "\n"
          ]
        },
        {
          "output_type": "stream",
          "name": "stdout",
          "text": [
            "2023-06-29 13:14:38,571 BAD EPOCHS (no improvement): 0\n",
            "2023-06-29 13:14:38,576 saving best model\n",
            "2023-06-29 13:14:40,296 ----------------------------------------------------------------------------------------------------\n",
            "2023-06-29 13:15:01,685 epoch 2 - iter 43/438 - loss 0.11143300 - time (sec): 21.39 - samples/sec: 1483.16 - lr: 0.100000\n",
            "2023-06-29 13:15:23,695 epoch 2 - iter 86/438 - loss 0.11020445 - time (sec): 43.40 - samples/sec: 1471.81 - lr: 0.100000\n",
            "2023-06-29 13:15:45,742 epoch 2 - iter 129/438 - loss 0.10889292 - time (sec): 65.44 - samples/sec: 1474.41 - lr: 0.100000\n",
            "2023-06-29 13:16:08,353 epoch 2 - iter 172/438 - loss 0.10489354 - time (sec): 88.05 - samples/sec: 1463.66 - lr: 0.100000\n",
            "2023-06-29 13:16:31,597 epoch 2 - iter 215/438 - loss 0.10443200 - time (sec): 111.30 - samples/sec: 1447.94 - lr: 0.100000\n",
            "2023-06-29 13:16:54,469 epoch 2 - iter 258/438 - loss 0.10297887 - time (sec): 134.17 - samples/sec: 1446.00 - lr: 0.100000\n",
            "2023-06-29 13:17:16,968 epoch 2 - iter 301/438 - loss 0.10192819 - time (sec): 156.67 - samples/sec: 1445.71 - lr: 0.100000\n",
            "2023-06-29 13:17:40,306 epoch 2 - iter 344/438 - loss 0.09971265 - time (sec): 180.01 - samples/sec: 1440.25 - lr: 0.100000\n",
            "2023-06-29 13:18:03,712 epoch 2 - iter 387/438 - loss 0.09780890 - time (sec): 203.41 - samples/sec: 1436.35 - lr: 0.100000\n",
            "2023-06-29 13:18:25,884 epoch 2 - iter 430/438 - loss 0.09620557 - time (sec): 225.59 - samples/sec: 1441.07 - lr: 0.100000\n",
            "2023-06-29 13:18:30,566 ----------------------------------------------------------------------------------------------------\n",
            "2023-06-29 13:18:30,568 EPOCH 2 done: loss 0.0958 - lr 0.100000\n"
          ]
        },
        {
          "output_type": "stream",
          "name": "stderr",
          "text": [
            "100%|██████████| 110/110 [00:33<00:00,  3.32it/s]"
          ]
        },
        {
          "output_type": "stream",
          "name": "stdout",
          "text": [
            "2023-06-29 13:19:03,751 Evaluating as a multi-label problem: False\n",
            "2023-06-29 13:19:03,808 DEV : loss 0.07290077209472656 - f1-score (micro avg)  0.8106\n"
          ]
        },
        {
          "output_type": "stream",
          "name": "stderr",
          "text": [
            "\n"
          ]
        },
        {
          "output_type": "stream",
          "name": "stdout",
          "text": [
            "2023-06-29 13:19:04,411 BAD EPOCHS (no improvement): 0\n",
            "2023-06-29 13:19:04,421 saving best model\n",
            "2023-06-29 13:19:06,238 ----------------------------------------------------------------------------------------------------\n",
            "2023-06-29 13:19:28,835 epoch 3 - iter 43/438 - loss 0.07528066 - time (sec): 22.60 - samples/sec: 1402.16 - lr: 0.100000\n",
            "2023-06-29 13:19:53,040 epoch 3 - iter 86/438 - loss 0.07345789 - time (sec): 46.80 - samples/sec: 1394.77 - lr: 0.100000\n",
            "2023-06-29 13:20:15,729 epoch 3 - iter 129/438 - loss 0.07196588 - time (sec): 69.49 - samples/sec: 1397.48 - lr: 0.100000\n",
            "2023-06-29 13:20:37,176 epoch 3 - iter 172/438 - loss 0.07103503 - time (sec): 90.94 - samples/sec: 1419.90 - lr: 0.100000\n",
            "2023-06-29 13:21:00,015 epoch 3 - iter 215/438 - loss 0.06996191 - time (sec): 113.78 - samples/sec: 1421.74 - lr: 0.100000\n",
            "2023-06-29 13:21:22,973 epoch 3 - iter 258/438 - loss 0.06960100 - time (sec): 136.73 - samples/sec: 1423.80 - lr: 0.100000\n",
            "2023-06-29 13:21:45,772 epoch 3 - iter 301/438 - loss 0.06822802 - time (sec): 159.53 - samples/sec: 1422.23 - lr: 0.100000\n",
            "2023-06-29 13:22:09,013 epoch 3 - iter 344/438 - loss 0.06775255 - time (sec): 182.77 - samples/sec: 1420.00 - lr: 0.100000\n",
            "2023-06-29 13:22:32,942 epoch 3 - iter 387/438 - loss 0.06701188 - time (sec): 206.70 - samples/sec: 1415.42 - lr: 0.100000\n",
            "2023-06-29 13:22:56,001 epoch 3 - iter 430/438 - loss 0.06658198 - time (sec): 229.76 - samples/sec: 1415.74 - lr: 0.100000\n",
            "2023-06-29 13:22:59,763 ----------------------------------------------------------------------------------------------------\n",
            "2023-06-29 13:22:59,765 EPOCH 3 done: loss 0.0667 - lr 0.100000\n"
          ]
        },
        {
          "output_type": "stream",
          "name": "stderr",
          "text": [
            "100%|██████████| 110/110 [00:29<00:00,  3.68it/s]"
          ]
        },
        {
          "output_type": "stream",
          "name": "stdout",
          "text": [
            "2023-06-29 13:23:29,676 Evaluating as a multi-label problem: False\n",
            "2023-06-29 13:23:29,727 DEV : loss 0.07113209366798401 - f1-score (micro avg)  0.8275\n"
          ]
        },
        {
          "output_type": "stream",
          "name": "stderr",
          "text": [
            "\n"
          ]
        },
        {
          "output_type": "stream",
          "name": "stdout",
          "text": [
            "2023-06-29 13:23:30,380 BAD EPOCHS (no improvement): 0\n",
            "2023-06-29 13:23:30,393 saving best model\n",
            "2023-06-29 13:23:32,587 ----------------------------------------------------------------------------------------------------\n",
            "2023-06-29 13:23:55,720 epoch 4 - iter 43/438 - loss 0.05223246 - time (sec): 23.13 - samples/sec: 1408.71 - lr: 0.100000\n",
            "2023-06-29 13:24:18,612 epoch 4 - iter 86/438 - loss 0.05139100 - time (sec): 46.02 - samples/sec: 1409.08 - lr: 0.100000\n",
            "2023-06-29 13:24:41,550 epoch 4 - iter 129/438 - loss 0.05080937 - time (sec): 68.96 - samples/sec: 1418.25 - lr: 0.100000\n",
            "2023-06-29 13:25:03,451 epoch 4 - iter 172/438 - loss 0.05128481 - time (sec): 90.86 - samples/sec: 1426.12 - lr: 0.100000\n",
            "2023-06-29 13:25:26,254 epoch 4 - iter 215/438 - loss 0.05184548 - time (sec): 113.66 - samples/sec: 1427.71 - lr: 0.100000\n",
            "2023-06-29 13:25:49,600 epoch 4 - iter 258/438 - loss 0.05196731 - time (sec): 137.01 - samples/sec: 1423.61 - lr: 0.100000\n",
            "2023-06-29 13:26:11,524 epoch 4 - iter 301/438 - loss 0.05152869 - time (sec): 158.93 - samples/sec: 1429.01 - lr: 0.100000\n",
            "2023-06-29 13:26:36,189 epoch 4 - iter 344/438 - loss 0.05102853 - time (sec): 183.60 - samples/sec: 1415.18 - lr: 0.100000\n",
            "2023-06-29 13:26:58,317 epoch 4 - iter 387/438 - loss 0.05034183 - time (sec): 205.73 - samples/sec: 1421.78 - lr: 0.100000\n",
            "2023-06-29 13:27:20,627 epoch 4 - iter 430/438 - loss 0.05045681 - time (sec): 228.04 - samples/sec: 1427.25 - lr: 0.100000\n",
            "2023-06-29 13:27:24,907 ----------------------------------------------------------------------------------------------------\n",
            "2023-06-29 13:27:24,910 EPOCH 4 done: loss 0.0506 - lr 0.100000\n"
          ]
        },
        {
          "output_type": "stream",
          "name": "stderr",
          "text": [
            "100%|██████████| 110/110 [00:30<00:00,  3.59it/s]"
          ]
        },
        {
          "output_type": "stream",
          "name": "stdout",
          "text": [
            "2023-06-29 13:27:55,604 Evaluating as a multi-label problem: False\n",
            "2023-06-29 13:27:55,662 DEV : loss 0.055632609874010086 - f1-score (micro avg)  0.8685\n"
          ]
        },
        {
          "output_type": "stream",
          "name": "stderr",
          "text": [
            "\n"
          ]
        },
        {
          "output_type": "stream",
          "name": "stdout",
          "text": [
            "2023-06-29 13:27:56,284 BAD EPOCHS (no improvement): 0\n",
            "2023-06-29 13:27:56,293 saving best model\n",
            "2023-06-29 13:27:58,137 ----------------------------------------------------------------------------------------------------\n",
            "2023-06-29 13:28:20,784 epoch 5 - iter 43/438 - loss 0.03762880 - time (sec): 22.65 - samples/sec: 1442.34 - lr: 0.100000\n",
            "2023-06-29 13:28:42,283 epoch 5 - iter 86/438 - loss 0.04006774 - time (sec): 44.14 - samples/sec: 1468.72 - lr: 0.100000\n",
            "2023-06-29 13:29:04,576 epoch 5 - iter 129/438 - loss 0.04045836 - time (sec): 66.44 - samples/sec: 1457.96 - lr: 0.100000\n",
            "2023-06-29 13:29:27,061 epoch 5 - iter 172/438 - loss 0.04050210 - time (sec): 88.92 - samples/sec: 1450.86 - lr: 0.100000\n",
            "2023-06-29 13:29:51,445 epoch 5 - iter 215/438 - loss 0.03994719 - time (sec): 113.31 - samples/sec: 1425.96 - lr: 0.100000\n",
            "2023-06-29 13:30:13,825 epoch 5 - iter 258/438 - loss 0.04088953 - time (sec): 135.69 - samples/sec: 1432.14 - lr: 0.100000\n",
            "2023-06-29 13:30:36,097 epoch 5 - iter 301/438 - loss 0.04043203 - time (sec): 157.96 - samples/sec: 1434.82 - lr: 0.100000\n",
            "2023-06-29 13:30:58,298 epoch 5 - iter 344/438 - loss 0.04048779 - time (sec): 180.16 - samples/sec: 1440.83 - lr: 0.100000\n",
            "2023-06-29 13:31:20,879 epoch 5 - iter 387/438 - loss 0.04044370 - time (sec): 202.74 - samples/sec: 1442.68 - lr: 0.100000\n",
            "2023-06-29 13:31:44,526 epoch 5 - iter 430/438 - loss 0.04056578 - time (sec): 226.39 - samples/sec: 1436.36 - lr: 0.100000\n",
            "2023-06-29 13:31:47,961 ----------------------------------------------------------------------------------------------------\n",
            "2023-06-29 13:31:47,963 EPOCH 5 done: loss 0.0405 - lr 0.100000\n"
          ]
        },
        {
          "output_type": "stream",
          "name": "stderr",
          "text": [
            "100%|██████████| 110/110 [00:33<00:00,  3.32it/s]"
          ]
        },
        {
          "output_type": "stream",
          "name": "stdout",
          "text": [
            "2023-06-29 13:32:21,145 Evaluating as a multi-label problem: False\n",
            "2023-06-29 13:32:21,201 DEV : loss 0.057829275727272034 - f1-score (micro avg)  0.8574\n"
          ]
        },
        {
          "output_type": "stream",
          "name": "stderr",
          "text": [
            "\n"
          ]
        },
        {
          "output_type": "stream",
          "name": "stdout",
          "text": [
            "2023-06-29 13:32:21,822 BAD EPOCHS (no improvement): 1\n",
            "2023-06-29 13:32:21,824 ----------------------------------------------------------------------------------------------------\n",
            "2023-06-29 13:32:45,323 epoch 6 - iter 43/438 - loss 0.02924830 - time (sec): 23.50 - samples/sec: 1373.18 - lr: 0.100000\n",
            "2023-06-29 13:33:07,146 epoch 6 - iter 86/438 - loss 0.03115692 - time (sec): 45.32 - samples/sec: 1429.92 - lr: 0.100000\n",
            "2023-06-29 13:33:29,441 epoch 6 - iter 129/438 - loss 0.03157859 - time (sec): 67.62 - samples/sec: 1437.21 - lr: 0.100000\n",
            "2023-06-29 13:33:54,169 epoch 6 - iter 172/438 - loss 0.03314899 - time (sec): 92.34 - samples/sec: 1409.44 - lr: 0.100000\n",
            "2023-06-29 13:34:15,700 epoch 6 - iter 215/438 - loss 0.03293080 - time (sec): 113.87 - samples/sec: 1425.65 - lr: 0.100000\n",
            "2023-06-29 13:34:38,817 epoch 6 - iter 258/438 - loss 0.03323483 - time (sec): 136.99 - samples/sec: 1426.55 - lr: 0.100000\n",
            "2023-06-29 13:35:01,446 epoch 6 - iter 301/438 - loss 0.03303327 - time (sec): 159.62 - samples/sec: 1427.70 - lr: 0.100000\n",
            "2023-06-29 13:35:23,050 epoch 6 - iter 344/438 - loss 0.03336482 - time (sec): 181.22 - samples/sec: 1435.94 - lr: 0.100000\n",
            "2023-06-29 13:35:46,098 epoch 6 - iter 387/438 - loss 0.03344006 - time (sec): 204.27 - samples/sec: 1433.32 - lr: 0.100000\n",
            "2023-06-29 13:36:07,865 epoch 6 - iter 430/438 - loss 0.03374472 - time (sec): 226.04 - samples/sec: 1438.84 - lr: 0.100000\n",
            "2023-06-29 13:36:11,689 ----------------------------------------------------------------------------------------------------\n",
            "2023-06-29 13:36:11,691 EPOCH 6 done: loss 0.0337 - lr 0.100000\n"
          ]
        },
        {
          "output_type": "stream",
          "name": "stderr",
          "text": [
            "100%|██████████| 110/110 [00:29<00:00,  3.74it/s]"
          ]
        },
        {
          "output_type": "stream",
          "name": "stdout",
          "text": [
            "2023-06-29 13:36:41,100 Evaluating as a multi-label problem: False\n",
            "2023-06-29 13:36:41,152 DEV : loss 0.05593487620353699 - f1-score (micro avg)  0.8639\n"
          ]
        },
        {
          "output_type": "stream",
          "name": "stderr",
          "text": [
            "\n"
          ]
        },
        {
          "output_type": "stream",
          "name": "stdout",
          "text": [
            "2023-06-29 13:36:41,757 BAD EPOCHS (no improvement): 2\n",
            "2023-06-29 13:36:41,759 ----------------------------------------------------------------------------------------------------\n",
            "2023-06-29 13:37:04,170 epoch 7 - iter 43/438 - loss 0.03130349 - time (sec): 22.41 - samples/sec: 1458.45 - lr: 0.100000\n",
            "2023-06-29 13:37:26,699 epoch 7 - iter 86/438 - loss 0.02984131 - time (sec): 44.94 - samples/sec: 1459.45 - lr: 0.100000\n",
            "2023-06-29 13:37:49,256 epoch 7 - iter 129/438 - loss 0.02959060 - time (sec): 67.50 - samples/sec: 1449.41 - lr: 0.100000\n",
            "2023-06-29 13:38:11,841 epoch 7 - iter 172/438 - loss 0.02743674 - time (sec): 90.08 - samples/sec: 1444.89 - lr: 0.100000\n",
            "2023-06-29 13:38:34,751 epoch 7 - iter 215/438 - loss 0.02838989 - time (sec): 112.99 - samples/sec: 1440.62 - lr: 0.100000\n",
            "2023-06-29 13:38:55,773 epoch 7 - iter 258/438 - loss 0.02842703 - time (sec): 134.01 - samples/sec: 1452.14 - lr: 0.100000\n",
            "2023-06-29 13:39:18,791 epoch 7 - iter 301/438 - loss 0.02819431 - time (sec): 157.03 - samples/sec: 1447.94 - lr: 0.100000\n",
            "2023-06-29 13:39:42,307 epoch 7 - iter 344/438 - loss 0.02802757 - time (sec): 180.55 - samples/sec: 1442.38 - lr: 0.100000\n",
            "2023-06-29 13:40:04,842 epoch 7 - iter 387/438 - loss 0.02833113 - time (sec): 203.08 - samples/sec: 1440.35 - lr: 0.100000\n",
            "2023-06-29 13:40:27,290 epoch 7 - iter 430/438 - loss 0.02897338 - time (sec): 225.53 - samples/sec: 1442.31 - lr: 0.100000\n",
            "2023-06-29 13:40:30,821 ----------------------------------------------------------------------------------------------------\n",
            "2023-06-29 13:40:30,822 EPOCH 7 done: loss 0.0289 - lr 0.100000\n"
          ]
        },
        {
          "output_type": "stream",
          "name": "stderr",
          "text": [
            "100%|██████████| 110/110 [00:32<00:00,  3.36it/s]"
          ]
        },
        {
          "output_type": "stream",
          "name": "stdout",
          "text": [
            "2023-06-29 13:41:03,554 Evaluating as a multi-label problem: False\n",
            "2023-06-29 13:41:03,608 DEV : loss 0.06514472514390945 - f1-score (micro avg)  0.8584\n"
          ]
        },
        {
          "output_type": "stream",
          "name": "stderr",
          "text": [
            "\n"
          ]
        },
        {
          "output_type": "stream",
          "name": "stdout",
          "text": [
            "2023-06-29 13:41:04,199 BAD EPOCHS (no improvement): 3\n",
            "2023-06-29 13:41:04,207 ----------------------------------------------------------------------------------------------------\n",
            "2023-06-29 13:41:27,548 epoch 8 - iter 43/438 - loss 0.02678960 - time (sec): 23.34 - samples/sec: 1427.55 - lr: 0.100000\n",
            "2023-06-29 13:41:51,381 epoch 8 - iter 86/438 - loss 0.02426705 - time (sec): 47.17 - samples/sec: 1404.68 - lr: 0.100000\n",
            "2023-06-29 13:42:13,449 epoch 8 - iter 129/438 - loss 0.02408632 - time (sec): 69.24 - samples/sec: 1421.60 - lr: 0.100000\n",
            "2023-06-29 13:42:35,168 epoch 8 - iter 172/438 - loss 0.02407240 - time (sec): 90.96 - samples/sec: 1442.79 - lr: 0.100000\n",
            "2023-06-29 13:42:57,218 epoch 8 - iter 215/438 - loss 0.02515623 - time (sec): 113.01 - samples/sec: 1438.74 - lr: 0.100000\n",
            "2023-06-29 13:43:19,668 epoch 8 - iter 258/438 - loss 0.02479701 - time (sec): 135.46 - samples/sec: 1441.98 - lr: 0.100000\n",
            "2023-06-29 13:43:43,422 epoch 8 - iter 301/438 - loss 0.02456340 - time (sec): 159.21 - samples/sec: 1431.22 - lr: 0.100000\n",
            "2023-06-29 13:44:06,709 epoch 8 - iter 344/438 - loss 0.02472490 - time (sec): 182.50 - samples/sec: 1426.56 - lr: 0.100000\n",
            "2023-06-29 13:44:29,090 epoch 8 - iter 387/438 - loss 0.02472997 - time (sec): 204.88 - samples/sec: 1428.75 - lr: 0.100000\n",
            "2023-06-29 13:44:50,693 epoch 8 - iter 430/438 - loss 0.02546021 - time (sec): 226.48 - samples/sec: 1436.10 - lr: 0.100000\n",
            "2023-06-29 13:44:54,957 ----------------------------------------------------------------------------------------------------\n",
            "2023-06-29 13:44:54,959 EPOCH 8 done: loss 0.0254 - lr 0.100000\n"
          ]
        },
        {
          "output_type": "stream",
          "name": "stderr",
          "text": [
            "100%|██████████| 110/110 [00:29<00:00,  3.73it/s]"
          ]
        },
        {
          "output_type": "stream",
          "name": "stdout",
          "text": [
            "2023-06-29 13:45:24,456 Evaluating as a multi-label problem: False\n",
            "2023-06-29 13:45:24,505 DEV : loss 0.05787482485175133 - f1-score (micro avg)  0.8696\n"
          ]
        },
        {
          "output_type": "stream",
          "name": "stderr",
          "text": [
            "\n"
          ]
        },
        {
          "output_type": "stream",
          "name": "stdout",
          "text": [
            "2023-06-29 13:45:25,105 BAD EPOCHS (no improvement): 0\n",
            "2023-06-29 13:45:25,113 saving best model\n",
            "2023-06-29 13:45:31,567 ----------------------------------------------------------------------------------------------------\n",
            "2023-06-29 13:45:52,920 epoch 9 - iter 43/438 - loss 0.02306873 - time (sec): 21.35 - samples/sec: 1485.31 - lr: 0.100000\n",
            "2023-06-29 13:46:14,558 epoch 9 - iter 86/438 - loss 0.02341780 - time (sec): 42.99 - samples/sec: 1495.83 - lr: 0.100000\n",
            "2023-06-29 13:46:36,715 epoch 9 - iter 129/438 - loss 0.02182430 - time (sec): 65.15 - samples/sec: 1486.73 - lr: 0.100000\n",
            "2023-06-29 13:47:00,313 epoch 9 - iter 172/438 - loss 0.02237993 - time (sec): 88.74 - samples/sec: 1462.53 - lr: 0.100000\n",
            "2023-06-29 13:47:23,333 epoch 9 - iter 215/438 - loss 0.02247259 - time (sec): 111.76 - samples/sec: 1453.59 - lr: 0.100000\n",
            "2023-06-29 13:47:45,112 epoch 9 - iter 258/438 - loss 0.02205235 - time (sec): 133.54 - samples/sec: 1457.19 - lr: 0.100000\n",
            "2023-06-29 13:48:09,985 epoch 9 - iter 301/438 - loss 0.02244512 - time (sec): 158.42 - samples/sec: 1438.43 - lr: 0.100000\n",
            "2023-06-29 13:48:32,545 epoch 9 - iter 344/438 - loss 0.02254237 - time (sec): 180.98 - samples/sec: 1438.53 - lr: 0.100000\n",
            "2023-06-29 13:48:55,386 epoch 9 - iter 387/438 - loss 0.02255257 - time (sec): 203.82 - samples/sec: 1433.56 - lr: 0.100000\n",
            "2023-06-29 13:49:18,239 epoch 9 - iter 430/438 - loss 0.02279575 - time (sec): 226.67 - samples/sec: 1434.34 - lr: 0.100000\n",
            "2023-06-29 13:49:22,352 ----------------------------------------------------------------------------------------------------\n",
            "2023-06-29 13:49:22,354 EPOCH 9 done: loss 0.0227 - lr 0.100000\n"
          ]
        },
        {
          "output_type": "stream",
          "name": "stderr",
          "text": [
            "100%|██████████| 110/110 [00:32<00:00,  3.36it/s]"
          ]
        },
        {
          "output_type": "stream",
          "name": "stdout",
          "text": [
            "2023-06-29 13:49:55,093 Evaluating as a multi-label problem: False\n",
            "2023-06-29 13:49:55,146 DEV : loss 0.062237247824668884 - f1-score (micro avg)  0.8685\n"
          ]
        },
        {
          "output_type": "stream",
          "name": "stderr",
          "text": [
            "\n"
          ]
        },
        {
          "output_type": "stream",
          "name": "stdout",
          "text": [
            "2023-06-29 13:49:55,741 BAD EPOCHS (no improvement): 1\n",
            "2023-06-29 13:49:55,743 ----------------------------------------------------------------------------------------------------\n",
            "2023-06-29 13:50:19,463 epoch 10 - iter 43/438 - loss 0.01461551 - time (sec): 23.72 - samples/sec: 1364.10 - lr: 0.100000\n",
            "2023-06-29 13:50:41,118 epoch 10 - iter 86/438 - loss 0.01774474 - time (sec): 45.37 - samples/sec: 1414.58 - lr: 0.100000\n",
            "2023-06-29 13:51:02,706 epoch 10 - iter 129/438 - loss 0.01761939 - time (sec): 66.96 - samples/sec: 1430.67 - lr: 0.100000\n",
            "2023-06-29 13:51:25,168 epoch 10 - iter 172/438 - loss 0.01788631 - time (sec): 89.42 - samples/sec: 1436.65 - lr: 0.100000\n",
            "2023-06-29 13:51:47,542 epoch 10 - iter 215/438 - loss 0.01841679 - time (sec): 111.80 - samples/sec: 1440.39 - lr: 0.100000\n",
            "2023-06-29 13:52:10,452 epoch 10 - iter 258/438 - loss 0.01835944 - time (sec): 134.71 - samples/sec: 1436.46 - lr: 0.100000\n",
            "2023-06-29 13:52:34,217 epoch 10 - iter 301/438 - loss 0.01901360 - time (sec): 158.47 - samples/sec: 1427.00 - lr: 0.100000\n",
            "2023-06-29 13:52:56,670 epoch 10 - iter 344/438 - loss 0.01968203 - time (sec): 180.93 - samples/sec: 1428.87 - lr: 0.100000\n",
            "2023-06-29 13:53:18,250 epoch 10 - iter 387/438 - loss 0.01987484 - time (sec): 202.51 - samples/sec: 1439.67 - lr: 0.100000\n",
            "2023-06-29 13:53:41,712 epoch 10 - iter 430/438 - loss 0.01980704 - time (sec): 225.97 - samples/sec: 1437.05 - lr: 0.100000\n",
            "2023-06-29 13:53:46,569 ----------------------------------------------------------------------------------------------------\n",
            "2023-06-29 13:53:46,571 EPOCH 10 done: loss 0.0199 - lr 0.100000\n"
          ]
        },
        {
          "output_type": "stream",
          "name": "stderr",
          "text": [
            "100%|██████████| 110/110 [00:29<00:00,  3.72it/s]"
          ]
        },
        {
          "output_type": "stream",
          "name": "stdout",
          "text": [
            "2023-06-29 13:54:16,156 Evaluating as a multi-label problem: False\n",
            "2023-06-29 13:54:16,208 DEV : loss 0.07011095434427261 - f1-score (micro avg)  0.8586\n"
          ]
        },
        {
          "output_type": "stream",
          "name": "stderr",
          "text": [
            "\n"
          ]
        },
        {
          "output_type": "stream",
          "name": "stdout",
          "text": [
            "2023-06-29 13:54:16,809 BAD EPOCHS (no improvement): 2\n",
            "2023-06-29 13:54:26,499 ----------------------------------------------------------------------------------------------------\n",
            "2023-06-29 13:54:29,026 SequenceTagger predicts: Dictionary with 19 tags: O, S-LOC, B-LOC, E-LOC, I-LOC, S-PER, B-PER, E-PER, I-PER, S-MISC, B-MISC, E-MISC, I-MISC, S-ORG, B-ORG, E-ORG, I-ORG, <START>, <STOP>\n"
          ]
        },
        {
          "output_type": "stream",
          "name": "stderr",
          "text": [
            "100%|██████████| 110/110 [00:26<00:00,  4.10it/s]"
          ]
        },
        {
          "output_type": "stream",
          "name": "stdout",
          "text": [
            "2023-06-29 13:54:56,100 Evaluating as a multi-label problem: False\n",
            "2023-06-29 13:54:56,159 0.8699\t0.8769\t0.8734\t0.8388\n",
            "2023-06-29 13:54:56,161 \n",
            "Results:\n",
            "- F-score (micro) 0.8734\n",
            "- F-score (macro) 0.8714\n",
            "- Accuracy 0.8388\n",
            "\n",
            "By class:\n",
            "              precision    recall  f1-score   support\n",
            "\n",
            "         LOC     0.8471    0.9159    0.8802      1772\n",
            "         PER     0.9142    0.9166    0.9154      1582\n",
            "        MISC     0.8612    0.8005    0.8297      1534\n",
            "         ORG     0.8573    0.8636    0.8604      1092\n",
            "\n",
            "   micro avg     0.8699    0.8769    0.8734      5980\n",
            "   macro avg     0.8699    0.8741    0.8714      5980\n",
            "weighted avg     0.8703    0.8769    0.8729      5980\n",
            "\n",
            "2023-06-29 13:54:56,163 ----------------------------------------------------------------------------------------------------\n",
            "2023-06-29 13:54:56,168 Computing label dictionary. Progress:\n"
          ]
        },
        {
          "output_type": "stream",
          "name": "stderr",
          "text": [
            "\n",
            "14041it [00:00, 47744.15it/s]"
          ]
        },
        {
          "output_type": "stream",
          "name": "stdout",
          "text": [
            "2023-06-29 13:54:56,468 Dictionary created for label 'ner' with 5 values: LOC (seen 7140 times), PER (seen 6600 times), ORG (seen 6321 times), MISC (seen 3438 times)\n"
          ]
        },
        {
          "output_type": "stream",
          "name": "stderr",
          "text": [
            "\n"
          ]
        },
        {
          "output_type": "stream",
          "name": "stdout",
          "text": [
            "2023-06-29 13:54:59,398 SequenceTagger predicts: Dictionary with 17 tags: O, S-LOC, B-LOC, E-LOC, I-LOC, S-PER, B-PER, E-PER, I-PER, S-ORG, B-ORG, E-ORG, I-ORG, S-MISC, B-MISC, E-MISC, I-MISC\n",
            "2023-06-29 13:54:59,441 ----------------------------------------------------------------------------------------------------\n",
            "2023-06-29 13:54:59,445 Model: \"SequenceTagger(\n",
            "  (embeddings): TransformerWordEmbeddings(\n",
            "    (model): RobertaModel(\n",
            "      (embeddings): RobertaEmbeddings(\n",
            "        (word_embeddings): Embedding(50266, 768)\n",
            "        (position_embeddings): Embedding(514, 768, padding_idx=1)\n",
            "        (token_type_embeddings): Embedding(1, 768)\n",
            "        (LayerNorm): LayerNorm((768,), eps=1e-05, elementwise_affine=True)\n",
            "        (dropout): Dropout(p=0.1, inplace=False)\n",
            "      )\n",
            "      (encoder): RobertaEncoder(\n",
            "        (layer): ModuleList(\n",
            "          (0-11): 12 x RobertaLayer(\n",
            "            (attention): RobertaAttention(\n",
            "              (self): RobertaSelfAttention(\n",
            "                (query): Linear(in_features=768, out_features=768, bias=True)\n",
            "                (key): Linear(in_features=768, out_features=768, bias=True)\n",
            "                (value): Linear(in_features=768, out_features=768, bias=True)\n",
            "                (dropout): Dropout(p=0.1, inplace=False)\n",
            "              )\n",
            "              (output): RobertaSelfOutput(\n",
            "                (dense): Linear(in_features=768, out_features=768, bias=True)\n",
            "                (LayerNorm): LayerNorm((768,), eps=1e-05, elementwise_affine=True)\n",
            "                (dropout): Dropout(p=0.1, inplace=False)\n",
            "              )\n",
            "            )\n",
            "            (intermediate): RobertaIntermediate(\n",
            "              (dense): Linear(in_features=768, out_features=3072, bias=True)\n",
            "              (intermediate_act_fn): GELUActivation()\n",
            "            )\n",
            "            (output): RobertaOutput(\n",
            "              (dense): Linear(in_features=3072, out_features=768, bias=True)\n",
            "              (LayerNorm): LayerNorm((768,), eps=1e-05, elementwise_affine=True)\n",
            "              (dropout): Dropout(p=0.1, inplace=False)\n",
            "            )\n",
            "          )\n",
            "        )\n",
            "      )\n",
            "      (pooler): RobertaPooler(\n",
            "        (dense): Linear(in_features=768, out_features=768, bias=True)\n",
            "        (activation): Tanh()\n",
            "      )\n",
            "    )\n",
            "  )\n",
            "  (word_dropout): WordDropout(p=0.05)\n",
            "  (locked_dropout): LockedDropout(p=0.5)\n",
            "  (embedding2nn): Linear(in_features=768, out_features=768, bias=True)\n",
            "  (rnn): LSTM(768, 256, batch_first=True, bidirectional=True)\n",
            "  (linear): Linear(in_features=512, out_features=19, bias=True)\n",
            "  (loss_function): ViterbiLoss()\n",
            "  (crf): CRF()\n",
            ")\"\n",
            "2023-06-29 13:54:59,446 ----------------------------------------------------------------------------------------------------\n",
            "2023-06-29 13:54:59,447 Corpus: \"Corpus: 14041 train + 3250 dev + 3453 test sentences\"\n",
            "2023-06-29 13:54:59,449 ----------------------------------------------------------------------------------------------------\n",
            "2023-06-29 13:54:59,450 Parameters:\n",
            "2023-06-29 13:54:59,451  - learning_rate: \"0.100000\"\n",
            "2023-06-29 13:54:59,456  - mini_batch_size: \"32\"\n",
            "2023-06-29 13:54:59,457  - patience: \"3\"\n",
            "2023-06-29 13:54:59,458  - anneal_factor: \"0.5\"\n",
            "2023-06-29 13:54:59,462  - max_epochs: \"10\"\n",
            "2023-06-29 13:54:59,463  - shuffle: \"True\"\n",
            "2023-06-29 13:54:59,465  - train_with_dev: \"False\"\n",
            "2023-06-29 13:54:59,466  - batch_growth_annealing: \"False\"\n",
            "2023-06-29 13:54:59,469 ----------------------------------------------------------------------------------------------------\n",
            "2023-06-29 13:54:59,470 Model training base path: \"resources/roberta/taggers/Corpus: 14041 train + 3250 dev + 3453 test sentences\"\n",
            "2023-06-29 13:54:59,471 ----------------------------------------------------------------------------------------------------\n",
            "2023-06-29 13:54:59,472 Device: cuda:0\n",
            "2023-06-29 13:54:59,475 ----------------------------------------------------------------------------------------------------\n",
            "2023-06-29 13:54:59,476 Embeddings storage mode: cpu\n",
            "2023-06-29 13:54:59,479 ----------------------------------------------------------------------------------------------------\n",
            "2023-06-29 13:55:15,227 epoch 1 - iter 43/439 - loss 1.37216560 - time (sec): 15.75 - samples/sec: 1211.64 - lr: 0.100000\n",
            "2023-06-29 13:55:31,527 epoch 1 - iter 86/439 - loss 1.00363713 - time (sec): 32.05 - samples/sec: 1196.82 - lr: 0.100000\n",
            "2023-06-29 13:55:46,044 epoch 1 - iter 129/439 - loss 0.83364760 - time (sec): 46.56 - samples/sec: 1201.73 - lr: 0.100000\n",
            "2023-06-29 13:55:59,481 epoch 1 - iter 172/439 - loss 0.72706346 - time (sec): 60.00 - samples/sec: 1208.98 - lr: 0.100000\n",
            "2023-06-29 13:56:13,543 epoch 1 - iter 215/439 - loss 0.64637865 - time (sec): 74.06 - samples/sec: 1210.60 - lr: 0.100000\n",
            "2023-06-29 13:56:29,745 epoch 1 - iter 258/439 - loss 0.56602946 - time (sec): 90.26 - samples/sec: 1236.84 - lr: 0.100000\n",
            "2023-06-29 13:56:46,507 epoch 1 - iter 301/439 - loss 0.51485396 - time (sec): 107.03 - samples/sec: 1236.63 - lr: 0.100000\n",
            "2023-06-29 13:57:02,529 epoch 1 - iter 344/439 - loss 0.48262118 - time (sec): 123.05 - samples/sec: 1231.34 - lr: 0.100000\n",
            "2023-06-29 13:57:20,183 epoch 1 - iter 387/439 - loss 0.43961112 - time (sec): 140.70 - samples/sec: 1250.53 - lr: 0.100000\n",
            "2023-06-29 13:57:38,402 epoch 1 - iter 430/439 - loss 0.40443839 - time (sec): 158.92 - samples/sec: 1256.88 - lr: 0.100000\n",
            "2023-06-29 13:57:41,541 ----------------------------------------------------------------------------------------------------\n",
            "2023-06-29 13:57:41,544 EPOCH 1 done: loss 0.4011 - lr 0.100000\n"
          ]
        },
        {
          "output_type": "stream",
          "name": "stderr",
          "text": [
            "100%|██████████| 102/102 [00:24<00:00,  4.09it/s]"
          ]
        },
        {
          "output_type": "stream",
          "name": "stdout",
          "text": [
            "2023-06-29 13:58:06,496 Evaluating as a multi-label problem: False\n"
          ]
        },
        {
          "output_type": "stream",
          "name": "stderr",
          "text": [
            "\n"
          ]
        },
        {
          "output_type": "stream",
          "name": "stdout",
          "text": [
            "2023-06-29 13:58:06,549 DEV : loss 0.12582378089427948 - f1-score (micro avg)  0.8158\n",
            "2023-06-29 13:58:06,945 BAD EPOCHS (no improvement): 0\n",
            "2023-06-29 13:58:06,949 saving best model\n",
            "2023-06-29 13:58:08,840 ----------------------------------------------------------------------------------------------------\n",
            "2023-06-29 13:58:27,159 epoch 2 - iter 43/439 - loss 0.14958966 - time (sec): 18.32 - samples/sec: 1098.79 - lr: 0.100000\n",
            "2023-06-29 13:58:45,541 epoch 2 - iter 86/439 - loss 0.14152415 - time (sec): 36.70 - samples/sec: 1092.88 - lr: 0.100000\n",
            "2023-06-29 13:59:02,516 epoch 2 - iter 129/439 - loss 0.13566486 - time (sec): 53.67 - samples/sec: 1108.64 - lr: 0.100000\n",
            "2023-06-29 13:59:19,987 epoch 2 - iter 172/439 - loss 0.13074858 - time (sec): 71.14 - samples/sec: 1121.63 - lr: 0.100000\n",
            "2023-06-29 13:59:37,515 epoch 2 - iter 215/439 - loss 0.12981464 - time (sec): 88.67 - samples/sec: 1126.27 - lr: 0.100000\n",
            "2023-06-29 13:59:55,717 epoch 2 - iter 258/439 - loss 0.12670670 - time (sec): 106.88 - samples/sec: 1122.49 - lr: 0.100000\n",
            "2023-06-29 14:00:13,642 epoch 2 - iter 301/439 - loss 0.12324816 - time (sec): 124.80 - samples/sec: 1122.49 - lr: 0.100000\n",
            "2023-06-29 14:00:31,694 epoch 2 - iter 344/439 - loss 0.12085348 - time (sec): 142.85 - samples/sec: 1118.96 - lr: 0.100000\n",
            "2023-06-29 14:00:49,421 epoch 2 - iter 387/439 - loss 0.11913401 - time (sec): 160.58 - samples/sec: 1120.61 - lr: 0.100000\n",
            "2023-06-29 14:01:06,481 epoch 2 - iter 430/439 - loss 0.11687174 - time (sec): 177.64 - samples/sec: 1124.36 - lr: 0.100000\n",
            "2023-06-29 14:01:09,764 ----------------------------------------------------------------------------------------------------\n",
            "2023-06-29 14:01:09,766 EPOCH 2 done: loss 0.1165 - lr 0.100000\n"
          ]
        },
        {
          "output_type": "stream",
          "name": "stderr",
          "text": [
            "100%|██████████| 102/102 [00:21<00:00,  4.66it/s]"
          ]
        },
        {
          "output_type": "stream",
          "name": "stdout",
          "text": [
            "2023-06-29 14:01:31,666 Evaluating as a multi-label problem: False\n"
          ]
        },
        {
          "output_type": "stream",
          "name": "stderr",
          "text": [
            "\n"
          ]
        },
        {
          "output_type": "stream",
          "name": "stdout",
          "text": [
            "2023-06-29 14:01:31,718 DEV : loss 0.07585277408361435 - f1-score (micro avg)  0.8885\n",
            "2023-06-29 14:01:32,102 BAD EPOCHS (no improvement): 0\n",
            "2023-06-29 14:01:32,110 saving best model\n",
            "2023-06-29 14:01:34,054 ----------------------------------------------------------------------------------------------------\n",
            "2023-06-29 14:01:51,816 epoch 3 - iter 43/439 - loss 0.08448479 - time (sec): 17.76 - samples/sec: 1122.01 - lr: 0.100000\n",
            "2023-06-29 14:02:08,977 epoch 3 - iter 86/439 - loss 0.08305436 - time (sec): 34.92 - samples/sec: 1120.54 - lr: 0.100000\n",
            "2023-06-29 14:02:27,092 epoch 3 - iter 129/439 - loss 0.07854969 - time (sec): 53.04 - samples/sec: 1118.89 - lr: 0.100000\n",
            "2023-06-29 14:02:45,047 epoch 3 - iter 172/439 - loss 0.07720771 - time (sec): 70.99 - samples/sec: 1122.80 - lr: 0.100000\n",
            "2023-06-29 14:03:02,774 epoch 3 - iter 215/439 - loss 0.07763624 - time (sec): 88.72 - samples/sec: 1124.60 - lr: 0.100000\n",
            "2023-06-29 14:03:20,818 epoch 3 - iter 258/439 - loss 0.07529642 - time (sec): 106.76 - samples/sec: 1122.75 - lr: 0.100000\n",
            "2023-06-29 14:03:37,772 epoch 3 - iter 301/439 - loss 0.07317758 - time (sec): 123.72 - samples/sec: 1128.31 - lr: 0.100000\n",
            "2023-06-29 14:03:56,075 epoch 3 - iter 344/439 - loss 0.07358063 - time (sec): 142.02 - samples/sec: 1126.53 - lr: 0.100000\n",
            "2023-06-29 14:04:13,761 epoch 3 - iter 387/439 - loss 0.07287496 - time (sec): 159.70 - samples/sec: 1129.52 - lr: 0.100000\n",
            "2023-06-29 14:04:31,025 epoch 3 - iter 430/439 - loss 0.07302488 - time (sec): 176.97 - samples/sec: 1128.72 - lr: 0.100000\n",
            "2023-06-29 14:04:34,552 ----------------------------------------------------------------------------------------------------\n",
            "2023-06-29 14:04:34,553 EPOCH 3 done: loss 0.0731 - lr 0.100000\n"
          ]
        },
        {
          "output_type": "stream",
          "name": "stderr",
          "text": [
            "100%|██████████| 102/102 [00:21<00:00,  4.70it/s]"
          ]
        },
        {
          "output_type": "stream",
          "name": "stdout",
          "text": [
            "2023-06-29 14:04:56,299 Evaluating as a multi-label problem: False\n"
          ]
        },
        {
          "output_type": "stream",
          "name": "stderr",
          "text": [
            "\n"
          ]
        },
        {
          "output_type": "stream",
          "name": "stdout",
          "text": [
            "2023-06-29 14:04:56,355 DEV : loss 0.05621503293514252 - f1-score (micro avg)  0.9239\n",
            "2023-06-29 14:04:56,755 BAD EPOCHS (no improvement): 0\n",
            "2023-06-29 14:04:56,758 saving best model\n",
            "2023-06-29 14:04:58,744 ----------------------------------------------------------------------------------------------------\n",
            "2023-06-29 14:05:16,400 epoch 4 - iter 43/439 - loss 0.05416284 - time (sec): 17.65 - samples/sec: 1130.69 - lr: 0.100000\n",
            "2023-06-29 14:05:34,744 epoch 4 - iter 86/439 - loss 0.05391905 - time (sec): 36.00 - samples/sec: 1128.41 - lr: 0.100000\n",
            "2023-06-29 14:05:52,286 epoch 4 - iter 129/439 - loss 0.05585116 - time (sec): 53.54 - samples/sec: 1131.69 - lr: 0.100000\n",
            "2023-06-29 14:06:09,715 epoch 4 - iter 172/439 - loss 0.05669705 - time (sec): 70.97 - samples/sec: 1132.00 - lr: 0.100000\n",
            "2023-06-29 14:06:27,795 epoch 4 - iter 215/439 - loss 0.05673522 - time (sec): 89.05 - samples/sec: 1129.35 - lr: 0.100000\n",
            "2023-06-29 14:06:44,807 epoch 4 - iter 258/439 - loss 0.05738857 - time (sec): 106.06 - samples/sec: 1132.47 - lr: 0.100000\n",
            "2023-06-29 14:07:02,991 epoch 4 - iter 301/439 - loss 0.05593503 - time (sec): 124.25 - samples/sec: 1130.80 - lr: 0.100000\n",
            "2023-06-29 14:07:21,176 epoch 4 - iter 344/439 - loss 0.05611389 - time (sec): 142.43 - samples/sec: 1124.78 - lr: 0.100000\n",
            "2023-06-29 14:07:39,427 epoch 4 - iter 387/439 - loss 0.05590537 - time (sec): 160.68 - samples/sec: 1117.50 - lr: 0.100000\n",
            "2023-06-29 14:07:56,619 epoch 4 - iter 430/439 - loss 0.05634073 - time (sec): 177.87 - samples/sec: 1120.90 - lr: 0.100000\n",
            "2023-06-29 14:08:00,198 ----------------------------------------------------------------------------------------------------\n",
            "2023-06-29 14:08:00,199 EPOCH 4 done: loss 0.0562 - lr 0.100000\n"
          ]
        },
        {
          "output_type": "stream",
          "name": "stderr",
          "text": [
            "100%|██████████| 102/102 [00:24<00:00,  4.11it/s]"
          ]
        },
        {
          "output_type": "stream",
          "name": "stdout",
          "text": [
            "2023-06-29 14:08:25,030 Evaluating as a multi-label problem: False\n"
          ]
        },
        {
          "output_type": "stream",
          "name": "stderr",
          "text": [
            "\n"
          ]
        },
        {
          "output_type": "stream",
          "name": "stdout",
          "text": [
            "2023-06-29 14:08:25,082 DEV : loss 0.05367141216993332 - f1-score (micro avg)  0.9312\n",
            "2023-06-29 14:08:25,477 BAD EPOCHS (no improvement): 0\n",
            "2023-06-29 14:08:25,487 saving best model\n",
            "2023-06-29 14:08:27,480 ----------------------------------------------------------------------------------------------------\n",
            "2023-06-29 14:08:44,825 epoch 5 - iter 43/439 - loss 0.04838224 - time (sec): 17.34 - samples/sec: 1123.63 - lr: 0.100000\n",
            "2023-06-29 14:09:03,156 epoch 5 - iter 86/439 - loss 0.04398697 - time (sec): 35.67 - samples/sec: 1122.44 - lr: 0.100000\n",
            "2023-06-29 14:09:21,184 epoch 5 - iter 129/439 - loss 0.04337582 - time (sec): 53.70 - samples/sec: 1120.67 - lr: 0.100000\n",
            "2023-06-29 14:09:38,489 epoch 5 - iter 172/439 - loss 0.04301337 - time (sec): 71.01 - samples/sec: 1125.81 - lr: 0.100000\n",
            "2023-06-29 14:09:55,427 epoch 5 - iter 215/439 - loss 0.04285453 - time (sec): 87.95 - samples/sec: 1127.68 - lr: 0.100000\n",
            "2023-06-29 14:10:12,585 epoch 5 - iter 258/439 - loss 0.04321414 - time (sec): 105.10 - samples/sec: 1131.81 - lr: 0.100000\n",
            "2023-06-29 14:10:31,197 epoch 5 - iter 301/439 - loss 0.04375199 - time (sec): 123.72 - samples/sec: 1125.89 - lr: 0.100000\n",
            "2023-06-29 14:10:49,313 epoch 5 - iter 344/439 - loss 0.04422300 - time (sec): 141.83 - samples/sec: 1122.22 - lr: 0.100000\n",
            "2023-06-29 14:11:06,972 epoch 5 - iter 387/439 - loss 0.04402214 - time (sec): 159.49 - samples/sec: 1123.54 - lr: 0.100000\n",
            "2023-06-29 14:11:24,977 epoch 5 - iter 430/439 - loss 0.04388665 - time (sec): 177.50 - samples/sec: 1122.62 - lr: 0.100000\n",
            "2023-06-29 14:11:28,713 ----------------------------------------------------------------------------------------------------\n",
            "2023-06-29 14:11:28,714 EPOCH 5 done: loss 0.0440 - lr 0.100000\n"
          ]
        },
        {
          "output_type": "stream",
          "name": "stderr",
          "text": [
            "100%|██████████| 102/102 [00:21<00:00,  4.71it/s]"
          ]
        },
        {
          "output_type": "stream",
          "name": "stdout",
          "text": [
            "2023-06-29 14:11:50,407 Evaluating as a multi-label problem: False\n"
          ]
        },
        {
          "output_type": "stream",
          "name": "stderr",
          "text": [
            "\n"
          ]
        },
        {
          "output_type": "stream",
          "name": "stdout",
          "text": [
            "2023-06-29 14:11:50,460 DEV : loss 0.07287947088479996 - f1-score (micro avg)  0.9179\n",
            "2023-06-29 14:11:50,854 BAD EPOCHS (no improvement): 1\n",
            "2023-06-29 14:11:50,855 ----------------------------------------------------------------------------------------------------\n",
            "2023-06-29 14:12:08,771 epoch 6 - iter 43/439 - loss 0.04033175 - time (sec): 17.91 - samples/sec: 1114.55 - lr: 0.100000\n",
            "2023-06-29 14:12:26,658 epoch 6 - iter 86/439 - loss 0.03836933 - time (sec): 35.80 - samples/sec: 1117.34 - lr: 0.100000\n",
            "2023-06-29 14:12:44,370 epoch 6 - iter 129/439 - loss 0.03845950 - time (sec): 53.51 - samples/sec: 1125.41 - lr: 0.100000\n",
            "2023-06-29 14:13:02,732 epoch 6 - iter 172/439 - loss 0.03822958 - time (sec): 71.88 - samples/sec: 1130.34 - lr: 0.100000\n",
            "2023-06-29 14:13:19,851 epoch 6 - iter 215/439 - loss 0.03771678 - time (sec): 88.99 - samples/sec: 1131.41 - lr: 0.100000\n",
            "2023-06-29 14:13:37,867 epoch 6 - iter 258/439 - loss 0.03733883 - time (sec): 107.01 - samples/sec: 1125.27 - lr: 0.100000\n",
            "2023-06-29 14:13:55,793 epoch 6 - iter 301/439 - loss 0.03855686 - time (sec): 124.94 - samples/sec: 1121.65 - lr: 0.100000\n",
            "2023-06-29 14:14:13,707 epoch 6 - iter 344/439 - loss 0.03894086 - time (sec): 142.85 - samples/sec: 1123.11 - lr: 0.100000\n",
            "2023-06-29 14:14:32,034 epoch 6 - iter 387/439 - loss 0.03839651 - time (sec): 161.18 - samples/sec: 1117.99 - lr: 0.100000\n",
            "2023-06-29 14:14:49,313 epoch 6 - iter 430/439 - loss 0.03832543 - time (sec): 178.46 - samples/sec: 1119.12 - lr: 0.100000\n",
            "2023-06-29 14:14:52,745 ----------------------------------------------------------------------------------------------------\n",
            "2023-06-29 14:14:52,747 EPOCH 6 done: loss 0.0384 - lr 0.100000\n"
          ]
        },
        {
          "output_type": "stream",
          "name": "stderr",
          "text": [
            "100%|██████████| 102/102 [00:21<00:00,  4.67it/s]"
          ]
        },
        {
          "output_type": "stream",
          "name": "stdout",
          "text": [
            "2023-06-29 14:15:14,624 Evaluating as a multi-label problem: False\n"
          ]
        },
        {
          "output_type": "stream",
          "name": "stderr",
          "text": [
            "\n"
          ]
        },
        {
          "output_type": "stream",
          "name": "stdout",
          "text": [
            "2023-06-29 14:15:14,673 DEV : loss 0.05901070684194565 - f1-score (micro avg)  0.9305\n",
            "2023-06-29 14:15:15,058 BAD EPOCHS (no improvement): 2\n",
            "2023-06-29 14:15:15,066 ----------------------------------------------------------------------------------------------------\n",
            "2023-06-29 14:15:32,876 epoch 7 - iter 43/439 - loss 0.02540670 - time (sec): 17.81 - samples/sec: 1116.90 - lr: 0.100000\n",
            "2023-06-29 14:15:51,044 epoch 7 - iter 86/439 - loss 0.02908074 - time (sec): 35.98 - samples/sec: 1124.32 - lr: 0.100000\n",
            "2023-06-29 14:16:09,311 epoch 7 - iter 129/439 - loss 0.02927247 - time (sec): 54.24 - samples/sec: 1114.75 - lr: 0.100000\n",
            "2023-06-29 14:16:26,598 epoch 7 - iter 172/439 - loss 0.03062327 - time (sec): 71.53 - samples/sec: 1123.61 - lr: 0.100000\n",
            "2023-06-29 14:16:44,068 epoch 7 - iter 215/439 - loss 0.03109246 - time (sec): 89.00 - samples/sec: 1117.83 - lr: 0.100000\n",
            "2023-06-29 14:17:01,641 epoch 7 - iter 258/439 - loss 0.03154304 - time (sec): 106.57 - samples/sec: 1118.12 - lr: 0.100000\n",
            "2023-06-29 14:17:19,530 epoch 7 - iter 301/439 - loss 0.03139418 - time (sec): 124.46 - samples/sec: 1126.86 - lr: 0.100000\n",
            "2023-06-29 14:17:37,212 epoch 7 - iter 344/439 - loss 0.03075900 - time (sec): 142.14 - samples/sec: 1127.49 - lr: 0.100000\n",
            "2023-06-29 14:17:54,841 epoch 7 - iter 387/439 - loss 0.03068247 - time (sec): 159.77 - samples/sec: 1126.89 - lr: 0.100000\n",
            "2023-06-29 14:18:12,134 epoch 7 - iter 430/439 - loss 0.03142609 - time (sec): 177.07 - samples/sec: 1126.44 - lr: 0.100000\n",
            "2023-06-29 14:18:15,902 ----------------------------------------------------------------------------------------------------\n",
            "2023-06-29 14:18:15,904 EPOCH 7 done: loss 0.0315 - lr 0.100000\n"
          ]
        },
        {
          "output_type": "stream",
          "name": "stderr",
          "text": [
            "100%|██████████| 102/102 [00:21<00:00,  4.70it/s]"
          ]
        },
        {
          "output_type": "stream",
          "name": "stdout",
          "text": [
            "2023-06-29 14:18:37,617 Evaluating as a multi-label problem: False\n"
          ]
        },
        {
          "output_type": "stream",
          "name": "stderr",
          "text": [
            "\n"
          ]
        },
        {
          "output_type": "stream",
          "name": "stdout",
          "text": [
            "2023-06-29 14:18:37,675 DEV : loss 0.0625930055975914 - f1-score (micro avg)  0.9295\n",
            "2023-06-29 14:18:38,085 BAD EPOCHS (no improvement): 3\n",
            "2023-06-29 14:18:38,094 ----------------------------------------------------------------------------------------------------\n",
            "2023-06-29 14:18:56,329 epoch 8 - iter 43/439 - loss 0.02727234 - time (sec): 18.23 - samples/sec: 1107.06 - lr: 0.100000\n",
            "2023-06-29 14:19:13,792 epoch 8 - iter 86/439 - loss 0.02761715 - time (sec): 35.70 - samples/sec: 1110.37 - lr: 0.100000\n",
            "2023-06-29 14:19:31,600 epoch 8 - iter 129/439 - loss 0.02644840 - time (sec): 53.50 - samples/sec: 1103.38 - lr: 0.100000\n",
            "2023-06-29 14:19:49,044 epoch 8 - iter 172/439 - loss 0.02689549 - time (sec): 70.95 - samples/sec: 1112.34 - lr: 0.100000\n",
            "2023-06-29 14:20:07,158 epoch 8 - iter 215/439 - loss 0.02777181 - time (sec): 89.06 - samples/sec: 1110.39 - lr: 0.100000\n",
            "2023-06-29 14:20:24,578 epoch 8 - iter 258/439 - loss 0.02803253 - time (sec): 106.48 - samples/sec: 1116.11 - lr: 0.100000\n",
            "2023-06-29 14:20:42,586 epoch 8 - iter 301/439 - loss 0.02885779 - time (sec): 124.49 - samples/sec: 1115.63 - lr: 0.100000\n",
            "2023-06-29 14:21:00,405 epoch 8 - iter 344/439 - loss 0.02853101 - time (sec): 142.31 - samples/sec: 1119.36 - lr: 0.100000\n",
            "2023-06-29 14:21:17,915 epoch 8 - iter 387/439 - loss 0.02822178 - time (sec): 159.82 - samples/sec: 1123.29 - lr: 0.100000\n",
            "2023-06-29 14:21:35,048 epoch 8 - iter 430/439 - loss 0.02851721 - time (sec): 176.95 - samples/sec: 1127.26 - lr: 0.100000\n",
            "2023-06-29 14:21:38,846 ----------------------------------------------------------------------------------------------------\n",
            "2023-06-29 14:21:38,848 EPOCH 8 done: loss 0.0287 - lr 0.100000\n"
          ]
        },
        {
          "output_type": "stream",
          "name": "stderr",
          "text": [
            "100%|██████████| 102/102 [00:24<00:00,  4.10it/s]"
          ]
        },
        {
          "output_type": "stream",
          "name": "stdout",
          "text": [
            "2023-06-29 14:22:03,739 Evaluating as a multi-label problem: False\n",
            "2023-06-29 14:22:03,790 DEV : loss 0.05942842736840248 - f1-score (micro avg)  0.9296\n"
          ]
        },
        {
          "output_type": "stream",
          "name": "stderr",
          "text": [
            "\n"
          ]
        },
        {
          "output_type": "stream",
          "name": "stdout",
          "text": [
            "2023-06-29 14:22:04,176 Epoch     8: reducing learning rate of group 0 to 5.0000e-02.\n",
            "2023-06-29 14:22:04,181 BAD EPOCHS (no improvement): 4\n",
            "2023-06-29 14:22:04,186 ----------------------------------------------------------------------------------------------------\n",
            "2023-06-29 14:22:21,828 epoch 9 - iter 43/439 - loss 0.01682797 - time (sec): 17.64 - samples/sec: 1100.95 - lr: 0.050000\n",
            "2023-06-29 14:22:39,604 epoch 9 - iter 86/439 - loss 0.01643906 - time (sec): 35.42 - samples/sec: 1106.72 - lr: 0.050000\n",
            "2023-06-29 14:22:57,188 epoch 9 - iter 129/439 - loss 0.01740366 - time (sec): 53.00 - samples/sec: 1128.23 - lr: 0.050000\n",
            "2023-06-29 14:23:14,511 epoch 9 - iter 172/439 - loss 0.01666818 - time (sec): 70.32 - samples/sec: 1133.94 - lr: 0.050000\n",
            "2023-06-29 14:23:32,455 epoch 9 - iter 215/439 - loss 0.01630493 - time (sec): 88.27 - samples/sec: 1130.81 - lr: 0.050000\n",
            "2023-06-29 14:23:50,094 epoch 9 - iter 258/439 - loss 0.01601697 - time (sec): 105.91 - samples/sec: 1130.22 - lr: 0.050000\n",
            "2023-06-29 14:24:08,308 epoch 9 - iter 301/439 - loss 0.01612173 - time (sec): 124.12 - samples/sec: 1125.93 - lr: 0.050000\n",
            "2023-06-29 14:24:25,551 epoch 9 - iter 344/439 - loss 0.01589505 - time (sec): 141.36 - samples/sec: 1127.69 - lr: 0.050000\n",
            "2023-06-29 14:24:43,587 epoch 9 - iter 387/439 - loss 0.01598840 - time (sec): 159.40 - samples/sec: 1126.22 - lr: 0.050000\n",
            "2023-06-29 14:25:01,483 epoch 9 - iter 430/439 - loss 0.01637440 - time (sec): 177.30 - samples/sec: 1127.20 - lr: 0.050000\n",
            "2023-06-29 14:25:05,026 ----------------------------------------------------------------------------------------------------\n",
            "2023-06-29 14:25:05,028 EPOCH 9 done: loss 0.0164 - lr 0.050000\n"
          ]
        },
        {
          "output_type": "stream",
          "name": "stderr",
          "text": [
            "100%|██████████| 102/102 [00:21<00:00,  4.69it/s]"
          ]
        },
        {
          "output_type": "stream",
          "name": "stdout",
          "text": [
            "2023-06-29 14:25:26,806 Evaluating as a multi-label problem: False\n"
          ]
        },
        {
          "output_type": "stream",
          "name": "stderr",
          "text": [
            "\n"
          ]
        },
        {
          "output_type": "stream",
          "name": "stdout",
          "text": [
            "2023-06-29 14:25:26,860 DEV : loss 0.0669422596693039 - f1-score (micro avg)  0.9412\n",
            "2023-06-29 14:25:27,252 BAD EPOCHS (no improvement): 0\n",
            "2023-06-29 14:25:27,261 saving best model\n",
            "2023-06-29 14:25:29,308 ----------------------------------------------------------------------------------------------------\n",
            "2023-06-29 14:25:47,280 epoch 10 - iter 43/439 - loss 0.01155458 - time (sec): 17.97 - samples/sec: 1126.96 - lr: 0.050000\n",
            "2023-06-29 14:26:04,645 epoch 10 - iter 86/439 - loss 0.01342458 - time (sec): 35.34 - samples/sec: 1110.19 - lr: 0.050000\n",
            "2023-06-29 14:26:22,482 epoch 10 - iter 129/439 - loss 0.01257007 - time (sec): 53.17 - samples/sec: 1118.60 - lr: 0.050000\n",
            "2023-06-29 14:26:39,936 epoch 10 - iter 172/439 - loss 0.01281898 - time (sec): 70.63 - samples/sec: 1131.93 - lr: 0.050000\n",
            "2023-06-29 14:26:57,838 epoch 10 - iter 215/439 - loss 0.01314017 - time (sec): 88.53 - samples/sec: 1133.12 - lr: 0.050000\n",
            "2023-06-29 14:27:15,352 epoch 10 - iter 258/439 - loss 0.01294698 - time (sec): 106.04 - samples/sec: 1136.08 - lr: 0.050000\n",
            "2023-06-29 14:27:32,832 epoch 10 - iter 301/439 - loss 0.01298801 - time (sec): 123.52 - samples/sec: 1134.01 - lr: 0.050000\n",
            "2023-06-29 14:27:51,369 epoch 10 - iter 344/439 - loss 0.01279183 - time (sec): 142.06 - samples/sec: 1122.36 - lr: 0.050000\n",
            "2023-06-29 14:28:09,330 epoch 10 - iter 387/439 - loss 0.01311771 - time (sec): 160.02 - samples/sec: 1123.20 - lr: 0.050000\n",
            "2023-06-29 14:28:27,302 epoch 10 - iter 430/439 - loss 0.01314168 - time (sec): 177.99 - samples/sec: 1122.08 - lr: 0.050000\n",
            "2023-06-29 14:28:30,595 ----------------------------------------------------------------------------------------------------\n",
            "2023-06-29 14:28:30,597 EPOCH 10 done: loss 0.0131 - lr 0.050000\n"
          ]
        },
        {
          "output_type": "stream",
          "name": "stderr",
          "text": [
            "100%|██████████| 102/102 [00:21<00:00,  4.71it/s]"
          ]
        },
        {
          "output_type": "stream",
          "name": "stdout",
          "text": [
            "2023-06-29 14:28:52,304 Evaluating as a multi-label problem: False\n"
          ]
        },
        {
          "output_type": "stream",
          "name": "stderr",
          "text": [
            "\n"
          ]
        },
        {
          "output_type": "stream",
          "name": "stdout",
          "text": [
            "2023-06-29 14:28:52,363 DEV : loss 0.0781949907541275 - f1-score (micro avg)  0.9361\n",
            "2023-06-29 14:28:52,785 BAD EPOCHS (no improvement): 1\n",
            "2023-06-29 14:28:54,734 ----------------------------------------------------------------------------------------------------\n",
            "2023-06-29 14:28:57,340 SequenceTagger predicts: Dictionary with 19 tags: O, S-LOC, B-LOC, E-LOC, I-LOC, S-PER, B-PER, E-PER, I-PER, S-ORG, B-ORG, E-ORG, I-ORG, S-MISC, B-MISC, E-MISC, I-MISC, <START>, <STOP>\n"
          ]
        },
        {
          "output_type": "stream",
          "name": "stderr",
          "text": [
            "100%|██████████| 108/108 [00:20<00:00,  5.31it/s]"
          ]
        },
        {
          "output_type": "stream",
          "name": "stdout",
          "text": [
            "2023-06-29 14:29:17,915 Evaluating as a multi-label problem: False\n"
          ]
        },
        {
          "output_type": "stream",
          "name": "stderr",
          "text": [
            "\n"
          ]
        },
        {
          "output_type": "stream",
          "name": "stdout",
          "text": [
            "2023-06-29 14:29:17,966 0.8899\t0.903\t0.8964\t0.8528\n",
            "2023-06-29 14:29:17,967 \n",
            "Results:\n",
            "- F-score (micro) 0.8964\n",
            "- F-score (macro) 0.8837\n",
            "- Accuracy 0.8528\n",
            "\n",
            "By class:\n",
            "              precision    recall  f1-score   support\n",
            "\n",
            "         ORG     0.8404    0.8784    0.8590      1661\n",
            "         LOC     0.9243    0.9221    0.9232      1668\n",
            "         PER     0.9424    0.9518    0.9471      1617\n",
            "        MISC     0.8080    0.8034    0.8057       702\n",
            "\n",
            "   micro avg     0.8899    0.9030    0.8964      5648\n",
            "   macro avg     0.8788    0.8889    0.8837      5648\n",
            "weighted avg     0.8904    0.9030    0.8965      5648\n",
            "\n",
            "2023-06-29 14:29:17,969 ----------------------------------------------------------------------------------------------------\n"
          ]
        }
      ]
    },
    {
      "cell_type": "markdown",
      "source": [
        "BERT Base"
      ],
      "metadata": {
        "id": "K9mMhqPU8dsK"
      }
    },
    {
      "cell_type": "code",
      "source": [
        "for corpus in corpus_dataset:\n",
        "    # Cria um dicionário de tags usando o corpus combinado\n",
        "    tag_dictionary = corpus.make_label_dictionary(label_type=tag_type)\n",
        "\n",
        "    # Define o tipo de embedding desejado\n",
        "    embeddings = TransformerWordEmbeddings(\n",
        "        \"bert-base-uncased\",           # Modelo BERT-base pré-treinado\n",
        "        fine_tune=False,                # Não permite ajuste fino dos pesos durante o treinamento\n",
        "        layers='-1,-2,-3,-4',           # Utiliza as últimas 4 camadas do modelo BERT\n",
        "        allow_long_sentences=True       # Permite o processamento de frases longas\n",
        "    )\n",
        "\n",
        "    # Criação de um objeto SequenceTagger\n",
        "    tagger: SequenceTagger = SequenceTagger(\n",
        "        hidden_size=256,                   # Tamanho da camada oculta do modelo\n",
        "        embeddings=embeddings,             # Embeddings utilizados como entrada para o modelo\n",
        "        tag_dictionary=tag_dictionary,     # Dicionário de rótulos utilizado pelo modelo\n",
        "        tag_type=tag_type,                 # Tipo de rótulo utilizado (por exemplo, NER)\n",
        "        use_crf=False                      # Indicação de uso do CRF (Conditional Random Field) para decodificar as sequências de rótulos\n",
        "    )\n",
        "\n",
        "    # Treino do modelo Flair\n",
        "    trainer: ModelTrainer = ModelTrainer(tagger, corpus)\n",
        "    trainer.train(\n",
        "        f'resources/bert-base/taggers/{corpus}',    # Diretório para salvar os resultados do treinamento\n",
        "        learning_rate=0.1,                      # Taxa de aprendizado\n",
        "        mini_batch_size=16,                     # Tamanho do mini-batch\n",
        "        optimizer=SGDW,                         # Otimizador\n",
        "        max_epochs=10                           # Número máximo de épocas\n",
        "    )"
      ],
      "metadata": {
        "id": "3-tIHCZB1H0F",
        "colab": {
          "base_uri": "https://localhost:8080/",
          "height": 1000,
          "referenced_widgets": [
            "7b9b60e9b2d94432a43a2ddf6c04f4c6",
            "1f9a413ebdb848e2bdd023c097ed92af",
            "cedc90f5883e43e1b3ab02bb150df818",
            "81c86c5a35654ea1879f4f9591fe03d7",
            "563aebbc7a7140aea92a9e5effff065b",
            "43315194e1144ad2bfed61d349fec023",
            "4d16b4749dda4d5a9b1a6f798dbdffdb",
            "d930594f1ab64c77b09ff5ab8bfa27c4",
            "08bb1422d0e64fbda4a6337fe15cdb59",
            "97b3f78d70704553b1e26f927ff6954c",
            "23a285b7633049129c0b1bb7396b5004",
            "dc1f1e7f5fc049a9a45a871ab18088b3",
            "e7b0970329484e18a543f844852c9275",
            "09964487ff7842fa9d74373a008611a4",
            "aee58ecaeaf2429f81d75e3c88da597f",
            "6ace67d7efaa42b094c7f4245fd420a5",
            "dadd72503fe748f5ba1db6403c0115f0",
            "32534188606c4427824a946ea61dcb55",
            "698d77123edc4ed3b6b744116e052452",
            "3591ea3ec680496caecd983bb6dfb554",
            "01552b5cdcdf4f08a1aafee2abc8668f",
            "56a5df76ed1b4669a8dcd4caec9aa71a",
            "fff56d19dad444aebefea60693de1597",
            "fdb24b90cc3f4c4394983694730920a7",
            "795eb637322b4f14b1a28017dd2ce68e",
            "a4fccb8487dd4f49851f042560670d93",
            "c5ad940b434f4e0f9cc60582638c0be4",
            "84e3c7f512494250959841e1165866a4",
            "2f7f5348b5ac4cda852e19143837a4f2",
            "9d93ac3b96a847249a656bd05f419939",
            "09a2b5df3dff4a54b9097d44005bbc5b",
            "18af8b0bc4fc4a8790bd7e2207447762",
            "9b95828c5df545ebae8a3843fb4cdec1",
            "c0a5678f6b9249159c5681b9d6d1064f",
            "f33474b126c54eafba0aed53f81fec5f",
            "92c109bff67d4532875d187c79f95f0a",
            "14d975b40490493089535d003562eeeb",
            "7487da4212af4854be767077eef0cec5",
            "436c3d8980d94906ac88b1c20cd6fc3f",
            "1155d5c0d50d497299a1d3f83511147c",
            "9ee6dfd6c6fc450baa4e02cd9e17394b",
            "f5be1e38ef5f486ba069b5996cb0eef8",
            "06a35d394d154e548a3f69533ba44f79",
            "1a9098ef604a48bda8b2f1fec2037de4",
            "def9eed8c3a746c999c6fc6f440bb24d",
            "96ce918bcbdb46d99343bf430251eb1e",
            "684b587e1fd442b2b4fbbdec75afffa5",
            "b2112c376b05465e96cf4cd55e571865",
            "7009e2043eab493ebcde983246c8b849",
            "5470641acc3747a9bf463c6436d244e5",
            "3e67897c4539416ead9954e1f12d3480",
            "bdcddd114e314833823385c33c8b751d",
            "9a35705caba24e82895ee47a09c44d97",
            "fe4065734a33471680d7dd3c61c58ceb",
            "f8c8faf52c3448d9afb9e5adc375a1e7"
          ]
        },
        "outputId": "75c144e6-7df0-4d70-defc-3d49df12208a"
      },
      "execution_count": null,
      "outputs": [
        {
          "output_type": "stream",
          "name": "stdout",
          "text": [
            "2023-06-29 14:29:17,981 Computing label dictionary. Progress:\n"
          ]
        },
        {
          "output_type": "stream",
          "name": "stderr",
          "text": [
            "333it [00:00, 27571.23it/s]"
          ]
        },
        {
          "output_type": "stream",
          "name": "stdout",
          "text": [
            "2023-06-29 14:29:17,999 Dictionary created for label 'ner' with 8 values: ActivityData (seen 402 times), Activity (seen 400 times), Actor (seen 373 times), XORGateway (seen 93 times), ConditionSpecification (seen 72 times), FurtherSpecification (seen 60 times), ANDGateway (seen 6 times)\n"
          ]
        },
        {
          "output_type": "stream",
          "name": "stderr",
          "text": [
            "\n"
          ]
        },
        {
          "output_type": "display_data",
          "data": {
            "text/plain": [
              "Downloading (…)okenizer_config.json:   0%|          | 0.00/28.0 [00:00<?, ?B/s]"
            ],
            "application/vnd.jupyter.widget-view+json": {
              "version_major": 2,
              "version_minor": 0,
              "model_id": "7b9b60e9b2d94432a43a2ddf6c04f4c6"
            }
          },
          "metadata": {}
        },
        {
          "output_type": "display_data",
          "data": {
            "text/plain": [
              "Downloading (…)lve/main/config.json:   0%|          | 0.00/570 [00:00<?, ?B/s]"
            ],
            "application/vnd.jupyter.widget-view+json": {
              "version_major": 2,
              "version_minor": 0,
              "model_id": "dc1f1e7f5fc049a9a45a871ab18088b3"
            }
          },
          "metadata": {}
        },
        {
          "output_type": "display_data",
          "data": {
            "text/plain": [
              "Downloading (…)solve/main/vocab.txt:   0%|          | 0.00/232k [00:00<?, ?B/s]"
            ],
            "application/vnd.jupyter.widget-view+json": {
              "version_major": 2,
              "version_minor": 0,
              "model_id": "fff56d19dad444aebefea60693de1597"
            }
          },
          "metadata": {}
        },
        {
          "output_type": "display_data",
          "data": {
            "text/plain": [
              "Downloading (…)/main/tokenizer.json:   0%|          | 0.00/466k [00:00<?, ?B/s]"
            ],
            "application/vnd.jupyter.widget-view+json": {
              "version_major": 2,
              "version_minor": 0,
              "model_id": "c0a5678f6b9249159c5681b9d6d1064f"
            }
          },
          "metadata": {}
        },
        {
          "output_type": "display_data",
          "data": {
            "text/plain": [
              "Downloading model.safetensors:   0%|          | 0.00/440M [00:00<?, ?B/s]"
            ],
            "application/vnd.jupyter.widget-view+json": {
              "version_major": 2,
              "version_minor": 0,
              "model_id": "def9eed8c3a746c999c6fc6f440bb24d"
            }
          },
          "metadata": {}
        },
        {
          "output_type": "stream",
          "name": "stdout",
          "text": [
            "2023-06-29 14:29:24,725 SequenceTagger predicts: Dictionary with 29 tags: O, S-ActivityData, B-ActivityData, E-ActivityData, I-ActivityData, S-Activity, B-Activity, E-Activity, I-Activity, S-Actor, B-Actor, E-Actor, I-Actor, S-XORGateway, B-XORGateway, E-XORGateway, I-XORGateway, S-ConditionSpecification, B-ConditionSpecification, E-ConditionSpecification, I-ConditionSpecification, S-FurtherSpecification, B-FurtherSpecification, E-FurtherSpecification, I-FurtherSpecification, S-ANDGateway, B-ANDGateway, E-ANDGateway, I-ANDGateway\n",
            "2023-06-29 14:29:24,752 ----------------------------------------------------------------------------------------------------\n",
            "2023-06-29 14:29:24,755 Model: \"SequenceTagger(\n",
            "  (embeddings): TransformerWordEmbeddings(\n",
            "    (model): BertModel(\n",
            "      (embeddings): BertEmbeddings(\n",
            "        (word_embeddings): Embedding(30523, 768)\n",
            "        (position_embeddings): Embedding(512, 768)\n",
            "        (token_type_embeddings): Embedding(2, 768)\n",
            "        (LayerNorm): LayerNorm((768,), eps=1e-12, elementwise_affine=True)\n",
            "        (dropout): Dropout(p=0.1, inplace=False)\n",
            "      )\n",
            "      (encoder): BertEncoder(\n",
            "        (layer): ModuleList(\n",
            "          (0-11): 12 x BertLayer(\n",
            "            (attention): BertAttention(\n",
            "              (self): BertSelfAttention(\n",
            "                (query): Linear(in_features=768, out_features=768, bias=True)\n",
            "                (key): Linear(in_features=768, out_features=768, bias=True)\n",
            "                (value): Linear(in_features=768, out_features=768, bias=True)\n",
            "                (dropout): Dropout(p=0.1, inplace=False)\n",
            "              )\n",
            "              (output): BertSelfOutput(\n",
            "                (dense): Linear(in_features=768, out_features=768, bias=True)\n",
            "                (LayerNorm): LayerNorm((768,), eps=1e-12, elementwise_affine=True)\n",
            "                (dropout): Dropout(p=0.1, inplace=False)\n",
            "              )\n",
            "            )\n",
            "            (intermediate): BertIntermediate(\n",
            "              (dense): Linear(in_features=768, out_features=3072, bias=True)\n",
            "              (intermediate_act_fn): GELUActivation()\n",
            "            )\n",
            "            (output): BertOutput(\n",
            "              (dense): Linear(in_features=3072, out_features=768, bias=True)\n",
            "              (LayerNorm): LayerNorm((768,), eps=1e-12, elementwise_affine=True)\n",
            "              (dropout): Dropout(p=0.1, inplace=False)\n",
            "            )\n",
            "          )\n",
            "        )\n",
            "      )\n",
            "      (pooler): BertPooler(\n",
            "        (dense): Linear(in_features=768, out_features=768, bias=True)\n",
            "        (activation): Tanh()\n",
            "      )\n",
            "    )\n",
            "  )\n",
            "  (word_dropout): WordDropout(p=0.05)\n",
            "  (locked_dropout): LockedDropout(p=0.5)\n",
            "  (embedding2nn): Linear(in_features=768, out_features=768, bias=True)\n",
            "  (rnn): LSTM(768, 256, batch_first=True, bidirectional=True)\n",
            "  (linear): Linear(in_features=512, out_features=29, bias=True)\n",
            "  (loss_function): CrossEntropyLoss()\n",
            ")\"\n",
            "2023-06-29 14:29:24,756 ----------------------------------------------------------------------------------------------------\n",
            "2023-06-29 14:29:24,757 Corpus: \"Corpus: 333 train + 41 dev + 41 test sentences\"\n",
            "2023-06-29 14:29:24,760 ----------------------------------------------------------------------------------------------------\n",
            "2023-06-29 14:29:24,761 Parameters:\n",
            "2023-06-29 14:29:24,763  - learning_rate: \"0.100000\"\n",
            "2023-06-29 14:29:24,764  - mini_batch_size: \"16\"\n",
            "2023-06-29 14:29:24,766  - patience: \"3\"\n",
            "2023-06-29 14:29:24,768  - anneal_factor: \"0.5\"\n",
            "2023-06-29 14:29:24,770  - max_epochs: \"10\"\n",
            "2023-06-29 14:29:24,771  - shuffle: \"True\"\n",
            "2023-06-29 14:29:24,773  - train_with_dev: \"False\"\n",
            "2023-06-29 14:29:24,774  - batch_growth_annealing: \"False\"\n",
            "2023-06-29 14:29:24,775 ----------------------------------------------------------------------------------------------------\n",
            "2023-06-29 14:29:24,779 Model training base path: \"resources/bert-base/taggers/Corpus: 333 train + 41 dev + 41 test sentences\"\n",
            "2023-06-29 14:29:24,780 ----------------------------------------------------------------------------------------------------\n",
            "2023-06-29 14:29:24,782 Device: cuda:0\n",
            "2023-06-29 14:29:24,783 ----------------------------------------------------------------------------------------------------\n",
            "2023-06-29 14:29:24,785 Embeddings storage mode: cpu\n",
            "2023-06-29 14:29:24,786 ----------------------------------------------------------------------------------------------------\n",
            "2023-06-29 14:29:25,132 epoch 1 - iter 2/21 - loss 3.08314037 - time (sec): 0.34 - samples/sec: 1687.91 - lr: 0.100000\n",
            "2023-06-29 14:29:25,310 epoch 1 - iter 4/21 - loss 2.84520661 - time (sec): 0.52 - samples/sec: 2325.52 - lr: 0.100000\n",
            "2023-06-29 14:29:25,462 epoch 1 - iter 6/21 - loss 2.63678616 - time (sec): 0.68 - samples/sec: 2652.50 - lr: 0.100000\n",
            "2023-06-29 14:29:25,591 epoch 1 - iter 8/21 - loss 2.58221549 - time (sec): 0.80 - samples/sec: 3010.55 - lr: 0.100000\n",
            "2023-06-29 14:29:25,705 epoch 1 - iter 10/21 - loss 2.51320127 - time (sec): 0.92 - samples/sec: 3252.47 - lr: 0.100000\n",
            "2023-06-29 14:29:25,825 epoch 1 - iter 12/21 - loss 2.49343706 - time (sec): 1.04 - samples/sec: 3394.35 - lr: 0.100000\n",
            "2023-06-29 14:29:25,961 epoch 1 - iter 14/21 - loss 2.44772349 - time (sec): 1.17 - samples/sec: 3493.96 - lr: 0.100000\n",
            "2023-06-29 14:29:26,097 epoch 1 - iter 16/21 - loss 2.43316250 - time (sec): 1.31 - samples/sec: 3562.10 - lr: 0.100000\n",
            "2023-06-29 14:29:26,218 epoch 1 - iter 18/21 - loss 2.45500580 - time (sec): 1.43 - samples/sec: 3689.48 - lr: 0.100000\n",
            "2023-06-29 14:29:26,336 epoch 1 - iter 20/21 - loss 2.44614089 - time (sec): 1.55 - samples/sec: 3732.89 - lr: 0.100000\n",
            "2023-06-29 14:29:26,393 ----------------------------------------------------------------------------------------------------\n",
            "2023-06-29 14:29:26,395 EPOCH 1 done: loss 2.4288 - lr 0.100000\n"
          ]
        },
        {
          "output_type": "stream",
          "name": "stderr",
          "text": [
            "100%|██████████| 3/3 [00:00<00:00, 15.80it/s]"
          ]
        },
        {
          "output_type": "stream",
          "name": "stdout",
          "text": [
            "2023-06-29 14:29:26,592 Evaluating as a multi-label problem: False\n"
          ]
        },
        {
          "output_type": "stream",
          "name": "stderr",
          "text": [
            "\n"
          ]
        },
        {
          "output_type": "stream",
          "name": "stdout",
          "text": [
            "2023-06-29 14:29:26,606 DEV : loss 2.2573983669281006 - f1-score (micro avg)  0.0\n",
            "2023-06-29 14:29:26,612 BAD EPOCHS (no improvement): 0\n",
            "2023-06-29 14:29:26,613 saving best model\n",
            "2023-06-29 14:29:37,177 ----------------------------------------------------------------------------------------------------\n",
            "2023-06-29 14:29:37,225 epoch 2 - iter 2/21 - loss 2.37364032 - time (sec): 0.05 - samples/sec: 11994.14 - lr: 0.100000\n",
            "2023-06-29 14:29:37,271 epoch 2 - iter 4/21 - loss 2.35102521 - time (sec): 0.09 - samples/sec: 12418.28 - lr: 0.100000\n",
            "2023-06-29 14:29:37,317 epoch 2 - iter 6/21 - loss 2.27935345 - time (sec): 0.14 - samples/sec: 12626.72 - lr: 0.100000\n",
            "2023-06-29 14:29:37,364 epoch 2 - iter 8/21 - loss 2.26360898 - time (sec): 0.19 - samples/sec: 12575.96 - lr: 0.100000\n",
            "2023-06-29 14:29:37,413 epoch 2 - iter 10/21 - loss 2.27810005 - time (sec): 0.23 - samples/sec: 12798.22 - lr: 0.100000\n",
            "2023-06-29 14:29:37,453 epoch 2 - iter 12/21 - loss 2.28845857 - time (sec): 0.27 - samples/sec: 12902.65 - lr: 0.100000\n",
            "2023-06-29 14:29:37,496 epoch 2 - iter 14/21 - loss 2.28069527 - time (sec): 0.32 - samples/sec: 12768.63 - lr: 0.100000\n",
            "2023-06-29 14:29:37,539 epoch 2 - iter 16/21 - loss 2.25767758 - time (sec): 0.36 - samples/sec: 12867.14 - lr: 0.100000\n",
            "2023-06-29 14:29:37,584 epoch 2 - iter 18/21 - loss 2.24995996 - time (sec): 0.41 - samples/sec: 12907.95 - lr: 0.100000\n",
            "2023-06-29 14:29:37,625 epoch 2 - iter 20/21 - loss 2.23498978 - time (sec): 0.45 - samples/sec: 13014.47 - lr: 0.100000\n",
            "2023-06-29 14:29:37,647 ----------------------------------------------------------------------------------------------------\n",
            "2023-06-29 14:29:37,648 EPOCH 2 done: loss 2.2493 - lr 0.100000\n"
          ]
        },
        {
          "output_type": "stream",
          "name": "stderr",
          "text": [
            "100%|██████████| 3/3 [00:00<00:00, 55.36it/s]"
          ]
        },
        {
          "output_type": "stream",
          "name": "stdout",
          "text": [
            "2023-06-29 14:29:37,709 Evaluating as a multi-label problem: False\n",
            "2023-06-29 14:29:37,722 DEV : loss 2.284471273422241 - f1-score (micro avg)  0.0\n",
            "2023-06-29 14:29:37,727 BAD EPOCHS (no improvement): 1\n",
            "2023-06-29 14:29:37,729 ----------------------------------------------------------------------------------------------------\n",
            "2023-06-29 14:29:37,769 epoch 3 - iter 2/21 - loss 2.25884519 - time (sec): 0.04 - samples/sec: 14577.18 - lr: 0.100000\n",
            "2023-06-29 14:29:37,812 epoch 3 - iter 4/21 - loss 2.25599640 - time (sec): 0.08 - samples/sec: 13938.56 - lr: 0.100000\n"
          ]
        },
        {
          "output_type": "stream",
          "name": "stderr",
          "text": [
            "\n"
          ]
        },
        {
          "output_type": "stream",
          "name": "stdout",
          "text": [
            "2023-06-29 14:29:37,856 epoch 3 - iter 6/21 - loss 2.12964979 - time (sec): 0.13 - samples/sec: 13597.48 - lr: 0.100000\n",
            "2023-06-29 14:29:37,898 epoch 3 - iter 8/21 - loss 2.19078683 - time (sec): 0.17 - samples/sec: 13669.02 - lr: 0.100000\n",
            "2023-06-29 14:29:37,938 epoch 3 - iter 10/21 - loss 2.17384361 - time (sec): 0.21 - samples/sec: 13502.67 - lr: 0.100000\n",
            "2023-06-29 14:29:37,979 epoch 3 - iter 12/21 - loss 2.15479942 - time (sec): 0.25 - samples/sec: 13404.43 - lr: 0.100000\n",
            "2023-06-29 14:29:38,024 epoch 3 - iter 14/21 - loss 2.17586438 - time (sec): 0.29 - samples/sec: 13594.19 - lr: 0.100000\n",
            "2023-06-29 14:29:38,067 epoch 3 - iter 16/21 - loss 2.18728520 - time (sec): 0.34 - samples/sec: 13560.64 - lr: 0.100000\n",
            "2023-06-29 14:29:38,109 epoch 3 - iter 18/21 - loss 2.18094036 - time (sec): 0.38 - samples/sec: 13608.57 - lr: 0.100000\n",
            "2023-06-29 14:29:38,154 epoch 3 - iter 20/21 - loss 2.18837033 - time (sec): 0.42 - samples/sec: 13574.58 - lr: 0.100000\n",
            "2023-06-29 14:29:38,181 ----------------------------------------------------------------------------------------------------\n",
            "2023-06-29 14:29:38,182 EPOCH 3 done: loss 2.1836 - lr 0.100000\n"
          ]
        },
        {
          "output_type": "stream",
          "name": "stderr",
          "text": [
            "100%|██████████| 3/3 [00:00<00:00, 49.19it/s]"
          ]
        },
        {
          "output_type": "stream",
          "name": "stdout",
          "text": [
            "2023-06-29 14:29:38,249 Evaluating as a multi-label problem: False\n",
            "2023-06-29 14:29:38,263 DEV : loss 2.262282609939575 - f1-score (micro avg)  0.0\n",
            "2023-06-29 14:29:38,270 BAD EPOCHS (no improvement): 2\n",
            "2023-06-29 14:29:38,271 ----------------------------------------------------------------------------------------------------\n",
            "2023-06-29 14:29:38,314 epoch 4 - iter 2/21 - loss 2.30620472 - time (sec): 0.04 - samples/sec: 13676.58 - lr: 0.100000\n",
            "2023-06-29 14:29:38,357 epoch 4 - iter 4/21 - loss 2.28949640 - time (sec): 0.08 - samples/sec: 13378.45 - lr: 0.100000\n"
          ]
        },
        {
          "output_type": "stream",
          "name": "stderr",
          "text": [
            "\n"
          ]
        },
        {
          "output_type": "stream",
          "name": "stdout",
          "text": [
            "2023-06-29 14:29:38,402 epoch 4 - iter 6/21 - loss 2.25572532 - time (sec): 0.13 - samples/sec: 12831.30 - lr: 0.100000\n",
            "2023-06-29 14:29:38,445 epoch 4 - iter 8/21 - loss 2.19401846 - time (sec): 0.17 - samples/sec: 12998.46 - lr: 0.100000\n",
            "2023-06-29 14:29:38,494 epoch 4 - iter 10/21 - loss 2.22228266 - time (sec): 0.22 - samples/sec: 12793.96 - lr: 0.100000\n",
            "2023-06-29 14:29:38,540 epoch 4 - iter 12/21 - loss 2.16598258 - time (sec): 0.27 - samples/sec: 13022.06 - lr: 0.100000\n",
            "2023-06-29 14:29:38,582 epoch 4 - iter 14/21 - loss 2.17261332 - time (sec): 0.31 - samples/sec: 12968.39 - lr: 0.100000\n",
            "2023-06-29 14:29:38,627 epoch 4 - iter 16/21 - loss 2.15853003 - time (sec): 0.35 - samples/sec: 13042.01 - lr: 0.100000\n",
            "2023-06-29 14:29:38,670 epoch 4 - iter 18/21 - loss 2.15739213 - time (sec): 0.40 - samples/sec: 13117.53 - lr: 0.100000\n",
            "2023-06-29 14:29:38,713 epoch 4 - iter 20/21 - loss 2.15581868 - time (sec): 0.44 - samples/sec: 13182.71 - lr: 0.100000\n",
            "2023-06-29 14:29:38,737 ----------------------------------------------------------------------------------------------------\n",
            "2023-06-29 14:29:38,738 EPOCH 4 done: loss 2.1597 - lr 0.100000\n"
          ]
        },
        {
          "output_type": "stream",
          "name": "stderr",
          "text": [
            "100%|██████████| 3/3 [00:00<00:00, 52.45it/s]"
          ]
        },
        {
          "output_type": "stream",
          "name": "stdout",
          "text": [
            "2023-06-29 14:29:38,802 Evaluating as a multi-label problem: False\n",
            "2023-06-29 14:29:38,816 DEV : loss 2.1498894691467285 - f1-score (micro avg)  0.0217\n",
            "2023-06-29 14:29:38,822 BAD EPOCHS (no improvement): 0\n",
            "2023-06-29 14:29:38,823 saving best model\n"
          ]
        },
        {
          "output_type": "stream",
          "name": "stderr",
          "text": [
            "\n"
          ]
        },
        {
          "output_type": "stream",
          "name": "stdout",
          "text": [
            "2023-06-29 14:29:43,111 ----------------------------------------------------------------------------------------------------\n",
            "2023-06-29 14:29:43,154 epoch 5 - iter 2/21 - loss 2.10193257 - time (sec): 0.04 - samples/sec: 13914.53 - lr: 0.100000\n",
            "2023-06-29 14:29:43,197 epoch 5 - iter 4/21 - loss 2.18173361 - time (sec): 0.08 - samples/sec: 13556.22 - lr: 0.100000\n",
            "2023-06-29 14:29:43,236 epoch 5 - iter 6/21 - loss 2.15145914 - time (sec): 0.12 - samples/sec: 13689.33 - lr: 0.100000\n",
            "2023-06-29 14:29:43,279 epoch 5 - iter 8/21 - loss 2.12756146 - time (sec): 0.17 - samples/sec: 13726.50 - lr: 0.100000\n",
            "2023-06-29 14:29:43,320 epoch 5 - iter 10/21 - loss 2.15740324 - time (sec): 0.21 - samples/sec: 13530.23 - lr: 0.100000\n",
            "2023-06-29 14:29:43,362 epoch 5 - iter 12/21 - loss 2.16421071 - time (sec): 0.25 - samples/sec: 13535.65 - lr: 0.100000\n",
            "2023-06-29 14:29:43,404 epoch 5 - iter 14/21 - loss 2.15850583 - time (sec): 0.29 - samples/sec: 13826.68 - lr: 0.100000\n",
            "2023-06-29 14:29:43,446 epoch 5 - iter 16/21 - loss 2.13086614 - time (sec): 0.33 - samples/sec: 13883.26 - lr: 0.100000\n",
            "2023-06-29 14:29:43,490 epoch 5 - iter 18/21 - loss 2.13252148 - time (sec): 0.38 - samples/sec: 13825.61 - lr: 0.100000\n",
            "2023-06-29 14:29:43,528 epoch 5 - iter 20/21 - loss 2.12043329 - time (sec): 0.42 - samples/sec: 13848.10 - lr: 0.100000\n",
            "2023-06-29 14:29:43,554 ----------------------------------------------------------------------------------------------------\n",
            "2023-06-29 14:29:43,554 EPOCH 5 done: loss 2.1066 - lr 0.100000\n"
          ]
        },
        {
          "output_type": "stream",
          "name": "stderr",
          "text": [
            "100%|██████████| 3/3 [00:00<00:00, 54.47it/s]"
          ]
        },
        {
          "output_type": "stream",
          "name": "stdout",
          "text": [
            "2023-06-29 14:29:43,616 Evaluating as a multi-label problem: False\n",
            "2023-06-29 14:29:43,639 DEV : loss 2.123887300491333 - f1-score (micro avg)  0.011\n",
            "2023-06-29 14:29:43,645 BAD EPOCHS (no improvement): 1\n",
            "2023-06-29 14:29:43,647 ----------------------------------------------------------------------------------------------------\n",
            "2023-06-29 14:29:43,692 epoch 6 - iter 2/21 - loss 2.02332040 - time (sec): 0.04 - samples/sec: 13648.27 - lr: 0.100000\n",
            "2023-06-29 14:29:43,733 epoch 6 - iter 4/21 - loss 2.11930015 - time (sec): 0.09 - samples/sec: 14417.04 - lr: 0.100000\n"
          ]
        },
        {
          "output_type": "stream",
          "name": "stderr",
          "text": [
            "\n"
          ]
        },
        {
          "output_type": "stream",
          "name": "stdout",
          "text": [
            "2023-06-29 14:29:43,774 epoch 6 - iter 6/21 - loss 2.13237594 - time (sec): 0.13 - samples/sec: 14372.11 - lr: 0.100000\n",
            "2023-06-29 14:29:43,813 epoch 6 - iter 8/21 - loss 2.03997772 - time (sec): 0.17 - samples/sec: 14294.81 - lr: 0.100000\n",
            "2023-06-29 14:29:43,853 epoch 6 - iter 10/21 - loss 2.05374214 - time (sec): 0.21 - samples/sec: 14433.79 - lr: 0.100000\n",
            "2023-06-29 14:29:43,890 epoch 6 - iter 12/21 - loss 2.03212816 - time (sec): 0.24 - samples/sec: 14332.42 - lr: 0.100000\n",
            "2023-06-29 14:29:43,932 epoch 6 - iter 14/21 - loss 2.04661480 - time (sec): 0.28 - samples/sec: 14282.05 - lr: 0.100000\n",
            "2023-06-29 14:29:43,973 epoch 6 - iter 16/21 - loss 2.05767996 - time (sec): 0.33 - samples/sec: 14355.05 - lr: 0.100000\n",
            "2023-06-29 14:29:44,013 epoch 6 - iter 18/21 - loss 2.09980819 - time (sec): 0.37 - samples/sec: 14422.19 - lr: 0.100000\n",
            "2023-06-29 14:29:44,051 epoch 6 - iter 20/21 - loss 2.09859593 - time (sec): 0.40 - samples/sec: 14477.65 - lr: 0.100000\n",
            "2023-06-29 14:29:44,069 ----------------------------------------------------------------------------------------------------\n",
            "2023-06-29 14:29:44,070 EPOCH 6 done: loss 2.1074 - lr 0.100000\n"
          ]
        },
        {
          "output_type": "stream",
          "name": "stderr",
          "text": [
            "100%|██████████| 3/3 [00:00<00:00, 49.26it/s]"
          ]
        },
        {
          "output_type": "stream",
          "name": "stdout",
          "text": [
            "2023-06-29 14:29:44,138 Evaluating as a multi-label problem: False\n",
            "2023-06-29 14:29:44,151 DEV : loss 2.1282217502593994 - f1-score (micro avg)  0.0109\n",
            "2023-06-29 14:29:44,157 BAD EPOCHS (no improvement): 2\n",
            "2023-06-29 14:29:44,159 ----------------------------------------------------------------------------------------------------\n",
            "2023-06-29 14:29:44,200 epoch 7 - iter 2/21 - loss 1.87374915 - time (sec): 0.04 - samples/sec: 14317.89 - lr: 0.100000\n",
            "2023-06-29 14:29:44,242 epoch 7 - iter 4/21 - loss 2.01434125 - time (sec): 0.08 - samples/sec: 13962.35 - lr: 0.100000\n"
          ]
        },
        {
          "output_type": "stream",
          "name": "stderr",
          "text": [
            "\n"
          ]
        },
        {
          "output_type": "stream",
          "name": "stdout",
          "text": [
            "2023-06-29 14:29:44,284 epoch 7 - iter 6/21 - loss 1.98253351 - time (sec): 0.12 - samples/sec: 13803.30 - lr: 0.100000\n",
            "2023-06-29 14:29:44,327 epoch 7 - iter 8/21 - loss 2.00528170 - time (sec): 0.17 - samples/sec: 14220.82 - lr: 0.100000\n",
            "2023-06-29 14:29:44,369 epoch 7 - iter 10/21 - loss 2.01696837 - time (sec): 0.21 - samples/sec: 14296.26 - lr: 0.100000\n",
            "2023-06-29 14:29:44,411 epoch 7 - iter 12/21 - loss 2.02050827 - time (sec): 0.25 - samples/sec: 14246.54 - lr: 0.100000\n",
            "2023-06-29 14:29:44,449 epoch 7 - iter 14/21 - loss 2.05507698 - time (sec): 0.29 - samples/sec: 14275.83 - lr: 0.100000\n",
            "2023-06-29 14:29:44,489 epoch 7 - iter 16/21 - loss 2.04702960 - time (sec): 0.33 - samples/sec: 14121.25 - lr: 0.100000\n",
            "2023-06-29 14:29:44,528 epoch 7 - iter 18/21 - loss 2.06292398 - time (sec): 0.37 - samples/sec: 14125.56 - lr: 0.100000\n",
            "2023-06-29 14:29:44,569 epoch 7 - iter 20/21 - loss 2.07413841 - time (sec): 0.41 - samples/sec: 14159.20 - lr: 0.100000\n",
            "2023-06-29 14:29:44,589 ----------------------------------------------------------------------------------------------------\n",
            "2023-06-29 14:29:44,590 EPOCH 7 done: loss 2.0662 - lr 0.100000\n"
          ]
        },
        {
          "output_type": "stream",
          "name": "stderr",
          "text": [
            "100%|██████████| 3/3 [00:00<00:00, 46.95it/s]"
          ]
        },
        {
          "output_type": "stream",
          "name": "stdout",
          "text": [
            "2023-06-29 14:29:44,661 Evaluating as a multi-label problem: False\n",
            "2023-06-29 14:29:44,674 DEV : loss 2.137596607208252 - f1-score (micro avg)  0.0\n",
            "2023-06-29 14:29:44,680 BAD EPOCHS (no improvement): 3\n",
            "2023-06-29 14:29:44,682 ----------------------------------------------------------------------------------------------------\n",
            "2023-06-29 14:29:44,725 epoch 8 - iter 2/21 - loss 2.16868488 - time (sec): 0.04 - samples/sec: 15550.79 - lr: 0.100000\n",
            "2023-06-29 14:29:44,767 epoch 8 - iter 4/21 - loss 2.16728374 - time (sec): 0.08 - samples/sec: 14428.42 - lr: 0.100000\n"
          ]
        },
        {
          "output_type": "stream",
          "name": "stderr",
          "text": [
            "\n"
          ]
        },
        {
          "output_type": "stream",
          "name": "stdout",
          "text": [
            "2023-06-29 14:29:44,814 epoch 8 - iter 6/21 - loss 2.10714582 - time (sec): 0.13 - samples/sec: 14167.17 - lr: 0.100000\n",
            "2023-06-29 14:29:44,855 epoch 8 - iter 8/21 - loss 2.04903844 - time (sec): 0.17 - samples/sec: 13982.31 - lr: 0.100000\n",
            "2023-06-29 14:29:44,903 epoch 8 - iter 10/21 - loss 2.03265485 - time (sec): 0.22 - samples/sec: 13773.28 - lr: 0.100000\n",
            "2023-06-29 14:29:44,945 epoch 8 - iter 12/21 - loss 2.02495166 - time (sec): 0.26 - samples/sec: 13845.62 - lr: 0.100000\n",
            "2023-06-29 14:29:44,982 epoch 8 - iter 14/21 - loss 2.02438013 - time (sec): 0.30 - samples/sec: 13838.83 - lr: 0.100000\n",
            "2023-06-29 14:29:45,019 epoch 8 - iter 16/21 - loss 2.07348508 - time (sec): 0.34 - samples/sec: 13786.65 - lr: 0.100000\n",
            "2023-06-29 14:29:45,058 epoch 8 - iter 18/21 - loss 2.05897042 - time (sec): 0.38 - samples/sec: 13899.91 - lr: 0.100000\n",
            "2023-06-29 14:29:45,099 epoch 8 - iter 20/21 - loss 2.05153442 - time (sec): 0.42 - samples/sec: 14030.09 - lr: 0.100000\n",
            "2023-06-29 14:29:45,119 ----------------------------------------------------------------------------------------------------\n",
            "2023-06-29 14:29:45,120 EPOCH 8 done: loss 2.0470 - lr 0.100000\n"
          ]
        },
        {
          "output_type": "stream",
          "name": "stderr",
          "text": [
            "100%|██████████| 3/3 [00:00<00:00, 50.27it/s]"
          ]
        },
        {
          "output_type": "stream",
          "name": "stdout",
          "text": [
            "2023-06-29 14:29:45,186 Evaluating as a multi-label problem: False\n",
            "2023-06-29 14:29:45,199 DEV : loss 2.1768665313720703 - f1-score (micro avg)  0.0\n",
            "2023-06-29 14:29:45,205 Epoch     8: reducing learning rate of group 0 to 5.0000e-02.\n",
            "2023-06-29 14:29:45,206 BAD EPOCHS (no improvement): 4\n",
            "2023-06-29 14:29:45,208 ----------------------------------------------------------------------------------------------------\n",
            "2023-06-29 14:29:45,251 epoch 9 - iter 2/21 - loss 1.78009833 - time (sec): 0.04 - samples/sec: 14238.10 - lr: 0.050000\n",
            "2023-06-29 14:29:45,294 epoch 9 - iter 4/21 - loss 1.68104390 - time (sec): 0.09 - samples/sec: 14993.93 - lr: 0.050000\n"
          ]
        },
        {
          "output_type": "stream",
          "name": "stderr",
          "text": [
            "\n"
          ]
        },
        {
          "output_type": "stream",
          "name": "stdout",
          "text": [
            "2023-06-29 14:29:45,332 epoch 9 - iter 6/21 - loss 1.85788220 - time (sec): 0.12 - samples/sec: 14374.60 - lr: 0.050000\n",
            "2023-06-29 14:29:45,372 epoch 9 - iter 8/21 - loss 1.87391040 - time (sec): 0.16 - samples/sec: 14599.37 - lr: 0.050000\n",
            "2023-06-29 14:29:45,417 epoch 9 - iter 10/21 - loss 1.90741175 - time (sec): 0.21 - samples/sec: 14534.81 - lr: 0.050000\n",
            "2023-06-29 14:29:45,455 epoch 9 - iter 12/21 - loss 1.93416585 - time (sec): 0.25 - samples/sec: 14464.25 - lr: 0.050000\n",
            "2023-06-29 14:29:45,497 epoch 9 - iter 14/21 - loss 1.94818865 - time (sec): 0.29 - samples/sec: 14428.23 - lr: 0.050000\n",
            "2023-06-29 14:29:45,536 epoch 9 - iter 16/21 - loss 1.98281032 - time (sec): 0.33 - samples/sec: 14371.13 - lr: 0.050000\n",
            "2023-06-29 14:29:45,580 epoch 9 - iter 18/21 - loss 1.99149205 - time (sec): 0.37 - samples/sec: 14207.01 - lr: 0.050000\n",
            "2023-06-29 14:29:45,619 epoch 9 - iter 20/21 - loss 1.99780109 - time (sec): 0.41 - samples/sec: 14118.23 - lr: 0.050000\n",
            "2023-06-29 14:29:45,643 ----------------------------------------------------------------------------------------------------\n",
            "2023-06-29 14:29:45,644 EPOCH 9 done: loss 2.0029 - lr 0.050000\n"
          ]
        },
        {
          "output_type": "stream",
          "name": "stderr",
          "text": [
            "100%|██████████| 3/3 [00:00<00:00, 52.88it/s]"
          ]
        },
        {
          "output_type": "stream",
          "name": "stdout",
          "text": [
            "2023-06-29 14:29:45,707 Evaluating as a multi-label problem: False\n",
            "2023-06-29 14:29:45,721 DEV : loss 2.1391701698303223 - f1-score (micro avg)  0.0\n",
            "2023-06-29 14:29:45,726 BAD EPOCHS (no improvement): 1\n",
            "2023-06-29 14:29:45,728 ----------------------------------------------------------------------------------------------------\n",
            "2023-06-29 14:29:45,770 epoch 10 - iter 2/21 - loss 1.92373297 - time (sec): 0.04 - samples/sec: 14246.29 - lr: 0.050000\n",
            "2023-06-29 14:29:45,810 epoch 10 - iter 4/21 - loss 1.84127965 - time (sec): 0.08 - samples/sec: 14381.33 - lr: 0.050000\n",
            "2023-06-29 14:29:45,847 epoch 10 - iter 6/21 - loss 1.96415602 - time (sec): 0.12 - samples/sec: 14251.35 - lr: 0.050000\n"
          ]
        },
        {
          "output_type": "stream",
          "name": "stderr",
          "text": [
            "\n"
          ]
        },
        {
          "output_type": "stream",
          "name": "stdout",
          "text": [
            "2023-06-29 14:29:45,891 epoch 10 - iter 8/21 - loss 1.96732804 - time (sec): 0.16 - samples/sec: 14238.71 - lr: 0.050000\n",
            "2023-06-29 14:29:45,929 epoch 10 - iter 10/21 - loss 1.97749586 - time (sec): 0.20 - samples/sec: 14215.27 - lr: 0.050000\n",
            "2023-06-29 14:29:45,965 epoch 10 - iter 12/21 - loss 1.98006243 - time (sec): 0.23 - samples/sec: 14187.97 - lr: 0.050000\n",
            "2023-06-29 14:29:46,009 epoch 10 - iter 14/21 - loss 1.97428414 - time (sec): 0.28 - samples/sec: 14367.92 - lr: 0.050000\n",
            "2023-06-29 14:29:46,049 epoch 10 - iter 16/21 - loss 1.99185689 - time (sec): 0.32 - samples/sec: 14317.58 - lr: 0.050000\n",
            "2023-06-29 14:29:46,094 epoch 10 - iter 18/21 - loss 1.98796996 - time (sec): 0.36 - samples/sec: 14381.19 - lr: 0.050000\n",
            "2023-06-29 14:29:46,134 epoch 10 - iter 20/21 - loss 1.98152485 - time (sec): 0.40 - samples/sec: 14409.44 - lr: 0.050000\n",
            "2023-06-29 14:29:46,156 ----------------------------------------------------------------------------------------------------\n",
            "2023-06-29 14:29:46,157 EPOCH 10 done: loss 1.9758 - lr 0.050000\n"
          ]
        },
        {
          "output_type": "stream",
          "name": "stderr",
          "text": [
            "100%|██████████| 3/3 [00:00<00:00, 47.78it/s]"
          ]
        },
        {
          "output_type": "stream",
          "name": "stdout",
          "text": [
            "2023-06-29 14:29:46,226 Evaluating as a multi-label problem: False\n",
            "2023-06-29 14:29:46,239 DEV : loss 2.1522090435028076 - f1-score (micro avg)  0.0\n",
            "2023-06-29 14:29:46,246 BAD EPOCHS (no improvement): 2\n"
          ]
        },
        {
          "output_type": "stream",
          "name": "stderr",
          "text": [
            "\n"
          ]
        },
        {
          "output_type": "stream",
          "name": "stdout",
          "text": [
            "2023-06-29 14:29:48,346 ----------------------------------------------------------------------------------------------------\n",
            "2023-06-29 14:29:51,987 SequenceTagger predicts: Dictionary with 29 tags: O, S-ActivityData, B-ActivityData, E-ActivityData, I-ActivityData, S-Activity, B-Activity, E-Activity, I-Activity, S-Actor, B-Actor, E-Actor, I-Actor, S-XORGateway, B-XORGateway, E-XORGateway, I-XORGateway, S-ConditionSpecification, B-ConditionSpecification, E-ConditionSpecification, I-ConditionSpecification, S-FurtherSpecification, B-FurtherSpecification, E-FurtherSpecification, I-FurtherSpecification, S-ANDGateway, B-ANDGateway, E-ANDGateway, I-ANDGateway\n"
          ]
        },
        {
          "output_type": "stream",
          "name": "stderr",
          "text": [
            "100%|██████████| 3/3 [00:00<00:00, 14.72it/s]"
          ]
        },
        {
          "output_type": "stream",
          "name": "stdout",
          "text": [
            "2023-06-29 14:29:52,369 Evaluating as a multi-label problem: False\n",
            "2023-06-29 14:29:52,382 0.0\t0.0\t0.0\t0.0\n",
            "2023-06-29 14:29:52,383 \n",
            "Results:\n",
            "- F-score (micro) 0.0\n",
            "- F-score (macro) 0.0\n",
            "- Accuracy 0.0\n",
            "\n",
            "By class:\n",
            "                        precision    recall  f1-score   support\n",
            "\n",
            "          ActivityData     0.0000    0.0000    0.0000      61.0\n",
            "              Activity     0.0000    0.0000    0.0000      60.0\n",
            "                 Actor     0.0000    0.0000    0.0000      51.0\n",
            "            XORGateway     0.0000    0.0000    0.0000      10.0\n",
            "ConditionSpecification     0.0000    0.0000    0.0000       7.0\n",
            "  FurtherSpecification     0.0000    0.0000    0.0000       4.0\n",
            "            ANDGateway     0.0000    0.0000    0.0000       2.0\n",
            "\n",
            "             micro avg     0.0000    0.0000    0.0000     195.0\n",
            "             macro avg     0.0000    0.0000    0.0000     195.0\n",
            "          weighted avg     0.0000    0.0000    0.0000     195.0\n",
            "\n",
            "2023-06-29 14:29:52,384 ----------------------------------------------------------------------------------------------------\n",
            "2023-06-29 14:29:52,388 Computing label dictionary. Progress:\n"
          ]
        },
        {
          "output_type": "stream",
          "name": "stderr",
          "text": [
            "\n",
            "14000it [00:00, 48802.80it/s]"
          ]
        },
        {
          "output_type": "stream",
          "name": "stdout",
          "text": [
            "2023-06-29 14:29:52,688 Dictionary created for label 'ner' with 5 values: LOC (seen 8302 times), PER (seen 6286 times), MISC (seen 5873 times), ORG (seen 3664 times)\n"
          ]
        },
        {
          "output_type": "stream",
          "name": "stderr",
          "text": [
            "\n"
          ]
        },
        {
          "output_type": "stream",
          "name": "stdout",
          "text": [
            "2023-06-29 14:29:54,599 SequenceTagger predicts: Dictionary with 17 tags: O, S-LOC, B-LOC, E-LOC, I-LOC, S-PER, B-PER, E-PER, I-PER, S-MISC, B-MISC, E-MISC, I-MISC, S-ORG, B-ORG, E-ORG, I-ORG\n",
            "2023-06-29 14:29:54,627 ----------------------------------------------------------------------------------------------------\n",
            "2023-06-29 14:29:54,630 Model: \"SequenceTagger(\n",
            "  (embeddings): TransformerWordEmbeddings(\n",
            "    (model): BertModel(\n",
            "      (embeddings): BertEmbeddings(\n",
            "        (word_embeddings): Embedding(30523, 768)\n",
            "        (position_embeddings): Embedding(512, 768)\n",
            "        (token_type_embeddings): Embedding(2, 768)\n",
            "        (LayerNorm): LayerNorm((768,), eps=1e-12, elementwise_affine=True)\n",
            "        (dropout): Dropout(p=0.1, inplace=False)\n",
            "      )\n",
            "      (encoder): BertEncoder(\n",
            "        (layer): ModuleList(\n",
            "          (0-11): 12 x BertLayer(\n",
            "            (attention): BertAttention(\n",
            "              (self): BertSelfAttention(\n",
            "                (query): Linear(in_features=768, out_features=768, bias=True)\n",
            "                (key): Linear(in_features=768, out_features=768, bias=True)\n",
            "                (value): Linear(in_features=768, out_features=768, bias=True)\n",
            "                (dropout): Dropout(p=0.1, inplace=False)\n",
            "              )\n",
            "              (output): BertSelfOutput(\n",
            "                (dense): Linear(in_features=768, out_features=768, bias=True)\n",
            "                (LayerNorm): LayerNorm((768,), eps=1e-12, elementwise_affine=True)\n",
            "                (dropout): Dropout(p=0.1, inplace=False)\n",
            "              )\n",
            "            )\n",
            "            (intermediate): BertIntermediate(\n",
            "              (dense): Linear(in_features=768, out_features=3072, bias=True)\n",
            "              (intermediate_act_fn): GELUActivation()\n",
            "            )\n",
            "            (output): BertOutput(\n",
            "              (dense): Linear(in_features=3072, out_features=768, bias=True)\n",
            "              (LayerNorm): LayerNorm((768,), eps=1e-12, elementwise_affine=True)\n",
            "              (dropout): Dropout(p=0.1, inplace=False)\n",
            "            )\n",
            "          )\n",
            "        )\n",
            "      )\n",
            "      (pooler): BertPooler(\n",
            "        (dense): Linear(in_features=768, out_features=768, bias=True)\n",
            "        (activation): Tanh()\n",
            "      )\n",
            "    )\n",
            "  )\n",
            "  (word_dropout): WordDropout(p=0.05)\n",
            "  (locked_dropout): LockedDropout(p=0.5)\n",
            "  (embedding2nn): Linear(in_features=768, out_features=768, bias=True)\n",
            "  (rnn): LSTM(768, 256, batch_first=True, bidirectional=True)\n",
            "  (linear): Linear(in_features=512, out_features=17, bias=True)\n",
            "  (loss_function): CrossEntropyLoss()\n",
            ")\"\n",
            "2023-06-29 14:29:54,631 ----------------------------------------------------------------------------------------------------\n",
            "2023-06-29 14:29:54,632 Corpus: \"Corpus: 14000 train + 3500 dev + 3500 test sentences\"\n",
            "2023-06-29 14:29:54,634 ----------------------------------------------------------------------------------------------------\n",
            "2023-06-29 14:29:54,637 Parameters:\n",
            "2023-06-29 14:29:54,639  - learning_rate: \"0.100000\"\n",
            "2023-06-29 14:29:54,641  - mini_batch_size: \"16\"\n",
            "2023-06-29 14:29:54,643  - patience: \"3\"\n",
            "2023-06-29 14:29:54,644  - anneal_factor: \"0.5\"\n",
            "2023-06-29 14:29:54,647  - max_epochs: \"10\"\n",
            "2023-06-29 14:29:54,650  - shuffle: \"True\"\n",
            "2023-06-29 14:29:54,651  - train_with_dev: \"False\"\n",
            "2023-06-29 14:29:54,652  - batch_growth_annealing: \"False\"\n",
            "2023-06-29 14:29:54,655 ----------------------------------------------------------------------------------------------------\n",
            "2023-06-29 14:29:54,657 Model training base path: \"resources/bert-base/taggers/Corpus: 14000 train + 3500 dev + 3500 test sentences\"\n",
            "2023-06-29 14:29:54,658 ----------------------------------------------------------------------------------------------------\n",
            "2023-06-29 14:29:54,659 Device: cuda:0\n",
            "2023-06-29 14:29:54,660 ----------------------------------------------------------------------------------------------------\n",
            "2023-06-29 14:29:54,661 Embeddings storage mode: cpu\n",
            "2023-06-29 14:29:54,665 ----------------------------------------------------------------------------------------------------\n",
            "2023-06-29 14:30:01,948 epoch 1 - iter 87/875 - loss 0.51720477 - time (sec): 7.28 - samples/sec: 4571.21 - lr: 0.100000\n",
            "2023-06-29 14:30:09,097 epoch 1 - iter 174/875 - loss 0.40078354 - time (sec): 14.43 - samples/sec: 4569.97 - lr: 0.100000\n",
            "2023-06-29 14:30:16,159 epoch 1 - iter 261/875 - loss 0.33891999 - time (sec): 21.49 - samples/sec: 4574.96 - lr: 0.100000\n",
            "2023-06-29 14:30:23,541 epoch 1 - iter 348/875 - loss 0.30006281 - time (sec): 28.87 - samples/sec: 4531.33 - lr: 0.100000\n",
            "2023-06-29 14:30:30,842 epoch 1 - iter 435/875 - loss 0.27266434 - time (sec): 36.18 - samples/sec: 4528.86 - lr: 0.100000\n",
            "2023-06-29 14:30:38,078 epoch 1 - iter 522/875 - loss 0.25455050 - time (sec): 43.41 - samples/sec: 4514.54 - lr: 0.100000\n",
            "2023-06-29 14:30:45,395 epoch 1 - iter 609/875 - loss 0.24032272 - time (sec): 50.73 - samples/sec: 4503.48 - lr: 0.100000\n",
            "2023-06-29 14:30:52,984 epoch 1 - iter 696/875 - loss 0.22845678 - time (sec): 58.32 - samples/sec: 4497.99 - lr: 0.100000\n",
            "2023-06-29 14:31:00,254 epoch 1 - iter 783/875 - loss 0.21842214 - time (sec): 65.59 - samples/sec: 4501.80 - lr: 0.100000\n",
            "2023-06-29 14:31:07,459 epoch 1 - iter 870/875 - loss 0.21005438 - time (sec): 72.79 - samples/sec: 4519.16 - lr: 0.100000\n",
            "2023-06-29 14:31:07,820 ----------------------------------------------------------------------------------------------------\n",
            "2023-06-29 14:31:07,821 EPOCH 1 done: loss 0.2097 - lr 0.100000\n"
          ]
        },
        {
          "output_type": "stream",
          "name": "stderr",
          "text": [
            "100%|██████████| 219/219 [00:18<00:00, 11.95it/s]"
          ]
        },
        {
          "output_type": "stream",
          "name": "stdout",
          "text": [
            "2023-06-29 14:31:26,194 Evaluating as a multi-label problem: False\n",
            "2023-06-29 14:31:26,251 DEV : loss 0.09100732207298279 - f1-score (micro avg)  0.8147\n"
          ]
        },
        {
          "output_type": "stream",
          "name": "stderr",
          "text": [
            "\n"
          ]
        },
        {
          "output_type": "stream",
          "name": "stdout",
          "text": [
            "2023-06-29 14:31:26,686 BAD EPOCHS (no improvement): 0\n",
            "2023-06-29 14:31:26,688 saving best model\n",
            "2023-06-29 14:31:28,229 ----------------------------------------------------------------------------------------------------\n",
            "2023-06-29 14:31:30,200 epoch 2 - iter 87/875 - loss 0.13093706 - time (sec): 1.97 - samples/sec: 16597.77 - lr: 0.100000\n",
            "2023-06-29 14:31:32,002 epoch 2 - iter 174/875 - loss 0.12888084 - time (sec): 3.77 - samples/sec: 17299.28 - lr: 0.100000\n",
            "2023-06-29 14:31:33,768 epoch 2 - iter 261/875 - loss 0.12680109 - time (sec): 5.54 - samples/sec: 17668.82 - lr: 0.100000\n",
            "2023-06-29 14:31:35,583 epoch 2 - iter 348/875 - loss 0.12536010 - time (sec): 7.35 - samples/sec: 17889.52 - lr: 0.100000\n",
            "2023-06-29 14:31:37,356 epoch 2 - iter 435/875 - loss 0.12482028 - time (sec): 9.12 - samples/sec: 17985.00 - lr: 0.100000\n",
            "2023-06-29 14:31:39,158 epoch 2 - iter 522/875 - loss 0.12507808 - time (sec): 10.93 - samples/sec: 18049.77 - lr: 0.100000\n",
            "2023-06-29 14:31:40,985 epoch 2 - iter 609/875 - loss 0.12255526 - time (sec): 12.75 - samples/sec: 18018.76 - lr: 0.100000\n",
            "2023-06-29 14:31:42,898 epoch 2 - iter 696/875 - loss 0.12169296 - time (sec): 14.67 - samples/sec: 17927.69 - lr: 0.100000\n",
            "2023-06-29 14:31:44,814 epoch 2 - iter 783/875 - loss 0.12080036 - time (sec): 16.58 - samples/sec: 17855.85 - lr: 0.100000\n",
            "2023-06-29 14:31:46,619 epoch 2 - iter 870/875 - loss 0.12029534 - time (sec): 18.39 - samples/sec: 17890.73 - lr: 0.100000\n",
            "2023-06-29 14:31:46,720 ----------------------------------------------------------------------------------------------------\n",
            "2023-06-29 14:31:46,722 EPOCH 2 done: loss 0.1203 - lr 0.100000\n"
          ]
        },
        {
          "output_type": "stream",
          "name": "stderr",
          "text": [
            "100%|██████████| 219/219 [00:06<00:00, 35.60it/s]\n"
          ]
        },
        {
          "output_type": "stream",
          "name": "stdout",
          "text": [
            "2023-06-29 14:31:56,238 Evaluating as a multi-label problem: False\n",
            "2023-06-29 14:31:56,300 DEV : loss 0.07061132043600082 - f1-score (micro avg)  0.8455\n",
            "2023-06-29 14:31:56,739 BAD EPOCHS (no improvement): 0\n",
            "2023-06-29 14:31:56,741 saving best model\n",
            "2023-06-29 14:31:58,325 ----------------------------------------------------------------------------------------------------\n",
            "2023-06-29 14:32:00,192 epoch 3 - iter 87/875 - loss 0.11102438 - time (sec): 1.86 - samples/sec: 17487.19 - lr: 0.100000\n",
            "2023-06-29 14:32:01,967 epoch 3 - iter 174/875 - loss 0.10905382 - time (sec): 3.64 - samples/sec: 17866.93 - lr: 0.100000\n",
            "2023-06-29 14:32:03,726 epoch 3 - iter 261/875 - loss 0.10703904 - time (sec): 5.40 - samples/sec: 18090.68 - lr: 0.100000\n",
            "2023-06-29 14:32:05,488 epoch 3 - iter 348/875 - loss 0.10600302 - time (sec): 7.16 - samples/sec: 18156.08 - lr: 0.100000\n",
            "2023-06-29 14:32:07,295 epoch 3 - iter 435/875 - loss 0.10398390 - time (sec): 8.97 - samples/sec: 18193.60 - lr: 0.100000\n",
            "2023-06-29 14:32:09,097 epoch 3 - iter 522/875 - loss 0.10526342 - time (sec): 10.77 - samples/sec: 18229.63 - lr: 0.100000\n",
            "2023-06-29 14:32:10,975 epoch 3 - iter 609/875 - loss 0.10507206 - time (sec): 12.65 - samples/sec: 18071.30 - lr: 0.100000\n",
            "2023-06-29 14:32:12,863 epoch 3 - iter 696/875 - loss 0.10526169 - time (sec): 14.54 - samples/sec: 18035.23 - lr: 0.100000\n",
            "2023-06-29 14:32:14,691 epoch 3 - iter 783/875 - loss 0.10512937 - time (sec): 16.36 - samples/sec: 18072.23 - lr: 0.100000\n",
            "2023-06-29 14:32:16,498 epoch 3 - iter 870/875 - loss 0.10551306 - time (sec): 18.17 - samples/sec: 18107.59 - lr: 0.100000\n",
            "2023-06-29 14:32:16,599 ----------------------------------------------------------------------------------------------------\n",
            "2023-06-29 14:32:16,601 EPOCH 3 done: loss 0.1057 - lr 0.100000\n"
          ]
        },
        {
          "output_type": "stream",
          "name": "stderr",
          "text": [
            "100%|██████████| 219/219 [00:06<00:00, 35.88it/s]"
          ]
        },
        {
          "output_type": "stream",
          "name": "stdout",
          "text": [
            "2023-06-29 14:32:22,737 Evaluating as a multi-label problem: False\n",
            "2023-06-29 14:32:22,792 DEV : loss 0.07186728715896606 - f1-score (micro avg)  0.8443\n"
          ]
        },
        {
          "output_type": "stream",
          "name": "stderr",
          "text": [
            "\n"
          ]
        },
        {
          "output_type": "stream",
          "name": "stdout",
          "text": [
            "2023-06-29 14:32:23,240 BAD EPOCHS (no improvement): 1\n",
            "2023-06-29 14:32:23,243 ----------------------------------------------------------------------------------------------------\n",
            "2023-06-29 14:32:25,116 epoch 4 - iter 87/875 - loss 0.09758458 - time (sec): 1.87 - samples/sec: 17239.36 - lr: 0.100000\n",
            "2023-06-29 14:32:27,000 epoch 4 - iter 174/875 - loss 0.09952658 - time (sec): 3.76 - samples/sec: 17446.41 - lr: 0.100000\n",
            "2023-06-29 14:32:28,836 epoch 4 - iter 261/875 - loss 0.09994085 - time (sec): 5.59 - samples/sec: 17693.76 - lr: 0.100000\n",
            "2023-06-29 14:32:30,625 epoch 4 - iter 348/875 - loss 0.09780332 - time (sec): 7.38 - samples/sec: 17909.94 - lr: 0.100000\n",
            "2023-06-29 14:32:32,390 epoch 4 - iter 435/875 - loss 0.09980171 - time (sec): 9.15 - samples/sec: 18006.84 - lr: 0.100000\n",
            "2023-06-29 14:32:34,150 epoch 4 - iter 522/875 - loss 0.09934701 - time (sec): 10.91 - samples/sec: 18085.39 - lr: 0.100000\n",
            "2023-06-29 14:32:35,891 epoch 4 - iter 609/875 - loss 0.09833018 - time (sec): 12.65 - samples/sec: 18121.45 - lr: 0.100000\n",
            "2023-06-29 14:32:37,710 epoch 4 - iter 696/875 - loss 0.09847053 - time (sec): 14.47 - samples/sec: 18120.13 - lr: 0.100000\n",
            "2023-06-29 14:32:39,651 epoch 4 - iter 783/875 - loss 0.09726353 - time (sec): 16.41 - samples/sec: 18000.87 - lr: 0.100000\n",
            "2023-06-29 14:32:41,540 epoch 4 - iter 870/875 - loss 0.09711172 - time (sec): 18.30 - samples/sec: 17977.43 - lr: 0.100000\n",
            "2023-06-29 14:32:41,650 ----------------------------------------------------------------------------------------------------\n",
            "2023-06-29 14:32:41,652 EPOCH 4 done: loss 0.0973 - lr 0.100000\n"
          ]
        },
        {
          "output_type": "stream",
          "name": "stderr",
          "text": [
            "100%|██████████| 219/219 [00:06<00:00, 35.58it/s]"
          ]
        },
        {
          "output_type": "stream",
          "name": "stdout",
          "text": [
            "2023-06-29 14:32:47,839 Evaluating as a multi-label problem: False\n",
            "2023-06-29 14:32:47,893 DEV : loss 0.07061959058046341 - f1-score (micro avg)  0.8482\n"
          ]
        },
        {
          "output_type": "stream",
          "name": "stderr",
          "text": [
            "\n"
          ]
        },
        {
          "output_type": "stream",
          "name": "stdout",
          "text": [
            "2023-06-29 14:32:48,321 BAD EPOCHS (no improvement): 0\n",
            "2023-06-29 14:32:48,323 saving best model\n",
            "2023-06-29 14:32:49,913 ----------------------------------------------------------------------------------------------------\n",
            "2023-06-29 14:32:51,779 epoch 5 - iter 87/875 - loss 0.09039936 - time (sec): 1.86 - samples/sec: 17638.97 - lr: 0.100000\n",
            "2023-06-29 14:32:53,701 epoch 5 - iter 174/875 - loss 0.09128391 - time (sec): 3.78 - samples/sec: 17280.29 - lr: 0.100000\n",
            "2023-06-29 14:32:55,557 epoch 5 - iter 261/875 - loss 0.09233232 - time (sec): 5.64 - samples/sec: 17352.25 - lr: 0.100000\n",
            "2023-06-29 14:32:57,331 epoch 5 - iter 348/875 - loss 0.09209865 - time (sec): 7.41 - samples/sec: 17659.04 - lr: 0.100000\n",
            "2023-06-29 14:32:59,142 epoch 5 - iter 435/875 - loss 0.09152534 - time (sec): 9.23 - samples/sec: 17768.45 - lr: 0.100000\n",
            "2023-06-29 14:33:00,913 epoch 5 - iter 522/875 - loss 0.09138443 - time (sec): 11.00 - samples/sec: 17897.52 - lr: 0.100000\n",
            "2023-06-29 14:33:02,709 epoch 5 - iter 609/875 - loss 0.09139911 - time (sec): 12.79 - samples/sec: 17995.80 - lr: 0.100000\n",
            "2023-06-29 14:33:04,468 epoch 5 - iter 696/875 - loss 0.09230881 - time (sec): 14.55 - samples/sec: 18042.46 - lr: 0.100000\n",
            "2023-06-29 14:33:06,320 epoch 5 - iter 783/875 - loss 0.09277775 - time (sec): 16.40 - samples/sec: 18007.10 - lr: 0.100000\n",
            "2023-06-29 14:33:08,235 epoch 5 - iter 870/875 - loss 0.09320017 - time (sec): 18.32 - samples/sec: 17960.05 - lr: 0.100000\n",
            "2023-06-29 14:33:08,347 ----------------------------------------------------------------------------------------------------\n",
            "2023-06-29 14:33:08,348 EPOCH 5 done: loss 0.0933 - lr 0.100000\n"
          ]
        },
        {
          "output_type": "stream",
          "name": "stderr",
          "text": [
            "100%|██████████| 219/219 [00:06<00:00, 34.78it/s]\n"
          ]
        },
        {
          "output_type": "stream",
          "name": "stdout",
          "text": [
            "2023-06-29 14:33:14,680 Evaluating as a multi-label problem: False\n",
            "2023-06-29 14:33:14,733 DEV : loss 0.0676625445485115 - f1-score (micro avg)  0.8515\n",
            "2023-06-29 14:33:15,156 BAD EPOCHS (no improvement): 0\n",
            "2023-06-29 14:33:15,158 saving best model\n",
            "2023-06-29 14:33:16,783 ----------------------------------------------------------------------------------------------------\n",
            "2023-06-29 14:33:18,635 epoch 6 - iter 87/875 - loss 0.08093060 - time (sec): 1.85 - samples/sec: 17756.98 - lr: 0.100000\n",
            "2023-06-29 14:33:20,474 epoch 6 - iter 174/875 - loss 0.08543982 - time (sec): 3.69 - samples/sec: 17811.21 - lr: 0.100000\n",
            "2023-06-29 14:33:22,322 epoch 6 - iter 261/875 - loss 0.08916280 - time (sec): 5.54 - samples/sec: 17811.01 - lr: 0.100000\n",
            "2023-06-29 14:33:24,191 epoch 6 - iter 348/875 - loss 0.08841371 - time (sec): 7.41 - samples/sec: 17831.77 - lr: 0.100000\n",
            "2023-06-29 14:33:25,973 epoch 6 - iter 435/875 - loss 0.08853877 - time (sec): 9.19 - samples/sec: 17970.86 - lr: 0.100000\n",
            "2023-06-29 14:33:27,749 epoch 6 - iter 522/875 - loss 0.08833808 - time (sec): 10.97 - samples/sec: 18052.74 - lr: 0.100000\n",
            "2023-06-29 14:33:29,538 epoch 6 - iter 609/875 - loss 0.08789023 - time (sec): 12.75 - samples/sec: 18083.81 - lr: 0.100000\n",
            "2023-06-29 14:33:31,259 epoch 6 - iter 696/875 - loss 0.08811848 - time (sec): 14.47 - samples/sec: 18145.52 - lr: 0.100000\n",
            "2023-06-29 14:33:33,047 epoch 6 - iter 783/875 - loss 0.08804023 - time (sec): 16.26 - samples/sec: 18198.94 - lr: 0.100000\n",
            "2023-06-29 14:33:34,931 epoch 6 - iter 870/875 - loss 0.08861877 - time (sec): 18.15 - samples/sec: 18127.88 - lr: 0.100000\n",
            "2023-06-29 14:33:35,042 ----------------------------------------------------------------------------------------------------\n",
            "2023-06-29 14:33:35,044 EPOCH 6 done: loss 0.0886 - lr 0.100000\n"
          ]
        },
        {
          "output_type": "stream",
          "name": "stderr",
          "text": [
            "100%|██████████| 219/219 [00:09<00:00, 22.32it/s]"
          ]
        },
        {
          "output_type": "stream",
          "name": "stdout",
          "text": [
            "2023-06-29 14:33:44,888 Evaluating as a multi-label problem: False\n"
          ]
        },
        {
          "output_type": "stream",
          "name": "stderr",
          "text": [
            "\n"
          ]
        },
        {
          "output_type": "stream",
          "name": "stdout",
          "text": [
            "2023-06-29 14:33:44,947 DEV : loss 0.0679761990904808 - f1-score (micro avg)  0.8551\n",
            "2023-06-29 14:33:45,370 BAD EPOCHS (no improvement): 0\n",
            "2023-06-29 14:33:45,371 saving best model\n",
            "2023-06-29 14:33:46,969 ----------------------------------------------------------------------------------------------------\n",
            "2023-06-29 14:33:48,924 epoch 7 - iter 87/875 - loss 0.07989980 - time (sec): 1.95 - samples/sec: 16506.60 - lr: 0.100000\n",
            "2023-06-29 14:33:50,890 epoch 7 - iter 174/875 - loss 0.08055882 - time (sec): 3.92 - samples/sec: 16659.64 - lr: 0.100000\n",
            "2023-06-29 14:33:52,770 epoch 7 - iter 261/875 - loss 0.08136017 - time (sec): 5.80 - samples/sec: 16966.38 - lr: 0.100000\n",
            "2023-06-29 14:33:54,553 epoch 7 - iter 348/875 - loss 0.08394081 - time (sec): 7.58 - samples/sec: 17274.32 - lr: 0.100000\n",
            "2023-06-29 14:33:56,354 epoch 7 - iter 435/875 - loss 0.08366562 - time (sec): 9.38 - samples/sec: 17493.04 - lr: 0.100000\n",
            "2023-06-29 14:33:58,164 epoch 7 - iter 522/875 - loss 0.08423586 - time (sec): 11.19 - samples/sec: 17666.46 - lr: 0.100000\n",
            "2023-06-29 14:33:59,947 epoch 7 - iter 609/875 - loss 0.08464927 - time (sec): 12.98 - samples/sec: 17771.73 - lr: 0.100000\n",
            "2023-06-29 14:34:01,714 epoch 7 - iter 696/875 - loss 0.08511005 - time (sec): 14.74 - samples/sec: 17848.25 - lr: 0.100000\n",
            "2023-06-29 14:34:03,600 epoch 7 - iter 783/875 - loss 0.08570147 - time (sec): 16.63 - samples/sec: 17792.34 - lr: 0.100000\n",
            "2023-06-29 14:34:05,510 epoch 7 - iter 870/875 - loss 0.08597746 - time (sec): 18.54 - samples/sec: 17737.97 - lr: 0.100000\n",
            "2023-06-29 14:34:05,628 ----------------------------------------------------------------------------------------------------\n",
            "2023-06-29 14:34:05,630 EPOCH 7 done: loss 0.0860 - lr 0.100000\n"
          ]
        },
        {
          "output_type": "stream",
          "name": "stderr",
          "text": [
            "100%|██████████| 219/219 [00:06<00:00, 35.79it/s]\n"
          ]
        },
        {
          "output_type": "stream",
          "name": "stdout",
          "text": [
            "2023-06-29 14:34:11,784 Evaluating as a multi-label problem: False\n",
            "2023-06-29 14:34:11,841 DEV : loss 0.06618480384349823 - f1-score (micro avg)  0.8554\n",
            "2023-06-29 14:34:12,273 BAD EPOCHS (no improvement): 0\n",
            "2023-06-29 14:34:12,274 saving best model\n",
            "2023-06-29 14:34:13,845 ----------------------------------------------------------------------------------------------------\n",
            "2023-06-29 14:34:15,718 epoch 8 - iter 87/875 - loss 0.07873782 - time (sec): 1.87 - samples/sec: 17961.02 - lr: 0.100000\n",
            "2023-06-29 14:34:17,624 epoch 8 - iter 174/875 - loss 0.08011908 - time (sec): 3.78 - samples/sec: 17692.63 - lr: 0.100000\n",
            "2023-06-29 14:34:19,546 epoch 8 - iter 261/875 - loss 0.08129482 - time (sec): 5.70 - samples/sec: 17486.37 - lr: 0.100000\n",
            "2023-06-29 14:34:21,375 epoch 8 - iter 348/875 - loss 0.08326055 - time (sec): 7.53 - samples/sec: 17560.76 - lr: 0.100000\n",
            "2023-06-29 14:34:23,148 epoch 8 - iter 435/875 - loss 0.08175645 - time (sec): 9.30 - samples/sec: 17747.86 - lr: 0.100000\n",
            "2023-06-29 14:34:24,946 epoch 8 - iter 522/875 - loss 0.08348338 - time (sec): 11.10 - samples/sec: 17831.06 - lr: 0.100000\n",
            "2023-06-29 14:34:26,716 epoch 8 - iter 609/875 - loss 0.08346408 - time (sec): 12.87 - samples/sec: 17950.79 - lr: 0.100000\n",
            "2023-06-29 14:34:28,479 epoch 8 - iter 696/875 - loss 0.08321342 - time (sec): 14.63 - samples/sec: 18020.76 - lr: 0.100000\n",
            "2023-06-29 14:34:30,271 epoch 8 - iter 783/875 - loss 0.08320167 - time (sec): 16.42 - samples/sec: 18037.38 - lr: 0.100000\n",
            "2023-06-29 14:34:32,150 epoch 8 - iter 870/875 - loss 0.08338961 - time (sec): 18.30 - samples/sec: 17979.05 - lr: 0.100000\n",
            "2023-06-29 14:34:32,254 ----------------------------------------------------------------------------------------------------\n",
            "2023-06-29 14:34:32,256 EPOCH 8 done: loss 0.0834 - lr 0.100000\n"
          ]
        },
        {
          "output_type": "stream",
          "name": "stderr",
          "text": [
            "100%|██████████| 219/219 [00:06<00:00, 34.36it/s]"
          ]
        },
        {
          "output_type": "stream",
          "name": "stdout",
          "text": [
            "2023-06-29 14:34:38,662 Evaluating as a multi-label problem: False\n",
            "2023-06-29 14:34:38,718 DEV : loss 0.06635066121816635 - f1-score (micro avg)  0.8629\n"
          ]
        },
        {
          "output_type": "stream",
          "name": "stderr",
          "text": [
            "\n"
          ]
        },
        {
          "output_type": "stream",
          "name": "stdout",
          "text": [
            "2023-06-29 14:34:39,141 BAD EPOCHS (no improvement): 0\n",
            "2023-06-29 14:34:39,143 saving best model\n",
            "2023-06-29 14:34:40,730 ----------------------------------------------------------------------------------------------------\n",
            "2023-06-29 14:34:42,567 epoch 9 - iter 87/875 - loss 0.08043144 - time (sec): 1.83 - samples/sec: 17620.24 - lr: 0.100000\n",
            "2023-06-29 14:34:44,478 epoch 9 - iter 174/875 - loss 0.08493432 - time (sec): 3.75 - samples/sec: 17587.72 - lr: 0.100000\n",
            "2023-06-29 14:34:46,453 epoch 9 - iter 261/875 - loss 0.08235016 - time (sec): 5.72 - samples/sec: 17331.85 - lr: 0.100000\n",
            "2023-06-29 14:34:48,366 epoch 9 - iter 348/875 - loss 0.08386568 - time (sec): 7.63 - samples/sec: 17259.38 - lr: 0.100000\n",
            "2023-06-29 14:34:50,176 epoch 9 - iter 435/875 - loss 0.08284462 - time (sec): 9.44 - samples/sec: 17429.22 - lr: 0.100000\n",
            "2023-06-29 14:34:51,946 epoch 9 - iter 522/875 - loss 0.08254976 - time (sec): 11.21 - samples/sec: 17583.56 - lr: 0.100000\n",
            "2023-06-29 14:34:53,729 epoch 9 - iter 609/875 - loss 0.08278338 - time (sec): 13.00 - samples/sec: 17677.17 - lr: 0.100000\n",
            "2023-06-29 14:34:55,556 epoch 9 - iter 696/875 - loss 0.08170497 - time (sec): 14.82 - samples/sec: 17765.62 - lr: 0.100000\n",
            "2023-06-29 14:34:57,333 epoch 9 - iter 783/875 - loss 0.08152355 - time (sec): 16.60 - samples/sec: 17848.32 - lr: 0.100000\n",
            "2023-06-29 14:34:59,194 epoch 9 - iter 870/875 - loss 0.08188154 - time (sec): 18.46 - samples/sec: 17810.57 - lr: 0.100000\n",
            "2023-06-29 14:34:59,325 ----------------------------------------------------------------------------------------------------\n",
            "2023-06-29 14:34:59,327 EPOCH 9 done: loss 0.0817 - lr 0.100000\n"
          ]
        },
        {
          "output_type": "stream",
          "name": "stderr",
          "text": [
            "100%|██████████| 219/219 [00:09<00:00, 21.93it/s]"
          ]
        },
        {
          "output_type": "stream",
          "name": "stdout",
          "text": [
            "2023-06-29 14:35:09,346 Evaluating as a multi-label problem: False\n",
            "2023-06-29 14:35:09,404 DEV : loss 0.06575190275907516 - f1-score (micro avg)  0.8637\n"
          ]
        },
        {
          "output_type": "stream",
          "name": "stderr",
          "text": [
            "\n"
          ]
        },
        {
          "output_type": "stream",
          "name": "stdout",
          "text": [
            "2023-06-29 14:35:09,846 BAD EPOCHS (no improvement): 0\n",
            "2023-06-29 14:35:09,850 saving best model\n",
            "2023-06-29 14:35:11,490 ----------------------------------------------------------------------------------------------------\n",
            "2023-06-29 14:35:13,366 epoch 10 - iter 87/875 - loss 0.08216894 - time (sec): 1.87 - samples/sec: 17198.06 - lr: 0.100000\n",
            "2023-06-29 14:35:15,296 epoch 10 - iter 174/875 - loss 0.08175111 - time (sec): 3.80 - samples/sec: 17178.69 - lr: 0.100000\n",
            "2023-06-29 14:35:17,204 epoch 10 - iter 261/875 - loss 0.07986271 - time (sec): 5.71 - samples/sec: 17183.18 - lr: 0.100000\n",
            "2023-06-29 14:35:19,012 epoch 10 - iter 348/875 - loss 0.07982469 - time (sec): 7.52 - samples/sec: 17388.27 - lr: 0.100000\n",
            "2023-06-29 14:35:20,839 epoch 10 - iter 435/875 - loss 0.08125070 - time (sec): 9.35 - samples/sec: 17523.60 - lr: 0.100000\n",
            "2023-06-29 14:35:22,654 epoch 10 - iter 522/875 - loss 0.08036126 - time (sec): 11.16 - samples/sec: 17614.30 - lr: 0.100000\n",
            "2023-06-29 14:35:24,458 epoch 10 - iter 609/875 - loss 0.08109439 - time (sec): 12.97 - samples/sec: 17714.86 - lr: 0.100000\n",
            "2023-06-29 14:35:26,248 epoch 10 - iter 696/875 - loss 0.08070671 - time (sec): 14.76 - samples/sec: 17777.85 - lr: 0.100000\n",
            "2023-06-29 14:35:28,212 epoch 10 - iter 783/875 - loss 0.08110413 - time (sec): 16.72 - samples/sec: 17701.31 - lr: 0.100000\n",
            "2023-06-29 14:35:30,134 epoch 10 - iter 870/875 - loss 0.08082431 - time (sec): 18.64 - samples/sec: 17647.18 - lr: 0.100000\n",
            "2023-06-29 14:35:30,241 ----------------------------------------------------------------------------------------------------\n",
            "2023-06-29 14:35:30,243 EPOCH 10 done: loss 0.0808 - lr 0.100000\n"
          ]
        },
        {
          "output_type": "stream",
          "name": "stderr",
          "text": [
            "100%|██████████| 219/219 [00:06<00:00, 34.89it/s]"
          ]
        },
        {
          "output_type": "stream",
          "name": "stdout",
          "text": [
            "2023-06-29 14:35:36,556 Evaluating as a multi-label problem: False\n",
            "2023-06-29 14:35:36,618 DEV : loss 0.07452001422643661 - f1-score (micro avg)  0.8515\n"
          ]
        },
        {
          "output_type": "stream",
          "name": "stderr",
          "text": [
            "\n"
          ]
        },
        {
          "output_type": "stream",
          "name": "stdout",
          "text": [
            "2023-06-29 14:35:37,060 BAD EPOCHS (no improvement): 1\n",
            "2023-06-29 14:35:38,594 ----------------------------------------------------------------------------------------------------\n",
            "2023-06-29 14:35:41,467 SequenceTagger predicts: Dictionary with 17 tags: O, S-LOC, B-LOC, E-LOC, I-LOC, S-PER, B-PER, E-PER, I-PER, S-MISC, B-MISC, E-MISC, I-MISC, S-ORG, B-ORG, E-ORG, I-ORG\n"
          ]
        },
        {
          "output_type": "stream",
          "name": "stderr",
          "text": [
            "100%|██████████| 219/219 [00:17<00:00, 12.63it/s]"
          ]
        },
        {
          "output_type": "stream",
          "name": "stdout",
          "text": [
            "2023-06-29 14:35:59,033 Evaluating as a multi-label problem: False\n"
          ]
        },
        {
          "output_type": "stream",
          "name": "stderr",
          "text": [
            "\n"
          ]
        },
        {
          "output_type": "stream",
          "name": "stdout",
          "text": [
            "2023-06-29 14:35:59,105 0.8673\t0.8647\t0.866\t0.7994\n",
            "2023-06-29 14:35:59,107 \n",
            "Results:\n",
            "- F-score (micro) 0.866\n",
            "- F-score (macro) 0.8655\n",
            "- Accuracy 0.7994\n",
            "\n",
            "By class:\n",
            "              precision    recall  f1-score   support\n",
            "\n",
            "         LOC     0.8897    0.8510    0.8699      1772\n",
            "         PER     0.9394    0.9501    0.9447      1582\n",
            "        MISC     0.7691    0.7927    0.7807      1534\n",
            "         ORG     0.8692    0.8645    0.8669      1092\n",
            "\n",
            "   micro avg     0.8673    0.8647    0.8660      5980\n",
            "   macro avg     0.8669    0.8646    0.8655      5980\n",
            "weighted avg     0.8682    0.8647    0.8663      5980\n",
            "\n",
            "2023-06-29 14:35:59,108 ----------------------------------------------------------------------------------------------------\n",
            "2023-06-29 14:35:59,114 Computing label dictionary. Progress:\n"
          ]
        },
        {
          "output_type": "stream",
          "name": "stderr",
          "text": [
            "14041it [00:00, 46851.04it/s]"
          ]
        },
        {
          "output_type": "stream",
          "name": "stdout",
          "text": [
            "2023-06-29 14:35:59,420 Dictionary created for label 'ner' with 5 values: LOC (seen 7140 times), PER (seen 6600 times), ORG (seen 6321 times), MISC (seen 3438 times)\n"
          ]
        },
        {
          "output_type": "stream",
          "name": "stderr",
          "text": [
            "\n"
          ]
        },
        {
          "output_type": "stream",
          "name": "stdout",
          "text": [
            "2023-06-29 14:36:01,708 SequenceTagger predicts: Dictionary with 17 tags: O, S-LOC, B-LOC, E-LOC, I-LOC, S-PER, B-PER, E-PER, I-PER, S-ORG, B-ORG, E-ORG, I-ORG, S-MISC, B-MISC, E-MISC, I-MISC\n",
            "2023-06-29 14:36:01,734 ----------------------------------------------------------------------------------------------------\n",
            "2023-06-29 14:36:01,737 Model: \"SequenceTagger(\n",
            "  (embeddings): TransformerWordEmbeddings(\n",
            "    (model): BertModel(\n",
            "      (embeddings): BertEmbeddings(\n",
            "        (word_embeddings): Embedding(30523, 768)\n",
            "        (position_embeddings): Embedding(512, 768)\n",
            "        (token_type_embeddings): Embedding(2, 768)\n",
            "        (LayerNorm): LayerNorm((768,), eps=1e-12, elementwise_affine=True)\n",
            "        (dropout): Dropout(p=0.1, inplace=False)\n",
            "      )\n",
            "      (encoder): BertEncoder(\n",
            "        (layer): ModuleList(\n",
            "          (0-11): 12 x BertLayer(\n",
            "            (attention): BertAttention(\n",
            "              (self): BertSelfAttention(\n",
            "                (query): Linear(in_features=768, out_features=768, bias=True)\n",
            "                (key): Linear(in_features=768, out_features=768, bias=True)\n",
            "                (value): Linear(in_features=768, out_features=768, bias=True)\n",
            "                (dropout): Dropout(p=0.1, inplace=False)\n",
            "              )\n",
            "              (output): BertSelfOutput(\n",
            "                (dense): Linear(in_features=768, out_features=768, bias=True)\n",
            "                (LayerNorm): LayerNorm((768,), eps=1e-12, elementwise_affine=True)\n",
            "                (dropout): Dropout(p=0.1, inplace=False)\n",
            "              )\n",
            "            )\n",
            "            (intermediate): BertIntermediate(\n",
            "              (dense): Linear(in_features=768, out_features=3072, bias=True)\n",
            "              (intermediate_act_fn): GELUActivation()\n",
            "            )\n",
            "            (output): BertOutput(\n",
            "              (dense): Linear(in_features=3072, out_features=768, bias=True)\n",
            "              (LayerNorm): LayerNorm((768,), eps=1e-12, elementwise_affine=True)\n",
            "              (dropout): Dropout(p=0.1, inplace=False)\n",
            "            )\n",
            "          )\n",
            "        )\n",
            "      )\n",
            "      (pooler): BertPooler(\n",
            "        (dense): Linear(in_features=768, out_features=768, bias=True)\n",
            "        (activation): Tanh()\n",
            "      )\n",
            "    )\n",
            "  )\n",
            "  (word_dropout): WordDropout(p=0.05)\n",
            "  (locked_dropout): LockedDropout(p=0.5)\n",
            "  (embedding2nn): Linear(in_features=768, out_features=768, bias=True)\n",
            "  (rnn): LSTM(768, 256, batch_first=True, bidirectional=True)\n",
            "  (linear): Linear(in_features=512, out_features=17, bias=True)\n",
            "  (loss_function): CrossEntropyLoss()\n",
            ")\"\n",
            "2023-06-29 14:36:01,739 ----------------------------------------------------------------------------------------------------\n",
            "2023-06-29 14:36:01,741 Corpus: \"Corpus: 14041 train + 3250 dev + 3453 test sentences\"\n",
            "2023-06-29 14:36:01,743 ----------------------------------------------------------------------------------------------------\n",
            "2023-06-29 14:36:01,744 Parameters:\n",
            "2023-06-29 14:36:01,746  - learning_rate: \"0.100000\"\n",
            "2023-06-29 14:36:01,747  - mini_batch_size: \"16\"\n",
            "2023-06-29 14:36:01,750  - patience: \"3\"\n",
            "2023-06-29 14:36:01,751  - anneal_factor: \"0.5\"\n",
            "2023-06-29 14:36:01,753  - max_epochs: \"10\"\n",
            "2023-06-29 14:36:01,754  - shuffle: \"True\"\n",
            "2023-06-29 14:36:01,755  - train_with_dev: \"False\"\n",
            "2023-06-29 14:36:01,760  - batch_growth_annealing: \"False\"\n",
            "2023-06-29 14:36:01,761 ----------------------------------------------------------------------------------------------------\n",
            "2023-06-29 14:36:01,765 Model training base path: \"resources/bert-base/taggers/Corpus: 14041 train + 3250 dev + 3453 test sentences\"\n",
            "2023-06-29 14:36:01,767 ----------------------------------------------------------------------------------------------------\n",
            "2023-06-29 14:36:01,769 Device: cuda:0\n",
            "2023-06-29 14:36:01,770 ----------------------------------------------------------------------------------------------------\n",
            "2023-06-29 14:36:01,771 Embeddings storage mode: cpu\n",
            "2023-06-29 14:36:01,772 ----------------------------------------------------------------------------------------------------\n",
            "2023-06-29 14:36:07,184 epoch 1 - iter 87/878 - loss 0.66139427 - time (sec): 5.41 - samples/sec: 3586.04 - lr: 0.100000\n",
            "2023-06-29 14:36:12,604 epoch 1 - iter 174/878 - loss 0.50166542 - time (sec): 10.83 - samples/sec: 3586.67 - lr: 0.100000\n",
            "2023-06-29 14:36:17,590 epoch 1 - iter 261/878 - loss 0.42713960 - time (sec): 15.82 - samples/sec: 3589.18 - lr: 0.100000\n",
            "2023-06-29 14:36:22,138 epoch 1 - iter 348/878 - loss 0.38206045 - time (sec): 20.36 - samples/sec: 3585.38 - lr: 0.100000\n",
            "2023-06-29 14:36:27,104 epoch 1 - iter 435/878 - loss 0.34505454 - time (sec): 25.33 - samples/sec: 3582.46 - lr: 0.100000\n",
            "2023-06-29 14:36:32,484 epoch 1 - iter 522/878 - loss 0.31767458 - time (sec): 30.71 - samples/sec: 3653.67 - lr: 0.100000\n",
            "2023-06-29 14:36:37,994 epoch 1 - iter 609/878 - loss 0.29759233 - time (sec): 36.22 - samples/sec: 3700.02 - lr: 0.100000\n",
            "2023-06-29 14:36:43,308 epoch 1 - iter 696/878 - loss 0.28365061 - time (sec): 41.53 - samples/sec: 3709.46 - lr: 0.100000\n",
            "2023-06-29 14:36:48,999 epoch 1 - iter 783/878 - loss 0.26865497 - time (sec): 47.23 - samples/sec: 3758.57 - lr: 0.100000\n",
            "2023-06-29 14:36:55,089 epoch 1 - iter 870/878 - loss 0.25671542 - time (sec): 53.32 - samples/sec: 3788.28 - lr: 0.100000\n",
            "2023-06-29 14:36:55,534 ----------------------------------------------------------------------------------------------------\n",
            "2023-06-29 14:36:55,535 EPOCH 1 done: loss 0.2559 - lr 0.100000\n"
          ]
        },
        {
          "output_type": "stream",
          "name": "stderr",
          "text": [
            "100%|██████████| 204/204 [00:17<00:00, 11.44it/s]"
          ]
        },
        {
          "output_type": "stream",
          "name": "stdout",
          "text": [
            "2023-06-29 14:37:13,407 Evaluating as a multi-label problem: False\n",
            "2023-06-29 14:37:13,461 DEV : loss 0.11222594231367111 - f1-score (micro avg)  0.8608\n"
          ]
        },
        {
          "output_type": "stream",
          "name": "stderr",
          "text": [
            "\n"
          ]
        },
        {
          "output_type": "stream",
          "name": "stdout",
          "text": [
            "2023-06-29 14:37:13,755 BAD EPOCHS (no improvement): 0\n",
            "2023-06-29 14:37:13,757 saving best model\n",
            "2023-06-29 14:37:15,282 ----------------------------------------------------------------------------------------------------\n",
            "2023-06-29 14:37:16,764 epoch 2 - iter 87/878 - loss 0.15852664 - time (sec): 1.48 - samples/sec: 13270.01 - lr: 0.100000\n",
            "2023-06-29 14:37:18,200 epoch 2 - iter 174/878 - loss 0.15163328 - time (sec): 2.91 - samples/sec: 13769.84 - lr: 0.100000\n",
            "2023-06-29 14:37:19,641 epoch 2 - iter 261/878 - loss 0.14993258 - time (sec): 4.36 - samples/sec: 13906.01 - lr: 0.100000\n",
            "2023-06-29 14:37:21,059 epoch 2 - iter 348/878 - loss 0.14876876 - time (sec): 5.77 - samples/sec: 13922.05 - lr: 0.100000\n",
            "2023-06-29 14:37:22,638 epoch 2 - iter 435/878 - loss 0.15077024 - time (sec): 7.35 - samples/sec: 13665.14 - lr: 0.100000\n",
            "2023-06-29 14:37:24,200 epoch 2 - iter 522/878 - loss 0.14990027 - time (sec): 8.91 - samples/sec: 13532.71 - lr: 0.100000\n",
            "2023-06-29 14:37:25,746 epoch 2 - iter 609/878 - loss 0.14767142 - time (sec): 10.46 - samples/sec: 13479.88 - lr: 0.100000\n",
            "2023-06-29 14:37:27,340 epoch 2 - iter 696/878 - loss 0.14732738 - time (sec): 12.06 - samples/sec: 13399.61 - lr: 0.100000\n",
            "2023-06-29 14:37:28,799 epoch 2 - iter 783/878 - loss 0.14527816 - time (sec): 13.51 - samples/sec: 13440.00 - lr: 0.100000\n",
            "2023-06-29 14:37:30,213 epoch 2 - iter 870/878 - loss 0.14416347 - time (sec): 14.93 - samples/sec: 13531.00 - lr: 0.100000\n",
            "2023-06-29 14:37:30,343 ----------------------------------------------------------------------------------------------------\n",
            "2023-06-29 14:37:30,344 EPOCH 2 done: loss 0.1443 - lr 0.100000\n"
          ]
        },
        {
          "output_type": "stream",
          "name": "stderr",
          "text": [
            "100%|██████████| 204/204 [00:04<00:00, 48.78it/s]"
          ]
        },
        {
          "output_type": "stream",
          "name": "stdout",
          "text": [
            "2023-06-29 14:37:34,553 Evaluating as a multi-label problem: False\n"
          ]
        },
        {
          "output_type": "stream",
          "name": "stderr",
          "text": [
            "\n"
          ]
        },
        {
          "output_type": "stream",
          "name": "stdout",
          "text": [
            "2023-06-29 14:37:34,609 DEV : loss 0.07665830850601196 - f1-score (micro avg)  0.9022\n",
            "2023-06-29 14:37:34,909 BAD EPOCHS (no improvement): 0\n",
            "2023-06-29 14:37:34,912 saving best model\n",
            "2023-06-29 14:37:36,462 ----------------------------------------------------------------------------------------------------\n",
            "2023-06-29 14:37:37,911 epoch 3 - iter 87/878 - loss 0.12752055 - time (sec): 1.45 - samples/sec: 13676.57 - lr: 0.100000\n",
            "2023-06-29 14:37:39,419 epoch 3 - iter 174/878 - loss 0.12541533 - time (sec): 2.96 - samples/sec: 13490.63 - lr: 0.100000\n",
            "2023-06-29 14:37:40,933 epoch 3 - iter 261/878 - loss 0.12342883 - time (sec): 4.47 - samples/sec: 13340.59 - lr: 0.100000\n",
            "2023-06-29 14:37:42,479 epoch 3 - iter 348/878 - loss 0.12343885 - time (sec): 6.02 - samples/sec: 13277.01 - lr: 0.100000\n",
            "2023-06-29 14:37:43,971 epoch 3 - iter 435/878 - loss 0.12469710 - time (sec): 7.51 - samples/sec: 13305.14 - lr: 0.100000\n",
            "2023-06-29 14:37:45,355 epoch 3 - iter 522/878 - loss 0.12489368 - time (sec): 8.89 - samples/sec: 13515.31 - lr: 0.100000\n",
            "2023-06-29 14:37:46,712 epoch 3 - iter 609/878 - loss 0.12415119 - time (sec): 10.25 - samples/sec: 13645.07 - lr: 0.100000\n",
            "2023-06-29 14:37:48,112 epoch 3 - iter 696/878 - loss 0.12476302 - time (sec): 11.65 - samples/sec: 13737.76 - lr: 0.100000\n",
            "2023-06-29 14:37:49,522 epoch 3 - iter 783/878 - loss 0.12480089 - time (sec): 13.06 - samples/sec: 13882.22 - lr: 0.100000\n",
            "2023-06-29 14:37:50,934 epoch 3 - iter 870/878 - loss 0.12485260 - time (sec): 14.47 - samples/sec: 13959.59 - lr: 0.100000\n",
            "2023-06-29 14:37:51,057 ----------------------------------------------------------------------------------------------------\n",
            "2023-06-29 14:37:51,059 EPOCH 3 done: loss 0.1247 - lr 0.100000\n"
          ]
        },
        {
          "output_type": "stream",
          "name": "stderr",
          "text": [
            "100%|██████████| 204/204 [00:04<00:00, 45.15it/s]"
          ]
        },
        {
          "output_type": "stream",
          "name": "stdout",
          "text": [
            "2023-06-29 14:37:55,606 Evaluating as a multi-label problem: False\n",
            "2023-06-29 14:37:55,661 DEV : loss 0.07522983103990555 - f1-score (micro avg)  0.9026\n"
          ]
        },
        {
          "output_type": "stream",
          "name": "stderr",
          "text": [
            "\n"
          ]
        },
        {
          "output_type": "stream",
          "name": "stdout",
          "text": [
            "2023-06-29 14:37:55,963 BAD EPOCHS (no improvement): 0\n",
            "2023-06-29 14:37:55,965 saving best model\n",
            "2023-06-29 14:37:57,532 ----------------------------------------------------------------------------------------------------\n",
            "2023-06-29 14:37:59,050 epoch 4 - iter 87/878 - loss 0.11406876 - time (sec): 1.51 - samples/sec: 13336.39 - lr: 0.100000\n",
            "2023-06-29 14:38:00,435 epoch 4 - iter 174/878 - loss 0.10909227 - time (sec): 2.90 - samples/sec: 13894.86 - lr: 0.100000\n",
            "2023-06-29 14:38:01,813 epoch 4 - iter 261/878 - loss 0.10969760 - time (sec): 4.28 - samples/sec: 14062.28 - lr: 0.100000\n",
            "2023-06-29 14:38:03,204 epoch 4 - iter 348/878 - loss 0.11098066 - time (sec): 5.67 - samples/sec: 14195.84 - lr: 0.100000\n",
            "2023-06-29 14:38:04,610 epoch 4 - iter 435/878 - loss 0.11287037 - time (sec): 7.08 - samples/sec: 14278.50 - lr: 0.100000\n",
            "2023-06-29 14:38:06,012 epoch 4 - iter 522/878 - loss 0.11261294 - time (sec): 8.48 - samples/sec: 14365.09 - lr: 0.100000\n",
            "2023-06-29 14:38:07,388 epoch 4 - iter 609/878 - loss 0.11346192 - time (sec): 9.85 - samples/sec: 14416.23 - lr: 0.100000\n",
            "2023-06-29 14:38:08,917 epoch 4 - iter 696/878 - loss 0.11289269 - time (sec): 11.38 - samples/sec: 14289.27 - lr: 0.100000\n",
            "2023-06-29 14:38:10,537 epoch 4 - iter 783/878 - loss 0.11248392 - time (sec): 13.00 - samples/sec: 14030.24 - lr: 0.100000\n",
            "2023-06-29 14:38:11,990 epoch 4 - iter 870/878 - loss 0.11279519 - time (sec): 14.45 - samples/sec: 13972.85 - lr: 0.100000\n",
            "2023-06-29 14:38:12,123 ----------------------------------------------------------------------------------------------------\n",
            "2023-06-29 14:38:12,125 EPOCH 4 done: loss 0.1129 - lr 0.100000\n"
          ]
        },
        {
          "output_type": "stream",
          "name": "stderr",
          "text": [
            "100%|██████████| 204/204 [00:04<00:00, 47.19it/s]"
          ]
        },
        {
          "output_type": "stream",
          "name": "stdout",
          "text": [
            "2023-06-29 14:38:16,475 Evaluating as a multi-label problem: False\n"
          ]
        },
        {
          "output_type": "stream",
          "name": "stderr",
          "text": [
            "\n"
          ]
        },
        {
          "output_type": "stream",
          "name": "stdout",
          "text": [
            "2023-06-29 14:38:16,528 DEV : loss 0.07427572458982468 - f1-score (micro avg)  0.905\n",
            "2023-06-29 14:38:16,813 BAD EPOCHS (no improvement): 0\n",
            "2023-06-29 14:38:16,816 saving best model\n",
            "2023-06-29 14:38:27,499 ----------------------------------------------------------------------------------------------------\n",
            "2023-06-29 14:38:29,022 epoch 5 - iter 87/878 - loss 0.10237250 - time (sec): 1.52 - samples/sec: 13697.15 - lr: 0.100000\n",
            "2023-06-29 14:38:30,426 epoch 5 - iter 174/878 - loss 0.10701907 - time (sec): 2.92 - samples/sec: 14071.44 - lr: 0.100000\n",
            "2023-06-29 14:38:31,796 epoch 5 - iter 261/878 - loss 0.10626231 - time (sec): 4.29 - samples/sec: 14197.89 - lr: 0.100000\n",
            "2023-06-29 14:38:33,130 epoch 5 - iter 348/878 - loss 0.10582121 - time (sec): 5.63 - samples/sec: 14249.40 - lr: 0.100000\n",
            "2023-06-29 14:38:34,515 epoch 5 - iter 435/878 - loss 0.10693968 - time (sec): 7.01 - samples/sec: 14377.69 - lr: 0.100000\n",
            "2023-06-29 14:38:35,904 epoch 5 - iter 522/878 - loss 0.10595814 - time (sec): 8.40 - samples/sec: 14394.00 - lr: 0.100000\n",
            "2023-06-29 14:38:37,305 epoch 5 - iter 609/878 - loss 0.10513617 - time (sec): 9.80 - samples/sec: 14415.79 - lr: 0.100000\n",
            "2023-06-29 14:38:38,772 epoch 5 - iter 696/878 - loss 0.10492723 - time (sec): 11.27 - samples/sec: 14380.48 - lr: 0.100000\n",
            "2023-06-29 14:38:40,303 epoch 5 - iter 783/878 - loss 0.10554480 - time (sec): 12.80 - samples/sec: 14243.21 - lr: 0.100000\n",
            "2023-06-29 14:38:41,781 epoch 5 - iter 870/878 - loss 0.10659439 - time (sec): 14.28 - samples/sec: 14146.77 - lr: 0.100000\n",
            "2023-06-29 14:38:41,915 ----------------------------------------------------------------------------------------------------\n",
            "2023-06-29 14:38:41,917 EPOCH 5 done: loss 0.1064 - lr 0.100000\n"
          ]
        },
        {
          "output_type": "stream",
          "name": "stderr",
          "text": [
            "100%|██████████| 204/204 [00:07<00:00, 25.90it/s]"
          ]
        },
        {
          "output_type": "stream",
          "name": "stdout",
          "text": [
            "2023-06-29 14:38:49,819 Evaluating as a multi-label problem: False\n"
          ]
        },
        {
          "output_type": "stream",
          "name": "stderr",
          "text": [
            "\n"
          ]
        },
        {
          "output_type": "stream",
          "name": "stdout",
          "text": [
            "2023-06-29 14:38:49,878 DEV : loss 0.06593503803014755 - f1-score (micro avg)  0.9179\n",
            "2023-06-29 14:38:50,175 BAD EPOCHS (no improvement): 0\n",
            "2023-06-29 14:38:50,177 saving best model\n",
            "2023-06-29 14:39:07,436 ----------------------------------------------------------------------------------------------------\n",
            "2023-06-29 14:39:08,955 epoch 6 - iter 87/878 - loss 0.09736909 - time (sec): 1.52 - samples/sec: 13317.83 - lr: 0.100000\n",
            "2023-06-29 14:39:10,466 epoch 6 - iter 174/878 - loss 0.09707599 - time (sec): 3.03 - samples/sec: 13377.17 - lr: 0.100000\n",
            "2023-06-29 14:39:11,985 epoch 6 - iter 261/878 - loss 0.09929213 - time (sec): 4.55 - samples/sec: 13316.86 - lr: 0.100000\n",
            "2023-06-29 14:39:13,364 epoch 6 - iter 348/878 - loss 0.09983322 - time (sec): 5.92 - samples/sec: 13595.73 - lr: 0.100000\n",
            "2023-06-29 14:39:14,716 epoch 6 - iter 435/878 - loss 0.10043024 - time (sec): 7.28 - samples/sec: 13748.26 - lr: 0.100000\n",
            "2023-06-29 14:39:16,102 epoch 6 - iter 522/878 - loss 0.10068614 - time (sec): 8.66 - samples/sec: 13912.12 - lr: 0.100000\n",
            "2023-06-29 14:39:17,488 epoch 6 - iter 609/878 - loss 0.10107611 - time (sec): 10.05 - samples/sec: 14022.71 - lr: 0.100000\n",
            "2023-06-29 14:39:18,917 epoch 6 - iter 696/878 - loss 0.10200211 - time (sec): 11.48 - samples/sec: 14093.65 - lr: 0.100000\n",
            "2023-06-29 14:39:20,306 epoch 6 - iter 783/878 - loss 0.10130842 - time (sec): 12.87 - samples/sec: 14151.02 - lr: 0.100000\n",
            "2023-06-29 14:39:21,721 epoch 6 - iter 870/878 - loss 0.10050362 - time (sec): 14.28 - samples/sec: 14147.24 - lr: 0.100000\n",
            "2023-06-29 14:39:21,848 ----------------------------------------------------------------------------------------------------\n",
            "2023-06-29 14:39:21,850 EPOCH 6 done: loss 0.1005 - lr 0.100000\n"
          ]
        },
        {
          "output_type": "stream",
          "name": "stderr",
          "text": [
            "100%|██████████| 204/204 [00:04<00:00, 42.63it/s]"
          ]
        },
        {
          "output_type": "stream",
          "name": "stdout",
          "text": [
            "2023-06-29 14:39:26,662 Evaluating as a multi-label problem: False\n",
            "2023-06-29 14:39:26,730 DEV : loss 0.06688712537288666 - f1-score (micro avg)  0.9177\n"
          ]
        },
        {
          "output_type": "stream",
          "name": "stderr",
          "text": [
            "\n"
          ]
        },
        {
          "output_type": "stream",
          "name": "stdout",
          "text": [
            "2023-06-29 14:39:27,019 BAD EPOCHS (no improvement): 1\n",
            "2023-06-29 14:39:27,021 ----------------------------------------------------------------------------------------------------\n",
            "2023-06-29 14:39:28,429 epoch 7 - iter 87/878 - loss 0.08759422 - time (sec): 1.41 - samples/sec: 14426.24 - lr: 0.100000\n",
            "2023-06-29 14:39:29,794 epoch 7 - iter 174/878 - loss 0.09721398 - time (sec): 2.77 - samples/sec: 14332.51 - lr: 0.100000\n",
            "2023-06-29 14:39:31,148 epoch 7 - iter 261/878 - loss 0.09761626 - time (sec): 4.13 - samples/sec: 14433.52 - lr: 0.100000\n",
            "2023-06-29 14:39:32,550 epoch 7 - iter 348/878 - loss 0.09718196 - time (sec): 5.53 - samples/sec: 14540.69 - lr: 0.100000\n",
            "2023-06-29 14:39:33,895 epoch 7 - iter 435/878 - loss 0.09851483 - time (sec): 6.87 - samples/sec: 14533.12 - lr: 0.100000\n",
            "2023-06-29 14:39:35,261 epoch 7 - iter 522/878 - loss 0.09749500 - time (sec): 8.24 - samples/sec: 14568.25 - lr: 0.100000\n",
            "2023-06-29 14:39:36,733 epoch 7 - iter 609/878 - loss 0.09837274 - time (sec): 9.71 - samples/sec: 14497.15 - lr: 0.100000\n",
            "2023-06-29 14:39:38,205 epoch 7 - iter 696/878 - loss 0.09693386 - time (sec): 11.18 - samples/sec: 14363.74 - lr: 0.100000\n",
            "2023-06-29 14:39:39,686 epoch 7 - iter 783/878 - loss 0.09803391 - time (sec): 12.66 - samples/sec: 14266.29 - lr: 0.100000\n",
            "2023-06-29 14:39:41,113 epoch 7 - iter 870/878 - loss 0.09794933 - time (sec): 14.09 - samples/sec: 14331.83 - lr: 0.100000\n",
            "2023-06-29 14:39:41,243 ----------------------------------------------------------------------------------------------------\n",
            "2023-06-29 14:39:41,244 EPOCH 7 done: loss 0.0981 - lr 0.100000\n"
          ]
        },
        {
          "output_type": "stream",
          "name": "stderr",
          "text": [
            "100%|██████████| 204/204 [00:04<00:00, 48.69it/s]\n"
          ]
        },
        {
          "output_type": "stream",
          "name": "stdout",
          "text": [
            "2023-06-29 14:39:45,462 Evaluating as a multi-label problem: False\n",
            "2023-06-29 14:39:45,515 DEV : loss 0.06348010897636414 - f1-score (micro avg)  0.9185\n",
            "2023-06-29 14:39:45,802 BAD EPOCHS (no improvement): 0\n",
            "2023-06-29 14:39:45,804 saving best model\n",
            "2023-06-29 14:40:10,745 ----------------------------------------------------------------------------------------------------\n",
            "2023-06-29 14:40:12,386 epoch 8 - iter 87/878 - loss 0.08470848 - time (sec): 1.44 - samples/sec: 14226.68 - lr: 0.100000\n",
            "2023-06-29 14:40:13,767 epoch 8 - iter 174/878 - loss 0.08598496 - time (sec): 2.82 - samples/sec: 14324.85 - lr: 0.100000\n",
            "2023-06-29 14:40:15,169 epoch 8 - iter 261/878 - loss 0.08916175 - time (sec): 4.22 - samples/sec: 14398.52 - lr: 0.100000\n",
            "2023-06-29 14:40:16,533 epoch 8 - iter 348/878 - loss 0.09104270 - time (sec): 5.58 - samples/sec: 14421.75 - lr: 0.100000\n",
            "2023-06-29 14:40:18,009 epoch 8 - iter 435/878 - loss 0.09134812 - time (sec): 7.06 - samples/sec: 14357.91 - lr: 0.100000\n",
            "2023-06-29 14:40:19,559 epoch 8 - iter 522/878 - loss 0.09220634 - time (sec): 8.61 - samples/sec: 14058.61 - lr: 0.100000\n",
            "2023-06-29 14:40:21,094 epoch 8 - iter 609/878 - loss 0.09338754 - time (sec): 10.14 - samples/sec: 13912.25 - lr: 0.100000\n",
            "2023-06-29 14:40:22,582 epoch 8 - iter 696/878 - loss 0.09292060 - time (sec): 11.63 - samples/sec: 13866.17 - lr: 0.100000\n",
            "2023-06-29 14:40:23,972 epoch 8 - iter 783/878 - loss 0.09270806 - time (sec): 13.02 - samples/sec: 13923.99 - lr: 0.100000\n",
            "2023-06-29 14:40:25,379 epoch 8 - iter 870/878 - loss 0.09337962 - time (sec): 14.43 - samples/sec: 13988.15 - lr: 0.100000\n",
            "2023-06-29 14:40:25,516 ----------------------------------------------------------------------------------------------------\n",
            "2023-06-29 14:40:25,518 EPOCH 8 done: loss 0.0933 - lr 0.100000\n"
          ]
        },
        {
          "output_type": "stream",
          "name": "stderr",
          "text": [
            "100%|██████████| 204/204 [00:04<00:00, 48.41it/s]"
          ]
        },
        {
          "output_type": "stream",
          "name": "stdout",
          "text": [
            "2023-06-29 14:40:29,757 Evaluating as a multi-label problem: False\n",
            "2023-06-29 14:40:29,810 DEV : loss 0.06520059704780579 - f1-score (micro avg)  0.9204\n"
          ]
        },
        {
          "output_type": "stream",
          "name": "stderr",
          "text": [
            "\n"
          ]
        },
        {
          "output_type": "stream",
          "name": "stdout",
          "text": [
            "2023-06-29 14:40:30,098 BAD EPOCHS (no improvement): 0\n",
            "2023-06-29 14:40:30,099 saving best model\n",
            "2023-06-29 14:41:17,150 ----------------------------------------------------------------------------------------------------\n",
            "2023-06-29 14:41:18,782 epoch 9 - iter 87/878 - loss 0.09092474 - time (sec): 1.53 - samples/sec: 13422.79 - lr: 0.100000\n",
            "2023-06-29 14:41:20,240 epoch 9 - iter 174/878 - loss 0.09141582 - time (sec): 2.98 - samples/sec: 13717.96 - lr: 0.100000\n",
            "2023-06-29 14:41:21,651 epoch 9 - iter 261/878 - loss 0.09226033 - time (sec): 4.40 - samples/sec: 13871.99 - lr: 0.100000\n",
            "2023-06-29 14:41:23,036 epoch 9 - iter 348/878 - loss 0.09243387 - time (sec): 5.78 - samples/sec: 13864.12 - lr: 0.100000\n",
            "2023-06-29 14:41:24,441 epoch 9 - iter 435/878 - loss 0.09272224 - time (sec): 7.18 - samples/sec: 13930.60 - lr: 0.100000\n",
            "2023-06-29 14:41:25,848 epoch 9 - iter 522/878 - loss 0.09287646 - time (sec): 8.59 - samples/sec: 14016.43 - lr: 0.100000\n",
            "2023-06-29 14:41:27,271 epoch 9 - iter 609/878 - loss 0.09207111 - time (sec): 10.01 - samples/sec: 14095.68 - lr: 0.100000\n",
            "2023-06-29 14:41:28,729 epoch 9 - iter 696/878 - loss 0.09205692 - time (sec): 11.47 - samples/sec: 14032.27 - lr: 0.100000\n",
            "2023-06-29 14:41:30,271 epoch 9 - iter 783/878 - loss 0.09193622 - time (sec): 13.01 - samples/sec: 13921.03 - lr: 0.100000\n",
            "2023-06-29 14:41:31,786 epoch 9 - iter 870/878 - loss 0.09177898 - time (sec): 14.53 - samples/sec: 13888.90 - lr: 0.100000\n",
            "2023-06-29 14:41:31,920 ----------------------------------------------------------------------------------------------------\n",
            "2023-06-29 14:41:31,921 EPOCH 9 done: loss 0.0919 - lr 0.100000\n"
          ]
        },
        {
          "output_type": "stream",
          "name": "stderr",
          "text": [
            "100%|██████████| 204/204 [00:07<00:00, 26.04it/s]"
          ]
        },
        {
          "output_type": "stream",
          "name": "stdout",
          "text": [
            "2023-06-29 14:41:39,783 Evaluating as a multi-label problem: False\n",
            "2023-06-29 14:41:39,833 DEV : loss 0.06410402059555054 - f1-score (micro avg)  0.9207\n"
          ]
        },
        {
          "output_type": "stream",
          "name": "stderr",
          "text": [
            "\n"
          ]
        },
        {
          "output_type": "stream",
          "name": "stdout",
          "text": [
            "2023-06-29 14:41:40,125 BAD EPOCHS (no improvement): 0\n",
            "2023-06-29 14:41:40,127 saving best model\n",
            "2023-06-29 14:42:32,204 ----------------------------------------------------------------------------------------------------\n",
            "2023-06-29 14:42:33,657 epoch 10 - iter 87/878 - loss 0.07789531 - time (sec): 1.44 - samples/sec: 14275.69 - lr: 0.100000\n",
            "2023-06-29 14:42:35,050 epoch 10 - iter 174/878 - loss 0.08435427 - time (sec): 2.84 - samples/sec: 14285.78 - lr: 0.100000\n",
            "2023-06-29 14:42:36,457 epoch 10 - iter 261/878 - loss 0.08390199 - time (sec): 4.24 - samples/sec: 14277.85 - lr: 0.100000\n",
            "2023-06-29 14:42:37,898 epoch 10 - iter 348/878 - loss 0.08356450 - time (sec): 5.68 - samples/sec: 14191.10 - lr: 0.100000\n",
            "2023-06-29 14:42:39,390 epoch 10 - iter 435/878 - loss 0.08491575 - time (sec): 7.18 - samples/sec: 14019.12 - lr: 0.100000\n",
            "2023-06-29 14:42:40,877 epoch 10 - iter 522/878 - loss 0.08545534 - time (sec): 8.66 - samples/sec: 13980.80 - lr: 0.100000\n",
            "2023-06-29 14:42:42,350 epoch 10 - iter 609/878 - loss 0.08560520 - time (sec): 10.14 - samples/sec: 13928.47 - lr: 0.100000\n",
            "2023-06-29 14:42:43,760 epoch 10 - iter 696/878 - loss 0.08576246 - time (sec): 11.55 - samples/sec: 13975.75 - lr: 0.100000\n",
            "2023-06-29 14:42:45,188 epoch 10 - iter 783/878 - loss 0.08575390 - time (sec): 12.97 - samples/sec: 14021.66 - lr: 0.100000\n",
            "2023-06-29 14:42:46,589 epoch 10 - iter 870/878 - loss 0.08754556 - time (sec): 14.38 - samples/sec: 14054.15 - lr: 0.100000\n",
            "2023-06-29 14:42:46,719 ----------------------------------------------------------------------------------------------------\n",
            "2023-06-29 14:42:46,721 EPOCH 10 done: loss 0.0875 - lr 0.100000\n"
          ]
        },
        {
          "output_type": "stream",
          "name": "stderr",
          "text": [
            "100%|██████████| 204/204 [00:04<00:00, 47.98it/s]"
          ]
        },
        {
          "output_type": "stream",
          "name": "stdout",
          "text": [
            "2023-06-29 14:42:51,003 Evaluating as a multi-label problem: False\n",
            "2023-06-29 14:42:51,058 DEV : loss 0.06640505790710449 - f1-score (micro avg)  0.9216\n"
          ]
        },
        {
          "output_type": "stream",
          "name": "stderr",
          "text": [
            "\n"
          ]
        },
        {
          "output_type": "stream",
          "name": "stdout",
          "text": [
            "2023-06-29 14:42:51,354 BAD EPOCHS (no improvement): 0\n",
            "2023-06-29 14:42:51,356 saving best model\n",
            "2023-06-29 14:44:32,263 ----------------------------------------------------------------------------------------------------\n",
            "2023-06-29 14:44:38,385 SequenceTagger predicts: Dictionary with 17 tags: O, S-LOC, B-LOC, E-LOC, I-LOC, S-PER, B-PER, E-PER, I-PER, S-ORG, B-ORG, E-ORG, I-ORG, S-MISC, B-MISC, E-MISC, I-MISC\n"
          ]
        },
        {
          "output_type": "stream",
          "name": "stderr",
          "text": [
            "100%|██████████| 216/216 [00:12<00:00, 17.31it/s]"
          ]
        },
        {
          "output_type": "stream",
          "name": "stdout",
          "text": [
            "2023-06-29 14:44:51,164 Evaluating as a multi-label problem: False\n"
          ]
        },
        {
          "output_type": "stream",
          "name": "stderr",
          "text": [
            "\n"
          ]
        },
        {
          "output_type": "stream",
          "name": "stdout",
          "text": [
            "2023-06-29 14:44:51,249 0.882\t0.8943\t0.8881\t0.8335\n",
            "2023-06-29 14:44:51,251 \n",
            "Results:\n",
            "- F-score (micro) 0.8881\n",
            "- F-score (macro) 0.8723\n",
            "- Accuracy 0.8335\n",
            "\n",
            "By class:\n",
            "              precision    recall  f1-score   support\n",
            "\n",
            "         ORG     0.8279    0.8688    0.8478      1661\n",
            "         LOC     0.9115    0.9017    0.9066      1668\n",
            "         PER     0.9485    0.9691    0.9587      1617\n",
            "        MISC     0.7874    0.7650    0.7760       702\n",
            "\n",
            "   micro avg     0.8820    0.8943    0.8881      5648\n",
            "   macro avg     0.8688    0.8761    0.8723      5648\n",
            "weighted avg     0.8821    0.8943    0.8880      5648\n",
            "\n",
            "2023-06-29 14:44:51,252 ----------------------------------------------------------------------------------------------------\n"
          ]
        }
      ]
    },
    {
      "cell_type": "markdown",
      "source": [
        "BERT Large"
      ],
      "metadata": {
        "id": "9lZmcKVM87qf"
      }
    },
    {
      "cell_type": "code",
      "source": [
        "for corpus in corpus_dataset:\n",
        "    # Cria um dicionário de tags usando o corpus combinado\n",
        "    tag_dictionary = corpus.make_label_dictionary(label_type=tag_type)\n",
        "\n",
        "    # Define o tipo de embedding desejado\n",
        "    # Define o tipo de embedding desejado\n",
        "    embeddings = TransformerWordEmbeddings(\n",
        "        \"bert-large-uncased\",           # Modelo BERT-large pré-treinado\n",
        "        fine_tune=False,                # Não permite ajuste fino dos pesos durante o treinamento\n",
        "        layers='-1,-2,-3,-4',           # Utiliza as últimas 4 camadas do modelo BERT\n",
        "        allow_long_sentences=True       # Permite o processamento de frases longas\n",
        "    )\n",
        "\n",
        "\n",
        "    # Criação de um objeto SequenceTagger\n",
        "    tagger: SequenceTagger = SequenceTagger(\n",
        "        hidden_size=256,                   # Tamanho da camada oculta do modelo\n",
        "        embeddings=embeddings,             # Embeddings utilizados como entrada para o modelo\n",
        "        tag_dictionary=tag_dictionary,     # Dicionário de rótulos utilizado pelo modelo\n",
        "        tag_type=tag_type,                 # Tipo de rótulo utilizado (por exemplo, NER)\n",
        "        use_crf=True                      # Indicação de uso do CRF (Conditional Random Field) para decodificar as sequências de rótulos\n",
        "    )\n",
        "\n",
        "    # Treino do modelo Flair\n",
        "    trainer: ModelTrainer = ModelTrainer(tagger, corpus)\n",
        "    trainer.train(\n",
        "        f'resources/bert-large/taggers/{corpus}',    # Diretório para salvar os resultados do treinamento\n",
        "        learning_rate=0.1,                      # Taxa de aprendizado\n",
        "        mini_batch_size=16,                     # Tamanho do mini-batch\n",
        "        optimizer=SGDW,                         # Otimizador\n",
        "        max_epochs=10                           # Número máximo de épocas\n",
        "    )"
      ],
      "metadata": {
        "id": "-lasySJW8x_l",
        "colab": {
          "base_uri": "https://localhost:8080/",
          "height": 1000,
          "referenced_widgets": [
            "9a881f8ddb2a4d82bd9a5c992923cb04",
            "6bb8974887b84211956d08c0d404d8e0",
            "7fbe54aa90dc481ab964b4be36c56fd1",
            "74fdc2b6e22f4f48b4e4b8c7faf39b6b",
            "f1ed2de55e6e4a678cceffb7f6841ca2",
            "428dfbce1f774c62a9e7d8d56352df28",
            "1c951294922b491590dd8254deb0104c",
            "40435845c682440c837b6c6eb17bbd6b",
            "7df0e3d2e93b4bec859205f3df0c3d9d",
            "a360ea9f770a4a42aa0ff56cf87f68df",
            "bf8bd0b015dd40ed8ac0ef7b8451afb1",
            "a5641be9374b492fb23b28862eb9637d",
            "3e8bfe5d7dc24bc785ace3c358dc574c",
            "3cc8dd52e1c14e109261304f4b50156a",
            "66ee38c1ad0a41be8da8f4e9fc6b2d7c",
            "f578c5f2e532455697a2e4e06d1bd00d",
            "72ed1b7404c240bea95ab5b0acb982d5",
            "244b73328c5e42e5956edb2cd5228f8d",
            "6c0c39b0078446cbad54df26dd51da1a",
            "90c41813abf94acd87498f55a759bdd3",
            "0799470a5a9e49bca20a2254d7936f4e",
            "fd827c33ddb04033a590d1cd27a9c022",
            "b13d2e5cd77a40d5b721fe42d777ba7a",
            "e5be22afcf10498083728c24929542d1",
            "a97a341560ca4cbbb75a7623f2a0b259",
            "9992cba9d787401cb1321bd1d904aded",
            "abb57722373741de9ef23eb8022b51fe",
            "52ad18da0b3d4b5e8298ea0933b506f4",
            "12d9ee11b67b4e55ae0dfd4ea638c00c",
            "74273a71f82244c9a97ed3c8637de4fb",
            "44b56d05b239437b926a8941eb58ee66",
            "a1f4026c3c8e4b4eab513832e8ab6dbd",
            "dd1169d55fde453ab894841434d78471",
            "46d057ee55d74b9590dd96b9ca924881",
            "f09766e7efaf4794a32d22ca2d4996ef",
            "b4700b6a160d49bb90f8dd01f19d78b6",
            "c7e1f7816aea45f1a20e8fb2531a7e50",
            "3ea22b18c3564340b68674ff05a5cc40",
            "f5b99872d09242e6915558ad63558c7e",
            "f6311ea9bafa48c28b6cdef335fe8ed3",
            "24d643e47afd40508b3ffdcd65aaa74b",
            "a638d217dee643398d9b2ead8575c98f",
            "3f74372473ac4de991a934a109a8e675",
            "d8d275af2cc04b8695eedb48297b23d2",
            "684869cafe4240a3bbb6f9ac650ac45c",
            "d9012bb1b7a847c19541babc647512af",
            "e766bcb99b694f84a15c4a537a9cc3c1",
            "728e3d24fc184c5d84ead088e383a974",
            "4abd36fff1f643c38c6480c60874ff2d",
            "15e1c21d103d43c086c839058922b624",
            "606701444cb34fb09b01cf8b867fb17a",
            "492859d663cd451ba57bca20bfc948b2",
            "d884ed30dd0b4b818668a7f748fd9f9f",
            "0254aa9e0ac645ffbdc935b2c71ec9b3",
            "b2c603cf620b4439aa7d455d94eec3b6"
          ]
        },
        "outputId": "f9f94585-5cf4-4856-b599-8431f6e64b14"
      },
      "execution_count": null,
      "outputs": [
        {
          "output_type": "stream",
          "name": "stdout",
          "text": [
            "2023-06-29 16:23:26,819 Computing label dictionary. Progress:\n"
          ]
        },
        {
          "output_type": "stream",
          "name": "stderr",
          "text": [
            "333it [00:00, 22855.19it/s]"
          ]
        },
        {
          "output_type": "stream",
          "name": "stdout",
          "text": [
            "2023-06-29 16:23:26,869 Dictionary created for label 'ner' with 8 values: ActivityData (seen 402 times), Activity (seen 400 times), Actor (seen 373 times), XORGateway (seen 93 times), ConditionSpecification (seen 72 times), FurtherSpecification (seen 60 times), ANDGateway (seen 6 times)\n"
          ]
        },
        {
          "output_type": "stream",
          "name": "stderr",
          "text": [
            "\n"
          ]
        },
        {
          "output_type": "display_data",
          "data": {
            "text/plain": [
              "Downloading (…)okenizer_config.json:   0%|          | 0.00/28.0 [00:00<?, ?B/s]"
            ],
            "application/vnd.jupyter.widget-view+json": {
              "version_major": 2,
              "version_minor": 0,
              "model_id": "9a881f8ddb2a4d82bd9a5c992923cb04"
            }
          },
          "metadata": {}
        },
        {
          "output_type": "display_data",
          "data": {
            "text/plain": [
              "Downloading (…)lve/main/config.json:   0%|          | 0.00/571 [00:00<?, ?B/s]"
            ],
            "application/vnd.jupyter.widget-view+json": {
              "version_major": 2,
              "version_minor": 0,
              "model_id": "a5641be9374b492fb23b28862eb9637d"
            }
          },
          "metadata": {}
        },
        {
          "output_type": "display_data",
          "data": {
            "text/plain": [
              "Downloading (…)solve/main/vocab.txt:   0%|          | 0.00/232k [00:00<?, ?B/s]"
            ],
            "application/vnd.jupyter.widget-view+json": {
              "version_major": 2,
              "version_minor": 0,
              "model_id": "b13d2e5cd77a40d5b721fe42d777ba7a"
            }
          },
          "metadata": {}
        },
        {
          "output_type": "display_data",
          "data": {
            "text/plain": [
              "Downloading (…)/main/tokenizer.json:   0%|          | 0.00/466k [00:00<?, ?B/s]"
            ],
            "application/vnd.jupyter.widget-view+json": {
              "version_major": 2,
              "version_minor": 0,
              "model_id": "46d057ee55d74b9590dd96b9ca924881"
            }
          },
          "metadata": {}
        },
        {
          "output_type": "display_data",
          "data": {
            "text/plain": [
              "Downloading model.safetensors:   0%|          | 0.00/1.34G [00:00<?, ?B/s]"
            ],
            "application/vnd.jupyter.widget-view+json": {
              "version_major": 2,
              "version_minor": 0,
              "model_id": "684869cafe4240a3bbb6f9ac650ac45c"
            }
          },
          "metadata": {}
        },
        {
          "output_type": "stream",
          "name": "stdout",
          "text": [
            "2023-06-29 16:23:46,621 SequenceTagger predicts: Dictionary with 29 tags: O, S-ActivityData, B-ActivityData, E-ActivityData, I-ActivityData, S-Activity, B-Activity, E-Activity, I-Activity, S-Actor, B-Actor, E-Actor, I-Actor, S-XORGateway, B-XORGateway, E-XORGateway, I-XORGateway, S-ConditionSpecification, B-ConditionSpecification, E-ConditionSpecification, I-ConditionSpecification, S-FurtherSpecification, B-FurtherSpecification, E-FurtherSpecification, I-FurtherSpecification, S-ANDGateway, B-ANDGateway, E-ANDGateway, I-ANDGateway\n",
            "2023-06-29 16:23:49,302 ----------------------------------------------------------------------------------------------------\n",
            "2023-06-29 16:23:49,306 Model: \"SequenceTagger(\n",
            "  (embeddings): TransformerWordEmbeddings(\n",
            "    (model): BertModel(\n",
            "      (embeddings): BertEmbeddings(\n",
            "        (word_embeddings): Embedding(30523, 1024)\n",
            "        (position_embeddings): Embedding(512, 1024)\n",
            "        (token_type_embeddings): Embedding(2, 1024)\n",
            "        (LayerNorm): LayerNorm((1024,), eps=1e-12, elementwise_affine=True)\n",
            "        (dropout): Dropout(p=0.1, inplace=False)\n",
            "      )\n",
            "      (encoder): BertEncoder(\n",
            "        (layer): ModuleList(\n",
            "          (0-23): 24 x BertLayer(\n",
            "            (attention): BertAttention(\n",
            "              (self): BertSelfAttention(\n",
            "                (query): Linear(in_features=1024, out_features=1024, bias=True)\n",
            "                (key): Linear(in_features=1024, out_features=1024, bias=True)\n",
            "                (value): Linear(in_features=1024, out_features=1024, bias=True)\n",
            "                (dropout): Dropout(p=0.1, inplace=False)\n",
            "              )\n",
            "              (output): BertSelfOutput(\n",
            "                (dense): Linear(in_features=1024, out_features=1024, bias=True)\n",
            "                (LayerNorm): LayerNorm((1024,), eps=1e-12, elementwise_affine=True)\n",
            "                (dropout): Dropout(p=0.1, inplace=False)\n",
            "              )\n",
            "            )\n",
            "            (intermediate): BertIntermediate(\n",
            "              (dense): Linear(in_features=1024, out_features=4096, bias=True)\n",
            "              (intermediate_act_fn): GELUActivation()\n",
            "            )\n",
            "            (output): BertOutput(\n",
            "              (dense): Linear(in_features=4096, out_features=1024, bias=True)\n",
            "              (LayerNorm): LayerNorm((1024,), eps=1e-12, elementwise_affine=True)\n",
            "              (dropout): Dropout(p=0.1, inplace=False)\n",
            "            )\n",
            "          )\n",
            "        )\n",
            "      )\n",
            "      (pooler): BertPooler(\n",
            "        (dense): Linear(in_features=1024, out_features=1024, bias=True)\n",
            "        (activation): Tanh()\n",
            "      )\n",
            "    )\n",
            "  )\n",
            "  (word_dropout): WordDropout(p=0.05)\n",
            "  (locked_dropout): LockedDropout(p=0.5)\n",
            "  (embedding2nn): Linear(in_features=1024, out_features=1024, bias=True)\n",
            "  (rnn): LSTM(1024, 256, batch_first=True, bidirectional=True)\n",
            "  (linear): Linear(in_features=512, out_features=31, bias=True)\n",
            "  (loss_function): ViterbiLoss()\n",
            "  (crf): CRF()\n",
            ")\"\n",
            "2023-06-29 16:23:49,307 ----------------------------------------------------------------------------------------------------\n",
            "2023-06-29 16:23:49,308 Corpus: \"Corpus: 333 train + 41 dev + 41 test sentences\"\n",
            "2023-06-29 16:23:49,310 ----------------------------------------------------------------------------------------------------\n",
            "2023-06-29 16:23:49,311 Parameters:\n",
            "2023-06-29 16:23:49,313  - learning_rate: \"0.100000\"\n",
            "2023-06-29 16:23:49,314  - mini_batch_size: \"16\"\n",
            "2023-06-29 16:23:49,317  - patience: \"3\"\n",
            "2023-06-29 16:23:49,318  - anneal_factor: \"0.5\"\n",
            "2023-06-29 16:23:49,320  - max_epochs: \"10\"\n",
            "2023-06-29 16:23:49,321  - shuffle: \"True\"\n",
            "2023-06-29 16:23:49,323  - train_with_dev: \"False\"\n",
            "2023-06-29 16:23:49,325  - batch_growth_annealing: \"False\"\n",
            "2023-06-29 16:23:49,327 ----------------------------------------------------------------------------------------------------\n",
            "2023-06-29 16:23:49,328 Model training base path: \"resources/bert-large/taggers/Corpus: 333 train + 41 dev + 41 test sentences\"\n",
            "2023-06-29 16:23:49,330 ----------------------------------------------------------------------------------------------------\n",
            "2023-06-29 16:23:49,331 Device: cuda:0\n",
            "2023-06-29 16:23:49,333 ----------------------------------------------------------------------------------------------------\n",
            "2023-06-29 16:23:49,335 Embeddings storage mode: cpu\n",
            "2023-06-29 16:23:49,336 ----------------------------------------------------------------------------------------------------\n",
            "2023-06-29 16:23:50,617 epoch 1 - iter 2/21 - loss 3.74861360 - time (sec): 1.28 - samples/sec: 455.13 - lr: 0.100000\n"
          ]
        },
        {
          "output_type": "stream",
          "name": "stderr",
          "text": [
            "/usr/local/lib/python3.10/dist-packages/flair/optim.py:132: UserWarning: This overload of add_ is deprecated:\n",
            "\tadd_(Number alpha, Tensor other)\n",
            "Consider using one of the following signatures instead:\n",
            "\tadd_(Tensor other, *, Number alpha) (Triggered internally at ../torch/csrc/utils/python_arg_parser.cpp:1485.)\n",
            "  p.data.add_(-group[\"lr\"], d_p)\n"
          ]
        },
        {
          "output_type": "stream",
          "name": "stdout",
          "text": [
            "2023-06-29 16:23:50,997 epoch 1 - iter 4/21 - loss 3.57427341 - time (sec): 1.66 - samples/sec: 732.18 - lr: 0.100000\n",
            "2023-06-29 16:23:51,361 epoch 1 - iter 6/21 - loss 3.30118658 - time (sec): 2.02 - samples/sec: 885.38 - lr: 0.100000\n",
            "2023-06-29 16:23:51,697 epoch 1 - iter 8/21 - loss 3.16835555 - time (sec): 2.36 - samples/sec: 1025.56 - lr: 0.100000\n",
            "2023-06-29 16:23:51,968 epoch 1 - iter 10/21 - loss 3.02020311 - time (sec): 2.63 - samples/sec: 1135.14 - lr: 0.100000\n",
            "2023-06-29 16:23:52,268 epoch 1 - iter 12/21 - loss 3.00105342 - time (sec): 2.93 - samples/sec: 1201.99 - lr: 0.100000\n",
            "2023-06-29 16:23:52,640 epoch 1 - iter 14/21 - loss 2.93923490 - time (sec): 3.30 - samples/sec: 1242.74 - lr: 0.100000\n",
            "2023-06-29 16:23:53,007 epoch 1 - iter 16/21 - loss 2.88681237 - time (sec): 3.67 - samples/sec: 1271.69 - lr: 0.100000\n",
            "2023-06-29 16:23:53,294 epoch 1 - iter 18/21 - loss 2.87613647 - time (sec): 3.96 - samples/sec: 1334.11 - lr: 0.100000\n",
            "2023-06-29 16:23:53,574 epoch 1 - iter 20/21 - loss 2.84747169 - time (sec): 4.24 - samples/sec: 1365.29 - lr: 0.100000\n",
            "2023-06-29 16:23:53,707 ----------------------------------------------------------------------------------------------------\n",
            "2023-06-29 16:23:53,709 EPOCH 1 done: loss 2.8298 - lr 0.100000\n"
          ]
        },
        {
          "output_type": "stream",
          "name": "stderr",
          "text": [
            "100%|██████████| 3/3 [00:00<00:00,  7.19it/s]"
          ]
        },
        {
          "output_type": "stream",
          "name": "stdout",
          "text": [
            "2023-06-29 16:23:54,135 Evaluating as a multi-label problem: False\n",
            "2023-06-29 16:23:54,151 DEV : loss 2.6788954734802246 - f1-score (micro avg)  0.0\n",
            "2023-06-29 16:23:54,155 BAD EPOCHS (no improvement): 0\n",
            "2023-06-29 16:23:54,157 saving best model\n"
          ]
        },
        {
          "output_type": "stream",
          "name": "stderr",
          "text": [
            "\n"
          ]
        },
        {
          "output_type": "stream",
          "name": "stdout",
          "text": [
            "2023-06-29 16:23:58,176 ----------------------------------------------------------------------------------------------------\n",
            "2023-06-29 16:23:58,269 epoch 2 - iter 2/21 - loss 2.58881708 - time (sec): 0.09 - samples/sec: 5851.88 - lr: 0.100000\n",
            "2023-06-29 16:23:58,365 epoch 2 - iter 4/21 - loss 2.69627296 - time (sec): 0.19 - samples/sec: 5696.86 - lr: 0.100000\n",
            "2023-06-29 16:23:58,476 epoch 2 - iter 6/21 - loss 2.58122581 - time (sec): 0.30 - samples/sec: 5547.88 - lr: 0.100000\n",
            "2023-06-29 16:23:58,567 epoch 2 - iter 8/21 - loss 2.53313602 - time (sec): 0.39 - samples/sec: 5650.90 - lr: 0.100000\n",
            "2023-06-29 16:23:58,675 epoch 2 - iter 10/21 - loss 2.45467035 - time (sec): 0.50 - samples/sec: 5595.23 - lr: 0.100000\n",
            "2023-06-29 16:23:58,797 epoch 2 - iter 12/21 - loss 2.50936610 - time (sec): 0.62 - samples/sec: 5589.26 - lr: 0.100000\n",
            "2023-06-29 16:23:58,921 epoch 2 - iter 14/21 - loss 2.44809646 - time (sec): 0.74 - samples/sec: 5461.01 - lr: 0.100000\n",
            "2023-06-29 16:23:59,026 epoch 2 - iter 16/21 - loss 2.41258173 - time (sec): 0.85 - samples/sec: 5499.69 - lr: 0.100000\n",
            "2023-06-29 16:23:59,123 epoch 2 - iter 18/21 - loss 2.40942811 - time (sec): 0.95 - samples/sec: 5582.14 - lr: 0.100000\n",
            "2023-06-29 16:23:59,221 epoch 2 - iter 20/21 - loss 2.40178721 - time (sec): 1.04 - samples/sec: 5550.42 - lr: 0.100000\n",
            "2023-06-29 16:23:59,271 ----------------------------------------------------------------------------------------------------\n",
            "2023-06-29 16:23:59,273 EPOCH 2 done: loss 2.4034 - lr 0.100000\n"
          ]
        },
        {
          "output_type": "stream",
          "name": "stderr",
          "text": [
            "100%|██████████| 3/3 [00:00<00:00, 18.56it/s]\n"
          ]
        },
        {
          "output_type": "stream",
          "name": "stdout",
          "text": [
            "2023-06-29 16:23:59,862 Evaluating as a multi-label problem: False\n",
            "2023-06-29 16:23:59,877 DEV : loss 2.32596755027771 - f1-score (micro avg)  0.0175\n",
            "2023-06-29 16:23:59,882 BAD EPOCHS (no improvement): 0\n",
            "2023-06-29 16:23:59,884 saving best model\n",
            "2023-06-29 16:24:05,015 ----------------------------------------------------------------------------------------------------\n",
            "2023-06-29 16:24:05,107 epoch 3 - iter 2/21 - loss 2.33025955 - time (sec): 0.09 - samples/sec: 6066.28 - lr: 0.100000\n",
            "2023-06-29 16:24:05,198 epoch 3 - iter 4/21 - loss 2.29717626 - time (sec): 0.18 - samples/sec: 6379.24 - lr: 0.100000\n",
            "2023-06-29 16:24:05,288 epoch 3 - iter 6/21 - loss 2.28061420 - time (sec): 0.27 - samples/sec: 6170.07 - lr: 0.100000\n",
            "2023-06-29 16:24:05,368 epoch 3 - iter 8/21 - loss 2.31620803 - time (sec): 0.35 - samples/sec: 6454.32 - lr: 0.100000\n",
            "2023-06-29 16:24:05,454 epoch 3 - iter 10/21 - loss 2.31986068 - time (sec): 0.44 - samples/sec: 6395.71 - lr: 0.100000\n",
            "2023-06-29 16:24:05,543 epoch 3 - iter 12/21 - loss 2.31893813 - time (sec): 0.53 - samples/sec: 6473.29 - lr: 0.100000\n",
            "2023-06-29 16:24:05,629 epoch 3 - iter 14/21 - loss 2.29330401 - time (sec): 0.61 - samples/sec: 6567.44 - lr: 0.100000\n",
            "2023-06-29 16:24:05,724 epoch 3 - iter 16/21 - loss 2.29600952 - time (sec): 0.71 - samples/sec: 6511.16 - lr: 0.100000\n",
            "2023-06-29 16:24:05,821 epoch 3 - iter 18/21 - loss 2.27732000 - time (sec): 0.80 - samples/sec: 6449.10 - lr: 0.100000\n",
            "2023-06-29 16:24:05,921 epoch 3 - iter 20/21 - loss 2.26337275 - time (sec): 0.90 - samples/sec: 6367.49 - lr: 0.100000\n",
            "2023-06-29 16:24:05,977 ----------------------------------------------------------------------------------------------------\n",
            "2023-06-29 16:24:05,978 EPOCH 3 done: loss 2.2483 - lr 0.100000\n"
          ]
        },
        {
          "output_type": "stream",
          "name": "stderr",
          "text": [
            "100%|██████████| 3/3 [00:00<00:00, 21.50it/s]"
          ]
        },
        {
          "output_type": "stream",
          "name": "stdout",
          "text": [
            "2023-06-29 16:24:06,125 Evaluating as a multi-label problem: False\n",
            "2023-06-29 16:24:06,137 DEV : loss 2.149224042892456 - f1-score (micro avg)  0.0\n",
            "2023-06-29 16:24:06,141 BAD EPOCHS (no improvement): 1\n",
            "2023-06-29 16:24:06,142 ----------------------------------------------------------------------------------------------------\n"
          ]
        },
        {
          "output_type": "stream",
          "name": "stderr",
          "text": [
            "\n"
          ]
        },
        {
          "output_type": "stream",
          "name": "stdout",
          "text": [
            "2023-06-29 16:24:06,240 epoch 4 - iter 2/21 - loss 1.97560864 - time (sec): 0.10 - samples/sec: 6042.15 - lr: 0.100000\n",
            "2023-06-29 16:24:06,326 epoch 4 - iter 4/21 - loss 1.98460097 - time (sec): 0.18 - samples/sec: 6032.80 - lr: 0.100000\n",
            "2023-06-29 16:24:06,434 epoch 4 - iter 6/21 - loss 2.02096878 - time (sec): 0.29 - samples/sec: 5998.94 - lr: 0.100000\n",
            "2023-06-29 16:24:06,523 epoch 4 - iter 8/21 - loss 2.07752482 - time (sec): 0.38 - samples/sec: 6202.17 - lr: 0.100000\n",
            "2023-06-29 16:24:06,601 epoch 4 - iter 10/21 - loss 2.10635742 - time (sec): 0.46 - samples/sec: 6257.62 - lr: 0.100000\n",
            "2023-06-29 16:24:06,683 epoch 4 - iter 12/21 - loss 2.08593591 - time (sec): 0.54 - samples/sec: 6405.28 - lr: 0.100000\n",
            "2023-06-29 16:24:06,763 epoch 4 - iter 14/21 - loss 2.10702924 - time (sec): 0.62 - samples/sec: 6522.06 - lr: 0.100000\n",
            "2023-06-29 16:24:06,861 epoch 4 - iter 16/21 - loss 2.08965873 - time (sec): 0.72 - samples/sec: 6485.81 - lr: 0.100000\n",
            "2023-06-29 16:24:06,959 epoch 4 - iter 18/21 - loss 2.09089277 - time (sec): 0.82 - samples/sec: 6412.62 - lr: 0.100000\n",
            "2023-06-29 16:24:07,062 epoch 4 - iter 20/21 - loss 2.07273059 - time (sec): 0.92 - samples/sec: 6330.84 - lr: 0.100000\n",
            "2023-06-29 16:24:07,100 ----------------------------------------------------------------------------------------------------\n",
            "2023-06-29 16:24:07,102 EPOCH 4 done: loss 2.0743 - lr 0.100000\n"
          ]
        },
        {
          "output_type": "stream",
          "name": "stderr",
          "text": [
            "100%|██████████| 3/3 [00:00<00:00, 20.95it/s]"
          ]
        },
        {
          "output_type": "stream",
          "name": "stdout",
          "text": [
            "2023-06-29 16:24:07,251 Evaluating as a multi-label problem: False\n",
            "2023-06-29 16:24:07,264 DEV : loss 2.0312442779541016 - f1-score (micro avg)  0.0\n",
            "2023-06-29 16:24:07,268 BAD EPOCHS (no improvement): 2\n",
            "2023-06-29 16:24:07,269 ----------------------------------------------------------------------------------------------------\n"
          ]
        },
        {
          "output_type": "stream",
          "name": "stderr",
          "text": [
            "\n"
          ]
        },
        {
          "output_type": "stream",
          "name": "stdout",
          "text": [
            "2023-06-29 16:24:07,359 epoch 5 - iter 2/21 - loss 1.84688849 - time (sec): 0.09 - samples/sec: 6359.35 - lr: 0.100000\n",
            "2023-06-29 16:24:07,443 epoch 5 - iter 4/21 - loss 1.90353014 - time (sec): 0.17 - samples/sec: 6606.65 - lr: 0.100000\n",
            "2023-06-29 16:24:07,528 epoch 5 - iter 6/21 - loss 1.91805000 - time (sec): 0.26 - samples/sec: 6594.60 - lr: 0.100000\n",
            "2023-06-29 16:24:07,625 epoch 5 - iter 8/21 - loss 1.86990472 - time (sec): 0.35 - samples/sec: 6548.35 - lr: 0.100000\n",
            "2023-06-29 16:24:07,710 epoch 5 - iter 10/21 - loss 1.92259754 - time (sec): 0.44 - samples/sec: 6694.66 - lr: 0.100000\n",
            "2023-06-29 16:24:07,791 epoch 5 - iter 12/21 - loss 1.92423690 - time (sec): 0.52 - samples/sec: 6749.77 - lr: 0.100000\n",
            "2023-06-29 16:24:07,866 epoch 5 - iter 14/21 - loss 1.94558257 - time (sec): 0.60 - samples/sec: 6743.15 - lr: 0.100000\n",
            "2023-06-29 16:24:07,959 epoch 5 - iter 16/21 - loss 1.92299676 - time (sec): 0.69 - samples/sec: 6753.97 - lr: 0.100000\n",
            "2023-06-29 16:24:08,056 epoch 5 - iter 18/21 - loss 1.92655913 - time (sec): 0.79 - samples/sec: 6680.46 - lr: 0.100000\n",
            "2023-06-29 16:24:08,148 epoch 5 - iter 20/21 - loss 1.91577439 - time (sec): 0.88 - samples/sec: 6573.25 - lr: 0.100000\n",
            "2023-06-29 16:24:08,192 ----------------------------------------------------------------------------------------------------\n",
            "2023-06-29 16:24:08,192 EPOCH 5 done: loss 1.9241 - lr 0.100000\n"
          ]
        },
        {
          "output_type": "stream",
          "name": "stderr",
          "text": [
            "100%|██████████| 3/3 [00:00<00:00, 21.18it/s]"
          ]
        },
        {
          "output_type": "stream",
          "name": "stdout",
          "text": [
            "2023-06-29 16:24:08,342 Evaluating as a multi-label problem: False\n",
            "2023-06-29 16:24:08,357 DEV : loss 1.8938413858413696 - f1-score (micro avg)  0.0\n",
            "2023-06-29 16:24:08,361 BAD EPOCHS (no improvement): 3\n",
            "2023-06-29 16:24:08,362 ----------------------------------------------------------------------------------------------------\n"
          ]
        },
        {
          "output_type": "stream",
          "name": "stderr",
          "text": [
            "\n"
          ]
        },
        {
          "output_type": "stream",
          "name": "stdout",
          "text": [
            "2023-06-29 16:24:08,455 epoch 6 - iter 2/21 - loss 1.69186371 - time (sec): 0.09 - samples/sec: 5517.57 - lr: 0.100000\n",
            "2023-06-29 16:24:08,551 epoch 6 - iter 4/21 - loss 1.78601309 - time (sec): 0.19 - samples/sec: 5829.31 - lr: 0.100000\n",
            "2023-06-29 16:24:08,633 epoch 6 - iter 6/21 - loss 1.81509441 - time (sec): 0.27 - samples/sec: 6000.11 - lr: 0.100000\n",
            "2023-06-29 16:24:08,732 epoch 6 - iter 8/21 - loss 1.81761329 - time (sec): 0.37 - samples/sec: 5997.16 - lr: 0.100000\n",
            "2023-06-29 16:24:08,825 epoch 6 - iter 10/21 - loss 1.81636683 - time (sec): 0.46 - samples/sec: 5996.74 - lr: 0.100000\n",
            "2023-06-29 16:24:08,923 epoch 6 - iter 12/21 - loss 1.80514792 - time (sec): 0.56 - samples/sec: 6120.64 - lr: 0.100000\n",
            "2023-06-29 16:24:09,023 epoch 6 - iter 14/21 - loss 1.79338495 - time (sec): 0.66 - samples/sec: 6103.56 - lr: 0.100000\n",
            "2023-06-29 16:24:09,132 epoch 6 - iter 16/21 - loss 1.80294455 - time (sec): 0.77 - samples/sec: 6170.32 - lr: 0.100000\n",
            "2023-06-29 16:24:09,225 epoch 6 - iter 18/21 - loss 1.81443440 - time (sec): 0.86 - samples/sec: 6161.13 - lr: 0.100000\n",
            "2023-06-29 16:24:09,302 epoch 6 - iter 20/21 - loss 1.83152534 - time (sec): 0.94 - samples/sec: 6169.99 - lr: 0.100000\n",
            "2023-06-29 16:24:09,348 ----------------------------------------------------------------------------------------------------\n",
            "2023-06-29 16:24:09,349 EPOCH 6 done: loss 1.8332 - lr 0.100000\n"
          ]
        },
        {
          "output_type": "stream",
          "name": "stderr",
          "text": [
            "100%|██████████| 3/3 [00:00<00:00, 19.63it/s]"
          ]
        },
        {
          "output_type": "stream",
          "name": "stdout",
          "text": [
            "2023-06-29 16:24:09,508 Evaluating as a multi-label problem: False\n",
            "2023-06-29 16:24:09,524 DEV : loss 1.9758020639419556 - f1-score (micro avg)  0.0372\n",
            "2023-06-29 16:24:09,528 BAD EPOCHS (no improvement): 0\n",
            "2023-06-29 16:24:09,529 saving best model\n"
          ]
        },
        {
          "output_type": "stream",
          "name": "stderr",
          "text": [
            "\n"
          ]
        },
        {
          "output_type": "stream",
          "name": "stdout",
          "text": [
            "2023-06-29 16:24:14,996 ----------------------------------------------------------------------------------------------------\n",
            "2023-06-29 16:24:15,086 epoch 7 - iter 2/21 - loss 1.83052150 - time (sec): 0.09 - samples/sec: 6039.31 - lr: 0.100000\n",
            "2023-06-29 16:24:15,190 epoch 7 - iter 4/21 - loss 1.78843437 - time (sec): 0.19 - samples/sec: 6121.32 - lr: 0.100000\n",
            "2023-06-29 16:24:15,280 epoch 7 - iter 6/21 - loss 1.76856070 - time (sec): 0.28 - samples/sec: 6219.07 - lr: 0.100000\n",
            "2023-06-29 16:24:15,375 epoch 7 - iter 8/21 - loss 1.76914898 - time (sec): 0.38 - samples/sec: 6200.52 - lr: 0.100000\n",
            "2023-06-29 16:24:15,458 epoch 7 - iter 10/21 - loss 1.77981759 - time (sec): 0.46 - samples/sec: 6329.39 - lr: 0.100000\n",
            "2023-06-29 16:24:15,552 epoch 7 - iter 12/21 - loss 1.75939251 - time (sec): 0.55 - samples/sec: 6390.27 - lr: 0.100000\n",
            "2023-06-29 16:24:15,633 epoch 7 - iter 14/21 - loss 1.73286172 - time (sec): 0.63 - samples/sec: 6428.95 - lr: 0.100000\n",
            "2023-06-29 16:24:15,719 epoch 7 - iter 16/21 - loss 1.72126025 - time (sec): 0.72 - samples/sec: 6376.69 - lr: 0.100000\n",
            "2023-06-29 16:24:15,818 epoch 7 - iter 18/21 - loss 1.73224523 - time (sec): 0.82 - samples/sec: 6285.91 - lr: 0.100000\n",
            "2023-06-29 16:24:15,925 epoch 7 - iter 20/21 - loss 1.73141306 - time (sec): 0.93 - samples/sec: 6235.78 - lr: 0.100000\n",
            "2023-06-29 16:24:15,974 ----------------------------------------------------------------------------------------------------\n",
            "2023-06-29 16:24:15,976 EPOCH 7 done: loss 1.7240 - lr 0.100000\n"
          ]
        },
        {
          "output_type": "stream",
          "name": "stderr",
          "text": [
            "100%|██████████| 3/3 [00:00<00:00, 20.55it/s]"
          ]
        },
        {
          "output_type": "stream",
          "name": "stdout",
          "text": [
            "2023-06-29 16:24:16,129 Evaluating as a multi-label problem: False\n",
            "2023-06-29 16:24:16,143 DEV : loss 1.8616960048675537 - f1-score (micro avg)  0.0\n",
            "2023-06-29 16:24:16,147 BAD EPOCHS (no improvement): 1\n",
            "2023-06-29 16:24:16,149 ----------------------------------------------------------------------------------------------------\n"
          ]
        },
        {
          "output_type": "stream",
          "name": "stderr",
          "text": [
            "\n"
          ]
        },
        {
          "output_type": "stream",
          "name": "stdout",
          "text": [
            "2023-06-29 16:24:16,245 epoch 8 - iter 2/21 - loss 1.58985992 - time (sec): 0.09 - samples/sec: 6052.37 - lr: 0.100000\n",
            "2023-06-29 16:24:16,349 epoch 8 - iter 4/21 - loss 1.65310280 - time (sec): 0.20 - samples/sec: 5539.44 - lr: 0.100000\n",
            "2023-06-29 16:24:16,439 epoch 8 - iter 6/21 - loss 1.68875551 - time (sec): 0.29 - samples/sec: 5831.85 - lr: 0.100000\n",
            "2023-06-29 16:24:16,536 epoch 8 - iter 8/21 - loss 1.65716232 - time (sec): 0.39 - samples/sec: 5812.72 - lr: 0.100000\n",
            "2023-06-29 16:24:16,622 epoch 8 - iter 10/21 - loss 1.65577070 - time (sec): 0.47 - samples/sec: 5952.62 - lr: 0.100000\n",
            "2023-06-29 16:24:16,720 epoch 8 - iter 12/21 - loss 1.66963146 - time (sec): 0.57 - samples/sec: 6023.97 - lr: 0.100000\n",
            "2023-06-29 16:24:16,800 epoch 8 - iter 14/21 - loss 1.65415287 - time (sec): 0.65 - samples/sec: 6160.00 - lr: 0.100000\n",
            "2023-06-29 16:24:16,900 epoch 8 - iter 16/21 - loss 1.65266591 - time (sec): 0.75 - samples/sec: 6213.46 - lr: 0.100000\n",
            "2023-06-29 16:24:17,000 epoch 8 - iter 18/21 - loss 1.64374485 - time (sec): 0.85 - samples/sec: 6213.37 - lr: 0.100000\n",
            "2023-06-29 16:24:17,083 epoch 8 - iter 20/21 - loss 1.63253259 - time (sec): 0.93 - samples/sec: 6246.76 - lr: 0.100000\n",
            "2023-06-29 16:24:17,126 ----------------------------------------------------------------------------------------------------\n",
            "2023-06-29 16:24:17,128 EPOCH 8 done: loss 1.6456 - lr 0.100000\n"
          ]
        },
        {
          "output_type": "stream",
          "name": "stderr",
          "text": [
            "100%|██████████| 3/3 [00:00<00:00, 21.02it/s]"
          ]
        },
        {
          "output_type": "stream",
          "name": "stdout",
          "text": [
            "2023-06-29 16:24:17,277 Evaluating as a multi-label problem: False\n",
            "2023-06-29 16:24:17,291 DEV : loss 1.6648112535476685 - f1-score (micro avg)  0.0\n",
            "2023-06-29 16:24:17,295 BAD EPOCHS (no improvement): 2\n",
            "2023-06-29 16:24:17,296 ----------------------------------------------------------------------------------------------------\n"
          ]
        },
        {
          "output_type": "stream",
          "name": "stderr",
          "text": [
            "\n"
          ]
        },
        {
          "output_type": "stream",
          "name": "stdout",
          "text": [
            "2023-06-29 16:24:17,405 epoch 9 - iter 2/21 - loss 1.42496964 - time (sec): 0.11 - samples/sec: 5820.39 - lr: 0.100000\n",
            "2023-06-29 16:24:17,503 epoch 9 - iter 4/21 - loss 1.50464581 - time (sec): 0.21 - samples/sec: 6244.96 - lr: 0.100000\n",
            "2023-06-29 16:24:17,601 epoch 9 - iter 6/21 - loss 1.52565960 - time (sec): 0.30 - samples/sec: 6162.52 - lr: 0.100000\n",
            "2023-06-29 16:24:17,701 epoch 9 - iter 8/21 - loss 1.57980288 - time (sec): 0.40 - samples/sec: 6099.46 - lr: 0.100000\n",
            "2023-06-29 16:24:17,786 epoch 9 - iter 10/21 - loss 1.57056433 - time (sec): 0.49 - samples/sec: 6232.37 - lr: 0.100000\n",
            "2023-06-29 16:24:17,872 epoch 9 - iter 12/21 - loss 1.59188469 - time (sec): 0.57 - samples/sec: 6189.43 - lr: 0.100000\n",
            "2023-06-29 16:24:17,955 epoch 9 - iter 14/21 - loss 1.58843219 - time (sec): 0.66 - samples/sec: 6242.64 - lr: 0.100000\n",
            "2023-06-29 16:24:18,044 epoch 9 - iter 16/21 - loss 1.58914370 - time (sec): 0.75 - samples/sec: 6236.71 - lr: 0.100000\n",
            "2023-06-29 16:24:18,130 epoch 9 - iter 18/21 - loss 1.59375072 - time (sec): 0.83 - samples/sec: 6245.55 - lr: 0.100000\n",
            "2023-06-29 16:24:18,228 epoch 9 - iter 20/21 - loss 1.57114159 - time (sec): 0.93 - samples/sec: 6244.32 - lr: 0.100000\n",
            "2023-06-29 16:24:18,273 ----------------------------------------------------------------------------------------------------\n",
            "2023-06-29 16:24:18,275 EPOCH 9 done: loss 1.5661 - lr 0.100000\n"
          ]
        },
        {
          "output_type": "stream",
          "name": "stderr",
          "text": [
            "100%|██████████| 3/3 [00:00<00:00, 21.71it/s]"
          ]
        },
        {
          "output_type": "stream",
          "name": "stdout",
          "text": [
            "2023-06-29 16:24:18,421 Evaluating as a multi-label problem: False\n",
            "2023-06-29 16:24:18,436 DEV : loss 1.6147972345352173 - f1-score (micro avg)  0.0\n",
            "2023-06-29 16:24:18,440 BAD EPOCHS (no improvement): 3\n",
            "2023-06-29 16:24:18,441 ----------------------------------------------------------------------------------------------------\n"
          ]
        },
        {
          "output_type": "stream",
          "name": "stderr",
          "text": [
            "\n"
          ]
        },
        {
          "output_type": "stream",
          "name": "stdout",
          "text": [
            "2023-06-29 16:24:18,557 epoch 10 - iter 2/21 - loss 1.45055583 - time (sec): 0.11 - samples/sec: 4977.49 - lr: 0.100000\n",
            "2023-06-29 16:24:18,650 epoch 10 - iter 4/21 - loss 1.41772037 - time (sec): 0.21 - samples/sec: 5418.17 - lr: 0.100000\n",
            "2023-06-29 16:24:18,729 epoch 10 - iter 6/21 - loss 1.46982030 - time (sec): 0.29 - samples/sec: 5849.74 - lr: 0.100000\n",
            "2023-06-29 16:24:18,812 epoch 10 - iter 8/21 - loss 1.46362227 - time (sec): 0.37 - samples/sec: 5936.85 - lr: 0.100000\n",
            "2023-06-29 16:24:18,905 epoch 10 - iter 10/21 - loss 1.43274982 - time (sec): 0.46 - samples/sec: 6168.34 - lr: 0.100000\n",
            "2023-06-29 16:24:18,993 epoch 10 - iter 12/21 - loss 1.47058303 - time (sec): 0.55 - samples/sec: 6222.09 - lr: 0.100000\n",
            "2023-06-29 16:24:19,082 epoch 10 - iter 14/21 - loss 1.45987522 - time (sec): 0.64 - samples/sec: 6259.91 - lr: 0.100000\n",
            "2023-06-29 16:24:19,178 epoch 10 - iter 16/21 - loss 1.45826156 - time (sec): 0.73 - samples/sec: 6266.12 - lr: 0.100000\n",
            "2023-06-29 16:24:19,271 epoch 10 - iter 18/21 - loss 1.48206708 - time (sec): 0.83 - samples/sec: 6283.61 - lr: 0.100000\n",
            "2023-06-29 16:24:19,370 epoch 10 - iter 20/21 - loss 1.49647487 - time (sec): 0.93 - samples/sec: 6282.97 - lr: 0.100000\n",
            "2023-06-29 16:24:19,409 ----------------------------------------------------------------------------------------------------\n",
            "2023-06-29 16:24:19,411 EPOCH 10 done: loss 1.5050 - lr 0.100000\n"
          ]
        },
        {
          "output_type": "stream",
          "name": "stderr",
          "text": [
            "100%|██████████| 3/3 [00:00<00:00, 20.60it/s]"
          ]
        },
        {
          "output_type": "stream",
          "name": "stdout",
          "text": [
            "2023-06-29 16:24:19,564 Evaluating as a multi-label problem: False\n",
            "2023-06-29 16:24:19,578 DEV : loss 1.5369551181793213 - f1-score (micro avg)  0.0\n",
            "2023-06-29 16:24:19,582 Epoch    10: reducing learning rate of group 0 to 5.0000e-02.\n",
            "2023-06-29 16:24:19,583 BAD EPOCHS (no improvement): 4\n"
          ]
        },
        {
          "output_type": "stream",
          "name": "stderr",
          "text": [
            "\n"
          ]
        },
        {
          "output_type": "stream",
          "name": "stdout",
          "text": [
            "2023-06-29 16:24:23,931 ----------------------------------------------------------------------------------------------------\n",
            "2023-06-29 16:24:29,254 SequenceTagger predicts: Dictionary with 31 tags: O, S-ActivityData, B-ActivityData, E-ActivityData, I-ActivityData, S-Activity, B-Activity, E-Activity, I-Activity, S-Actor, B-Actor, E-Actor, I-Actor, S-XORGateway, B-XORGateway, E-XORGateway, I-XORGateway, S-ConditionSpecification, B-ConditionSpecification, E-ConditionSpecification, I-ConditionSpecification, S-FurtherSpecification, B-FurtherSpecification, E-FurtherSpecification, I-FurtherSpecification, S-ANDGateway, B-ANDGateway, E-ANDGateway, I-ANDGateway, <START>, <STOP>\n"
          ]
        },
        {
          "output_type": "stream",
          "name": "stderr",
          "text": [
            "100%|██████████| 3/3 [00:00<00:00,  6.53it/s]"
          ]
        },
        {
          "output_type": "stream",
          "name": "stdout",
          "text": [
            "2023-06-29 16:24:30,113 Evaluating as a multi-label problem: False\n",
            "2023-06-29 16:24:30,126 0.0943\t0.0256\t0.0403\t0.0207\n",
            "2023-06-29 16:24:30,127 \n",
            "Results:\n",
            "- F-score (micro) 0.0403\n",
            "- F-score (macro) 0.0168\n",
            "- Accuracy 0.0207\n",
            "\n",
            "By class:\n",
            "                        precision    recall  f1-score   support\n",
            "\n",
            "          ActivityData     0.0000    0.0000    0.0000        61\n",
            "              Activity     0.2000    0.0833    0.1176        60\n",
            "                 Actor     0.0000    0.0000    0.0000        51\n",
            "            XORGateway     0.0000    0.0000    0.0000        10\n",
            "ConditionSpecification     0.0000    0.0000    0.0000         7\n",
            "  FurtherSpecification     0.0000    0.0000    0.0000         4\n",
            "            ANDGateway     0.0000    0.0000    0.0000         2\n",
            "\n",
            "             micro avg     0.0943    0.0256    0.0403       195\n",
            "             macro avg     0.0286    0.0119    0.0168       195\n",
            "          weighted avg     0.0615    0.0256    0.0362       195\n",
            "\n",
            "2023-06-29 16:24:30,129 ----------------------------------------------------------------------------------------------------\n",
            "2023-06-29 16:24:30,131 Computing label dictionary. Progress:\n"
          ]
        },
        {
          "output_type": "stream",
          "name": "stderr",
          "text": [
            "\n",
            "14000it [00:00, 42691.73it/s]"
          ]
        },
        {
          "output_type": "stream",
          "name": "stdout",
          "text": [
            "2023-06-29 16:24:30,465 Dictionary created for label 'ner' with 5 values: LOC (seen 8302 times), PER (seen 6286 times), MISC (seen 5873 times), ORG (seen 3664 times)\n"
          ]
        },
        {
          "output_type": "stream",
          "name": "stderr",
          "text": [
            "\n"
          ]
        },
        {
          "output_type": "stream",
          "name": "stdout",
          "text": [
            "2023-06-29 16:24:34,105 SequenceTagger predicts: Dictionary with 17 tags: O, S-LOC, B-LOC, E-LOC, I-LOC, S-PER, B-PER, E-PER, I-PER, S-MISC, B-MISC, E-MISC, I-MISC, S-ORG, B-ORG, E-ORG, I-ORG\n",
            "2023-06-29 16:24:34,146 ----------------------------------------------------------------------------------------------------\n",
            "2023-06-29 16:24:34,150 Model: \"SequenceTagger(\n",
            "  (embeddings): TransformerWordEmbeddings(\n",
            "    (model): BertModel(\n",
            "      (embeddings): BertEmbeddings(\n",
            "        (word_embeddings): Embedding(30523, 1024)\n",
            "        (position_embeddings): Embedding(512, 1024)\n",
            "        (token_type_embeddings): Embedding(2, 1024)\n",
            "        (LayerNorm): LayerNorm((1024,), eps=1e-12, elementwise_affine=True)\n",
            "        (dropout): Dropout(p=0.1, inplace=False)\n",
            "      )\n",
            "      (encoder): BertEncoder(\n",
            "        (layer): ModuleList(\n",
            "          (0-23): 24 x BertLayer(\n",
            "            (attention): BertAttention(\n",
            "              (self): BertSelfAttention(\n",
            "                (query): Linear(in_features=1024, out_features=1024, bias=True)\n",
            "                (key): Linear(in_features=1024, out_features=1024, bias=True)\n",
            "                (value): Linear(in_features=1024, out_features=1024, bias=True)\n",
            "                (dropout): Dropout(p=0.1, inplace=False)\n",
            "              )\n",
            "              (output): BertSelfOutput(\n",
            "                (dense): Linear(in_features=1024, out_features=1024, bias=True)\n",
            "                (LayerNorm): LayerNorm((1024,), eps=1e-12, elementwise_affine=True)\n",
            "                (dropout): Dropout(p=0.1, inplace=False)\n",
            "              )\n",
            "            )\n",
            "            (intermediate): BertIntermediate(\n",
            "              (dense): Linear(in_features=1024, out_features=4096, bias=True)\n",
            "              (intermediate_act_fn): GELUActivation()\n",
            "            )\n",
            "            (output): BertOutput(\n",
            "              (dense): Linear(in_features=4096, out_features=1024, bias=True)\n",
            "              (LayerNorm): LayerNorm((1024,), eps=1e-12, elementwise_affine=True)\n",
            "              (dropout): Dropout(p=0.1, inplace=False)\n",
            "            )\n",
            "          )\n",
            "        )\n",
            "      )\n",
            "      (pooler): BertPooler(\n",
            "        (dense): Linear(in_features=1024, out_features=1024, bias=True)\n",
            "        (activation): Tanh()\n",
            "      )\n",
            "    )\n",
            "  )\n",
            "  (word_dropout): WordDropout(p=0.05)\n",
            "  (locked_dropout): LockedDropout(p=0.5)\n",
            "  (embedding2nn): Linear(in_features=1024, out_features=1024, bias=True)\n",
            "  (rnn): LSTM(1024, 256, batch_first=True, bidirectional=True)\n",
            "  (linear): Linear(in_features=512, out_features=19, bias=True)\n",
            "  (loss_function): ViterbiLoss()\n",
            "  (crf): CRF()\n",
            ")\"\n",
            "2023-06-29 16:24:34,151 ----------------------------------------------------------------------------------------------------\n",
            "2023-06-29 16:24:34,153 Corpus: \"Corpus: 14000 train + 3500 dev + 3500 test sentences\"\n",
            "2023-06-29 16:24:34,155 ----------------------------------------------------------------------------------------------------\n",
            "2023-06-29 16:24:34,156 Parameters:\n",
            "2023-06-29 16:24:34,157  - learning_rate: \"0.100000\"\n",
            "2023-06-29 16:24:34,159  - mini_batch_size: \"16\"\n",
            "2023-06-29 16:24:34,160  - patience: \"3\"\n",
            "2023-06-29 16:24:34,161  - anneal_factor: \"0.5\"\n",
            "2023-06-29 16:24:34,166  - max_epochs: \"10\"\n",
            "2023-06-29 16:24:34,167  - shuffle: \"True\"\n",
            "2023-06-29 16:24:34,168  - train_with_dev: \"False\"\n",
            "2023-06-29 16:24:34,170  - batch_growth_annealing: \"False\"\n",
            "2023-06-29 16:24:34,171 ----------------------------------------------------------------------------------------------------\n",
            "2023-06-29 16:24:34,174 Model training base path: \"resources/bert-large/taggers/Corpus: 14000 train + 3500 dev + 3500 test sentences\"\n",
            "2023-06-29 16:24:34,176 ----------------------------------------------------------------------------------------------------\n",
            "2023-06-29 16:24:34,177 Device: cuda:0\n",
            "2023-06-29 16:24:34,179 ----------------------------------------------------------------------------------------------------\n",
            "2023-06-29 16:24:34,180 Embeddings storage mode: cpu\n",
            "2023-06-29 16:24:34,181 ----------------------------------------------------------------------------------------------------\n",
            "2023-06-29 16:24:55,286 epoch 1 - iter 87/875 - loss 0.65363787 - time (sec): 21.10 - samples/sec: 1577.19 - lr: 0.100000\n",
            "2023-06-29 16:25:16,324 epoch 1 - iter 174/875 - loss 0.53774959 - time (sec): 42.14 - samples/sec: 1564.90 - lr: 0.100000\n",
            "2023-06-29 16:25:37,212 epoch 1 - iter 261/875 - loss 0.45944444 - time (sec): 63.03 - samples/sec: 1560.06 - lr: 0.100000\n",
            "2023-06-29 16:25:59,645 epoch 1 - iter 348/875 - loss 0.40567544 - time (sec): 85.46 - samples/sec: 1530.98 - lr: 0.100000\n",
            "2023-06-29 16:26:21,776 epoch 1 - iter 435/875 - loss 0.36767568 - time (sec): 107.59 - samples/sec: 1522.72 - lr: 0.100000\n",
            "2023-06-29 16:26:45,155 epoch 1 - iter 522/875 - loss 0.34036615 - time (sec): 130.97 - samples/sec: 1496.39 - lr: 0.100000\n",
            "2023-06-29 16:27:07,223 epoch 1 - iter 609/875 - loss 0.31935782 - time (sec): 153.04 - samples/sec: 1492.78 - lr: 0.100000\n",
            "2023-06-29 16:27:30,425 epoch 1 - iter 696/875 - loss 0.30114049 - time (sec): 176.24 - samples/sec: 1488.36 - lr: 0.100000\n",
            "2023-06-29 16:27:52,598 epoch 1 - iter 783/875 - loss 0.28643949 - time (sec): 198.42 - samples/sec: 1488.10 - lr: 0.100000\n",
            "2023-06-29 16:28:15,184 epoch 1 - iter 870/875 - loss 0.27313598 - time (sec): 221.00 - samples/sec: 1488.51 - lr: 0.100000\n",
            "2023-06-29 16:28:16,317 ----------------------------------------------------------------------------------------------------\n",
            "2023-06-29 16:28:16,318 EPOCH 1 done: loss 0.2725 - lr 0.100000\n"
          ]
        },
        {
          "output_type": "stream",
          "name": "stderr",
          "text": [
            "100%|██████████| 219/219 [00:55<00:00,  3.96it/s]"
          ]
        },
        {
          "output_type": "stream",
          "name": "stdout",
          "text": [
            "2023-06-29 16:29:11,692 Evaluating as a multi-label problem: False\n"
          ]
        },
        {
          "output_type": "stream",
          "name": "stderr",
          "text": [
            "\n"
          ]
        },
        {
          "output_type": "stream",
          "name": "stdout",
          "text": [
            "2023-06-29 16:29:11,751 DEV : loss 0.11387523263692856 - f1-score (micro avg)  0.7281\n",
            "2023-06-29 16:29:11,917 BAD EPOCHS (no improvement): 0\n",
            "2023-06-29 16:29:11,919 saving best model\n",
            "2023-06-29 16:29:15,852 ----------------------------------------------------------------------------------------------------\n",
            "2023-06-29 16:29:21,103 epoch 2 - iter 87/875 - loss 0.14409497 - time (sec): 5.25 - samples/sec: 6276.87 - lr: 0.100000\n",
            "2023-06-29 16:29:26,292 epoch 2 - iter 174/875 - loss 0.13864387 - time (sec): 10.44 - samples/sec: 6222.58 - lr: 0.100000\n",
            "2023-06-29 16:29:31,451 epoch 2 - iter 261/875 - loss 0.13886518 - time (sec): 15.60 - samples/sec: 6280.99 - lr: 0.100000\n",
            "2023-06-29 16:29:36,723 epoch 2 - iter 348/875 - loss 0.13539798 - time (sec): 20.87 - samples/sec: 6276.77 - lr: 0.100000\n",
            "2023-06-29 16:29:42,108 epoch 2 - iter 435/875 - loss 0.13416663 - time (sec): 26.25 - samples/sec: 6256.25 - lr: 0.100000\n",
            "2023-06-29 16:29:47,352 epoch 2 - iter 522/875 - loss 0.13256695 - time (sec): 31.50 - samples/sec: 6261.85 - lr: 0.100000\n",
            "2023-06-29 16:29:52,785 epoch 2 - iter 609/875 - loss 0.13126254 - time (sec): 36.93 - samples/sec: 6233.28 - lr: 0.100000\n",
            "2023-06-29 16:29:57,829 epoch 2 - iter 696/875 - loss 0.12919042 - time (sec): 41.98 - samples/sec: 6263.71 - lr: 0.100000\n",
            "2023-06-29 16:30:03,085 epoch 2 - iter 783/875 - loss 0.12821723 - time (sec): 47.23 - samples/sec: 6265.97 - lr: 0.100000\n",
            "2023-06-29 16:30:08,418 epoch 2 - iter 870/875 - loss 0.12663700 - time (sec): 52.56 - samples/sec: 6254.94 - lr: 0.100000\n",
            "2023-06-29 16:30:08,747 ----------------------------------------------------------------------------------------------------\n",
            "2023-06-29 16:30:08,748 EPOCH 2 done: loss 0.1265 - lr 0.100000\n"
          ]
        },
        {
          "output_type": "stream",
          "name": "stderr",
          "text": [
            "100%|██████████| 219/219 [00:18<00:00, 11.91it/s]\n"
          ]
        },
        {
          "output_type": "stream",
          "name": "stdout",
          "text": [
            "2023-06-29 16:30:27,165 Evaluating as a multi-label problem: False\n",
            "2023-06-29 16:30:27,220 DEV : loss 0.0727551281452179 - f1-score (micro avg)  0.8035\n",
            "2023-06-29 16:30:27,386 BAD EPOCHS (no improvement): 0\n",
            "2023-06-29 16:30:27,388 saving best model\n",
            "2023-06-29 16:30:31,761 ----------------------------------------------------------------------------------------------------\n",
            "2023-06-29 16:30:37,048 epoch 3 - iter 87/875 - loss 0.10354908 - time (sec): 5.28 - samples/sec: 6228.43 - lr: 0.100000\n",
            "2023-06-29 16:30:42,237 epoch 3 - iter 174/875 - loss 0.10730704 - time (sec): 10.47 - samples/sec: 6299.93 - lr: 0.100000\n",
            "2023-06-29 16:30:47,407 epoch 3 - iter 261/875 - loss 0.10648707 - time (sec): 15.64 - samples/sec: 6311.43 - lr: 0.100000\n",
            "2023-06-29 16:30:52,583 epoch 3 - iter 348/875 - loss 0.10452464 - time (sec): 20.82 - samples/sec: 6324.18 - lr: 0.100000\n",
            "2023-06-29 16:30:57,765 epoch 3 - iter 435/875 - loss 0.10323711 - time (sec): 26.00 - samples/sec: 6321.27 - lr: 0.100000\n",
            "2023-06-29 16:31:03,036 epoch 3 - iter 522/875 - loss 0.10256068 - time (sec): 31.27 - samples/sec: 6314.90 - lr: 0.100000\n",
            "2023-06-29 16:31:08,426 epoch 3 - iter 609/875 - loss 0.10223400 - time (sec): 36.66 - samples/sec: 6299.16 - lr: 0.100000\n",
            "2023-06-29 16:31:13,557 epoch 3 - iter 696/875 - loss 0.10176787 - time (sec): 41.79 - samples/sec: 6305.88 - lr: 0.100000\n",
            "2023-06-29 16:31:19,031 epoch 3 - iter 783/875 - loss 0.10153650 - time (sec): 47.27 - samples/sec: 6272.79 - lr: 0.100000\n",
            "2023-06-29 16:31:24,009 epoch 3 - iter 870/875 - loss 0.10106404 - time (sec): 52.24 - samples/sec: 6294.06 - lr: 0.100000\n",
            "2023-06-29 16:31:24,318 ----------------------------------------------------------------------------------------------------\n",
            "2023-06-29 16:31:24,320 EPOCH 3 done: loss 0.1011 - lr 0.100000\n"
          ]
        },
        {
          "output_type": "stream",
          "name": "stderr",
          "text": [
            "100%|██████████| 219/219 [00:16<00:00, 13.24it/s]\n"
          ]
        },
        {
          "output_type": "stream",
          "name": "stdout",
          "text": [
            "2023-06-29 16:31:40,896 Evaluating as a multi-label problem: False\n",
            "2023-06-29 16:31:40,954 DEV : loss 0.05969681590795517 - f1-score (micro avg)  0.8314\n",
            "2023-06-29 16:31:41,142 BAD EPOCHS (no improvement): 0\n",
            "2023-06-29 16:31:41,144 saving best model\n",
            "2023-06-29 16:31:48,765 ----------------------------------------------------------------------------------------------------\n",
            "2023-06-29 16:31:54,176 epoch 4 - iter 87/875 - loss 0.09363043 - time (sec): 5.41 - samples/sec: 6235.13 - lr: 0.100000\n",
            "2023-06-29 16:31:59,498 epoch 4 - iter 174/875 - loss 0.09730064 - time (sec): 10.73 - samples/sec: 6119.31 - lr: 0.100000\n",
            "2023-06-29 16:32:04,615 epoch 4 - iter 261/875 - loss 0.09454470 - time (sec): 15.85 - samples/sec: 6214.96 - lr: 0.100000\n",
            "2023-06-29 16:32:09,715 epoch 4 - iter 348/875 - loss 0.09362170 - time (sec): 20.95 - samples/sec: 6284.90 - lr: 0.100000\n",
            "2023-06-29 16:32:14,961 epoch 4 - iter 435/875 - loss 0.09208471 - time (sec): 26.19 - samples/sec: 6291.08 - lr: 0.100000\n",
            "2023-06-29 16:32:19,973 epoch 4 - iter 522/875 - loss 0.09160317 - time (sec): 31.20 - samples/sec: 6318.76 - lr: 0.100000\n",
            "2023-06-29 16:32:25,142 epoch 4 - iter 609/875 - loss 0.09030527 - time (sec): 36.37 - samples/sec: 6339.55 - lr: 0.100000\n",
            "2023-06-29 16:32:30,654 epoch 4 - iter 696/875 - loss 0.09042195 - time (sec): 41.89 - samples/sec: 6283.22 - lr: 0.100000\n",
            "2023-06-29 16:32:35,755 epoch 4 - iter 783/875 - loss 0.09074196 - time (sec): 46.99 - samples/sec: 6293.91 - lr: 0.100000\n",
            "2023-06-29 16:32:41,170 epoch 4 - iter 870/875 - loss 0.09030979 - time (sec): 52.40 - samples/sec: 6275.75 - lr: 0.100000\n",
            "2023-06-29 16:32:41,488 ----------------------------------------------------------------------------------------------------\n",
            "2023-06-29 16:32:41,490 EPOCH 4 done: loss 0.0903 - lr 0.100000\n"
          ]
        },
        {
          "output_type": "stream",
          "name": "stderr",
          "text": [
            "100%|██████████| 219/219 [00:16<00:00, 13.15it/s]\n"
          ]
        },
        {
          "output_type": "stream",
          "name": "stdout",
          "text": [
            "2023-06-29 16:32:58,236 Evaluating as a multi-label problem: False\n",
            "2023-06-29 16:32:58,290 DEV : loss 0.05678407475352287 - f1-score (micro avg)  0.8422\n",
            "2023-06-29 16:32:58,471 BAD EPOCHS (no improvement): 0\n",
            "2023-06-29 16:32:58,473 saving best model\n",
            "2023-06-29 16:33:02,899 ----------------------------------------------------------------------------------------------------\n",
            "2023-06-29 16:33:08,191 epoch 5 - iter 87/875 - loss 0.08138559 - time (sec): 5.29 - samples/sec: 6098.30 - lr: 0.100000\n",
            "2023-06-29 16:33:13,414 epoch 5 - iter 174/875 - loss 0.08558269 - time (sec): 10.51 - samples/sec: 6214.15 - lr: 0.100000\n",
            "2023-06-29 16:33:18,533 epoch 5 - iter 261/875 - loss 0.08387650 - time (sec): 15.63 - samples/sec: 6284.66 - lr: 0.100000\n",
            "2023-06-29 16:33:24,032 epoch 5 - iter 348/875 - loss 0.08427503 - time (sec): 21.13 - samples/sec: 6223.54 - lr: 0.100000\n",
            "2023-06-29 16:33:29,142 epoch 5 - iter 435/875 - loss 0.08443845 - time (sec): 26.24 - samples/sec: 6241.38 - lr: 0.100000\n",
            "2023-06-29 16:33:34,586 epoch 5 - iter 522/875 - loss 0.08442178 - time (sec): 31.68 - samples/sec: 6233.90 - lr: 0.100000\n",
            "2023-06-29 16:33:39,647 epoch 5 - iter 609/875 - loss 0.08396900 - time (sec): 36.74 - samples/sec: 6249.47 - lr: 0.100000\n",
            "2023-06-29 16:33:44,974 epoch 5 - iter 696/875 - loss 0.08398299 - time (sec): 42.07 - samples/sec: 6244.17 - lr: 0.100000\n",
            "2023-06-29 16:33:50,425 epoch 5 - iter 783/875 - loss 0.08374456 - time (sec): 47.52 - samples/sec: 6229.44 - lr: 0.100000\n",
            "2023-06-29 16:33:55,644 epoch 5 - iter 870/875 - loss 0.08324839 - time (sec): 52.74 - samples/sec: 6238.66 - lr: 0.100000\n",
            "2023-06-29 16:33:55,935 ----------------------------------------------------------------------------------------------------\n",
            "2023-06-29 16:33:55,937 EPOCH 5 done: loss 0.0832 - lr 0.100000\n"
          ]
        },
        {
          "output_type": "stream",
          "name": "stderr",
          "text": [
            "100%|██████████| 219/219 [00:16<00:00, 13.07it/s]\n"
          ]
        },
        {
          "output_type": "stream",
          "name": "stdout",
          "text": [
            "2023-06-29 16:34:12,718 Evaluating as a multi-label problem: False\n",
            "2023-06-29 16:34:12,772 DEV : loss 0.05374618247151375 - f1-score (micro avg)  0.8471\n",
            "2023-06-29 16:34:12,950 BAD EPOCHS (no improvement): 0\n",
            "2023-06-29 16:34:12,952 saving best model\n",
            "2023-06-29 16:34:24,242 ----------------------------------------------------------------------------------------------------\n",
            "2023-06-29 16:34:29,442 epoch 6 - iter 87/875 - loss 0.07758152 - time (sec): 5.20 - samples/sec: 6417.60 - lr: 0.100000\n",
            "2023-06-29 16:34:34,765 epoch 6 - iter 174/875 - loss 0.07791626 - time (sec): 10.52 - samples/sec: 6290.28 - lr: 0.100000\n",
            "2023-06-29 16:34:40,046 epoch 6 - iter 261/875 - loss 0.07806967 - time (sec): 15.80 - samples/sec: 6275.54 - lr: 0.100000\n",
            "2023-06-29 16:34:45,318 epoch 6 - iter 348/875 - loss 0.07882791 - time (sec): 21.07 - samples/sec: 6264.26 - lr: 0.100000\n",
            "2023-06-29 16:34:50,605 epoch 6 - iter 435/875 - loss 0.07881809 - time (sec): 26.36 - samples/sec: 6243.18 - lr: 0.100000\n",
            "2023-06-29 16:34:55,643 epoch 6 - iter 522/875 - loss 0.07835527 - time (sec): 31.40 - samples/sec: 6281.49 - lr: 0.100000\n",
            "2023-06-29 16:35:01,061 epoch 6 - iter 609/875 - loss 0.07743482 - time (sec): 36.82 - samples/sec: 6227.69 - lr: 0.100000\n",
            "2023-06-29 16:35:06,156 epoch 6 - iter 696/875 - loss 0.07719003 - time (sec): 41.91 - samples/sec: 6271.56 - lr: 0.100000\n",
            "2023-06-29 16:35:11,439 epoch 6 - iter 783/875 - loss 0.07711270 - time (sec): 47.20 - samples/sec: 6277.34 - lr: 0.100000\n",
            "2023-06-29 16:35:16,832 epoch 6 - iter 870/875 - loss 0.07701322 - time (sec): 52.59 - samples/sec: 6255.97 - lr: 0.100000\n",
            "2023-06-29 16:35:17,134 ----------------------------------------------------------------------------------------------------\n",
            "2023-06-29 16:35:17,135 EPOCH 6 done: loss 0.0771 - lr 0.100000\n"
          ]
        },
        {
          "output_type": "stream",
          "name": "stderr",
          "text": [
            "100%|██████████| 219/219 [00:18<00:00, 11.74it/s]\n"
          ]
        },
        {
          "output_type": "stream",
          "name": "stdout",
          "text": [
            "2023-06-29 16:35:35,818 Evaluating as a multi-label problem: False\n",
            "2023-06-29 16:35:35,876 DEV : loss 0.051621437072753906 - f1-score (micro avg)  0.851\n",
            "2023-06-29 16:35:36,043 BAD EPOCHS (no improvement): 0\n",
            "2023-06-29 16:35:36,045 saving best model\n",
            "2023-06-29 16:35:41,781 ----------------------------------------------------------------------------------------------------\n",
            "2023-06-29 16:35:47,162 epoch 7 - iter 87/875 - loss 0.07637501 - time (sec): 5.38 - samples/sec: 6081.09 - lr: 0.100000\n",
            "2023-06-29 16:35:52,252 epoch 7 - iter 174/875 - loss 0.07166163 - time (sec): 10.47 - samples/sec: 6228.01 - lr: 0.100000\n",
            "2023-06-29 16:35:57,539 epoch 7 - iter 261/875 - loss 0.07160150 - time (sec): 15.75 - samples/sec: 6200.43 - lr: 0.100000\n",
            "2023-06-29 16:36:02,681 epoch 7 - iter 348/875 - loss 0.07271073 - time (sec): 20.90 - samples/sec: 6249.75 - lr: 0.100000\n",
            "2023-06-29 16:36:07,651 epoch 7 - iter 435/875 - loss 0.07366257 - time (sec): 25.87 - samples/sec: 6294.69 - lr: 0.100000\n",
            "2023-06-29 16:36:12,867 epoch 7 - iter 522/875 - loss 0.07430964 - time (sec): 31.08 - samples/sec: 6296.63 - lr: 0.100000\n",
            "2023-06-29 16:36:17,959 epoch 7 - iter 609/875 - loss 0.07440982 - time (sec): 36.18 - samples/sec: 6324.20 - lr: 0.100000\n",
            "2023-06-29 16:36:23,374 epoch 7 - iter 696/875 - loss 0.07393872 - time (sec): 41.59 - samples/sec: 6302.56 - lr: 0.100000\n",
            "2023-06-29 16:36:28,714 epoch 7 - iter 783/875 - loss 0.07405404 - time (sec): 46.93 - samples/sec: 6298.64 - lr: 0.100000\n",
            "2023-06-29 16:36:33,883 epoch 7 - iter 870/875 - loss 0.07414496 - time (sec): 52.10 - samples/sec: 6312.09 - lr: 0.100000\n",
            "2023-06-29 16:36:34,213 ----------------------------------------------------------------------------------------------------\n",
            "2023-06-29 16:36:34,216 EPOCH 7 done: loss 0.0741 - lr 0.100000\n"
          ]
        },
        {
          "output_type": "stream",
          "name": "stderr",
          "text": [
            "100%|██████████| 219/219 [00:16<00:00, 13.01it/s]"
          ]
        },
        {
          "output_type": "stream",
          "name": "stdout",
          "text": [
            "2023-06-29 16:36:51,084 Evaluating as a multi-label problem: False\n",
            "2023-06-29 16:36:51,141 DEV : loss 0.05017060041427612 - f1-score (micro avg)  0.8554\n"
          ]
        },
        {
          "output_type": "stream",
          "name": "stderr",
          "text": [
            "\n"
          ]
        },
        {
          "output_type": "stream",
          "name": "stdout",
          "text": [
            "2023-06-29 16:36:51,321 BAD EPOCHS (no improvement): 0\n",
            "2023-06-29 16:36:51,323 saving best model\n",
            "2023-06-29 16:36:57,702 ----------------------------------------------------------------------------------------------------\n",
            "2023-06-29 16:37:02,733 epoch 8 - iter 87/875 - loss 0.07030763 - time (sec): 5.03 - samples/sec: 6365.19 - lr: 0.100000\n",
            "2023-06-29 16:37:08,029 epoch 8 - iter 174/875 - loss 0.07126479 - time (sec): 10.32 - samples/sec: 6329.67 - lr: 0.100000\n",
            "2023-06-29 16:37:13,165 epoch 8 - iter 261/875 - loss 0.07094757 - time (sec): 15.46 - samples/sec: 6361.52 - lr: 0.100000\n",
            "2023-06-29 16:37:18,225 epoch 8 - iter 348/875 - loss 0.07097178 - time (sec): 20.52 - samples/sec: 6407.39 - lr: 0.100000\n",
            "2023-06-29 16:37:23,839 epoch 8 - iter 435/875 - loss 0.07040820 - time (sec): 26.13 - samples/sec: 6309.17 - lr: 0.100000\n",
            "2023-06-29 16:37:28,977 epoch 8 - iter 522/875 - loss 0.07037933 - time (sec): 31.27 - samples/sec: 6321.18 - lr: 0.100000\n",
            "2023-06-29 16:37:34,378 epoch 8 - iter 609/875 - loss 0.07016998 - time (sec): 36.67 - samples/sec: 6273.93 - lr: 0.100000\n",
            "2023-06-29 16:37:39,706 epoch 8 - iter 696/875 - loss 0.07100785 - time (sec): 42.00 - samples/sec: 6252.73 - lr: 0.100000\n",
            "2023-06-29 16:37:44,949 epoch 8 - iter 783/875 - loss 0.07058945 - time (sec): 47.24 - samples/sec: 6267.40 - lr: 0.100000\n",
            "2023-06-29 16:37:50,488 epoch 8 - iter 870/875 - loss 0.07107315 - time (sec): 52.78 - samples/sec: 6233.73 - lr: 0.100000\n",
            "2023-06-29 16:37:50,778 ----------------------------------------------------------------------------------------------------\n",
            "2023-06-29 16:37:50,780 EPOCH 8 done: loss 0.0710 - lr 0.100000\n"
          ]
        },
        {
          "output_type": "stream",
          "name": "stderr",
          "text": [
            "100%|██████████| 219/219 [00:16<00:00, 13.09it/s]"
          ]
        },
        {
          "output_type": "stream",
          "name": "stdout",
          "text": [
            "2023-06-29 16:38:07,540 Evaluating as a multi-label problem: False\n",
            "2023-06-29 16:38:07,595 DEV : loss 0.04940294846892357 - f1-score (micro avg)  0.8506\n"
          ]
        },
        {
          "output_type": "stream",
          "name": "stderr",
          "text": [
            "\n"
          ]
        },
        {
          "output_type": "stream",
          "name": "stdout",
          "text": [
            "2023-06-29 16:38:07,767 BAD EPOCHS (no improvement): 1\n",
            "2023-06-29 16:38:07,769 ----------------------------------------------------------------------------------------------------\n",
            "2023-06-29 16:38:12,711 epoch 9 - iter 87/875 - loss 0.07046653 - time (sec): 4.94 - samples/sec: 6494.70 - lr: 0.100000\n",
            "2023-06-29 16:38:18,107 epoch 9 - iter 174/875 - loss 0.06699703 - time (sec): 10.34 - samples/sec: 6306.20 - lr: 0.100000\n",
            "2023-06-29 16:38:23,374 epoch 9 - iter 261/875 - loss 0.06741478 - time (sec): 15.60 - samples/sec: 6264.86 - lr: 0.100000\n",
            "2023-06-29 16:38:28,678 epoch 9 - iter 348/875 - loss 0.06715527 - time (sec): 20.91 - samples/sec: 6301.97 - lr: 0.100000\n",
            "2023-06-29 16:38:34,008 epoch 9 - iter 435/875 - loss 0.06815292 - time (sec): 26.24 - samples/sec: 6269.13 - lr: 0.100000\n",
            "2023-06-29 16:38:39,307 epoch 9 - iter 522/875 - loss 0.06918112 - time (sec): 31.54 - samples/sec: 6261.62 - lr: 0.100000\n",
            "2023-06-29 16:38:44,646 epoch 9 - iter 609/875 - loss 0.06897107 - time (sec): 36.88 - samples/sec: 6242.03 - lr: 0.100000\n",
            "2023-06-29 16:38:49,911 epoch 9 - iter 696/875 - loss 0.06998564 - time (sec): 42.14 - samples/sec: 6237.58 - lr: 0.100000\n",
            "2023-06-29 16:38:55,068 epoch 9 - iter 783/875 - loss 0.07005361 - time (sec): 47.30 - samples/sec: 6265.31 - lr: 0.100000\n",
            "2023-06-29 16:39:00,398 epoch 9 - iter 870/875 - loss 0.06987504 - time (sec): 52.63 - samples/sec: 6248.36 - lr: 0.100000\n",
            "2023-06-29 16:39:00,760 ----------------------------------------------------------------------------------------------------\n",
            "2023-06-29 16:39:00,762 EPOCH 9 done: loss 0.0699 - lr 0.100000\n"
          ]
        },
        {
          "output_type": "stream",
          "name": "stderr",
          "text": [
            "100%|██████████| 219/219 [00:18<00:00, 11.84it/s]\n"
          ]
        },
        {
          "output_type": "stream",
          "name": "stdout",
          "text": [
            "2023-06-29 16:39:19,285 Evaluating as a multi-label problem: False\n",
            "2023-06-29 16:39:19,342 DEV : loss 0.04918812960386276 - f1-score (micro avg)  0.8565\n",
            "2023-06-29 16:39:19,523 BAD EPOCHS (no improvement): 0\n",
            "2023-06-29 16:39:19,525 saving best model\n",
            "2023-06-29 16:39:24,519 ----------------------------------------------------------------------------------------------------\n",
            "2023-06-29 16:39:29,961 epoch 10 - iter 87/875 - loss 0.06782285 - time (sec): 5.44 - samples/sec: 6113.77 - lr: 0.100000\n",
            "2023-06-29 16:39:35,306 epoch 10 - iter 174/875 - loss 0.06697334 - time (sec): 10.79 - samples/sec: 6191.83 - lr: 0.100000\n",
            "2023-06-29 16:39:40,440 epoch 10 - iter 261/875 - loss 0.06591217 - time (sec): 15.92 - samples/sec: 6226.81 - lr: 0.100000\n",
            "2023-06-29 16:39:45,752 epoch 10 - iter 348/875 - loss 0.06727065 - time (sec): 21.23 - samples/sec: 6228.20 - lr: 0.100000\n",
            "2023-06-29 16:39:50,902 epoch 10 - iter 435/875 - loss 0.06717076 - time (sec): 26.38 - samples/sec: 6239.40 - lr: 0.100000\n",
            "2023-06-29 16:39:56,303 epoch 10 - iter 522/875 - loss 0.06750690 - time (sec): 31.78 - samples/sec: 6203.37 - lr: 0.100000\n",
            "2023-06-29 16:40:01,327 epoch 10 - iter 609/875 - loss 0.06748195 - time (sec): 36.81 - samples/sec: 6225.28 - lr: 0.100000\n",
            "2023-06-29 16:40:06,551 epoch 10 - iter 696/875 - loss 0.06708704 - time (sec): 42.03 - samples/sec: 6237.10 - lr: 0.100000\n",
            "2023-06-29 16:40:12,102 epoch 10 - iter 783/875 - loss 0.06737822 - time (sec): 47.58 - samples/sec: 6212.10 - lr: 0.100000\n",
            "2023-06-29 16:40:17,236 epoch 10 - iter 870/875 - loss 0.06710777 - time (sec): 52.72 - samples/sec: 6240.72 - lr: 0.100000\n",
            "2023-06-29 16:40:17,526 ----------------------------------------------------------------------------------------------------\n",
            "2023-06-29 16:40:17,528 EPOCH 10 done: loss 0.0673 - lr 0.100000\n"
          ]
        },
        {
          "output_type": "stream",
          "name": "stderr",
          "text": [
            "100%|██████████| 219/219 [00:16<00:00, 13.01it/s]\n"
          ]
        },
        {
          "output_type": "stream",
          "name": "stdout",
          "text": [
            "2023-06-29 16:40:34,388 Evaluating as a multi-label problem: False\n",
            "2023-06-29 16:40:34,445 DEV : loss 0.05015089362859726 - f1-score (micro avg)  0.8552\n",
            "2023-06-29 16:40:34,618 BAD EPOCHS (no improvement): 1\n",
            "2023-06-29 16:40:39,170 ----------------------------------------------------------------------------------------------------\n",
            "2023-06-29 16:40:43,848 SequenceTagger predicts: Dictionary with 19 tags: O, S-LOC, B-LOC, E-LOC, I-LOC, S-PER, B-PER, E-PER, I-PER, S-MISC, B-MISC, E-MISC, I-MISC, S-ORG, B-ORG, E-ORG, I-ORG, <START>, <STOP>\n"
          ]
        },
        {
          "output_type": "stream",
          "name": "stderr",
          "text": [
            "100%|██████████| 219/219 [00:54<00:00,  4.04it/s]"
          ]
        },
        {
          "output_type": "stream",
          "name": "stdout",
          "text": [
            "2023-06-29 16:41:38,433 Evaluating as a multi-label problem: False\n"
          ]
        },
        {
          "output_type": "stream",
          "name": "stderr",
          "text": [
            "\n"
          ]
        },
        {
          "output_type": "stream",
          "name": "stdout",
          "text": [
            "2023-06-29 16:41:38,493 0.8641\t0.8408\t0.8523\t0.7797\n",
            "2023-06-29 16:41:38,495 \n",
            "Results:\n",
            "- F-score (micro) 0.8523\n",
            "- F-score (macro) 0.8517\n",
            "- Accuracy 0.7797\n",
            "\n",
            "By class:\n",
            "              precision    recall  f1-score   support\n",
            "\n",
            "         LOC     0.8322    0.8674    0.8494      1772\n",
            "         PER     0.9465    0.9178    0.9320      1582\n",
            "        MISC     0.8045    0.7295    0.7651      1534\n",
            "         ORG     0.8787    0.8425    0.8602      1092\n",
            "\n",
            "   micro avg     0.8641    0.8408    0.8523      5980\n",
            "   macro avg     0.8655    0.8393    0.8517      5980\n",
            "weighted avg     0.8638    0.8408    0.8516      5980\n",
            "\n",
            "2023-06-29 16:41:38,497 ----------------------------------------------------------------------------------------------------\n",
            "2023-06-29 16:41:38,500 Computing label dictionary. Progress:\n"
          ]
        },
        {
          "output_type": "stream",
          "name": "stderr",
          "text": [
            "14041it [00:00, 53102.51it/s]"
          ]
        },
        {
          "output_type": "stream",
          "name": "stdout",
          "text": [
            "2023-06-29 16:41:38,773 Dictionary created for label 'ner' with 5 values: LOC (seen 7140 times), PER (seen 6600 times), ORG (seen 6321 times), MISC (seen 3438 times)\n"
          ]
        },
        {
          "output_type": "stream",
          "name": "stderr",
          "text": [
            "\n"
          ]
        },
        {
          "output_type": "stream",
          "name": "stdout",
          "text": [
            "2023-06-29 16:41:42,451 SequenceTagger predicts: Dictionary with 17 tags: O, S-LOC, B-LOC, E-LOC, I-LOC, S-PER, B-PER, E-PER, I-PER, S-ORG, B-ORG, E-ORG, I-ORG, S-MISC, B-MISC, E-MISC, I-MISC\n",
            "2023-06-29 16:41:42,487 ----------------------------------------------------------------------------------------------------\n",
            "2023-06-29 16:41:42,490 Model: \"SequenceTagger(\n",
            "  (embeddings): TransformerWordEmbeddings(\n",
            "    (model): BertModel(\n",
            "      (embeddings): BertEmbeddings(\n",
            "        (word_embeddings): Embedding(30523, 1024)\n",
            "        (position_embeddings): Embedding(512, 1024)\n",
            "        (token_type_embeddings): Embedding(2, 1024)\n",
            "        (LayerNorm): LayerNorm((1024,), eps=1e-12, elementwise_affine=True)\n",
            "        (dropout): Dropout(p=0.1, inplace=False)\n",
            "      )\n",
            "      (encoder): BertEncoder(\n",
            "        (layer): ModuleList(\n",
            "          (0-23): 24 x BertLayer(\n",
            "            (attention): BertAttention(\n",
            "              (self): BertSelfAttention(\n",
            "                (query): Linear(in_features=1024, out_features=1024, bias=True)\n",
            "                (key): Linear(in_features=1024, out_features=1024, bias=True)\n",
            "                (value): Linear(in_features=1024, out_features=1024, bias=True)\n",
            "                (dropout): Dropout(p=0.1, inplace=False)\n",
            "              )\n",
            "              (output): BertSelfOutput(\n",
            "                (dense): Linear(in_features=1024, out_features=1024, bias=True)\n",
            "                (LayerNorm): LayerNorm((1024,), eps=1e-12, elementwise_affine=True)\n",
            "                (dropout): Dropout(p=0.1, inplace=False)\n",
            "              )\n",
            "            )\n",
            "            (intermediate): BertIntermediate(\n",
            "              (dense): Linear(in_features=1024, out_features=4096, bias=True)\n",
            "              (intermediate_act_fn): GELUActivation()\n",
            "            )\n",
            "            (output): BertOutput(\n",
            "              (dense): Linear(in_features=4096, out_features=1024, bias=True)\n",
            "              (LayerNorm): LayerNorm((1024,), eps=1e-12, elementwise_affine=True)\n",
            "              (dropout): Dropout(p=0.1, inplace=False)\n",
            "            )\n",
            "          )\n",
            "        )\n",
            "      )\n",
            "      (pooler): BertPooler(\n",
            "        (dense): Linear(in_features=1024, out_features=1024, bias=True)\n",
            "        (activation): Tanh()\n",
            "      )\n",
            "    )\n",
            "  )\n",
            "  (word_dropout): WordDropout(p=0.05)\n",
            "  (locked_dropout): LockedDropout(p=0.5)\n",
            "  (embedding2nn): Linear(in_features=1024, out_features=1024, bias=True)\n",
            "  (rnn): LSTM(1024, 256, batch_first=True, bidirectional=True)\n",
            "  (linear): Linear(in_features=512, out_features=19, bias=True)\n",
            "  (loss_function): ViterbiLoss()\n",
            "  (crf): CRF()\n",
            ")\"\n",
            "2023-06-29 16:41:42,492 ----------------------------------------------------------------------------------------------------\n",
            "2023-06-29 16:41:42,494 Corpus: \"Corpus: 14041 train + 3250 dev + 3453 test sentences\"\n",
            "2023-06-29 16:41:42,495 ----------------------------------------------------------------------------------------------------\n",
            "2023-06-29 16:41:42,498 Parameters:\n",
            "2023-06-29 16:41:42,499  - learning_rate: \"0.100000\"\n",
            "2023-06-29 16:41:42,500  - mini_batch_size: \"16\"\n",
            "2023-06-29 16:41:42,501  - patience: \"3\"\n",
            "2023-06-29 16:41:42,502  - anneal_factor: \"0.5\"\n",
            "2023-06-29 16:41:42,503  - max_epochs: \"10\"\n",
            "2023-06-29 16:41:42,506  - shuffle: \"True\"\n",
            "2023-06-29 16:41:42,507  - train_with_dev: \"False\"\n",
            "2023-06-29 16:41:42,508  - batch_growth_annealing: \"False\"\n",
            "2023-06-29 16:41:42,509 ----------------------------------------------------------------------------------------------------\n",
            "2023-06-29 16:41:42,517 Model training base path: \"resources/bert-large/taggers/Corpus: 14041 train + 3250 dev + 3453 test sentences\"\n",
            "2023-06-29 16:41:42,519 ----------------------------------------------------------------------------------------------------\n",
            "2023-06-29 16:41:42,520 Device: cuda:0\n",
            "2023-06-29 16:41:42,522 ----------------------------------------------------------------------------------------------------\n",
            "2023-06-29 16:41:42,524 Embeddings storage mode: cpu\n",
            "2023-06-29 16:41:42,526 ----------------------------------------------------------------------------------------------------\n",
            "2023-06-29 16:41:57,176 epoch 1 - iter 87/878 - loss 0.87234065 - time (sec): 14.65 - samples/sec: 1324.65 - lr: 0.100000\n",
            "2023-06-29 16:42:12,482 epoch 1 - iter 174/878 - loss 0.69496537 - time (sec): 29.95 - samples/sec: 1296.78 - lr: 0.100000\n",
            "2023-06-29 16:42:26,236 epoch 1 - iter 261/878 - loss 0.59533618 - time (sec): 43.71 - samples/sec: 1298.86 - lr: 0.100000\n",
            "2023-06-29 16:42:38,028 epoch 1 - iter 348/878 - loss 0.53333909 - time (sec): 55.50 - samples/sec: 1315.58 - lr: 0.100000\n",
            "2023-06-29 16:42:51,011 epoch 1 - iter 435/878 - loss 0.48117510 - time (sec): 68.48 - samples/sec: 1325.09 - lr: 0.100000\n",
            "2023-06-29 16:43:06,032 epoch 1 - iter 522/878 - loss 0.43577005 - time (sec): 83.50 - samples/sec: 1343.74 - lr: 0.100000\n",
            "2023-06-29 16:43:22,498 epoch 1 - iter 609/878 - loss 0.40274592 - time (sec): 99.97 - samples/sec: 1340.56 - lr: 0.100000\n",
            "2023-06-29 16:43:37,565 epoch 1 - iter 696/878 - loss 0.37893994 - time (sec): 115.04 - samples/sec: 1339.33 - lr: 0.100000\n",
            "2023-06-29 16:43:57,271 epoch 1 - iter 783/878 - loss 0.35475175 - time (sec): 134.74 - samples/sec: 1317.33 - lr: 0.100000\n",
            "2023-06-29 16:44:15,450 epoch 1 - iter 870/878 - loss 0.33335537 - time (sec): 152.92 - samples/sec: 1320.75 - lr: 0.100000\n",
            "2023-06-29 16:44:16,545 ----------------------------------------------------------------------------------------------------\n",
            "2023-06-29 16:44:16,547 EPOCH 1 done: loss 0.3320 - lr 0.100000\n"
          ]
        },
        {
          "output_type": "stream",
          "name": "stderr",
          "text": [
            "100%|██████████| 204/204 [00:40<00:00,  4.98it/s]"
          ]
        },
        {
          "output_type": "stream",
          "name": "stdout",
          "text": [
            "2023-06-29 16:44:57,526 Evaluating as a multi-label problem: False\n",
            "2023-06-29 16:44:57,578 DEV : loss 0.11352913081645966 - f1-score (micro avg)  0.8484\n"
          ]
        },
        {
          "output_type": "stream",
          "name": "stderr",
          "text": [
            "\n"
          ]
        },
        {
          "output_type": "stream",
          "name": "stdout",
          "text": [
            "2023-06-29 16:44:57,703 BAD EPOCHS (no improvement): 0\n",
            "2023-06-29 16:44:57,705 saving best model\n",
            "2023-06-29 16:45:09,711 ----------------------------------------------------------------------------------------------------\n",
            "2023-06-29 16:45:13,883 epoch 2 - iter 87/878 - loss 0.16166275 - time (sec): 4.17 - samples/sec: 4945.29 - lr: 0.100000\n",
            "2023-06-29 16:45:17,944 epoch 2 - iter 174/878 - loss 0.16868525 - time (sec): 8.23 - samples/sec: 4879.12 - lr: 0.100000\n",
            "2023-06-29 16:45:22,530 epoch 2 - iter 261/878 - loss 0.16579732 - time (sec): 12.82 - samples/sec: 4776.74 - lr: 0.100000\n",
            "2023-06-29 16:45:26,641 epoch 2 - iter 348/878 - loss 0.16080595 - time (sec): 16.93 - samples/sec: 4790.94 - lr: 0.100000\n",
            "2023-06-29 16:45:30,886 epoch 2 - iter 435/878 - loss 0.15696490 - time (sec): 21.17 - samples/sec: 4807.34 - lr: 0.100000\n",
            "2023-06-29 16:45:35,234 epoch 2 - iter 522/878 - loss 0.15448071 - time (sec): 25.52 - samples/sec: 4782.50 - lr: 0.100000\n",
            "2023-06-29 16:45:39,322 epoch 2 - iter 609/878 - loss 0.15478617 - time (sec): 29.61 - samples/sec: 4784.92 - lr: 0.100000\n",
            "2023-06-29 16:45:43,408 epoch 2 - iter 696/878 - loss 0.15182103 - time (sec): 33.70 - samples/sec: 4793.66 - lr: 0.100000\n",
            "2023-06-29 16:45:47,682 epoch 2 - iter 783/878 - loss 0.15073174 - time (sec): 37.97 - samples/sec: 4796.48 - lr: 0.100000\n",
            "2023-06-29 16:45:51,900 epoch 2 - iter 870/878 - loss 0.14912491 - time (sec): 42.19 - samples/sec: 4785.53 - lr: 0.100000\n",
            "2023-06-29 16:45:52,271 ----------------------------------------------------------------------------------------------------\n",
            "2023-06-29 16:45:52,273 EPOCH 2 done: loss 0.1488 - lr 0.100000\n"
          ]
        },
        {
          "output_type": "stream",
          "name": "stderr",
          "text": [
            "100%|██████████| 204/204 [00:11<00:00, 17.54it/s]"
          ]
        },
        {
          "output_type": "stream",
          "name": "stdout",
          "text": [
            "2023-06-29 16:46:03,924 Evaluating as a multi-label problem: False\n",
            "2023-06-29 16:46:03,982 DEV : loss 0.08157515525817871 - f1-score (micro avg)  0.8784\n"
          ]
        },
        {
          "output_type": "stream",
          "name": "stderr",
          "text": [
            "\n"
          ]
        },
        {
          "output_type": "stream",
          "name": "stdout",
          "text": [
            "2023-06-29 16:46:04,111 BAD EPOCHS (no improvement): 0\n",
            "2023-06-29 16:46:04,114 saving best model\n",
            "2023-06-29 16:46:08,790 ----------------------------------------------------------------------------------------------------\n",
            "2023-06-29 16:46:12,867 epoch 3 - iter 87/878 - loss 0.12574622 - time (sec): 4.07 - samples/sec: 4722.78 - lr: 0.100000\n",
            "2023-06-29 16:46:17,265 epoch 3 - iter 174/878 - loss 0.12455950 - time (sec): 8.47 - samples/sec: 4723.76 - lr: 0.100000\n",
            "2023-06-29 16:46:21,394 epoch 3 - iter 261/878 - loss 0.12699562 - time (sec): 12.60 - samples/sec: 4760.93 - lr: 0.100000\n",
            "2023-06-29 16:46:25,537 epoch 3 - iter 348/878 - loss 0.12478566 - time (sec): 16.74 - samples/sec: 4797.04 - lr: 0.100000\n",
            "2023-06-29 16:46:29,830 epoch 3 - iter 435/878 - loss 0.12441297 - time (sec): 21.04 - samples/sec: 4788.61 - lr: 0.100000\n",
            "2023-06-29 16:46:34,107 epoch 3 - iter 522/878 - loss 0.12212494 - time (sec): 25.31 - samples/sec: 4764.21 - lr: 0.100000\n",
            "2023-06-29 16:46:38,295 epoch 3 - iter 609/878 - loss 0.12232487 - time (sec): 29.50 - samples/sec: 4781.45 - lr: 0.100000\n",
            "2023-06-29 16:46:42,604 epoch 3 - iter 696/878 - loss 0.12072023 - time (sec): 33.81 - samples/sec: 4786.75 - lr: 0.100000\n",
            "2023-06-29 16:46:47,032 epoch 3 - iter 783/878 - loss 0.11906251 - time (sec): 38.24 - samples/sec: 4751.03 - lr: 0.100000\n",
            "2023-06-29 16:46:51,254 epoch 3 - iter 870/878 - loss 0.11905572 - time (sec): 42.46 - samples/sec: 4753.28 - lr: 0.100000\n",
            "2023-06-29 16:46:51,623 ----------------------------------------------------------------------------------------------------\n",
            "2023-06-29 16:46:51,625 EPOCH 3 done: loss 0.1191 - lr 0.100000\n"
          ]
        },
        {
          "output_type": "stream",
          "name": "stderr",
          "text": [
            "100%|██████████| 204/204 [00:14<00:00, 14.56it/s]"
          ]
        },
        {
          "output_type": "stream",
          "name": "stdout",
          "text": [
            "2023-06-29 16:47:05,664 Evaluating as a multi-label problem: False\n",
            "2023-06-29 16:47:05,716 DEV : loss 0.06585428863763809 - f1-score (micro avg)  0.8931\n"
          ]
        },
        {
          "output_type": "stream",
          "name": "stderr",
          "text": [
            "\n"
          ]
        },
        {
          "output_type": "stream",
          "name": "stdout",
          "text": [
            "2023-06-29 16:47:05,839 BAD EPOCHS (no improvement): 0\n",
            "2023-06-29 16:47:05,841 saving best model\n",
            "2023-06-29 16:47:11,889 ----------------------------------------------------------------------------------------------------\n",
            "2023-06-29 16:47:16,177 epoch 4 - iter 87/878 - loss 0.10756002 - time (sec): 4.29 - samples/sec: 4614.82 - lr: 0.100000\n",
            "2023-06-29 16:47:20,262 epoch 4 - iter 174/878 - loss 0.10679980 - time (sec): 8.37 - samples/sec: 4775.95 - lr: 0.100000\n",
            "2023-06-29 16:47:24,343 epoch 4 - iter 261/878 - loss 0.10570823 - time (sec): 12.45 - samples/sec: 4802.27 - lr: 0.100000\n",
            "2023-06-29 16:47:28,811 epoch 4 - iter 348/878 - loss 0.10573649 - time (sec): 16.92 - samples/sec: 4760.99 - lr: 0.100000\n",
            "2023-06-29 16:47:33,066 epoch 4 - iter 435/878 - loss 0.10586786 - time (sec): 21.17 - samples/sec: 4768.97 - lr: 0.100000\n",
            "2023-06-29 16:47:37,238 epoch 4 - iter 522/878 - loss 0.10501933 - time (sec): 25.35 - samples/sec: 4787.88 - lr: 0.100000\n",
            "2023-06-29 16:47:41,597 epoch 4 - iter 609/878 - loss 0.10398691 - time (sec): 29.71 - samples/sec: 4761.60 - lr: 0.100000\n",
            "2023-06-29 16:47:45,793 epoch 4 - iter 696/878 - loss 0.10429090 - time (sec): 33.90 - samples/sec: 4774.88 - lr: 0.100000\n",
            "2023-06-29 16:47:49,954 epoch 4 - iter 783/878 - loss 0.10413975 - time (sec): 38.06 - samples/sec: 4784.80 - lr: 0.100000\n",
            "2023-06-29 16:47:54,134 epoch 4 - iter 870/878 - loss 0.10379651 - time (sec): 42.24 - samples/sec: 4784.95 - lr: 0.100000\n",
            "2023-06-29 16:47:54,509 ----------------------------------------------------------------------------------------------------\n",
            "2023-06-29 16:47:54,512 EPOCH 4 done: loss 0.1037 - lr 0.100000\n"
          ]
        },
        {
          "output_type": "stream",
          "name": "stderr",
          "text": [
            "100%|██████████| 204/204 [00:11<00:00, 17.73it/s]"
          ]
        },
        {
          "output_type": "stream",
          "name": "stdout",
          "text": [
            "2023-06-29 16:48:06,042 Evaluating as a multi-label problem: False\n"
          ]
        },
        {
          "output_type": "stream",
          "name": "stderr",
          "text": [
            "\n"
          ]
        },
        {
          "output_type": "stream",
          "name": "stdout",
          "text": [
            "2023-06-29 16:48:06,095 DEV : loss 0.06343974173069 - f1-score (micro avg)  0.9027\n",
            "2023-06-29 16:48:06,229 BAD EPOCHS (no improvement): 0\n",
            "2023-06-29 16:48:06,231 saving best model\n",
            "2023-06-29 16:48:12,268 ----------------------------------------------------------------------------------------------------\n",
            "2023-06-29 16:48:16,476 epoch 5 - iter 87/878 - loss 0.09568027 - time (sec): 4.21 - samples/sec: 4809.94 - lr: 0.100000\n",
            "2023-06-29 16:48:20,532 epoch 5 - iter 174/878 - loss 0.09652525 - time (sec): 8.26 - samples/sec: 4805.74 - lr: 0.100000\n",
            "2023-06-29 16:48:24,897 epoch 5 - iter 261/878 - loss 0.09553383 - time (sec): 12.63 - samples/sec: 4688.70 - lr: 0.100000\n",
            "2023-06-29 16:48:29,049 epoch 5 - iter 348/878 - loss 0.09628522 - time (sec): 16.78 - samples/sec: 4718.16 - lr: 0.100000\n",
            "2023-06-29 16:48:33,151 epoch 5 - iter 435/878 - loss 0.09600494 - time (sec): 20.88 - samples/sec: 4757.89 - lr: 0.100000\n",
            "2023-06-29 16:48:37,443 epoch 5 - iter 522/878 - loss 0.09603008 - time (sec): 25.17 - samples/sec: 4755.89 - lr: 0.100000\n",
            "2023-06-29 16:48:41,735 epoch 5 - iter 609/878 - loss 0.09583776 - time (sec): 29.47 - samples/sec: 4760.02 - lr: 0.100000\n",
            "2023-06-29 16:48:45,861 epoch 5 - iter 696/878 - loss 0.09599777 - time (sec): 33.59 - samples/sec: 4787.96 - lr: 0.100000\n",
            "2023-06-29 16:48:50,151 epoch 5 - iter 783/878 - loss 0.09602955 - time (sec): 37.88 - samples/sec: 4794.63 - lr: 0.100000\n",
            "2023-06-29 16:48:54,517 epoch 5 - iter 870/878 - loss 0.09561824 - time (sec): 42.25 - samples/sec: 4776.41 - lr: 0.100000\n",
            "2023-06-29 16:48:54,866 ----------------------------------------------------------------------------------------------------\n",
            "2023-06-29 16:48:54,868 EPOCH 5 done: loss 0.0956 - lr 0.100000\n"
          ]
        },
        {
          "output_type": "stream",
          "name": "stderr",
          "text": [
            "100%|██████████| 204/204 [00:11<00:00, 17.54it/s]\n"
          ]
        },
        {
          "output_type": "stream",
          "name": "stdout",
          "text": [
            "2023-06-29 16:49:06,530 Evaluating as a multi-label problem: False\n",
            "2023-06-29 16:49:06,592 DEV : loss 0.06097985804080963 - f1-score (micro avg)  0.9032\n",
            "2023-06-29 16:49:06,725 BAD EPOCHS (no improvement): 0\n",
            "2023-06-29 16:49:06,727 saving best model\n",
            "2023-06-29 16:49:15,875 ----------------------------------------------------------------------------------------------------\n",
            "2023-06-29 16:49:20,255 epoch 6 - iter 87/878 - loss 0.09348776 - time (sec): 4.38 - samples/sec: 4683.20 - lr: 0.100000\n",
            "2023-06-29 16:49:24,548 epoch 6 - iter 174/878 - loss 0.08858908 - time (sec): 8.67 - samples/sec: 4661.77 - lr: 0.100000\n",
            "2023-06-29 16:49:28,775 epoch 6 - iter 261/878 - loss 0.09125706 - time (sec): 12.90 - samples/sec: 4682.86 - lr: 0.100000\n",
            "2023-06-29 16:49:33,094 epoch 6 - iter 348/878 - loss 0.09122039 - time (sec): 17.22 - samples/sec: 4684.68 - lr: 0.100000\n",
            "2023-06-29 16:49:37,394 epoch 6 - iter 435/878 - loss 0.09054976 - time (sec): 21.52 - samples/sec: 4694.35 - lr: 0.100000\n",
            "2023-06-29 16:49:41,448 epoch 6 - iter 522/878 - loss 0.09016221 - time (sec): 25.57 - samples/sec: 4745.82 - lr: 0.100000\n",
            "2023-06-29 16:49:45,485 epoch 6 - iter 609/878 - loss 0.08924621 - time (sec): 29.61 - samples/sec: 4767.07 - lr: 0.100000\n",
            "2023-06-29 16:49:49,811 epoch 6 - iter 696/878 - loss 0.08847584 - time (sec): 33.93 - samples/sec: 4743.77 - lr: 0.100000\n",
            "2023-06-29 16:49:54,062 epoch 6 - iter 783/878 - loss 0.08808372 - time (sec): 38.19 - samples/sec: 4754.88 - lr: 0.100000\n",
            "2023-06-29 16:49:58,254 epoch 6 - iter 870/878 - loss 0.08843593 - time (sec): 42.38 - samples/sec: 4756.26 - lr: 0.100000\n",
            "2023-06-29 16:49:58,675 ----------------------------------------------------------------------------------------------------\n",
            "2023-06-29 16:49:58,677 EPOCH 6 done: loss 0.0883 - lr 0.100000\n"
          ]
        },
        {
          "output_type": "stream",
          "name": "stderr",
          "text": [
            "100%|██████████| 204/204 [00:11<00:00, 17.40it/s]"
          ]
        },
        {
          "output_type": "stream",
          "name": "stdout",
          "text": [
            "2023-06-29 16:50:10,427 Evaluating as a multi-label problem: False\n",
            "2023-06-29 16:50:10,483 DEV : loss 0.05452214181423187 - f1-score (micro avg)  0.9149\n"
          ]
        },
        {
          "output_type": "stream",
          "name": "stderr",
          "text": [
            "\n"
          ]
        },
        {
          "output_type": "stream",
          "name": "stdout",
          "text": [
            "2023-06-29 16:50:10,623 BAD EPOCHS (no improvement): 0\n",
            "2023-06-29 16:50:10,625 saving best model\n",
            "2023-06-29 16:50:22,699 ----------------------------------------------------------------------------------------------------\n",
            "2023-06-29 16:50:26,825 epoch 7 - iter 87/878 - loss 0.08347022 - time (sec): 4.12 - samples/sec: 4927.93 - lr: 0.100000\n",
            "2023-06-29 16:50:31,136 epoch 7 - iter 174/878 - loss 0.08733728 - time (sec): 8.44 - samples/sec: 4814.38 - lr: 0.100000\n",
            "2023-06-29 16:50:35,325 epoch 7 - iter 261/878 - loss 0.08372395 - time (sec): 12.62 - samples/sec: 4835.37 - lr: 0.100000\n",
            "2023-06-29 16:50:39,239 epoch 7 - iter 348/878 - loss 0.08381976 - time (sec): 16.54 - samples/sec: 4838.70 - lr: 0.100000\n",
            "2023-06-29 16:50:43,401 epoch 7 - iter 435/878 - loss 0.08366681 - time (sec): 20.70 - samples/sec: 4843.24 - lr: 0.100000\n",
            "2023-06-29 16:50:47,659 epoch 7 - iter 522/878 - loss 0.08465320 - time (sec): 24.96 - samples/sec: 4813.59 - lr: 0.100000\n",
            "2023-06-29 16:50:51,808 epoch 7 - iter 609/878 - loss 0.08465105 - time (sec): 29.11 - samples/sec: 4827.70 - lr: 0.100000\n",
            "2023-06-29 16:50:55,970 epoch 7 - iter 696/878 - loss 0.08402907 - time (sec): 33.27 - samples/sec: 4844.58 - lr: 0.100000\n",
            "2023-06-29 16:51:00,307 epoch 7 - iter 783/878 - loss 0.08414448 - time (sec): 37.61 - samples/sec: 4825.11 - lr: 0.100000\n",
            "2023-06-29 16:51:04,495 epoch 7 - iter 870/878 - loss 0.08361222 - time (sec): 41.79 - samples/sec: 4829.97 - lr: 0.100000\n",
            "2023-06-29 16:51:04,870 ----------------------------------------------------------------------------------------------------\n",
            "2023-06-29 16:51:04,871 EPOCH 7 done: loss 0.0834 - lr 0.100000\n"
          ]
        },
        {
          "output_type": "stream",
          "name": "stderr",
          "text": [
            "100%|██████████| 204/204 [00:13<00:00, 14.59it/s]"
          ]
        },
        {
          "output_type": "stream",
          "name": "stdout",
          "text": [
            "2023-06-29 16:51:18,878 Evaluating as a multi-label problem: False\n"
          ]
        },
        {
          "output_type": "stream",
          "name": "stderr",
          "text": [
            "\n"
          ]
        },
        {
          "output_type": "stream",
          "name": "stdout",
          "text": [
            "2023-06-29 16:51:18,931 DEV : loss 0.05870342627167702 - f1-score (micro avg)  0.9118\n",
            "2023-06-29 16:51:19,055 BAD EPOCHS (no improvement): 1\n",
            "2023-06-29 16:51:19,057 ----------------------------------------------------------------------------------------------------\n",
            "2023-06-29 16:51:23,225 epoch 8 - iter 87/878 - loss 0.07180903 - time (sec): 4.17 - samples/sec: 4943.75 - lr: 0.100000\n",
            "2023-06-29 16:51:27,463 epoch 8 - iter 174/878 - loss 0.07927042 - time (sec): 8.41 - samples/sec: 4766.40 - lr: 0.100000\n",
            "2023-06-29 16:51:31,743 epoch 8 - iter 261/878 - loss 0.07948928 - time (sec): 12.69 - samples/sec: 4732.36 - lr: 0.100000\n",
            "2023-06-29 16:51:35,872 epoch 8 - iter 348/878 - loss 0.07982932 - time (sec): 16.81 - samples/sec: 4779.88 - lr: 0.100000\n",
            "2023-06-29 16:51:40,098 epoch 8 - iter 435/878 - loss 0.07858120 - time (sec): 21.04 - samples/sec: 4786.70 - lr: 0.100000\n",
            "2023-06-29 16:51:44,445 epoch 8 - iter 522/878 - loss 0.07925159 - time (sec): 25.39 - samples/sec: 4790.81 - lr: 0.100000\n",
            "2023-06-29 16:51:48,562 epoch 8 - iter 609/878 - loss 0.07877183 - time (sec): 29.50 - samples/sec: 4818.57 - lr: 0.100000\n",
            "2023-06-29 16:51:52,641 epoch 8 - iter 696/878 - loss 0.07843339 - time (sec): 33.58 - samples/sec: 4827.45 - lr: 0.100000\n",
            "2023-06-29 16:51:56,955 epoch 8 - iter 783/878 - loss 0.07812666 - time (sec): 37.90 - samples/sec: 4805.22 - lr: 0.100000\n",
            "2023-06-29 16:52:00,914 epoch 8 - iter 870/878 - loss 0.07849863 - time (sec): 41.86 - samples/sec: 4819.03 - lr: 0.100000\n",
            "2023-06-29 16:52:01,306 ----------------------------------------------------------------------------------------------------\n",
            "2023-06-29 16:52:01,308 EPOCH 8 done: loss 0.0787 - lr 0.100000\n"
          ]
        },
        {
          "output_type": "stream",
          "name": "stderr",
          "text": [
            "100%|██████████| 204/204 [00:11<00:00, 17.67it/s]"
          ]
        },
        {
          "output_type": "stream",
          "name": "stdout",
          "text": [
            "2023-06-29 16:52:12,880 Evaluating as a multi-label problem: False\n",
            "2023-06-29 16:52:12,940 DEV : loss 0.05180167034268379 - f1-score (micro avg)  0.9179\n"
          ]
        },
        {
          "output_type": "stream",
          "name": "stderr",
          "text": [
            "\n"
          ]
        },
        {
          "output_type": "stream",
          "name": "stdout",
          "text": [
            "2023-06-29 16:52:13,065 BAD EPOCHS (no improvement): 0\n",
            "2023-06-29 16:52:13,066 saving best model\n",
            "2023-06-29 16:52:21,922 ----------------------------------------------------------------------------------------------------\n",
            "2023-06-29 16:52:26,220 epoch 9 - iter 87/878 - loss 0.07744649 - time (sec): 4.29 - samples/sec: 4561.04 - lr: 0.100000\n",
            "2023-06-29 16:52:30,320 epoch 9 - iter 174/878 - loss 0.07847508 - time (sec): 8.39 - samples/sec: 4734.78 - lr: 0.100000\n",
            "2023-06-29 16:52:34,414 epoch 9 - iter 261/878 - loss 0.07760400 - time (sec): 12.49 - samples/sec: 4826.29 - lr: 0.100000\n",
            "2023-06-29 16:52:38,706 epoch 9 - iter 348/878 - loss 0.07625810 - time (sec): 16.78 - samples/sec: 4777.90 - lr: 0.100000\n",
            "2023-06-29 16:52:42,859 epoch 9 - iter 435/878 - loss 0.07567306 - time (sec): 20.93 - samples/sec: 4810.01 - lr: 0.100000\n",
            "2023-06-29 16:52:46,950 epoch 9 - iter 522/878 - loss 0.07715594 - time (sec): 25.02 - samples/sec: 4834.02 - lr: 0.100000\n",
            "2023-06-29 16:52:51,393 epoch 9 - iter 609/878 - loss 0.07710479 - time (sec): 29.47 - samples/sec: 4813.18 - lr: 0.100000\n",
            "2023-06-29 16:52:55,724 epoch 9 - iter 696/878 - loss 0.07657285 - time (sec): 33.80 - samples/sec: 4798.94 - lr: 0.100000\n",
            "2023-06-29 16:52:59,841 epoch 9 - iter 783/878 - loss 0.07626255 - time (sec): 37.91 - samples/sec: 4812.80 - lr: 0.100000\n",
            "2023-06-29 16:53:03,816 epoch 9 - iter 870/878 - loss 0.07598249 - time (sec): 41.89 - samples/sec: 4819.86 - lr: 0.100000\n",
            "2023-06-29 16:53:04,213 ----------------------------------------------------------------------------------------------------\n",
            "2023-06-29 16:53:04,215 EPOCH 9 done: loss 0.0761 - lr 0.100000\n"
          ]
        },
        {
          "output_type": "stream",
          "name": "stderr",
          "text": [
            "100%|██████████| 204/204 [00:11<00:00, 17.72it/s]"
          ]
        },
        {
          "output_type": "stream",
          "name": "stdout",
          "text": [
            "2023-06-29 16:53:15,754 Evaluating as a multi-label problem: False\n"
          ]
        },
        {
          "output_type": "stream",
          "name": "stderr",
          "text": [
            "\n"
          ]
        },
        {
          "output_type": "stream",
          "name": "stdout",
          "text": [
            "2023-06-29 16:53:15,808 DEV : loss 0.051853395998477936 - f1-score (micro avg)  0.9169\n",
            "2023-06-29 16:53:15,930 BAD EPOCHS (no improvement): 1\n",
            "2023-06-29 16:53:15,931 ----------------------------------------------------------------------------------------------------\n",
            "2023-06-29 16:53:20,082 epoch 10 - iter 87/878 - loss 0.07432872 - time (sec): 4.15 - samples/sec: 4847.49 - lr: 0.100000\n",
            "2023-06-29 16:53:24,338 epoch 10 - iter 174/878 - loss 0.07476878 - time (sec): 8.41 - samples/sec: 4862.58 - lr: 0.100000\n",
            "2023-06-29 16:53:28,382 epoch 10 - iter 261/878 - loss 0.07371333 - time (sec): 12.45 - samples/sec: 4925.83 - lr: 0.100000\n",
            "2023-06-29 16:53:32,626 epoch 10 - iter 348/878 - loss 0.07532096 - time (sec): 16.69 - samples/sec: 4869.85 - lr: 0.100000\n",
            "2023-06-29 16:53:36,718 epoch 10 - iter 435/878 - loss 0.07409558 - time (sec): 20.79 - samples/sec: 4844.72 - lr: 0.100000\n",
            "2023-06-29 16:53:40,765 epoch 10 - iter 522/878 - loss 0.07452795 - time (sec): 24.83 - samples/sec: 4883.07 - lr: 0.100000\n",
            "2023-06-29 16:53:44,880 epoch 10 - iter 609/878 - loss 0.07462705 - time (sec): 28.95 - samples/sec: 4889.25 - lr: 0.100000\n",
            "2023-06-29 16:53:49,224 epoch 10 - iter 696/878 - loss 0.07559652 - time (sec): 33.29 - samples/sec: 4855.05 - lr: 0.100000\n",
            "2023-06-29 16:53:53,218 epoch 10 - iter 783/878 - loss 0.07514927 - time (sec): 37.29 - samples/sec: 4868.55 - lr: 0.100000\n",
            "2023-06-29 16:53:57,243 epoch 10 - iter 870/878 - loss 0.07451225 - time (sec): 41.31 - samples/sec: 4892.02 - lr: 0.100000\n",
            "2023-06-29 16:53:57,584 ----------------------------------------------------------------------------------------------------\n",
            "2023-06-29 16:53:57,586 EPOCH 10 done: loss 0.0745 - lr 0.100000\n"
          ]
        },
        {
          "output_type": "stream",
          "name": "stderr",
          "text": [
            "100%|██████████| 204/204 [00:11<00:00, 18.17it/s]"
          ]
        },
        {
          "output_type": "stream",
          "name": "stdout",
          "text": [
            "2023-06-29 16:54:08,836 Evaluating as a multi-label problem: False\n",
            "2023-06-29 16:54:08,888 DEV : loss 0.04870393127202988 - f1-score (micro avg)  0.9231\n"
          ]
        },
        {
          "output_type": "stream",
          "name": "stderr",
          "text": [
            "\n"
          ]
        },
        {
          "output_type": "stream",
          "name": "stdout",
          "text": [
            "2023-06-29 16:54:09,012 BAD EPOCHS (no improvement): 0\n",
            "2023-06-29 16:54:09,014 saving best model\n",
            "2023-06-29 16:54:26,286 ----------------------------------------------------------------------------------------------------\n",
            "2023-06-29 16:54:30,655 SequenceTagger predicts: Dictionary with 19 tags: O, S-LOC, B-LOC, E-LOC, I-LOC, S-PER, B-PER, E-PER, I-PER, S-ORG, B-ORG, E-ORG, I-ORG, S-MISC, B-MISC, E-MISC, I-MISC, <START>, <STOP>\n"
          ]
        },
        {
          "output_type": "stream",
          "name": "stderr",
          "text": [
            "100%|██████████| 216/216 [00:36<00:00,  5.90it/s]"
          ]
        },
        {
          "output_type": "stream",
          "name": "stdout",
          "text": [
            "2023-06-29 16:55:07,673 Evaluating as a multi-label problem: False\n",
            "2023-06-29 16:55:07,722 0.8892\t0.8814\t0.8853\t0.8288\n",
            "2023-06-29 16:55:07,724 \n",
            "Results:\n",
            "- F-score (micro) 0.8853\n",
            "- F-score (macro) 0.8679\n",
            "- Accuracy 0.8288\n",
            "\n",
            "By class:\n",
            "              precision    recall  f1-score   support\n",
            "\n",
            "         LOC     0.8884    0.9119    0.9000      1668\n",
            "         ORG     0.8687    0.8447    0.8565      1661\n",
            "         PER     0.9639    0.9419    0.9528      1617\n",
            "        MISC     0.7685    0.7564    0.7624       702\n",
            "\n",
            "   micro avg     0.8892    0.8814    0.8853      5648\n",
            "   macro avg     0.8724    0.8637    0.8679      5648\n",
            "weighted avg     0.8893    0.8814    0.8852      5648\n",
            "\n",
            "2023-06-29 16:55:07,725 ----------------------------------------------------------------------------------------------------\n"
          ]
        },
        {
          "output_type": "stream",
          "name": "stderr",
          "text": [
            "\n"
          ]
        }
      ]
    }
  ]
}